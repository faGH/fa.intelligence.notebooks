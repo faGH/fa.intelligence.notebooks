{
 "cells": [
  {
   "cell_type": "markdown",
   "metadata": {},
   "source": [
    "# Parse Binance Market DataLoad downloaded market data from a given directory into a usable dataframe."
   ]
  },
  {
   "cell_type": "markdown",
   "metadata": {},
   "source": [
    "#### Fetch Latest Market Data"
   ]
  },
  {
   "cell_type": "code",
   "execution_count": 208,
   "metadata": {},
   "outputs": [
    {
     "name": "stdout",
     "output_type": "stream",
     "text": [
      "\n",
      "\u001b[1B2021-10-10 15:10:39,358 - freqtrade.configuration.configuration - INFO - Using config: user_data/config.json ...\n",
      "2021-10-10 15:10:39,362 - freqtrade.loggers - INFO - Verbosity set to 0\n",
      "2021-10-10 15:10:39,363 - freqtrade.configuration.configuration - INFO - Using exchange binance\n",
      "2021-10-10 15:10:39,622 - freqtrade.configuration.configuration - INFO - Using user-data directory: /freqtrade/user_data ...\n",
      "2021-10-10 15:10:39,623 - freqtrade.configuration.configuration - INFO - Using data directory: /freqtrade/user_data/data/binance ...\n",
      "2021-10-10 15:10:39,623 - freqtrade.configuration.configuration - INFO - timeframes --timeframes: ['1h']\n",
      "2021-10-10 15:10:39,623 - freqtrade.configuration.configuration - INFO - Detected --days: 1000\n",
      "2021-10-10 15:10:39,623 - freqtrade.configuration.check_exchange - INFO - Checking exchange...\n",
      "2021-10-10 15:10:39,632 - freqtrade.configuration.check_exchange - INFO - Exchange \"binance\" is officially supported by the Freqtrade development team.\n",
      "2021-10-10 15:10:39,632 - freqtrade.configuration.configuration - INFO - Using pairlist from configuration.\n",
      "2021-10-10 15:10:39,632 - freqtrade.configuration.deprecated_settings - WARNING - DEPRECATED: The `ask_strategy.use_sell_signal` setting is deprecated and will be removed in the next versions of Freqtrade. Please use the `use_sell_signal` setting in your configuration instead.\n",
      "2021-10-10 15:10:39,632 - freqtrade.configuration.deprecated_settings - WARNING - DEPRECATED: The `ask_strategy.sell_profit_only` setting is deprecated and will be removed in the next versions of Freqtrade. Please use the `sell_profit_only` setting in your configuration instead.\n",
      "2021-10-10 15:10:39,632 - freqtrade.configuration.deprecated_settings - WARNING - DEPRECATED: The `ask_strategy.ignore_roi_if_buy_signal` setting is deprecated and will be removed in the next versions of Freqtrade. Please use the `ignore_roi_if_buy_signal` setting in your configuration instead.\n",
      "2021-10-10 15:10:39,632 - freqtrade.configuration.config_validation - INFO - Validating configuration ...\n",
      "2021-10-10 15:10:39,634 - freqtrade.exchange.exchange - INFO - Instance is running with dry_run enabled\n",
      "2021-10-10 15:10:39,634 - freqtrade.exchange.exchange - INFO - Using CCXT 1.55.28\n",
      "2021-10-10 15:10:39,634 - freqtrade.exchange.exchange - INFO - Applying additional ccxt config: {'enableRateLimit': True}\n",
      "2021-10-10 15:10:39,638 - freqtrade.exchange.exchange - INFO - Applying additional ccxt config: {'enableRateLimit': False}\n",
      "2021-10-10 15:10:39,643 - freqtrade.exchange.exchange - INFO - Using Exchange \"Binance\"\n",
      "2021-10-10 15:10:39,643 - freqtrade.resolvers.exchange_resolver - INFO - Using resolved exchange 'Binance'...\n",
      "2021-10-10 15:10:39,643 - freqtrade.exchange.exchange - INFO - Markets were not loaded. Loading them now..\n",
      "2021-10-10 15:10:44,532 - freqtrade.commands.data_commands - INFO - About to download pairs: ['SAND/BTC', 'MANA/BTC', 'BQX/BTC', 'ALGO/BTC', 'IRIS/BTC', 'THETA/BTC', 'XRP/BTC', 'UNFI/BTC', 'AXS/BTC', 'GLM/BTC', 'BNB/BTC', 'BAT/BTC', 'BOT/BTC', 'OMG/BTC', 'FIL/BTC', 'ICX/BTC', 'STRAX/BTC', 'SXP/BTC', 'XMR/BTC', 'BRD/BTC', 'XEM/BTC', 'IOTA/BTC', 'FET/BTC', 'LTO/BTC', 'SYS/BTC', 'GRT/BTC', 'DNT/BTC', 'SUSHI/BTC', 'BCH/BTC', 'EOS/BTC', 'ATOM/BTC', 'AAVE/BTC', 'COTI/BTC', 'LTC/BTC', 'SOL/BTC', 'XTZ/BTC', 'SRM/BTC', 'HBAR/BTC', 'ROSE/BTC', 'TFUEL/BTC', 'AKRO/BTC', 'ONT/BTC', 'ZIL/BTC', 'VET/BTC', 'TRX/BTC', 'MATIC/BTC', 'CELO/BTC', 'STPT/BTC', 'DOGE/BTC', 'SC/BTC', 'NANO/BTC'], intervals: ['1h'] to /freqtrade/user_data/data/binance\n",
      "2021-10-10 15:10:44,534 - freqtrade.data.history.history_utils - INFO - Downloading pair SAND/BTC, interval 1h.\n",
      "2021-10-10 15:10:44,534 - freqtrade.data.history.history_utils - INFO - Download history data for pair: \"SAND/BTC\" (1/51), timeframe: 1h and store in /freqtrade/user_data/data/binance.\n",
      "2021-10-10 15:10:46,998 - freqtrade.exchange.exchange - INFO - Downloaded data for SAND/BTC with length 10113.\n",
      "2021-10-10 15:10:47,047 - freqtrade.data.history.history_utils - INFO - Downloading pair MANA/BTC, interval 1h.\n",
      "2021-10-10 15:10:47,047 - freqtrade.data.history.history_utils - INFO - Download history data for pair: \"MANA/BTC\" (2/51), timeframe: 1h and store in /freqtrade/user_data/data/binance.\n",
      "2021-10-10 15:10:47,725 - freqtrade.exchange.exchange - INFO - Downloaded data for MANA/BTC with length 4.\n",
      "2021-10-10 15:10:47,820 - freqtrade.data.history.history_utils - INFO - Downloading pair BQX/BTC, interval 1h.\n",
      "2021-10-10 15:10:47,820 - freqtrade.data.history.history_utils - INFO - Download history data for pair: \"BQX/BTC\" (3/51), timeframe: 1h and store in /freqtrade/user_data/data/binance.\n",
      "2021-10-10 15:10:48,449 - freqtrade.exchange.exchange - INFO - Downloaded data for BQX/BTC with length 3.\n",
      "2021-10-10 15:10:48,540 - freqtrade.data.history.history_utils - INFO - Downloading pair ALGO/BTC, interval 1h.\n",
      "2021-10-10 15:10:48,541 - freqtrade.data.history.history_utils - INFO - Download history data for pair: \"ALGO/BTC\" (4/51), timeframe: 1h and store in /freqtrade/user_data/data/binance.\n",
      "2021-10-10 15:10:49,665 - freqtrade.exchange.exchange - INFO - Downloaded data for ALGO/BTC with length 20158.\n",
      "2021-10-10 15:10:49,721 - freqtrade.data.history.history_utils - INFO - Downloading pair IRIS/BTC, interval 1h.\n",
      "2021-10-10 15:10:49,721 - freqtrade.data.history.history_utils - INFO - Download history data for pair: \"IRIS/BTC\" (5/51), timeframe: 1h and store in /freqtrade/user_data/data/binance.\n",
      "2021-10-10 15:10:50,557 - freqtrade.exchange.exchange - INFO - Downloaded data for IRIS/BTC with length 10689.\n",
      "2021-10-10 15:10:50,593 - freqtrade.data.history.history_utils - INFO - Downloading pair THETA/BTC, interval 1h.\n",
      "2021-10-10 15:10:50,593 - freqtrade.data.history.history_utils - INFO - Download history data for pair: \"THETA/BTC\" (6/51), timeframe: 1h and store in /freqtrade/user_data/data/binance.\n",
      "2021-10-10 15:10:51,241 - freqtrade.exchange.exchange - INFO - Downloaded data for THETA/BTC with length 4.\n",
      "2021-10-10 15:10:51,319 - freqtrade.data.history.history_utils - INFO - Downloading pair XRP/BTC, interval 1h.\n",
      "2021-10-10 15:10:51,319 - freqtrade.data.history.history_utils - INFO - Download history data for pair: \"XRP/BTC\" (7/51), timeframe: 1h and store in /freqtrade/user_data/data/binance.\n",
      "2021-10-10 15:10:52,149 - freqtrade.exchange.exchange - INFO - Downloaded data for XRP/BTC with length 4.\n",
      "2021-10-10 15:10:52,243 - freqtrade.data.history.history_utils - INFO - Downloading pair UNFI/BTC, interval 1h.\n",
      "2021-10-10 15:10:52,243 - freqtrade.data.history.history_utils - INFO - Download history data for pair: \"UNFI/BTC\" (8/51), timeframe: 1h and store in /freqtrade/user_data/data/binance.\n",
      "2021-10-10 15:10:53,129 - freqtrade.exchange.exchange - INFO - Downloaded data for UNFI/BTC with length 7792.\n",
      "2021-10-10 15:10:53,160 - freqtrade.data.history.history_utils - INFO - Downloading pair AXS/BTC, interval 1h.\n",
      "2021-10-10 15:10:53,160 - freqtrade.data.history.history_utils - INFO - Download history data for pair: \"AXS/BTC\" (9/51), timeframe: 1h and store in /freqtrade/user_data/data/binance.\n",
      "2021-10-10 15:10:53,978 - freqtrade.exchange.exchange - INFO - Downloaded data for AXS/BTC with length 8145.\n",
      "2021-10-10 15:10:54,007 - freqtrade.data.history.history_utils - INFO - Downloading pair GLM/BTC, interval 1h.\n",
      "2021-10-10 15:10:54,007 - freqtrade.data.history.history_utils - INFO - Download history data for pair: \"GLM/BTC\" (10/51), timeframe: 1h and store in /freqtrade/user_data/data/binance.\n",
      "2021-10-10 15:10:55,239 - freqtrade.exchange.exchange - INFO - Downloaded data for GLM/BTC with length 7291.\n",
      "2021-10-10 15:10:55,300 - freqtrade.data.history.history_utils - INFO - Downloading pair BNB/BTC, interval 1h.\n",
      "2021-10-10 15:10:55,300 - freqtrade.data.history.history_utils - INFO - Download history data for pair: \"BNB/BTC\" (11/51), timeframe: 1h and store in /freqtrade/user_data/data/binance.\n",
      "2021-10-10 15:10:55,980 - freqtrade.exchange.exchange - INFO - Downloaded data for BNB/BTC with length 4.\n",
      "2021-10-10 15:10:56,074 - freqtrade.data.history.history_utils - INFO - Downloading pair BAT/BTC, interval 1h.\n",
      "2021-10-10 15:10:56,075 - freqtrade.data.history.history_utils - INFO - Download history data for pair: \"BAT/BTC\" (12/51), timeframe: 1h and store in /freqtrade/user_data/data/binance.\n",
      "2021-10-10 15:10:56,707 - freqtrade.exchange.exchange - INFO - Downloaded data for BAT/BTC with length 4.\n",
      "2021-10-10 15:10:56,801 - freqtrade.data.history.history_utils - INFO - Downloading pair BOT/BTC, interval 1h.\n",
      "2021-10-10 15:10:56,801 - freqtrade.data.history.history_utils - INFO - Download history data for pair: \"BOT/BTC\" (13/51), timeframe: 1h and store in /freqtrade/user_data/data/binance.\n",
      "2021-10-10 15:10:57,586 - freqtrade.exchange.exchange - INFO - Downloaded data for BOT/BTC with length 2752.\n",
      "2021-10-10 15:10:57,623 - freqtrade.data.history.history_utils - INFO - Downloading pair OMG/BTC, interval 1h.\n",
      "2021-10-10 15:10:57,624 - freqtrade.data.history.history_utils - INFO - Download history data for pair: \"OMG/BTC\" (14/51), timeframe: 1h and store in /freqtrade/user_data/data/binance.\n",
      "2021-10-10 15:10:58,272 - freqtrade.exchange.exchange - INFO - Downloaded data for OMG/BTC with length 4.\n",
      "2021-10-10 15:10:58,369 - freqtrade.data.history.history_utils - INFO - Downloading pair FIL/BTC, interval 1h.\n",
      "2021-10-10 15:10:58,369 - freqtrade.data.history.history_utils - INFO - Download history data for pair: \"FIL/BTC\" (15/51), timeframe: 1h and store in /freqtrade/user_data/data/binance.\n",
      "2021-10-10 15:10:59,206 - freqtrade.exchange.exchange - INFO - Downloaded data for FIL/BTC with length 8621.\n",
      "2021-10-10 15:10:59,236 - freqtrade.data.history.history_utils - INFO - Downloading pair ICX/BTC, interval 1h.\n",
      "2021-10-10 15:10:59,237 - freqtrade.data.history.history_utils - INFO - Download history data for pair: \"ICX/BTC\" (16/51), timeframe: 1h and store in /freqtrade/user_data/data/binance.\n",
      "2021-10-10 15:10:59,917 - freqtrade.exchange.exchange - INFO - Downloaded data for ICX/BTC with length 4.\n",
      "2021-10-10 15:11:00,005 - freqtrade.data.history.history_utils - INFO - Downloading pair STRAX/BTC, interval 1h.\n",
      "2021-10-10 15:11:00,005 - freqtrade.data.history.history_utils - INFO - Download history data for pair: \"STRAX/BTC\" (17/51), timeframe: 1h and store in /freqtrade/user_data/data/binance.\n",
      "2021-10-10 15:11:01,218 - freqtrade.exchange.exchange - INFO - Downloaded data for STRAX/BTC with length 7819.\n",
      "2021-10-10 15:11:01,268 - freqtrade.data.history.history_utils - INFO - Downloading pair SXP/BTC, interval 1h.\n",
      "2021-10-10 15:11:01,268 - freqtrade.data.history.history_utils - INFO - Download history data for pair: \"SXP/BTC\" (18/51), timeframe: 1h and store in /freqtrade/user_data/data/binance.\n",
      "2021-10-10 15:11:02,398 - freqtrade.exchange.exchange - INFO - Downloaded data for SXP/BTC with length 11024.\n",
      "2021-10-10 15:11:02,456 - freqtrade.data.history.history_utils - INFO - Downloading pair XMR/BTC, interval 1h.\n",
      "2021-10-10 15:11:02,456 - freqtrade.data.history.history_utils - INFO - Download history data for pair: \"XMR/BTC\" (19/51), timeframe: 1h and store in /freqtrade/user_data/data/binance.\n",
      "2021-10-10 15:11:03,089 - freqtrade.exchange.exchange - INFO - Downloaded data for XMR/BTC with length 4.\n",
      "2021-10-10 15:11:03,187 - freqtrade.data.history.history_utils - INFO - Downloading pair BRD/BTC, interval 1h.\n",
      "2021-10-10 15:11:03,188 - freqtrade.data.history.history_utils - INFO - Download history data for pair: \"BRD/BTC\" (20/51), timeframe: 1h and store in /freqtrade/user_data/data/binance.\n",
      "2021-10-10 15:11:04,066 - freqtrade.exchange.exchange - INFO - Downloaded data for BRD/BTC with length 4.\n",
      "2021-10-10 15:11:04,162 - freqtrade.data.history.history_utils - INFO - Downloading pair XEM/BTC, interval 1h.\n",
      "2021-10-10 15:11:04,162 - freqtrade.data.history.history_utils - INFO - Download history data for pair: \"XEM/BTC\" (21/51), timeframe: 1h and store in /freqtrade/user_data/data/binance.\n",
      "2021-10-10 15:11:04,830 - freqtrade.exchange.exchange - INFO - Downloaded data for XEM/BTC with length 4.\n",
      "2021-10-10 15:11:04,925 - freqtrade.data.history.history_utils - INFO - Downloading pair IOTA/BTC, interval 1h.\n",
      "2021-10-10 15:11:04,925 - freqtrade.data.history.history_utils - INFO - Download history data for pair: \"IOTA/BTC\" (22/51), timeframe: 1h and store in /freqtrade/user_data/data/binance.\n",
      "2021-10-10 15:11:05,557 - freqtrade.exchange.exchange - INFO - Downloaded data for IOTA/BTC with length 4.\n",
      "2021-10-10 15:11:05,653 - freqtrade.data.history.history_utils - INFO - Downloading pair FET/BTC, interval 1h.\n",
      "2021-10-10 15:11:05,654 - freqtrade.data.history.history_utils - INFO - Download history data for pair: \"FET/BTC\" (23/51), timeframe: 1h and store in /freqtrade/user_data/data/binance.\n",
      "2021-10-10 15:11:06,911 - freqtrade.exchange.exchange - INFO - Downloaded data for FET/BTC with length 22868.\n",
      "2021-10-10 15:11:06,988 - freqtrade.data.history.history_utils - INFO - Downloading pair LTO/BTC, interval 1h.\n",
      "2021-10-10 15:11:06,988 - freqtrade.data.history.history_utils - INFO - Download history data for pair: \"LTO/BTC\" (24/51), timeframe: 1h and store in /freqtrade/user_data/data/binance.\n",
      "2021-10-10 15:11:08,432 - freqtrade.exchange.exchange - INFO - Downloaded data for LTO/BTC with length 14636.\n",
      "2021-10-10 15:11:08,503 - freqtrade.data.history.history_utils - INFO - Downloading pair SYS/BTC, interval 1h.\n",
      "2021-10-10 15:11:08,503 - freqtrade.data.history.history_utils - INFO - Download history data for pair: \"SYS/BTC\" (25/51), timeframe: 1h and store in /freqtrade/user_data/data/binance.\n",
      "2021-10-10 15:11:09,638 - freqtrade.exchange.exchange - INFO - Downloaded data for SYS/BTC with length 4.\n",
      "2021-10-10 15:11:09,732 - freqtrade.data.history.history_utils - INFO - Downloading pair GRT/BTC, interval 1h.\n",
      "2021-10-10 15:11:09,732 - freqtrade.data.history.history_utils - INFO - Download history data for pair: \"GRT/BTC\" (26/51), timeframe: 1h and store in /freqtrade/user_data/data/binance.\n",
      "2021-10-10 15:11:10,582 - freqtrade.exchange.exchange - INFO - Downloaded data for GRT/BTC with length 7107.\n",
      "2021-10-10 15:11:10,610 - freqtrade.data.history.history_utils - INFO - Downloading pair DNT/BTC, interval 1h.\n",
      "2021-10-10 15:11:10,610 - freqtrade.data.history.history_utils - INFO - Download history data for pair: \"DNT/BTC\" (27/51), timeframe: 1h and store in /freqtrade/user_data/data/binance.\n",
      "2021-10-10 15:11:11,244 - freqtrade.exchange.exchange - INFO - Downloaded data for DNT/BTC with length 4.\n",
      "2021-10-10 15:11:11,338 - freqtrade.data.history.history_utils - INFO - Downloading pair SUSHI/BTC, interval 1h.\n",
      "2021-10-10 15:11:11,338 - freqtrade.data.history.history_utils - INFO - Download history data for pair: \"SUSHI/BTC\" (28/51), timeframe: 1h and store in /freqtrade/user_data/data/binance.\n",
      "2021-10-10 15:11:12,639 - freqtrade.exchange.exchange - INFO - Downloaded data for SUSHI/BTC with length 9683.\n",
      "2021-10-10 15:11:12,703 - freqtrade.data.history.history_utils - INFO - Downloading pair BCH/BTC, interval 1h.\n",
      "2021-10-10 15:11:12,703 - freqtrade.data.history.history_utils - INFO - Download history data for pair: \"BCH/BTC\" (29/51), timeframe: 1h and store in /freqtrade/user_data/data/binance.\n",
      "2021-10-10 15:11:13,740 - freqtrade.exchange.exchange - INFO - Downloaded data for BCH/BTC with length 16344.\n",
      "2021-10-10 15:11:13,792 - freqtrade.data.history.history_utils - INFO - Downloading pair EOS/BTC, interval 1h.\n",
      "2021-10-10 15:11:13,793 - freqtrade.data.history.history_utils - INFO - Download history data for pair: \"EOS/BTC\" (30/51), timeframe: 1h and store in /freqtrade/user_data/data/binance.\n",
      "2021-10-10 15:11:14,450 - freqtrade.exchange.exchange - INFO - Downloaded data for EOS/BTC with length 4.\n",
      "2021-10-10 15:11:14,546 - freqtrade.data.history.history_utils - INFO - Downloading pair ATOM/BTC, interval 1h.\n",
      "2021-10-10 15:11:14,546 - freqtrade.data.history.history_utils - INFO - Download history data for pair: \"ATOM/BTC\" (31/51), timeframe: 1h and store in /freqtrade/user_data/data/binance.\n",
      "2021-10-10 15:11:15,697 - freqtrade.exchange.exchange - INFO - Downloaded data for ATOM/BTC with length 21440.\n",
      "2021-10-10 15:11:15,776 - freqtrade.data.history.history_utils - INFO - Downloading pair AAVE/BTC, interval 1h.\n",
      "2021-10-10 15:11:15,776 - freqtrade.data.history.history_utils - INFO - Download history data for pair: \"AAVE/BTC\" (32/51), timeframe: 1h and store in /freqtrade/user_data/data/binance.\n",
      "2021-10-10 15:11:16,896 - freqtrade.exchange.exchange - INFO - Downloaded data for AAVE/BTC with length 8635.\n",
      "2021-10-10 15:11:16,947 - freqtrade.data.history.history_utils - INFO - Downloading pair COTI/BTC, interval 1h.\n",
      "2021-10-10 15:11:16,947 - freqtrade.data.history.history_utils - INFO - Download history data for pair: \"COTI/BTC\" (33/51), timeframe: 1h and store in /freqtrade/user_data/data/binance.\n",
      "2021-10-10 15:11:18,046 - freqtrade.exchange.exchange - INFO - Downloaded data for COTI/BTC with length 14186.\n",
      "2021-10-10 15:11:18,090 - freqtrade.data.history.history_utils - INFO - Downloading pair LTC/BTC, interval 1h.\n",
      "2021-10-10 15:11:18,090 - freqtrade.data.history.history_utils - INFO - Download history data for pair: \"LTC/BTC\" (34/51), timeframe: 1h and store in /freqtrade/user_data/data/binance.\n",
      "2021-10-10 15:11:18,921 - freqtrade.exchange.exchange - INFO - Downloaded data for LTC/BTC with length 4.\n",
      "2021-10-10 15:11:19,013 - freqtrade.data.history.history_utils - INFO - Downloading pair SOL/BTC, interval 1h.\n",
      "2021-10-10 15:11:19,013 - freqtrade.data.history.history_utils - INFO - Download history data for pair: \"SOL/BTC\" (35/51), timeframe: 1h and store in /freqtrade/user_data/data/binance.\n",
      "2021-10-10 15:11:20,448 - freqtrade.exchange.exchange - INFO - Downloaded data for SOL/BTC with length 13141.\n",
      "2021-10-10 15:11:20,513 - freqtrade.data.history.history_utils - INFO - Downloading pair XTZ/BTC, interval 1h.\n",
      "2021-10-10 15:11:20,513 - freqtrade.data.history.history_utils - INFO - Download history data for pair: \"XTZ/BTC\" (36/51), timeframe: 1h and store in /freqtrade/user_data/data/binance.\n",
      "2021-10-10 15:11:21,840 - freqtrade.exchange.exchange - INFO - Downloaded data for XTZ/BTC with length 17899.\n",
      "2021-10-10 15:11:21,917 - freqtrade.data.history.history_utils - INFO - Downloading pair SRM/BTC, interval 1h.\n",
      "2021-10-10 15:11:21,917 - freqtrade.data.history.history_utils - INFO - Download history data for pair: \"SRM/BTC\" (37/51), timeframe: 1h and store in /freqtrade/user_data/data/binance.\n",
      "2021-10-10 15:11:23,001 - freqtrade.exchange.exchange - INFO - Downloaded data for SRM/BTC with length 10185.\n",
      "2021-10-10 15:11:23,056 - freqtrade.data.history.history_utils - INFO - Downloading pair HBAR/BTC, interval 1h.\n",
      "2021-10-10 15:11:23,056 - freqtrade.data.history.history_utils - INFO - Download history data for pair: \"HBAR/BTC\" (38/51), timeframe: 1h and store in /freqtrade/user_data/data/binance.\n",
      "2021-10-10 15:11:24,452 - freqtrade.exchange.exchange - INFO - Downloaded data for HBAR/BTC with length 17786.\n",
      "2021-10-10 15:11:24,527 - freqtrade.data.history.history_utils - INFO - Downloading pair ROSE/BTC, interval 1h.\n",
      "2021-10-10 15:11:24,527 - freqtrade.data.history.history_utils - INFO - Download history data for pair: \"ROSE/BTC\" (39/51), timeframe: 1h and store in /freqtrade/user_data/data/binance.\n",
      "2021-10-10 15:11:25,573 - freqtrade.exchange.exchange - INFO - Downloaded data for ROSE/BTC with length 7790.\n",
      "2021-10-10 15:11:25,635 - freqtrade.data.history.history_utils - INFO - Downloading pair TFUEL/BTC, interval 1h.\n",
      "2021-10-10 15:11:25,635 - freqtrade.data.history.history_utils - INFO - Download history data for pair: \"TFUEL/BTC\" (40/51), timeframe: 1h and store in /freqtrade/user_data/data/binance.\n",
      "2021-10-10 15:11:26,852 - freqtrade.exchange.exchange - INFO - Downloaded data for TFUEL/BTC with length 20844.\n",
      "2021-10-10 15:11:26,930 - freqtrade.data.history.history_utils - INFO - Downloading pair AKRO/BTC, interval 1h.\n",
      "2021-10-10 15:11:26,930 - freqtrade.data.history.history_utils - INFO - Download history data for pair: \"AKRO/BTC\" (41/51), timeframe: 1h and store in /freqtrade/user_data/data/binance.\n",
      "2021-10-10 15:11:28,177 - freqtrade.exchange.exchange - INFO - Downloaded data for AKRO/BTC with length 8199.\n",
      "2021-10-10 15:11:28,225 - freqtrade.data.history.history_utils - INFO - Downloading pair ONT/BTC, interval 1h.\n",
      "2021-10-10 15:11:28,225 - freqtrade.data.history.history_utils - INFO - Download history data for pair: \"ONT/BTC\" (42/51), timeframe: 1h and store in /freqtrade/user_data/data/binance.\n",
      "2021-10-10 15:11:29,254 - freqtrade.exchange.exchange - INFO - Downloaded data for ONT/BTC with length 4.\n",
      "2021-10-10 15:11:29,350 - freqtrade.data.history.history_utils - INFO - Downloading pair ZIL/BTC, interval 1h.\n",
      "2021-10-10 15:11:29,350 - freqtrade.data.history.history_utils - INFO - Download history data for pair: \"ZIL/BTC\" (43/51), timeframe: 1h and store in /freqtrade/user_data/data/binance.\n",
      "2021-10-10 15:11:29,978 - freqtrade.exchange.exchange - INFO - Downloaded data for ZIL/BTC with length 4.\n",
      "2021-10-10 15:11:30,071 - freqtrade.data.history.history_utils - INFO - Downloading pair VET/BTC, interval 1h.\n",
      "2021-10-10 15:11:30,071 - freqtrade.data.history.history_utils - INFO - Download history data for pair: \"VET/BTC\" (44/51), timeframe: 1h and store in /freqtrade/user_data/data/binance.\n",
      "2021-10-10 15:11:30,948 - freqtrade.exchange.exchange - INFO - Downloaded data for VET/BTC with length 4.\n",
      "2021-10-10 15:11:31,050 - freqtrade.data.history.history_utils - INFO - Downloading pair TRX/BTC, interval 1h.\n",
      "2021-10-10 15:11:31,050 - freqtrade.data.history.history_utils - INFO - Download history data for pair: \"TRX/BTC\" (45/51), timeframe: 1h and store in /freqtrade/user_data/data/binance.\n",
      "2021-10-10 15:11:31,962 - freqtrade.exchange.exchange - INFO - Downloaded data for TRX/BTC with length 4.\n",
      "2021-10-10 15:11:32,057 - freqtrade.data.history.history_utils - INFO - Downloading pair MATIC/BTC, interval 1h.\n",
      "2021-10-10 15:11:32,057 - freqtrade.data.history.history_utils - INFO - Download history data for pair: \"MATIC/BTC\" (46/51), timeframe: 1h and store in /freqtrade/user_data/data/binance.\n",
      "2021-10-10 15:11:33,054 - freqtrade.exchange.exchange - INFO - Downloaded data for MATIC/BTC with length 21501.\n",
      "2021-10-10 15:11:33,107 - freqtrade.data.history.history_utils - INFO - Downloading pair CELO/BTC, interval 1h.\n",
      "2021-10-10 15:11:33,107 - freqtrade.data.history.history_utils - INFO - Download history data for pair: \"CELO/BTC\" (47/51), timeframe: 1h and store in /freqtrade/user_data/data/binance.\n",
      "2021-10-10 15:11:34,422 - freqtrade.exchange.exchange - INFO - Downloaded data for CELO/BTC with length 6667.\n",
      "2021-10-10 15:11:34,482 - freqtrade.data.history.history_utils - INFO - Downloading pair STPT/BTC, interval 1h.\n",
      "2021-10-10 15:11:34,482 - freqtrade.data.history.history_utils - INFO - Download history data for pair: \"STPT/BTC\" (48/51), timeframe: 1h and store in /freqtrade/user_data/data/binance.\n",
      "2021-10-10 15:11:36,382 - freqtrade.exchange.exchange - INFO - Downloaded data for STPT/BTC with length 13515.\n",
      "2021-10-10 15:11:36,446 - freqtrade.data.history.history_utils - INFO - Downloading pair DOGE/BTC, interval 1h.\n",
      "2021-10-10 15:11:36,446 - freqtrade.data.history.history_utils - INFO - Download history data for pair: \"DOGE/BTC\" (49/51), timeframe: 1h and store in /freqtrade/user_data/data/binance.\n",
      "2021-10-10 15:11:37,628 - freqtrade.exchange.exchange - INFO - Downloaded data for DOGE/BTC with length 19834.\n",
      "2021-10-10 15:11:37,707 - freqtrade.data.history.history_utils - INFO - Downloading pair SC/BTC, interval 1h.\n",
      "2021-10-10 15:11:37,707 - freqtrade.data.history.history_utils - INFO - Download history data for pair: \"SC/BTC\" (50/51), timeframe: 1h and store in /freqtrade/user_data/data/binance.\n",
      "2021-10-10 15:11:38,337 - freqtrade.exchange.exchange - INFO - Downloaded data for SC/BTC with length 4.\n",
      "2021-10-10 15:11:38,436 - freqtrade.data.history.history_utils - INFO - Downloading pair NANO/BTC, interval 1h.\n",
      "2021-10-10 15:11:38,436 - freqtrade.data.history.history_utils - INFO - Download history data for pair: \"NANO/BTC\" (51/51), timeframe: 1h and store in /freqtrade/user_data/data/binance.\n",
      "2021-10-10 15:11:39,063 - freqtrade.exchange.exchange - INFO - Downloaded data for NANO/BTC with length 4.\n"
     ]
    }
   ],
   "source": [
    "!docker-compose -f /Users/deanmartin/Source/fa.services.plutus/docker-compose.yml run --rm freqtrade download-data --exchange binance --days 1000 -t 1h"
   ]
  },
  {
   "cell_type": "markdown",
   "metadata": {},
   "source": [
    "#### Install & Import Dependencies"
   ]
  },
  {
   "cell_type": "code",
   "execution_count": 209,
   "metadata": {},
   "outputs": [],
   "source": [
    "#brew install ta-lib"
   ]
  },
  {
   "cell_type": "code",
   "execution_count": 210,
   "metadata": {},
   "outputs": [
    {
     "name": "stdout",
     "output_type": "stream",
     "text": [
      "Requirement already satisfied: TA-Lib in /Users/deanmartin/miniforge3/envs/tensorflow-apple-metal/lib/python3.9/site-packages (0.4.21)\n",
      "Requirement already satisfied: numpy in /Users/deanmartin/miniforge3/envs/tensorflow-apple-metal/lib/python3.9/site-packages (from TA-Lib) (1.19.5)\n"
     ]
    }
   ],
   "source": [
    "!pip install -U TA-Lib"
   ]
  },
  {
   "cell_type": "code",
   "execution_count": 211,
   "metadata": {},
   "outputs": [],
   "source": [
    "\n",
    "from os import listdir\n",
    "from os.path import isfile, join\n",
    "import pandas as pd\n",
    "import numpy as np\n",
    "import talib\n",
    "from talib import MA_Type\n",
    "from talib import RSI, BBANDS\n",
    "import pickle"
   ]
  },
  {
   "cell_type": "markdown",
   "metadata": {},
   "source": [
    "#### Functions to Assist with Data Parsing"
   ]
  },
  {
   "cell_type": "code",
   "execution_count": 212,
   "metadata": {},
   "outputs": [],
   "source": [
    "def get_pair_name(path):\n",
    "    pair_name = (path\n",
    "                    .split('/')[-1]\n",
    "                    .split('.json')[0]\n",
    "                    .split('-')[0])\n",
    "    \n",
    "    return pair_name\n",
    "\n",
    "def load_path_data(path):\n",
    "    df = pd.read_json(path)\n",
    "    df.columns = ['time', 'open', 'high', 'low', 'close', 'volume']\n",
    "    df['time'] = pd.to_datetime(df['time'], unit='ms')\n",
    "    \n",
    "    return df"
   ]
  },
  {
   "cell_type": "markdown",
   "metadata": {},
   "source": [
    "#### Load & Parse Files"
   ]
  },
  {
   "cell_type": "code",
   "execution_count": 213,
   "metadata": {},
   "outputs": [],
   "source": [
    "data_relative_path = '/Users/deanmartin/Source/fa.services.plutus/user_data/data/binance'\n",
    "market_file_names = [ f for f in listdir(data_relative_path) if (isfile(join(data_relative_path, f)) and '.json' in f) ]\n",
    "market_file_paths = np.array([f'{data_relative_path}/{f}' for f in market_file_names ])\n",
    "market_data = { get_pair_name(path):load_path_data(path) for path in market_file_paths }"
   ]
  },
  {
   "cell_type": "markdown",
   "metadata": {},
   "source": [
    "#### Featurize Data\n",
    "For the features of the data we will add\n",
    "- The top 5 indicator values.\n",
    "- The hour of day.\n",
    "- The day of week.\n",
    "- The week of the year.\n",
    "- The month of year."
   ]
  },
  {
   "cell_type": "code",
   "execution_count": 214,
   "metadata": {},
   "outputs": [],
   "source": [
    "def featurize_market_data(market_data):\n",
    "    # Perform the transformation for each pair.\n",
    "    for pair in market_data:\n",
    "        # Featurizing pair \"{pair}\" with seasonality.\n",
    "        pair_df = market_data[pair]\n",
    "        pair_df['hour'] = pair_df.apply(lambda x: x['time'].hour, axis=1)\n",
    "        pair_df['day'] = pair_df.apply(lambda x: x['time'].day, axis=1)\n",
    "        pair_df['week'] = pair_df.apply(lambda x: x['time'].week, axis=1)\n",
    "        pair_df['month'] = pair_df.apply(lambda x: x['time'].month, axis=1)\n",
    "        \n",
    "        # Featurizing pair \"{pair}\" with indicators.\n",
    "        pair_df['sma'] = talib.SMA(pair_df['close'])\n",
    "        time_periods = [ 14, 20]\n",
    "        stds = [ 2, 3, 4 ]\n",
    "        \n",
    "        for period in time_periods:\n",
    "            pair_df[f'rsi_tp{period}'] = RSI(pair_df['close'], timeperiod=period)\n",
    "            pair_df['adx'] = talib.ADX(pair_df['high'], pair_df['low'], pair_df['close'], timeperiod=period)\n",
    "            slowk, slowd = talib.STOCH(pair_df['high'], pair_df['low'], pair_df['close'], fastk_period=period)\n",
    "            pair_df[f'stoch_slow_k_tp_{period}'] = slowk\n",
    "            pair_df[f'stoch_slow_d_tp_{period}'] = slowd\n",
    "            \n",
    "            for deviation in stds:\n",
    "                upper, middle, lower = BBANDS(pair_df['close'], timeperiod=period, nbdevup=deviation, nbdevdn=deviation, matype=0)\n",
    "                pair_df[f'bb_upper_tp{period}_sd{deviation}'] = upper\n",
    "                pair_df[f'bb_middle_tp{period}_sd{deviation}'] = middle\n",
    "                pair_df[f'bb_lower_tp{period}_sd{deviation}'] = lower\n",
    "        \n",
    "    return market_data"
   ]
  },
  {
   "cell_type": "markdown",
   "metadata": {},
   "source": [
    "#### Persist & Load Featurized Market Data"
   ]
  },
  {
   "cell_type": "code",
   "execution_count": 215,
   "metadata": {},
   "outputs": [],
   "source": [
    "featurized_market_data = featurize_market_data(market_data)\n",
    "model_file_path = './data/featurized_market_data.p'"
   ]
  },
  {
   "cell_type": "code",
   "execution_count": 216,
   "metadata": {},
   "outputs": [],
   "source": [
    "with open(model_file_path, 'wb') as fp:\n",
    "    pickle.dump(featurized_market_data, fp, protocol=pickle.HIGHEST_PROTOCOL)"
   ]
  },
  {
   "cell_type": "code",
   "execution_count": 217,
   "metadata": {},
   "outputs": [],
   "source": [
    "with open(model_file_path, 'rb') as fp:\n",
    "    featurized_market_data = pickle.load(fp)"
   ]
  },
  {
   "cell_type": "markdown",
   "metadata": {},
   "source": [
    "#### Sample Data"
   ]
  },
  {
   "cell_type": "code",
   "execution_count": 2,
   "metadata": {},
   "outputs": [],
   "source": [
    "import matplotlib.pyplot as plt\n",
    "%matplotlib inline"
   ]
  },
  {
   "cell_type": "code",
   "execution_count": 15,
   "metadata": {},
   "outputs": [
    {
     "data": {
      "text/plain": [
       "[<matplotlib.lines.Line2D at 0x130f18160>]"
      ]
     },
     "execution_count": 15,
     "metadata": {},
     "output_type": "execute_result"
    },
    {
     "data": {
      "image/png": "[encoded data removed]",
      "text/plain": [
       "<Figure size 864x864 with 1 Axes>"
      ]
     },
     "metadata": {
      "needs_background": "light"
     },
     "output_type": "display_data"
    }
   ],
   "source": [
    "bch_data = featurized_market_data['BCH_BTC']\n",
    "\n",
    "# We create our figure and specify the size:\n",
    "fig = plt.figure(figsize=(12,12))\n",
    "ax1 = plt.subplot(3, 1, 1)\n",
    "\n",
    "# We can now plot the data on each of the subplots:\n",
    "ax1.plot([1,2,3], [123,456,678], label = 'Random Data')"
   ]
  },
  {
   "cell_type": "code",
   "execution_count": null,
   "metadata": {},
   "outputs": [],
   "source": []
  },
  {
   "cell_type": "code",
   "execution_count": null,
   "metadata": {},
   "outputs": [],
   "source": []
  }
 ],
 "metadata": {
  "interpreter": {
   "hash": "31d6e53dd90e1e07de471af499e22de60e02a8b280c0c36d978ec0e08d2bccf2"
  },
  "kernelspec": {
   "display_name": "Python 3.9.7 64-bit ('tensorflow-apple-metal': conda)",
   "name": "python3"
  },
  "language_info": {
   "codemirror_mode": {
    "name": "ipython",
    "version": 3
   },
   "file_extension": ".py",
   "mimetype": "text/x-python",
   "name": "python",
   "nbconvert_exporter": "python",
   "pygments_lexer": "ipython3",
   "version": "3.9.7"
  },
  "orig_nbformat": 4
 },
 "nbformat": 4,
 "nbformat_minor": 2
}
