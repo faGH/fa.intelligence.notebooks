{
 "cells": [
  {
   "cell_type": "code",
   "execution_count": null,
   "source": [
    "!pip install requests wget"
   ],
   "outputs": [],
   "metadata": {}
  },
  {
   "cell_type": "code",
   "execution_count": null,
   "source": [
    "import requests, json\n",
    "import shutil, time"
   ],
   "outputs": [],
   "metadata": {}
  },
  {
   "cell_type": "code",
   "execution_count": null,
   "source": [
    "def list_image_urls(topics_to_search, api_key, count, initial_page=1, initial_count=0):\n",
    "    image_urls = []\n",
    "    current_page = initial_page\n",
    "    \n",
    "    try:\n",
    "        while len(image_urls) < count - initial_count:\n",
    "            for topic in topics_to_search:\n",
    "                api_output = requests.get(f'https://api.unsplash.com/search/photos?page={current_page}&query={topic}&client_id={api_key}')\n",
    "\n",
    "                if api_output.text is not None:\n",
    "                    print(f'Response: {api_output.text}')\n",
    "                    results = json.loads(api_output.text)['results']\n",
    "\n",
    "                for result in results:\n",
    "                    image_urls.append(result['urls']['raw'])\n",
    "            \n",
    "            current_page += 1\n",
    "            time.sleep(1)\n",
    "    except:\n",
    "        print(f'An exception occurred at page {current_page}. Returning {len(image_urls)} urls.')\n",
    "        \n",
    "    return image_urls"
   ],
   "outputs": [],
   "metadata": {}
  },
  {
   "cell_type": "code",
   "execution_count": null,
   "source": [
    "def download_images(topic, image_urls, from_index=0):\n",
    "    for i, url in enumerate(image_urls):\n",
    "        file_name = f'./images/{topic}/{from_index + i}.jpg'\n",
    "        r = requests.get(url, stream=True)\n",
    "        r.raw.decode_content = True\n",
    "        \n",
    "        with open(file_name, 'wb') as f:\n",
    "            shutil.copyfileobj(r.raw, f)"
   ],
   "outputs": [],
   "metadata": {}
  },
  {
   "cell_type": "code",
   "execution_count": null,
   "source": [
    "topic = 'abstract'\n",
    "api_key = 'pBX9Q_FkkdB51xBQQLla-L655fO0yFjlaa07HbzaQ3E'\n",
    "image_urls = list_image_urls([topic], api_key, 1000)"
   ],
   "outputs": [],
   "metadata": {}
  },
  {
   "cell_type": "code",
   "execution_count": null,
   "source": [
    "download_images(topic, image_urls)"
   ],
   "outputs": [],
   "metadata": {}
  },
  {
   "cell_type": "code",
   "execution_count": null,
   "source": [],
   "outputs": [],
   "metadata": {}
  }
 ],
 "metadata": {
  "kernelspec": {
   "name": "python3",
   "display_name": "Python 3.9.7 64-bit ('tensorflow-apple-metal': conda)"
  },
  "language_info": {
   "codemirror_mode": {
    "name": "ipython",
    "version": 3
   },
   "file_extension": ".py",
   "mimetype": "text/x-python",
   "name": "python",
   "nbconvert_exporter": "python",
   "pygments_lexer": "ipython3",
   "version": "3.9.7"
  },
  "interpreter": {
   "hash": "31d6e53dd90e1e07de471af499e22de60e02a8b280c0c36d978ec0e08d2bccf2"
  }
 },
 "nbformat": 4,
 "nbformat_minor": 5
}