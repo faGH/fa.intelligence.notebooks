{
 "cells": [
  {
   "cell_type": "markdown",
   "metadata": {},
   "source": [
    "# Comprehensive Artificial Neural Network\n",
    "This example is more comprehensive and realistic (less convenient) than the Iris dataset example and should illustrate some more practical issues being tackled. "
   ]
  },
  {
   "cell_type": "markdown",
   "metadata": {},
   "source": [
    "## Imports"
   ]
  },
  {
   "cell_type": "code",
   "execution_count": 20,
   "metadata": {},
   "outputs": [],
   "source": [
    "import torch\n",
    "import torch.nn as nn\n",
    "import numpy as np\n",
    "import pandas as pd\n",
    "import matplotlib.pyplot as plt\n",
    "%matplotlib inline"
   ]
  },
  {
   "cell_type": "markdown",
   "metadata": {},
   "source": [
    "## Data"
   ]
  },
  {
   "cell_type": "markdown",
   "metadata": {},
   "source": [
    "### Read Data"
   ]
  },
  {
   "cell_type": "code",
   "execution_count": 21,
   "metadata": {},
   "outputs": [
    {
     "data": {
      "text/html": [
       "<div>\n",
       "<style scoped>\n",
       "    .dataframe tbody tr th:only-of-type {\n",
       "        vertical-align: middle;\n",
       "    }\n",
       "\n",
       "    .dataframe tbody tr th {\n",
       "        vertical-align: top;\n",
       "    }\n",
       "\n",
       "    .dataframe thead th {\n",
       "        text-align: right;\n",
       "    }\n",
       "</style>\n",
       "<table border=\"1\" class=\"dataframe\">\n",
       "  <thead>\n",
       "    <tr style=\"text-align: right;\">\n",
       "      <th></th>\n",
       "      <th>pickup_datetime</th>\n",
       "      <th>fare_amount</th>\n",
       "      <th>fare_class</th>\n",
       "      <th>pickup_longitude</th>\n",
       "      <th>pickup_latitude</th>\n",
       "      <th>dropoff_longitude</th>\n",
       "      <th>dropoff_latitude</th>\n",
       "      <th>passenger_count</th>\n",
       "    </tr>\n",
       "  </thead>\n",
       "  <tbody>\n",
       "    <tr>\n",
       "      <th>0</th>\n",
       "      <td>2010-04-19 08:17:56 UTC</td>\n",
       "      <td>6.5</td>\n",
       "      <td>0</td>\n",
       "      <td>-73.992365</td>\n",
       "      <td>40.730521</td>\n",
       "      <td>-73.975499</td>\n",
       "      <td>40.744746</td>\n",
       "      <td>1</td>\n",
       "    </tr>\n",
       "    <tr>\n",
       "      <th>1</th>\n",
       "      <td>2010-04-17 15:43:53 UTC</td>\n",
       "      <td>6.9</td>\n",
       "      <td>0</td>\n",
       "      <td>-73.990078</td>\n",
       "      <td>40.740558</td>\n",
       "      <td>-73.974232</td>\n",
       "      <td>40.744114</td>\n",
       "      <td>1</td>\n",
       "    </tr>\n",
       "    <tr>\n",
       "      <th>2</th>\n",
       "      <td>2010-04-17 11:23:26 UTC</td>\n",
       "      <td>10.1</td>\n",
       "      <td>1</td>\n",
       "      <td>-73.994149</td>\n",
       "      <td>40.751118</td>\n",
       "      <td>-73.960064</td>\n",
       "      <td>40.766235</td>\n",
       "      <td>2</td>\n",
       "    </tr>\n",
       "    <tr>\n",
       "      <th>3</th>\n",
       "      <td>2010-04-11 21:25:03 UTC</td>\n",
       "      <td>8.9</td>\n",
       "      <td>0</td>\n",
       "      <td>-73.990485</td>\n",
       "      <td>40.756422</td>\n",
       "      <td>-73.971205</td>\n",
       "      <td>40.748192</td>\n",
       "      <td>1</td>\n",
       "    </tr>\n",
       "    <tr>\n",
       "      <th>4</th>\n",
       "      <td>2010-04-17 02:19:01 UTC</td>\n",
       "      <td>19.7</td>\n",
       "      <td>1</td>\n",
       "      <td>-73.990976</td>\n",
       "      <td>40.734202</td>\n",
       "      <td>-73.905956</td>\n",
       "      <td>40.743115</td>\n",
       "      <td>1</td>\n",
       "    </tr>\n",
       "  </tbody>\n",
       "</table>\n",
       "</div>"
      ],
      "text/plain": [
       "           pickup_datetime  fare_amount  fare_class  pickup_longitude  \\\n",
       "0  2010-04-19 08:17:56 UTC          6.5           0        -73.992365   \n",
       "1  2010-04-17 15:43:53 UTC          6.9           0        -73.990078   \n",
       "2  2010-04-17 11:23:26 UTC         10.1           1        -73.994149   \n",
       "3  2010-04-11 21:25:03 UTC          8.9           0        -73.990485   \n",
       "4  2010-04-17 02:19:01 UTC         19.7           1        -73.990976   \n",
       "\n",
       "   pickup_latitude  dropoff_longitude  dropoff_latitude  passenger_count  \n",
       "0        40.730521         -73.975499         40.744746                1  \n",
       "1        40.740558         -73.974232         40.744114                1  \n",
       "2        40.751118         -73.960064         40.766235                2  \n",
       "3        40.756422         -73.971205         40.748192                1  \n",
       "4        40.734202         -73.905956         40.743115                1  "
      ]
     },
     "execution_count": 21,
     "metadata": {},
     "output_type": "execute_result"
    }
   ],
   "source": [
    "df = pd.read_csv('../../data/taxi_fares.csv')\n",
    "df.head()"
   ]
  },
  {
   "cell_type": "markdown",
   "metadata": {},
   "source": [
    "### Featurization Utils"
   ]
  },
  {
   "cell_type": "markdown",
   "metadata": {},
   "source": [
    "${\\displaystyle d=2r\\arcsin \\left({\\sqrt {\\sin ^{2}\\left({\\frac {\\varphi _{2}-\\varphi _{1}}{2}}\\right)+\\cos(\\varphi _{1})\\:\\cos(\\varphi _{2})\\:\\sin ^{2}\\left({\\frac {\\lambda _{2}-\\lambda _{1}}{2}}\\right)}}\\right)}$"
   ]
  },
  {
   "cell_type": "code",
   "execution_count": 22,
   "metadata": {},
   "outputs": [],
   "source": [
    "# Haversine Formula (https://en.wikipedia.org/wiki/Haversine_formula) to calculate distance between two sets of lat and long coordinates.\n",
    "def get_km_distance_from_coordinates(lat1: float, \n",
    "                                     lng1: float, \n",
    "                                     lat2: float, \n",
    "                                     lng2: float) -> float:    \n",
    "    r = 6371  # Average radius of Earth in kilometers.\n",
    "\n",
    "    phi1 = np.radians(lat1)\n",
    "    phi2 = np.radians(lat2)\n",
    "    \n",
    "    delta_phi = np.radians(lat2-lat1)\n",
    "    delta_lambda = np.radians(lng2-lng1)\n",
    "\n",
    "    a = np.sin(delta_phi/2)**2 + np.cos(phi1) * np.cos(phi2) * np.sin(delta_lambda/2)**2\n",
    "    c = 2 * np.arctan2(np.sqrt(a), np.sqrt(1-a))\n",
    "    d = (r * c) # in kilometers\n",
    "\n",
    "    return d\n",
    "\n",
    "def featurize_distance_from_coordinates(df: pd.DataFrame, \n",
    "                                        lat1_col_name: str, \n",
    "                                        lng1_col_name: str, \n",
    "                                        lat2_col_name: str, \n",
    "                                        lng2_col_name: str) -> pd.DataFrame:\n",
    "    __df__ = df.copy()\n",
    "    __df__['dist_km'] = __df__.apply(lambda row: get_km_distance_from_coordinates(row[lat1_col_name], row[lng1_col_name], row[lat2_col_name], row[lng2_col_name]), axis=1)\n",
    "    __df__.drop(columns=[lat1_col_name, lng1_col_name, lat2_col_name, lng2_col_name], inplace=True)\n",
    "    \n",
    "    return __df__"
   ]
  },
  {
   "cell_type": "code",
   "execution_count": 30,
   "metadata": {},
   "outputs": [],
   "source": [
    "def featurize_time_from_column(df: pd.DataFrame, column_name: str, column_prefix: str='t_') -> pd.DataFrame:\n",
    "        __df__ = df.copy()\n",
    "        \n",
    "        parsed_date_temporary_column = pd.to_datetime(__df__[column_name])\n",
    "        __df__.drop(columns=[column_name], inplace=True)\n",
    "\n",
    "        __df__[f'{column_prefix}year'] = parsed_date_temporary_column.dt.year\n",
    "        __df__[f'{column_prefix}month'] = parsed_date_temporary_column.dt.month\n",
    "        __df__[f'{column_prefix}day'] = parsed_date_temporary_column.dt.day\n",
    "        __df__[f'{column_prefix}hour'] = parsed_date_temporary_column.dt.hour\n",
    "        __df__[f'{column_prefix}minute'] = parsed_date_temporary_column.dt.minute\n",
    "        __df__[f'{column_prefix}day_of_year'] = parsed_date_temporary_column.dt.dayofyear\n",
    "        __df__[f'{column_prefix}day_of_week'] = parsed_date_temporary_column.dt.dayofweek\n",
    "        __df__[f'{column_prefix}quarter'] = parsed_date_temporary_column.dt.quarter\n",
    "        __df__[f'{column_prefix}am_or_pm'] = np.where(__df__[f'{column_prefix}hour'] > 12, 'pm', 'am') \n",
    "\n",
    "        return __df__"
   ]
  },
  {
   "cell_type": "code",
   "execution_count": 72,
   "metadata": {},
   "outputs": [],
   "source": [
    "def featurized_categorical_data(df: pd.DataFrame, columns: list) -> pd.DataFrame:\n",
    "    __df__ = df.copy()\n",
    "    sizes = list()\n",
    "\n",
    "    # Pandas native categories.\n",
    "    for column_name in columns:\n",
    "        __df__[column_name] = __df__[column_name].astype('category')\n",
    "        sizes.append(len(__df__[column_name].cat.categories))\n",
    "        \n",
    "    # These can be accessed as follows.\n",
    "    # __df__[column_name].cat.categories\n",
    "    # __df__[column_name].cat.codes\n",
    "    \n",
    "    return __df__, [(size, min(50, (size + 1) // 2)) for size in sizes]"
   ]
  },
  {
   "cell_type": "code",
   "execution_count": 66,
   "metadata": {},
   "outputs": [],
   "source": [
    "def get_tensor_for_featurized_df(df: pd.DataFrame, label_column_name: str, categorical_column_names: list) -> torch.tensor:\n",
    "    continuous_col_names = [continuous_col_name for continuous_col_name in df.columns if continuous_col_name not in categorical_column_names + [label_column_name]]\n",
    "    continuous_data = df[continuous_col_names]\n",
    "    categorical_data = np.stack([df[cat_col_name].cat.codes.values for cat_col_name in categorical_column_names], axis=1)\n",
    "    x_cont = torch.tensor(continuous_data.values, dtype=torch.float)\n",
    "    x_cat = torch.tensor(categorical_data, dtype=torch.int64)\n",
    "    y = torch.tensor(df[label_column_name].values, dtype=torch.float).reshape(-1,1) # Reshape to retain a column instead of a row.\n",
    "    \n",
    "    return x_cont, x_cat, y"
   ]
  },
  {
   "cell_type": "markdown",
   "metadata": {},
   "source": [
    "### Feature Engineering"
   ]
  },
  {
   "cell_type": "code",
   "execution_count": 73,
   "metadata": {},
   "outputs": [
    {
     "data": {
      "text/html": [
       "<div>\n",
       "<style scoped>\n",
       "    .dataframe tbody tr th:only-of-type {\n",
       "        vertical-align: middle;\n",
       "    }\n",
       "\n",
       "    .dataframe tbody tr th {\n",
       "        vertical-align: top;\n",
       "    }\n",
       "\n",
       "    .dataframe thead th {\n",
       "        text-align: right;\n",
       "    }\n",
       "</style>\n",
       "<table border=\"1\" class=\"dataframe\">\n",
       "  <thead>\n",
       "    <tr style=\"text-align: right;\">\n",
       "      <th></th>\n",
       "      <th>fare_amount</th>\n",
       "      <th>fare_class</th>\n",
       "      <th>passenger_count</th>\n",
       "      <th>dist_km</th>\n",
       "      <th>t_year</th>\n",
       "      <th>t_month</th>\n",
       "      <th>t_day</th>\n",
       "      <th>t_hour</th>\n",
       "      <th>t_minute</th>\n",
       "      <th>t_day_of_year</th>\n",
       "      <th>t_day_of_week</th>\n",
       "      <th>t_quarter</th>\n",
       "      <th>t_am_or_pm</th>\n",
       "    </tr>\n",
       "  </thead>\n",
       "  <tbody>\n",
       "    <tr>\n",
       "      <th>0</th>\n",
       "      <td>6.5</td>\n",
       "      <td>0</td>\n",
       "      <td>1</td>\n",
       "      <td>2.126312</td>\n",
       "      <td>2010</td>\n",
       "      <td>4</td>\n",
       "      <td>19</td>\n",
       "      <td>8</td>\n",
       "      <td>17</td>\n",
       "      <td>109</td>\n",
       "      <td>0</td>\n",
       "      <td>2</td>\n",
       "      <td>am</td>\n",
       "    </tr>\n",
       "    <tr>\n",
       "      <th>1</th>\n",
       "      <td>6.9</td>\n",
       "      <td>0</td>\n",
       "      <td>1</td>\n",
       "      <td>1.392307</td>\n",
       "      <td>2010</td>\n",
       "      <td>4</td>\n",
       "      <td>17</td>\n",
       "      <td>15</td>\n",
       "      <td>43</td>\n",
       "      <td>107</td>\n",
       "      <td>5</td>\n",
       "      <td>2</td>\n",
       "      <td>pm</td>\n",
       "    </tr>\n",
       "    <tr>\n",
       "      <th>2</th>\n",
       "      <td>10.1</td>\n",
       "      <td>1</td>\n",
       "      <td>2</td>\n",
       "      <td>3.326763</td>\n",
       "      <td>2010</td>\n",
       "      <td>4</td>\n",
       "      <td>17</td>\n",
       "      <td>11</td>\n",
       "      <td>23</td>\n",
       "      <td>107</td>\n",
       "      <td>5</td>\n",
       "      <td>2</td>\n",
       "      <td>am</td>\n",
       "    </tr>\n",
       "    <tr>\n",
       "      <th>3</th>\n",
       "      <td>8.9</td>\n",
       "      <td>0</td>\n",
       "      <td>1</td>\n",
       "      <td>1.864129</td>\n",
       "      <td>2010</td>\n",
       "      <td>4</td>\n",
       "      <td>11</td>\n",
       "      <td>21</td>\n",
       "      <td>25</td>\n",
       "      <td>101</td>\n",
       "      <td>6</td>\n",
       "      <td>2</td>\n",
       "      <td>pm</td>\n",
       "    </tr>\n",
       "    <tr>\n",
       "      <th>4</th>\n",
       "      <td>19.7</td>\n",
       "      <td>1</td>\n",
       "      <td>1</td>\n",
       "      <td>7.231321</td>\n",
       "      <td>2010</td>\n",
       "      <td>4</td>\n",
       "      <td>17</td>\n",
       "      <td>2</td>\n",
       "      <td>19</td>\n",
       "      <td>107</td>\n",
       "      <td>5</td>\n",
       "      <td>2</td>\n",
       "      <td>am</td>\n",
       "    </tr>\n",
       "  </tbody>\n",
       "</table>\n",
       "</div>"
      ],
      "text/plain": [
       "   fare_amount  fare_class  passenger_count   dist_km  t_year  t_month  t_day  \\\n",
       "0          6.5           0                1  2.126312    2010        4     19   \n",
       "1          6.9           0                1  1.392307    2010        4     17   \n",
       "2         10.1           1                2  3.326763    2010        4     17   \n",
       "3          8.9           0                1  1.864129    2010        4     11   \n",
       "4         19.7           1                1  7.231321    2010        4     17   \n",
       "\n",
       "   t_hour  t_minute  t_day_of_year  t_day_of_week  t_quarter t_am_or_pm  \n",
       "0       8        17            109              0          2         am  \n",
       "1      15        43            107              5          2         pm  \n",
       "2      11        23            107              5          2         am  \n",
       "3      21        25            101              6          2         pm  \n",
       "4       2        19            107              5          2         am  "
      ]
     },
     "execution_count": 73,
     "metadata": {},
     "output_type": "execute_result"
    }
   ],
   "source": [
    "label_column_name = 'fare_amount'\n",
    "categorical_column_names = ['t_am_or_pm']\n",
    "\n",
    "featurized_df = featurize_distance_from_coordinates(df, lat1_col_name='pickup_latitude', lng1_col_name='pickup_longitude', lat2_col_name='dropoff_latitude', lng2_col_name='dropoff_longitude')\n",
    "featurized_df = featurize_time_from_column(featurized_df, column_name='pickup_datetime')\n",
    "featurized_df, embedding_sizes = featurized_categorical_data(featurized_df, categorical_column_names)\n",
    "\n",
    "featurized_df.head()"
   ]
  },
  {
   "cell_type": "code",
   "execution_count": 74,
   "metadata": {},
   "outputs": [
    {
     "name": "stdout",
     "output_type": "stream",
     "text": [
      "tensor([[  0.0000,   1.0000,   2.1263,  ..., 109.0000,   0.0000,   2.0000],\n",
      "        [  0.0000,   1.0000,   1.3923,  ..., 107.0000,   5.0000,   2.0000],\n",
      "        [  1.0000,   2.0000,   3.3268,  ..., 107.0000,   5.0000,   2.0000],\n",
      "        ...,\n",
      "        [  1.0000,   3.0000,   5.0525,  ..., 108.0000,   6.0000,   2.0000],\n",
      "        [  0.0000,   1.0000,   1.2089,  ..., 103.0000,   1.0000,   2.0000],\n",
      "        [  0.0000,   3.0000,   1.4274,  ..., 107.0000,   5.0000,   2.0000]]) tensor([[0],\n",
      "        [1],\n",
      "        [0],\n",
      "        ...,\n",
      "        [1],\n",
      "        [0],\n",
      "        [1]]) tensor([[ 6.5000],\n",
      "        [ 6.9000],\n",
      "        [10.1000],\n",
      "        ...,\n",
      "        [12.5000],\n",
      "        [ 4.9000],\n",
      "        [ 5.3000]])\n"
     ]
    }
   ],
   "source": [
    "x_continuous, x_categorical, y = get_tensor_for_featurized_df(df=featurized_df, \n",
    "                                                              label_column_name=label_column_name, \n",
    "                                                              categorical_column_names=categorical_column_names)\n",
    "\n",
    "print(x_continuous, x_categorical, y)"
   ]
  },
  {
   "cell_type": "markdown",
   "metadata": {},
   "source": [
    "## Model"
   ]
  },
  {
   "cell_type": "code",
   "execution_count": 119,
   "metadata": {},
   "outputs": [],
   "source": [
    "class TabularModel(nn.Module):\n",
    "    def __init__(self, embedding_sizes: list, continuous_features_count: int, output_size: int, layers: list, dropout_probability: float=0.5):\n",
    "        super().__init__()\n",
    "        \n",
    "        # Create embeddings for categorical columns.\n",
    "        self.embeds = nn.ModuleList([nn.Embedding(ni, nf) for ni, nf in embedding_sizes])\n",
    "        \n",
    "        # Dropout layer(s).\n",
    "        self.emb_drop = nn.Dropout(dropout_probability)\n",
    "        \n",
    "        # Normalize continuous data.\n",
    "        self.bn_cont = nn.BatchNorm1d(continuous_features_count)\n",
    "        \n",
    "        # Layers.\n",
    "        layerlist = list()\n",
    "        n_emb = sum([nf for ni, nf in embedding_sizes])\n",
    "        n_in = n_emb + continuous_features_count\n",
    "        \n",
    "        for i in layers:\n",
    "            layerlist.append(nn.Linear(in_features=n_in, out_features=i))\n",
    "            layerlist.append(nn.ReLU(inplace=True))\n",
    "            layerlist.append(nn.BatchNorm1d(num_features=i))\n",
    "            layerlist.append(nn.Dropout(p=dropout_probability))\n",
    "            n_in = i\n",
    "            \n",
    "        layerlist.append(nn.Linear(in_features=layers[-1], out_features=output_size))\n",
    "        \n",
    "        self.layers = nn.Sequential(*layerlist)\n",
    "        \n",
    "    def forward(self, x_categorical_features, x_continuous_features):\n",
    "        # Categorical layers processing.\n",
    "        embeddings = []\n",
    "        \n",
    "        for index, layer in enumerate(self.embeds):\n",
    "            embeddings.append(layer(x_categorical_features[:, index]))\n",
    "            \n",
    "        x = torch.cat(embeddings, 1)\n",
    "        x = self.emb_drop(x)\n",
    "        \n",
    "        # Continuous layers processing.\n",
    "        x_continuous_features = self.bn_cont(x_continuous_features)\n",
    "        x = torch.cat([x, x_continuous_features], 1)\n",
    "        x = self.layers(x)\n",
    "        \n",
    "        return x"
   ]
  },
  {
   "cell_type": "markdown",
   "metadata": {},
   "source": [
    "## Training"
   ]
  },
  {
   "cell_type": "code",
   "execution_count": 120,
   "metadata": {},
   "outputs": [],
   "source": [
    "torch.manual_seed(33)\n",
    "model = TabularModel(embedding_sizes=embedding_sizes, continuous_features_count=x_continuous.shape[1], output_size=1, layers=[200,100], dropout_probability=0.4)\n",
    "criterion = nn.MSELoss() # np.sqrt(MSE) --> RMSE. Also for multi-class problems, switch to nn.CrossEntropyLoss()\n",
    "optimizer = torch.optim.Adam(model.parameters(), lr=0.001)"
   ]
  },
  {
   "cell_type": "code",
   "execution_count": 100,
   "metadata": {},
   "outputs": [],
   "source": [
    "# Split train / test.\n",
    "batch_size = featurized_df.shape[0] // 2\n",
    "test_size = int(batch_size * 0.2)"
   ]
  },
  {
   "cell_type": "code",
   "execution_count": 102,
   "metadata": {},
   "outputs": [],
   "source": [
    "cat_train = x_categorical[:batch_size-test_size]\n",
    "cat_test = x_categorical[batch_size-test_size:batch_size]\n",
    "con_train = x_continuous[:batch_size-test_size]\n",
    "con_test = x_continuous[batch_size-test_size:batch_size]"
   ]
  },
  {
   "cell_type": "code",
   "execution_count": 103,
   "metadata": {},
   "outputs": [],
   "source": [
    "y_train = y[:batch_size-test_size]\n",
    "y_test = y[batch_size-test_size:batch_size]"
   ]
  },
  {
   "cell_type": "code",
   "execution_count": 121,
   "metadata": {},
   "outputs": [
    {
     "name": "stdout",
     "output_type": "stream",
     "text": [
      "Epoch: 1, Loss: 12.6112642288208\n",
      "Epoch: 11, Loss: 11.215557098388672\n",
      "Epoch: 21, Loss: 10.717238426208496\n",
      "Epoch: 31, Loss: 10.440613746643066\n",
      "Epoch: 41, Loss: 10.231658935546875\n",
      "Epoch: 51, Loss: 10.051824569702148\n",
      "Epoch: 61, Loss: 9.896406173706055\n",
      "Epoch: 71, Loss: 9.723316192626953\n",
      "Epoch: 81, Loss: 9.544873237609863\n",
      "Epoch: 91, Loss: 9.339689254760742\n",
      "Epoch: 101, Loss: 9.118208885192871\n",
      "Epoch: 111, Loss: 8.857281684875488\n",
      "Epoch: 121, Loss: 8.548879623413086\n",
      "Epoch: 131, Loss: 8.19980525970459\n",
      "Epoch: 141, Loss: 7.804906368255615\n",
      "Epoch: 151, Loss: 7.380603790283203\n",
      "Epoch: 161, Loss: 6.926961898803711\n",
      "Epoch: 171, Loss: 6.4526896476745605\n",
      "Epoch: 181, Loss: 5.938396453857422\n",
      "Epoch: 191, Loss: 5.411984443664551\n",
      "Epoch: 201, Loss: 4.957322120666504\n",
      "Epoch: 211, Loss: 4.474759101867676\n",
      "Epoch: 221, Loss: 4.094813823699951\n",
      "Epoch: 231, Loss: 3.8264615535736084\n",
      "Epoch: 241, Loss: 3.6051628589630127\n",
      "Epoch: 251, Loss: 3.4972143173217773\n",
      "Epoch: 261, Loss: 3.430147409439087\n",
      "Epoch: 271, Loss: 3.422183036804199\n",
      "Epoch: 281, Loss: 3.376732587814331\n",
      "Epoch: 291, Loss: 3.354576349258423\n",
      "Training took: 2.6232165892918906 minutes\n"
     ]
    }
   ],
   "source": [
    "import time\n",
    "\n",
    "start_time = time.time()\n",
    "epochs = 300\n",
    "losses = list()\n",
    "\n",
    "for i in range(epochs):\n",
    "    i += 1\n",
    "    y_pred = model(cat_train, con_train)\n",
    "    loss = torch.sqrt(criterion(y_pred, y_train))\n",
    "    losses.append(loss)\n",
    "    \n",
    "    if i % 10 == 1:\n",
    "        print(f'Epoch: {i}, Loss: {loss}')\n",
    "        \n",
    "    optimizer.zero_grad()\n",
    "    loss.backward()\n",
    "    optimizer.step()\n",
    "    \n",
    "duration = time.time() - start_time\n",
    "print(f'Training took: {duration / 60} minutes')"
   ]
  },
  {
   "cell_type": "markdown",
   "metadata": {},
   "source": [
    "## Validation / Visualization"
   ]
  },
  {
   "cell_type": "code",
   "execution_count": 123,
   "metadata": {},
   "outputs": [
    {
     "data": {
      "text/plain": [
       "[<matplotlib.lines.Line2D at 0x229a9c88670>]"
      ]
     },
     "execution_count": 123,
     "metadata": {},
     "output_type": "execute_result"
    },
    {
     "data": {
      "image/png": "[encoded data removed]",
      "text/plain": [
       "<Figure size 432x288 with 1 Axes>"
      ]
     },
     "metadata": {
      "needs_background": "light"
     },
     "output_type": "display_data"
    }
   ],
   "source": [
    "plt.plot(range(epochs), [float(l) for l in losses])"
   ]
  },
  {
   "cell_type": "code",
   "execution_count": 124,
   "metadata": {},
   "outputs": [
    {
     "data": {
      "text/plain": [
       "tensor(3.3596)"
      ]
     },
     "execution_count": 124,
     "metadata": {},
     "output_type": "execute_result"
    }
   ],
   "source": [
    "with torch.no_grad():\n",
    "    y_val = model(cat_test, con_test)\n",
    "    loss = torch.sqrt(criterion(y_val, y_test))\n",
    "    \n",
    "loss"
   ]
  },
  {
   "cell_type": "code",
   "execution_count": 128,
   "metadata": {},
   "outputs": [
    {
     "name": "stdout",
     "output_type": "stream",
     "text": [
      "Predicted:     5.00, Actual:     2.90, Delta:     2.10\n",
      "Predicted:     3.56, Actual:     5.70, Delta:     2.14\n",
      "Predicted:     7.45, Actual:     7.70, Delta:     0.25\n",
      "Predicted:    16.87, Actual:    12.50, Delta:     4.37\n",
      "Predicted:     7.18, Actual:     4.10, Delta:     3.08\n",
      "Predicted:     4.27, Actual:     5.30, Delta:     1.03\n",
      "Predicted:     2.94, Actual:     3.70, Delta:     0.76\n",
      "Predicted:    18.25, Actual:    14.50, Delta:     3.75\n",
      "Predicted:     6.89, Actual:     5.70, Delta:     1.19\n",
      "Predicted:     9.70, Actual:    10.10, Delta:     0.40\n"
     ]
    }
   ],
   "source": [
    "for i in range(10):\n",
    "    diff = np.abs(y_val[i].item() - y_test[i].item())\n",
    "    print(f'Predicted: {y_val[i].item():8.2f}, Actual: {y_test[i].item():8.2f}, Delta: {diff:8.2f}')"
   ]
  },
  {
   "cell_type": "markdown",
   "metadata": {},
   "source": [
    "## Save the Model"
   ]
  },
  {
   "cell_type": "code",
   "execution_count": 129,
   "metadata": {},
   "outputs": [],
   "source": [
    "torch.save(model.state_dict(), '../../data/taxi_model.pt')"
   ]
  },
  {
   "cell_type": "code",
   "execution_count": 131,
   "metadata": {},
   "outputs": [
    {
     "data": {
      "text/plain": [
       "TabularModel(\n",
       "  (embeds): ModuleList(\n",
       "    (0): Embedding(2, 1)\n",
       "  )\n",
       "  (emb_drop): Dropout(p=0.4, inplace=False)\n",
       "  (bn_cont): BatchNorm1d(11, eps=1e-05, momentum=0.1, affine=True, track_running_stats=True)\n",
       "  (layers): Sequential(\n",
       "    (0): Linear(in_features=12, out_features=200, bias=True)\n",
       "    (1): ReLU(inplace=True)\n",
       "    (2): BatchNorm1d(200, eps=1e-05, momentum=0.1, affine=True, track_running_stats=True)\n",
       "    (3): Dropout(p=0.4, inplace=False)\n",
       "    (4): Linear(in_features=200, out_features=100, bias=True)\n",
       "    (5): ReLU(inplace=True)\n",
       "    (6): BatchNorm1d(100, eps=1e-05, momentum=0.1, affine=True, track_running_stats=True)\n",
       "    (7): Dropout(p=0.4, inplace=False)\n",
       "    (8): Linear(in_features=100, out_features=1, bias=True)\n",
       "  )\n",
       ")"
      ]
     },
     "execution_count": 131,
     "metadata": {},
     "output_type": "execute_result"
    }
   ],
   "source": [
    "loaded_model = TabularModel(embedding_sizes=embedding_sizes, continuous_features_count=x_continuous.shape[1], output_size=1, layers=[200,100], dropout_probability=0.4)\n",
    "loaded_model.load_state_dict(torch.load('../../data/taxi_model.pt'))\n",
    "\n",
    "loaded_model.eval()"
   ]
  },
  {
   "cell_type": "markdown",
   "metadata": {},
   "source": [
    "## Make Prediction(s)"
   ]
  },
  {
   "cell_type": "code",
   "execution_count": 150,
   "metadata": {},
   "outputs": [
    {
     "data": {
      "text/plain": [
       "7.205894470214844"
      ]
     },
     "execution_count": 150,
     "metadata": {},
     "output_type": "execute_result"
    }
   ],
   "source": [
    "# Singular prediction.\n",
    "pickup_datetime = '2010-04-19 08:17:56 UTC'\n",
    "fare_amount = -1\n",
    "expected_fare_amount = 6.5\n",
    "fare_class = 0\n",
    "pickup_longitude = -73.992365\n",
    "pickup_latitude = 40.730521\n",
    "dropoff_longitude = -73.975499\n",
    "dropoff_latitude = 40.744746\n",
    "passenger_count = 1\n",
    "\n",
    "# Create a DF from the data.\n",
    "df_to_predict = pd.DataFrame({\n",
    "    'pickup_datetime': [pickup_datetime],\n",
    "    'fare_amount': [fare_amount],\n",
    "    'fare_class': [fare_class],\n",
    "    'pickup_longitude': [pickup_longitude],\n",
    "    'pickup_latitude': [pickup_latitude],\n",
    "    'dropoff_longitude': [dropoff_longitude],\n",
    "    'dropoff_latitude': [dropoff_latitude],\n",
    "    'passenger_count': [passenger_count]\n",
    "})\n",
    "\n",
    "featurized_df_to_predict = featurize_distance_from_coordinates(df_to_predict, lat1_col_name='pickup_latitude', lng1_col_name='pickup_longitude', lat2_col_name='dropoff_latitude', lng2_col_name='dropoff_longitude')\n",
    "featurized_df_to_predict = featurize_time_from_column(featurized_df_to_predict, column_name='pickup_datetime')\n",
    "featurized_df_to_predict, embedding_sizes = featurized_categorical_data(featurized_df_to_predict, categorical_column_names)\n",
    "x_continuous_to_predict, x_categorical_to_predict, _ = get_tensor_for_featurized_df(df=featurized_df_to_predict, \n",
    "                                                              label_column_name=label_column_name, \n",
    "                                                              categorical_column_names=categorical_column_names)\n",
    "\n",
    "loaded_model(x_categorical_to_predict, x_continuous_to_predict)[0].item()"
   ]
  },
  {
   "cell_type": "code",
   "execution_count": 170,
   "metadata": {},
   "outputs": [
    {
     "data": {
      "text/html": [
       "<div>\n",
       "<style scoped>\n",
       "    .dataframe tbody tr th:only-of-type {\n",
       "        vertical-align: middle;\n",
       "    }\n",
       "\n",
       "    .dataframe tbody tr th {\n",
       "        vertical-align: top;\n",
       "    }\n",
       "\n",
       "    .dataframe thead th {\n",
       "        text-align: right;\n",
       "    }\n",
       "</style>\n",
       "<table border=\"1\" class=\"dataframe\">\n",
       "  <thead>\n",
       "    <tr style=\"text-align: right;\">\n",
       "      <th></th>\n",
       "      <th>pickup_datetime</th>\n",
       "      <th>fare_amount</th>\n",
       "      <th>fare_class</th>\n",
       "      <th>pickup_longitude</th>\n",
       "      <th>pickup_latitude</th>\n",
       "      <th>dropoff_longitude</th>\n",
       "      <th>dropoff_latitude</th>\n",
       "      <th>passenger_count</th>\n",
       "      <th>predicted_fare</th>\n",
       "    </tr>\n",
       "  </thead>\n",
       "  <tbody>\n",
       "    <tr>\n",
       "      <th>0</th>\n",
       "      <td>2010-04-19 08:17:56 UTC</td>\n",
       "      <td>6.5</td>\n",
       "      <td>0</td>\n",
       "      <td>-73.992365</td>\n",
       "      <td>40.730521</td>\n",
       "      <td>-73.975499</td>\n",
       "      <td>40.744746</td>\n",
       "      <td>1</td>\n",
       "      <td>5.962792</td>\n",
       "    </tr>\n",
       "    <tr>\n",
       "      <th>1</th>\n",
       "      <td>2010-04-17 15:43:53 UTC</td>\n",
       "      <td>6.9</td>\n",
       "      <td>0</td>\n",
       "      <td>-73.990078</td>\n",
       "      <td>40.740558</td>\n",
       "      <td>-73.974232</td>\n",
       "      <td>40.744114</td>\n",
       "      <td>1</td>\n",
       "      <td>7.119373</td>\n",
       "    </tr>\n",
       "    <tr>\n",
       "      <th>2</th>\n",
       "      <td>2010-04-17 11:23:26 UTC</td>\n",
       "      <td>10.1</td>\n",
       "      <td>1</td>\n",
       "      <td>-73.994149</td>\n",
       "      <td>40.751118</td>\n",
       "      <td>-73.960064</td>\n",
       "      <td>40.766235</td>\n",
       "      <td>2</td>\n",
       "      <td>10.311134</td>\n",
       "    </tr>\n",
       "    <tr>\n",
       "      <th>3</th>\n",
       "      <td>2010-04-11 21:25:03 UTC</td>\n",
       "      <td>8.9</td>\n",
       "      <td>0</td>\n",
       "      <td>-73.990485</td>\n",
       "      <td>40.756422</td>\n",
       "      <td>-73.971205</td>\n",
       "      <td>40.748192</td>\n",
       "      <td>1</td>\n",
       "      <td>8.206583</td>\n",
       "    </tr>\n",
       "    <tr>\n",
       "      <th>4</th>\n",
       "      <td>2010-04-17 02:19:01 UTC</td>\n",
       "      <td>19.7</td>\n",
       "      <td>1</td>\n",
       "      <td>-73.990976</td>\n",
       "      <td>40.734202</td>\n",
       "      <td>-73.905956</td>\n",
       "      <td>40.743115</td>\n",
       "      <td>1</td>\n",
       "      <td>16.240570</td>\n",
       "    </tr>\n",
       "  </tbody>\n",
       "</table>\n",
       "</div>"
      ],
      "text/plain": [
       "           pickup_datetime  fare_amount  fare_class  pickup_longitude  \\\n",
       "0  2010-04-19 08:17:56 UTC          6.5           0        -73.992365   \n",
       "1  2010-04-17 15:43:53 UTC          6.9           0        -73.990078   \n",
       "2  2010-04-17 11:23:26 UTC         10.1           1        -73.994149   \n",
       "3  2010-04-11 21:25:03 UTC          8.9           0        -73.990485   \n",
       "4  2010-04-17 02:19:01 UTC         19.7           1        -73.990976   \n",
       "\n",
       "   pickup_latitude  dropoff_longitude  dropoff_latitude  passenger_count  \\\n",
       "0        40.730521         -73.975499         40.744746                1   \n",
       "1        40.740558         -73.974232         40.744114                1   \n",
       "2        40.751118         -73.960064         40.766235                2   \n",
       "3        40.756422         -73.971205         40.748192                1   \n",
       "4        40.734202         -73.905956         40.743115                1   \n",
       "\n",
       "   predicted_fare  \n",
       "0        5.962792  \n",
       "1        7.119373  \n",
       "2       10.311134  \n",
       "3        8.206583  \n",
       "4       16.240570  "
      ]
     },
     "execution_count": 170,
     "metadata": {},
     "output_type": "execute_result"
    }
   ],
   "source": [
    "# Multiple predictions at once.\n",
    "original_df = df.copy()\n",
    "predictions = model(x_categorical, x_continuous)\n",
    "original_df['predicted_fare'] = pd.Series([pred.item() for pred in predictions])\n",
    "\n",
    "original_df.head()"
   ]
  },
  {
   "cell_type": "code",
   "execution_count": 196,
   "metadata": {},
   "outputs": [
    {
     "data": {
      "text/plain": [
       "<AxesSubplot:xlabel='pickup_datetime'>"
      ]
     },
     "execution_count": 196,
     "metadata": {},
     "output_type": "execute_result"
    },
    {
     "data": {
      "image/png": "[encoded data removed]",
      "text/plain": [
       "<Figure size 432x288 with 1 Axes>"
      ]
     },
     "metadata": {
      "needs_background": "light"
     },
     "output_type": "display_data"
    }
   ],
   "source": [
    "# Visuallize actual vs predicted values.\n",
    "predicted_df_to_visualize = original_df.copy()\n",
    "predicted_df_to_visualize['pickup_datetime'] = pd.to_datetime(predicted_df_to_visualize['pickup_datetime'])\n",
    "predicted_df_to_visualize.set_index('pickup_datetime', inplace=True)\n",
    "\n",
    "predicted_df_to_visualize.fare_amount[-100:].plot()\n",
    "predicted_df_to_visualize.predicted_fare[-100:].plot()"
   ]
  },
  {
   "cell_type": "code",
   "execution_count": null,
   "metadata": {},
   "outputs": [],
   "source": []
  }
 ],
 "metadata": {
  "kernelspec": {
   "display_name": "Python 3.9.7 ('windows-ml-station')",
   "language": "python",
   "name": "python3"
  },
  "language_info": {
   "codemirror_mode": {
    "name": "ipython",
    "version": 3
   },
   "file_extension": ".py",
   "mimetype": "text/x-python",
   "name": "python",
   "nbconvert_exporter": "python",
   "pygments_lexer": "ipython3",
   "version": "3.9.7"
  },
  "orig_nbformat": 4,
  "vscode": {
   "interpreter": {
    "hash": "f2d2799229849fd2c86aa3751486a343a6caa647b525ae379976f27c22f61e0e"
   }
  }
 },
 "nbformat": 4,
 "nbformat_minor": 2
}
