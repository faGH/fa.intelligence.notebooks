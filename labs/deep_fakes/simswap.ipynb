{
 "cells": [
  {
   "cell_type": "markdown",
   "metadata": {},
   "source": [
    "# SimSwap Deep Fakes\n",
    "- Uses a GAN architecture (More specifically encoder/decoder architecture).\n",
    "- Source and target image goes into the encoder.\n",
    "- Result comes out of the decoder."
   ]
  },
  {
   "cell_type": "markdown",
   "metadata": {},
   "source": [
    "## Install Dependencies"
   ]
  },
  {
   "cell_type": "code",
   "execution_count": 1,
   "metadata": {},
   "outputs": [
    {
     "name": "stderr",
     "output_type": "stream",
     "text": [
      "Cloning into 'SimSwap'...\n",
      "Updating files:  53% (72/135)\n",
      "Updating files:  54% (73/135)\n",
      "Updating files:  55% (75/135)\n",
      "Updating files:  56% (76/135)\n",
      "Updating files:  57% (77/135)\n",
      "Updating files:  58% (79/135)\n",
      "Updating files:  59% (80/135)\n",
      "Updating files:  60% (81/135)\n",
      "Updating files:  60% (82/135)\n",
      "Updating files:  61% (83/135)\n",
      "Updating files:  62% (84/135)\n",
      "Updating files:  63% (86/135)\n",
      "Updating files:  64% (87/135)\n",
      "Updating files:  65% (88/135)\n",
      "Updating files:  66% (90/135)\n",
      "Updating files:  67% (91/135)\n",
      "Updating files:  68% (92/135)\n",
      "Updating files:  69% (94/135)\n",
      "Updating files:  70% (95/135)\n",
      "Updating files:  71% (96/135)\n",
      "Updating files:  72% (98/135)\n",
      "Updating files:  73% (99/135)\n",
      "Updating files:  74% (100/135)\n",
      "Updating files:  75% (102/135)\n",
      "Updating files:  76% (103/135)\n",
      "Updating files:  77% (104/135)\n",
      "Updating files:  78% (106/135)\n",
      "Updating files:  79% (107/135)\n",
      "Updating files:  80% (108/135)\n",
      "Updating files:  81% (110/135)\n",
      "Updating files:  82% (111/135)\n",
      "Updating files:  83% (113/135)\n",
      "Updating files:  84% (114/135)\n",
      "Updating files:  85% (115/135)\n",
      "Updating files:  86% (117/135)\n",
      "Updating files:  87% (118/135)\n",
      "Updating files:  88% (119/135)\n",
      "Updating files:  89% (121/135)\n",
      "Updating files:  90% (122/135)\n",
      "Updating files:  91% (123/135)\n",
      "Updating files:  92% (125/135)\n",
      "Updating files:  93% (126/135)\n",
      "Updating files:  94% (127/135)\n",
      "Updating files:  95% (129/135)\n",
      "Updating files:  96% (130/135)\n",
      "Updating files:  97% (131/135)\n",
      "Updating files:  98% (133/135)\n",
      "Updating files:  99% (134/135)\n",
      "Updating files: 100% (135/135)\n",
      "Updating files: 100% (135/135), done.\n"
     ]
    }
   ],
   "source": [
    "!git clone https://github.com/neuralchen/SimSwap"
   ]
  },
  {
   "cell_type": "code",
   "execution_count": 2,
   "metadata": {},
   "outputs": [
    {
     "name": "stdout",
     "output_type": "stream",
     "text": [
      "Requirement already satisfied: torch in c:\\users\\divanma\\.conda\\envs\\windows-ml-station\\lib\\site-packages (1.11.0)\n",
      "Requirement already satisfied: torchvision in c:\\users\\divanma\\.conda\\envs\\windows-ml-station\\lib\\site-packages (0.12.0)\n",
      "Collecting torchaudio\n",
      "  Downloading torchaudio-0.11.0-cp39-cp39-win_amd64.whl (372 kB)\n",
      "     -------------------------------------- 372.4/372.4 KB 7.7 MB/s eta 0:00:00\n",
      "Requirement already satisfied: typing-extensions in c:\\users\\divanma\\.conda\\envs\\windows-ml-station\\lib\\site-packages (from torch) (3.7.4.3)\n",
      "Requirement already satisfied: requests in c:\\users\\divanma\\.conda\\envs\\windows-ml-station\\lib\\site-packages (from torchvision) (2.27.1)\n",
      "Requirement already satisfied: pillow!=8.3.*,>=5.3.0 in c:\\users\\divanma\\.conda\\envs\\windows-ml-station\\lib\\site-packages (from torchvision) (9.0.1)\n",
      "Requirement already satisfied: numpy in c:\\users\\divanma\\.conda\\envs\\windows-ml-station\\lib\\site-packages (from torchvision) (1.19.1)\n",
      "Requirement already satisfied: charset-normalizer~=2.0.0 in c:\\users\\divanma\\.conda\\envs\\windows-ml-station\\lib\\site-packages (from requests->torchvision) (2.0.0)\n",
      "Requirement already satisfied: idna<4,>=2.5 in c:\\users\\divanma\\.conda\\envs\\windows-ml-station\\lib\\site-packages (from requests->torchvision) (3.1)\n",
      "Requirement already satisfied: certifi>=2017.4.17 in c:\\users\\divanma\\.conda\\envs\\windows-ml-station\\lib\\site-packages (from requests->torchvision) (2021.10.8)\n",
      "Requirement already satisfied: urllib3<1.27,>=1.21.1 in c:\\users\\divanma\\.conda\\envs\\windows-ml-station\\lib\\site-packages (from requests->torchvision) (1.26.7)\n",
      "Installing collected packages: torchaudio\n",
      "Successfully installed torchaudio-0.11.0\n"
     ]
    },
    {
     "name": "stderr",
     "output_type": "stream",
     "text": [
      "WARNING: Ignoring invalid distribution -ymupdf (c:\\users\\divanma\\.conda\\envs\\windows-ml-station\\lib\\site-packages)\n",
      "WARNING: Ignoring invalid distribution -illow (c:\\users\\divanma\\.conda\\envs\\windows-ml-station\\lib\\site-packages)\n",
      "WARNING: Ignoring invalid distribution -ymupdf (c:\\users\\divanma\\.conda\\envs\\windows-ml-station\\lib\\site-packages)\n",
      "WARNING: Ignoring invalid distribution -illow (c:\\users\\divanma\\.conda\\envs\\windows-ml-station\\lib\\site-packages)\n",
      "WARNING: Ignoring invalid distribution -ymupdf (c:\\users\\divanma\\.conda\\envs\\windows-ml-station\\lib\\site-packages)\n",
      "WARNING: Ignoring invalid distribution -illow (c:\\users\\divanma\\.conda\\envs\\windows-ml-station\\lib\\site-packages)\n",
      "WARNING: Ignoring invalid distribution -ymupdf (c:\\users\\divanma\\.conda\\envs\\windows-ml-station\\lib\\site-packages)\n",
      "WARNING: Ignoring invalid distribution -illow (c:\\users\\divanma\\.conda\\envs\\windows-ml-station\\lib\\site-packages)\n",
      "WARNING: Ignoring invalid distribution -ymupdf (c:\\users\\divanma\\.conda\\envs\\windows-ml-station\\lib\\site-packages)\n",
      "WARNING: Ignoring invalid distribution -illow (c:\\users\\divanma\\.conda\\envs\\windows-ml-station\\lib\\site-packages)\n",
      "WARNING: Ignoring invalid distribution -ymupdf (c:\\users\\divanma\\.conda\\envs\\windows-ml-station\\lib\\site-packages)\n",
      "WARNING: Ignoring invalid distribution -illow (c:\\users\\divanma\\.conda\\envs\\windows-ml-station\\lib\\site-packages)\n"
     ]
    }
   ],
   "source": [
    "!pip install torch torchvision torchaudio"
   ]
  },
  {
   "cell_type": "code",
   "execution_count": 4,
   "metadata": {},
   "outputs": [
    {
     "name": "stdout",
     "output_type": "stream",
     "text": [
      "Collecting imageio"
     ]
    },
    {
     "name": "stderr",
     "output_type": "stream",
     "text": [
      "WARNING: Ignoring invalid distribution -ymupdf (c:\\users\\divanma\\.conda\\envs\\windows-ml-station\\lib\\site-packages)\n",
      "WARNING: Ignoring invalid distribution -illow (c:\\users\\divanma\\.conda\\envs\\windows-ml-station\\lib\\site-packages)\n",
      "WARNING: Ignoring invalid distribution -ymupdf (c:\\users\\divanma\\.conda\\envs\\windows-ml-station\\lib\\site-packages)\n",
      "WARNING: Ignoring invalid distribution -illow (c:\\users\\divanma\\.conda\\envs\\windows-ml-station\\lib\\site-packages)\n",
      "WARNING: Ignoring invalid distribution -ymupdf (c:\\users\\divanma\\.conda\\envs\\windows-ml-station\\lib\\site-packages)\n",
      "WARNING: Ignoring invalid distribution -illow (c:\\users\\divanma\\.conda\\envs\\windows-ml-station\\lib\\site-packages)\n",
      "WARNING: Ignoring invalid distribution -ymupdf (c:\\users\\divanma\\.conda\\envs\\windows-ml-station\\lib\\site-packages)\n",
      "WARNING: Ignoring invalid distribution -illow (c:\\users\\divanma\\.conda\\envs\\windows-ml-station\\lib\\site-packages)\n",
      "WARNING: Ignoring invalid distribution -ymupdf (c:\\users\\divanma\\.conda\\envs\\windows-ml-station\\lib\\site-packages)\n",
      "WARNING: Ignoring invalid distribution -illow (c:\\users\\divanma\\.conda\\envs\\windows-ml-station\\lib\\site-packages)\n",
      "ERROR: pip's dependency resolver does not currently take into account all the packages that are installed. This behaviour is the source of the following dependency conflicts.\n",
      "tensorforce 0.6.5 requires numpy==1.19.5, but you have numpy 1.22.3 which is incompatible.\n",
      "tensorflow 2.6.0 requires numpy~=1.19.2, but you have numpy 1.22.3 which is incompatible.\n",
      "tensorflow 2.6.0 requires six~=1.15.0, but you have six 1.12.0 which is incompatible.\n",
      "WARNING: Ignoring invalid distribution -ymupdf (c:\\users\\divanma\\.conda\\envs\\windows-ml-station\\lib\\site-packages)\n",
      "WARNING: Ignoring invalid distribution -illow (c:\\users\\divanma\\.conda\\envs\\windows-ml-station\\lib\\site-packages)\n",
      "WARNING: Ignoring invalid distribution -ymupdf (c:\\users\\divanma\\.conda\\envs\\windows-ml-station\\lib\\site-packages)\n",
      "WARNING: Ignoring invalid distribution -illow (c:\\users\\divanma\\.conda\\envs\\windows-ml-station\\lib\\site-packages)\n"
     ]
    },
    {
     "name": "stdout",
     "output_type": "stream",
     "text": [
      "\n",
      "  Downloading imageio-2.16.1-py3-none-any.whl (3.3 MB)\n",
      "     ---------------------------------------- 3.3/3.3 MB 8.5 MB/s eta 0:00:00\n",
      "Collecting pillow>=8.3.2\n",
      "  Using cached Pillow-9.0.1-cp39-cp39-win_amd64.whl (3.2 MB)\n",
      "Collecting numpy>=1.20.0\n",
      "  Using cached numpy-1.22.3-cp39-cp39-win_amd64.whl (14.7 MB)\n",
      "Installing collected packages: pillow, numpy, imageio\n",
      "Successfully installed imageio-2.16.1 numpy-1.22.3 pillow-9.0.1\n"
     ]
    }
   ],
   "source": [
    "!pip install --ignore-installed imageio"
   ]
  },
  {
   "cell_type": "code",
   "execution_count": 3,
   "metadata": {},
   "outputs": [
    {
     "name": "stdout",
     "output_type": "stream",
     "text": [
      "Collecting insightface==0.2.1\n",
      "  Downloading insightface-0.2.1-py2.py3-none-any.whl (24 kB)\n",
      "Collecting moviepy\n",
      "  Downloading moviepy-1.0.3.tar.gz (388 kB)\n"
     ]
    },
    {
     "name": "stderr",
     "output_type": "stream",
     "text": [
      "WARNING: Ignoring invalid distribution -ymupdf (c:\\users\\divanma\\.conda\\envs\\windows-ml-station\\lib\\site-packages)\n",
      "WARNING: Ignoring invalid distribution -illow (c:\\users\\divanma\\.conda\\envs\\windows-ml-station\\lib\\site-packages)\n",
      "WARNING: Ignoring invalid distribution -ymupdf (c:\\users\\divanma\\.conda\\envs\\windows-ml-station\\lib\\site-packages)\n",
      "WARNING: Ignoring invalid distribution -illow (c:\\users\\divanma\\.conda\\envs\\windows-ml-station\\lib\\site-packages)\n",
      "WARNING: Ignoring invalid distribution -ymupdf (c:\\users\\divanma\\.conda\\envs\\windows-ml-station\\lib\\site-packages)\n",
      "WARNING: Ignoring invalid distribution -illow (c:\\users\\divanma\\.conda\\envs\\windows-ml-station\\lib\\site-packages)\n",
      "    WARNING: Ignoring invalid distribution -ymupdf (c:\\users\\divanma\\.conda\\envs\\windows-ml-station\\lib\\site-packages)\n",
      "    WARNING: Ignoring invalid distribution -illow (c:\\users\\divanma\\.conda\\envs\\windows-ml-station\\lib\\site-packages)\n",
      "    WARNING: Ignoring invalid distribution -ymupdf (c:\\users\\divanma\\.conda\\envs\\windows-ml-station\\lib\\site-packages)\n",
      "    WARNING: Ignoring invalid distribution -illow (c:\\users\\divanma\\.conda\\envs\\windows-ml-station\\lib\\site-packages)\n",
      "WARNING: Ignoring invalid distribution -ymupdf (c:\\users\\divanma\\.conda\\envs\\windows-ml-station\\lib\\site-packages)\n",
      "WARNING: Ignoring invalid distribution -illow (c:\\users\\divanma\\.conda\\envs\\windows-ml-station\\lib\\site-packages)\n",
      "WARNING: Ignoring invalid distribution -ymupdf (c:\\users\\divanma\\.conda\\envs\\windows-ml-station\\lib\\site-packages)\n",
      "WARNING: Ignoring invalid distribution -illow (c:\\users\\divanma\\.conda\\envs\\windows-ml-station\\lib\\site-packages)"
     ]
    },
    {
     "name": "stdout",
     "output_type": "stream",
     "text": [
      "     -------------------------------------- 388.3/388.3 KB 8.0 MB/s eta 0:00:00\n",
      "  Preparing metadata (setup.py): started\n",
      "  Preparing metadata (setup.py): finished with status 'done'\n",
      "Collecting onnxruntime-gpu==1.9.0\n",
      "  Downloading onnxruntime_gpu-1.9.0-cp39-cp39-win_amd64.whl (95.8 MB)\n",
      "     ---------------------------------------- 95.8/95.8 MB 3.5 MB/s eta 0:00:00\n",
      "Requirement already satisfied: scikit-learn in c:\\users\\divanma\\.conda\\envs\\windows-ml-station\\lib\\site-packages (from insightface==0.2.1) (1.0)\n",
      "Requirement already satisfied: matplotlib in c:\\users\\divanma\\.conda\\envs\\windows-ml-station\\lib\\site-packages (from insightface==0.2.1) (3.4.3)\n",
      "Requirement already satisfied: requests in c:\\users\\divanma\\.conda\\envs\\windows-ml-station\\lib\\site-packages (from insightface==0.2.1) (2.27.1)\n",
      "Collecting scikit-image\n",
      "  Downloading scikit_image-0.19.2-cp39-cp39-win_amd64.whl (12.6 MB)\n",
      "     ---------------------------------------- 12.6/12.6 MB 4.7 MB/s eta 0:00:00\n",
      "Requirement already satisfied: scipy in c:\\users\\divanma\\.conda\\envs\\windows-ml-station\\lib\\site-packages (from insightface==0.2.1) (1.7.1)\n",
      "Requirement already satisfied: opencv-python in c:\\users\\divanma\\.conda\\envs\\windows-ml-station\\lib\\site-packages (from insightface==0.2.1) (4.5.3.56)\n",
      "Requirement already satisfied: numpy in c:\\users\\divanma\\.conda\\envs\\windows-ml-station\\lib\\site-packages (from insightface==0.2.1) (1.19.1)\n",
      "Requirement already satisfied: tqdm in c:\\users\\divanma\\.conda\\envs\\windows-ml-station\\lib\\site-packages (from insightface==0.2.1) (4.62.3)\n",
      "Collecting onnx\n",
      "  Downloading onnx-1.11.0-cp39-cp39-win_amd64.whl (11.2 MB)\n",
      "     ---------------------------------------- 11.2/11.2 MB 6.1 MB/s eta 0:00:00\n",
      "Requirement already satisfied: Pillow in c:\\users\\divanma\\.conda\\envs\\windows-ml-station\\lib\\site-packages (from insightface==0.2.1) (9.0.1)\n",
      "Collecting easydict\n",
      "  Downloading easydict-1.9.tar.gz (6.4 kB)\n",
      "  Preparing metadata (setup.py): started\n",
      "  Preparing metadata (setup.py): finished with status 'done'\n",
      "Requirement already satisfied: flatbuffers in c:\\users\\divanma\\.conda\\envs\\windows-ml-station\\lib\\site-packages (from onnxruntime-gpu==1.9.0) (1.12)\n",
      "Requirement already satisfied: protobuf in c:\\users\\divanma\\.conda\\envs\\windows-ml-station\\lib\\site-packages (from onnxruntime-gpu==1.9.0) (3.18.1)\n",
      "Collecting decorator<5.0,>=4.0.2\n",
      "  Downloading decorator-4.4.2-py2.py3-none-any.whl (9.2 kB)\n",
      "Collecting proglog<=1.0.0\n",
      "  Downloading proglog-0.1.9.tar.gz (10 kB)\n",
      "  Preparing metadata (setup.py): started\n",
      "  Preparing metadata (setup.py): finished with status 'done'\n",
      "Requirement already satisfied: imageio<3.0,>=2.5 in c:\\users\\divanma\\.conda\\envs\\windows-ml-station\\lib\\site-packages (from moviepy) (2.10.1)\n",
      "Collecting imageio_ffmpeg>=0.2.0\n",
      "  Downloading imageio_ffmpeg-0.4.5-py3-none-win_amd64.whl (22.6 MB)\n",
      "     ---------------------------------------- 22.6/22.6 MB 4.1 MB/s eta 0:00:00\n",
      "Requirement already satisfied: idna<4,>=2.5 in c:\\users\\divanma\\.conda\\envs\\windows-ml-station\\lib\\site-packages (from requests->insightface==0.2.1) (3.1)\n",
      "Requirement already satisfied: charset-normalizer~=2.0.0 in c:\\users\\divanma\\.conda\\envs\\windows-ml-station\\lib\\site-packages (from requests->insightface==0.2.1) (2.0.0)\n",
      "Requirement already satisfied: urllib3<1.27,>=1.21.1 in c:\\users\\divanma\\.conda\\envs\\windows-ml-station\\lib\\site-packages (from requests->insightface==0.2.1) (1.26.7)\n",
      "Requirement already satisfied: certifi>=2017.4.17 in c:\\users\\divanma\\.conda\\envs\\windows-ml-station\\lib\\site-packages (from requests->insightface==0.2.1) (2021.10.8)\n",
      "Requirement already satisfied: colorama in c:\\users\\divanma\\.conda\\envs\\windows-ml-station\\lib\\site-packages (from tqdm->insightface==0.2.1) (0.4.4)\n",
      "Requirement already satisfied: pyparsing>=2.2.1 in c:\\users\\divanma\\.conda\\envs\\windows-ml-station\\lib\\site-packages (from matplotlib->insightface==0.2.1) (2.4.7)\n",
      "Requirement already satisfied: python-dateutil>=2.7 in c:\\users\\divanma\\.conda\\envs\\windows-ml-station\\lib\\site-packages (from matplotlib->insightface==0.2.1) (2.8.2)\n",
      "Requirement already satisfied: cycler>=0.10 in c:\\users\\divanma\\.conda\\envs\\windows-ml-station\\lib\\site-packages (from matplotlib->insightface==0.2.1) (0.10.0)\n",
      "Requirement already satisfied: kiwisolver>=1.0.1 in c:\\users\\divanma\\.conda\\envs\\windows-ml-station\\lib\\site-packages (from matplotlib->insightface==0.2.1) (1.3.2)\n",
      "Requirement already satisfied: typing-extensions>=3.6.2.1 in c:\\users\\divanma\\.conda\\envs\\windows-ml-station\\lib\\site-packages (from onnx->insightface==0.2.1) (3.7.4.3)\n",
      "Collecting numpy\n",
      "  Downloading numpy-1.22.3-cp39-cp39-win_amd64.whl (14.7 MB)\n",
      "     ---------------------------------------- 14.7/14.7 MB 5.3 MB/s eta 0:00:00\n",
      "Collecting PyWavelets>=1.1.1\n",
      "  Downloading PyWavelets-1.3.0-cp39-cp39-win_amd64.whl (4.2 MB)\n",
      "     ---------------------------------------- 4.2/4.2 MB 5.3 MB/s eta 0:00:00\n",
      "Requirement already satisfied: packaging>=20.0 in c:\\users\\divanma\\.conda\\envs\\windows-ml-station\\lib\\site-packages (from scikit-image->insightface==0.2.1) (21.0)\n",
      "Requirement already satisfied: networkx>=2.2 in c:\\users\\divanma\\.conda\\envs\\windows-ml-station\\lib\\site-packages (from scikit-image->insightface==0.2.1) (2.7)\n",
      "Collecting tifffile>=2019.7.26\n",
      "  Downloading tifffile-2022.3.25-py3-none-any.whl (179 kB)\n",
      "     -------------------------------------- 179.9/179.9 KB 2.7 MB/s eta 0:00:00\n",
      "Requirement already satisfied: joblib>=0.11 in c:\\users\\divanma\\.conda\\envs\\windows-ml-station\\lib\\site-packages (from scikit-learn->insightface==0.2.1) (1.1.0)\n",
      "Requirement already satisfied: threadpoolctl>=2.0.0 in c:\\users\\divanma\\.conda\\envs\\windows-ml-station\\lib\\site-packages (from scikit-learn->insightface==0.2.1) (3.0.0)\n",
      "Requirement already satisfied: six in c:\\users\\divanma\\.conda\\envs\\windows-ml-station\\lib\\site-packages (from cycler>=0.10->matplotlib->insightface==0.2.1) (1.12.0)\n",
      "Building wheels for collected packages: moviepy, proglog, easydict\n",
      "  Building wheel for moviepy (setup.py): started\n",
      "  Building wheel for moviepy (setup.py): finished with status 'done'\n",
      "  Created wheel for moviepy: filename=moviepy-1.0.3-py3-none-any.whl size=110744 sha256=9f9e54c3023880a90233e661df8164d0bcb3092b8ed924b0496d634002d32f36\n",
      "  Stored in directory: c:\\users\\divanma\\appdata\\local\\pip\\cache\\wheels\\29\\15\\e4\\4f790bec6acd51a00b67e8ee1394f0bc6e0135c315f8ff399a\n",
      "  Building wheel for proglog (setup.py): started\n",
      "  Building wheel for proglog (setup.py): finished with status 'done'\n",
      "  Created wheel for proglog: filename=proglog-0.1.9-py3-none-any.whl size=6157 sha256=63652cf5263720ded2e1f9934f674352cf36945b414ab9c49aaf837e38984634\n",
      "  Stored in directory: c:\\users\\divanma\\appdata\\local\\pip\\cache\\wheels\\3d\\49\\90\\711d235502d9604147607f29cacf99278880246cae65313d95\n",
      "  Building wheel for easydict (setup.py): started\n",
      "  Building wheel for easydict (setup.py): finished with status 'done'\n",
      "  Created wheel for easydict: filename=easydict-1.9-py3-none-any.whl size=6360 sha256=0ac8f37885ccfe44ce30392a00a3c602c406c7c0b61e87d131d06ebf45215f34\n",
      "  Stored in directory: c:\\users\\divanma\\appdata\\local\\pip\\cache\\wheels\\b2\\1c\\36\\fd8efc3fa029b1445d869f359ec13e8fbce7fc9e81505bca66\n",
      "Successfully built moviepy proglog easydict\n",
      "Installing collected packages: easydict, numpy, imageio_ffmpeg, decorator, tifffile, PyWavelets, proglog, onnxruntime-gpu, onnx, scikit-image, moviepy, insightface\n",
      "  Attempting uninstall: numpy\n",
      "    Found existing installation: numpy 1.19.1\n",
      "    Uninstalling numpy-1.19.1:\n",
      "      Successfully uninstalled numpy-1.19.1\n",
      "  Attempting uninstall: decorator\n",
      "    Found existing installation: decorator 5.1.0\n",
      "    Uninstalling decorator-5.1.0:\n",
      "      Successfully uninstalled decorator-5.1.0\n",
      "Successfully installed PyWavelets-1.3.0 decorator-4.4.2 easydict-1.9 imageio_ffmpeg-0.4.5 insightface-0.2.1 moviepy-1.0.3 numpy-1.22.3 onnx-1.11.0 onnxruntime-gpu-1.9.0 proglog-0.1.9 scikit-image-0.19.2 tifffile-2022.3.25\n"
     ]
    },
    {
     "name": "stderr",
     "output_type": "stream",
     "text": [
      "\n",
      "WARNING: Ignoring invalid distribution -ymupdf (c:\\users\\divanma\\.conda\\envs\\windows-ml-station\\lib\\site-packages)\n",
      "WARNING: Ignoring invalid distribution -illow (c:\\users\\divanma\\.conda\\envs\\windows-ml-station\\lib\\site-packages)\n",
      "WARNING: Ignoring invalid distribution -ymupdf (c:\\users\\divanma\\.conda\\envs\\windows-ml-station\\lib\\site-packages)\n",
      "WARNING: Ignoring invalid distribution -illow (c:\\users\\divanma\\.conda\\envs\\windows-ml-station\\lib\\site-packages)\n",
      "WARNING: Ignoring invalid distribution -ymupdf (c:\\users\\divanma\\.conda\\envs\\windows-ml-station\\lib\\site-packages)\n",
      "WARNING: Ignoring invalid distribution -illow (c:\\users\\divanma\\.conda\\envs\\windows-ml-station\\lib\\site-packages)\n",
      "WARNING: Ignoring invalid distribution -ymupdf (c:\\users\\divanma\\.conda\\envs\\windows-ml-station\\lib\\site-packages)\n",
      "WARNING: Ignoring invalid distribution -illow (c:\\users\\divanma\\.conda\\envs\\windows-ml-station\\lib\\site-packages)\n",
      "WARNING: Ignoring invalid distribution -ymupdf (c:\\users\\divanma\\.conda\\envs\\windows-ml-station\\lib\\site-packages)\n",
      "WARNING: Ignoring invalid distribution -illow (c:\\users\\divanma\\.conda\\envs\\windows-ml-station\\lib\\site-packages)\n",
      "WARNING: Ignoring invalid distribution -ymupdf (c:\\users\\divanma\\.conda\\envs\\windows-ml-station\\lib\\site-packages)\n",
      "WARNING: Ignoring invalid distribution -illow (c:\\users\\divanma\\.conda\\envs\\windows-ml-station\\lib\\site-packages)\n",
      "WARNING: Ignoring invalid distribution -ymupdf (c:\\users\\divanma\\.conda\\envs\\windows-ml-station\\lib\\site-packages)\n",
      "WARNING: Ignoring invalid distribution -illow (c:\\users\\divanma\\.conda\\envs\\windows-ml-station\\lib\\site-packages)\n",
      "WARNING: Ignoring invalid distribution -ymupdf (c:\\users\\divanma\\.conda\\envs\\windows-ml-station\\lib\\site-packages)\n",
      "WARNING: Ignoring invalid distribution -illow (c:\\users\\divanma\\.conda\\envs\\windows-ml-station\\lib\\site-packages)\n",
      "WARNING: Ignoring invalid distribution -ymupdf (c:\\users\\divanma\\.conda\\envs\\windows-ml-station\\lib\\site-packages)\n",
      "WARNING: Ignoring invalid distribution -illow (c:\\users\\divanma\\.conda\\envs\\windows-ml-station\\lib\\site-packages)\n",
      "WARNING: Ignoring invalid distribution -ymupdf (c:\\users\\divanma\\.conda\\envs\\windows-ml-station\\lib\\site-packages)\n",
      "WARNING: Ignoring invalid distribution -illow (c:\\users\\divanma\\.conda\\envs\\windows-ml-station\\lib\\site-packages)\n",
      "ERROR: pip's dependency resolver does not currently take into account all the packages that are installed. This behaviour is the source of the following dependency conflicts.\n",
      "tensorforce 0.6.5 requires numpy==1.19.5, but you have numpy 1.22.3 which is incompatible.\n",
      "tensorflow 2.6.0 requires numpy~=1.19.2, but you have numpy 1.22.3 which is incompatible.\n",
      "tensorflow 2.6.0 requires six~=1.15.0, but you have six 1.12.0 which is incompatible.\n",
      "WARNING: Ignoring invalid distribution -ymupdf (c:\\users\\divanma\\.conda\\envs\\windows-ml-station\\lib\\site-packages)\n",
      "WARNING: Ignoring invalid distribution -illow (c:\\users\\divanma\\.conda\\envs\\windows-ml-station\\lib\\site-packages)\n",
      "WARNING: Ignoring invalid distribution -ymupdf (c:\\users\\divanma\\.conda\\envs\\windows-ml-station\\lib\\site-packages)\n",
      "WARNING: Ignoring invalid distribution -illow (c:\\users\\divanma\\.conda\\envs\\windows-ml-station\\lib\\site-packages)\n"
     ]
    }
   ],
   "source": [
    "!pip install insightface==0.2.1 onnxruntime moviepy"
   ]
  },
  {
   "cell_type": "markdown",
   "metadata": {},
   "source": [
    "## Inference"
   ]
  },
  {
   "cell_type": "markdown",
   "metadata": {},
   "source": [
    "### Images"
   ]
  },
  {
   "cell_type": "code",
   "execution_count": 7,
   "metadata": {},
   "outputs": [
    {
     "name": "stderr",
     "output_type": "stream",
     "text": [
      "usage: test_one_image.py [-h] [--name NAME] [--gpu_ids GPU_IDS]\n",
      "                         [--checkpoints_dir CHECKPOINTS_DIR] [--model MODEL]\n",
      "                         [--norm NORM] [--use_dropout] [--data_type {8,16,32}]\n",
      "                         [--verbose] [--fp16] [--local_rank LOCAL_RANK]\n",
      "                         [--isTrain ISTRAIN] [--batchSize BATCHSIZE]\n",
      "                         [--loadSize LOADSIZE] [--fineSize FINESIZE]\n",
      "                         [--label_nc LABEL_NC] [--input_nc INPUT_NC]\n",
      "                         [--output_nc OUTPUT_NC] [--dataroot DATAROOT]\n",
      "                         [--resize_or_crop RESIZE_OR_CROP] [--serial_batches]\n",
      "                         [--no_flip] [--nThreads NTHREADS]\n",
      "                         [--max_dataset_size MAX_DATASET_SIZE]\n",
      "                         [--display_winsize DISPLAY_WINSIZE] [--tf_log]\n",
      "                         [--netG NETG] [--latent_size LATENT_SIZE] [--ngf NGF]\n",
      "                         [--n_downsample_global N_DOWNSAMPLE_GLOBAL]\n",
      "                         [--n_blocks_global N_BLOCKS_GLOBAL]\n",
      "                         [--n_blocks_local N_BLOCKS_LOCAL]\n",
      "                         [--n_local_enhancers N_LOCAL_ENHANCERS]\n",
      "                         [--niter_fix_global NITER_FIX_GLOBAL] [--no_instance]\n",
      "                         [--instance_feat] [--label_feat]\n",
      "                         [--feat_num FEAT_NUM] [--load_features]\n",
      "                         [--n_downsample_E N_DOWNSAMPLE_E] [--nef NEF]\n",
      "                         [--n_clusters N_CLUSTERS] [--image_size IMAGE_SIZE]\n",
      "                         [--norm_G NORM_G] [--semantic_nc SEMANTIC_NC]\n",
      "                         [--ntest NTEST] [--results_dir RESULTS_DIR]\n",
      "                         [--aspect_ratio ASPECT_RATIO] [--phase PHASE]\n",
      "                         [--which_epoch WHICH_EPOCH] [--how_many HOW_MANY]\n",
      "                         [--cluster_path CLUSTER_PATH] [--use_encoded_image]\n",
      "                         [--export_onnx EXPORT_ONNX] [--engine ENGINE]\n",
      "                         [--onnx ONNX] [--Arc_path ARC_PATH]\n",
      "                         [--pic_a_path PIC_A_PATH] [--pic_b_path PIC_B_PATH]\n",
      "                         [--pic_specific_path PIC_SPECIFIC_PATH]\n",
      "                         [--multisepcific_dir MULTISEPCIFIC_DIR]\n",
      "                         [--video_path VIDEO_PATH] [--temp_path TEMP_PATH]\n",
      "                         [--output_path OUTPUT_PATH] [--id_thres ID_THRES]\n",
      "                         [--no_simswaplogo] [--use_mask]\n",
      "                         [--crop_size CROP_SIZE]\n",
      "test_one_image.py: error: unrecognized arguments: --device cpu\n"
     ]
    }
   ],
   "source": [
    "!cd SimSwap & python test_one_image.py --device cpu --name people --Arc_path arcface_model/arcface_checkpoint.tar --pic_a_path crop_224/deanm.jpg --pic_b_path crop_224/6.jpg --output_path output/ "
   ]
  },
  {
   "cell_type": "markdown",
   "metadata": {},
   "source": [
    "### Videos"
   ]
  },
  {
   "cell_type": "code",
   "execution_count": null,
   "metadata": {},
   "outputs": [],
   "source": [
    "!cd SimSwap & python test_video_swapsingle.py --crop_size 224 --use_mask --name people --Arc_path arcface_model/arcface_checkpoint.tar --pic_a_path ./videoswap/Iron_man.jpg --video_path ./videoswap/nic"
   ]
  },
  {
   "cell_type": "code",
   "execution_count": null,
   "metadata": {},
   "outputs": [],
   "source": [
    "!cd SimSwap & python test_video_swapsingle.py  --crop_size 224 --use_mask --name people --Arc_path arcface_model/arcface_checkpoint.tar --pic_a_path ./videoswap/Capture.png --video_path"
   ]
  },
  {
   "cell_type": "markdown",
   "metadata": {},
   "source": [
    "# References\n",
    "- https://www.youtube.com/watch?v=IHLwjiBmf-g\n",
    "- https://github.com/neuralchen/SimSwap"
   ]
  },
  {
   "cell_type": "markdown",
   "metadata": {},
   "source": []
  }
 ],
 "metadata": {
  "interpreter": {
   "hash": "2c96ffff15f49694e20d6af92a59f54c1cf6ff4da4eb0cf9141168fba41748bf"
  },
  "kernelspec": {
   "display_name": "Python 3.9.7 ('windows-ml-station')",
   "language": "python",
   "name": "python3"
  },
  "language_info": {
   "codemirror_mode": {
    "name": "ipython",
    "version": 3
   },
   "file_extension": ".py",
   "mimetype": "text/x-python",
   "name": "python",
   "nbconvert_exporter": "python",
   "pygments_lexer": "ipython3",
   "version": "3.9.7"
  },
  "orig_nbformat": 4
 },
 "nbformat": 4,
 "nbformat_minor": 2
}
