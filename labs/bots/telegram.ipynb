{
 "cells": [
  {
   "cell_type": "markdown",
   "metadata": {},
   "source": [
    "# Install Dependencies"
   ]
  },
  {
   "cell_type": "code",
   "execution_count": 163,
   "metadata": {},
   "outputs": [
    {
     "name": "stdout",
     "output_type": "stream",
     "text": [
      "zsh:1: command not found: pip\n"
     ]
    }
   ],
   "source": [
    "!pip install -U python-telegram-bot"
   ]
  },
  {
   "cell_type": "markdown",
   "metadata": {},
   "source": [
    "# Import Dependencies"
   ]
  },
  {
   "cell_type": "code",
   "execution_count": 164,
   "metadata": {},
   "outputs": [],
   "source": [
    "from telegram import Update, InlineQueryResultArticle, InputTextMessageContent, ParseMode\n",
    "from telegram.ext import Updater, CallbackContext, InlineQueryHandler\n",
    "from telegram.ext import CommandHandler, MessageHandler, Filters\n",
    "import logging\n",
    "\n",
    "logging.basicConfig(format='%(asctime)s - %(name)s - %(levelname)s - %(message)s',\n",
    "                     level=logging.INFO)"
   ]
  },
  {
   "cell_type": "markdown",
   "metadata": {},
   "source": [
    "# Bot"
   ]
  },
  {
   "cell_type": "markdown",
   "metadata": {},
   "source": [
    "## Config"
   ]
  },
  {
   "cell_type": "code",
   "execution_count": 165,
   "metadata": {},
   "outputs": [],
   "source": [
    "bot_token = '5535601062:AAGpXCCTWa8OBajV3AeTPrmIOIFjPi_H3p8'\n",
    "updater = Updater(token=bot_token)\n",
    "dispatcher = updater.dispatcher"
   ]
  },
  {
   "cell_type": "markdown",
   "metadata": {},
   "source": [
    "## Create Handlers"
   ]
  },
  {
   "cell_type": "code",
   "execution_count": 166,
   "metadata": {},
   "outputs": [],
   "source": [
    "def info_handler(update: Update, context: CallbackContext):\n",
    "    chat_id = update.effective_chat.id\n",
    "    \n",
    "    context.bot.send_message(chat_id=chat_id, \n",
    "                             text=f'Chat Id: {chat_id}\\n\\nFrostAura Consolidated')"
   ]
  },
  {
   "cell_type": "code",
   "execution_count": 167,
   "metadata": {},
   "outputs": [],
   "source": [
    "def text_handler(update: Update, context: CallbackContext):\n",
    "    context.bot.send_message(chat_id=update.effective_chat.id, text=update.message.text)"
   ]
  },
  {
   "cell_type": "code",
   "execution_count": 168,
   "metadata": {},
   "outputs": [],
   "source": [
    "# Inline.\n",
    "def inline_caps(update: Update, context: CallbackContext):\n",
    "    query = update.inline_query.query\n",
    "    if not query:\n",
    "        return\n",
    "    results = []\n",
    "    results.append(\n",
    "        InlineQueryResultArticle(\n",
    "            id=query.upper(),\n",
    "            title='Caps',\n",
    "            input_message_content=InputTextMessageContent(query.upper())\n",
    "        )\n",
    "    )\n",
    "    context.bot.answer_inline_query(update.inline_query.id, results)"
   ]
  },
  {
   "cell_type": "markdown",
   "metadata": {},
   "source": [
    "## Register Handlers"
   ]
  },
  {
   "cell_type": "code",
   "execution_count": 169,
   "metadata": {},
   "outputs": [],
   "source": [
    "start_handler = CommandHandler('info', info_handler)\n",
    "dispatcher.add_handler(start_handler)"
   ]
  },
  {
   "cell_type": "code",
   "execution_count": 170,
   "metadata": {},
   "outputs": [],
   "source": [
    "text_message_handler = MessageHandler(Filters.text & (~Filters.command), text_handler)\n",
    "dispatcher.add_handler(text_message_handler)"
   ]
  },
  {
   "cell_type": "code",
   "execution_count": 171,
   "metadata": {},
   "outputs": [],
   "source": [
    "# Inline\n",
    "inline_caps_handler = InlineQueryHandler(inline_caps)\n",
    "dispatcher.add_handler(inline_caps_handler)"
   ]
  },
  {
   "cell_type": "markdown",
   "metadata": {},
   "source": [
    "## Start the Bot"
   ]
  },
  {
   "cell_type": "code",
   "execution_count": 172,
   "metadata": {},
   "outputs": [
    {
     "name": "stderr",
     "output_type": "stream",
     "text": [
      "2022-08-02 14:15:05,736 - apscheduler.scheduler - INFO - Scheduler started\n"
     ]
    },
    {
     "data": {
      "text/plain": [
       "<queue.Queue at 0x1442d50a0>"
      ]
     },
     "execution_count": 172,
     "metadata": {},
     "output_type": "execute_result"
    }
   ],
   "source": [
    "updater.start_polling()"
   ]
  },
  {
   "cell_type": "code",
   "execution_count": 173,
   "metadata": {},
   "outputs": [],
   "source": [
    "#updater.stop()"
   ]
  },
  {
   "cell_type": "code",
   "execution_count": 174,
   "metadata": {},
   "outputs": [
    {
     "name": "stderr",
     "output_type": "stream",
     "text": [
      "2022-08-02 14:15:07,271 - telegram.ext.updater - ERROR - Error while getting Updates: Conflict: terminated by other getUpdates request; make sure that only one bot instance is running\n",
      "2022-08-02 14:15:07,272 - telegram.ext.dispatcher - ERROR - No error handlers are registered, logging exception.\n",
      "Traceback (most recent call last):\n",
      "  File \"/Users/deanmartin/miniforge3/envs/pytorch/lib/python3.9/site-packages/telegram/ext/updater.py\", line 651, in _network_loop_retry\n",
      "    if not action_cb():\n",
      "  File \"/Users/deanmartin/miniforge3/envs/pytorch/lib/python3.9/site-packages/telegram/ext/updater.py\", line 602, in polling_action_cb\n",
      "    updates = self.bot.get_updates(\n",
      "  File \"/Users/deanmartin/miniforge3/envs/pytorch/lib/python3.9/site-packages/telegram/ext/extbot.py\", line 226, in get_updates\n",
      "    updates = super().get_updates(\n",
      "  File \"/Users/deanmartin/miniforge3/envs/pytorch/lib/python3.9/site-packages/telegram/bot.py\", line 133, in decorator\n",
      "    result = func(*args, **kwargs)\n",
      "  File \"/Users/deanmartin/miniforge3/envs/pytorch/lib/python3.9/site-packages/telegram/bot.py\", line 3057, in get_updates\n",
      "    self._post(\n",
      "  File \"/Users/deanmartin/miniforge3/envs/pytorch/lib/python3.9/site-packages/telegram/bot.py\", line 298, in _post\n",
      "    return self.request.post(\n",
      "  File \"/Users/deanmartin/miniforge3/envs/pytorch/lib/python3.9/site-packages/telegram/utils/request.py\", line 361, in post\n",
      "    result = self._request_wrapper(\n",
      "  File \"/Users/deanmartin/miniforge3/envs/pytorch/lib/python3.9/site-packages/telegram/utils/request.py\", line 283, in _request_wrapper\n",
      "    raise Conflict(message)\n",
      "telegram.error.Conflict: Conflict: terminated by other getUpdates request; make sure that only one bot instance is running\n"
     ]
    },
    {
     "data": {
      "text/plain": [
       "<telegram.message.Message at 0x1358294d0>"
      ]
     },
     "execution_count": 174,
     "metadata": {},
     "output_type": "execute_result"
    }
   ],
   "source": [
    "updater.bot.send_message(chat_id='1551490751',\n",
    "                         text=\"`Dynamic message here...`\",)"
   ]
  },
  {
   "cell_type": "code",
   "execution_count": 175,
   "metadata": {},
   "outputs": [
    {
     "data": {
      "text/plain": [
       "<telegram.message.Message at 0x117bedcf0>"
      ]
     },
     "execution_count": 175,
     "metadata": {},
     "output_type": "execute_result"
    }
   ],
   "source": [
    "updater.bot.send_message(chat_id='1551490751', text='<b>Example message</b> where the previous is bold...', \n",
    "                  parse_mode=ParseMode.HTML)"
   ]
  },
  {
   "cell_type": "code",
   "execution_count": 176,
   "metadata": {},
   "outputs": [
    {
     "name": "stdout",
     "output_type": "stream",
     "text": [
      "zsh:1: command not found: pip\n"
     ]
    }
   ],
   "source": [
    "!pip install yahoofinancials yahoo_fin"
   ]
  },
  {
   "cell_type": "code",
   "execution_count": 177,
   "metadata": {},
   "outputs": [],
   "source": [
    "import yfinance as yf\n",
    "from yahoofinancials import YahooFinancials\n",
    "import yahoo_fin.stock_info as si\n",
    "import io"
   ]
  },
  {
   "cell_type": "code",
   "execution_count": 178,
   "metadata": {},
   "outputs": [
    {
     "name": "stderr",
     "output_type": "stream",
     "text": [
      "2022-08-02 14:15:11,699 - telegram.ext.updater - ERROR - Error while getting Updates: Conflict: terminated by other getUpdates request; make sure that only one bot instance is running\n",
      "2022-08-02 14:15:11,701 - telegram.ext.dispatcher - ERROR - No error handlers are registered, logging exception.\n",
      "Traceback (most recent call last):\n",
      "  File \"/Users/deanmartin/miniforge3/envs/pytorch/lib/python3.9/site-packages/telegram/ext/updater.py\", line 651, in _network_loop_retry\n",
      "    if not action_cb():\n",
      "  File \"/Users/deanmartin/miniforge3/envs/pytorch/lib/python3.9/site-packages/telegram/ext/updater.py\", line 602, in polling_action_cb\n",
      "    updates = self.bot.get_updates(\n",
      "  File \"/Users/deanmartin/miniforge3/envs/pytorch/lib/python3.9/site-packages/telegram/ext/extbot.py\", line 226, in get_updates\n",
      "    updates = super().get_updates(\n",
      "  File \"/Users/deanmartin/miniforge3/envs/pytorch/lib/python3.9/site-packages/telegram/bot.py\", line 133, in decorator\n",
      "    result = func(*args, **kwargs)\n",
      "  File \"/Users/deanmartin/miniforge3/envs/pytorch/lib/python3.9/site-packages/telegram/bot.py\", line 3057, in get_updates\n",
      "    self._post(\n",
      "  File \"/Users/deanmartin/miniforge3/envs/pytorch/lib/python3.9/site-packages/telegram/bot.py\", line 298, in _post\n",
      "    return self.request.post(\n",
      "  File \"/Users/deanmartin/miniforge3/envs/pytorch/lib/python3.9/site-packages/telegram/utils/request.py\", line 361, in post\n",
      "    result = self._request_wrapper(\n",
      "  File \"/Users/deanmartin/miniforge3/envs/pytorch/lib/python3.9/site-packages/telegram/utils/request.py\", line 283, in _request_wrapper\n",
      "    raise Conflict(message)\n",
      "telegram.error.Conflict: Conflict: terminated by other getUpdates request; make sure that only one bot instance is running\n"
     ]
    }
   ],
   "source": [
    "asset_code = 'MSFT'\n",
    "asset = yf.Ticker(asset_code)\n",
    "asset_YF = YahooFinancials(asset_code)\n",
    "\n",
    "# get historical market data\n",
    "hist = asset.history(period=\"max\")"
   ]
  },
  {
   "cell_type": "code",
   "execution_count": 179,
   "metadata": {},
   "outputs": [],
   "source": [
    "def get_figure_buffer(figure):\n",
    "    buffer = io.BytesIO()\n",
    "    figure.savefig(buffer, format='png')\n",
    "    buffer.seek(0)\n",
    "    \n",
    "    return buffer"
   ]
  },
  {
   "cell_type": "code",
   "execution_count": 180,
   "metadata": {},
   "outputs": [],
   "source": [
    "import matplotlib as mpl\n",
    "from cycler import cycler"
   ]
  },
  {
   "cell_type": "code",
   "execution_count": 181,
   "metadata": {},
   "outputs": [
    {
     "name": "stderr",
     "output_type": "stream",
     "text": [
      "2022-08-02 14:15:12,942 - telegram.ext.updater - ERROR - Error while getting Updates: Conflict: terminated by other getUpdates request; make sure that only one bot instance is running\n",
      "2022-08-02 14:15:12,944 - telegram.ext.dispatcher - ERROR - No error handlers are registered, logging exception.\n",
      "Traceback (most recent call last):\n",
      "  File \"/Users/deanmartin/miniforge3/envs/pytorch/lib/python3.9/site-packages/telegram/ext/updater.py\", line 651, in _network_loop_retry\n",
      "    if not action_cb():\n",
      "  File \"/Users/deanmartin/miniforge3/envs/pytorch/lib/python3.9/site-packages/telegram/ext/updater.py\", line 602, in polling_action_cb\n",
      "    updates = self.bot.get_updates(\n",
      "  File \"/Users/deanmartin/miniforge3/envs/pytorch/lib/python3.9/site-packages/telegram/ext/extbot.py\", line 226, in get_updates\n",
      "    updates = super().get_updates(\n",
      "  File \"/Users/deanmartin/miniforge3/envs/pytorch/lib/python3.9/site-packages/telegram/bot.py\", line 133, in decorator\n",
      "    result = func(*args, **kwargs)\n",
      "  File \"/Users/deanmartin/miniforge3/envs/pytorch/lib/python3.9/site-packages/telegram/bot.py\", line 3057, in get_updates\n",
      "    self._post(\n",
      "  File \"/Users/deanmartin/miniforge3/envs/pytorch/lib/python3.9/site-packages/telegram/bot.py\", line 298, in _post\n",
      "    return self.request.post(\n",
      "  File \"/Users/deanmartin/miniforge3/envs/pytorch/lib/python3.9/site-packages/telegram/utils/request.py\", line 361, in post\n",
      "    result = self._request_wrapper(\n",
      "  File \"/Users/deanmartin/miniforge3/envs/pytorch/lib/python3.9/site-packages/telegram/utils/request.py\", line 283, in _request_wrapper\n",
      "    raise Conflict(message)\n",
      "telegram.error.Conflict: Conflict: terminated by other getUpdates request; make sure that only one bot instance is running\n",
      "2022-08-02 14:15:17,678 - telegram.ext.updater - ERROR - Error while getting Updates: Conflict: terminated by other getUpdates request; make sure that only one bot instance is running\n",
      "2022-08-02 14:15:17,680 - telegram.ext.dispatcher - ERROR - No error handlers are registered, logging exception.\n",
      "Traceback (most recent call last):\n",
      "  File \"/Users/deanmartin/miniforge3/envs/pytorch/lib/python3.9/site-packages/telegram/ext/updater.py\", line 651, in _network_loop_retry\n",
      "    if not action_cb():\n",
      "  File \"/Users/deanmartin/miniforge3/envs/pytorch/lib/python3.9/site-packages/telegram/ext/updater.py\", line 602, in polling_action_cb\n",
      "    updates = self.bot.get_updates(\n",
      "  File \"/Users/deanmartin/miniforge3/envs/pytorch/lib/python3.9/site-packages/telegram/ext/extbot.py\", line 226, in get_updates\n",
      "    updates = super().get_updates(\n",
      "  File \"/Users/deanmartin/miniforge3/envs/pytorch/lib/python3.9/site-packages/telegram/bot.py\", line 133, in decorator\n",
      "    result = func(*args, **kwargs)\n",
      "  File \"/Users/deanmartin/miniforge3/envs/pytorch/lib/python3.9/site-packages/telegram/bot.py\", line 3057, in get_updates\n",
      "    self._post(\n",
      "  File \"/Users/deanmartin/miniforge3/envs/pytorch/lib/python3.9/site-packages/telegram/bot.py\", line 298, in _post\n",
      "    return self.request.post(\n",
      "  File \"/Users/deanmartin/miniforge3/envs/pytorch/lib/python3.9/site-packages/telegram/utils/request.py\", line 361, in post\n",
      "    result = self._request_wrapper(\n",
      "  File \"/Users/deanmartin/miniforge3/envs/pytorch/lib/python3.9/site-packages/telegram/utils/request.py\", line 283, in _request_wrapper\n",
      "    raise Conflict(message)\n",
      "telegram.error.Conflict: Conflict: terminated by other getUpdates request; make sure that only one bot instance is running\n",
      "2022-08-02 14:15:19,441 - telegram.ext.updater - ERROR - Error while getting Updates: Conflict: terminated by other getUpdates request; make sure that only one bot instance is running\n",
      "2022-08-02 14:15:19,444 - telegram.ext.dispatcher - ERROR - No error handlers are registered, logging exception.\n",
      "Traceback (most recent call last):\n",
      "  File \"/Users/deanmartin/miniforge3/envs/pytorch/lib/python3.9/site-packages/telegram/ext/updater.py\", line 651, in _network_loop_retry\n",
      "    if not action_cb():\n",
      "  File \"/Users/deanmartin/miniforge3/envs/pytorch/lib/python3.9/site-packages/telegram/ext/updater.py\", line 602, in polling_action_cb\n",
      "    updates = self.bot.get_updates(\n",
      "  File \"/Users/deanmartin/miniforge3/envs/pytorch/lib/python3.9/site-packages/telegram/ext/extbot.py\", line 226, in get_updates\n",
      "    updates = super().get_updates(\n",
      "  File \"/Users/deanmartin/miniforge3/envs/pytorch/lib/python3.9/site-packages/telegram/bot.py\", line 133, in decorator\n",
      "    result = func(*args, **kwargs)\n",
      "  File \"/Users/deanmartin/miniforge3/envs/pytorch/lib/python3.9/site-packages/telegram/bot.py\", line 3057, in get_updates\n",
      "    self._post(\n",
      "  File \"/Users/deanmartin/miniforge3/envs/pytorch/lib/python3.9/site-packages/telegram/bot.py\", line 298, in _post\n",
      "    return self.request.post(\n",
      "  File \"/Users/deanmartin/miniforge3/envs/pytorch/lib/python3.9/site-packages/telegram/utils/request.py\", line 361, in post\n",
      "    result = self._request_wrapper(\n",
      "  File \"/Users/deanmartin/miniforge3/envs/pytorch/lib/python3.9/site-packages/telegram/utils/request.py\", line 283, in _request_wrapper\n",
      "    raise Conflict(message)\n",
      "telegram.error.Conflict: Conflict: terminated by other getUpdates request; make sure that only one bot instance is running\n"
     ]
    },
    {
     "data": {
      "image/png": "[encoded data removed]",
      "text/plain": [
       "<Figure size 432x288 with 1 Axes>"
      ]
     },
     "metadata": {
      "needs_background": "light"
     },
     "output_type": "display_data"
    }
   ],
   "source": [
    "mpl.rcParams['lines.linewidth'] = 1\n",
    "mpl.rcParams['lines.linestyle'] = '-'\n",
    "mpl.rcParams['axes.prop_cycle'] = cycler(color=['b', 'g', 'r', 'y'])\n",
    "\n",
    "last_x_days = -150\n",
    "data_to_visualize = hist[last_x_days:]\n",
    "\n",
    "plot_to_visualize = data_to_visualize['Close'].plot()\n",
    "plot_to_visualize.set_ylabel('$ per Share')\n",
    "plot_to_visualize.set_xlabel(f'{asset.info[\"shortName\"]} ({asset_code})')\n",
    "plot_to_visualize.axhline(y = hist[-1:].Close.values[0],\n",
    "                          color = 'r' if hist[-1:].Close.values[0] < hist[-2:].Close.values[0] else 'g',\n",
    "                          linestyle = '--')\n",
    "figure_to_visualize = plot_to_visualize.get_figure()"
   ]
  },
  {
   "cell_type": "code",
   "execution_count": 182,
   "metadata": {},
   "outputs": [
    {
     "data": {
      "text/plain": [
       "<telegram.message.Message at 0x1401e9c60>"
      ]
     },
     "execution_count": 182,
     "metadata": {},
     "output_type": "execute_result"
    }
   ],
   "source": [
    "updater.bot.send_photo(chat_id='1551490751', photo=get_figure_buffer(figure_to_visualize))"
   ]
  },
  {
   "cell_type": "code",
   "execution_count": null,
   "metadata": {},
   "outputs": [],
   "source": []
  }
 ],
 "metadata": {
  "kernelspec": {
   "display_name": "Python 3.9.13 ('pytorch')",
   "language": "python",
   "name": "python3"
  },
  "language_info": {
   "codemirror_mode": {
    "name": "ipython",
    "version": 3
   },
   "file_extension": ".py",
   "mimetype": "text/x-python",
   "name": "python",
   "nbconvert_exporter": "python",
   "pygments_lexer": "ipython3",
   "version": "3.9.13"
  },
  "orig_nbformat": 4,
  "vscode": {
   "interpreter": {
    "hash": "0203f9377e450cf3e5fd498dcfe93bad69687b6515d650e7d79a42aa53323e2d"
   }
  }
 },
 "nbformat": 4,
 "nbformat_minor": 2
}
