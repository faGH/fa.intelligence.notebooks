{
 "cells": [
  {
   "cell_type": "markdown",
   "metadata": {},
   "source": [
    "# Install Dependencies"
   ]
  },
  {
   "cell_type": "code",
   "execution_count": 1,
   "metadata": {},
   "outputs": [
    {
     "name": "stdout",
     "output_type": "stream",
     "text": [
      "Collecting prettytable\n",
      "  Downloading prettytable-3.3.0-py3-none-any.whl (26 kB)\n",
      "Requirement already satisfied: wcwidth in c:\\users\\divanma\\.conda\\envs\\windows-ml-station\\lib\\site-packages (from prettytable) (0.2.5)\n",
      "Installing collected packages: prettytable\n",
      "Successfully installed prettytable-3.3.0\n"
     ]
    },
    {
     "name": "stderr",
     "output_type": "stream",
     "text": [
      "WARNING: Ignoring invalid distribution -ymupdf (c:\\users\\divanma\\.conda\\envs\\windows-ml-station\\lib\\site-packages)\n",
      "WARNING: Ignoring invalid distribution -illow (c:\\users\\divanma\\.conda\\envs\\windows-ml-station\\lib\\site-packages)\n",
      "WARNING: Ignoring invalid distribution -ymupdf (c:\\users\\divanma\\.conda\\envs\\windows-ml-station\\lib\\site-packages)\n",
      "WARNING: Ignoring invalid distribution -illow (c:\\users\\divanma\\.conda\\envs\\windows-ml-station\\lib\\site-packages)\n",
      "WARNING: Ignoring invalid distribution -ymupdf (c:\\users\\divanma\\.conda\\envs\\windows-ml-station\\lib\\site-packages)\n",
      "WARNING: Ignoring invalid distribution -illow (c:\\users\\divanma\\.conda\\envs\\windows-ml-station\\lib\\site-packages)\n",
      "WARNING: Ignoring invalid distribution -ymupdf (c:\\users\\divanma\\.conda\\envs\\windows-ml-station\\lib\\site-packages)\n",
      "WARNING: Ignoring invalid distribution -illow (c:\\users\\divanma\\.conda\\envs\\windows-ml-station\\lib\\site-packages)\n",
      "WARNING: Ignoring invalid distribution -ymupdf (c:\\users\\divanma\\.conda\\envs\\windows-ml-station\\lib\\site-packages)\n",
      "WARNING: Ignoring invalid distribution -illow (c:\\users\\divanma\\.conda\\envs\\windows-ml-station\\lib\\site-packages)\n",
      "WARNING: Ignoring invalid distribution -ymupdf (c:\\users\\divanma\\.conda\\envs\\windows-ml-station\\lib\\site-packages)\n",
      "WARNING: Ignoring invalid distribution -illow (c:\\users\\divanma\\.conda\\envs\\windows-ml-station\\lib\\site-packages)\n",
      "WARNING: Ignoring invalid distribution -ymupdf (c:\\users\\divanma\\.conda\\envs\\windows-ml-station\\lib\\site-packages)\n",
      "WARNING: Ignoring invalid distribution -illow (c:\\users\\divanma\\.conda\\envs\\windows-ml-station\\lib\\site-packages)\n",
      "WARNING: There was an error checking the latest version of pip.\n"
     ]
    }
   ],
   "source": [
    "!python -m pip install prettytable"
   ]
  },
  {
   "cell_type": "markdown",
   "metadata": {},
   "source": [
    "# Import Dependencies"
   ]
  },
  {
   "cell_type": "code",
   "execution_count": 2,
   "metadata": {},
   "outputs": [
    {
     "name": "stderr",
     "output_type": "stream",
     "text": [
      "WARNING: Ignoring invalid distribution -ymupdf (c:\\users\\divanma\\.conda\\envs\\windows-ml-station\\lib\\site-packages)\n",
      "WARNING: Ignoring invalid distribution -illow (c:\\users\\divanma\\.conda\\envs\\windows-ml-station\\lib\\site-packages)\n",
      "WARNING: Ignoring invalid distribution -ymupdf (c:\\users\\divanma\\.conda\\envs\\windows-ml-station\\lib\\site-packages)\n",
      "WARNING: Ignoring invalid distribution -illow (c:\\users\\divanma\\.conda\\envs\\windows-ml-station\\lib\\site-packages)\n",
      "WARNING: Ignoring invalid distribution -ymupdf (c:\\users\\divanma\\.conda\\envs\\windows-ml-station\\lib\\site-packages)\n",
      "WARNING: Ignoring invalid distribution -illow (c:\\users\\divanma\\.conda\\envs\\windows-ml-station\\lib\\site-packages)\n",
      "WARNING: Ignoring invalid distribution -ymupdf (c:\\users\\divanma\\.conda\\envs\\windows-ml-station\\lib\\site-packages)\n",
      "WARNING: Ignoring invalid distribution -illow (c:\\users\\divanma\\.conda\\envs\\windows-ml-station\\lib\\site-packages)\n",
      "WARNING: Ignoring invalid distribution -ymupdf (c:\\users\\divanma\\.conda\\envs\\windows-ml-station\\lib\\site-packages)\n",
      "WARNING: Ignoring invalid distribution -illow (c:\\users\\divanma\\.conda\\envs\\windows-ml-station\\lib\\site-packages)\n",
      "WARNING: Ignoring invalid distribution -ymupdf (c:\\users\\divanma\\.conda\\envs\\windows-ml-station\\lib\\site-packages)\n",
      "WARNING: Ignoring invalid distribution -illow (c:\\users\\divanma\\.conda\\envs\\windows-ml-station\\lib\\site-packages)\n",
      "WARNING: There was an error checking the latest version of pip.\n"
     ]
    },
    {
     "name": "stdout",
     "output_type": "stream",
     "text": [
      "Requirement already satisfied: beautifulsoup4 in c:\\users\\divanma\\.conda\\envs\\windows-ml-station\\lib\\site-packages (4.8.2)\n",
      "Requirement already satisfied: yfinance in c:\\users\\divanma\\.conda\\envs\\windows-ml-station\\lib\\site-packages (0.1.74)\n",
      "Requirement already satisfied: soupsieve>=1.2 in c:\\users\\divanma\\.conda\\envs\\windows-ml-station\\lib\\site-packages (from beautifulsoup4) (2.3.1)\n",
      "Requirement already satisfied: requests>=2.26 in c:\\users\\divanma\\.conda\\envs\\windows-ml-station\\lib\\site-packages (from yfinance) (2.27.1)\n",
      "Requirement already satisfied: multitasking>=0.0.7 in c:\\users\\divanma\\.conda\\envs\\windows-ml-station\\lib\\site-packages (from yfinance) (0.0.11)\n",
      "Requirement already satisfied: pandas>=0.24.0 in c:\\users\\divanma\\.conda\\envs\\windows-ml-station\\lib\\site-packages (from yfinance) (1.4.2)\n",
      "Requirement already satisfied: lxml>=4.5.1 in c:\\users\\divanma\\.conda\\envs\\windows-ml-station\\lib\\site-packages (from yfinance) (4.6.3)\n",
      "Requirement already satisfied: numpy>=1.15 in c:\\users\\divanma\\.conda\\envs\\windows-ml-station\\lib\\site-packages (from yfinance) (1.22.3)\n",
      "Requirement already satisfied: python-dateutil>=2.8.1 in c:\\users\\divanma\\.conda\\envs\\windows-ml-station\\lib\\site-packages (from pandas>=0.24.0->yfinance) (2.8.2)\n",
      "Requirement already satisfied: pytz>=2020.1 in c:\\users\\divanma\\.conda\\envs\\windows-ml-station\\lib\\site-packages (from pandas>=0.24.0->yfinance) (2021.3)\n",
      "Requirement already satisfied: certifi>=2017.4.17 in c:\\users\\divanma\\.conda\\envs\\windows-ml-station\\lib\\site-packages (from requests>=2.26->yfinance) (2022.5.18.1)\n",
      "Requirement already satisfied: urllib3<1.27,>=1.21.1 in c:\\users\\divanma\\.conda\\envs\\windows-ml-station\\lib\\site-packages (from requests>=2.26->yfinance) (1.26.7)\n",
      "Requirement already satisfied: idna<4,>=2.5 in c:\\users\\divanma\\.conda\\envs\\windows-ml-station\\lib\\site-packages (from requests>=2.26->yfinance) (3.1)\n",
      "Requirement already satisfied: charset-normalizer~=2.0.0 in c:\\users\\divanma\\.conda\\envs\\windows-ml-station\\lib\\site-packages (from requests>=2.26->yfinance) (2.0.0)\n",
      "Requirement already satisfied: six>=1.5 in c:\\users\\divanma\\.conda\\envs\\windows-ml-station\\lib\\site-packages (from python-dateutil>=2.8.1->pandas>=0.24.0->yfinance) (1.12.0)\n",
      "EPS: 8.33, EPS Next 5 Years: 0.5189%, P/E Ratio: 82.83, Current Price: $ 922.19\n",
      "Intrinsic Value: $ 530.7491538461537 vs. Current Price: $ 922.19\n"
     ]
    },
    {
     "name": "stderr",
     "output_type": "stream",
     "text": [
      "C:\\Users\\divanma\\AppData\\Local\\Temp/ipykernel_23500/3267795275.py:22: UserWarning: linestyle is redundantly defined by the 'linestyle' keyword argument and the fmt string \"k-\" (-> linestyle='-'). The keyword argument will take precedence.\n",
      "  plt.plot([purchase_date, symbol_data.index.values[-1]],[value_at_purchase_date,valuation.current_price],'k-', linestyle='-.', color=('r' if valuation.current_price < value_at_purchase_date else 'g'))\n",
      "C:\\Users\\divanma\\AppData\\Local\\Temp/ipykernel_23500/3267795275.py:22: UserWarning: color is redundantly defined by the 'color' keyword argument and the fmt string \"k-\" (-> color='k'). The keyword argument will take precedence.\n",
      "  plt.plot([purchase_date, symbol_data.index.values[-1]],[value_at_purchase_date,valuation.current_price],'k-', linestyle='-.', color=('r' if valuation.current_price < value_at_purchase_date else 'g'))\n"
     ]
    },
    {
     "name": "stdout",
     "output_type": "stream",
     "text": [
      "EPS: 6.05, EPS Next 5 Years: 0.0983%, P/E Ratio: 26.575, Current Price: $ 166.13\n",
      "Intrinsic Value: $ 123.67596153846151 vs. Current Price: $ 166.13\n"
     ]
    },
    {
     "name": "stderr",
     "output_type": "stream",
     "text": [
      "C:\\Users\\divanma\\AppData\\Local\\Temp/ipykernel_23500/3267795275.py:22: UserWarning: linestyle is redundantly defined by the 'linestyle' keyword argument and the fmt string \"k-\" (-> linestyle='-'). The keyword argument will take precedence.\n",
      "  plt.plot([purchase_date, symbol_data.index.values[-1]],[value_at_purchase_date,valuation.current_price],'k-', linestyle='-.', color=('r' if valuation.current_price < value_at_purchase_date else 'g'))\n",
      "C:\\Users\\divanma\\AppData\\Local\\Temp/ipykernel_23500/3267795275.py:22: UserWarning: color is redundantly defined by the 'color' keyword argument and the fmt string \"k-\" (-> color='k'). The keyword argument will take precedence.\n",
      "  plt.plot([purchase_date, symbol_data.index.values[-1]],[value_at_purchase_date,valuation.current_price],'k-', linestyle='-.', color=('r' if valuation.current_price < value_at_purchase_date else 'g'))\n"
     ]
    },
    {
     "data": {
      "image/png": "[encoded data removed]",
      "text/plain": [
       "<Figure size 432x216 with 1 Axes>"
      ]
     },
     "metadata": {
      "needs_background": "light"
     },
     "output_type": "display_data"
    },
    {
     "data": {
      "image/png": "[encoded data removed]",
      "text/plain": [
       "<Figure size 432x216 with 1 Axes>"
      ]
     },
     "metadata": {
      "needs_background": "light"
     },
     "output_type": "display_data"
    }
   ],
   "source": [
    "%run ./../asset_valuation/finviz_asset_valuation.ipynb"
   ]
  },
  {
   "cell_type": "code",
   "execution_count": 3,
   "metadata": {},
   "outputs": [
    {
     "name": "stdout",
     "output_type": "stream",
     "text": [
      "Requirement already satisfied: python-telegram-bot in c:\\users\\divanma\\.conda\\envs\\windows-ml-station\\lib\\site-packages (13.13)\n",
      "Requirement already satisfied: matplotlib in c:\\users\\divanma\\.conda\\envs\\windows-ml-station\\lib\\site-packages (3.4.3)\n",
      "Collecting matplotlib\n",
      "  Downloading matplotlib-3.5.2-cp39-cp39-win_amd64.whl (7.2 MB)\n",
      "     ---------------------------------------- 7.2/7.2 MB 17.0 MB/s eta 0:00:00\n",
      "Requirement already satisfied: prettytable in c:\\users\\divanma\\.conda\\envs\\windows-ml-station\\lib\\site-packages (3.3.0)\n",
      "Requirement already satisfied: pandas in c:\\users\\divanma\\.conda\\envs\\windows-ml-station\\lib\\site-packages (1.4.2)\n",
      "Collecting pandas\n",
      "  Downloading pandas-1.4.3-cp39-cp39-win_amd64.whl (10.6 MB)\n",
      "     --------------------------------------- 10.6/10.6 MB 28.5 MB/s eta 0:00:00\n",
      "Requirement already satisfied: APScheduler==3.6.3 in c:\\users\\divanma\\.conda\\envs\\windows-ml-station\\lib\\site-packages (from python-telegram-bot) (3.6.3)\n",
      "Requirement already satisfied: certifi in c:\\users\\divanma\\.conda\\envs\\windows-ml-station\\lib\\site-packages (from python-telegram-bot) (2022.5.18.1)\n",
      "Requirement already satisfied: pytz>=2018.6 in c:\\users\\divanma\\.conda\\envs\\windows-ml-station\\lib\\site-packages (from python-telegram-bot) (2021.3)\n",
      "Requirement already satisfied: cachetools==4.2.2 in c:\\users\\divanma\\.conda\\envs\\windows-ml-station\\lib\\site-packages (from python-telegram-bot) (4.2.2)\n",
      "Requirement already satisfied: tornado>=6.1 in c:\\users\\divanma\\.conda\\envs\\windows-ml-station\\lib\\site-packages (from python-telegram-bot) (6.1)\n",
      "Requirement already satisfied: tzlocal>=1.2 in c:\\users\\divanma\\.conda\\envs\\windows-ml-station\\lib\\site-packages (from APScheduler==3.6.3->python-telegram-bot) (4.1)\n",
      "Requirement already satisfied: setuptools>=0.7 in c:\\users\\divanma\\.conda\\envs\\windows-ml-station\\lib\\site-packages (from APScheduler==3.6.3->python-telegram-bot) (58.2.0)\n",
      "Requirement already satisfied: six>=1.4.0 in c:\\users\\divanma\\.conda\\envs\\windows-ml-station\\lib\\site-packages (from APScheduler==3.6.3->python-telegram-bot) (1.12.0)\n",
      "Requirement already satisfied: python-dateutil>=2.7 in c:\\users\\divanma\\.conda\\envs\\windows-ml-station\\lib\\site-packages (from matplotlib) (2.8.2)\n",
      "Requirement already satisfied: packaging>=20.0 in c:\\users\\divanma\\.conda\\envs\\windows-ml-station\\lib\\site-packages (from matplotlib) (21.3)\n",
      "Requirement already satisfied: pillow>=6.2.0 in c:\\users\\divanma\\.conda\\envs\\windows-ml-station\\lib\\site-packages (from matplotlib) (9.0.1)\n",
      "Requirement already satisfied: cycler>=0.10 in c:\\users\\divanma\\.conda\\envs\\windows-ml-station\\lib\\site-packages (from matplotlib) (0.10.0)\n",
      "Requirement already satisfied: pyparsing>=2.2.1 in c:\\users\\divanma\\.conda\\envs\\windows-ml-station\\lib\\site-packages (from matplotlib) (2.4.7)\n",
      "Requirement already satisfied: kiwisolver>=1.0.1 in c:\\users\\divanma\\.conda\\envs\\windows-ml-station\\lib\\site-packages (from matplotlib) (1.3.2)\n",
      "Collecting fonttools>=4.22.0\n",
      "  Downloading fonttools-4.34.4-py3-none-any.whl (944 kB)\n",
      "     ------------------------------------- 944.1/944.1 kB 30.1 MB/s eta 0:00:00\n",
      "Requirement already satisfied: numpy>=1.17 in c:\\users\\divanma\\.conda\\envs\\windows-ml-station\\lib\\site-packages (from matplotlib) (1.22.3)\n",
      "Requirement already satisfied: wcwidth in c:\\users\\divanma\\.conda\\envs\\windows-ml-station\\lib\\site-packages (from prettytable) (0.2.5)\n",
      "Requirement already satisfied: pytz-deprecation-shim in c:\\users\\divanma\\.conda\\envs\\windows-ml-station\\lib\\site-packages (from tzlocal>=1.2->APScheduler==3.6.3->python-telegram-bot) (0.1.0.post0)\n",
      "Requirement already satisfied: tzdata in c:\\users\\divanma\\.conda\\envs\\windows-ml-station\\lib\\site-packages (from tzlocal>=1.2->APScheduler==3.6.3->python-telegram-bot) (2021.5)\n",
      "Installing collected packages: fonttools, pandas, matplotlib\n",
      "  Attempting uninstall: pandas\n",
      "    Found existing installation: pandas 1.4.2\n",
      "    Uninstalling pandas-1.4.2:\n",
      "      Successfully uninstalled pandas-1.4.2\n"
     ]
    },
    {
     "name": "stderr",
     "output_type": "stream",
     "text": [
      "WARNING: Ignoring invalid distribution -ymupdf (c:\\users\\divanma\\.conda\\envs\\windows-ml-station\\lib\\site-packages)\n",
      "WARNING: Ignoring invalid distribution -illow (c:\\users\\divanma\\.conda\\envs\\windows-ml-station\\lib\\site-packages)\n",
      "WARNING: Ignoring invalid distribution -ymupdf (c:\\users\\divanma\\.conda\\envs\\windows-ml-station\\lib\\site-packages)\n",
      "WARNING: Ignoring invalid distribution -illow (c:\\users\\divanma\\.conda\\envs\\windows-ml-station\\lib\\site-packages)\n",
      "WARNING: Ignoring invalid distribution -ymupdf (c:\\users\\divanma\\.conda\\envs\\windows-ml-station\\lib\\site-packages)\n",
      "WARNING: Ignoring invalid distribution -illow (c:\\users\\divanma\\.conda\\envs\\windows-ml-station\\lib\\site-packages)\n",
      "    WARNING: Ignoring invalid distribution -ymupdf (c:\\users\\divanma\\.conda\\envs\\windows-ml-station\\lib\\site-packages)\n",
      "    WARNING: Ignoring invalid distribution -illow (c:\\users\\divanma\\.conda\\envs\\windows-ml-station\\lib\\site-packages)\n",
      "ERROR: Could not install packages due to an OSError: [WinError 5] Access is denied: 'C:\\\\Users\\\\divanma\\\\.conda\\\\envs\\\\windows-ml-station\\\\Lib\\\\site-packages\\\\~andas\\\\_libs\\\\algos.cp39-win_amd64.pyd'\n",
      "Consider using the `--user` option or check the permissions.\n",
      "\n",
      "WARNING: Ignoring invalid distribution -ymupdf (c:\\users\\divanma\\.conda\\envs\\windows-ml-station\\lib\\site-packages)\n",
      "WARNING: Ignoring invalid distribution -illow (c:\\users\\divanma\\.conda\\envs\\windows-ml-station\\lib\\site-packages)\n",
      "WARNING: Ignoring invalid distribution -ymupdf (c:\\users\\divanma\\.conda\\envs\\windows-ml-station\\lib\\site-packages)\n",
      "WARNING: Ignoring invalid distribution -illow (c:\\users\\divanma\\.conda\\envs\\windows-ml-station\\lib\\site-packages)\n",
      "WARNING: Ignoring invalid distribution -ymupdf (c:\\users\\divanma\\.conda\\envs\\windows-ml-station\\lib\\site-packages)\n",
      "WARNING: Ignoring invalid distribution -illow (c:\\users\\divanma\\.conda\\envs\\windows-ml-station\\lib\\site-packages)\n",
      "WARNING: There was an error checking the latest version of pip.\n"
     ]
    }
   ],
   "source": [
    "%run ./../../utilities/communication/telegram.ipynb"
   ]
  },
  {
   "cell_type": "code",
   "execution_count": 4,
   "metadata": {},
   "outputs": [],
   "source": [
    "from telegram.ext import Dispatcher, CommandHandler, MessageHandler, Filters, InlineQueryHandler\n",
    "from telegram import Update, InlineQueryResultArticle, InputTextMessageContent, ParseMode\n",
    "from telegram.ext import CallbackContext\n",
    "import prettytable as pt\n",
    "import pandas as pd"
   ]
  },
  {
   "cell_type": "markdown",
   "metadata": {},
   "source": [
    "# Bot Usage"
   ]
  },
  {
   "cell_type": "markdown",
   "metadata": {},
   "source": [
    "## Config"
   ]
  },
  {
   "cell_type": "code",
   "execution_count": 5,
   "metadata": {},
   "outputs": [],
   "source": [
    "bot_token = '5535601062:AAGpXCCTWa8OBajV3AeTPrmIOIFjPi_H3p8'"
   ]
  },
  {
   "cell_type": "markdown",
   "metadata": {},
   "source": [
    "## Message Handlers"
   ]
  },
  {
   "cell_type": "code",
   "execution_count": 6,
   "metadata": {},
   "outputs": [],
   "source": [
    "def info_handler(update: Update, context: CallbackContext):\n",
    "    chat_id = update.effective_chat.id\n",
    "\n",
    "    context.bot.send_message(chat_id=chat_id, \n",
    "                             text=f'Chat Id: {chat_id}\\n\\nFrostAura Consolidated')\n",
    "\n",
    "def text_handler(update: Update, context: CallbackContext):\n",
    "    context.bot.send_message(chat_id=update.effective_chat.id, text=update.message.text)\n",
    "\n",
    "def inline_caps(update: Update, context: CallbackContext):\n",
    "    query = update.inline_query.query\n",
    "\n",
    "    if not query:\n",
    "        return\n",
    "\n",
    "    results = []\n",
    "    results.append(\n",
    "        InlineQueryResultArticle(\n",
    "            id=query.upper(),\n",
    "            title='Caps',\n",
    "            input_message_content=InputTextMessageContent(query.upper())\n",
    "        )\n",
    "    )\n",
    "    context.bot.answer_inline_query(update.inline_query.id, results)\n",
    "\n",
    "def handlers_registration(dispatcher: Dispatcher):\n",
    "    print('Registering dispatchers.')\n",
    "\n",
    "    start_handler = CommandHandler('info', info_handler)\n",
    "    dispatcher.add_handler(start_handler)\n",
    "    \n",
    "    text_message_handler = MessageHandler(Filters.text & (~Filters.command), text_handler)\n",
    "    dispatcher.add_handler(text_message_handler)\n",
    "\n",
    "    inline_caps_handler = InlineQueryHandler(inline_caps)\n",
    "    dispatcher.add_handler(inline_caps_handler)"
   ]
  },
  {
   "cell_type": "code",
   "execution_count": 7,
   "metadata": {},
   "outputs": [],
   "source": [
    "data = {\n",
    "    'Column 1': [\n",
    "        'Col 1 row 1',\n",
    "        'Col 1 row 2'\n",
    "    ],\n",
    "    'Column 2': [\n",
    "        'Col 2 row 1',\n",
    "        'Col 2 row 2'\n",
    "    ]\n",
    "}\n",
    "dataframe = pd.DataFrame(data)"
   ]
  },
  {
   "cell_type": "code",
   "execution_count": 8,
   "metadata": {},
   "outputs": [
    {
     "name": "stdout",
     "output_type": "stream",
     "text": [
      "Registering dispatchers.\n"
     ]
    }
   ],
   "source": [
    "with TelegramBot(bot_token=bot_token, register_handlers=handlers_registration) as context:\n",
    "    #context.bot.send_message(chat_id='1551490751', text=\"`Dynamic message here...`\")\n",
    "    #context.bot.send_message(chat_id='1551490751', text='<b>Example message</b> where the previous is bold...', parse_mode=ParseMode.HTML)\n",
    "    #context.send_dataframe(chat_id='1551490751', dataframe=dataframe)\n",
    "    for plot in plots:\n",
    "        context.send_figure(chat_id='1551490751', figure=plot.get_figure())"
   ]
  },
  {
   "cell_type": "code",
   "execution_count": null,
   "metadata": {},
   "outputs": [],
   "source": []
  }
 ],
 "metadata": {
  "kernelspec": {
   "display_name": "Python 3.9.7 ('windows-ml-station')",
   "language": "python",
   "name": "python3"
  },
  "language_info": {
   "codemirror_mode": {
    "name": "ipython",
    "version": 3
   },
   "file_extension": ".py",
   "mimetype": "text/x-python",
   "name": "python",
   "nbconvert_exporter": "python",
   "pygments_lexer": "ipython3",
   "version": "3.9.7"
  },
  "orig_nbformat": 4,
  "vscode": {
   "interpreter": {
    "hash": "f2d2799229849fd2c86aa3751486a343a6caa647b525ae379976f27c22f61e0e"
   }
  }
 },
 "nbformat": 4,
 "nbformat_minor": 2
}
