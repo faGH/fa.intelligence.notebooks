{
 "cells": [
  {
   "cell_type": "markdown",
   "metadata": {},
   "source": [
    "# Time-based In-memory Caching"
   ]
  },
  {
   "cell_type": "markdown",
   "metadata": {},
   "source": [
    "## Install Dependencies"
   ]
  },
  {
   "cell_type": "code",
   "execution_count": 2,
   "metadata": {},
   "outputs": [
    {
     "name": "stdout",
     "output_type": "stream",
     "text": [
      "Requirement already satisfied: pip in c:\\users\\divanma\\.conda\\envs\\windows-ml-station\\lib\\site-packages (22.1.1)\n",
      "Collecting pip\n",
      "  Using cached pip-22.1.2-py3-none-any.whl (2.1 MB)\n",
      "Requirement already satisfied: expiringdict in c:\\users\\divanma\\.conda\\envs\\windows-ml-station\\lib\\site-packages (1.2.2)\n"
     ]
    },
    {
     "name": "stderr",
     "output_type": "stream",
     "text": [
      "WARNING: Ignoring invalid distribution -ymupdf (c:\\users\\divanma\\.conda\\envs\\windows-ml-station\\lib\\site-packages)\n",
      "WARNING: Ignoring invalid distribution -illow (c:\\users\\divanma\\.conda\\envs\\windows-ml-station\\lib\\site-packages)\n",
      "WARNING: Ignoring invalid distribution -ymupdf (c:\\users\\divanma\\.conda\\envs\\windows-ml-station\\lib\\site-packages)\n",
      "WARNING: Ignoring invalid distribution -illow (c:\\users\\divanma\\.conda\\envs\\windows-ml-station\\lib\\site-packages)\n",
      "ERROR: To modify pip, please run the following command:\n",
      "C:\\Users\\divanma\\.conda\\envs\\windows-ml-station\\python.exe -m pip install -U pip expiringdict\n",
      "WARNING: Ignoring invalid distribution -ymupdf (c:\\users\\divanma\\.conda\\envs\\windows-ml-station\\lib\\site-packages)\n",
      "WARNING: Ignoring invalid distribution -illow (c:\\users\\divanma\\.conda\\envs\\windows-ml-station\\lib\\site-packages)\n",
      "WARNING: Ignoring invalid distribution -ymupdf (c:\\users\\divanma\\.conda\\envs\\windows-ml-station\\lib\\site-packages)\n",
      "WARNING: Ignoring invalid distribution -illow (c:\\users\\divanma\\.conda\\envs\\windows-ml-station\\lib\\site-packages)\n",
      "WARNING: Ignoring invalid distribution -ymupdf (c:\\users\\divanma\\.conda\\envs\\windows-ml-station\\lib\\site-packages)\n",
      "WARNING: Ignoring invalid distribution -illow (c:\\users\\divanma\\.conda\\envs\\windows-ml-station\\lib\\site-packages)\n",
      "WARNING: There was an error checking the latest version of pip.\n"
     ]
    }
   ],
   "source": [
    "!pip install -U pip expiringdict"
   ]
  },
  {
   "cell_type": "markdown",
   "metadata": {},
   "source": [
    "## Import Dependencies"
   ]
  },
  {
   "cell_type": "code",
   "execution_count": 22,
   "metadata": {},
   "outputs": [],
   "source": [
    "from expiringdict import ExpiringDict\n",
    "import logging"
   ]
  },
  {
   "cell_type": "markdown",
   "metadata": {},
   "source": [
    "## Implementation"
   ]
  },
  {
   "cell_type": "code",
   "execution_count": 28,
   "metadata": {},
   "outputs": [],
   "source": [
    "# TODO: Start using logger everywhere so we can export logs to files etc.\n",
    "logging.basicConfig(level=logging.INFO)"
   ]
  },
  {
   "cell_type": "code",
   "execution_count": 32,
   "metadata": {},
   "outputs": [
    {
     "name": "stderr",
     "output_type": "stream",
     "text": [
      "WARNING:root:No item with the key \"test-key\" existed in the cache.\n"
     ]
    }
   ],
   "source": [
    "class TimeToLiveCacheDataAccess(object):\n",
    "    def __init__(self, cache_max_age_in_seconds: int = 10, max_allowed_items=2147483647):\n",
    "        '''Initialize the cache store with a max time in seconds each entry is allowed to live for as well as a max item count before killing off older entries, defaulted to INT.MAX_VALUE.'''\n",
    "        self.__cache__ = ExpiringDict(max_len=max_allowed_items,\n",
    "                                      max_age_seconds=cache_max_age_in_seconds)\n",
    "\n",
    "    def get(self, key: str):\n",
    "        value = self.__cache__.get(key)\n",
    "        \n",
    "        if value is None:\n",
    "            logging.warning(f'No item with the key \"{key}\" existed in the cache.')\n",
    "        else:\n",
    "            logging.info(f'Item for key \"{key}\" retrieved from cache with value: {value}')\n",
    "        \n",
    "        return value\n",
    "    \n",
    "    def set(self, key: str, value):\n",
    "        logging.info(f'Setting cache key \"{key}\" with value: {value}')\n",
    "        \n",
    "        self.__cache__[key] = value\n",
    "\n",
    "cache_data_access = TimeToLiveCacheDataAccess()\n",
    "\n",
    "\n",
    "test_key = 'test-key'\n",
    "value = cache_data_access.get(test_key)\n",
    "cache_data_access.set(test_key, 'Hello World')\n",
    "value = cache_data_access.get(test_key)"
   ]
  },
  {
   "cell_type": "code",
   "execution_count": 35,
   "metadata": {},
   "outputs": [
    {
     "name": "stderr",
     "output_type": "stream",
     "text": [
      "WARNING:root:No item with the key \"test-key\" existed in the cache.\n"
     ]
    }
   ],
   "source": [
    "cache_data_access.get(test_key)"
   ]
  },
  {
   "cell_type": "code",
   "execution_count": null,
   "metadata": {},
   "outputs": [],
   "source": []
  }
 ],
 "metadata": {
  "kernelspec": {
   "display_name": "Python 3.9.7 ('windows-ml-station')",
   "language": "python",
   "name": "python3"
  },
  "language_info": {
   "codemirror_mode": {
    "name": "ipython",
    "version": 3
   },
   "file_extension": ".py",
   "mimetype": "text/x-python",
   "name": "python",
   "nbconvert_exporter": "python",
   "pygments_lexer": "ipython3",
   "version": "3.9.7"
  },
  "orig_nbformat": 4,
  "vscode": {
   "interpreter": {
    "hash": "f2d2799229849fd2c86aa3751486a343a6caa647b525ae379976f27c22f61e0e"
   }
  }
 },
 "nbformat": 4,
 "nbformat_minor": 2
}
