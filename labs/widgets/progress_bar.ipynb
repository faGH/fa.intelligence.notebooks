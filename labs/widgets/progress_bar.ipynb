{
 "cells": [
  {
   "cell_type": "markdown",
   "metadata": {},
   "source": [
    "# Notebook Progress Bar Widget\n",
    "- https://towardsdatascience.com/ever-wanted-progress-bars-in-jupyter-bdb3988d9cfc"
   ]
  },
  {
   "cell_type": "code",
   "execution_count": 3,
   "metadata": {},
   "outputs": [
    {
     "name": "stdout",
     "output_type": "stream",
     "text": [
      "Requirement already satisfied: tqdm in c:\\users\\divanma\\.conda\\envs\\windows-ml-station\\lib\\site-packages (4.64.0)\n",
      "Requirement already satisfied: colorama in c:\\users\\divanma\\.conda\\envs\\windows-ml-station\\lib\\site-packages (from tqdm) (0.4.4)\n"
     ]
    },
    {
     "name": "stderr",
     "output_type": "stream",
     "text": [
      "WARNING: Ignoring invalid distribution -ymupdf (c:\\users\\divanma\\.conda\\envs\\windows-ml-station\\lib\\site-packages)\n",
      "WARNING: Ignoring invalid distribution -illow (c:\\users\\divanma\\.conda\\envs\\windows-ml-station\\lib\\site-packages)\n",
      "WARNING: Ignoring invalid distribution -ymupdf (c:\\users\\divanma\\.conda\\envs\\windows-ml-station\\lib\\site-packages)\n",
      "WARNING: Ignoring invalid distribution -illow (c:\\users\\divanma\\.conda\\envs\\windows-ml-station\\lib\\site-packages)\n",
      "WARNING: Ignoring invalid distribution -ymupdf (c:\\users\\divanma\\.conda\\envs\\windows-ml-station\\lib\\site-packages)\n",
      "WARNING: Ignoring invalid distribution -illow (c:\\users\\divanma\\.conda\\envs\\windows-ml-station\\lib\\site-packages)\n",
      "WARNING: Ignoring invalid distribution -ymupdf (c:\\users\\divanma\\.conda\\envs\\windows-ml-station\\lib\\site-packages)\n",
      "WARNING: Ignoring invalid distribution -illow (c:\\users\\divanma\\.conda\\envs\\windows-ml-station\\lib\\site-packages)\n",
      "WARNING: Ignoring invalid distribution -ymupdf (c:\\users\\divanma\\.conda\\envs\\windows-ml-station\\lib\\site-packages)\n",
      "WARNING: Ignoring invalid distribution -illow (c:\\users\\divanma\\.conda\\envs\\windows-ml-station\\lib\\site-packages)\n"
     ]
    }
   ],
   "source": [
    "!pip install -U tqdm"
   ]
  },
  {
   "cell_type": "code",
   "execution_count": 4,
   "metadata": {},
   "outputs": [],
   "source": [
    "from tqdm.notebook import tqdm, trange\n",
    "import time"
   ]
  },
  {
   "cell_type": "markdown",
   "metadata": {},
   "source": [
    "## Simple Loop"
   ]
  },
  {
   "cell_type": "code",
   "execution_count": 5,
   "metadata": {},
   "outputs": [
    {
     "data": {
      "application/vnd.jupyter.widget-view+json": {
       "model_id": "691d7841b75a44a2935bc586c307b4ca",
       "version_major": 2,
       "version_minor": 0
      },
      "text/plain": [
       "  0%|          | 0/100 [00:00<?, ?it/s]"
      ]
     },
     "metadata": {},
     "output_type": "display_data"
    }
   ],
   "source": [
    "# Loop with a progress bar\n",
    "progress_bar = tqdm(range(100))\n",
    "for i in progress_bar:\n",
    "    progress_bar.set_description(f'Reward for Episode {i}: 123.567')\n",
    "    progress_bar.set_description(f'. Training Progress')\n",
    "    time.sleep(0.01)"
   ]
  },
  {
   "cell_type": "markdown",
   "metadata": {},
   "source": [
    "## Multi-threaded"
   ]
  },
  {
   "cell_type": "code",
   "execution_count": 6,
   "metadata": {},
   "outputs": [],
   "source": [
    "from multiprocessing.pool import ThreadPool"
   ]
  },
  {
   "cell_type": "code",
   "execution_count": 7,
   "metadata": {},
   "outputs": [
    {
     "name": "stdout",
     "output_type": "stream",
     "text": [
      "Processing 0Processing 1\n",
      "Processing 2\n",
      "Processing 3\n",
      "Processing 4Processing 5Processing 6\n",
      "Processing 7\n",
      "\n",
      "\n",
      "Processing 8Processing 9Processing 10\n",
      "Processing 11\n",
      "Processing 12\n",
      "Processing 13\n",
      "Processing 14\n",
      "Processing 15\n",
      "Processing 16\n",
      "Processing 17\n",
      "Processing 18\n",
      "Processing 19\n",
      "Processing 20\n",
      "Processing 21\n",
      "Processing 22\n",
      "Processing 23\n",
      "Processing 24\n",
      "Processing 25\n",
      "Processing 26\n",
      "Processing 27\n",
      "Processing 28\n",
      "Processing 29\n",
      "Processing 30\n",
      "Processing 31\n",
      "Processing 32\n",
      "Processing 33\n",
      "Processing 34\n",
      "Processing 35\n",
      "Processing 36\n",
      "Processing 37\n",
      "Processing 38\n",
      "Processing 39\n",
      "Processing 40\n",
      "Processing 41\n",
      "Processing 42\n",
      "Processing 43\n",
      "Processing 44\n",
      "Processing 45\n",
      "Processing 46\n",
      "Processing 47\n",
      "Processing 48\n",
      "Processing 49\n",
      "Processing 50\n",
      "Processing 51\n",
      "Processing 52\n",
      "Processing 53\n",
      "Processing 54\n",
      "Processing 55\n",
      "Processing 56\n",
      "Processing 57\n",
      "Processing 58\n",
      "Processing 59\n",
      "Processing 60\n",
      "Processing 61\n",
      "Processing 62\n",
      "Processing 63\n",
      "Processing 64\n",
      "Processing 65\n",
      "Processing 66\n",
      "Processing 67\n",
      "Processing 68\n",
      "Processing 69\n",
      "Processing 70\n",
      "Processing 71\n",
      "Processing 72\n",
      "Processing 73\n",
      "Processing 74\n",
      "Processing 75\n",
      "Processing 76\n",
      "Processing 77Processing 78\n",
      "Processing 79\n",
      "\n",
      "Processing 80\n",
      "Processing 81\n",
      "Processing 82\n",
      "Processing 83\n",
      "Processing 84\n",
      "Processing 85\n",
      "Processing 86\n",
      "Processing 87\n",
      "Processing 88\n",
      "Processing 89\n",
      "Processing 90\n",
      "Processing 91\n",
      "Processing 92\n",
      "Processing 93\n",
      "Processing 94\n",
      "Processing 95\n",
      "Processing 96\n",
      "Processing 97\n",
      "Processing 98\n",
      "Processing 99\n",
      "\n",
      "\n",
      "\n"
     ]
    },
    {
     "data": {
      "application/vnd.jupyter.widget-view+json": {
       "model_id": "fb2df7e7b64247b28f7d869003bf741a",
       "version_major": 2,
       "version_minor": 0
      },
      "text/plain": [
       "  0%|          | 0/100 [00:00<?, ?it/s]"
      ]
     },
     "metadata": {},
     "output_type": "display_data"
    }
   ],
   "source": [
    "def processing_func(val):\n",
    "    print(f'Processing {val}')\n",
    "\n",
    "itr_input = range(100)\n",
    "\n",
    "with ThreadPool() as pool:\n",
    "    x = list(tqdm(pool.imap(processing_func, itr_input), total=len(itr_input)))"
   ]
  },
  {
   "cell_type": "code",
   "execution_count": null,
   "metadata": {},
   "outputs": [],
   "source": []
  }
 ],
 "metadata": {
  "interpreter": {
   "hash": "2c96ffff15f49694e20d6af92a59f54c1cf6ff4da4eb0cf9141168fba41748bf"
  },
  "kernelspec": {
   "display_name": "Python 3.9 (Tensorflow)",
   "language": "python",
   "name": "python3"
  },
  "language_info": {
   "codemirror_mode": {
    "name": "ipython",
    "version": 3
   },
   "file_extension": ".py",
   "mimetype": "text/x-python",
   "name": "python",
   "nbconvert_exporter": "python",
   "pygments_lexer": "ipython3",
   "version": "3.9.7"
  },
  "orig_nbformat": 4
 },
 "nbformat": 4,
 "nbformat_minor": 2
}
