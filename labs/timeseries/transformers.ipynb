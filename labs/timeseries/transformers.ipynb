{
 "cells": [
  {
   "cell_type": "markdown",
   "metadata": {},
   "source": [
    "# Multivariate Time Series Forecasting with Transformers"
   ]
  },
  {
   "cell_type": "markdown",
   "metadata": {},
   "source": [
    "### Import Data"
   ]
  },
  {
   "cell_type": "code",
   "execution_count": 5,
   "metadata": {},
   "outputs": [],
   "source": [
    "import pickle\n",
    "\n",
    "model_file_path = '../market_trading/data/featurized_market_data.p'\n",
    "\n",
    "with open(model_file_path, 'rb') as fp:\n",
    "    featurized_market_data = pickle.load(fp)"
   ]
  },
  {
   "cell_type": "code",
   "execution_count": 8,
   "metadata": {},
   "outputs": [
    {
     "data": {
      "text/html": [
       "<div>\n",
       "<style scoped>\n",
       "    .dataframe tbody tr th:only-of-type {\n",
       "        vertical-align: middle;\n",
       "    }\n",
       "\n",
       "    .dataframe tbody tr th {\n",
       "        vertical-align: top;\n",
       "    }\n",
       "\n",
       "    .dataframe thead th {\n",
       "        text-align: right;\n",
       "    }\n",
       "</style>\n",
       "<table border=\"1\" class=\"dataframe\">\n",
       "  <thead>\n",
       "    <tr style=\"text-align: right;\">\n",
       "      <th></th>\n",
       "      <th>time</th>\n",
       "      <th>open</th>\n",
       "      <th>high</th>\n",
       "      <th>low</th>\n",
       "      <th>close</th>\n",
       "      <th>volume</th>\n",
       "      <th>hour</th>\n",
       "      <th>day</th>\n",
       "      <th>week</th>\n",
       "      <th>month</th>\n",
       "      <th>...</th>\n",
       "      <th>stoch_slow_d_tp_20</th>\n",
       "      <th>bb_upper_tp20_sd2</th>\n",
       "      <th>bb_middle_tp20_sd2</th>\n",
       "      <th>bb_lower_tp20_sd2</th>\n",
       "      <th>bb_upper_tp20_sd3</th>\n",
       "      <th>bb_middle_tp20_sd3</th>\n",
       "      <th>bb_lower_tp20_sd3</th>\n",
       "      <th>bb_upper_tp20_sd4</th>\n",
       "      <th>bb_middle_tp20_sd4</th>\n",
       "      <th>bb_lower_tp20_sd4</th>\n",
       "    </tr>\n",
       "  </thead>\n",
       "  <tbody>\n",
       "    <tr>\n",
       "      <th>0</th>\n",
       "      <td>2020-10-15 03:00:00</td>\n",
       "      <td>0.004512</td>\n",
       "      <td>0.005087</td>\n",
       "      <td>0.004081</td>\n",
       "      <td>0.004126</td>\n",
       "      <td>10209.72</td>\n",
       "      <td>3</td>\n",
       "      <td>15</td>\n",
       "      <td>42</td>\n",
       "      <td>10</td>\n",
       "      <td>...</td>\n",
       "      <td>NaN</td>\n",
       "      <td>NaN</td>\n",
       "      <td>NaN</td>\n",
       "      <td>NaN</td>\n",
       "      <td>NaN</td>\n",
       "      <td>NaN</td>\n",
       "      <td>NaN</td>\n",
       "      <td>NaN</td>\n",
       "      <td>NaN</td>\n",
       "      <td>NaN</td>\n",
       "    </tr>\n",
       "    <tr>\n",
       "      <th>1</th>\n",
       "      <td>2020-10-15 04:00:00</td>\n",
       "      <td>0.004136</td>\n",
       "      <td>0.004192</td>\n",
       "      <td>0.004095</td>\n",
       "      <td>0.004167</td>\n",
       "      <td>2670.00</td>\n",
       "      <td>4</td>\n",
       "      <td>15</td>\n",
       "      <td>42</td>\n",
       "      <td>10</td>\n",
       "      <td>...</td>\n",
       "      <td>NaN</td>\n",
       "      <td>NaN</td>\n",
       "      <td>NaN</td>\n",
       "      <td>NaN</td>\n",
       "      <td>NaN</td>\n",
       "      <td>NaN</td>\n",
       "      <td>NaN</td>\n",
       "      <td>NaN</td>\n",
       "      <td>NaN</td>\n",
       "      <td>NaN</td>\n",
       "    </tr>\n",
       "    <tr>\n",
       "      <th>2</th>\n",
       "      <td>2020-10-15 05:00:00</td>\n",
       "      <td>0.004161</td>\n",
       "      <td>0.004368</td>\n",
       "      <td>0.004161</td>\n",
       "      <td>0.004296</td>\n",
       "      <td>2766.22</td>\n",
       "      <td>5</td>\n",
       "      <td>15</td>\n",
       "      <td>42</td>\n",
       "      <td>10</td>\n",
       "      <td>...</td>\n",
       "      <td>NaN</td>\n",
       "      <td>NaN</td>\n",
       "      <td>NaN</td>\n",
       "      <td>NaN</td>\n",
       "      <td>NaN</td>\n",
       "      <td>NaN</td>\n",
       "      <td>NaN</td>\n",
       "      <td>NaN</td>\n",
       "      <td>NaN</td>\n",
       "      <td>NaN</td>\n",
       "    </tr>\n",
       "    <tr>\n",
       "      <th>3</th>\n",
       "      <td>2020-10-15 06:00:00</td>\n",
       "      <td>0.004298</td>\n",
       "      <td>0.004331</td>\n",
       "      <td>0.004270</td>\n",
       "      <td>0.004303</td>\n",
       "      <td>1523.50</td>\n",
       "      <td>6</td>\n",
       "      <td>15</td>\n",
       "      <td>42</td>\n",
       "      <td>10</td>\n",
       "      <td>...</td>\n",
       "      <td>NaN</td>\n",
       "      <td>NaN</td>\n",
       "      <td>NaN</td>\n",
       "      <td>NaN</td>\n",
       "      <td>NaN</td>\n",
       "      <td>NaN</td>\n",
       "      <td>NaN</td>\n",
       "      <td>NaN</td>\n",
       "      <td>NaN</td>\n",
       "      <td>NaN</td>\n",
       "    </tr>\n",
       "    <tr>\n",
       "      <th>4</th>\n",
       "      <td>2020-10-15 07:00:00</td>\n",
       "      <td>0.004306</td>\n",
       "      <td>0.004333</td>\n",
       "      <td>0.004260</td>\n",
       "      <td>0.004300</td>\n",
       "      <td>1048.25</td>\n",
       "      <td>7</td>\n",
       "      <td>15</td>\n",
       "      <td>42</td>\n",
       "      <td>10</td>\n",
       "      <td>...</td>\n",
       "      <td>NaN</td>\n",
       "      <td>NaN</td>\n",
       "      <td>NaN</td>\n",
       "      <td>NaN</td>\n",
       "      <td>NaN</td>\n",
       "      <td>NaN</td>\n",
       "      <td>NaN</td>\n",
       "      <td>NaN</td>\n",
       "      <td>NaN</td>\n",
       "      <td>NaN</td>\n",
       "    </tr>\n",
       "  </tbody>\n",
       "</table>\n",
       "<p>5 rows × 36 columns</p>\n",
       "</div>"
      ],
      "text/plain": [
       "                 time      open      high       low     close    volume  hour  \\\n",
       "0 2020-10-15 03:00:00  0.004512  0.005087  0.004081  0.004126  10209.72     3   \n",
       "1 2020-10-15 04:00:00  0.004136  0.004192  0.004095  0.004167   2670.00     4   \n",
       "2 2020-10-15 05:00:00  0.004161  0.004368  0.004161  0.004296   2766.22     5   \n",
       "3 2020-10-15 06:00:00  0.004298  0.004331  0.004270  0.004303   1523.50     6   \n",
       "4 2020-10-15 07:00:00  0.004306  0.004333  0.004260  0.004300   1048.25     7   \n",
       "\n",
       "   day  week  month  ...  stoch_slow_d_tp_20  bb_upper_tp20_sd2  \\\n",
       "0   15    42     10  ...                 NaN                NaN   \n",
       "1   15    42     10  ...                 NaN                NaN   \n",
       "2   15    42     10  ...                 NaN                NaN   \n",
       "3   15    42     10  ...                 NaN                NaN   \n",
       "4   15    42     10  ...                 NaN                NaN   \n",
       "\n",
       "   bb_middle_tp20_sd2  bb_lower_tp20_sd2  bb_upper_tp20_sd3  \\\n",
       "0                 NaN                NaN                NaN   \n",
       "1                 NaN                NaN                NaN   \n",
       "2                 NaN                NaN                NaN   \n",
       "3                 NaN                NaN                NaN   \n",
       "4                 NaN                NaN                NaN   \n",
       "\n",
       "   bb_middle_tp20_sd3  bb_lower_tp20_sd3  bb_upper_tp20_sd4  \\\n",
       "0                 NaN                NaN                NaN   \n",
       "1                 NaN                NaN                NaN   \n",
       "2                 NaN                NaN                NaN   \n",
       "3                 NaN                NaN                NaN   \n",
       "4                 NaN                NaN                NaN   \n",
       "\n",
       "   bb_middle_tp20_sd4  bb_lower_tp20_sd4  \n",
       "0                 NaN                NaN  \n",
       "1                 NaN                NaN  \n",
       "2                 NaN                NaN  \n",
       "3                 NaN                NaN  \n",
       "4                 NaN                NaN  \n",
       "\n",
       "[5 rows x 36 columns]"
      ]
     },
     "execution_count": 8,
     "metadata": {},
     "output_type": "execute_result"
    }
   ],
   "source": [
    "featurized_market_data['AAVE_BTC'].head()"
   ]
  },
  {
   "cell_type": "markdown",
   "metadata": {},
   "source": []
  },
  {
   "cell_type": "markdown",
   "metadata": {},
   "source": [
    "### Install & Import Dependencies"
   ]
  },
  {
   "cell_type": "code",
   "execution_count": 11,
   "metadata": {},
   "outputs": [
    {
     "name": "stdout",
     "output_type": "stream",
     "text": [
      "Collecting torch\n",
      "  Downloading torch-1.10.0-cp39-cp39-win_amd64.whl (226.5 MB)\n",
      "Requirement already satisfied: typing-extensions in c:\\users\\divanma\\.conda\\envs\\windows-ml-station\\lib\\site-packages (from torch) (3.7.4.3)\n",
      "Installing collected packages: torch\n",
      "Successfully installed torch-1.10.0\n"
     ]
    }
   ],
   "source": [
    "import sys\n",
    "\n",
    "!{sys.executable} -m pip install -U torch"
   ]
  },
  {
   "cell_type": "code",
   "execution_count": 13,
   "metadata": {},
   "outputs": [
    {
     "name": "stdout",
     "output_type": "stream",
     "text": [
      "Is GPU Available: False\n"
     ]
    }
   ],
   "source": [
    "# Ensure PyTorch is correctly installed.\n",
    "import torch\n",
    "\n",
    "is_gpu_available = torch.cuda.is_available()\n",
    "\n",
    "print(f'Is GPU Available: {is_gpu_available}')"
   ]
  },
  {
   "cell_type": "markdown",
   "metadata": {},
   "source": [
    "### References\n",
    "- [Documentation](https://timeseriestransformer.readthedocs.io/en/latest/README.html)"
   ]
  }
 ],
 "metadata": {
  "interpreter": {
   "hash": "2c96ffff15f49694e20d6af92a59f54c1cf6ff4da4eb0cf9141168fba41748bf"
  },
  "kernelspec": {
   "display_name": "Python 3.9.7 64-bit ('windows-ml-station': conda)",
   "name": "python3"
  },
  "language_info": {
   "codemirror_mode": {
    "name": "ipython",
    "version": 3
   },
   "file_extension": ".py",
   "mimetype": "text/x-python",
   "name": "python",
   "nbconvert_exporter": "python",
   "pygments_lexer": "ipython3",
   "version": "3.9.7"
  },
  "orig_nbformat": 4
 },
 "nbformat": 4,
 "nbformat_minor": 2
}
