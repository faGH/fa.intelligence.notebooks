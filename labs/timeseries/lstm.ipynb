{
 "cells": [
  {
   "cell_type": "markdown",
   "metadata": {},
   "source": [
    "# Multivariate Time Series Forecasting with LSTM"
   ]
  },
  {
   "cell_type": "markdown",
   "metadata": {},
   "source": [
    "### Import Data"
   ]
  },
  {
   "cell_type": "code",
   "execution_count": 298,
   "metadata": {},
   "outputs": [],
   "source": [
    "import pickle\n",
    "\n",
    "model_file_path = '../market_trading/data/featurized_market_data.p'\n",
    "\n",
    "with open(model_file_path, 'rb') as fp:\n",
    "    featurized_market_data = pickle.load(fp)"
   ]
  },
  {
   "cell_type": "markdown",
   "metadata": {},
   "source": []
  },
  {
   "cell_type": "markdown",
   "metadata": {},
   "source": [
    "### Import Dependencies"
   ]
  },
  {
   "cell_type": "code",
   "execution_count": 299,
   "metadata": {},
   "outputs": [],
   "source": [
    "import numpy as np\n",
    "from keras.models import Sequential\n",
    "from keras.layers import LSTM, Dense, Dropout\n",
    "from sklearn.preprocessing import StandardScaler\n",
    "\n",
    "import seaborn as sns\n",
    "import pandas as pd\n",
    "from matplotlib import pyplot as plt"
   ]
  },
  {
   "cell_type": "markdown",
   "metadata": {},
   "source": [
    "### Prepare Data"
   ]
  },
  {
   "cell_type": "code",
   "execution_count": 300,
   "metadata": {},
   "outputs": [],
   "source": [
    "# Separate time from the rest of the data.\n",
    "pair_name = 'AAVE_BTC'\n",
    "features = featurized_market_data[pair_name].dropna().set_index('time')"
   ]
  },
  {
   "cell_type": "code",
   "execution_count": 301,
   "metadata": {},
   "outputs": [],
   "source": [
    "# Scale the data.\n",
    "## LSTM uses sigmoid and tanh that are sensitive to magnitude so values need to be normalized.\n",
    "scaler = StandardScaler()\n",
    "scaler = scaler.fit(features)\n",
    "features_scaled = scaler.transform(features)"
   ]
  },
  {
   "cell_type": "code",
   "execution_count": 302,
   "metadata": {},
   "outputs": [],
   "source": [
    "# Prepare training and prediction sliding windowed buckets.\n",
    "features_current_past = []\n",
    "features_future = []\n",
    "\n",
    "# Count of steps to forecast into the future.\n",
    "n_future_step_count = 1\n",
    "# Count of steps to consider historically including the current step.\n",
    "n_past_step_count_inc_current = 24\n",
    "column_index_to_predict = 3\n",
    "\n",
    "for i in range(n_past_step_count_inc_current, len(features_scaled) - n_future_step_count + 1):\n",
    "    features_current_past.append(features_scaled[i - n_past_step_count_inc_current : i])\n",
    "    features_future.append(features_scaled[i + n_future_step_count - 1 : i + n_future_step_count, column_index_to_predict])\n",
    "    \n",
    "features_current_past, features_future = np.array(features_current_past), np.array(features_future)"
   ]
  },
  {
   "cell_type": "code",
   "execution_count": 303,
   "metadata": {},
   "outputs": [
    {
     "name": "stdout",
     "output_type": "stream",
     "text": [
      "Past Window Shape: (8802, 24, 35)\n",
      "Future Window Shape: (8802, 1)\n"
     ]
    }
   ],
   "source": [
    "print(f'Past Window Shape: {features_current_past.shape}')\n",
    "print(f'Future Window Shape: {features_future.shape}')"
   ]
  },
  {
   "cell_type": "code",
   "execution_count": 304,
   "metadata": {},
   "outputs": [],
   "source": [
    "index_to_inspect = 0\n",
    "# -1 takes the last record in each windows (the current one of that window). Anything apart from -1 would be historical records for context / experience replay.\n",
    "most_recent_features = features_current_past[index_to_inspect + 1][-1]\n",
    "\n",
    "assert features_future[index_to_inspect] == most_recent_features[column_index_to_predict], 'The first future price should be the same as the following current price for the prediction column.'"
   ]
  },
  {
   "cell_type": "markdown",
   "metadata": {},
   "source": [
    "### Setup Network"
   ]
  },
  {
   "cell_type": "code",
   "execution_count": 305,
   "metadata": {},
   "outputs": [
    {
     "name": "stdout",
     "output_type": "stream",
     "text": [
      "Model: \"sequential_5\"\n",
      "_________________________________________________________________\n",
      "Layer (type)                 Output Shape              Param #   \n",
      "=================================================================\n",
      "lstm_9 (LSTM)                (None, 24, 64)            25600     \n",
      "_________________________________________________________________\n",
      "lstm_10 (LSTM)               (None, 32)                12416     \n",
      "_________________________________________________________________\n",
      "dropout_3 (Dropout)          (None, 32)                0         \n",
      "_________________________________________________________________\n",
      "dense_3 (Dense)              (None, 1)                 33        \n",
      "=================================================================\n",
      "Total params: 38,049\n",
      "Trainable params: 38,049\n",
      "Non-trainable params: 0\n",
      "_________________________________________________________________\n"
     ]
    }
   ],
   "source": [
    "model = Sequential()\n",
    "model.add(LSTM(64, activation='relu', input_shape=(features_current_past.shape[1], features_current_past.shape[2]), return_sequences=True))\n",
    "model.add(LSTM(32, activation='relu', return_sequences=False))\n",
    "model.add(Dropout(0.2))\n",
    "model.add(Dense(features_future.shape[1]))\n",
    "\n",
    "model.compile(optimizer='adam', loss='mse')\n",
    "model.summary()"
   ]
  },
  {
   "cell_type": "markdown",
   "metadata": {},
   "source": [
    "### Train the Model"
   ]
  },
  {
   "cell_type": "code",
   "execution_count": 306,
   "metadata": {},
   "outputs": [
    {
     "name": "stdout",
     "output_type": "stream",
     "text": [
      "Epoch 1/10\n",
      "496/496 [==============================] - 8s 12ms/step - loss: 0.0670 - val_loss: 0.0049\n",
      "Epoch 2/10\n",
      "496/496 [==============================] - 5s 11ms/step - loss: 0.0358 - val_loss: 0.0035\n",
      "Epoch 3/10\n",
      "496/496 [==============================] - 6s 11ms/step - loss: 0.0299 - val_loss: 0.0020\n",
      "Epoch 4/10\n",
      "496/496 [==============================] - 5s 11ms/step - loss: 0.0272 - val_loss: 0.0016\n",
      "Epoch 5/10\n",
      "496/496 [==============================] - 5s 11ms/step - loss: 0.0263 - val_loss: 0.0021\n",
      "Epoch 6/10\n",
      "496/496 [==============================] - 5s 11ms/step - loss: 0.0254 - val_loss: 0.0019\n",
      "Epoch 7/10\n",
      "496/496 [==============================] - 6s 11ms/step - loss: 0.0275 - val_loss: 0.0022\n",
      "Epoch 8/10\n",
      "496/496 [==============================] - 6s 12ms/step - loss: 0.0253 - val_loss: 0.0014\n",
      "Epoch 9/10\n",
      "496/496 [==============================] - 6s 11ms/step - loss: 0.0278 - val_loss: 0.0016\n",
      "Epoch 10/10\n",
      "496/496 [==============================] - 5s 11ms/step - loss: 0.0248 - val_loss: 0.0014\n"
     ]
    }
   ],
   "source": [
    "history = model.fit(features_current_past, features_future, epochs=10, batch_size=16, validation_split=0.1, verbose=1)"
   ]
  },
  {
   "cell_type": "markdown",
   "metadata": {},
   "source": [
    "### Visualize Results"
   ]
  },
  {
   "cell_type": "code",
   "execution_count": 307,
   "metadata": {},
   "outputs": [
    {
     "data": {
      "text/plain": [
       "<matplotlib.legend.Legend at 0x215d786a940>"
      ]
     },
     "execution_count": 307,
     "metadata": {},
     "output_type": "execute_result"
    },
    {
     "data": {
      "image/png": "[encoded data removed]",
      "text/plain": [
       "<Figure size 432x288 with 1 Axes>"
      ]
     },
     "metadata": {
      "needs_background": "light"
     },
     "output_type": "display_data"
    }
   ],
   "source": [
    "plt.plot(history.history['loss'], label='Training Loss')\n",
    "plt.plot(history.history['val_loss'], label='Value Loss')\n",
    "plt.legend()"
   ]
  },
  {
   "cell_type": "markdown",
   "metadata": {},
   "source": [
    "### Make a Prediction"
   ]
  },
  {
   "cell_type": "code",
   "execution_count": 308,
   "metadata": {},
   "outputs": [],
   "source": [
    "forecast_record_count = 24\n",
    "forecast_frequency = '1h'\n",
    "forecast_period_dates = pd.date_range(list(features.index)[-1], periods=forecast_record_count, freq=forecast_frequency).tolist()\n",
    "forecast = model.predict(features_current_past[-forecast_record_count:])"
   ]
  },
  {
   "cell_type": "code",
   "execution_count": 309,
   "metadata": {},
   "outputs": [],
   "source": [
    "# Perform inverse scaling.\n",
    "shaped_forecast = np.repeat(forecast, features.shape[1], axis=-1)\n",
    "scaled_forecasts = scaler.inverse_transform(shaped_forecast)[:, column_index_to_predict]\n",
    "forecast_df = pd.DataFrame({ 'time': np.array(forecast_period_dates), 'close': np.array(scaled_forecasts) }).set_index('time')"
   ]
  },
  {
   "cell_type": "code",
   "execution_count": 310,
   "metadata": {},
   "outputs": [
    {
     "data": {
      "text/plain": [
       "DatetimeIndex(['2021-10-20 05:00:00'], dtype='datetime64[ns]', name='time', freq=None)"
      ]
     },
     "execution_count": 310,
     "metadata": {},
     "output_type": "execute_result"
    }
   ],
   "source": [
    "features[-1:].index"
   ]
  },
  {
   "cell_type": "code",
   "execution_count": 311,
   "metadata": {},
   "outputs": [
    {
     "data": {
      "text/plain": [
       "DatetimeIndex(['2021-10-20 05:00:00'], dtype='datetime64[ns]', name='time', freq=None)"
      ]
     },
     "execution_count": 311,
     "metadata": {},
     "output_type": "execute_result"
    }
   ],
   "source": [
    "forecast_df[:1].index"
   ]
  },
  {
   "cell_type": "code",
   "execution_count": 313,
   "metadata": {},
   "outputs": [
    {
     "data": {
      "text/plain": [
       "<matplotlib.legend.Legend at 0x215d7f094f0>"
      ]
     },
     "execution_count": 313,
     "metadata": {},
     "output_type": "execute_result"
    },
    {
     "data": {
      "image/png": "[encoded data removed]",
      "text/plain": [
       "<Figure size 432x288 with 1 Axes>"
      ]
     },
     "metadata": {
      "needs_background": "light"
     },
     "output_type": "display_data"
    }
   ],
   "source": [
    "historical_steps_to_visualize = 48\n",
    "plt.title(pair_name)\n",
    "plt.plot(features['close'][-historical_steps_to_visualize:], label='Historical')\n",
    "plt.plot(forecast_df['close'], label='Forecasted')\n",
    "plt.xlabel('Time - 1h Candles')\n",
    "plt.ylabel('Close Price')\n",
    "plt.xticks(rotation=45)\n",
    "plt.legend()"
   ]
  },
  {
   "cell_type": "markdown",
   "metadata": {},
   "source": [
    "### References\n",
    "- [Documentation](https://timeseriestransformer.readthedocs.io/en/latest/README.html)"
   ]
  },
  {
   "cell_type": "markdown",
   "metadata": {},
   "source": []
  }
 ],
 "metadata": {
  "interpreter": {
   "hash": "2c96ffff15f49694e20d6af92a59f54c1cf6ff4da4eb0cf9141168fba41748bf"
  },
  "kernelspec": {
   "display_name": "Python 3.9.7 64-bit ('windows-ml-station': conda)",
   "name": "python3"
  },
  "language_info": {
   "codemirror_mode": {
    "name": "ipython",
    "version": 3
   },
   "file_extension": ".py",
   "mimetype": "text/x-python",
   "name": "python",
   "nbconvert_exporter": "python",
   "pygments_lexer": "ipython3",
   "version": "3.9.7"
  },
  "orig_nbformat": 4
 },
 "nbformat": 4,
 "nbformat_minor": 2
}
