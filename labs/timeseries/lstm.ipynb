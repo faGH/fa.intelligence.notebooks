{
 "cells": [
  {
   "cell_type": "markdown",
   "metadata": {},
   "source": [
    "# Multivariate Time Series Forecasting with LSTM"
   ]
  },
  {
   "cell_type": "markdown",
   "metadata": {},
   "source": [
    "### Import Data"
   ]
  },
  {
   "cell_type": "code",
   "execution_count": 566,
   "metadata": {},
   "outputs": [],
   "source": [
    "import pickle\n",
    "\n",
    "model_file_path = '../market_trading/data/featurized_market_data.p'\n",
    "\n",
    "with open(model_file_path, 'rb') as fp:\n",
    "    featurized_market_data = pickle.load(fp)"
   ]
  },
  {
   "cell_type": "markdown",
   "metadata": {},
   "source": []
  },
  {
   "cell_type": "markdown",
   "metadata": {},
   "source": [
    "### Import Dependencies"
   ]
  },
  {
   "cell_type": "code",
   "execution_count": 567,
   "metadata": {},
   "outputs": [],
   "source": [
    "import numpy as np\n",
    "from keras.models import Sequential\n",
    "from keras.layers import LSTM, Dense, Dropout\n",
    "from sklearn.preprocessing import StandardScaler\n",
    "\n",
    "import pandas as pd\n",
    "from matplotlib import pyplot as plt"
   ]
  },
  {
   "cell_type": "markdown",
   "metadata": {},
   "source": [
    "### Prepare Data"
   ]
  },
  {
   "cell_type": "code",
   "execution_count": 568,
   "metadata": {},
   "outputs": [],
   "source": [
    "# Separate time from the rest of the data.\n",
    "pair_name = 'AAVE_BTC'\n",
    "features = featurized_market_data[pair_name].dropna().set_index('time')"
   ]
  },
  {
   "cell_type": "code",
   "execution_count": 569,
   "metadata": {},
   "outputs": [],
   "source": [
    "# Scale the data.\n",
    "## LSTM uses sigmoid and tanh that are sensitive to magnitude so values need to be normalized.\n",
    "scaler = StandardScaler()\n",
    "scaler = scaler.fit(features)\n",
    "features_scaled = scaler.transform(features)"
   ]
  },
  {
   "cell_type": "code",
   "execution_count": 570,
   "metadata": {},
   "outputs": [],
   "source": [
    "# Prepare training and prediction sliding windowed buckets.\n",
    "features_current_past = []\n",
    "features_future = []\n",
    "\n",
    "# Count of steps to forecast into the future.\n",
    "n_future_step_count = 1\n",
    "# Count of steps to consider historically including the current step.\n",
    "n_past_step_count_inc_current = 24\n",
    "column_index_to_predict = 3\n",
    "\n",
    "for i in range(n_past_step_count_inc_current, len(features_scaled) - n_future_step_count + 1):\n",
    "    features_current_past.append(features_scaled[i - n_past_step_count_inc_current : i])\n",
    "    features_future.append(features_scaled[i + n_future_step_count - 1 : i + n_future_step_count, column_index_to_predict])\n",
    "    \n",
    "features_current_past, features_future = np.array(features_current_past), np.array(features_future)"
   ]
  },
  {
   "cell_type": "code",
   "execution_count": 571,
   "metadata": {},
   "outputs": [
    {
     "name": "stdout",
     "output_type": "stream",
     "text": [
      "Past Window Shape: (8802, 24, 35)\n",
      "Future Window Shape: (8802, 1)\n"
     ]
    }
   ],
   "source": [
    "print(f'Past Window Shape: {features_current_past.shape}')\n",
    "print(f'Future Window Shape: {features_future.shape}')"
   ]
  },
  {
   "cell_type": "code",
   "execution_count": 572,
   "metadata": {},
   "outputs": [],
   "source": [
    "index_to_inspect = 0\n",
    "# -1 takes the last record in each windows (the current one of that window). Anything apart from -1 would be historical records for context / experience replay.\n",
    "most_recent_features = features_current_past[index_to_inspect + 1][-1]\n",
    "\n",
    "assert features_future[index_to_inspect] == most_recent_features[column_index_to_predict], 'The first future price should be the same as the following current price for the prediction column.'"
   ]
  },
  {
   "cell_type": "markdown",
   "metadata": {},
   "source": [
    "### Setup Network"
   ]
  },
  {
   "cell_type": "code",
   "execution_count": 573,
   "metadata": {},
   "outputs": [
    {
     "name": "stdout",
     "output_type": "stream",
     "text": [
      "Model: \"sequential_11\"\n",
      "_________________________________________________________________\n",
      "Layer (type)                 Output Shape              Param #   \n",
      "=================================================================\n",
      "lstm_26 (LSTM)               (None, 24, 128)           83968     \n",
      "_________________________________________________________________\n",
      "lstm_27 (LSTM)               (None, 24, 64)            49408     \n",
      "_________________________________________________________________\n",
      "lstm_28 (LSTM)               (None, 32)                12416     \n",
      "_________________________________________________________________\n",
      "dense_8 (Dense)              (None, 1)                 33        \n",
      "=================================================================\n",
      "Total params: 145,825\n",
      "Trainable params: 145,825\n",
      "Non-trainable params: 0\n",
      "_________________________________________________________________\n"
     ]
    }
   ],
   "source": [
    "model = Sequential()\n",
    "model.add(LSTM(128, activation='relu', recurrent_dropout=0.1, input_shape=(features_current_past.shape[1], features_current_past.shape[2]), return_sequences=True))\n",
    "model.add(LSTM(64, activation='relu', recurrent_dropout=0.1, return_sequences=True))\n",
    "model.add(LSTM(32, activation='relu', recurrent_dropout=0.1, return_sequences=False))\n",
    "model.add(Dense(features_future.shape[1]))\n",
    "\n",
    "model.compile(optimizer='adam', loss='mse')\n",
    "model.summary()"
   ]
  },
  {
   "cell_type": "markdown",
   "metadata": {},
   "source": [
    "### Train the Model"
   ]
  },
  {
   "cell_type": "code",
   "execution_count": 574,
   "metadata": {},
   "outputs": [
    {
     "name": "stdout",
     "output_type": "stream",
     "text": [
      "Epoch 1/150\n",
      "496/496 [==============================] - 37s 65ms/step - loss: 13.4378 - val_loss: 0.0059\n",
      "Epoch 2/150\n",
      "496/496 [==============================] - 36s 72ms/step - loss: 0.0214 - val_loss: 0.0045\n",
      "Epoch 3/150\n",
      "496/496 [==============================] - 44s 88ms/step - loss: 0.0118 - val_loss: 0.0032\n",
      "Epoch 4/150\n",
      "496/496 [==============================] - 54s 109ms/step - loss: 0.0081 - val_loss: 0.0026\n",
      "Epoch 5/150\n",
      "496/496 [==============================] - 48s 96ms/step - loss: 0.0063 - val_loss: 0.0026\n",
      "Epoch 6/150\n",
      "496/496 [==============================] - 44s 89ms/step - loss: 0.0059 - val_loss: 0.0025\n",
      "Epoch 7/150\n",
      "496/496 [==============================] - 40s 81ms/step - loss: 0.0054 - val_loss: 0.0030\n",
      "Epoch 8/150\n",
      "496/496 [==============================] - 42s 85ms/step - loss: 0.0052 - val_loss: 0.0027\n",
      "Epoch 9/150\n",
      "496/496 [==============================] - 56s 113ms/step - loss: 0.0049 - val_loss: 0.0031\n",
      "Epoch 10/150\n",
      "496/496 [==============================] - 44s 89ms/step - loss: 0.0051 - val_loss: 0.0029\n",
      "Epoch 11/150\n",
      "496/496 [==============================] - 46s 92ms/step - loss: 0.0044 - val_loss: 0.0018\n",
      "Epoch 12/150\n",
      "496/496 [==============================] - 56s 114ms/step - loss: 0.0046 - val_loss: 0.0028\n",
      "Epoch 13/150\n",
      "496/496 [==============================] - 44s 89ms/step - loss: 0.0042 - val_loss: 0.0023\n",
      "Epoch 14/150\n",
      "496/496 [==============================] - 45s 90ms/step - loss: 0.0044 - val_loss: 0.0021\n",
      "Epoch 15/150\n",
      "496/496 [==============================] - 51s 102ms/step - loss: 0.0037 - val_loss: 0.0020\n",
      "Epoch 16/150\n",
      "496/496 [==============================] - 45s 90ms/step - loss: 0.0039 - val_loss: 0.0015\n",
      "Epoch 17/150\n",
      "496/496 [==============================] - 43s 87ms/step - loss: 0.0039 - val_loss: 0.0029\n",
      "Epoch 18/150\n",
      "496/496 [==============================] - 49s 99ms/step - loss: 0.0049 - val_loss: 0.0015\n",
      "Epoch 19/150\n",
      "496/496 [==============================] - 46s 93ms/step - loss: 0.0054 - val_loss: 0.0034\n",
      "Epoch 20/150\n",
      "496/496 [==============================] - 47s 96ms/step - loss: 0.0040 - val_loss: 0.0015\n",
      "Epoch 21/150\n",
      "496/496 [==============================] - 52s 105ms/step - loss: 0.0036 - val_loss: 0.0014\n",
      "Epoch 22/150\n",
      "496/496 [==============================] - 45s 91ms/step - loss: 0.0034 - val_loss: 0.0022\n",
      "Epoch 23/150\n",
      "496/496 [==============================] - 47s 96ms/step - loss: 0.0036 - val_loss: 0.0022\n",
      "Epoch 24/150\n",
      "496/496 [==============================] - 46s 92ms/step - loss: 0.0036 - val_loss: 0.0029\n",
      "Epoch 25/150\n",
      "496/496 [==============================] - 44s 88ms/step - loss: 0.0034 - val_loss: 0.0021\n",
      "Epoch 26/150\n",
      "496/496 [==============================] - 52s 105ms/step - loss: 0.0032 - val_loss: 0.0023\n",
      "Epoch 27/150\n",
      "496/496 [==============================] - 47s 94ms/step - loss: 0.0034 - val_loss: 0.0016\n",
      "Epoch 28/150\n",
      "496/496 [==============================] - 46s 94ms/step - loss: 0.0038 - val_loss: 0.0050\n",
      "Epoch 29/150\n",
      "496/496 [==============================] - 53s 107ms/step - loss: 0.0033 - val_loss: 0.0029\n",
      "Epoch 30/150\n",
      "496/496 [==============================] - 45s 91ms/step - loss: 0.0034 - val_loss: 0.0016\n",
      "Epoch 31/150\n",
      "496/496 [==============================] - 55s 110ms/step - loss: 0.0037 - val_loss: 0.0032\n",
      "Epoch 32/150\n",
      "496/496 [==============================] - 47s 95ms/step - loss: 0.0035 - val_loss: 0.0015\n",
      "Epoch 33/150\n",
      "496/496 [==============================] - 47s 94ms/step - loss: 0.0033 - val_loss: 0.0023\n",
      "Epoch 34/150\n",
      "496/496 [==============================] - 49s 98ms/step - loss: 0.0039 - val_loss: 0.0026\n",
      "Epoch 35/150\n",
      "496/496 [==============================] - 48s 97ms/step - loss: 0.0030 - val_loss: 0.0027\n",
      "Epoch 36/150\n",
      "496/496 [==============================] - 53s 107ms/step - loss: 0.0033 - val_loss: 0.0025\n",
      "Epoch 37/150\n",
      "496/496 [==============================] - 45s 91ms/step - loss: 0.0038 - val_loss: 0.0025\n",
      "Epoch 38/150\n",
      "496/496 [==============================] - 45s 91ms/step - loss: 0.0034 - val_loss: 0.0037\n",
      "Epoch 39/150\n",
      "496/496 [==============================] - 46s 93ms/step - loss: 0.0032 - val_loss: 0.0014\n",
      "Epoch 40/150\n",
      "496/496 [==============================] - 41s 83ms/step - loss: 0.0031 - val_loss: 0.0019\n",
      "Epoch 41/150\n",
      "496/496 [==============================] - 47s 96ms/step - loss: 0.0036 - val_loss: 0.0021\n",
      "Epoch 42/150\n",
      "496/496 [==============================] - 49s 99ms/step - loss: 0.0031 - val_loss: 0.0020\n",
      "Epoch 43/150\n",
      "496/496 [==============================] - 44s 88ms/step - loss: 0.0034 - val_loss: 0.0042\n",
      "Epoch 44/150\n",
      "496/496 [==============================] - 45s 91ms/step - loss: 0.0032 - val_loss: 0.0023\n",
      "Epoch 45/150\n",
      "496/496 [==============================] - 47s 96ms/step - loss: 0.0030 - val_loss: 0.0016\n",
      "Epoch 46/150\n",
      "496/496 [==============================] - 47s 94ms/step - loss: 0.0031 - val_loss: 0.0018\n",
      "Epoch 47/150\n",
      "496/496 [==============================] - 45s 90ms/step - loss: 0.0030 - val_loss: 0.0015\n",
      "Epoch 48/150\n",
      "496/496 [==============================] - 46s 93ms/step - loss: 0.0031 - val_loss: 0.0023\n",
      "Epoch 49/150\n",
      "496/496 [==============================] - 44s 89ms/step - loss: 0.0034 - val_loss: 0.0037\n",
      "Epoch 50/150\n",
      "496/496 [==============================] - 47s 94ms/step - loss: 0.0030 - val_loss: 0.0033\n",
      "Epoch 51/150\n",
      "496/496 [==============================] - 44s 88ms/step - loss: 0.0031 - val_loss: 0.0020\n",
      "Epoch 52/150\n",
      "496/496 [==============================] - 48s 96ms/step - loss: 0.0029 - val_loss: 0.0045\n",
      "Epoch 53/150\n",
      "496/496 [==============================] - 46s 93ms/step - loss: 0.0034 - val_loss: 0.0020\n",
      "Epoch 54/150\n",
      "496/496 [==============================] - 46s 92ms/step - loss: 0.0030 - val_loss: 0.0022\n",
      "Epoch 55/150\n",
      "496/496 [==============================] - 45s 92ms/step - loss: 0.0028 - val_loss: 0.0029\n",
      "Epoch 56/150\n",
      "496/496 [==============================] - 50s 100ms/step - loss: 0.0030 - val_loss: 0.0027\n",
      "Epoch 57/150\n",
      "496/496 [==============================] - 48s 96ms/step - loss: 0.0027 - val_loss: 0.0031\n",
      "Epoch 58/150\n",
      "496/496 [==============================] - 46s 92ms/step - loss: 0.0027 - val_loss: 0.0039\n",
      "Epoch 59/150\n",
      "496/496 [==============================] - 47s 95ms/step - loss: 0.0029 - val_loss: 0.0041\n",
      "Epoch 60/150\n",
      "496/496 [==============================] - 43s 87ms/step - loss: 0.0027 - val_loss: 0.0030\n",
      "Epoch 61/150\n",
      "496/496 [==============================] - 49s 99ms/step - loss: 0.0031 - val_loss: 0.0035\n",
      "Epoch 62/150\n",
      "496/496 [==============================] - 47s 96ms/step - loss: 0.0026 - val_loss: 0.0043\n",
      "Epoch 63/150\n",
      "496/496 [==============================] - 44s 88ms/step - loss: 0.0027 - val_loss: 0.0039\n",
      "Epoch 64/150\n",
      "496/496 [==============================] - 51s 102ms/step - loss: 0.0024 - val_loss: 0.0028\n",
      "Epoch 65/150\n",
      "496/496 [==============================] - 45s 91ms/step - loss: 0.0026 - val_loss: 0.0031\n",
      "Epoch 66/150\n",
      "496/496 [==============================] - 49s 99ms/step - loss: 0.0025 - val_loss: 0.0036\n",
      "Epoch 67/150\n",
      "496/496 [==============================] - 44s 89ms/step - loss: 0.0025 - val_loss: 0.0029\n",
      "Epoch 68/150\n",
      "496/496 [==============================] - 49s 99ms/step - loss: 0.0028 - val_loss: 0.0044\n",
      "Epoch 69/150\n",
      "496/496 [==============================] - 47s 95ms/step - loss: 0.0023 - val_loss: 0.0035\n",
      "Epoch 70/150\n",
      "496/496 [==============================] - 45s 91ms/step - loss: 0.0028 - val_loss: 0.0043\n",
      "Epoch 71/150\n",
      "496/496 [==============================] - 50s 100ms/step - loss: 0.0025 - val_loss: 0.0030\n",
      "Epoch 72/150\n",
      "496/496 [==============================] - 47s 95ms/step - loss: 0.0024 - val_loss: 0.0037\n",
      "Epoch 73/150\n",
      "496/496 [==============================] - 44s 88ms/step - loss: 0.0023 - val_loss: 0.0032\n",
      "Epoch 74/150\n",
      "496/496 [==============================] - 49s 98ms/step - loss: 0.0024 - val_loss: 0.0030\n",
      "Epoch 75/150\n",
      "496/496 [==============================] - 44s 90ms/step - loss: 0.0025 - val_loss: 0.0037\n",
      "Epoch 76/150\n",
      "496/496 [==============================] - 48s 97ms/step - loss: 0.0023 - val_loss: 0.0040\n",
      "Epoch 77/150\n",
      "496/496 [==============================] - 45s 92ms/step - loss: 0.0024 - val_loss: 0.0038\n",
      "Epoch 78/150\n",
      "496/496 [==============================] - 54s 108ms/step - loss: 0.0022 - val_loss: 0.0032\n",
      "Epoch 79/150\n",
      "496/496 [==============================] - 47s 96ms/step - loss: 0.0020 - val_loss: 0.0037\n",
      "Epoch 80/150\n",
      "496/496 [==============================] - 49s 98ms/step - loss: 0.0025 - val_loss: 0.0028\n",
      "Epoch 81/150\n",
      "496/496 [==============================] - 49s 98ms/step - loss: 0.0023 - val_loss: 0.0038\n",
      "Epoch 82/150\n",
      "496/496 [==============================] - 44s 89ms/step - loss: 0.0021 - val_loss: 0.0034\n",
      "Epoch 83/150\n",
      "496/496 [==============================] - 49s 99ms/step - loss: 0.0021 - val_loss: 0.0051\n",
      "Epoch 84/150\n",
      "496/496 [==============================] - 47s 95ms/step - loss: 0.0022 - val_loss: 0.0051\n",
      "Epoch 85/150\n",
      "496/496 [==============================] - 47s 95ms/step - loss: 0.0022 - val_loss: 0.0049\n",
      "Epoch 86/150\n",
      "496/496 [==============================] - 52s 105ms/step - loss: 0.0020 - val_loss: 0.0036\n",
      "Epoch 87/150\n",
      "496/496 [==============================] - 53s 106ms/step - loss: 0.0022 - val_loss: 0.0034\n",
      "Epoch 88/150\n",
      "496/496 [==============================] - 54s 108ms/step - loss: 0.0021 - val_loss: 0.0040\n",
      "Epoch 89/150\n",
      "496/496 [==============================] - 46s 93ms/step - loss: 0.0020 - val_loss: 0.0043\n",
      "Epoch 90/150\n",
      "496/496 [==============================] - 54s 109ms/step - loss: 0.0021 - val_loss: 0.0049\n",
      "Epoch 91/150\n",
      "496/496 [==============================] - 51s 102ms/step - loss: 0.0021 - val_loss: 0.0054\n",
      "Epoch 92/150\n",
      "496/496 [==============================] - 52s 105ms/step - loss: 0.0017 - val_loss: 0.0030\n",
      "Epoch 93/150\n",
      "496/496 [==============================] - 53s 106ms/step - loss: 0.0021 - val_loss: 0.0048\n",
      "Epoch 94/150\n",
      "496/496 [==============================] - 47s 95ms/step - loss: 0.0019 - val_loss: 0.0043\n",
      "Epoch 95/150\n",
      "496/496 [==============================] - 51s 102ms/step - loss: 0.0021 - val_loss: 0.0053\n",
      "Epoch 96/150\n",
      "496/496 [==============================] - 51s 103ms/step - loss: 0.0018 - val_loss: 0.0054\n",
      "Epoch 97/150\n",
      "496/496 [==============================] - 46s 94ms/step - loss: 0.0021 - val_loss: 0.0050\n",
      "Epoch 98/150\n",
      "496/496 [==============================] - 50s 101ms/step - loss: 0.0017 - val_loss: 0.0052\n",
      "Epoch 99/150\n",
      "496/496 [==============================] - 48s 97ms/step - loss: 0.0020 - val_loss: 0.0066\n",
      "Epoch 100/150\n",
      "496/496 [==============================] - 53s 108ms/step - loss: 0.0020 - val_loss: 0.0047\n",
      "Epoch 101/150\n",
      "496/496 [==============================] - 47s 95ms/step - loss: 0.0017 - val_loss: 0.0057\n",
      "Epoch 102/150\n",
      "496/496 [==============================] - 44s 88ms/step - loss: 0.0017 - val_loss: 0.0056\n",
      "Epoch 103/150\n",
      "496/496 [==============================] - 48s 96ms/step - loss: 0.0018 - val_loss: 0.0055\n",
      "Epoch 104/150\n",
      "496/496 [==============================] - 44s 89ms/step - loss: 0.0017 - val_loss: 0.0044\n",
      "Epoch 105/150\n",
      "496/496 [==============================] - 48s 97ms/step - loss: 0.0017 - val_loss: 0.0048\n",
      "Epoch 106/150\n",
      "496/496 [==============================] - 44s 88ms/step - loss: 0.0017 - val_loss: 0.0070\n",
      "Epoch 107/150\n",
      "496/496 [==============================] - 48s 96ms/step - loss: 0.0017 - val_loss: 0.0061\n",
      "Epoch 108/150\n",
      "496/496 [==============================] - 47s 94ms/step - loss: 0.0017 - val_loss: 0.0058\n",
      "Epoch 109/150\n",
      "496/496 [==============================] - 46s 93ms/step - loss: 0.0016 - val_loss: 0.0063\n",
      "Epoch 110/150\n",
      "496/496 [==============================] - 47s 95ms/step - loss: 0.0017 - val_loss: 0.0077\n",
      "Epoch 111/150\n",
      "496/496 [==============================] - 45s 91ms/step - loss: 0.0016 - val_loss: 0.0066\n",
      "Epoch 112/150\n",
      "496/496 [==============================] - 48s 97ms/step - loss: 0.0016 - val_loss: 0.0083\n",
      "Epoch 113/150\n",
      "496/496 [==============================] - 44s 89ms/step - loss: 0.0015 - val_loss: 0.0067\n",
      "Epoch 114/150\n",
      "496/496 [==============================] - 47s 94ms/step - loss: 0.0016 - val_loss: 0.0067\n",
      "Epoch 115/150\n",
      "496/496 [==============================] - 47s 95ms/step - loss: 0.0016 - val_loss: 0.0063\n",
      "Epoch 116/150\n",
      "496/496 [==============================] - 45s 90ms/step - loss: 0.0016 - val_loss: 0.0066\n",
      "Epoch 117/150\n",
      "496/496 [==============================] - 56s 114ms/step - loss: 0.0016 - val_loss: 0.0057\n",
      "Epoch 118/150\n",
      "496/496 [==============================] - 57s 115ms/step - loss: 0.0016 - val_loss: 0.0064\n",
      "Epoch 119/150\n",
      "496/496 [==============================] - 48s 97ms/step - loss: 0.0019 - val_loss: 0.0067\n",
      "Epoch 120/150\n",
      "496/496 [==============================] - 50s 102ms/step - loss: 0.0015 - val_loss: 0.0064\n",
      "Epoch 121/150\n",
      "496/496 [==============================] - 45s 90ms/step - loss: 0.0015 - val_loss: 0.0065\n",
      "Epoch 122/150\n",
      "496/496 [==============================] - 46s 93ms/step - loss: 0.0016 - val_loss: 0.0084\n",
      "Epoch 123/150\n",
      "496/496 [==============================] - 46s 93ms/step - loss: 0.0015 - val_loss: 0.0076\n",
      "Epoch 124/150\n",
      "496/496 [==============================] - 44s 88ms/step - loss: 0.0016 - val_loss: 0.0078\n",
      "Epoch 125/150\n",
      "496/496 [==============================] - 48s 96ms/step - loss: 0.0015 - val_loss: 0.0089\n",
      "Epoch 126/150\n",
      "496/496 [==============================] - 45s 91ms/step - loss: 0.0014 - val_loss: 0.0080\n",
      "Epoch 127/150\n",
      "496/496 [==============================] - 44s 90ms/step - loss: 0.0014 - val_loss: 0.0090\n",
      "Epoch 128/150\n",
      "496/496 [==============================] - 49s 98ms/step - loss: 0.0013 - val_loss: 0.0113\n",
      "Epoch 129/150\n",
      "496/496 [==============================] - 52s 106ms/step - loss: 0.0013 - val_loss: 0.0091\n",
      "Epoch 130/150\n",
      "496/496 [==============================] - 50s 102ms/step - loss: 0.0015 - val_loss: 0.0082\n",
      "Epoch 131/150\n",
      "496/496 [==============================] - 47s 96ms/step - loss: 0.0014 - val_loss: 0.0076\n",
      "Epoch 132/150\n",
      "496/496 [==============================] - 43s 88ms/step - loss: 0.0015 - val_loss: 0.0076\n",
      "Epoch 133/150\n",
      "496/496 [==============================] - 47s 95ms/step - loss: 0.0013 - val_loss: 0.0071\n",
      "Epoch 134/150\n",
      "496/496 [==============================] - 61s 124ms/step - loss: 0.0014 - val_loss: 0.0087\n",
      "Epoch 135/150\n",
      "496/496 [==============================] - 54s 109ms/step - loss: 0.0014 - val_loss: 0.0087\n",
      "Epoch 136/150\n",
      "496/496 [==============================] - 47s 94ms/step - loss: 0.0014 - val_loss: 0.0078\n",
      "Epoch 137/150\n",
      "496/496 [==============================] - 45s 90ms/step - loss: 0.0013 - val_loss: 0.0082\n",
      "Epoch 138/150\n",
      "496/496 [==============================] - 55s 111ms/step - loss: 0.0015 - val_loss: 0.0078\n",
      "Epoch 139/150\n",
      "496/496 [==============================] - 45s 90ms/step - loss: 0.0017 - val_loss: 0.0085\n",
      "Epoch 140/150\n",
      "496/496 [==============================] - 49s 98ms/step - loss: 0.0014 - val_loss: 0.0088\n",
      "Epoch 141/150\n",
      "496/496 [==============================] - 49s 100ms/step - loss: 0.0012 - val_loss: 0.0091\n",
      "Epoch 142/150\n",
      "496/496 [==============================] - 55s 111ms/step - loss: 0.0012 - val_loss: 0.0088\n",
      "Epoch 143/150\n",
      "496/496 [==============================] - 48s 97ms/step - loss: 0.0014 - val_loss: 0.0084\n",
      "Epoch 144/150\n",
      "496/496 [==============================] - 50s 102ms/step - loss: 0.0014 - val_loss: 0.0078\n",
      "Epoch 145/150\n",
      "496/496 [==============================] - 45s 92ms/step - loss: 0.0012 - val_loss: 0.0062\n",
      "Epoch 146/150\n",
      "496/496 [==============================] - 44s 89ms/step - loss: 0.0014 - val_loss: 0.0079\n",
      "Epoch 147/150\n",
      "496/496 [==============================] - 43s 87ms/step - loss: 0.0012 - val_loss: 0.0069\n",
      "Epoch 148/150\n",
      "496/496 [==============================] - 49s 98ms/step - loss: 0.0012 - val_loss: 0.0085\n",
      "Epoch 149/150\n",
      "496/496 [==============================] - 45s 92ms/step - loss: 0.0013 - val_loss: 0.0069\n",
      "Epoch 150/150\n",
      "496/496 [==============================] - 45s 91ms/step - loss: 0.0012 - val_loss: 0.0070\n"
     ]
    }
   ],
   "source": [
    "history = model.fit(features_current_past, features_future, epochs=150, batch_size=n_past_step_count_inc_current, validation_split=0.1, verbose=1)"
   ]
  },
  {
   "cell_type": "markdown",
   "metadata": {},
   "source": [
    "### Visualize Results"
   ]
  },
  {
   "cell_type": "code",
   "execution_count": 575,
   "metadata": {},
   "outputs": [
    {
     "data": {
      "text/plain": [
       "<matplotlib.legend.Legend at 0x215c8ea8d90>"
      ]
     },
     "execution_count": 575,
     "metadata": {},
     "output_type": "execute_result"
    },
    {
     "data": {
      "image/png": "[encoded data removed]",
      "text/plain": [
       "<Figure size 432x288 with 1 Axes>"
      ]
     },
     "metadata": {
      "needs_background": "light"
     },
     "output_type": "display_data"
    }
   ],
   "source": [
    "plt.plot(history.history['loss'], label='Training Loss')\n",
    "plt.plot(history.history['val_loss'], label='Value Loss')\n",
    "plt.legend()"
   ]
  },
  {
   "cell_type": "markdown",
   "metadata": {},
   "source": [
    "### Make a Prediction"
   ]
  },
  {
   "cell_type": "code",
   "execution_count": 576,
   "metadata": {},
   "outputs": [
    {
     "data": {
      "text/plain": [
       "(25, 24, 35)"
      ]
     },
     "execution_count": 576,
     "metadata": {},
     "output_type": "execute_result"
    }
   ],
   "source": [
    "features_current_past[24-n_past_step_count_inc_current:24+1].shape"
   ]
  },
  {
   "cell_type": "code",
   "execution_count": 577,
   "metadata": {},
   "outputs": [],
   "source": [
    "forecast_record_count = 24\n",
    "forecast_frequency = '1h'\n",
    "forecast = model.predict(features_current_past[-n_past_step_count_inc_current:])\n",
    "forecast_period_dates = pd.date_range(list(features.index)[-1], periods=forecast_record_count, freq=forecast_frequency).tolist()"
   ]
  },
  {
   "cell_type": "code",
   "execution_count": 578,
   "metadata": {},
   "outputs": [],
   "source": [
    "historical_steps_to_visualize = 48\n",
    "historical_data = features.tail(historical_steps_to_visualize)"
   ]
  },
  {
   "cell_type": "code",
   "execution_count": 579,
   "metadata": {},
   "outputs": [],
   "source": [
    "# Perform inverse scaling.\n",
    "shaped_forecast = np.repeat(forecast, features.shape[1], axis=-1)\n",
    "scaled_forecasts = scaler.inverse_transform(shaped_forecast)[:, column_index_to_predict]\n",
    "forecast_df = pd.DataFrame({ 'time': np.array(forecast_period_dates), 'close': np.array(scaled_forecasts) }).set_index('time')"
   ]
  },
  {
   "cell_type": "code",
   "execution_count": 580,
   "metadata": {},
   "outputs": [],
   "source": [
    "predictions = []\n",
    "\n",
    "for window in features_current_past[-historical_steps_to_visualize:]:\n",
    "    prediction_windows = []\n",
    "    prediction_windows.append(window)\n",
    "    prediction_windows = np.array(prediction_windows)\n",
    "    forecast = model.predict(prediction_windows)\n",
    "    shaped_forecast = np.repeat(forecast, features.shape[1], axis=-1)\n",
    "    scaled_forecast = scaler.inverse_transform(shaped_forecast)[:, column_index_to_predict]\n",
    "    predictions.append(scaled_forecast[0])"
   ]
  },
  {
   "cell_type": "code",
   "execution_count": 581,
   "metadata": {},
   "outputs": [],
   "source": [
    "historical_data_with_predictions = historical_data.copy()\n",
    "historical_data_with_predictions['predicted'] = predictions"
   ]
  },
  {
   "cell_type": "code",
   "execution_count": 582,
   "metadata": {},
   "outputs": [
    {
     "data": {
      "text/plain": [
       "<matplotlib.legend.Legend at 0x215dcb0e820>"
      ]
     },
     "execution_count": 582,
     "metadata": {},
     "output_type": "execute_result"
    },
    {
     "data": {
      "image/png": "[encoded data removed]",
      "text/plain": [
       "<Figure size 432x288 with 1 Axes>"
      ]
     },
     "metadata": {
      "needs_background": "light"
     },
     "output_type": "display_data"
    }
   ],
   "source": [
    "plt.title(pair_name)\n",
    "plt.plot(historical_data_with_predictions['close'], label='Historical', color='dodgerblue')\n",
    "plt.plot(historical_data_with_predictions['predicted'], color='magenta')\n",
    "plt.plot(forecast_df['close'], label='Forecasted', color='magenta')\n",
    "plt.xlabel('Time - 1h Candles')\n",
    "plt.ylabel('Close Price')\n",
    "plt.xticks(rotation=45)\n",
    "plt.legend()"
   ]
  },
  {
   "cell_type": "markdown",
   "metadata": {},
   "source": [
    "### References\n",
    "- [Documentation](https://timeseriestransformer.readthedocs.io/en/latest/README.html)\n",
    "\n",
    "### Reading Material\n",
    "- https://www.hindawi.com/journals/complexity/2020/6622927/\n",
    "- https://timeseriestransformer.readthedocs.io/en/latest/README.html\n",
    "- http://smo.sogang.ac.kr/doc/bellman.pdf\n",
    "- http://www.it.uu.se/edu/course/homepage/aism/st11/MDPApplications3.pdf\n",
    "- https://proceedings.neurips.cc/paper/2017/file/3f5ee243547dee91fbd053c1c4a845aa-Paper.pdf"
   ]
  },
  {
   "cell_type": "markdown",
   "metadata": {},
   "source": []
  }
 ],
 "metadata": {
  "interpreter": {
   "hash": "2c96ffff15f49694e20d6af92a59f54c1cf6ff4da4eb0cf9141168fba41748bf"
  },
  "kernelspec": {
   "display_name": "Python 3.9.7 64-bit ('windows-ml-station': conda)",
   "name": "python3"
  },
  "language_info": {
   "codemirror_mode": {
    "name": "ipython",
    "version": 3
   },
   "file_extension": ".py",
   "mimetype": "text/x-python",
   "name": "python",
   "nbconvert_exporter": "python",
   "pygments_lexer": "ipython3",
   "version": "3.9.7"
  },
  "orig_nbformat": 4
 },
 "nbformat": 4,
 "nbformat_minor": 2
}
