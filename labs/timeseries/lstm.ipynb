{
 "cells": [
  {
   "cell_type": "markdown",
   "metadata": {},
   "source": [
    "# Multivariate Time Series Forecasting with LSTM"
   ]
  },
  {
   "cell_type": "markdown",
   "metadata": {},
   "source": [
    "### Import Data"
   ]
  },
  {
   "cell_type": "code",
   "execution_count": 13,
   "metadata": {},
   "outputs": [],
   "source": [
    "import pickle\n",
    "\n",
    "model_file_path = './data/featurized_market_data.p'\n",
    "\n",
    "with open(model_file_path, 'rb') as fp:\n",
    "    featurized_market_data = pickle.load(fp)"
   ]
  },
  {
   "cell_type": "markdown",
   "metadata": {},
   "source": [
    "### Import Dependencies"
   ]
  },
  {
   "cell_type": "code",
   "execution_count": 14,
   "metadata": {},
   "outputs": [],
   "source": [
    "import numpy as np\n",
    "from keras.models import Sequential\n",
    "from keras.layers import LSTM, Dense, Dropout\n",
    "from sklearn.preprocessing import StandardScaler\n",
    "\n",
    "import pandas as pd\n",
    "from matplotlib import pyplot as plt"
   ]
  },
  {
   "cell_type": "markdown",
   "metadata": {},
   "source": [
    "### Prepare Data"
   ]
  },
  {
   "cell_type": "code",
   "execution_count": 15,
   "metadata": {},
   "outputs": [],
   "source": [
    "# Separate time from the rest of the data.\n",
    "pair_name = 'DOGE_BTC'\n",
    "features = featurized_market_data[pair_name].dropna().set_index('time')"
   ]
  },
  {
   "cell_type": "code",
   "execution_count": 16,
   "metadata": {},
   "outputs": [],
   "source": [
    "# Scale the data.\n",
    "## LSTM uses sigmoid and tanh that are sensitive to magnitude so values need to be normalized.\n",
    "scaler = StandardScaler()\n",
    "scaler = scaler.fit(features)\n",
    "features_scaled = scaler.transform(features)"
   ]
  },
  {
   "cell_type": "code",
   "execution_count": 17,
   "metadata": {},
   "outputs": [],
   "source": [
    "# Prepare training and prediction sliding windowed buckets.\n",
    "features_current_past = []\n",
    "features_future = []\n",
    "\n",
    "# Count of steps to forecast into the future.\n",
    "n_future_step_count = 1\n",
    "# Count of steps to consider historically including the current step.\n",
    "n_past_step_count_inc_current = 24\n",
    "column_index_to_predict = 3\n",
    "\n",
    "for i in range(n_past_step_count_inc_current, len(features_scaled) - n_future_step_count + 1):\n",
    "    features_current_past.append(features_scaled[i - n_past_step_count_inc_current : i])\n",
    "    features_future.append(features_scaled[i + n_future_step_count - 1 : i + n_future_step_count, column_index_to_predict])\n",
    "    \n",
    "features_current_past, features_future = np.array(features_current_past), np.array(features_future)"
   ]
  },
  {
   "cell_type": "code",
   "execution_count": 18,
   "metadata": {},
   "outputs": [
    {
     "name": "stdout",
     "output_type": "stream",
     "text": [
      "Past Window Shape: (20001, 24, 35)\n",
      "Future Window Shape: (20001, 1)\n"
     ]
    }
   ],
   "source": [
    "print(f'Past Window Shape: {features_current_past.shape}')\n",
    "print(f'Future Window Shape: {features_future.shape}')"
   ]
  },
  {
   "cell_type": "code",
   "execution_count": 19,
   "metadata": {},
   "outputs": [],
   "source": [
    "index_to_inspect = 0\n",
    "# -1 takes the last record in each windows (the current one of that window). Anything apart from -1 would be historical records for context / experience replay.\n",
    "most_recent_features = features_current_past[index_to_inspect + 1][-1]\n",
    "\n",
    "assert features_future[index_to_inspect] == most_recent_features[column_index_to_predict], 'The first future price should be the same as the following current price for the prediction column.'"
   ]
  },
  {
   "cell_type": "markdown",
   "metadata": {},
   "source": [
    "### Setup Network"
   ]
  },
  {
   "cell_type": "code",
   "execution_count": 20,
   "metadata": {},
   "outputs": [
    {
     "name": "stdout",
     "output_type": "stream",
     "text": [
      "Model: \"sequential\"\n",
      "_________________________________________________________________\n",
      "Layer (type)                 Output Shape              Param #   \n",
      "=================================================================\n",
      "lstm (LSTM)                  (None, 24, 128)           83968     \n",
      "_________________________________________________________________\n",
      "lstm_1 (LSTM)                (None, 24, 64)            49408     \n",
      "_________________________________________________________________\n",
      "lstm_2 (LSTM)                (None, 32)                12416     \n",
      "_________________________________________________________________\n",
      "dense (Dense)                (None, 1)                 33        \n",
      "=================================================================\n",
      "Total params: 145,825\n",
      "Trainable params: 145,825\n",
      "Non-trainable params: 0\n",
      "_________________________________________________________________\n"
     ]
    }
   ],
   "source": [
    "model = Sequential()\n",
    "model.add(LSTM(128, activation='relu', recurrent_dropout=0.1, input_shape=(features_current_past.shape[1], features_current_past.shape[2]), return_sequences=True))\n",
    "model.add(LSTM(64, activation='relu', recurrent_dropout=0.1, return_sequences=True))\n",
    "model.add(LSTM(32, activation='relu', recurrent_dropout=0.1, return_sequences=False))\n",
    "model.add(Dense(features_future.shape[1]))\n",
    "\n",
    "model.compile(optimizer='adam', loss='mse')\n",
    "model.summary()"
   ]
  },
  {
   "cell_type": "markdown",
   "metadata": {},
   "source": [
    "### Train the Model"
   ]
  },
  {
   "cell_type": "code",
   "execution_count": 21,
   "metadata": {},
   "outputs": [
    {
     "name": "stdout",
     "output_type": "stream",
     "text": [
      "Epoch 1/50\n",
      "750/750 [==============================] - 38s 44ms/step - loss: 0.0184 - val_loss: 0.0040\n",
      "Epoch 2/50\n",
      "750/750 [==============================] - 39s 52ms/step - loss: 0.0039 - val_loss: 0.0055\n",
      "Epoch 3/50\n",
      "750/750 [==============================] - 42s 56ms/step - loss: 0.0032 - val_loss: 0.0049\n",
      "Epoch 4/50\n",
      "750/750 [==============================] - 38s 51ms/step - loss: 0.0030 - val_loss: 0.0063\n",
      "Epoch 5/50\n",
      "750/750 [==============================] - 33s 43ms/step - loss: 0.0023 - val_loss: 0.0072\n",
      "Epoch 6/50\n",
      "750/750 [==============================] - 40s 54ms/step - loss: 0.0024 - val_loss: 0.0066\n",
      "Epoch 7/50\n",
      "750/750 [==============================] - 39s 52ms/step - loss: 0.0020 - val_loss: 0.0121\n",
      "Epoch 8/50\n",
      "750/750 [==============================] - 34s 45ms/step - loss: 0.0022 - val_loss: 0.0137\n",
      "Epoch 9/50\n",
      "750/750 [==============================] - 31s 41ms/step - loss: 0.0019 - val_loss: 0.0104\n",
      "Epoch 10/50\n",
      "750/750 [==============================] - 31s 41ms/step - loss: 0.0020 - val_loss: 0.0054\n",
      "Epoch 11/50\n",
      "750/750 [==============================] - 35s 47ms/step - loss: 0.0015 - val_loss: 0.0073\n",
      "Epoch 12/50\n",
      "750/750 [==============================] - 33s 44ms/step - loss: 0.0019 - val_loss: 0.0061\n",
      "Epoch 13/50\n",
      "750/750 [==============================] - 29s 39ms/step - loss: 0.0014 - val_loss: 0.0070\n",
      "Epoch 14/50\n",
      "750/750 [==============================] - 28s 38ms/step - loss: 0.0015 - val_loss: 0.0155\n",
      "Epoch 15/50\n",
      "750/750 [==============================] - 28s 37ms/step - loss: 0.0014 - val_loss: 0.0055\n",
      "Epoch 16/50\n",
      "750/750 [==============================] - 29s 39ms/step - loss: 0.0012 - val_loss: 0.0081\n",
      "Epoch 17/50\n",
      "750/750 [==============================] - 33s 44ms/step - loss: 0.0014 - val_loss: 0.0064\n",
      "Epoch 18/50\n",
      "750/750 [==============================] - 33s 43ms/step - loss: 0.0013 - val_loss: 0.0122\n",
      "Epoch 19/50\n",
      "750/750 [==============================] - 29s 38ms/step - loss: 0.0013 - val_loss: 0.0066\n",
      "Epoch 20/50\n",
      "750/750 [==============================] - 27s 37ms/step - loss: 0.0012 - val_loss: 0.0060\n",
      "Epoch 21/50\n",
      "750/750 [==============================] - 26s 35ms/step - loss: 0.0012 - val_loss: 0.0105\n",
      "Epoch 22/50\n",
      "750/750 [==============================] - 26s 35ms/step - loss: 0.0012 - val_loss: 0.0063\n",
      "Epoch 23/50\n",
      "750/750 [==============================] - 31s 41ms/step - loss: 0.0011 - val_loss: 0.0250\n",
      "Epoch 24/50\n",
      "750/750 [==============================] - 33s 44ms/step - loss: 0.0011 - val_loss: 0.0061\n",
      "Epoch 25/50\n",
      "750/750 [==============================] - 32s 43ms/step - loss: 0.0012 - val_loss: 0.0106\n",
      "Epoch 26/50\n",
      "750/750 [==============================] - 29s 39ms/step - loss: 0.0011 - val_loss: 0.0080\n",
      "Epoch 27/50\n",
      "750/750 [==============================] - 28s 37ms/step - loss: 0.0011 - val_loss: 0.0051\n",
      "Epoch 28/50\n",
      "750/750 [==============================] - 29s 38ms/step - loss: 0.0010 - val_loss: 0.0149\n",
      "Epoch 29/50\n",
      "750/750 [==============================] - 4862s 6s/step - loss: 0.0010 - val_loss: 0.0085\n",
      "Epoch 30/50\n",
      "750/750 [==============================] - 33s 44ms/step - loss: 0.0010 - val_loss: 0.0215\n",
      "Epoch 31/50\n",
      "750/750 [==============================] - 4281s 6s/step - loss: 9.5723e-04 - val_loss: 0.0079\n",
      "Epoch 32/50\n",
      "750/750 [==============================] - 28s 37ms/step - loss: 9.3119e-04 - val_loss: 0.0124\n",
      "Epoch 33/50\n",
      "750/750 [==============================] - 27s 36ms/step - loss: 9.1109e-04 - val_loss: 0.0106\n",
      "Epoch 34/50\n",
      "750/750 [==============================] - 5639s 8s/step - loss: 0.0010 - val_loss: 0.0091\n",
      "Epoch 35/50\n",
      "750/750 [==============================] - 48s 63ms/step - loss: 8.5118e-04 - val_loss: 0.0106\n",
      "Epoch 36/50\n",
      "750/750 [==============================] - 99s 131ms/step - loss: 8.7885e-04 - val_loss: 0.0129\n",
      "Epoch 37/50\n",
      "750/750 [==============================] - 81s 109ms/step - loss: 9.0484e-04 - val_loss: 0.0084\n",
      "Epoch 38/50\n",
      "750/750 [==============================] - 59s 79ms/step - loss: 9.8685e-04 - val_loss: 0.0058\n",
      "Epoch 39/50\n",
      "750/750 [==============================] - 73s 98ms/step - loss: 8.8517e-04 - val_loss: 0.0049\n",
      "Epoch 40/50\n",
      "750/750 [==============================] - 67s 90ms/step - loss: 8.2420e-04 - val_loss: 0.0078\n",
      "Epoch 41/50\n",
      "750/750 [==============================] - 102s 136ms/step - loss: 9.3999e-04 - val_loss: 0.0040\n",
      "Epoch 42/50\n",
      "750/750 [==============================] - 101s 135ms/step - loss: 8.7481e-04 - val_loss: 0.0073\n",
      "Epoch 43/50\n",
      "750/750 [==============================] - 76s 101ms/step - loss: 8.4473e-04 - val_loss: 0.0105\n",
      "Epoch 44/50\n",
      "750/750 [==============================] - 72s 96ms/step - loss: 8.1494e-04 - val_loss: 0.0077\n",
      "Epoch 45/50\n",
      "750/750 [==============================] - 66s 89ms/step - loss: 8.1649e-04 - val_loss: 0.0042\n",
      "Epoch 46/50\n",
      "750/750 [==============================] - 70s 94ms/step - loss: 8.3545e-04 - val_loss: 0.0051\n",
      "Epoch 47/50\n",
      "750/750 [==============================] - 80s 107ms/step - loss: 8.4654e-04 - val_loss: 0.0109\n",
      "Epoch 48/50\n",
      "750/750 [==============================] - 103s 138ms/step - loss: 7.7736e-04 - val_loss: 0.0083\n",
      "Epoch 49/50\n",
      "750/750 [==============================] - 80s 106ms/step - loss: 8.3292e-04 - val_loss: 0.0076\n",
      "Epoch 50/50\n",
      "750/750 [==============================] - 72s 96ms/step - loss: 8.3316e-04 - val_loss: 0.0062\n"
     ]
    }
   ],
   "source": [
    "history = model.fit(features_current_past, features_future, epochs=50, batch_size=n_past_step_count_inc_current, validation_split=0.1, verbose=1)"
   ]
  },
  {
   "cell_type": "markdown",
   "metadata": {},
   "source": [
    "### Visualize Results"
   ]
  },
  {
   "cell_type": "code",
   "execution_count": 22,
   "metadata": {},
   "outputs": [
    {
     "data": {
      "text/plain": [
       "<matplotlib.legend.Legend at 0x26208d42460>"
      ]
     },
     "execution_count": 22,
     "metadata": {},
     "output_type": "execute_result"
    },
    {
     "data": {
      "image/png": "[encoded data removed]",
      "text/plain": [
       "<Figure size 432x288 with 1 Axes>"
      ]
     },
     "metadata": {
      "needs_background": "light"
     },
     "output_type": "display_data"
    }
   ],
   "source": [
    "plt.plot(history.history['loss'], label='Training Loss')\n",
    "plt.plot(history.history['val_loss'], label='Value Loss')\n",
    "plt.legend()"
   ]
  },
  {
   "cell_type": "markdown",
   "metadata": {},
   "source": [
    "### Make a Prediction"
   ]
  },
  {
   "cell_type": "code",
   "execution_count": 23,
   "metadata": {},
   "outputs": [
    {
     "data": {
      "text/plain": [
       "(25, 24, 35)"
      ]
     },
     "execution_count": 23,
     "metadata": {},
     "output_type": "execute_result"
    }
   ],
   "source": [
    "features_current_past[24-n_past_step_count_inc_current:24+1].shape"
   ]
  },
  {
   "cell_type": "code",
   "execution_count": 24,
   "metadata": {},
   "outputs": [],
   "source": [
    "forecast_record_count = 24\n",
    "forecast_frequency = '1h'\n",
    "forecast = model.predict(features_current_past[-n_past_step_count_inc_current:])\n",
    "forecast_period_dates = pd.date_range(list(features.index)[-1], periods=forecast_record_count, freq=forecast_frequency).tolist()"
   ]
  },
  {
   "cell_type": "code",
   "execution_count": 32,
   "metadata": {},
   "outputs": [],
   "source": [
    "historical_steps_to_visualize = 48\n",
    "historical_data = features.tail(historical_steps_to_visualize)"
   ]
  },
  {
   "cell_type": "code",
   "execution_count": 33,
   "metadata": {},
   "outputs": [
    {
     "ename": "ValueError",
     "evalue": "All arrays must be of the same length",
     "output_type": "error",
     "traceback": [
      "\u001b[1;31m---------------------------------------------------------------------------\u001b[0m",
      "\u001b[1;31mValueError\u001b[0m                                Traceback (most recent call last)",
      "\u001b[1;32m~\\AppData\\Local\\Temp/ipykernel_23100/2922462411.py\u001b[0m in \u001b[0;36m<module>\u001b[1;34m\u001b[0m\n\u001b[0;32m      2\u001b[0m \u001b[0mshaped_forecast\u001b[0m \u001b[1;33m=\u001b[0m \u001b[0mnp\u001b[0m\u001b[1;33m.\u001b[0m\u001b[0mrepeat\u001b[0m\u001b[1;33m(\u001b[0m\u001b[0mforecast\u001b[0m\u001b[1;33m,\u001b[0m \u001b[0mfeatures\u001b[0m\u001b[1;33m.\u001b[0m\u001b[0mshape\u001b[0m\u001b[1;33m[\u001b[0m\u001b[1;36m1\u001b[0m\u001b[1;33m]\u001b[0m\u001b[1;33m,\u001b[0m \u001b[0maxis\u001b[0m\u001b[1;33m=\u001b[0m\u001b[1;33m-\u001b[0m\u001b[1;36m1\u001b[0m\u001b[1;33m)\u001b[0m\u001b[1;33m\u001b[0m\u001b[1;33m\u001b[0m\u001b[0m\n\u001b[0;32m      3\u001b[0m \u001b[0mscaled_forecasts\u001b[0m \u001b[1;33m=\u001b[0m \u001b[0mscaler\u001b[0m\u001b[1;33m.\u001b[0m\u001b[0minverse_transform\u001b[0m\u001b[1;33m(\u001b[0m\u001b[0mshaped_forecast\u001b[0m\u001b[1;33m)\u001b[0m\u001b[1;33m[\u001b[0m\u001b[1;33m:\u001b[0m\u001b[1;33m,\u001b[0m \u001b[0mcolumn_index_to_predict\u001b[0m\u001b[1;33m]\u001b[0m\u001b[1;33m\u001b[0m\u001b[1;33m\u001b[0m\u001b[0m\n\u001b[1;32m----> 4\u001b[1;33m \u001b[0mforecast_df\u001b[0m \u001b[1;33m=\u001b[0m \u001b[0mpd\u001b[0m\u001b[1;33m.\u001b[0m\u001b[0mDataFrame\u001b[0m\u001b[1;33m(\u001b[0m\u001b[1;33m{\u001b[0m \u001b[1;34m'time'\u001b[0m\u001b[1;33m:\u001b[0m \u001b[0mnp\u001b[0m\u001b[1;33m.\u001b[0m\u001b[0marray\u001b[0m\u001b[1;33m(\u001b[0m\u001b[0mforecast_period_dates\u001b[0m\u001b[1;33m)\u001b[0m\u001b[1;33m,\u001b[0m \u001b[1;34m'close'\u001b[0m\u001b[1;33m:\u001b[0m \u001b[0mnp\u001b[0m\u001b[1;33m.\u001b[0m\u001b[0marray\u001b[0m\u001b[1;33m(\u001b[0m\u001b[0mscaled_forecasts\u001b[0m\u001b[1;33m)\u001b[0m \u001b[1;33m}\u001b[0m\u001b[1;33m)\u001b[0m\u001b[1;33m.\u001b[0m\u001b[0mset_index\u001b[0m\u001b[1;33m(\u001b[0m\u001b[1;34m'time'\u001b[0m\u001b[1;33m)\u001b[0m\u001b[1;33m\u001b[0m\u001b[1;33m\u001b[0m\u001b[0m\n\u001b[0m",
      "\u001b[1;32m~\\.conda\\envs\\windows-ml-station\\lib\\site-packages\\pandas\\core\\frame.py\u001b[0m in \u001b[0;36m__init__\u001b[1;34m(self, data, index, columns, dtype, copy)\u001b[0m\n\u001b[0;32m    612\u001b[0m         \u001b[1;32melif\u001b[0m \u001b[0misinstance\u001b[0m\u001b[1;33m(\u001b[0m\u001b[0mdata\u001b[0m\u001b[1;33m,\u001b[0m \u001b[0mdict\u001b[0m\u001b[1;33m)\u001b[0m\u001b[1;33m:\u001b[0m\u001b[1;33m\u001b[0m\u001b[1;33m\u001b[0m\u001b[0m\n\u001b[0;32m    613\u001b[0m             \u001b[1;31m# GH#38939 de facto copy defaults to False only in non-dict cases\u001b[0m\u001b[1;33m\u001b[0m\u001b[1;33m\u001b[0m\u001b[0m\n\u001b[1;32m--> 614\u001b[1;33m             \u001b[0mmgr\u001b[0m \u001b[1;33m=\u001b[0m \u001b[0mdict_to_mgr\u001b[0m\u001b[1;33m(\u001b[0m\u001b[0mdata\u001b[0m\u001b[1;33m,\u001b[0m \u001b[0mindex\u001b[0m\u001b[1;33m,\u001b[0m \u001b[0mcolumns\u001b[0m\u001b[1;33m,\u001b[0m \u001b[0mdtype\u001b[0m\u001b[1;33m=\u001b[0m\u001b[0mdtype\u001b[0m\u001b[1;33m,\u001b[0m \u001b[0mcopy\u001b[0m\u001b[1;33m=\u001b[0m\u001b[0mcopy\u001b[0m\u001b[1;33m,\u001b[0m \u001b[0mtyp\u001b[0m\u001b[1;33m=\u001b[0m\u001b[0mmanager\u001b[0m\u001b[1;33m)\u001b[0m\u001b[1;33m\u001b[0m\u001b[1;33m\u001b[0m\u001b[0m\n\u001b[0m\u001b[0;32m    615\u001b[0m         \u001b[1;32melif\u001b[0m \u001b[0misinstance\u001b[0m\u001b[1;33m(\u001b[0m\u001b[0mdata\u001b[0m\u001b[1;33m,\u001b[0m \u001b[0mma\u001b[0m\u001b[1;33m.\u001b[0m\u001b[0mMaskedArray\u001b[0m\u001b[1;33m)\u001b[0m\u001b[1;33m:\u001b[0m\u001b[1;33m\u001b[0m\u001b[1;33m\u001b[0m\u001b[0m\n\u001b[0;32m    616\u001b[0m             \u001b[1;32mimport\u001b[0m \u001b[0mnumpy\u001b[0m\u001b[1;33m.\u001b[0m\u001b[0mma\u001b[0m\u001b[1;33m.\u001b[0m\u001b[0mmrecords\u001b[0m \u001b[1;32mas\u001b[0m \u001b[0mmrecords\u001b[0m\u001b[1;33m\u001b[0m\u001b[1;33m\u001b[0m\u001b[0m\n",
      "\u001b[1;32m~\\.conda\\envs\\windows-ml-station\\lib\\site-packages\\pandas\\core\\internals\\construction.py\u001b[0m in \u001b[0;36mdict_to_mgr\u001b[1;34m(data, index, columns, dtype, typ, copy)\u001b[0m\n\u001b[0;32m    462\u001b[0m         \u001b[1;31m# TODO: can we get rid of the dt64tz special case above?\u001b[0m\u001b[1;33m\u001b[0m\u001b[1;33m\u001b[0m\u001b[0m\n\u001b[0;32m    463\u001b[0m \u001b[1;33m\u001b[0m\u001b[0m\n\u001b[1;32m--> 464\u001b[1;33m     return arrays_to_mgr(\n\u001b[0m\u001b[0;32m    465\u001b[0m         \u001b[0marrays\u001b[0m\u001b[1;33m,\u001b[0m \u001b[0mdata_names\u001b[0m\u001b[1;33m,\u001b[0m \u001b[0mindex\u001b[0m\u001b[1;33m,\u001b[0m \u001b[0mcolumns\u001b[0m\u001b[1;33m,\u001b[0m \u001b[0mdtype\u001b[0m\u001b[1;33m=\u001b[0m\u001b[0mdtype\u001b[0m\u001b[1;33m,\u001b[0m \u001b[0mtyp\u001b[0m\u001b[1;33m=\u001b[0m\u001b[0mtyp\u001b[0m\u001b[1;33m,\u001b[0m \u001b[0mconsolidate\u001b[0m\u001b[1;33m=\u001b[0m\u001b[0mcopy\u001b[0m\u001b[1;33m\u001b[0m\u001b[1;33m\u001b[0m\u001b[0m\n\u001b[0;32m    466\u001b[0m     )\n",
      "\u001b[1;32m~\\.conda\\envs\\windows-ml-station\\lib\\site-packages\\pandas\\core\\internals\\construction.py\u001b[0m in \u001b[0;36marrays_to_mgr\u001b[1;34m(arrays, arr_names, index, columns, dtype, verify_integrity, typ, consolidate)\u001b[0m\n\u001b[0;32m    117\u001b[0m         \u001b[1;31m# figure out the index, if necessary\u001b[0m\u001b[1;33m\u001b[0m\u001b[1;33m\u001b[0m\u001b[0m\n\u001b[0;32m    118\u001b[0m         \u001b[1;32mif\u001b[0m \u001b[0mindex\u001b[0m \u001b[1;32mis\u001b[0m \u001b[1;32mNone\u001b[0m\u001b[1;33m:\u001b[0m\u001b[1;33m\u001b[0m\u001b[1;33m\u001b[0m\u001b[0m\n\u001b[1;32m--> 119\u001b[1;33m             \u001b[0mindex\u001b[0m \u001b[1;33m=\u001b[0m \u001b[0m_extract_index\u001b[0m\u001b[1;33m(\u001b[0m\u001b[0marrays\u001b[0m\u001b[1;33m)\u001b[0m\u001b[1;33m\u001b[0m\u001b[1;33m\u001b[0m\u001b[0m\n\u001b[0m\u001b[0;32m    120\u001b[0m         \u001b[1;32melse\u001b[0m\u001b[1;33m:\u001b[0m\u001b[1;33m\u001b[0m\u001b[1;33m\u001b[0m\u001b[0m\n\u001b[0;32m    121\u001b[0m             \u001b[0mindex\u001b[0m \u001b[1;33m=\u001b[0m \u001b[0mensure_index\u001b[0m\u001b[1;33m(\u001b[0m\u001b[0mindex\u001b[0m\u001b[1;33m)\u001b[0m\u001b[1;33m\u001b[0m\u001b[1;33m\u001b[0m\u001b[0m\n",
      "\u001b[1;32m~\\.conda\\envs\\windows-ml-station\\lib\\site-packages\\pandas\\core\\internals\\construction.py\u001b[0m in \u001b[0;36m_extract_index\u001b[1;34m(data)\u001b[0m\n\u001b[0;32m    633\u001b[0m             \u001b[0mlengths\u001b[0m \u001b[1;33m=\u001b[0m \u001b[0mlist\u001b[0m\u001b[1;33m(\u001b[0m\u001b[0mset\u001b[0m\u001b[1;33m(\u001b[0m\u001b[0mraw_lengths\u001b[0m\u001b[1;33m)\u001b[0m\u001b[1;33m)\u001b[0m\u001b[1;33m\u001b[0m\u001b[1;33m\u001b[0m\u001b[0m\n\u001b[0;32m    634\u001b[0m             \u001b[1;32mif\u001b[0m \u001b[0mlen\u001b[0m\u001b[1;33m(\u001b[0m\u001b[0mlengths\u001b[0m\u001b[1;33m)\u001b[0m \u001b[1;33m>\u001b[0m \u001b[1;36m1\u001b[0m\u001b[1;33m:\u001b[0m\u001b[1;33m\u001b[0m\u001b[1;33m\u001b[0m\u001b[0m\n\u001b[1;32m--> 635\u001b[1;33m                 \u001b[1;32mraise\u001b[0m \u001b[0mValueError\u001b[0m\u001b[1;33m(\u001b[0m\u001b[1;34m\"All arrays must be of the same length\"\u001b[0m\u001b[1;33m)\u001b[0m\u001b[1;33m\u001b[0m\u001b[1;33m\u001b[0m\u001b[0m\n\u001b[0m\u001b[0;32m    636\u001b[0m \u001b[1;33m\u001b[0m\u001b[0m\n\u001b[0;32m    637\u001b[0m             \u001b[1;32mif\u001b[0m \u001b[0mhave_dicts\u001b[0m\u001b[1;33m:\u001b[0m\u001b[1;33m\u001b[0m\u001b[1;33m\u001b[0m\u001b[0m\n",
      "\u001b[1;31mValueError\u001b[0m: All arrays must be of the same length"
     ]
    }
   ],
   "source": [
    "# Perform inverse scaling.\n",
    "shaped_forecast = np.repeat(forecast, features.shape[1], axis=-1)\n",
    "scaled_forecasts = scaler.inverse_transform(shaped_forecast)[:, column_index_to_predict]\n",
    "forecast_df = pd.DataFrame({ 'time': np.array(forecast_period_dates), 'close': np.array(scaled_forecasts) }).set_index('time')"
   ]
  },
  {
   "cell_type": "code",
   "execution_count": 34,
   "metadata": {},
   "outputs": [],
   "source": [
    "predictions = []\n",
    "\n",
    "for window in features_current_past[-historical_steps_to_visualize:]:\n",
    "    prediction_windows = []\n",
    "    prediction_windows.append(window)\n",
    "    prediction_windows = np.array(prediction_windows)\n",
    "    forecast = model.predict(prediction_windows)\n",
    "    shaped_forecast = np.repeat(forecast, features.shape[1], axis=-1)\n",
    "    scaled_forecast = scaler.inverse_transform(shaped_forecast)[:, column_index_to_predict]\n",
    "    predictions.append(scaled_forecast[0])"
   ]
  },
  {
   "cell_type": "code",
   "execution_count": 35,
   "metadata": {},
   "outputs": [],
   "source": [
    "historical_data_with_predictions = historical_data.copy()\n",
    "historical_data_with_predictions['predicted'] = predictions"
   ]
  },
  {
   "cell_type": "code",
   "execution_count": 36,
   "metadata": {},
   "outputs": [
    {
     "data": {
      "text/plain": [
       "<matplotlib.legend.Legend at 0x2622036a5b0>"
      ]
     },
     "execution_count": 36,
     "metadata": {},
     "output_type": "execute_result"
    },
    {
     "data": {
      "image/png": "[encoded data removed]",
      "text/plain": [
       "<Figure size 432x288 with 1 Axes>"
      ]
     },
     "metadata": {
      "needs_background": "light"
     },
     "output_type": "display_data"
    }
   ],
   "source": [
    "plt.title(pair_name)\n",
    "plt.plot(historical_data_with_predictions['close'], label='Historical', color='dodgerblue')\n",
    "plt.plot(historical_data_with_predictions['predicted'], color='magenta')\n",
    "plt.plot(forecast_df['close'], label='Forecasted', color='magenta')\n",
    "plt.xlabel('Time - 1h Candles')\n",
    "plt.ylabel('Close Price')\n",
    "plt.xticks(rotation=45)\n",
    "plt.legend()"
   ]
  },
  {
   "cell_type": "markdown",
   "metadata": {},
   "source": [
    "### References\n",
    "- [Documentation](https://timeseriestransformer.readthedocs.io/en/latest/README.html)\n",
    "\n",
    "### Reading Material\n",
    "- https://www.hindawi.com/journals/complexity/2020/6622927/\n",
    "- https://timeseriestransformer.readthedocs.io/en/latest/README.html\n",
    "- http://smo.sogang.ac.kr/doc/bellman.pdf\n",
    "- http://www.it.uu.se/edu/course/homepage/aism/st11/MDPApplications3.pdf\n",
    "- https://proceedings.neurips.cc/paper/2017/file/3f5ee243547dee91fbd053c1c4a845aa-Paper.pdf"
   ]
  }
 ],
 "metadata": {
  "interpreter": {
   "hash": "2c96ffff15f49694e20d6af92a59f54c1cf6ff4da4eb0cf9141168fba41748bf"
  },
  "kernelspec": {
   "display_name": "Python 3.9 (Tensorflow)",
   "language": "python",
   "name": "tensorflow-gpu"
  },
  "language_info": {
   "codemirror_mode": {
    "name": "ipython",
    "version": 3
   },
   "file_extension": ".py",
   "mimetype": "text/x-python",
   "name": "python",
   "nbconvert_exporter": "python",
   "pygments_lexer": "ipython3",
   "version": "3.9.7"
  },
  "orig_nbformat": 4
 },
 "nbformat": 4,
 "nbformat_minor": 2
}
