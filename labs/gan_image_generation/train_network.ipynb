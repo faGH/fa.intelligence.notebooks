{
 "cells": [
  {
   "cell_type": "markdown",
   "source": [
    "# Train the GAN Model"
   ],
   "metadata": {}
  },
  {
   "cell_type": "code",
   "execution_count": 2,
   "source": [
    "!pip install -U pip setuptools wheel click requests tqdm pyspng ninja imageio-ffmpeg==0.4.3"
   ],
   "outputs": [
    {
     "output_type": "stream",
     "name": "stdout",
     "text": [
      "Requirement already satisfied: pip in /Users/deanmartin/miniforge3/envs/tensorflow-apple-metal/lib/python3.9/site-packages (21.2.4)\n",
      "Requirement already satisfied: setuptools in /Users/deanmartin/miniforge3/envs/tensorflow-apple-metal/lib/python3.9/site-packages (58.0.4)\n",
      "Collecting setuptools\n",
      "  Using cached setuptools-58.2.0-py3-none-any.whl (946 kB)\n",
      "Requirement already satisfied: wheel in /Users/deanmartin/miniforge3/envs/tensorflow-apple-metal/lib/python3.9/site-packages (0.35.1)\n",
      "Collecting wheel\n",
      "  Using cached wheel-0.37.0-py2.py3-none-any.whl (35 kB)\n",
      "Requirement already satisfied: click in /Users/deanmartin/miniforge3/envs/tensorflow-apple-metal/lib/python3.9/site-packages (8.0.1)\n",
      "Requirement already satisfied: requests in /Users/deanmartin/miniforge3/envs/tensorflow-apple-metal/lib/python3.9/site-packages (2.26.0)\n",
      "Requirement already satisfied: tqdm in /Users/deanmartin/miniforge3/envs/tensorflow-apple-metal/lib/python3.9/site-packages (4.62.3)\n",
      "Collecting pyspng\n",
      "  Using cached pyspng-0.1.0.tar.gz (106 kB)\n",
      "  Installing build dependencies ... \u001b[?25ldone\n",
      "\u001b[?25h  Getting requirements to build wheel ... \u001b[?25ldone\n",
      "\u001b[?25h    Preparing wheel metadata ... \u001b[?25ldone\n",
      "\u001b[?25hCollecting ninja\n",
      "  Using cached ninja-1.10.2.2-py2.py3-none-macosx_10_9_universal2.macosx_10_9_x86_64.macosx_11_0_arm64.macosx_11_0_universal2.whl (225 kB)\n",
      "Collecting imageio-ffmpeg==0.4.3\n",
      "  Using cached imageio_ffmpeg-0.4.3-py3-none-any.whl\n",
      "Requirement already satisfied: certifi>=2017.4.17 in /Users/deanmartin/miniforge3/envs/tensorflow-apple-metal/lib/python3.9/site-packages (from requests) (2021.5.30)\n",
      "Requirement already satisfied: urllib3<1.27,>=1.21.1 in /Users/deanmartin/miniforge3/envs/tensorflow-apple-metal/lib/python3.9/site-packages (from requests) (1.26.7)\n",
      "Requirement already satisfied: idna<4,>=2.5 in /Users/deanmartin/miniforge3/envs/tensorflow-apple-metal/lib/python3.9/site-packages (from requests) (3.1)\n",
      "Requirement already satisfied: charset-normalizer~=2.0.0 in /Users/deanmartin/miniforge3/envs/tensorflow-apple-metal/lib/python3.9/site-packages (from requests) (2.0.0)\n",
      "Requirement already satisfied: numpy in /Users/deanmartin/miniforge3/envs/tensorflow-apple-metal/lib/python3.9/site-packages (from pyspng) (1.19.5)\n",
      "Building wheels for collected packages: pyspng\n",
      "  Building wheel for pyspng (PEP 517) ... \u001b[?25lerror\n",
      "\u001b[31m  ERROR: Command errored out with exit status 1:\n",
      "   command: /Users/deanmartin/miniforge3/envs/tensorflow-apple-metal/bin/python3.9 /Users/deanmartin/miniforge3/envs/tensorflow-apple-metal/lib/python3.9/site-packages/pip/_vendor/pep517/in_process/_in_process.py build_wheel /var/folders/kg/yc3v1y_96vj9m5s_743c5vn00000gn/T/tmpj1e1w1yd\n",
      "       cwd: /private/var/folders/kg/yc3v1y_96vj9m5s_743c5vn00000gn/T/pip-install-rc41t4ud/pyspng_39c6cb3f058e4386bfd15ac5ef15871d\n",
      "  Complete output (23 lines):\n",
      "  running bdist_wheel\n",
      "  running build\n",
      "  running build_py\n",
      "  creating build\n",
      "  creating build/lib.macosx-11.0-arm64-3.9\n",
      "  creating build/lib.macosx-11.0-arm64-3.9/pyspng\n",
      "  copying pyspng/lib.py -> build/lib.macosx-11.0-arm64-3.9/pyspng\n",
      "  copying pyspng/__init__.py -> build/lib.macosx-11.0-arm64-3.9/pyspng\n",
      "  running build_ext\n",
      "  clang -Wno-unused-result -Wsign-compare -Wunreachable-code -DNDEBUG -fwrapv -O2 -Wall -fPIC -O2 -isystem /Users/deanmartin/miniforge3/envs/tensorflow-apple-metal/include -arch arm64 -fPIC -O2 -isystem /Users/deanmartin/miniforge3/envs/tensorflow-apple-metal/include -arch arm64 -I/Users/deanmartin/miniforge3/envs/tensorflow-apple-metal/include/python3.9 -c flagcheck.cpp -o flagcheck.o -std=c++17\n",
      "  building '_pyspng_c' extension\n",
      "  creating build/temp.macosx-11.0-arm64-3.9\n",
      "  creating build/temp.macosx-11.0-arm64-3.9/pyspng\n",
      "  creating build/temp.macosx-11.0-arm64-3.9/vendor\n",
      "  creating build/temp.macosx-11.0-arm64-3.9/vendor/libspng-0.6.1\n",
      "  creating build/temp.macosx-11.0-arm64-3.9/vendor/libspng-0.6.1/spng\n",
      "  creating build/temp.macosx-11.0-arm64-3.9/vendor/zlib-1.2.11\n",
      "  clang -Wno-unused-result -Wsign-compare -Wunreachable-code -DNDEBUG -fwrapv -O2 -Wall -fPIC -O2 -isystem /Users/deanmartin/miniforge3/envs/tensorflow-apple-metal/include -arch arm64 -fPIC -O2 -isystem /Users/deanmartin/miniforge3/envs/tensorflow-apple-metal/include -arch arm64 -DVERSION_INFO=0.1.0 -Ivendor/libspng-0.6.1 -Ivendor/zlib-1.2.11/ -I/private/var/folders/kg/yc3v1y_96vj9m5s_743c5vn00000gn/T/pip-build-env-gfgj2nup/overlay/lib/python3.9/site-packages/pybind11/include -I/Users/deanmartin/miniforge3/envs/tensorflow-apple-metal/include/python3.9 -c pyspng/main.cpp -o build/temp.macosx-11.0-arm64-3.9/pyspng/main.o -std=c++17 -mmacosx-version-min=10.14 -fvisibility=hidden -g0 -stdlib=libc++\n",
      "  pyspng/main.cpp:4:10: fatal error: 'spng/spng.h' file not found\n",
      "  #include \"spng/spng.h\"\n",
      "           ^~~~~~~~~~~~~\n",
      "  1 error generated.\n",
      "  error: command '/usr/bin/clang' failed with exit code 1\n",
      "  ----------------------------------------\u001b[0m\n",
      "\u001b[?25h\u001b[31m  ERROR: Failed building wheel for pyspng\u001b[0m\n",
      "Failed to build pyspng\n",
      "\u001b[31mERROR: Could not build wheels for pyspng which use PEP 517 and cannot be installed directly\u001b[0m\n"
     ]
    }
   ],
   "metadata": {}
  },
  {
   "cell_type": "code",
   "execution_count": null,
   "source": [],
   "outputs": [],
   "metadata": {}
  }
 ],
 "metadata": {
  "kernelspec": {
   "name": "python3",
   "display_name": "Python 3.9.7 64-bit ('tensorflow-apple-metal': conda)"
  },
  "language_info": {
   "codemirror_mode": {
    "name": "ipython",
    "version": 3
   },
   "file_extension": ".py",
   "mimetype": "text/x-python",
   "name": "python",
   "nbconvert_exporter": "python",
   "pygments_lexer": "ipython3",
   "version": "3.9.7"
  },
  "interpreter": {
   "hash": "31d6e53dd90e1e07de471af499e22de60e02a8b280c0c36d978ec0e08d2bccf2"
  }
 },
 "nbformat": 4,
 "nbformat_minor": 5
}