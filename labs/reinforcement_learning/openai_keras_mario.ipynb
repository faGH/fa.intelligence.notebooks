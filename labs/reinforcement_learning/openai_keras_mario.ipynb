{
 "cells": [
  {
   "cell_type": "markdown",
   "metadata": {},
   "source": [
    "# Reinforcement Learning Practical Example for Playing Mario Bros\n",
    "| Platform | Purpose |\n",
    "| -- | -- |\n",
    "| Tensorflow | Base ML Library |\n",
    "| KerasRL | Reinforcement Learning Library |\n",
    "| OpenAI Gym | Reinforcement Learning Environment |"
   ]
  },
  {
   "cell_type": "markdown",
   "metadata": {},
   "source": [
    "- https://pypi.org/project/gym-super-mario-bros/"
   ]
  },
  {
   "cell_type": "markdown",
   "metadata": {},
   "source": [
    "### Setup Environment"
   ]
  },
  {
   "cell_type": "code",
   "execution_count": 1,
   "metadata": {},
   "outputs": [
    {
     "name": "stdout",
     "output_type": "stream",
     "text": [
      "Requirement already satisfied: pip in c:\\programdata\\miniforge3\\lib\\site-packages (21.3)\n",
      "Requirement already satisfied: gym in c:\\programdata\\miniforge3\\lib\\site-packages (0.21.0)\n",
      "Requirement already satisfied: numpy>=1.18.0 in c:\\programdata\\miniforge3\\lib\\site-packages (from gym) (1.19.5)\n",
      "Requirement already satisfied: cloudpickle>=1.2.0 in c:\\programdata\\miniforge3\\lib\\site-packages (from gym) (2.0.0)\n",
      "Requirement already satisfied: gym-super-mario-bros in c:\\programdata\\miniforge3\\lib\\site-packages (7.3.2)\n",
      "Requirement already satisfied: nes-py>=8.1.2 in c:\\programdata\\miniforge3\\lib\\site-packages (from gym-super-mario-bros) (8.1.8)\n",
      "Requirement already satisfied: pyglet<=1.5.11,>=1.4.0 in c:\\programdata\\miniforge3\\lib\\site-packages (from nes-py>=8.1.2->gym-super-mario-bros) (1.5.11)\n",
      "Requirement already satisfied: gym>=0.17.2 in c:\\programdata\\miniforge3\\lib\\site-packages (from nes-py>=8.1.2->gym-super-mario-bros) (0.21.0)\n",
      "Requirement already satisfied: tqdm>=4.48.2 in c:\\programdata\\miniforge3\\lib\\site-packages (from nes-py>=8.1.2->gym-super-mario-bros) (4.62.3)\n",
      "Requirement already satisfied: numpy>=1.18.5 in c:\\programdata\\miniforge3\\lib\\site-packages (from nes-py>=8.1.2->gym-super-mario-bros) (1.19.5)\n",
      "Requirement already satisfied: cloudpickle>=1.2.0 in c:\\programdata\\miniforge3\\lib\\site-packages (from gym>=0.17.2->nes-py>=8.1.2->gym-super-mario-bros) (2.0.0)\n",
      "Requirement already satisfied: colorama in c:\\programdata\\miniforge3\\lib\\site-packages (from tqdm>=4.48.2->nes-py>=8.1.2->gym-super-mario-bros) (0.4.4)\n",
      "Requirement already satisfied: tensorflow in c:\\programdata\\miniforge3\\lib\\site-packages (2.6.0)\n",
      "Requirement already satisfied: wrapt~=1.12.1 in c:\\programdata\\miniforge3\\lib\\site-packages (from tensorflow) (1.12.1)\n",
      "Requirement already satisfied: protobuf>=3.9.2 in c:\\programdata\\miniforge3\\lib\\site-packages (from tensorflow) (3.18.1)\n",
      "Requirement already satisfied: keras~=2.6 in c:\\programdata\\miniforge3\\lib\\site-packages (from tensorflow) (2.6.0)\n",
      "Requirement already satisfied: opt-einsum~=3.3.0 in c:\\programdata\\miniforge3\\lib\\site-packages (from tensorflow) (3.3.0)\n",
      "Requirement already satisfied: clang~=5.0 in c:\\programdata\\miniforge3\\lib\\site-packages (from tensorflow) (5.0)\n",
      "Requirement already satisfied: tensorboard~=2.6 in c:\\programdata\\miniforge3\\lib\\site-packages (from tensorflow) (2.6.0)\n",
      "Requirement already satisfied: typing-extensions~=3.7.4 in c:\\programdata\\miniforge3\\lib\\site-packages (from tensorflow) (3.7.4.3)\n",
      "Requirement already satisfied: numpy~=1.19.2 in c:\\programdata\\miniforge3\\lib\\site-packages (from tensorflow) (1.19.5)\n",
      "Requirement already satisfied: grpcio<2.0,>=1.37.0 in c:\\programdata\\miniforge3\\lib\\site-packages (from tensorflow) (1.41.0)\n",
      "Requirement already satisfied: keras-preprocessing~=1.1.2 in c:\\programdata\\miniforge3\\lib\\site-packages (from tensorflow) (1.1.2)\n",
      "Requirement already satisfied: six~=1.15.0 in c:\\programdata\\miniforge3\\lib\\site-packages (from tensorflow) (1.15.0)\n",
      "Requirement already satisfied: flatbuffers~=1.12.0 in c:\\programdata\\miniforge3\\lib\\site-packages (from tensorflow) (1.12)\n",
      "Requirement already satisfied: wheel~=0.35 in c:\\programdata\\miniforge3\\lib\\site-packages (from tensorflow) (0.37.0)\n",
      "Requirement already satisfied: gast==0.4.0 in c:\\programdata\\miniforge3\\lib\\site-packages (from tensorflow) (0.4.0)\n",
      "Requirement already satisfied: tensorflow-estimator~=2.6 in c:\\programdata\\miniforge3\\lib\\site-packages (from tensorflow) (2.6.0)\n",
      "Requirement already satisfied: h5py~=3.1.0 in c:\\programdata\\miniforge3\\lib\\site-packages (from tensorflow) (3.1.0)\n",
      "Requirement already satisfied: termcolor~=1.1.0 in c:\\programdata\\miniforge3\\lib\\site-packages (from tensorflow) (1.1.0)\n",
      "Requirement already satisfied: absl-py~=0.10 in c:\\programdata\\miniforge3\\lib\\site-packages (from tensorflow) (0.14.1)\n",
      "Requirement already satisfied: google-pasta~=0.2 in c:\\programdata\\miniforge3\\lib\\site-packages (from tensorflow) (0.2.0)\n",
      "Requirement already satisfied: astunparse~=1.6.3 in c:\\programdata\\miniforge3\\lib\\site-packages (from tensorflow) (1.6.3)\n",
      "Requirement already satisfied: requests<3,>=2.21.0 in c:\\programdata\\miniforge3\\lib\\site-packages (from tensorboard~=2.6->tensorflow) (2.26.0)\n",
      "Requirement already satisfied: werkzeug>=0.11.15 in c:\\programdata\\miniforge3\\lib\\site-packages (from tensorboard~=2.6->tensorflow) (2.0.2)\n",
      "Requirement already satisfied: markdown>=2.6.8 in c:\\programdata\\miniforge3\\lib\\site-packages (from tensorboard~=2.6->tensorflow) (3.3.4)\n",
      "Requirement already satisfied: tensorboard-plugin-wit>=1.6.0 in c:\\programdata\\miniforge3\\lib\\site-packages (from tensorboard~=2.6->tensorflow) (1.8.0)\n",
      "Requirement already satisfied: setuptools>=41.0.0 in c:\\programdata\\miniforge3\\lib\\site-packages (from tensorboard~=2.6->tensorflow) (58.0.4)\n",
      "Requirement already satisfied: tensorboard-data-server<0.7.0,>=0.6.0 in c:\\programdata\\miniforge3\\lib\\site-packages (from tensorboard~=2.6->tensorflow) (0.6.1)\n",
      "Requirement already satisfied: google-auth-oauthlib<0.5,>=0.4.1 in c:\\programdata\\miniforge3\\lib\\site-packages (from tensorboard~=2.6->tensorflow) (0.4.6)\n",
      "Requirement already satisfied: google-auth<2,>=1.6.3 in c:\\programdata\\miniforge3\\lib\\site-packages (from tensorboard~=2.6->tensorflow) (1.35.0)\n",
      "Requirement already satisfied: cachetools<5.0,>=2.0.0 in c:\\programdata\\miniforge3\\lib\\site-packages (from google-auth<2,>=1.6.3->tensorboard~=2.6->tensorflow) (4.2.4)\n",
      "Requirement already satisfied: rsa<5,>=3.1.4 in c:\\programdata\\miniforge3\\lib\\site-packages (from google-auth<2,>=1.6.3->tensorboard~=2.6->tensorflow) (4.7.2)\n",
      "Requirement already satisfied: pyasn1-modules>=0.2.1 in c:\\programdata\\miniforge3\\lib\\site-packages (from google-auth<2,>=1.6.3->tensorboard~=2.6->tensorflow) (0.2.8)\n",
      "Requirement already satisfied: requests-oauthlib>=0.7.0 in c:\\programdata\\miniforge3\\lib\\site-packages (from google-auth-oauthlib<0.5,>=0.4.1->tensorboard~=2.6->tensorflow) (1.3.0)\n",
      "Requirement already satisfied: urllib3<1.27,>=1.21.1 in c:\\programdata\\miniforge3\\lib\\site-packages (from requests<3,>=2.21.0->tensorboard~=2.6->tensorflow) (1.26.7)\n",
      "Requirement already satisfied: charset-normalizer~=2.0.0 in c:\\programdata\\miniforge3\\lib\\site-packages (from requests<3,>=2.21.0->tensorboard~=2.6->tensorflow) (2.0.0)\n",
      "Requirement already satisfied: certifi>=2017.4.17 in c:\\programdata\\miniforge3\\lib\\site-packages (from requests<3,>=2.21.0->tensorboard~=2.6->tensorflow) (2021.10.8)\n",
      "Requirement already satisfied: idna<4,>=2.5 in c:\\programdata\\miniforge3\\lib\\site-packages (from requests<3,>=2.21.0->tensorboard~=2.6->tensorflow) (3.1)\n",
      "Requirement already satisfied: pyasn1<0.5.0,>=0.4.6 in c:\\programdata\\miniforge3\\lib\\site-packages (from pyasn1-modules>=0.2.1->google-auth<2,>=1.6.3->tensorboard~=2.6->tensorflow) (0.4.8)\n",
      "Requirement already satisfied: oauthlib>=3.0.0 in c:\\programdata\\miniforge3\\lib\\site-packages (from requests-oauthlib>=0.7.0->google-auth-oauthlib<0.5,>=0.4.1->tensorboard~=2.6->tensorflow) (3.1.1)\n",
      "Requirement already satisfied: keras-rl2 in c:\\programdata\\miniforge3\\lib\\site-packages (1.0.5)\n",
      "Requirement already satisfied: tensorflow in c:\\programdata\\miniforge3\\lib\\site-packages (from keras-rl2) (2.6.0)\n",
      "Requirement already satisfied: tensorboard~=2.6 in c:\\programdata\\miniforge3\\lib\\site-packages (from tensorflow->keras-rl2) (2.6.0)\n",
      "Requirement already satisfied: typing-extensions~=3.7.4 in c:\\programdata\\miniforge3\\lib\\site-packages (from tensorflow->keras-rl2) (3.7.4.3)\n",
      "Requirement already satisfied: google-pasta~=0.2 in c:\\programdata\\miniforge3\\lib\\site-packages (from tensorflow->keras-rl2) (0.2.0)\n",
      "Requirement already satisfied: flatbuffers~=1.12.0 in c:\\programdata\\miniforge3\\lib\\site-packages (from tensorflow->keras-rl2) (1.12)\n",
      "Requirement already satisfied: termcolor~=1.1.0 in c:\\programdata\\miniforge3\\lib\\site-packages (from tensorflow->keras-rl2) (1.1.0)\n",
      "Requirement already satisfied: protobuf>=3.9.2 in c:\\programdata\\miniforge3\\lib\\site-packages (from tensorflow->keras-rl2) (3.18.1)\n",
      "Requirement already satisfied: absl-py~=0.10 in c:\\programdata\\miniforge3\\lib\\site-packages (from tensorflow->keras-rl2) (0.14.1)\n",
      "Requirement already satisfied: keras~=2.6 in c:\\programdata\\miniforge3\\lib\\site-packages (from tensorflow->keras-rl2) (2.6.0)\n",
      "Requirement already satisfied: wrapt~=1.12.1 in c:\\programdata\\miniforge3\\lib\\site-packages (from tensorflow->keras-rl2) (1.12.1)\n",
      "Requirement already satisfied: numpy~=1.19.2 in c:\\programdata\\miniforge3\\lib\\site-packages (from tensorflow->keras-rl2) (1.19.5)\n",
      "Requirement already satisfied: opt-einsum~=3.3.0 in c:\\programdata\\miniforge3\\lib\\site-packages (from tensorflow->keras-rl2) (3.3.0)\n",
      "Requirement already satisfied: six~=1.15.0 in c:\\programdata\\miniforge3\\lib\\site-packages (from tensorflow->keras-rl2) (1.15.0)\n",
      "Requirement already satisfied: h5py~=3.1.0 in c:\\programdata\\miniforge3\\lib\\site-packages (from tensorflow->keras-rl2) (3.1.0)\n",
      "Requirement already satisfied: grpcio<2.0,>=1.37.0 in c:\\programdata\\miniforge3\\lib\\site-packages (from tensorflow->keras-rl2) (1.41.0)\n",
      "Requirement already satisfied: astunparse~=1.6.3 in c:\\programdata\\miniforge3\\lib\\site-packages (from tensorflow->keras-rl2) (1.6.3)\n",
      "Requirement already satisfied: keras-preprocessing~=1.1.2 in c:\\programdata\\miniforge3\\lib\\site-packages (from tensorflow->keras-rl2) (1.1.2)\n",
      "Requirement already satisfied: gast==0.4.0 in c:\\programdata\\miniforge3\\lib\\site-packages (from tensorflow->keras-rl2) (0.4.0)\n",
      "Requirement already satisfied: clang~=5.0 in c:\\programdata\\miniforge3\\lib\\site-packages (from tensorflow->keras-rl2) (5.0)\n",
      "Requirement already satisfied: tensorflow-estimator~=2.6 in c:\\programdata\\miniforge3\\lib\\site-packages (from tensorflow->keras-rl2) (2.6.0)\n",
      "Requirement already satisfied: wheel~=0.35 in c:\\programdata\\miniforge3\\lib\\site-packages (from tensorflow->keras-rl2) (0.37.0)\n",
      "Requirement already satisfied: requests<3,>=2.21.0 in c:\\programdata\\miniforge3\\lib\\site-packages (from tensorboard~=2.6->tensorflow->keras-rl2) (2.26.0)\n",
      "Requirement already satisfied: google-auth<2,>=1.6.3 in c:\\programdata\\miniforge3\\lib\\site-packages (from tensorboard~=2.6->tensorflow->keras-rl2) (1.35.0)\n",
      "Requirement already satisfied: tensorboard-plugin-wit>=1.6.0 in c:\\programdata\\miniforge3\\lib\\site-packages (from tensorboard~=2.6->tensorflow->keras-rl2) (1.8.0)\n",
      "Requirement already satisfied: tensorboard-data-server<0.7.0,>=0.6.0 in c:\\programdata\\miniforge3\\lib\\site-packages (from tensorboard~=2.6->tensorflow->keras-rl2) (0.6.1)\n",
      "Requirement already satisfied: markdown>=2.6.8 in c:\\programdata\\miniforge3\\lib\\site-packages (from tensorboard~=2.6->tensorflow->keras-rl2) (3.3.4)\n",
      "Requirement already satisfied: setuptools>=41.0.0 in c:\\programdata\\miniforge3\\lib\\site-packages (from tensorboard~=2.6->tensorflow->keras-rl2) (58.0.4)\n",
      "Requirement already satisfied: google-auth-oauthlib<0.5,>=0.4.1 in c:\\programdata\\miniforge3\\lib\\site-packages (from tensorboard~=2.6->tensorflow->keras-rl2) (0.4.6)\n",
      "Requirement already satisfied: werkzeug>=0.11.15 in c:\\programdata\\miniforge3\\lib\\site-packages (from tensorboard~=2.6->tensorflow->keras-rl2) (2.0.2)\n",
      "Requirement already satisfied: rsa<5,>=3.1.4 in c:\\programdata\\miniforge3\\lib\\site-packages (from google-auth<2,>=1.6.3->tensorboard~=2.6->tensorflow->keras-rl2) (4.7.2)\n",
      "Requirement already satisfied: pyasn1-modules>=0.2.1 in c:\\programdata\\miniforge3\\lib\\site-packages (from google-auth<2,>=1.6.3->tensorboard~=2.6->tensorflow->keras-rl2) (0.2.8)\n",
      "Requirement already satisfied: cachetools<5.0,>=2.0.0 in c:\\programdata\\miniforge3\\lib\\site-packages (from google-auth<2,>=1.6.3->tensorboard~=2.6->tensorflow->keras-rl2) (4.2.4)\n",
      "Requirement already satisfied: requests-oauthlib>=0.7.0 in c:\\programdata\\miniforge3\\lib\\site-packages (from google-auth-oauthlib<0.5,>=0.4.1->tensorboard~=2.6->tensorflow->keras-rl2) (1.3.0)\n",
      "Requirement already satisfied: urllib3<1.27,>=1.21.1 in c:\\programdata\\miniforge3\\lib\\site-packages (from requests<3,>=2.21.0->tensorboard~=2.6->tensorflow->keras-rl2) (1.26.7)\n",
      "Requirement already satisfied: charset-normalizer~=2.0.0 in c:\\programdata\\miniforge3\\lib\\site-packages (from requests<3,>=2.21.0->tensorboard~=2.6->tensorflow->keras-rl2) (2.0.0)\n",
      "Requirement already satisfied: idna<4,>=2.5 in c:\\programdata\\miniforge3\\lib\\site-packages (from requests<3,>=2.21.0->tensorboard~=2.6->tensorflow->keras-rl2) (3.1)\n",
      "Requirement already satisfied: certifi>=2017.4.17 in c:\\programdata\\miniforge3\\lib\\site-packages (from requests<3,>=2.21.0->tensorboard~=2.6->tensorflow->keras-rl2) (2021.10.8)\n",
      "Requirement already satisfied: pyasn1<0.5.0,>=0.4.6 in c:\\programdata\\miniforge3\\lib\\site-packages (from pyasn1-modules>=0.2.1->google-auth<2,>=1.6.3->tensorboard~=2.6->tensorflow->keras-rl2) (0.4.8)\n",
      "Requirement already satisfied: oauthlib>=3.0.0 in c:\\programdata\\miniforge3\\lib\\site-packages (from requests-oauthlib>=0.7.0->google-auth-oauthlib<0.5,>=0.4.1->tensorboard~=2.6->tensorflow->keras-rl2) (3.1.1)\n"
     ]
    }
   ],
   "source": [
    "import sys\n",
    "\n",
    "!{sys.executable} -m pip install -U pip\n",
    "!{sys.executable} -m pip install -U gym\n",
    "!{sys.executable} -m pip install -U gym-super-mario-bros\n",
    "!{sys.executable} -m pip install -U tensorflow\n",
    "!{sys.executable} -m pip install -U keras-rl2"
   ]
  },
  {
   "cell_type": "code",
   "execution_count": 2,
   "metadata": {},
   "outputs": [],
   "source": [
    "from nes_py.wrappers import JoypadSpace\n",
    "import gym_super_mario_bros\n",
    "from gym_super_mario_bros.actions import SIMPLE_MOVEMENT"
   ]
  },
  {
   "cell_type": "code",
   "execution_count": 3,
   "metadata": {},
   "outputs": [],
   "source": [
    "env = gym_super_mario_bros.make('SuperMarioBros-v0')\n",
    "env = JoypadSpace(env, SIMPLE_MOVEMENT)"
   ]
  },
  {
   "cell_type": "markdown",
   "metadata": {},
   "source": [
    "### Setup Intelligent Agent"
   ]
  },
  {
   "cell_type": "code",
   "execution_count": 4,
   "metadata": {},
   "outputs": [],
   "source": [
    "agent = Agent.create(\n",
    "    saver=dict(\n",
    "        directory='data/models/mario_tf_ddqn',\n",
    "        frequency=50,\n",
    "        max_checkpoints=5\n",
    "    ),\n",
    "    agent='double_dqn',\n",
    "    environment=environment,\n",
    "    memory=15000,\n",
    "    batch_size=10000\n",
    ")"
   ]
  },
  {
   "cell_type": "markdown",
   "metadata": {},
   "source": [
    "### Train the Agent"
   ]
  },
  {
   "cell_type": "code",
   "execution_count": 5,
   "metadata": {},
   "outputs": [],
   "source": [
    "from tqdm.notebook import tqdm"
   ]
  },
  {
   "cell_type": "code",
   "execution_count": 6,
   "metadata": {},
   "outputs": [
    {
     "data": {
      "application/vnd.jupyter.widget-view+json": {
       "model_id": "04b2534edf7f49fb9c16e12053ab63e4",
       "version_major": 2,
       "version_minor": 0
      },
      "text/plain": [
       "  0%|          | 0/100 [00:00<?, ?it/s]"
      ]
     },
     "metadata": {},
     "output_type": "display_data"
    },
    {
     "data": {
      "application/vnd.jupyter.widget-view+json": {
       "model_id": "cba9094d196141af91123392acbebea9",
       "version_major": 2,
       "version_minor": 0
      },
      "text/plain": [
       "Episodes:   0%|          | 0/1 [00:00, return=0.00, ts/ep=0, sec/ep=0.00, ms/ts=0.0, agent=0.0%]"
      ]
     },
     "metadata": {},
     "output_type": "display_data"
    }
   ],
   "source": [
    "total_episodes = 100\n",
    "progress_bar = tqdm(range(total_episodes))\n",
    "\n",
    "runner = Runner(agent=agent, environment=environment)\n",
    "\n",
    "for episode_number in progress_bar:\n",
    "    runner.run(num_episodes=1)\n",
    "    progress_bar.set_description(f'Training Progress - Episode')\n",
    "runner.close()"
   ]
  },
  {
   "cell_type": "markdown",
   "metadata": {},
   "source": [
    "### Load Utility Functions"
   ]
  },
  {
   "cell_type": "code",
   "execution_count": null,
   "metadata": {},
   "outputs": [],
   "source": [
    "%run ./fa.intelligence.notebooks/utilities/common/imaging.ipynb"
   ]
  },
  {
   "cell_type": "markdown",
   "metadata": {},
   "source": [
    "### Train a Random Agent\n",
    "An agent that takes random steps and record the reward."
   ]
  },
  {
   "cell_type": "code",
   "execution_count": null,
   "metadata": {},
   "outputs": [],
   "source": [
    "env = gym_super_mario_bros.make('SuperMarioBros-v0')\n",
    "env = JoypadSpace(env, SIMPLE_MOVEMENT)"
   ]
  },
  {
   "cell_type": "code",
   "execution_count": null,
   "metadata": {},
   "outputs": [],
   "source": [
    "state = env.reset()\n",
    "done = False\n",
    "random_agent_reward = 0\n",
    "random_frames = []\n",
    "\n",
    "while not done:\n",
    "    state, reward, done, info = env.step(env.action_space.sample())\n",
    "    random_agent_reward += reward\n",
    "    random_frames.append(rgb_array_to_image(state))\n",
    "    \n",
    "print(f'[RANDOM_AGENT] Reward: {random_agent_reward}')"
   ]
  },
  {
   "cell_type": "code",
   "execution_count": null,
   "metadata": {},
   "outputs": [],
   "source": [
    "#Create a wrapped environment of the OpenAI Gym environment we defined higher up.\n",
    "env = gym_super_mario_bros.make('SuperMarioBros-v0')\n",
    "env = JoypadSpace(env, SIMPLE_MOVEMENT)\n",
    "environment = Environment.create(environment=env)"
   ]
  },
  {
   "cell_type": "markdown",
   "metadata": {},
   "source": [
    "### Load Trained Model"
   ]
  },
  {
   "cell_type": "code",
   "execution_count": null,
   "metadata": {},
   "outputs": [],
   "source": [
    "env = gym_super_mario_bros.make('SuperMarioBros-v0')\n",
    "env = JoypadSpace(env, SIMPLE_MOVEMENT)\n",
    "environment = Environment.create(environment=env)\n",
    "agent = Agent.load(directory='data/models/mario_tf_ddqn', format='checkpoint', environment=environment)\n",
    "\n",
    "running_reward = 0\n",
    "internals = agent.initial_internals()\n",
    "done = False\n",
    "states = environment.reset()\n",
    "frames = []\n",
    "\n",
    "while not done:\n",
    "    actions = agent.act(states=states, internals=internals, independent=True)\n",
    "    states, done, reward = environment.execute(actions=actions)\n",
    "    running_reward += reward\n",
    "    frames.append(rgb_array_to_image(states))\n",
    "\n",
    "agent.close()\n",
    "environment.close()"
   ]
  },
  {
   "cell_type": "markdown",
   "metadata": {},
   "source": [
    "### Visualize It's \"Intellgent\" Actions"
   ]
  },
  {
   "cell_type": "code",
   "execution_count": null,
   "metadata": {},
   "outputs": [],
   "source": [
    "import base64\n",
    "from IPython.display import HTML"
   ]
  },
  {
   "cell_type": "code",
   "execution_count": null,
   "metadata": {},
   "outputs": [],
   "source": [
    "random_result_gif = images_to_gif_bytes(random_frames)\n",
    "result_gif = images_to_gif_bytes(frames)"
   ]
  },
  {
   "cell_type": "code",
   "execution_count": null,
   "metadata": {},
   "outputs": [],
   "source": [
    "experiment_name = 'Tensorforce-OpenAI Mario RL Agent Training Results'\n",
    "\n",
    "# Test data.\n",
    "episodes_html = f'<div style=\"display: inline-block; padding: 15px\"><div style=\"font-weight:bold\">Intelligent Agent</div><div style=\"padding: 5px\"><img src=\"data:image.gif;base64, {base64.b64encode(result_gif).decode()}\" /></div><div>Reward: {running_reward}</div></div>'\n",
    "episodes_html += f'<div style=\"display: inline-block; padding: 15px\"><div style=\"font-weight:bold\">Random Agent</div><div style=\"padding: 5px\"><img src=\"data:image.gif;base64, {base64.b64encode(random_result_gif).decode()}\" /></div><div>Reward: {random_agent_reward}</div></div>'\n",
    "HTML(f'<h1 style=\"text-align:center\">{experiment_name}</h1><div style=\"text-align: center\">{episodes_html}</div><footer style=\"text-align: center; padding: 15px\">FrostAura Intelligence</footer>')"
   ]
  },
  {
   "cell_type": "code",
   "execution_count": null,
   "metadata": {},
   "outputs": [],
   "source": []
  }
 ],
 "metadata": {
  "kernelspec": {
   "display_name": "Python 3.9 (Tensorflow)",
   "language": "python",
   "name": "tensorflow-gpu"
  },
  "orig_nbformat": 4
 },
 "nbformat": 4,
 "nbformat_minor": 2
}
