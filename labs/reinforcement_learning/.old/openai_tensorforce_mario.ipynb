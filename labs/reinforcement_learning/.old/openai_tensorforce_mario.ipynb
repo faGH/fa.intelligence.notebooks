{
 "cells": [
  {
   "cell_type": "markdown",
   "metadata": {},
   "source": [
    "# Reinforcement Learning Practical Example for Playing Mario Bros\n",
    "| Platform | Purpose |\n",
    "| -- | -- |\n",
    "| Tensorflow | Base ML Library |\n",
    "| Tensorforce | Reinforcement Learning Library |\n",
    "| OpenAI Gym | Reinforcement Learning Environment |"
   ]
  },
  {
   "cell_type": "markdown",
   "metadata": {},
   "source": [
    "- https://github.com/tensorforce/tensorforce/tree/master/examples\n",
    "- https://github.com/tensorforce/tensorforce/blob/master/examples/save_load_agent.py\n",
    "- https://pypi.org/project/gym-super-mario-bros/"
   ]
  },
  {
   "cell_type": "markdown",
   "metadata": {},
   "source": [
    "### Setup Environment"
   ]
  },
  {
   "cell_type": "code",
   "execution_count": 1,
   "metadata": {},
   "outputs": [
    {
     "name": "stdout",
     "output_type": "stream",
     "text": [
      "Requirement already satisfied: pip in c:\\programdata\\miniforge3\\lib\\site-packages (21.3)\n",
      "Requirement already satisfied: gym in c:\\programdata\\miniforge3\\lib\\site-packages (0.21.0)\n",
      "Requirement already satisfied: numpy>=1.18.0 in c:\\programdata\\miniforge3\\lib\\site-packages (from gym) (1.19.5)\n",
      "Requirement already satisfied: cloudpickle>=1.2.0 in c:\\programdata\\miniforge3\\lib\\site-packages (from gym) (2.0.0)\n",
      "Requirement already satisfied: gym-super-mario-bros in c:\\programdata\\miniforge3\\lib\\site-packages (7.3.2)\n",
      "Requirement already satisfied: nes-py>=8.1.2 in c:\\programdata\\miniforge3\\lib\\site-packages (from gym-super-mario-bros) (8.1.8)\n",
      "Requirement already satisfied: numpy>=1.18.5 in c:\\programdata\\miniforge3\\lib\\site-packages (from nes-py>=8.1.2->gym-super-mario-bros) (1.19.5)\n",
      "Requirement already satisfied: pyglet<=1.5.11,>=1.4.0 in c:\\programdata\\miniforge3\\lib\\site-packages (from nes-py>=8.1.2->gym-super-mario-bros) (1.5.11)\n",
      "Requirement already satisfied: gym>=0.17.2 in c:\\programdata\\miniforge3\\lib\\site-packages (from nes-py>=8.1.2->gym-super-mario-bros) (0.21.0)\n",
      "Requirement already satisfied: tqdm>=4.48.2 in c:\\programdata\\miniforge3\\lib\\site-packages (from nes-py>=8.1.2->gym-super-mario-bros) (4.62.3)\n",
      "Requirement already satisfied: cloudpickle>=1.2.0 in c:\\programdata\\miniforge3\\lib\\site-packages (from gym>=0.17.2->nes-py>=8.1.2->gym-super-mario-bros) (2.0.0)\n",
      "Requirement already satisfied: colorama in c:\\programdata\\miniforge3\\lib\\site-packages (from tqdm>=4.48.2->nes-py>=8.1.2->gym-super-mario-bros) (0.4.4)\n",
      "Requirement already satisfied: tensorflow in c:\\programdata\\miniforge3\\lib\\site-packages (2.6.0)\n",
      "Requirement already satisfied: astunparse~=1.6.3 in c:\\programdata\\miniforge3\\lib\\site-packages (from tensorflow) (1.6.3)\n",
      "Requirement already satisfied: tensorflow-estimator~=2.6 in c:\\programdata\\miniforge3\\lib\\site-packages (from tensorflow) (2.6.0)\n",
      "Requirement already satisfied: termcolor~=1.1.0 in c:\\programdata\\miniforge3\\lib\\site-packages (from tensorflow) (1.1.0)\n",
      "Requirement already satisfied: gast==0.4.0 in c:\\programdata\\miniforge3\\lib\\site-packages (from tensorflow) (0.4.0)\n",
      "Requirement already satisfied: clang~=5.0 in c:\\programdata\\miniforge3\\lib\\site-packages (from tensorflow) (5.0)\n",
      "Requirement already satisfied: grpcio<2.0,>=1.37.0 in c:\\programdata\\miniforge3\\lib\\site-packages (from tensorflow) (1.41.0)\n",
      "Requirement already satisfied: opt-einsum~=3.3.0 in c:\\programdata\\miniforge3\\lib\\site-packages (from tensorflow) (3.3.0)\n",
      "Requirement already satisfied: numpy~=1.19.2 in c:\\programdata\\miniforge3\\lib\\site-packages (from tensorflow) (1.19.5)\n",
      "Requirement already satisfied: h5py~=3.1.0 in c:\\programdata\\miniforge3\\lib\\site-packages (from tensorflow) (3.1.0)\n",
      "Requirement already satisfied: tensorboard~=2.6 in c:\\programdata\\miniforge3\\lib\\site-packages (from tensorflow) (2.6.0)\n",
      "Requirement already satisfied: keras-preprocessing~=1.1.2 in c:\\programdata\\miniforge3\\lib\\site-packages (from tensorflow) (1.1.2)\n",
      "Requirement already satisfied: flatbuffers~=1.12.0 in c:\\programdata\\miniforge3\\lib\\site-packages (from tensorflow) (1.12)\n",
      "Requirement already satisfied: typing-extensions~=3.7.4 in c:\\programdata\\miniforge3\\lib\\site-packages (from tensorflow) (3.7.4.3)\n",
      "Requirement already satisfied: google-pasta~=0.2 in c:\\programdata\\miniforge3\\lib\\site-packages (from tensorflow) (0.2.0)\n",
      "Requirement already satisfied: wrapt~=1.12.1 in c:\\programdata\\miniforge3\\lib\\site-packages (from tensorflow) (1.12.1)\n",
      "Requirement already satisfied: six~=1.15.0 in c:\\programdata\\miniforge3\\lib\\site-packages (from tensorflow) (1.15.0)\n",
      "Requirement already satisfied: absl-py~=0.10 in c:\\programdata\\miniforge3\\lib\\site-packages (from tensorflow) (0.14.1)\n",
      "Requirement already satisfied: protobuf>=3.9.2 in c:\\programdata\\miniforge3\\lib\\site-packages (from tensorflow) (3.18.1)\n",
      "Requirement already satisfied: wheel~=0.35 in c:\\programdata\\miniforge3\\lib\\site-packages (from tensorflow) (0.37.0)\n",
      "Requirement already satisfied: keras~=2.6 in c:\\programdata\\miniforge3\\lib\\site-packages (from tensorflow) (2.6.0)\n",
      "Requirement already satisfied: setuptools>=41.0.0 in c:\\programdata\\miniforge3\\lib\\site-packages (from tensorboard~=2.6->tensorflow) (58.0.4)\n",
      "Requirement already satisfied: tensorboard-data-server<0.7.0,>=0.6.0 in c:\\programdata\\miniforge3\\lib\\site-packages (from tensorboard~=2.6->tensorflow) (0.6.1)\n",
      "Requirement already satisfied: markdown>=2.6.8 in c:\\programdata\\miniforge3\\lib\\site-packages (from tensorboard~=2.6->tensorflow) (3.3.4)\n",
      "Requirement already satisfied: requests<3,>=2.21.0 in c:\\programdata\\miniforge3\\lib\\site-packages (from tensorboard~=2.6->tensorflow) (2.26.0)\n",
      "Requirement already satisfied: google-auth<2,>=1.6.3 in c:\\programdata\\miniforge3\\lib\\site-packages (from tensorboard~=2.6->tensorflow) (1.35.0)\n",
      "Requirement already satisfied: tensorboard-plugin-wit>=1.6.0 in c:\\programdata\\miniforge3\\lib\\site-packages (from tensorboard~=2.6->tensorflow) (1.8.0)\n",
      "Requirement already satisfied: werkzeug>=0.11.15 in c:\\programdata\\miniforge3\\lib\\site-packages (from tensorboard~=2.6->tensorflow) (2.0.2)\n",
      "Requirement already satisfied: google-auth-oauthlib<0.5,>=0.4.1 in c:\\programdata\\miniforge3\\lib\\site-packages (from tensorboard~=2.6->tensorflow) (0.4.6)\n",
      "Requirement already satisfied: cachetools<5.0,>=2.0.0 in c:\\programdata\\miniforge3\\lib\\site-packages (from google-auth<2,>=1.6.3->tensorboard~=2.6->tensorflow) (4.2.4)\n",
      "Requirement already satisfied: pyasn1-modules>=0.2.1 in c:\\programdata\\miniforge3\\lib\\site-packages (from google-auth<2,>=1.6.3->tensorboard~=2.6->tensorflow) (0.2.8)\n",
      "Requirement already satisfied: rsa<5,>=3.1.4 in c:\\programdata\\miniforge3\\lib\\site-packages (from google-auth<2,>=1.6.3->tensorboard~=2.6->tensorflow) (4.7.2)\n",
      "Requirement already satisfied: requests-oauthlib>=0.7.0 in c:\\programdata\\miniforge3\\lib\\site-packages (from google-auth-oauthlib<0.5,>=0.4.1->tensorboard~=2.6->tensorflow) (1.3.0)\n",
      "Requirement already satisfied: certifi>=2017.4.17 in c:\\programdata\\miniforge3\\lib\\site-packages (from requests<3,>=2.21.0->tensorboard~=2.6->tensorflow) (2021.10.8)\n",
      "Requirement already satisfied: urllib3<1.27,>=1.21.1 in c:\\programdata\\miniforge3\\lib\\site-packages (from requests<3,>=2.21.0->tensorboard~=2.6->tensorflow) (1.26.7)\n",
      "Requirement already satisfied: charset-normalizer~=2.0.0 in c:\\programdata\\miniforge3\\lib\\site-packages (from requests<3,>=2.21.0->tensorboard~=2.6->tensorflow) (2.0.0)\n",
      "Requirement already satisfied: idna<4,>=2.5 in c:\\programdata\\miniforge3\\lib\\site-packages (from requests<3,>=2.21.0->tensorboard~=2.6->tensorflow) (3.1)\n",
      "Requirement already satisfied: pyasn1<0.5.0,>=0.4.6 in c:\\programdata\\miniforge3\\lib\\site-packages (from pyasn1-modules>=0.2.1->google-auth<2,>=1.6.3->tensorboard~=2.6->tensorflow) (0.4.8)\n",
      "Requirement already satisfied: oauthlib>=3.0.0 in c:\\programdata\\miniforge3\\lib\\site-packages (from requests-oauthlib>=0.7.0->google-auth-oauthlib<0.5,>=0.4.1->tensorboard~=2.6->tensorflow) (3.1.1)\n",
      "Requirement already satisfied: tensorforce in c:\\programdata\\miniforge3\\lib\\site-packages (0.6.5)\n",
      "Requirement already satisfied: msgpack>=1.0.2 in c:\\programdata\\miniforge3\\lib\\site-packages (from tensorforce) (1.0.2)\n",
      "Requirement already satisfied: tqdm>=4.62.2 in c:\\programdata\\miniforge3\\lib\\site-packages (from tensorforce) (4.62.3)\n",
      "Requirement already satisfied: Pillow>=8.3.1 in c:\\programdata\\miniforge3\\lib\\site-packages (from tensorforce) (8.3.2)\n",
      "Requirement already satisfied: tensorflow==2.6.0 in c:\\programdata\\miniforge3\\lib\\site-packages (from tensorforce) (2.6.0)\n",
      "Requirement already satisfied: matplotlib>=3.3.4 in c:\\programdata\\miniforge3\\lib\\site-packages (from tensorforce) (3.4.3)\n",
      "Requirement already satisfied: gym>=0.19.0 in c:\\programdata\\miniforge3\\lib\\site-packages (from tensorforce) (0.21.0)\n",
      "Requirement already satisfied: numpy==1.19.5 in c:\\programdata\\miniforge3\\lib\\site-packages (from tensorforce) (1.19.5)\n",
      "Requirement already satisfied: msgpack-numpy>=0.4.7.1 in c:\\programdata\\miniforge3\\lib\\site-packages (from tensorforce) (0.4.7.1)\n",
      "Requirement already satisfied: h5py~=3.1.0 in c:\\programdata\\miniforge3\\lib\\site-packages (from tensorforce) (3.1.0)\n",
      "Requirement already satisfied: gast==0.4.0 in c:\\programdata\\miniforge3\\lib\\site-packages (from tensorflow==2.6.0->tensorforce) (0.4.0)\n",
      "Requirement already satisfied: tensorflow-estimator~=2.6 in c:\\programdata\\miniforge3\\lib\\site-packages (from tensorflow==2.6.0->tensorforce) (2.6.0)\n",
      "Requirement already satisfied: google-pasta~=0.2 in c:\\programdata\\miniforge3\\lib\\site-packages (from tensorflow==2.6.0->tensorforce) (0.2.0)\n",
      "Requirement already satisfied: termcolor~=1.1.0 in c:\\programdata\\miniforge3\\lib\\site-packages (from tensorflow==2.6.0->tensorforce) (1.1.0)\n",
      "Requirement already satisfied: protobuf>=3.9.2 in c:\\programdata\\miniforge3\\lib\\site-packages (from tensorflow==2.6.0->tensorforce) (3.18.1)\n",
      "Requirement already satisfied: tensorboard~=2.6 in c:\\programdata\\miniforge3\\lib\\site-packages (from tensorflow==2.6.0->tensorforce) (2.6.0)\n",
      "Requirement already satisfied: wheel~=0.35 in c:\\programdata\\miniforge3\\lib\\site-packages (from tensorflow==2.6.0->tensorforce) (0.37.0)\n",
      "Requirement already satisfied: six~=1.15.0 in c:\\programdata\\miniforge3\\lib\\site-packages (from tensorflow==2.6.0->tensorforce) (1.15.0)\n",
      "Requirement already satisfied: absl-py~=0.10 in c:\\programdata\\miniforge3\\lib\\site-packages (from tensorflow==2.6.0->tensorforce) (0.14.1)\n",
      "Requirement already satisfied: keras~=2.6 in c:\\programdata\\miniforge3\\lib\\site-packages (from tensorflow==2.6.0->tensorforce) (2.6.0)\n",
      "Requirement already satisfied: typing-extensions~=3.7.4 in c:\\programdata\\miniforge3\\lib\\site-packages (from tensorflow==2.6.0->tensorforce) (3.7.4.3)\n",
      "Requirement already satisfied: flatbuffers~=1.12.0 in c:\\programdata\\miniforge3\\lib\\site-packages (from tensorflow==2.6.0->tensorforce) (1.12)\n",
      "Requirement already satisfied: keras-preprocessing~=1.1.2 in c:\\programdata\\miniforge3\\lib\\site-packages (from tensorflow==2.6.0->tensorforce) (1.1.2)\n",
      "Requirement already satisfied: opt-einsum~=3.3.0 in c:\\programdata\\miniforge3\\lib\\site-packages (from tensorflow==2.6.0->tensorforce) (3.3.0)\n",
      "Requirement already satisfied: grpcio<2.0,>=1.37.0 in c:\\programdata\\miniforge3\\lib\\site-packages (from tensorflow==2.6.0->tensorforce) (1.41.0)\n",
      "Requirement already satisfied: wrapt~=1.12.1 in c:\\programdata\\miniforge3\\lib\\site-packages (from tensorflow==2.6.0->tensorforce) (1.12.1)\n",
      "Requirement already satisfied: astunparse~=1.6.3 in c:\\programdata\\miniforge3\\lib\\site-packages (from tensorflow==2.6.0->tensorforce) (1.6.3)\n",
      "Requirement already satisfied: clang~=5.0 in c:\\programdata\\miniforge3\\lib\\site-packages (from tensorflow==2.6.0->tensorforce) (5.0)\n",
      "Requirement already satisfied: cloudpickle>=1.2.0 in c:\\programdata\\miniforge3\\lib\\site-packages (from gym>=0.19.0->tensorforce) (2.0.0)\n",
      "Requirement already satisfied: python-dateutil>=2.7 in c:\\programdata\\miniforge3\\lib\\site-packages (from matplotlib>=3.3.4->tensorforce) (2.8.2)\n",
      "Requirement already satisfied: cycler>=0.10 in c:\\programdata\\miniforge3\\lib\\site-packages (from matplotlib>=3.3.4->tensorforce) (0.10.0)\n",
      "Requirement already satisfied: kiwisolver>=1.0.1 in c:\\programdata\\miniforge3\\lib\\site-packages (from matplotlib>=3.3.4->tensorforce) (1.3.2)\n",
      "Requirement already satisfied: pyparsing>=2.2.1 in c:\\programdata\\miniforge3\\lib\\site-packages (from matplotlib>=3.3.4->tensorforce) (2.4.7)\n",
      "Requirement already satisfied: colorama in c:\\programdata\\miniforge3\\lib\\site-packages (from tqdm>=4.62.2->tensorforce) (0.4.4)\n",
      "Requirement already satisfied: tensorboard-data-server<0.7.0,>=0.6.0 in c:\\programdata\\miniforge3\\lib\\site-packages (from tensorboard~=2.6->tensorflow==2.6.0->tensorforce) (0.6.1)\n",
      "Requirement already satisfied: markdown>=2.6.8 in c:\\programdata\\miniforge3\\lib\\site-packages (from tensorboard~=2.6->tensorflow==2.6.0->tensorforce) (3.3.4)\n",
      "Requirement already satisfied: requests<3,>=2.21.0 in c:\\programdata\\miniforge3\\lib\\site-packages (from tensorboard~=2.6->tensorflow==2.6.0->tensorforce) (2.26.0)\n",
      "Requirement already satisfied: werkzeug>=0.11.15 in c:\\programdata\\miniforge3\\lib\\site-packages (from tensorboard~=2.6->tensorflow==2.6.0->tensorforce) (2.0.2)\n",
      "Requirement already satisfied: google-auth-oauthlib<0.5,>=0.4.1 in c:\\programdata\\miniforge3\\lib\\site-packages (from tensorboard~=2.6->tensorflow==2.6.0->tensorforce) (0.4.6)\n",
      "Requirement already satisfied: google-auth<2,>=1.6.3 in c:\\programdata\\miniforge3\\lib\\site-packages (from tensorboard~=2.6->tensorflow==2.6.0->tensorforce) (1.35.0)\n",
      "Requirement already satisfied: setuptools>=41.0.0 in c:\\programdata\\miniforge3\\lib\\site-packages (from tensorboard~=2.6->tensorflow==2.6.0->tensorforce) (58.0.4)\n",
      "Requirement already satisfied: tensorboard-plugin-wit>=1.6.0 in c:\\programdata\\miniforge3\\lib\\site-packages (from tensorboard~=2.6->tensorflow==2.6.0->tensorforce) (1.8.0)\n",
      "Requirement already satisfied: cachetools<5.0,>=2.0.0 in c:\\programdata\\miniforge3\\lib\\site-packages (from google-auth<2,>=1.6.3->tensorboard~=2.6->tensorflow==2.6.0->tensorforce) (4.2.4)\n",
      "Requirement already satisfied: rsa<5,>=3.1.4 in c:\\programdata\\miniforge3\\lib\\site-packages (from google-auth<2,>=1.6.3->tensorboard~=2.6->tensorflow==2.6.0->tensorforce) (4.7.2)\n",
      "Requirement already satisfied: pyasn1-modules>=0.2.1 in c:\\programdata\\miniforge3\\lib\\site-packages (from google-auth<2,>=1.6.3->tensorboard~=2.6->tensorflow==2.6.0->tensorforce) (0.2.8)\n",
      "Requirement already satisfied: requests-oauthlib>=0.7.0 in c:\\programdata\\miniforge3\\lib\\site-packages (from google-auth-oauthlib<0.5,>=0.4.1->tensorboard~=2.6->tensorflow==2.6.0->tensorforce) (1.3.0)\n",
      "Requirement already satisfied: certifi>=2017.4.17 in c:\\programdata\\miniforge3\\lib\\site-packages (from requests<3,>=2.21.0->tensorboard~=2.6->tensorflow==2.6.0->tensorforce) (2021.10.8)\n",
      "Requirement already satisfied: idna<4,>=2.5 in c:\\programdata\\miniforge3\\lib\\site-packages (from requests<3,>=2.21.0->tensorboard~=2.6->tensorflow==2.6.0->tensorforce) (3.1)\n",
      "Requirement already satisfied: charset-normalizer~=2.0.0 in c:\\programdata\\miniforge3\\lib\\site-packages (from requests<3,>=2.21.0->tensorboard~=2.6->tensorflow==2.6.0->tensorforce) (2.0.0)\n",
      "Requirement already satisfied: urllib3<1.27,>=1.21.1 in c:\\programdata\\miniforge3\\lib\\site-packages (from requests<3,>=2.21.0->tensorboard~=2.6->tensorflow==2.6.0->tensorforce) (1.26.7)\n",
      "Requirement already satisfied: pyasn1<0.5.0,>=0.4.6 in c:\\programdata\\miniforge3\\lib\\site-packages (from pyasn1-modules>=0.2.1->google-auth<2,>=1.6.3->tensorboard~=2.6->tensorflow==2.6.0->tensorforce) (0.4.8)\n",
      "Requirement already satisfied: oauthlib>=3.0.0 in c:\\programdata\\miniforge3\\lib\\site-packages (from requests-oauthlib>=0.7.0->google-auth-oauthlib<0.5,>=0.4.1->tensorboard~=2.6->tensorflow==2.6.0->tensorforce) (3.1.1)\n"
     ]
    }
   ],
   "source": [
    "import sys\n",
    "\n",
    "!{sys.executable} -m pip install -U pip\n",
    "!{sys.executable} -m pip install -U gym\n",
    "!{sys.executable} -m pip install -U gym-super-mario-bros\n",
    "!{sys.executable} -m pip install -U tensorflow\n",
    "!{sys.executable} -m pip install -U tensorforce"
   ]
  },
  {
   "cell_type": "code",
   "execution_count": 2,
   "metadata": {},
   "outputs": [],
   "source": [
    "from nes_py.wrappers import JoypadSpace\n",
    "import gym_super_mario_bros\n",
    "from gym_super_mario_bros.actions import SIMPLE_MOVEMENT\n",
    "from tensorforce import Agent, Environment, Runner"
   ]
  },
  {
   "cell_type": "code",
   "execution_count": 3,
   "metadata": {},
   "outputs": [],
   "source": [
    "env = gym_super_mario_bros.make('SuperMarioBros-v0')\n",
    "env = JoypadSpace(env, SIMPLE_MOVEMENT)\n",
    "environment = Environment.create(environment=env)"
   ]
  },
  {
   "cell_type": "markdown",
   "metadata": {},
   "source": [
    "### Setup Intelligent Agent"
   ]
  },
  {
   "cell_type": "code",
   "execution_count": 4,
   "metadata": {},
   "outputs": [],
   "source": [
    "agent = Agent.create(\n",
    "    saver=dict(\n",
    "        directory='data/models/mario_tf_ddqn',\n",
    "        frequency=50,\n",
    "        max_checkpoints=5\n",
    "    ),\n",
    "    agent='double_dqn',\n",
    "    environment=environment,\n",
    "    memory=15000,\n",
    "    batch_size=10000\n",
    ")"
   ]
  },
  {
   "cell_type": "markdown",
   "metadata": {},
   "source": [
    "### Train the Agent"
   ]
  },
  {
   "cell_type": "code",
   "execution_count": 5,
   "metadata": {},
   "outputs": [],
   "source": [
    "from tqdm.notebook import tqdm"
   ]
  },
  {
   "cell_type": "code",
   "execution_count": 6,
   "metadata": {},
   "outputs": [
    {
     "data": {
      "application/vnd.jupyter.widget-view+json": {
       "model_id": "04b2534edf7f49fb9c16e12053ab63e4",
       "version_major": 2,
       "version_minor": 0
      },
      "text/plain": [
       "  0%|          | 0/100 [00:00<?, ?it/s]"
      ]
     },
     "metadata": {},
     "output_type": "display_data"
    },
    {
     "data": {
      "application/vnd.jupyter.widget-view+json": {
       "model_id": "cba9094d196141af91123392acbebea9",
       "version_major": 2,
       "version_minor": 0
      },
      "text/plain": [
       "Episodes:   0%|          | 0/1 [00:00, return=0.00, ts/ep=0, sec/ep=0.00, ms/ts=0.0, agent=0.0%]"
      ]
     },
     "metadata": {},
     "output_type": "display_data"
    },
    {
     "ename": "ResourceExhaustedError",
     "evalue": " OOM when allocating tensor with shape[2500,240,256,64] and type float on /job:localhost/replica:0/task:0/device:CPU:0 by allocator cpu\n\t [[{{node agent/StatefulPartitionedCall/agent/cond_1/then/_297/agent/StatefulPartitionedCall/baseline/StatefulPartitionedCall/baseline/StatefulPartitionedCall/network/StatefulPartitionedCall/conv2d0/StatefulPartitionedCall/conv2d0/BiasAdd}}]]\nHint: If you want to see a list of allocated tensors when OOM happens, add report_tensor_allocations_upon_oom to RunOptions for current allocation info. This isn't available when running in Eager mode.\n [Op:__inference_observe_5011]\n\nFunction call stack:\nobserve\n",
     "output_type": "error",
     "traceback": [
      "\u001b[1;31m---------------------------------------------------------------------------\u001b[0m",
      "\u001b[1;31mResourceExhaustedError\u001b[0m                    Traceback (most recent call last)",
      "\u001b[1;32m~\\AppData\\Local\\Temp/ipykernel_41528/2325448996.py\u001b[0m in \u001b[0;36m<module>\u001b[1;34m\u001b[0m\n\u001b[0;32m      5\u001b[0m \u001b[1;33m\u001b[0m\u001b[0m\n\u001b[0;32m      6\u001b[0m \u001b[1;32mfor\u001b[0m \u001b[0mepisode_number\u001b[0m \u001b[1;32min\u001b[0m \u001b[0mprogress_bar\u001b[0m\u001b[1;33m:\u001b[0m\u001b[1;33m\u001b[0m\u001b[1;33m\u001b[0m\u001b[0m\n\u001b[1;32m----> 7\u001b[1;33m     \u001b[0mrunner\u001b[0m\u001b[1;33m.\u001b[0m\u001b[0mrun\u001b[0m\u001b[1;33m(\u001b[0m\u001b[0mnum_episodes\u001b[0m\u001b[1;33m=\u001b[0m\u001b[1;36m1\u001b[0m\u001b[1;33m)\u001b[0m\u001b[1;33m\u001b[0m\u001b[1;33m\u001b[0m\u001b[0m\n\u001b[0m\u001b[0;32m      8\u001b[0m     \u001b[0mprogress_bar\u001b[0m\u001b[1;33m.\u001b[0m\u001b[0mset_description\u001b[0m\u001b[1;33m(\u001b[0m\u001b[1;34mf'Training Progress - Episode'\u001b[0m\u001b[1;33m)\u001b[0m\u001b[1;33m\u001b[0m\u001b[1;33m\u001b[0m\u001b[0m\n\u001b[0;32m      9\u001b[0m \u001b[0mrunner\u001b[0m\u001b[1;33m.\u001b[0m\u001b[0mclose\u001b[0m\u001b[1;33m(\u001b[0m\u001b[1;33m)\u001b[0m\u001b[1;33m\u001b[0m\u001b[1;33m\u001b[0m\u001b[0m\n",
      "\u001b[1;32mC:\\ProgramData\\miniforge3\\lib\\site-packages\\tensorforce\\execution\\runner.py\u001b[0m in \u001b[0;36mrun\u001b[1;34m(self, num_episodes, num_timesteps, num_updates, batch_agent_calls, sync_timesteps, sync_episodes, num_sleep_secs, callback, callback_episode_frequency, callback_timestep_frequency, use_tqdm, mean_horizon, evaluation, save_best_agent, evaluation_callback)\u001b[0m\n\u001b[0;32m    650\u001b[0m                     \u001b[1;32melse\u001b[0m\u001b[1;33m:\u001b[0m\u001b[1;33m\u001b[0m\u001b[1;33m\u001b[0m\u001b[0m\n\u001b[0;32m    651\u001b[0m                         \u001b[1;31m# Observe\u001b[0m\u001b[1;33m\u001b[0m\u001b[1;33m\u001b[0m\u001b[0m\n\u001b[1;32m--> 652\u001b[1;33m                         \u001b[0mself\u001b[0m\u001b[1;33m.\u001b[0m\u001b[0mhandle_observe\u001b[0m\u001b[1;33m(\u001b[0m\u001b[0mparallel\u001b[0m\u001b[1;33m=\u001b[0m\u001b[0mn\u001b[0m\u001b[1;33m)\u001b[0m\u001b[1;33m\u001b[0m\u001b[1;33m\u001b[0m\u001b[0m\n\u001b[0m\u001b[0;32m    653\u001b[0m                         \u001b[1;32mif\u001b[0m \u001b[0mself\u001b[0m\u001b[1;33m.\u001b[0m\u001b[0mterminals\u001b[0m\u001b[1;33m[\u001b[0m\u001b[0mn\u001b[0m\u001b[1;33m]\u001b[0m \u001b[1;33m==\u001b[0m \u001b[1;36m0\u001b[0m\u001b[1;33m:\u001b[0m\u001b[1;33m\u001b[0m\u001b[1;33m\u001b[0m\u001b[0m\n\u001b[0;32m    654\u001b[0m                             \u001b[1;31m# Act\u001b[0m\u001b[1;33m\u001b[0m\u001b[1;33m\u001b[0m\u001b[0m\n",
      "\u001b[1;32mC:\\ProgramData\\miniforge3\\lib\\site-packages\\tensorforce\\execution\\runner.py\u001b[0m in \u001b[0;36mhandle_observe\u001b[1;34m(self, parallel)\u001b[0m\n\u001b[0;32m    777\u001b[0m         \u001b[1;32mif\u001b[0m \u001b[1;32mnot\u001b[0m \u001b[0mself\u001b[0m\u001b[1;33m.\u001b[0m\u001b[0mbatch_agent_calls\u001b[0m\u001b[1;33m:\u001b[0m\u001b[1;33m\u001b[0m\u001b[1;33m\u001b[0m\u001b[0m\n\u001b[0;32m    778\u001b[0m             \u001b[0magent_start\u001b[0m \u001b[1;33m=\u001b[0m \u001b[0mtime\u001b[0m\u001b[1;33m.\u001b[0m\u001b[0mtime\u001b[0m\u001b[1;33m(\u001b[0m\u001b[1;33m)\u001b[0m\u001b[1;33m\u001b[0m\u001b[1;33m\u001b[0m\u001b[0m\n\u001b[1;32m--> 779\u001b[1;33m             updated = self.agent.observe(\n\u001b[0m\u001b[0;32m    780\u001b[0m                 \u001b[0mterminal\u001b[0m\u001b[1;33m=\u001b[0m\u001b[0mself\u001b[0m\u001b[1;33m.\u001b[0m\u001b[0mterminals\u001b[0m\u001b[1;33m[\u001b[0m\u001b[0mparallel\u001b[0m\u001b[1;33m]\u001b[0m\u001b[1;33m,\u001b[0m \u001b[0mreward\u001b[0m\u001b[1;33m=\u001b[0m\u001b[0mself\u001b[0m\u001b[1;33m.\u001b[0m\u001b[0mrewards\u001b[0m\u001b[1;33m[\u001b[0m\u001b[0mparallel\u001b[0m\u001b[1;33m]\u001b[0m\u001b[1;33m,\u001b[0m \u001b[0mparallel\u001b[0m\u001b[1;33m=\u001b[0m\u001b[0mparallel\u001b[0m\u001b[1;33m\u001b[0m\u001b[1;33m\u001b[0m\u001b[0m\n\u001b[0;32m    781\u001b[0m             )\n",
      "\u001b[1;32mC:\\ProgramData\\miniforge3\\lib\\site-packages\\tensorforce\\agents\\agent.py\u001b[0m in \u001b[0;36mobserve\u001b[1;34m(self, reward, terminal, parallel)\u001b[0m\n\u001b[0;32m    556\u001b[0m \u001b[1;33m\u001b[0m\u001b[0m\n\u001b[0;32m    557\u001b[0m             \u001b[1;31m# Model.observe()\u001b[0m\u001b[1;33m\u001b[0m\u001b[1;33m\u001b[0m\u001b[0m\n\u001b[1;32m--> 558\u001b[1;33m             updated, episodes, updates = self.model.observe(\n\u001b[0m\u001b[0;32m    559\u001b[0m                 \u001b[0mterminal\u001b[0m\u001b[1;33m=\u001b[0m\u001b[0mterminal_tensor\u001b[0m\u001b[1;33m,\u001b[0m \u001b[0mreward\u001b[0m\u001b[1;33m=\u001b[0m\u001b[0mreward_tensor\u001b[0m\u001b[1;33m,\u001b[0m \u001b[0mparallel\u001b[0m\u001b[1;33m=\u001b[0m\u001b[0mparallel_tensor\u001b[0m\u001b[1;33m\u001b[0m\u001b[1;33m\u001b[0m\u001b[0m\n\u001b[0;32m    560\u001b[0m             )\n",
      "\u001b[1;32mC:\\ProgramData\\miniforge3\\lib\\site-packages\\tensorforce\\core\\module.py\u001b[0m in \u001b[0;36mdecorated\u001b[1;34m(self, _initialize, *args, **kwargs)\u001b[0m\n\u001b[0;32m    134\u001b[0m             \u001b[1;31m# Apply function graph\u001b[0m\u001b[1;33m\u001b[0m\u001b[1;33m\u001b[0m\u001b[0m\n\u001b[0;32m    135\u001b[0m             \u001b[1;32mwith\u001b[0m \u001b[0mself\u001b[0m\u001b[1;33m:\u001b[0m\u001b[1;33m\u001b[0m\u001b[1;33m\u001b[0m\u001b[0m\n\u001b[1;32m--> 136\u001b[1;33m                 \u001b[0moutput_args\u001b[0m \u001b[1;33m=\u001b[0m \u001b[0mfunction_graphs\u001b[0m\u001b[1;33m[\u001b[0m\u001b[0mstr\u001b[0m\u001b[1;33m(\u001b[0m\u001b[0mgraph_params\u001b[0m\u001b[1;33m)\u001b[0m\u001b[1;33m]\u001b[0m\u001b[1;33m(\u001b[0m\u001b[1;33m*\u001b[0m\u001b[0mgraph_args\u001b[0m\u001b[1;33m)\u001b[0m\u001b[1;33m\u001b[0m\u001b[1;33m\u001b[0m\u001b[0m\n\u001b[0m\u001b[0;32m    137\u001b[0m             \u001b[1;32mif\u001b[0m \u001b[1;32mnot\u001b[0m \u001b[0mis_loop_body\u001b[0m\u001b[1;33m:\u001b[0m\u001b[1;33m\u001b[0m\u001b[1;33m\u001b[0m\u001b[0m\n\u001b[0;32m    138\u001b[0m                 return output_signature.args_to_kwargs(\n",
      "\u001b[1;32mC:\\ProgramData\\miniforge3\\lib\\site-packages\\tensorflow\\python\\eager\\def_function.py\u001b[0m in \u001b[0;36m__call__\u001b[1;34m(self, *args, **kwds)\u001b[0m\n\u001b[0;32m    883\u001b[0m \u001b[1;33m\u001b[0m\u001b[0m\n\u001b[0;32m    884\u001b[0m       \u001b[1;32mwith\u001b[0m \u001b[0mOptionalXlaContext\u001b[0m\u001b[1;33m(\u001b[0m\u001b[0mself\u001b[0m\u001b[1;33m.\u001b[0m\u001b[0m_jit_compile\u001b[0m\u001b[1;33m)\u001b[0m\u001b[1;33m:\u001b[0m\u001b[1;33m\u001b[0m\u001b[1;33m\u001b[0m\u001b[0m\n\u001b[1;32m--> 885\u001b[1;33m         \u001b[0mresult\u001b[0m \u001b[1;33m=\u001b[0m \u001b[0mself\u001b[0m\u001b[1;33m.\u001b[0m\u001b[0m_call\u001b[0m\u001b[1;33m(\u001b[0m\u001b[1;33m*\u001b[0m\u001b[0margs\u001b[0m\u001b[1;33m,\u001b[0m \u001b[1;33m**\u001b[0m\u001b[0mkwds\u001b[0m\u001b[1;33m)\u001b[0m\u001b[1;33m\u001b[0m\u001b[1;33m\u001b[0m\u001b[0m\n\u001b[0m\u001b[0;32m    886\u001b[0m \u001b[1;33m\u001b[0m\u001b[0m\n\u001b[0;32m    887\u001b[0m       \u001b[0mnew_tracing_count\u001b[0m \u001b[1;33m=\u001b[0m \u001b[0mself\u001b[0m\u001b[1;33m.\u001b[0m\u001b[0mexperimental_get_tracing_count\u001b[0m\u001b[1;33m(\u001b[0m\u001b[1;33m)\u001b[0m\u001b[1;33m\u001b[0m\u001b[1;33m\u001b[0m\u001b[0m\n",
      "\u001b[1;32mC:\\ProgramData\\miniforge3\\lib\\site-packages\\tensorflow\\python\\eager\\def_function.py\u001b[0m in \u001b[0;36m_call\u001b[1;34m(self, *args, **kwds)\u001b[0m\n\u001b[0;32m    922\u001b[0m       \u001b[1;31m# In this case we have not created variables on the first call. So we can\u001b[0m\u001b[1;33m\u001b[0m\u001b[1;33m\u001b[0m\u001b[0m\n\u001b[0;32m    923\u001b[0m       \u001b[1;31m# run the first trace but we should fail if variables are created.\u001b[0m\u001b[1;33m\u001b[0m\u001b[1;33m\u001b[0m\u001b[0m\n\u001b[1;32m--> 924\u001b[1;33m       \u001b[0mresults\u001b[0m \u001b[1;33m=\u001b[0m \u001b[0mself\u001b[0m\u001b[1;33m.\u001b[0m\u001b[0m_stateful_fn\u001b[0m\u001b[1;33m(\u001b[0m\u001b[1;33m*\u001b[0m\u001b[0margs\u001b[0m\u001b[1;33m,\u001b[0m \u001b[1;33m**\u001b[0m\u001b[0mkwds\u001b[0m\u001b[1;33m)\u001b[0m\u001b[1;33m\u001b[0m\u001b[1;33m\u001b[0m\u001b[0m\n\u001b[0m\u001b[0;32m    925\u001b[0m       \u001b[1;32mif\u001b[0m \u001b[0mself\u001b[0m\u001b[1;33m.\u001b[0m\u001b[0m_created_variables\u001b[0m \u001b[1;32mand\u001b[0m \u001b[1;32mnot\u001b[0m \u001b[0mALLOW_DYNAMIC_VARIABLE_CREATION\u001b[0m\u001b[1;33m:\u001b[0m\u001b[1;33m\u001b[0m\u001b[1;33m\u001b[0m\u001b[0m\n\u001b[0;32m    926\u001b[0m         raise ValueError(\"Creating variables on a non-first call to a function\"\n",
      "\u001b[1;32mC:\\ProgramData\\miniforge3\\lib\\site-packages\\tensorflow\\python\\eager\\function.py\u001b[0m in \u001b[0;36m__call__\u001b[1;34m(self, *args, **kwargs)\u001b[0m\n\u001b[0;32m   3037\u001b[0m       (graph_function,\n\u001b[0;32m   3038\u001b[0m        filtered_flat_args) = self._maybe_define_function(args, kwargs)\n\u001b[1;32m-> 3039\u001b[1;33m     return graph_function._call_flat(\n\u001b[0m\u001b[0;32m   3040\u001b[0m         filtered_flat_args, captured_inputs=graph_function.captured_inputs)  # pylint: disable=protected-access\n\u001b[0;32m   3041\u001b[0m \u001b[1;33m\u001b[0m\u001b[0m\n",
      "\u001b[1;32mC:\\ProgramData\\miniforge3\\lib\\site-packages\\tensorflow\\python\\eager\\function.py\u001b[0m in \u001b[0;36m_call_flat\u001b[1;34m(self, args, captured_inputs, cancellation_manager)\u001b[0m\n\u001b[0;32m   1961\u001b[0m         and executing_eagerly):\n\u001b[0;32m   1962\u001b[0m       \u001b[1;31m# No tape is watching; skip to running the function.\u001b[0m\u001b[1;33m\u001b[0m\u001b[1;33m\u001b[0m\u001b[0m\n\u001b[1;32m-> 1963\u001b[1;33m       return self._build_call_outputs(self._inference_function.call(\n\u001b[0m\u001b[0;32m   1964\u001b[0m           ctx, args, cancellation_manager=cancellation_manager))\n\u001b[0;32m   1965\u001b[0m     forward_backward = self._select_forward_and_backward_functions(\n",
      "\u001b[1;32mC:\\ProgramData\\miniforge3\\lib\\site-packages\\tensorflow\\python\\eager\\function.py\u001b[0m in \u001b[0;36mcall\u001b[1;34m(self, ctx, args, cancellation_manager)\u001b[0m\n\u001b[0;32m    589\u001b[0m       \u001b[1;32mwith\u001b[0m \u001b[0m_InterpolateFunctionError\u001b[0m\u001b[1;33m(\u001b[0m\u001b[0mself\u001b[0m\u001b[1;33m)\u001b[0m\u001b[1;33m:\u001b[0m\u001b[1;33m\u001b[0m\u001b[1;33m\u001b[0m\u001b[0m\n\u001b[0;32m    590\u001b[0m         \u001b[1;32mif\u001b[0m \u001b[0mcancellation_manager\u001b[0m \u001b[1;32mis\u001b[0m \u001b[1;32mNone\u001b[0m\u001b[1;33m:\u001b[0m\u001b[1;33m\u001b[0m\u001b[1;33m\u001b[0m\u001b[0m\n\u001b[1;32m--> 591\u001b[1;33m           outputs = execute.execute(\n\u001b[0m\u001b[0;32m    592\u001b[0m               \u001b[0mstr\u001b[0m\u001b[1;33m(\u001b[0m\u001b[0mself\u001b[0m\u001b[1;33m.\u001b[0m\u001b[0msignature\u001b[0m\u001b[1;33m.\u001b[0m\u001b[0mname\u001b[0m\u001b[1;33m)\u001b[0m\u001b[1;33m,\u001b[0m\u001b[1;33m\u001b[0m\u001b[1;33m\u001b[0m\u001b[0m\n\u001b[0;32m    593\u001b[0m               \u001b[0mnum_outputs\u001b[0m\u001b[1;33m=\u001b[0m\u001b[0mself\u001b[0m\u001b[1;33m.\u001b[0m\u001b[0m_num_outputs\u001b[0m\u001b[1;33m,\u001b[0m\u001b[1;33m\u001b[0m\u001b[1;33m\u001b[0m\u001b[0m\n",
      "\u001b[1;32mC:\\ProgramData\\miniforge3\\lib\\site-packages\\tensorflow\\python\\eager\\execute.py\u001b[0m in \u001b[0;36mquick_execute\u001b[1;34m(op_name, num_outputs, inputs, attrs, ctx, name)\u001b[0m\n\u001b[0;32m     57\u001b[0m   \u001b[1;32mtry\u001b[0m\u001b[1;33m:\u001b[0m\u001b[1;33m\u001b[0m\u001b[1;33m\u001b[0m\u001b[0m\n\u001b[0;32m     58\u001b[0m     \u001b[0mctx\u001b[0m\u001b[1;33m.\u001b[0m\u001b[0mensure_initialized\u001b[0m\u001b[1;33m(\u001b[0m\u001b[1;33m)\u001b[0m\u001b[1;33m\u001b[0m\u001b[1;33m\u001b[0m\u001b[0m\n\u001b[1;32m---> 59\u001b[1;33m     tensors = pywrap_tfe.TFE_Py_Execute(ctx._handle, device_name, op_name,\n\u001b[0m\u001b[0;32m     60\u001b[0m                                         inputs, attrs, num_outputs)\n\u001b[0;32m     61\u001b[0m   \u001b[1;32mexcept\u001b[0m \u001b[0mcore\u001b[0m\u001b[1;33m.\u001b[0m\u001b[0m_NotOkStatusException\u001b[0m \u001b[1;32mas\u001b[0m \u001b[0me\u001b[0m\u001b[1;33m:\u001b[0m\u001b[1;33m\u001b[0m\u001b[1;33m\u001b[0m\u001b[0m\n",
      "\u001b[1;31mResourceExhaustedError\u001b[0m:  OOM when allocating tensor with shape[2500,240,256,64] and type float on /job:localhost/replica:0/task:0/device:CPU:0 by allocator cpu\n\t [[{{node agent/StatefulPartitionedCall/agent/cond_1/then/_297/agent/StatefulPartitionedCall/baseline/StatefulPartitionedCall/baseline/StatefulPartitionedCall/network/StatefulPartitionedCall/conv2d0/StatefulPartitionedCall/conv2d0/BiasAdd}}]]\nHint: If you want to see a list of allocated tensors when OOM happens, add report_tensor_allocations_upon_oom to RunOptions for current allocation info. This isn't available when running in Eager mode.\n [Op:__inference_observe_5011]\n\nFunction call stack:\nobserve\n"
     ]
    }
   ],
   "source": [
    "total_episodes = 100\n",
    "progress_bar = tqdm(range(total_episodes))\n",
    "\n",
    "runner = Runner(agent=agent, environment=environment)\n",
    "\n",
    "for episode_number in progress_bar:\n",
    "    runner.run(num_episodes=1)\n",
    "    progress_bar.set_description(f'Training Progress - Episode')\n",
    "runner.close()"
   ]
  },
  {
   "cell_type": "markdown",
   "metadata": {},
   "source": [
    "### Load Utility Functions"
   ]
  },
  {
   "cell_type": "code",
   "execution_count": null,
   "metadata": {},
   "outputs": [],
   "source": [
    "%run ./fa.intelligence.notebooks/utilities/common/imaging.ipynb"
   ]
  },
  {
   "cell_type": "markdown",
   "metadata": {},
   "source": [
    "### Train a Random Agent\n",
    "An agent that takes random steps and record the reward."
   ]
  },
  {
   "cell_type": "code",
   "execution_count": null,
   "metadata": {},
   "outputs": [],
   "source": [
    "env = gym_super_mario_bros.make('SuperMarioBros-v0')\n",
    "env = JoypadSpace(env, SIMPLE_MOVEMENT)"
   ]
  },
  {
   "cell_type": "code",
   "execution_count": null,
   "metadata": {},
   "outputs": [],
   "source": [
    "state = env.reset()\n",
    "done = False\n",
    "random_agent_reward = 0\n",
    "random_frames = []\n",
    "\n",
    "while not done:\n",
    "    state, reward, done, info = env.step(env.action_space.sample())\n",
    "    random_agent_reward += reward\n",
    "    random_frames.append(rgb_array_to_image(state))\n",
    "    \n",
    "print(f'[RANDOM_AGENT] Reward: {random_agent_reward}')"
   ]
  },
  {
   "cell_type": "code",
   "execution_count": null,
   "metadata": {},
   "outputs": [],
   "source": [
    "#Create a wrapped environment of the OpenAI Gym environment we defined higher up.\n",
    "env = gym_super_mario_bros.make('SuperMarioBros-v0')\n",
    "env = JoypadSpace(env, SIMPLE_MOVEMENT)\n",
    "environment = Environment.create(environment=env)"
   ]
  },
  {
   "cell_type": "markdown",
   "metadata": {},
   "source": [
    "### Load Trained Model"
   ]
  },
  {
   "cell_type": "code",
   "execution_count": null,
   "metadata": {},
   "outputs": [],
   "source": [
    "env = gym_super_mario_bros.make('SuperMarioBros-v0')\n",
    "env = JoypadSpace(env, SIMPLE_MOVEMENT)\n",
    "environment = Environment.create(environment=env)\n",
    "agent = Agent.load(directory='data/models/mario_tf_ddqn', format='checkpoint', environment=environment)\n",
    "\n",
    "running_reward = 0\n",
    "internals = agent.initial_internals()\n",
    "done = False\n",
    "states = environment.reset()\n",
    "frames = []\n",
    "\n",
    "while not done:\n",
    "    actions = agent.act(states=states, internals=internals, independent=True)\n",
    "    states, done, reward = environment.execute(actions=actions)\n",
    "    running_reward += reward\n",
    "    frames.append(rgb_array_to_image(states))\n",
    "\n",
    "agent.close()\n",
    "environment.close()"
   ]
  },
  {
   "cell_type": "markdown",
   "metadata": {},
   "source": [
    "### Visualize It's \"Intellgent\" Actions"
   ]
  },
  {
   "cell_type": "code",
   "execution_count": null,
   "metadata": {},
   "outputs": [],
   "source": [
    "import base64\n",
    "from IPython.display import HTML"
   ]
  },
  {
   "cell_type": "code",
   "execution_count": null,
   "metadata": {},
   "outputs": [],
   "source": [
    "random_result_gif = images_to_gif_bytes(random_frames)\n",
    "result_gif = images_to_gif_bytes(frames)"
   ]
  },
  {
   "cell_type": "code",
   "execution_count": null,
   "metadata": {},
   "outputs": [],
   "source": [
    "experiment_name = 'Tensorforce-OpenAI Mario RL Agent Training Results'\n",
    "\n",
    "# Test data.\n",
    "episodes_html = f'<div style=\"display: inline-block; padding: 15px\"><div style=\"font-weight:bold\">Intelligent Agent</div><div style=\"padding: 5px\"><img src=\"data:image.gif;base64, {base64.b64encode(result_gif).decode()}\" /></div><div>Reward: {running_reward}</div></div>'\n",
    "episodes_html += f'<div style=\"display: inline-block; padding: 15px\"><div style=\"font-weight:bold\">Random Agent</div><div style=\"padding: 5px\"><img src=\"data:image.gif;base64, {base64.b64encode(random_result_gif).decode()}\" /></div><div>Reward: {random_agent_reward}</div></div>'\n",
    "HTML(f'<h1 style=\"text-align:center\">{experiment_name}</h1><div style=\"text-align: center\">{episodes_html}</div><footer style=\"text-align: center; padding: 15px\">FrostAura Intelligence</footer>')"
   ]
  },
  {
   "cell_type": "code",
   "execution_count": null,
   "metadata": {},
   "outputs": [],
   "source": []
  }
 ],
 "metadata": {
  "kernelspec": {
   "display_name": "Python 3.9 (Tensorflow)",
   "language": "python",
   "name": "tensorflow-gpu"
  },
  "orig_nbformat": 4
 },
 "nbformat": 4,
 "nbformat_minor": 2
}
