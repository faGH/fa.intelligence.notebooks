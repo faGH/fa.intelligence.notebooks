{
 "cells": [
  {
   "cell_type": "markdown",
   "metadata": {},
   "source": [
    "# Artificial Intelligence for Games\n",
    "- [Udemy Course](https://derivco.udemy.com/course/artificial-intelligence-for-simple-games/)"
   ]
  },
  {
   "cell_type": "markdown",
   "metadata": {},
   "source": [
    "### Environment Setup"
   ]
  },
  {
   "cell_type": "code",
   "execution_count": 197,
   "metadata": {},
   "outputs": [],
   "source": [
    "%run ../../../utilities/reinforcement_learning/environments/crypto_pair_trading_environment.ipynb"
   ]
  },
  {
   "cell_type": "code",
   "execution_count": 198,
   "metadata": {},
   "outputs": [],
   "source": [
    "import pickle"
   ]
  },
  {
   "cell_type": "code",
   "execution_count": 199,
   "metadata": {},
   "outputs": [],
   "source": [
    "model_file_path = '../../market_trading/data/featurized_market_data.p' #'./data/featurized_market_data.p' \n",
    "\n",
    "with open(model_file_path, 'rb') as fp:\n",
    "    featurized_market_data = pickle.load(fp)"
   ]
  },
  {
   "cell_type": "code",
   "execution_count": 200,
   "metadata": {},
   "outputs": [],
   "source": [
    "pair_name = 'AAVE_BTC'\n",
    "pair_data = featurized_market_data[pair_name]\n",
    "\n",
    "# This dataset contains open, close, high, low, volume and any numerical features / indicators you like.\n",
    "price_movement_df = pair_data"
   ]
  },
  {
   "cell_type": "code",
   "execution_count": 201,
   "metadata": {},
   "outputs": [],
   "source": [
    "env = CryptoPairTradingEnv(pair_data, pair_name)"
   ]
  },
  {
   "cell_type": "markdown",
   "metadata": {},
   "source": [
    "### Genetic Algorithms"
   ]
  },
  {
   "cell_type": "markdown",
   "metadata": {},
   "source": [
    "#### Imports"
   ]
  },
  {
   "cell_type": "code",
   "execution_count": 202,
   "metadata": {},
   "outputs": [],
   "source": [
    "import numpy as np"
   ]
  },
  {
   "cell_type": "markdown",
   "metadata": {},
   "source": [
    "#### Configuration"
   ]
  },
  {
   "cell_type": "markdown",
   "metadata": {},
   "source": [
    "#### Utilities"
   ]
  },
  {
   "cell_type": "code",
   "execution_count": 203,
   "metadata": {},
   "outputs": [],
   "source": [
    "class DNA():\n",
    "    def __init__(self, dna, dna_length, default_gene=0):\n",
    "        self.dna = dna.copy()\n",
    "        self.dna_length = dna_length\n",
    "        self.default_gene = default_gene\n",
    "        \n",
    "        while len(self.dna) < dna_length:\n",
    "            self.dna.append(default_gene)\n",
    "            \n",
    "    def crossover(self, dna2, min_gene_value, max_gene_value, mutation_rate=0.1):\n",
    "        new_dna_sequence = []\n",
    "        \n",
    "        # Simple cross-over function based on a 50% probability to take either parent's genes.\n",
    "        for gene_index in range(self.dna_length):\n",
    "            if np.random.rand() <= 0.5:\n",
    "                new_dna_sequence.append(self.dna[gene_index])\n",
    "            else:\n",
    "                new_dna_sequence.append(dna2.dna[gene_index])\n",
    "                \n",
    "        # Mutation\n",
    "        for gene_index in range(self.dna_length):\n",
    "            if np.random.rand() <= mutation_rate:\n",
    "                new_dna_sequence[gene_index] = np.random.randint(low=min_gene_value, high=(max_gene_value + 1))\n",
    "        \n",
    "        return DNA(new_dna_sequence, self.dna_length, self.default_gene)"
   ]
  },
  {
   "cell_type": "code",
   "execution_count": 204,
   "metadata": {},
   "outputs": [],
   "source": [
    "class EnvironmentActionOptimizer():\n",
    "    def __init__(self, env, population_size=100):\n",
    "        self.population_size = population_size\n",
    "        self.env = env\n",
    "        self.reset()\n",
    "        \n",
    "    def generate_population(self, population_size):\n",
    "        print(f'Generating a population size of {population_size}.')\n",
    "        \n",
    "        population = []\n",
    "        \n",
    "        for index in range(population_size):\n",
    "            state = env.reset()\n",
    "            done = False\n",
    "            actions = []\n",
    "            \n",
    "            while not done:\n",
    "                action = env.action_space.sample()\n",
    "                state, reward, done, info = env.step(action)\n",
    "                actions.append(action)\n",
    "                \n",
    "            population.append(DNA(actions, env.data.shape[0] - 1))\n",
    "            \n",
    "        return population\n",
    "\n",
    "    def reset(self):\n",
    "        self.population = self.generate_population(self.population_size)"
   ]
  },
  {
   "cell_type": "code",
   "execution_count": 205,
   "metadata": {},
   "outputs": [
    {
     "name": "stdout",
     "output_type": "stream",
     "text": [
      "Generating a population size of 100.\n"
     ]
    },
    {
     "name": "stderr",
     "output_type": "stream",
     "text": [
      "C:\\Users\\divanma\\.conda\\envs\\windows-ml-station\\lib\\site-packages\\pandas\\core\\indexing.py:1817: SettingWithCopyWarning: \n",
      "A value is trying to be set on a copy of a slice from a DataFrame.\n",
      "Try using .loc[row_indexer,col_indexer] = value instead\n",
      "\n",
      "See the caveats in the documentation: https://pandas.pydata.org/pandas-docs/stable/user_guide/indexing.html#returning-a-view-versus-a-copy\n",
      "  self._setitem_single_column(loc, value, pi)\n"
     ]
    }
   ],
   "source": [
    "optimizer = EnvironmentActionOptimizer(env)"
   ]
  },
  {
   "cell_type": "code",
   "execution_count": 206,
   "metadata": {},
   "outputs": [],
   "source": [
    "crossed_over_dna = optimizer.population[0].crossover(optimizer.population[1], min_gene_value=min([key.value for key in Actions]), max_gene_value=max([key.value for key in Actions]))"
   ]
  },
  {
   "cell_type": "code",
   "execution_count": null,
   "metadata": {},
   "outputs": [],
   "source": []
  }
 ],
 "metadata": {
  "interpreter": {
   "hash": "2c96ffff15f49694e20d6af92a59f54c1cf6ff4da4eb0cf9141168fba41748bf"
  },
  "kernelspec": {
   "display_name": "Python 3.9.7 64-bit ('windows-ml-station': conda)",
   "name": "python3"
  },
  "language_info": {
   "codemirror_mode": {
    "name": "ipython",
    "version": 3
   },
   "file_extension": ".py",
   "mimetype": "text/x-python",
   "name": "python",
   "nbconvert_exporter": "python",
   "pygments_lexer": "ipython3",
   "version": "3.9.7"
  },
  "orig_nbformat": 4
 },
 "nbformat": 4,
 "nbformat_minor": 2
}
