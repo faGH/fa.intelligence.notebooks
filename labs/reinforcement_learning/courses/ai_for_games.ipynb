{
 "cells": [
  {
   "cell_type": "markdown",
   "metadata": {},
   "source": [
    "# Artificial Intelligence for Games\n",
    "- [Udemy Course](https://derivco.udemy.com/course/artificial-intelligence-for-simple-games/)"
   ]
  },
  {
   "cell_type": "markdown",
   "metadata": {},
   "source": [
    "### Environment Setup"
   ]
  },
  {
   "cell_type": "code",
   "execution_count": null,
   "metadata": {},
   "outputs": [],
   "source": [
    "%run ./fa.intelligence.notebooks/utilities/reinforcement_learning/environments/crypto_pair_trading_environment.ipynb"
   ]
  },
  {
   "cell_type": "code",
   "execution_count": null,
   "metadata": {},
   "outputs": [],
   "source": [
    "import pickle"
   ]
  },
  {
   "cell_type": "code",
   "execution_count": null,
   "metadata": {},
   "outputs": [],
   "source": [
    "model_file_path = './data/featurized_market_data.p' \n",
    "\n",
    "with open(model_file_path, 'rb') as fp:\n",
    "    featurized_market_data = pickle.load(fp)"
   ]
  },
  {
   "cell_type": "code",
   "execution_count": null,
   "metadata": {},
   "outputs": [],
   "source": [
    "pair_name = 'AAVE_BTC'\n",
    "pair_data = featurized_market_data[pair_name]\n",
    "\n",
    "# This dataset contains open, close, high, low, volume and any numerical features / indicators you like.\n",
    "price_movement_df = pair_data"
   ]
  },
  {
   "cell_type": "code",
   "execution_count": null,
   "metadata": {},
   "outputs": [],
   "source": [
    "env = CryptoPairTradingEnv(pair_data, pair_name)"
   ]
  },
  {
   "cell_type": "markdown",
   "metadata": {},
   "source": [
    "### Genetic Algorithms"
   ]
  },
  {
   "cell_type": "markdown",
   "metadata": {},
   "source": [
    "#### Imports"
   ]
  },
  {
   "cell_type": "code",
   "execution_count": null,
   "metadata": {},
   "outputs": [],
   "source": [
    "import time\n",
    "import matplotlib.pyplot as plt\n",
    "%matplotlib inline\n",
    "import numpy as np\n",
    "from IPython import display"
   ]
  },
  {
   "cell_type": "markdown",
   "metadata": {},
   "source": [
    "#### Configuration"
   ]
  },
  {
   "cell_type": "markdown",
   "metadata": {},
   "source": [
    "#### Utilities"
   ]
  },
  {
   "cell_type": "code",
   "execution_count": null,
   "metadata": {},
   "outputs": [],
   "source": [
    "class Chromosome():\n",
    "    def __init__(self, genes, genome_length, fitness=0, default_gene=0):\n",
    "        self.genes = genes.copy()\n",
    "        self.genome_length = genome_length\n",
    "        self.default_gene = default_gene\n",
    "        self.fitness = fitness\n",
    "        \n",
    "        while len(self.genes) < genome_length:\n",
    "            self.genes.append(default_gene)\n",
    "            \n",
    "    def crossover(self, mate, min_gene_value, max_gene_value, mutation_rate=0.1):\n",
    "        offspring_genes = []\n",
    "        \n",
    "        # Simple cross-over function based on a 50% probability to take either parent's genes.\n",
    "        for gene_index in range(self.genome_length):\n",
    "            if np.random.rand() <= 0.5:\n",
    "                offspring_genes.append(self.genes[gene_index])\n",
    "            else:\n",
    "                offspring_genes.append(mate.genes[gene_index])\n",
    "                \n",
    "        # Mutation\n",
    "        for gene_index in range(self.genome_length):\n",
    "            if np.random.rand() <= mutation_rate:\n",
    "                offspring_genes[gene_index] = np.random.randint(low=min_gene_value, high=(max_gene_value + 1))\n",
    "        \n",
    "        return Chromosome(offspring_genes, self.genome_length, self.default_gene)"
   ]
  },
  {
   "cell_type": "code",
   "execution_count": null,
   "metadata": {},
   "outputs": [],
   "source": [
    "class GeneticEnvOptimizer():\n",
    "    def __init__(self, env, min_gene_value, max_gene_value, population_size=100):\n",
    "        self.population_size = population_size\n",
    "        self.env = env\n",
    "        self.min_gene_value = min_gene_value\n",
    "        self.max_gene_value = max_gene_value\n",
    "        self.__reset__()\n",
    "\n",
    "    def __reset__(self):\n",
    "        self.population = self.__generate_population__(self.population_size)\n",
    "\n",
    "    def __generate_population__(self, population_size):\n",
    "        print(f'Generating a population size of {population_size}.')\n",
    "        \n",
    "        population = []\n",
    "        \n",
    "        for index in range(population_size):\n",
    "            state = env.reset()\n",
    "            done = False\n",
    "            actions = []\n",
    "            episode_reward = 0\n",
    "            \n",
    "            while not done:\n",
    "                action = env.action_space.sample()\n",
    "                state, reward, done, info = env.step(action)\n",
    "                episode_reward += reward\n",
    "                actions.append(action)\n",
    "                \n",
    "            population.append(Chromosome(actions, env.data.shape[0] - 1, fitness=episode_reward))\n",
    "            \n",
    "        return population\n",
    "\n",
    "    def __calculate_population_fitness__(self, population):\n",
    "        for genome in population:\n",
    "            state = env.reset()\n",
    "            done = False\n",
    "            actions = []\n",
    "            episode_reward = 0\n",
    "            \n",
    "            while not done:\n",
    "                action = env.action_space.sample()\n",
    "                state, reward, done, info = env.step(action)\n",
    "                episode_reward += reward\n",
    "                actions.append(action)\n",
    "                \n",
    "            genome.fitness = episode_reward\n",
    "\n",
    "    def __genome_sorting_key__(self, genome):\n",
    "        return genome.fitness\n",
    "\n",
    "    def __population_by_highest_fitness_in_place__(self):\n",
    "        self.population.sort(key=self.__genome_sorting_key__, reverse=True)\n",
    "\n",
    "    def __perform_selection__(self, population):\n",
    "        new_population = []\n",
    "        \n",
    "        for left_parent_genome in population:\n",
    "            for right_parent_genome in population:\n",
    "                new_population.append(left_parent_genome.crossover(right_parent_genome, min_gene_value=self.min_gene_value, max_gene_value=self.max_gene_value))\n",
    "        \n",
    "        self.__calculate_population_fitness__(new_population)\n",
    "        new_population.sort(key=self.__genome_sorting_key__, reverse=True)\n",
    "        return new_population[:self.population_size]\n",
    "\n",
    "    def optimize(self, is_initial_run=False):\n",
    "        if is_initial_run:\n",
    "            self.__reset__()\n",
    "\n",
    "        self.__population_by_highest_fitness_in_place__()\n",
    "        offspring = self.__perform_selection__(self.population)\n",
    "        self.population = self.population[:3] + offspring[3:len(offspring)-3]"
   ]
  },
  {
   "cell_type": "code",
   "execution_count": null,
   "metadata": {},
   "outputs": [],
   "source": [
    "optimizer = GeneticEnvOptimizer(env, population_size=25, min_gene_value=min([ key.value for key in Actions ]), max_gene_value=max([ key.value for key in Actions ]))\n",
    "generations = 50000\n",
    "fitness_scores = []\n",
    "\n",
    "for generation_index in range(generations):\n",
    "    optimizer.optimize()#is_initial_run=generation_index==0)\n",
    "    fitness_scores.append(optimizer.population[0].fitness)\n",
    "    fig, (ax1) = plt.subplots(1)\n",
    "    ax1.plot(fitness_scores)\n",
    "    ax1.set_xlabel('Generation')\n",
    "    ax1.set_ylabel('Fitness')\n",
    "    display.clear_output(wait=True)\n",
    "    display.display(plt.gcf())"
   ]
  }
 ],
 "metadata": {
  "interpreter": {
   "hash": "2c96ffff15f49694e20d6af92a59f54c1cf6ff4da4eb0cf9141168fba41748bf"
  },
  "kernelspec": {
   "display_name": "Python 3.9 (Tensorflow)",
   "language": "python",
   "name": "tensorflow-gpu"
  },
  "language_info": {
   "codemirror_mode": {
    "name": "ipython",
    "version": 3
   },
   "file_extension": ".py",
   "mimetype": "text/x-python",
   "name": "python",
   "nbconvert_exporter": "python",
   "pygments_lexer": "ipython3",
   "version": "3.9.7"
  },
  "orig_nbformat": 4
 },
 "nbformat": 4,
 "nbformat_minor": 2
}
