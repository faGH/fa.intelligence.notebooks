{
 "cells": [
  {
   "cell_type": "markdown",
   "metadata": {},
   "source": [
    "# Install Dependencies"
   ]
  },
  {
   "cell_type": "code",
   "execution_count": 123,
   "metadata": {},
   "outputs": [
    {
     "name": "stdout",
     "output_type": "stream",
     "text": [
      "\u001b[33mWARNING: Ignoring invalid distribution -ip (/Users/deanmartin/miniforge3/envs/pytorch/lib/python3.9/site-packages)\u001b[0m\u001b[33m\n",
      "\u001b[0m\u001b[33mWARNING: Ignoring invalid distribution -ip (/Users/deanmartin/miniforge3/envs/pytorch/lib/python3.9/site-packages)\u001b[0m\u001b[33m\n",
      "\u001b[0mRequirement already satisfied: beautifulsoup4 in /Users/deanmartin/miniforge3/envs/pytorch/lib/python3.9/site-packages (4.11.1)\n",
      "Requirement already satisfied: yfinance in /Users/deanmartin/miniforge3/envs/pytorch/lib/python3.9/site-packages (0.1.74)\n",
      "Requirement already satisfied: soupsieve>1.2 in /Users/deanmartin/miniforge3/envs/pytorch/lib/python3.9/site-packages (from beautifulsoup4) (2.3.2.post1)\n",
      "Requirement already satisfied: numpy>=1.15 in /Users/deanmartin/miniforge3/envs/pytorch/lib/python3.9/site-packages (from yfinance) (1.23.1)\n",
      "Requirement already satisfied: requests>=2.26 in /Users/deanmartin/miniforge3/envs/pytorch/lib/python3.9/site-packages (from yfinance) (2.28.1)\n",
      "Requirement already satisfied: pandas>=0.24.0 in /Users/deanmartin/miniforge3/envs/pytorch/lib/python3.9/site-packages (from yfinance) (1.4.3)\n",
      "Requirement already satisfied: lxml>=4.5.1 in /Users/deanmartin/miniforge3/envs/pytorch/lib/python3.9/site-packages (from yfinance) (4.9.1)\n",
      "Requirement already satisfied: multitasking>=0.0.7 in /Users/deanmartin/miniforge3/envs/pytorch/lib/python3.9/site-packages (from yfinance) (0.0.11)\n",
      "Requirement already satisfied: pytz>=2020.1 in /Users/deanmartin/miniforge3/envs/pytorch/lib/python3.9/site-packages (from pandas>=0.24.0->yfinance) (2022.1)\n",
      "Requirement already satisfied: python-dateutil>=2.8.1 in /Users/deanmartin/miniforge3/envs/pytorch/lib/python3.9/site-packages (from pandas>=0.24.0->yfinance) (2.8.2)\n",
      "Requirement already satisfied: urllib3<1.27,>=1.21.1 in /Users/deanmartin/miniforge3/envs/pytorch/lib/python3.9/site-packages (from requests>=2.26->yfinance) (1.26.10)\n",
      "Requirement already satisfied: certifi>=2017.4.17 in /Users/deanmartin/miniforge3/envs/pytorch/lib/python3.9/site-packages (from requests>=2.26->yfinance) (2022.6.15)\n",
      "Requirement already satisfied: charset-normalizer<3,>=2 in /Users/deanmartin/miniforge3/envs/pytorch/lib/python3.9/site-packages (from requests>=2.26->yfinance) (2.1.0)\n",
      "Requirement already satisfied: idna<4,>=2.5 in /Users/deanmartin/miniforge3/envs/pytorch/lib/python3.9/site-packages (from requests>=2.26->yfinance) (3.3)\n",
      "Requirement already satisfied: six>=1.5 in /Users/deanmartin/miniforge3/envs/pytorch/lib/python3.9/site-packages (from python-dateutil>=2.8.1->pandas>=0.24.0->yfinance) (1.16.0)\n",
      "\u001b[33mWARNING: Ignoring invalid distribution -ip (/Users/deanmartin/miniforge3/envs/pytorch/lib/python3.9/site-packages)\u001b[0m\u001b[33m\n",
      "\u001b[0m\u001b[33mWARNING: Ignoring invalid distribution -ip (/Users/deanmartin/miniforge3/envs/pytorch/lib/python3.9/site-packages)\u001b[0m\u001b[33m\n",
      "\u001b[0m\u001b[33mWARNING: Ignoring invalid distribution -ip (/Users/deanmartin/miniforge3/envs/pytorch/lib/python3.9/site-packages)\u001b[0m\u001b[33m\n",
      "\u001b[0m\u001b[33mWARNING: Ignoring invalid distribution -ip (/Users/deanmartin/miniforge3/envs/pytorch/lib/python3.9/site-packages)\u001b[0m\u001b[33m\n",
      "\u001b[0m"
     ]
    }
   ],
   "source": [
    "!python -m pip install beautifulsoup4 yfinance"
   ]
  },
  {
   "cell_type": "markdown",
   "metadata": {},
   "source": [
    "# Import Components"
   ]
  },
  {
   "cell_type": "code",
   "execution_count": 124,
   "metadata": {},
   "outputs": [],
   "source": [
    "%run ./../../components/data_access/html_data_access.py"
   ]
  },
  {
   "cell_type": "code",
   "execution_count": 125,
   "metadata": {},
   "outputs": [],
   "source": [
    "%run ./../../components/data_access/easy_equities_data_access.py"
   ]
  },
  {
   "cell_type": "code",
   "execution_count": 126,
   "metadata": {},
   "outputs": [],
   "source": [
    "%run ./../../components/data_access/yahoo_finance_data_access.py"
   ]
  },
  {
   "cell_type": "code",
   "execution_count": 127,
   "metadata": {},
   "outputs": [],
   "source": [
    "%run ./../../components/engines/valuation_engine.py"
   ]
  },
  {
   "cell_type": "code",
   "execution_count": 128,
   "metadata": {},
   "outputs": [],
   "source": [
    "html_data_access = HtmlDataAccess()\n",
    "easy_equities_data_acsess = EasyEquitiesDataAccess()\n",
    "yahoo_finance_data_access = YahooFinanceDataAccess()\n",
    "valuation_engine = ValuationEngine(html_data_access=html_data_access)"
   ]
  },
  {
   "cell_type": "code",
   "execution_count": 129,
   "metadata": {},
   "outputs": [
    {
     "name": "stdout",
     "output_type": "stream",
     "text": [
      "EPS: 6.05, EPS Next 5 Years: 0.0983%\n",
      "P/E Ratio: 26.42, Current Price: $ 164.87\n",
      "Intrinsic Value: $ 122.95461538461537 vs. Current Price: $ 164.87\n"
     ]
    },
    {
     "data": {
      "text/plain": [
       "{'symbol': 'AAPL',\n",
       " 'company_name': 'Test',\n",
       " 'current_price': 164.87,\n",
       " 'valuation_price': 122.95461538461537,\n",
       " 'absolute_current_v_valuation_delta': 0.25423293877227293,\n",
       " 'is_overvalued': True,\n",
       " 'annual_dividend_percentage': 0.56,\n",
       " 'purchased_price': None}"
      ]
     },
     "execution_count": 129,
     "metadata": {},
     "output_type": "execute_result"
    }
   ],
   "source": [
    "vars(valuation_engine.valuate(company_name='Test', symbol='AAPL'))"
   ]
  },
  {
   "cell_type": "markdown",
   "metadata": {},
   "source": [
    "# Import Dependencies"
   ]
  },
  {
   "cell_type": "code",
   "execution_count": 130,
   "metadata": {},
   "outputs": [],
   "source": [
    "import matplotlib.pyplot as plt\n",
    "import matplotlib.ticker as mtick\n",
    "import pandas as pd\n",
    "from datetime import datetime, timedelta"
   ]
  },
  {
   "cell_type": "markdown",
   "metadata": {},
   "source": [
    "# Implementation"
   ]
  },
  {
   "cell_type": "code",
   "execution_count": 131,
   "metadata": {},
   "outputs": [],
   "source": [
    "def get_plot_for_symbol(symbol: str,\n",
    "                        symbol_data: pd.DataFrame,\n",
    "                        valuation: ValuationResult,\n",
    "                        transactions: list = list(), \n",
    "                        fontsize: int = 7) -> object:\n",
    "    \n",
    "    if len(transactions) > 0:\n",
    "        transactions_by_date = sorted(transactions, key=lambda i: i['date'])\n",
    "        symbol_data = symbol_data.loc[transactions_by_date[0]['date']:]\n",
    "        valuation.purchased_price = symbol_data.Close.values[0]\n",
    "    \n",
    "    with plt.rc_context({\n",
    "            'lines.linewidth': 0.75,\n",
    "            'figure.figsize': (6, 3)\n",
    "        }):\n",
    "        data_to_visualize = symbol_data.Close\n",
    "        fig, axs = plt.subplots(1, dpi=600, layout='constrained')\n",
    "        plot = data_to_visualize.plot(ax=axs, color='r' if symbol_data.iloc[0].Close > symbol_data.iloc[-1].Close else 'g', fontsize=fontsize)\n",
    "        mid = (fig.subplotpars.right + fig.subplotpars.left)/2\n",
    "        fig.suptitle(f'{symbol}', fontsize=fontsize+2, x=mid)\n",
    "        \n",
    "        if valuation.annual_dividend_percentage is not None:\n",
    "            #axs[0]\n",
    "            axs.set_title(f'Annual Dividend Yield: {round(valuation.annual_dividend_percentage, 2)}%', fontdict={'fontsize': fontsize, 'fontweight': 'light'})\n",
    "        \n",
    "        plot.set_xlabel('')\n",
    "        plot.set_ylabel('')\n",
    "        \n",
    "        for transaction in sorted(transactions, key=lambda i: i['date']):\n",
    "            plot.axvline(transaction['date'], linestyle='-.', color=('r' if symbol_data._get_value(transaction['date'], 'Close') > valuation.current_price else 'g'))\n",
    "        \n",
    "        tick = mtick.StrMethodFormatter('${x:,.0f}')\n",
    "        valuation_delta: float = round(valuation.absolute_current_v_valuation_delta * 100, 2)\n",
    "        \n",
    "        plot.yaxis.set_major_formatter(tick)\n",
    "        # Valuation price.\n",
    "        plot.axhline(valuation.valuation_price, color='r' if valuation.valuation_price < symbol_data.iloc[-1].Close else 'g', linestyle='--', label=f'Valuation (${round(valuation.valuation_price, 2)} | Δ{valuation_delta}%)')\n",
    "        \n",
    "        # t-1day\n",
    "        plot.axvline(datetime.now() - timedelta(days=1), linestyle='-.', color='y')\n",
    "        # t-7days\n",
    "        if symbol_data.shape[0] > 7:\n",
    "            plot.axvline(datetime.now() - timedelta(days=7), linestyle='-.', color='y')\n",
    "        # t-30days\n",
    "        if symbol_data.shape[0] > 30:\n",
    "            plot.axvline(datetime.now() - timedelta(days=30), linestyle='-.', color='y')\n",
    "        # t-6months\n",
    "        if symbol_data.shape[0] > 30*6:\n",
    "            plot.axvline(datetime.now() - timedelta(days=30*6), linestyle='-.', color='y')\n",
    "        # t-1year\n",
    "        if symbol_data.shape[0] > 365:\n",
    "            plot.axvline(datetime.now() - timedelta(days=365), linestyle='-.', color='y')\n",
    "        # t-5years\n",
    "        if symbol_data.shape[0] > (365*5):\n",
    "            plot.axvline(datetime.now() - timedelta(days=365*5), linestyle='-.', color='y')\n",
    "        # t-10years\n",
    "        if symbol_data.shape[0] > 365*10:\n",
    "            plot.axvline(datetime.now() - timedelta(days=365*10), linestyle='-.', color='y')\n",
    "        \n",
    "        handles, labels = plot.get_legend_handles_labels()\n",
    "        first_value: float = symbol_data.iloc[0].Close\n",
    "        current_price: float = symbol_data.iloc[-1].Close\n",
    "        delta_since_purchase: float = round(100 - min(current_price, first_value) / max(current_price, first_value) * 100, 2)\n",
    "        labels[0] = f'{labels[0]} (${round(current_price, 2)} | Δ{delta_since_purchase}%)'\n",
    "        plot.legend(handles=handles[:], labels=labels[:], fontsize=fontsize)\n",
    "\n",
    "        return plot"
   ]
  },
  {
   "cell_type": "markdown",
   "metadata": {},
   "source": [
    "# Usage"
   ]
  },
  {
   "cell_type": "code",
   "execution_count": 132,
   "metadata": {},
   "outputs": [
    {
     "name": "stdout",
     "output_type": "stream",
     "text": [
      "EPS: 8.33, EPS Next 5 Years: 0.5189%\n",
      "P/E Ratio: 77.905, Current Price: $ 871.27\n",
      "Intrinsic Value: $ 499.19126923076914 vs. Current Price: $ 871.27\n",
      "EPS: 6.05, EPS Next 5 Years: 0.0983%\n",
      "P/E Ratio: 26.42, Current Price: $ 164.87\n",
      "Intrinsic Value: $ 122.95461538461537 vs. Current Price: $ 164.87\n",
      "EPS: 2.0, EPS Next 5 Years: 0.3%\n",
      "P/E Ratio: 38.714999999999996, Current Price: $ 13.24\n",
      "Intrinsic Value: $ 59.56153846153846 vs. Current Price: $ 13.24\n",
      "EPS: 2.69, EPS Next 5 Years: 0.0403%\n",
      "P/E Ratio: 8.945, Current Price: $ 10.6\n",
      "Intrinsic Value: $ 18.50926923076923 vs. Current Price: $ 10.6\n",
      "EPS: 2.0, EPS Next 5 Years: 0.3%\n",
      "P/E Ratio: 38.714999999999996, Current Price: $ 13.24\n",
      "Intrinsic Value: $ 59.56153846153846 vs. Current Price: $ 13.24\n",
      "EPS: 7.15, EPS Next 5 Years: 0.004%\n",
      "P/E Ratio: 17.215, Current Price: $ 148.48\n",
      "Intrinsic Value: $ 94.68250000000002 vs. Current Price: $ 148.48\n",
      "EPS: 1.12, EPS Next 5 Years: 0.12%\n",
      "P/E Ratio: 41.04, Current Price: $ 61.78\n",
      "Intrinsic Value: $ 35.35753846153846 vs. Current Price: $ 61.78\n",
      "EPS: 4.81, EPS Next 5 Years: 0.11%\n",
      "P/E Ratio: 22.965, Current Price: $ 109.0\n",
      "Intrinsic Value: $ 84.97049999999999 vs. Current Price: $ 109.0\n",
      "EPS: 6.97, EPS Next 5 Years: -0.0027%\n",
      "P/E Ratio: 16.0, Current Price: $ 140.34\n",
      "EPS: 10.31, EPS Next 5 Years: 0.1267%\n",
      "P/E Ratio: 27.950000000000003, Current Price: $ 310.33\n",
      "Intrinsic Value: $ 221.66499999999994 vs. Current Price: $ 310.33\n",
      "EPS: 2.39, EPS Next 5 Years: 0.1085%\n",
      "P/E Ratio: 27.525, Current Price: $ 81.0\n",
      "Intrinsic Value: $ 50.60365384615385 vs. Current Price: $ 81.0\n",
      "EPS: 10.24, EPS Next 5 Years: 0.1423%\n",
      "P/E Ratio: 34.9, Current Price: $ 434.34\n",
      "Intrinsic Value: $ 274.9046153846153 vs. Current Price: $ 434.34\n",
      "EPS: 2.38, EPS Next 5 Years: 0.268%\n",
      "P/E Ratio: 31.174999999999997, Current Price: $ 100.07\n",
      "Intrinsic Value: $ 57.07423076923076 vs. Current Price: $ 100.07\n",
      "EPS: 1.99, EPS Next 5 Years: 0.1524%\n",
      "P/E Ratio: 27.115000000000002, Current Price: $ 70.98\n",
      "Intrinsic Value: $ 41.50680769230769 vs. Current Price: $ 70.98\n",
      "EPS: 1.77, EPS Next 5 Years: 0.0039000000000000003%\n",
      "P/E Ratio: 22.770000000000003, Current Price: $ 45.0\n",
      "Intrinsic Value: $ 31.002230769230774 vs. Current Price: $ 45.0\n",
      "EPS: 10.03, EPS Next 5 Years: 0.1198%\n",
      "P/E Ratio: 24.384999999999998, Current Price: $ 261.77\n",
      "Intrinsic Value: $ 188.13965384615378 vs. Current Price: $ 261.77\n",
      "EPS: 1.83, EPS Next 5 Years: 0.4595%\n",
      "P/E Ratio: 54.775, Current Price: $ 115.82\n",
      "Intrinsic Value: $ 77.10634615384615 vs. Current Price: $ 115.82\n",
      "EPS: 3.72, EPS Next 5 Years: 0.1066%\n",
      "P/E Ratio: 20.945, Current Price: $ 96.38\n",
      "Intrinsic Value: $ 59.93492307692308 vs. Current Price: $ 96.38\n",
      "EPS: 2.22, EPS Next 5 Years: 0.7191%\n",
      "P/E Ratio: 61.085, Current Price: $ 244.84\n",
      "Intrinsic Value: $ 104.31438461538461 vs. Current Price: $ 244.84\n",
      "EPS: 2.17, EPS Next 5 Years: 0.0202%\n",
      "P/E Ratio: 21.67, Current Price: $ 90.84\n",
      "Intrinsic Value: $ 36.17223076923077 vs. Current Price: $ 90.84\n",
      "EPS: 7.8, EPS Next 5 Years: 0.4325%\n",
      "P/E Ratio: 32.8, Current Price: $ 293.06\n",
      "Intrinsic Value: $ 196.79999999999998 vs. Current Price: $ 293.06\n",
      "EPS: 2.79, EPS Next 5 Years: 0.053200000000000004%\n",
      "P/E Ratio: 26.15, Current Price: $ 118.29\n",
      "Intrinsic Value: $ 56.121923076923075 vs. Current Price: $ 118.29\n",
      "EPS: 5.2, EPS Next 5 Years: 0.1365%\n",
      "P/E Ratio: 21.225, Current Price: $ 117.3\n",
      "Intrinsic Value: $ 84.9 vs. Current Price: $ 117.3\n",
      "EPS: 5.77, EPS Next 5 Years: 0.1434%\n",
      "P/E Ratio: 19.365000000000002, Current Price: $ 118.14\n",
      "Intrinsic Value: $ 85.95080769230768 vs. Current Price: $ 118.14\n",
      "EPS: 0.97, EPS Next 5 Years: 0.0426%\n",
      "P/E Ratio: 27.09, Current Price: $ 44.22\n",
      "EPS: 1.11, EPS Next 5 Years: 0.3325%\n",
      "P/E Ratio: 92.435, Current Price: $ 139.41\n",
      "Intrinsic Value: $ 78.92526923076922 vs. Current Price: $ 139.41\n",
      "EPS: 9.75, EPS Next 5 Years: 0.14%\n",
      "P/E Ratio: 15.035, Current Price: $ 157.28\n",
      "Intrinsic Value: $ 112.7625 vs. Current Price: $ 157.28\n",
      "EPS: 11.59, EPS Next 5 Years: 0.1151%\n",
      "P/E Ratio: 6.405, Current Price: $ 52.27\n",
      "Intrinsic Value: $ 57.103038461538475 vs. Current Price: $ 52.27\n",
      "EPS: 6.08, EPS Next 5 Years: 0.105%\n",
      "P/E Ratio: 50.05, Current Price: $ 273.0\n",
      "Intrinsic Value: $ 234.08 vs. Current Price: $ 273.0\n",
      "EPS: 7.14, EPS Next 5 Years: 0.083%\n",
      "P/E Ratio: 26.92, Current Price: $ 155.15\n",
      "Intrinsic Value: $ 147.8529230769231 vs. Current Price: $ 155.15\n",
      "EPS: 4.7, EPS Next 5 Years: -0.012%\n",
      "P/E Ratio: 24.075, Current Price: $ 125.66\n",
      "EPS: 11.8, EPS Next 5 Years: 0.0755%\n",
      "P/E Ratio: 17.05, Current Price: $ 247.29\n",
      "Intrinsic Value: $ 154.76153846153846 vs. Current Price: $ 247.29\n",
      "EPS: 3.52, EPS Next 5 Years: 0.16570000000000001%\n",
      "P/E Ratio: 33.93, Current Price: $ 175.86\n",
      "Intrinsic Value: $ 91.872 vs. Current Price: $ 175.86\n",
      "EPS: 2.52, EPS Next 5 Years: -0.049800000000000004%\n",
      "P/E Ratio: 4.745, Current Price: $ 6.62\n",
      "EPS: 0.68, EPS Next 5 Years: 0.062%\n",
      "P/E Ratio: 13.03, Current Price: $ 9.73\n",
      "EPS: 6.05, EPS Next 5 Years: 0.0983%\n",
      "P/E Ratio: 26.42, Current Price: $ 164.87\n",
      "Intrinsic Value: $ 122.95461538461537 vs. Current Price: $ 164.87\n",
      "EPS: 7.49, EPS Next 5 Years: 0.1377%\n",
      "P/E Ratio: 13.66, Current Price: $ 107.83\n",
      "Intrinsic Value: $ 78.70261538461537 vs. Current Price: $ 107.83\n",
      "EPS: 6.34, EPS Next 5 Years: 0.092%\n",
      "P/E Ratio: 13.21, Current Price: $ 82.49\n",
      "Intrinsic Value: $ 64.42415384615384 vs. Current Price: $ 82.49\n",
      "EPS: 14.25, EPS Next 5 Years: 0.298%\n",
      "P/E Ratio: 33.97, Current Price: $ 572.75\n",
      "Intrinsic Value: $ 372.36346153846154 vs. Current Price: $ 572.75\n"
     ]
    }
   ],
   "source": [
    "\n",
    "owned_plots = list()\n",
    "should_render_owned_stocks = True\n",
    "\n",
    "if should_render_owned_stocks:\n",
    "    personal_orders = easy_equities_data_acsess.get_personal_transactions()\n",
    "\n",
    "    for symbol in personal_orders:\n",
    "        valuation = valuation_engine.valuate(company_name=personal_orders[symbol]['name'], symbol=symbol)\n",
    "        hist = yahoo_finance_data_access.get_symbol_history(symbol=symbol)\n",
    "        owned_plots.append((get_plot_for_symbol(symbol=f'{valuation.company_name} | {valuation.symbol}',\n",
    "                                symbol_data=hist,\n",
    "                                valuation=valuation,\n",
    "                                transactions=personal_orders[symbol]['transactions']), valuation))\n",
    "\n",
    "    owned_plots = sorted(owned_plots, key=lambda i: i[1].current_price, reverse=True) \n",
    "\n",
    "available_plots = list()\n",
    "should_render_available_stocks = True\n",
    "\n",
    "if should_render_available_stocks:\n",
    "    available_us_stock = easy_equities_data_acsess.get_supported_assets()\n",
    "    \n",
    "    for name, symbol in available_us_stock:\n",
    "        try:\n",
    "            valuation = valuation_engine.valuate(company_name=name, symbol=symbol)\n",
    "            \n",
    "            if valuation.is_overvalued:\n",
    "                continue\n",
    "            \n",
    "            ticker = yf.Ticker(symbol)\n",
    "            hist = yahoo_finance_data_access.get_symbol_history(symbol=symbol)\n",
    "            available_plots.append((get_plot_for_symbol(symbol=f'{valuation.company_name} | {valuation.symbol}',\n",
    "                                    symbol_data=hist,\n",
    "                                    valuation=valuation), valuation))\n",
    "        except Exception:\n",
    "            pass\n",
    "\n",
    "    available_plots = sorted(available_plots, key=lambda i: i[1].current_price, reverse=True) "
   ]
  }
 ],
 "metadata": {
  "kernelspec": {
   "display_name": "Python 3.9.13 ('pytorch')",
   "language": "python",
   "name": "python3"
  },
  "language_info": {
   "codemirror_mode": {
    "name": "ipython",
    "version": 3
   },
   "file_extension": ".py",
   "mimetype": "text/x-python",
   "name": "python",
   "nbconvert_exporter": "python",
   "pygments_lexer": "ipython3",
   "version": "3.9.13"
  },
  "orig_nbformat": 4,
  "vscode": {
   "interpreter": {
    "hash": "0203f9377e450cf3e5fd498dcfe93bad69687b6515d650e7d79a42aa53323e2d"
   }
  }
 },
 "nbformat": 4,
 "nbformat_minor": 2
}
