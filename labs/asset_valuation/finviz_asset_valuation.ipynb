{
 "cells": [
  {
   "cell_type": "markdown",
   "metadata": {},
   "source": [
    "# Install Dependencies"
   ]
  },
  {
   "cell_type": "code",
   "execution_count": 53,
   "metadata": {},
   "outputs": [
    {
     "name": "stdout",
     "output_type": "stream",
     "text": [
      "Requirement already satisfied: beautifulsoup4 in c:\\users\\divanma\\.conda\\envs\\windows-ml-station\\lib\\site-packages (4.8.2)\n",
      "Collecting yfinance\n",
      "  Using cached yfinance-0.1.74-py2.py3-none-any.whl (27 kB)\n",
      "Requirement already satisfied: soupsieve>=1.2 in c:\\users\\divanma\\.conda\\envs\\windows-ml-station\\lib\\site-packages (from beautifulsoup4) (2.3.1)\n",
      "Requirement already satisfied: pandas>=0.24.0 in c:\\users\\divanma\\.conda\\envs\\windows-ml-station\\lib\\site-packages (from yfinance) (1.4.2)\n",
      "Requirement already satisfied: requests>=2.26 in c:\\users\\divanma\\.conda\\envs\\windows-ml-station\\lib\\site-packages (from yfinance) (2.27.1)\n",
      "Requirement already satisfied: numpy>=1.15 in c:\\users\\divanma\\.conda\\envs\\windows-ml-station\\lib\\site-packages (from yfinance) (1.22.3)\n",
      "Requirement already satisfied: lxml>=4.5.1 in c:\\users\\divanma\\.conda\\envs\\windows-ml-station\\lib\\site-packages (from yfinance) (4.6.3)\n",
      "Collecting multitasking>=0.0.7\n",
      "  Using cached multitasking-0.0.11-py3-none-any.whl (8.5 kB)\n",
      "Requirement already satisfied: pytz>=2020.1 in c:\\users\\divanma\\.conda\\envs\\windows-ml-station\\lib\\site-packages (from pandas>=0.24.0->yfinance) (2021.3)\n",
      "Requirement already satisfied: python-dateutil>=2.8.1 in c:\\users\\divanma\\.conda\\envs\\windows-ml-station\\lib\\site-packages (from pandas>=0.24.0->yfinance) (2.8.2)\n",
      "Requirement already satisfied: charset-normalizer~=2.0.0 in c:\\users\\divanma\\.conda\\envs\\windows-ml-station\\lib\\site-packages (from requests>=2.26->yfinance) (2.0.0)\n",
      "Requirement already satisfied: idna<4,>=2.5 in c:\\users\\divanma\\.conda\\envs\\windows-ml-station\\lib\\site-packages (from requests>=2.26->yfinance) (3.1)\n",
      "Requirement already satisfied: urllib3<1.27,>=1.21.1 in c:\\users\\divanma\\.conda\\envs\\windows-ml-station\\lib\\site-packages (from requests>=2.26->yfinance) (1.26.7)\n",
      "Requirement already satisfied: certifi>=2017.4.17 in c:\\users\\divanma\\.conda\\envs\\windows-ml-station\\lib\\site-packages (from requests>=2.26->yfinance) (2022.5.18.1)\n",
      "Requirement already satisfied: six>=1.5 in c:\\users\\divanma\\.conda\\envs\\windows-ml-station\\lib\\site-packages (from python-dateutil>=2.8.1->pandas>=0.24.0->yfinance) (1.12.0)\n",
      "Installing collected packages: multitasking, yfinance\n",
      "Successfully installed multitasking-0.0.11 yfinance-0.1.74\n"
     ]
    },
    {
     "name": "stderr",
     "output_type": "stream",
     "text": [
      "WARNING: Ignoring invalid distribution -ymupdf (c:\\users\\divanma\\.conda\\envs\\windows-ml-station\\lib\\site-packages)\n",
      "WARNING: Ignoring invalid distribution -illow (c:\\users\\divanma\\.conda\\envs\\windows-ml-station\\lib\\site-packages)\n",
      "WARNING: Ignoring invalid distribution -ymupdf (c:\\users\\divanma\\.conda\\envs\\windows-ml-station\\lib\\site-packages)\n",
      "WARNING: Ignoring invalid distribution -illow (c:\\users\\divanma\\.conda\\envs\\windows-ml-station\\lib\\site-packages)\n",
      "WARNING: Ignoring invalid distribution -ymupdf (c:\\users\\divanma\\.conda\\envs\\windows-ml-station\\lib\\site-packages)\n",
      "WARNING: Ignoring invalid distribution -illow (c:\\users\\divanma\\.conda\\envs\\windows-ml-station\\lib\\site-packages)\n",
      "WARNING: Ignoring invalid distribution -ymupdf (c:\\users\\divanma\\.conda\\envs\\windows-ml-station\\lib\\site-packages)\n",
      "WARNING: Ignoring invalid distribution -illow (c:\\users\\divanma\\.conda\\envs\\windows-ml-station\\lib\\site-packages)\n",
      "WARNING: Ignoring invalid distribution -ymupdf (c:\\users\\divanma\\.conda\\envs\\windows-ml-station\\lib\\site-packages)\n",
      "WARNING: Ignoring invalid distribution -illow (c:\\users\\divanma\\.conda\\envs\\windows-ml-station\\lib\\site-packages)\n",
      "WARNING: Ignoring invalid distribution -ymupdf (c:\\users\\divanma\\.conda\\envs\\windows-ml-station\\lib\\site-packages)\n",
      "WARNING: Ignoring invalid distribution -illow (c:\\users\\divanma\\.conda\\envs\\windows-ml-station\\lib\\site-packages)\n",
      "WARNING: Ignoring invalid distribution -ymupdf (c:\\users\\divanma\\.conda\\envs\\windows-ml-station\\lib\\site-packages)\n",
      "WARNING: Ignoring invalid distribution -illow (c:\\users\\divanma\\.conda\\envs\\windows-ml-station\\lib\\site-packages)\n",
      "WARNING: Ignoring invalid distribution -ymupdf (c:\\users\\divanma\\.conda\\envs\\windows-ml-station\\lib\\site-packages)\n",
      "WARNING: Ignoring invalid distribution -illow (c:\\users\\divanma\\.conda\\envs\\windows-ml-station\\lib\\site-packages)\n",
      "WARNING: There was an error checking the latest version of pip.\n"
     ]
    }
   ],
   "source": [
    "!python -m pip install beautifulsoup4 yfinance"
   ]
  },
  {
   "cell_type": "markdown",
   "metadata": {},
   "source": [
    "# Import Dependencies"
   ]
  },
  {
   "cell_type": "code",
   "execution_count": 79,
   "metadata": {},
   "outputs": [],
   "source": [
    "from bs4 import BeautifulSoup\n",
    "import requests\n",
    "import yfinance as yf\n",
    "import matplotlib as mpl\n",
    "import matplotlib.pyplot as plt"
   ]
  },
  {
   "cell_type": "markdown",
   "metadata": {},
   "source": [
    "# Config"
   ]
  },
  {
   "cell_type": "code",
   "execution_count": 44,
   "metadata": {},
   "outputs": [],
   "source": [
    "symbol = 'AAPL'"
   ]
  },
  {
   "cell_type": "markdown",
   "metadata": {},
   "source": [
    "# Implementation"
   ]
  },
  {
   "cell_type": "code",
   "execution_count": 45,
   "metadata": {},
   "outputs": [],
   "source": [
    "def get_html_page(url: str) -> object:\n",
    "    response: requests.Response = requests.get(url=url, headers={\n",
    "        'Cache-Control': 'no-cache',\n",
    "        'User-Agent': 'PostmanRuntime/7.29.0',\n",
    "        'Accept': '*/*',\n",
    "        'Accept-Encoding': 'gzip, deflate, br',\n",
    "        'Connection': 'keep-alive'\n",
    "    })\n",
    "    response_text: str = response.text\n",
    "\n",
    "    return BeautifulSoup(response_text, 'html.parser')"
   ]
  },
  {
   "cell_type": "code",
   "execution_count": 46,
   "metadata": {},
   "outputs": [],
   "source": [
    "class ValuationResult(object):\n",
    "    def __init__(self,\n",
    "                 current_price: float,\n",
    "                 valuation_price: float):\n",
    "        self.current_price = current_price\n",
    "        self.valuation_price = valuation_price\n",
    "        self.absolute_current_v_valuation_delta = 1 - (min(valuation_price, current_price) / max(valuation_price, current_price))\n",
    "        self.is_overvalued = valuation_price < current_price"
   ]
  },
  {
   "cell_type": "code",
   "execution_count": 47,
   "metadata": {},
   "outputs": [],
   "source": [
    "def determine_intrinsic_value_for_symbol(symbol: str) -> ValuationResult:\n",
    "    symbol_summary_url = f'https://finviz.com/quote.ashx?t={symbol}'\n",
    "    symbol_summary_html = get_html_page(url=symbol_summary_url)\n",
    "\n",
    "    eps_ttm: float = float(symbol_summary_html.find(text='EPS (ttm)').find_next(class_='snapshot-td2').text)\n",
    "    eps_five_years: float = float(symbol_summary_html.find(text='EPS next 5Y').find_next(class_='snapshot-td2').text.replace('%', '')) / 100\n",
    "    pe_ratio: float = float(symbol_summary_html.find(text='P/E').find_next(class_='snapshot-td2').text)\n",
    "    forward_pe_ratio: float = float(symbol_summary_html.find(text='Forward P/E').find_next(class_='snapshot-td2').text)\n",
    "    avg_pe_ratio: float = (pe_ratio + forward_pe_ratio) / 2\n",
    "    current_price: float = float(symbol_summary_html.find(text='Price').find_next(class_='snapshot-td2').text)\n",
    "    \n",
    "    print(f'EPS: {eps_ttm}, EPS Next 5 Years: {eps_five_years}%, P/E Ratio: {avg_pe_ratio}, Current Price: $ {current_price}')\n",
    "    \n",
    "    intrinsic_value: float = determine_intrinsic_value(eps_ttm=eps_ttm,\n",
    "                          growth_rate=eps_five_years,\n",
    "                          pe_ratio=avg_pe_ratio,\n",
    "                          margin_of_safety=0.3)\n",
    "\n",
    "    print(f'Intrinsic Value: $ {intrinsic_value} vs. Current Price: $ {current_price}')\n",
    "\n",
    "    return ValuationResult(\n",
    "        current_price=current_price,\n",
    "        valuation_price=intrinsic_value,\n",
    "    )"
   ]
  },
  {
   "cell_type": "code",
   "execution_count": 48,
   "metadata": {},
   "outputs": [],
   "source": [
    "def determine_intrinsic_value(eps_ttm: float, # Total trailing annual earnings per share.\n",
    "                              growth_rate: float, # Projected 5 year EPS.\n",
    "                              pe_ratio: float, # Price per earnings growth rate. 2x growth_rate if unsure.\n",
    "                              min_rate_of_return: float = 0.15, # Rate of return we want to make.\n",
    "                              margin_of_safety: float = 0.3 # Margin to padd our valuation with in order to mitigate risk. 20-50% usually.\n",
    "                              ) -> float:\n",
    "    assert eps_ttm > 1\n",
    "    assert growth_rate > 0 and growth_rate < 1\n",
    "    assert pe_ratio > 1\n",
    "    assert min_rate_of_return > 0 and min_rate_of_return < 1\n",
    "    assert margin_of_safety > 0 and margin_of_safety < 1\n",
    "    \n",
    "    target_ten_year_eps: float = eps_ttm\n",
    "\n",
    "    for year in range(2, 11):\n",
    "        target_ten_year_eps *= (1 + growth_rate)\n",
    "\n",
    "    target_ten_year_share_price: float = target_ten_year_eps * pe_ratio\n",
    "    target_share_price: float = target_ten_year_share_price\n",
    "\n",
    "    for year in range(2, 11):\n",
    "        target_share_price /= (1 + growth_rate)\n",
    "\n",
    "    return target_share_price / (1 + margin_of_safety)"
   ]
  },
  {
   "cell_type": "markdown",
   "metadata": {},
   "source": [
    "# Usage"
   ]
  },
  {
   "cell_type": "code",
   "execution_count": 56,
   "metadata": {},
   "outputs": [
    {
     "name": "stdout",
     "output_type": "stream",
     "text": [
      "EPS: 6.05, EPS Next 5 Years: 0.0983%, P/E Ratio: 25.835, Current Price: $ 161.51\n",
      "Intrinsic Value: $ 120.23211538461538 vs. Current Price: $ 161.51\n"
     ]
    },
    {
     "data": {
      "text/plain": [
       "{'current_price': 161.51,\n",
       " 'valuation_price': 120.23211538461538,\n",
       " 'absolute_current_v_valuation_delta': 0.2555747917490224,\n",
       " 'is_overvalued': True}"
      ]
     },
     "execution_count": 56,
     "metadata": {},
     "output_type": "execute_result"
    }
   ],
   "source": [
    "valuation = determine_intrinsic_value_for_symbol(symbol=symbol)\n",
    "\n",
    "vars(valuation)"
   ]
  },
  {
   "cell_type": "markdown",
   "metadata": {},
   "source": [
    "# Visualization"
   ]
  },
  {
   "cell_type": "code",
   "execution_count": 57,
   "metadata": {},
   "outputs": [],
   "source": [
    "ticker = yf.Ticker(symbol)\n",
    "hist = ticker.history(period=\"max\")"
   ]
  },
  {
   "cell_type": "code",
   "execution_count": 111,
   "metadata": {},
   "outputs": [
    {
     "data": {
      "image/png": "[encoded data removed]",
      "text/plain": [
       "<Figure size 432x288 with 1 Axes>"
      ]
     },
     "metadata": {
      "needs_background": "light"
     },
     "output_type": "display_data"
    }
   ],
   "source": [
    "with plt.rc_context({'lines.linewidth': 0.75}):\n",
    "    view_last_x_days = 90\n",
    "    data_to_visualize = hist[-view_last_x_days:].Close\n",
    "    plot = data_to_visualize.plot()\n",
    "    plot.set_xlabel(f'{symbol} ({view_last_x_days} Days)')\n",
    "    plot.set_ylabel('Price ($ - USD)')\n",
    "    current_price_line = plot.axhline(valuation.current_price, linestyle='--', label=f'Price ($ {round(valuation.current_price, 2)})')\n",
    "    current_valuation_line = plot.axhline(valuation.valuation_price, color=('r' if valuation.is_overvalued else 'g'), linestyle='--', label=f'Valuation ($ {round(valuation.valuation_price, 2)})')\n",
    "    plot.legend()"
   ]
  },
  {
   "cell_type": "code",
   "execution_count": null,
   "metadata": {},
   "outputs": [],
   "source": []
  }
 ],
 "metadata": {
  "kernelspec": {
   "display_name": "Python 3.9.7 ('windows-ml-station')",
   "language": "python",
   "name": "python3"
  },
  "language_info": {
   "codemirror_mode": {
    "name": "ipython",
    "version": 3
   },
   "file_extension": ".py",
   "mimetype": "text/x-python",
   "name": "python",
   "nbconvert_exporter": "python",
   "pygments_lexer": "ipython3",
   "version": "3.9.7"
  },
  "orig_nbformat": 4,
  "vscode": {
   "interpreter": {
    "hash": "f2d2799229849fd2c86aa3751486a343a6caa647b525ae379976f27c22f61e0e"
   }
  }
 },
 "nbformat": 4,
 "nbformat_minor": 2
}
