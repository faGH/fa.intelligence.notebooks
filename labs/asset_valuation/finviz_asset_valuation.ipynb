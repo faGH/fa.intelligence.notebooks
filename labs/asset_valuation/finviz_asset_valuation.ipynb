{
 "cells": [
  {
   "cell_type": "markdown",
   "metadata": {},
   "source": [
    "# Install Dependencies"
   ]
  },
  {
   "cell_type": "code",
   "execution_count": 68,
   "metadata": {},
   "outputs": [
    {
     "name": "stdout",
     "output_type": "stream",
     "text": [
      "Requirement already satisfied: pip in c:\\users\\divanma\\.conda\\envs\\windows-ml-station\\lib\\site-packages (22.1.1)\n",
      "Collecting pip\n",
      "  Using cached pip-22.2.1-py3-none-any.whl (2.0 MB)\n",
      "Requirement already satisfied: beautifulsoup4 in c:\\users\\divanma\\.conda\\envs\\windows-ml-station\\lib\\site-packages (4.8.2)\n",
      "Collecting beautifulsoup4\n",
      "  Using cached beautifulsoup4-4.11.1-py3-none-any.whl (128 kB)\n",
      "Requirement already satisfied: soupsieve>1.2 in c:\\users\\divanma\\.conda\\envs\\windows-ml-station\\lib\\site-packages (from beautifulsoup4) (2.3.1)\n"
     ]
    },
    {
     "name": "stderr",
     "output_type": "stream",
     "text": [
      "WARNING: Ignoring invalid distribution -ymupdf (c:\\users\\divanma\\.conda\\envs\\windows-ml-station\\lib\\site-packages)\n",
      "WARNING: Ignoring invalid distribution -illow (c:\\users\\divanma\\.conda\\envs\\windows-ml-station\\lib\\site-packages)\n",
      "WARNING: Ignoring invalid distribution -ymupdf (c:\\users\\divanma\\.conda\\envs\\windows-ml-station\\lib\\site-packages)\n",
      "WARNING: Ignoring invalid distribution -illow (c:\\users\\divanma\\.conda\\envs\\windows-ml-station\\lib\\site-packages)\n",
      "ERROR: To modify pip, please run the following command:\n",
      "C:\\Users\\divanma\\.conda\\envs\\windows-ml-station\\python.exe -m pip install -U pip beautifulsoup4\n",
      "WARNING: Ignoring invalid distribution -ymupdf (c:\\users\\divanma\\.conda\\envs\\windows-ml-station\\lib\\site-packages)\n",
      "WARNING: Ignoring invalid distribution -illow (c:\\users\\divanma\\.conda\\envs\\windows-ml-station\\lib\\site-packages)\n",
      "WARNING: Ignoring invalid distribution -ymupdf (c:\\users\\divanma\\.conda\\envs\\windows-ml-station\\lib\\site-packages)\n",
      "WARNING: Ignoring invalid distribution -illow (c:\\users\\divanma\\.conda\\envs\\windows-ml-station\\lib\\site-packages)\n",
      "WARNING: Ignoring invalid distribution -ymupdf (c:\\users\\divanma\\.conda\\envs\\windows-ml-station\\lib\\site-packages)\n",
      "WARNING: Ignoring invalid distribution -illow (c:\\users\\divanma\\.conda\\envs\\windows-ml-station\\lib\\site-packages)\n",
      "WARNING: There was an error checking the latest version of pip.\n"
     ]
    }
   ],
   "source": [
    "!pip install -U pip beautifulsoup4"
   ]
  },
  {
   "cell_type": "markdown",
   "metadata": {},
   "source": [
    "# Import Dependencies"
   ]
  },
  {
   "cell_type": "code",
   "execution_count": 69,
   "metadata": {},
   "outputs": [],
   "source": [
    "from bs4 import BeautifulSoup\n",
    "import requests"
   ]
  },
  {
   "cell_type": "markdown",
   "metadata": {},
   "source": [
    "# Config"
   ]
  },
  {
   "cell_type": "code",
   "execution_count": 70,
   "metadata": {},
   "outputs": [],
   "source": [
    "asset_code = 'AAPL'\n",
    "asset_summary_url = f'https://finviz.com/quote.ashx?t={asset_code}'"
   ]
  },
  {
   "cell_type": "markdown",
   "metadata": {},
   "source": [
    "# Implementation"
   ]
  },
  {
   "cell_type": "code",
   "execution_count": 71,
   "metadata": {},
   "outputs": [],
   "source": [
    "def get_html_page(url: str) -> object:\n",
    "    response: requests.Response = requests.get(url=url, headers={\n",
    "        'Cache-Control': 'no-cache',\n",
    "        'User-Agent': 'PostmanRuntime/7.29.0',\n",
    "        'Accept': '*/*',\n",
    "        'Accept-Encoding': 'gzip, deflate, br',\n",
    "        'Connection': 'keep-alive'\n",
    "    })\n",
    "    response_text: str = response.text\n",
    "\n",
    "    return BeautifulSoup(response_text, 'html.parser')"
   ]
  },
  {
   "cell_type": "code",
   "execution_count": 72,
   "metadata": {},
   "outputs": [],
   "source": [
    "asset_summary_html = get_html_page(url=asset_summary_url)"
   ]
  },
  {
   "cell_type": "code",
   "execution_count": 108,
   "metadata": {},
   "outputs": [
    {
     "name": "stdout",
     "output_type": "stream",
     "text": [
      "EPS: 6.05, EPS Next 5 Years: 0.0983%, P/E Ratio: 25.995, Current Price: $ 162.51\n"
     ]
    }
   ],
   "source": [
    "eps_ttm: float = float(asset_summary_html.find(text='EPS (ttm)').find_next(class_='snapshot-td2').text)\n",
    "eps_five_years: float = float(asset_summary_html.find(text='EPS next 5Y').find_next(class_='snapshot-td2').text.replace('%', '')) / 100\n",
    "pe_ratio: float = float(asset_summary_html.find(text='P/E').find_next(class_='snapshot-td2').text)\n",
    "forward_pe_ratio: float = float(asset_summary_html.find(text='Forward P/E').find_next(class_='snapshot-td2').text)\n",
    "avg_pe_ratio: float = (pe_ratio + forward_pe_ratio) / 2\n",
    "current_price: float = float(asset_summary_html.find(text='Price').find_next(class_='snapshot-td2').text)\n",
    "\n",
    "print(f'EPS: {eps_ttm}, EPS Next 5 Years: {eps_five_years}%, P/E Ratio: {avg_pe_ratio}, Current Price: $ {current_price}')"
   ]
  },
  {
   "cell_type": "code",
   "execution_count": 101,
   "metadata": {},
   "outputs": [],
   "source": [
    "def determine_intrinsic_value(eps_ttm: float, # Total trailing annual earnings per share.\n",
    "                              growth_rate: float, # Projected 5 year EPS.\n",
    "                              pe_ratio: float, # Price per earnings growth rate. 2x growth_rate if unsure.\n",
    "                              min_rate_of_return: float = 0.15, # Rate of return we want to make.\n",
    "                              margin_of_safety: float = 0.3 # Margin to padd our valuation with in order to mitigate risk. 20-50% usually.\n",
    "                              ) -> float:\n",
    "    assert eps_ttm > 1\n",
    "    assert growth_rate > 0 and growth_rate < 1\n",
    "    assert pe_ratio > 1\n",
    "    assert min_rate_of_return > 0 and min_rate_of_return < 1\n",
    "    assert margin_of_safety > 0 and margin_of_safety < 1\n",
    "    \n",
    "    target_ten_year_eps: float = eps_ttm\n",
    "\n",
    "    for year in range(2, 11):\n",
    "        target_ten_year_eps *= (1 + eps_five_years)\n",
    "\n",
    "    target_ten_year_share_price: float = target_ten_year_eps * avg_pe_ratio\n",
    "    target_share_price: float = target_ten_year_share_price\n",
    "\n",
    "    for year in range(2, 11):\n",
    "        target_share_price /= (1 + growth_rate)\n",
    "\n",
    "    return target_share_price / (1 + margin_of_safety)"
   ]
  },
  {
   "cell_type": "code",
   "execution_count": 109,
   "metadata": {},
   "outputs": [
    {
     "name": "stdout",
     "output_type": "stream",
     "text": [
      "Intrinsic Value: $ 120.98 vs. Current Price: $ 162.51\n"
     ]
    }
   ],
   "source": [
    "intrinsic_value: float = determine_intrinsic_value(eps_ttm=eps_ttm,\n",
    "                          growth_rate=eps_five_years,\n",
    "                          pe_ratio=avg_pe_ratio,\n",
    "                          margin_of_safety=0.3)\n",
    "intrinsic_value = round(intrinsic_value, ndigits=2)\n",
    "\n",
    "print(f'Intrinsic Value: $ {intrinsic_value} vs. Current Price: $ {current_price}')"
   ]
  },
  {
   "cell_type": "code",
   "execution_count": null,
   "metadata": {},
   "outputs": [],
   "source": []
  }
 ],
 "metadata": {
  "kernelspec": {
   "display_name": "Python 3.9.7 ('windows-ml-station')",
   "language": "python",
   "name": "python3"
  },
  "language_info": {
   "codemirror_mode": {
    "name": "ipython",
    "version": 3
   },
   "file_extension": ".py",
   "mimetype": "text/x-python",
   "name": "python",
   "nbconvert_exporter": "python",
   "pygments_lexer": "ipython3",
   "version": "3.9.7"
  },
  "orig_nbformat": 4,
  "vscode": {
   "interpreter": {
    "hash": "f2d2799229849fd2c86aa3751486a343a6caa647b525ae379976f27c22f61e0e"
   }
  }
 },
 "nbformat": 4,
 "nbformat_minor": 2
}
