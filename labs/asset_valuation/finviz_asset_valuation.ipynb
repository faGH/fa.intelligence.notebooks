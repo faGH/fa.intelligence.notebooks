{
 "cells": [
  {
   "cell_type": "markdown",
   "metadata": {},
   "source": [
    "# Install Dependencies"
   ]
  },
  {
   "cell_type": "code",
   "execution_count": 39,
   "metadata": {},
   "outputs": [
    {
     "name": "stdout",
     "output_type": "stream",
     "text": [
      "\u001b[33mWARNING: Ignoring invalid distribution -ip (/Users/deanmartin/miniforge3/envs/pytorch/lib/python3.9/site-packages)\u001b[0m\u001b[33m\n",
      "\u001b[0m\u001b[33mWARNING: Ignoring invalid distribution -ip (/Users/deanmartin/miniforge3/envs/pytorch/lib/python3.9/site-packages)\u001b[0m\u001b[33m\n",
      "\u001b[0mRequirement already satisfied: beautifulsoup4 in /Users/deanmartin/miniforge3/envs/pytorch/lib/python3.9/site-packages (4.11.1)\n",
      "Requirement already satisfied: yfinance in /Users/deanmartin/miniforge3/envs/pytorch/lib/python3.9/site-packages (0.1.74)\n",
      "Requirement already satisfied: soupsieve>1.2 in /Users/deanmartin/miniforge3/envs/pytorch/lib/python3.9/site-packages (from beautifulsoup4) (2.3.2.post1)\n",
      "Requirement already satisfied: pandas>=0.24.0 in /Users/deanmartin/miniforge3/envs/pytorch/lib/python3.9/site-packages (from yfinance) (1.4.3)\n",
      "Requirement already satisfied: numpy>=1.15 in /Users/deanmartin/miniforge3/envs/pytorch/lib/python3.9/site-packages (from yfinance) (1.23.1)\n",
      "Requirement already satisfied: lxml>=4.5.1 in /Users/deanmartin/miniforge3/envs/pytorch/lib/python3.9/site-packages (from yfinance) (4.9.1)\n",
      "Requirement already satisfied: multitasking>=0.0.7 in /Users/deanmartin/miniforge3/envs/pytorch/lib/python3.9/site-packages (from yfinance) (0.0.11)\n",
      "Requirement already satisfied: requests>=2.26 in /Users/deanmartin/miniforge3/envs/pytorch/lib/python3.9/site-packages (from yfinance) (2.28.1)\n",
      "Requirement already satisfied: pytz>=2020.1 in /Users/deanmartin/miniforge3/envs/pytorch/lib/python3.9/site-packages (from pandas>=0.24.0->yfinance) (2022.1)\n",
      "Requirement already satisfied: python-dateutil>=2.8.1 in /Users/deanmartin/miniforge3/envs/pytorch/lib/python3.9/site-packages (from pandas>=0.24.0->yfinance) (2.8.2)\n",
      "Requirement already satisfied: urllib3<1.27,>=1.21.1 in /Users/deanmartin/miniforge3/envs/pytorch/lib/python3.9/site-packages (from requests>=2.26->yfinance) (1.26.10)\n",
      "Requirement already satisfied: idna<4,>=2.5 in /Users/deanmartin/miniforge3/envs/pytorch/lib/python3.9/site-packages (from requests>=2.26->yfinance) (3.3)\n",
      "Requirement already satisfied: certifi>=2017.4.17 in /Users/deanmartin/miniforge3/envs/pytorch/lib/python3.9/site-packages (from requests>=2.26->yfinance) (2022.6.15)\n",
      "Requirement already satisfied: charset-normalizer<3,>=2 in /Users/deanmartin/miniforge3/envs/pytorch/lib/python3.9/site-packages (from requests>=2.26->yfinance) (2.1.0)\n",
      "Requirement already satisfied: six>=1.5 in /Users/deanmartin/miniforge3/envs/pytorch/lib/python3.9/site-packages (from python-dateutil>=2.8.1->pandas>=0.24.0->yfinance) (1.16.0)\n",
      "\u001b[33mWARNING: Ignoring invalid distribution -ip (/Users/deanmartin/miniforge3/envs/pytorch/lib/python3.9/site-packages)\u001b[0m\u001b[33m\n",
      "\u001b[0m\u001b[33mWARNING: Ignoring invalid distribution -ip (/Users/deanmartin/miniforge3/envs/pytorch/lib/python3.9/site-packages)\u001b[0m\u001b[33m\n",
      "\u001b[0m\u001b[33mWARNING: Ignoring invalid distribution -ip (/Users/deanmartin/miniforge3/envs/pytorch/lib/python3.9/site-packages)\u001b[0m\u001b[33m\n",
      "\u001b[0m\u001b[33mWARNING: Ignoring invalid distribution -ip (/Users/deanmartin/miniforge3/envs/pytorch/lib/python3.9/site-packages)\u001b[0m\u001b[33m\n",
      "\u001b[0m"
     ]
    }
   ],
   "source": [
    "!python -m pip install beautifulsoup4 yfinance"
   ]
  },
  {
   "cell_type": "markdown",
   "metadata": {},
   "source": [
    "# Import Dependencies"
   ]
  },
  {
   "cell_type": "code",
   "execution_count": 127,
   "metadata": {},
   "outputs": [],
   "source": [
    "from bs4 import BeautifulSoup\n",
    "import requests\n",
    "import yfinance as yf\n",
    "import matplotlib.pyplot as plt\n",
    "import matplotlib.ticker as mtick\n",
    "import pandas as pd\n",
    "from datetime import datetime"
   ]
  },
  {
   "cell_type": "markdown",
   "metadata": {},
   "source": [
    "# Config"
   ]
  },
  {
   "cell_type": "code",
   "execution_count": 41,
   "metadata": {},
   "outputs": [],
   "source": [
    "symbol = 'TSLA' #TSLA | AAPL for example."
   ]
  },
  {
   "cell_type": "markdown",
   "metadata": {},
   "source": [
    "# Implementation"
   ]
  },
  {
   "cell_type": "code",
   "execution_count": 42,
   "metadata": {},
   "outputs": [],
   "source": [
    "def get_html_page(url: str) -> object:\n",
    "    response: requests.Response = requests.get(url=url, headers={\n",
    "        'User-Agent': 'PostmanRuntime/7.29.0'\n",
    "    })\n",
    "    response_text: str = response.text\n",
    "\n",
    "    return BeautifulSoup(response_text, 'html.parser')"
   ]
  },
  {
   "cell_type": "code",
   "execution_count": 43,
   "metadata": {},
   "outputs": [],
   "source": [
    "class ValuationResult(object):\n",
    "    def __init__(self,\n",
    "                 current_price: float,\n",
    "                 valuation_price: float):\n",
    "        self.current_price = current_price\n",
    "        self.valuation_price = valuation_price\n",
    "        self.absolute_current_v_valuation_delta = 1 - (min(valuation_price, current_price) / max(valuation_price, current_price))\n",
    "        self.is_overvalued = valuation_price < current_price"
   ]
  },
  {
   "cell_type": "code",
   "execution_count": 44,
   "metadata": {},
   "outputs": [],
   "source": [
    "def determine_intrinsic_value_for_symbol(symbol: str) -> ValuationResult:\n",
    "    symbol_summary_url = f'https://finviz.com/quote.ashx?t={symbol}'\n",
    "    symbol_summary_html = get_html_page(url=symbol_summary_url)\n",
    "\n",
    "    eps_ttm: float = float(symbol_summary_html.find(text='EPS (ttm)').find_next(class_='snapshot-td2').text)\n",
    "    eps_five_years: float = float(symbol_summary_html.find(text='EPS next 5Y').find_next(class_='snapshot-td2').text.replace('%', '')) / 100\n",
    "    pe_ratio: float = float(symbol_summary_html.find(text='P/E').find_next(class_='snapshot-td2').text)\n",
    "    forward_pe_ratio: float = float(symbol_summary_html.find(text='Forward P/E').find_next(class_='snapshot-td2').text)\n",
    "    avg_pe_ratio: float = (pe_ratio + forward_pe_ratio) / 2\n",
    "    current_price: float = float(symbol_summary_html.find(text='Price').find_next(class_='snapshot-td2').text)\n",
    "    \n",
    "    print(f'EPS: {eps_ttm}, EPS Next 5 Years: {eps_five_years}%, P/E Ratio: {avg_pe_ratio}, Current Price: $ {current_price}')\n",
    "    \n",
    "    intrinsic_value: float = determine_intrinsic_value(eps_ttm=eps_ttm,\n",
    "                          growth_rate=eps_five_years,\n",
    "                          pe_ratio=avg_pe_ratio,\n",
    "                          margin_of_safety=0.3)\n",
    "\n",
    "    print(f'Intrinsic Value: $ {intrinsic_value} vs. Current Price: $ {current_price}')\n",
    "\n",
    "    return ValuationResult(\n",
    "        current_price=current_price,\n",
    "        valuation_price=intrinsic_value,\n",
    "    )"
   ]
  },
  {
   "cell_type": "code",
   "execution_count": 45,
   "metadata": {},
   "outputs": [],
   "source": [
    "def determine_intrinsic_value(eps_ttm: float, # Total trailing annual earnings per share.\n",
    "                              growth_rate: float, # Projected 5 year EPS.\n",
    "                              pe_ratio: float, # Price per earnings growth rate. 2x growth_rate if unsure.\n",
    "                              min_rate_of_return: float = 0.15, # Rate of return we want to make.\n",
    "                              margin_of_safety: float = 0.3 # Margin to padd our valuation with in order to mitigate risk. 20-50% usually.\n",
    "                              ) -> float:\n",
    "    assert eps_ttm > 1\n",
    "    assert growth_rate > 0 and growth_rate < 1\n",
    "    assert pe_ratio > 1\n",
    "    assert min_rate_of_return > 0 and min_rate_of_return < 1\n",
    "    assert margin_of_safety > 0 and margin_of_safety < 1\n",
    "    \n",
    "    target_ten_year_eps: float = eps_ttm\n",
    "\n",
    "    for year in range(2, 11):\n",
    "        target_ten_year_eps *= (1 + growth_rate)\n",
    "\n",
    "    target_ten_year_share_price: float = target_ten_year_eps * pe_ratio\n",
    "    target_share_price: float = target_ten_year_share_price\n",
    "\n",
    "    for year in range(2, 11):\n",
    "        target_share_price /= (1 + growth_rate)\n",
    "\n",
    "    return target_share_price / (1 + margin_of_safety)"
   ]
  },
  {
   "cell_type": "markdown",
   "metadata": {},
   "source": [
    "# Usage"
   ]
  },
  {
   "cell_type": "code",
   "execution_count": 46,
   "metadata": {},
   "outputs": [
    {
     "name": "stdout",
     "output_type": "stream",
     "text": [
      "EPS: 6.05, EPS Next 5 Years: 0.0983%, P/E Ratio: 25.595, Current Price: $ 166.02\n",
      "Intrinsic Value: $ 119.1151923076923 vs. Current Price: $ 166.02\n"
     ]
    },
    {
     "data": {
      "text/plain": [
       "{'current_price': 166.02,\n",
       " 'valuation_price': 119.1151923076923,\n",
       " 'absolute_current_v_valuation_delta': 0.2825250433219354,\n",
       " 'is_overvalued': True}"
      ]
     },
     "execution_count": 46,
     "metadata": {},
     "output_type": "execute_result"
    }
   ],
   "source": [
    "valuation = determine_intrinsic_value_for_symbol(symbol=symbol)\n",
    "\n",
    "vars(valuation)"
   ]
  },
  {
   "cell_type": "markdown",
   "metadata": {},
   "source": [
    "# Visualization"
   ]
  },
  {
   "cell_type": "code",
   "execution_count": 47,
   "metadata": {},
   "outputs": [],
   "source": [
    "ticker = yf.Ticker(symbol)\n",
    "hist = ticker.history(period=\"max\")"
   ]
  },
  {
   "cell_type": "code",
   "execution_count": 151,
   "metadata": {},
   "outputs": [
    {
     "name": "stderr",
     "output_type": "stream",
     "text": [
      "/var/folders/kg/yc3v1y_96vj9m5s_743c5vn00000gn/T/ipykernel_19120/3939655776.py:21: UserWarning: linestyle is redundantly defined by the 'linestyle' keyword argument and the fmt string \"k-\" (-> linestyle='-'). The keyword argument will take precedence.\n",
      "  plt.plot([purchase_date, symbol_data.index.values[-1]],[value_at_purchase_date,valuation.current_price],'k-', linestyle='-.', color=('r' if valuation.current_price < value_at_purchase_date else 'g'))\n",
      "/var/folders/kg/yc3v1y_96vj9m5s_743c5vn00000gn/T/ipykernel_19120/3939655776.py:21: UserWarning: color is redundantly defined by the 'color' keyword argument and the fmt string \"k-\" (-> color='k'). The keyword argument will take precedence.\n",
      "  plt.plot([purchase_date, symbol_data.index.values[-1]],[value_at_purchase_date,valuation.current_price],'k-', linestyle='-.', color=('r' if valuation.current_price < value_at_purchase_date else 'g'))\n"
     ]
    },
    {
     "data": {
      "image/png": "[encoded data removed]",
      "text/plain": [
       "<Figure size 600x300 with 1 Axes>"
      ]
     },
     "metadata": {},
     "output_type": "display_data"
    }
   ],
   "source": [
    "def get_plot_for_symbol(symbol: str, days_to_visualize: int, symbol_data: pd.DataFrame, purchase_date: datetime = None) -> object:\n",
    "    with plt.rc_context({\n",
    "            'lines.linewidth': 0.75,\n",
    "            'figure.figsize': (6, 3)\n",
    "        }):\n",
    "        data_to_visualize = symbol_data[-days_to_visualize:].Close\n",
    "        plot = data_to_visualize.plot()\n",
    "        plot.get_figure().suptitle(f'{symbol} ({days_to_visualize} Days)', fontsize=9)\n",
    "        plot.set_xlabel('')\n",
    "        plot.set_ylabel('')\n",
    "        tick = mtick.StrMethodFormatter('${x:,.0f}')\n",
    "        plot.yaxis.set_major_formatter(tick) \n",
    "        plot.axhline(valuation.current_price, linestyle='--', label=f'Close (${round(valuation.current_price, 2)})')\n",
    "        plot.axhline(valuation.valuation_price, color=('r' if valuation.is_overvalued else 'g'), linestyle='--', label=f'Valuation (${round(valuation.valuation_price, 2)})')\n",
    "        \n",
    "        plot.axvline(symbol_data.index.values[-(1+1)], linestyle='-.', color='y')\n",
    "        \n",
    "        if purchase_date is not None:\n",
    "            value_at_purchase_date = symbol_data.loc[purchase_date].Close\n",
    "            plot.axvline(purchase_date, linestyle='-.', color=('r' if valuation.current_price < value_at_purchase_date else 'g'), label=f'Purchased at ${round(value_at_purchase_date, 2)}')\n",
    "            plt.plot([purchase_date, symbol_data.index.values[-1]],[value_at_purchase_date,valuation.current_price],'k-', linestyle='-.', color=('r' if valuation.current_price < value_at_purchase_date else 'g'))\n",
    "\n",
    "        if days_to_visualize > 7:\n",
    "            plot.axvline(symbol_data.index.values[-(1+7)], linestyle='-.', color='y')\n",
    "        \n",
    "        if days_to_visualize > 30:\n",
    "            plot.axvline(symbol_data.index.values[-(1+30)], linestyle='-.', color='y')\n",
    "        \n",
    "        if days_to_visualize > 30*6:\n",
    "            plot.axvline(symbol_data.index.values[-(1+30*6)], linestyle='-.', color='y')\n",
    "        \n",
    "        if days_to_visualize > 365:\n",
    "            plot.axvline(symbol_data.index.values[-(1+365)], linestyle='-.', color='y')\n",
    "\n",
    "        if days_to_visualize > (365*5):\n",
    "            plot.axvline(symbol_data.index.values[-(1+365*5)], linestyle='-.', color='y')\n",
    "\n",
    "        if days_to_visualize > (365*10):\n",
    "            plot.axvline(symbol_data.index.values[-(1+365*10)], linestyle='-.', color='y')\n",
    "        \n",
    "        handles, labels = plot.get_legend_handles_labels()\n",
    "        plot.legend(handles=handles[1:], labels=labels[1:], fontsize=7)\n",
    "\n",
    "        return plot\n",
    "\n",
    "plot = get_plot_for_symbol(symbol=symbol, days_to_visualize=(365*2), symbol_data=hist, purchase_date=datetime(2022, 5, 25, 0, 0))"
   ]
  },
  {
   "cell_type": "code",
   "execution_count": null,
   "metadata": {},
   "outputs": [],
   "source": []
  }
 ],
 "metadata": {
  "kernelspec": {
   "display_name": "Python 3.9.13 ('pytorch')",
   "language": "python",
   "name": "python3"
  },
  "language_info": {
   "codemirror_mode": {
    "name": "ipython",
    "version": 3
   },
   "file_extension": ".py",
   "mimetype": "text/x-python",
   "name": "python",
   "nbconvert_exporter": "python",
   "pygments_lexer": "ipython3",
   "version": "3.9.13"
  },
  "orig_nbformat": 4,
  "vscode": {
   "interpreter": {
    "hash": "0203f9377e450cf3e5fd498dcfe93bad69687b6515d650e7d79a42aa53323e2d"
   }
  }
 },
 "nbformat": 4,
 "nbformat_minor": 2
}
