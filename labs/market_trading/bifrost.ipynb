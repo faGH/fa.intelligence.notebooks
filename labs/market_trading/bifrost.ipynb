{
 "cells": [
  {
   "cell_type": "markdown",
   "metadata": {},
   "source": [
    "# Bifrost\n",
    "FrostAura Decision Engine"
   ]
  },
  {
   "cell_type": "markdown",
   "metadata": {},
   "source": [
    "## Install Dependencies\n",
    "Python Kernel Version: 3.9.7"
   ]
  },
  {
   "cell_type": "code",
   "execution_count": 1,
   "metadata": {},
   "outputs": [
    {
     "name": "stdout",
     "output_type": "stream",
     "text": [
      "Requirement already satisfied: ta-lib in /Users/deanmartin/miniforge3/envs/tensorflow-apple-metal/lib/python3.9/site-packages (0.4.21)\n",
      "Requirement already satisfied: xgboost in /Users/deanmartin/miniforge3/envs/tensorflow-apple-metal/lib/python3.9/site-packages (1.6.1)\n",
      "Requirement already satisfied: numpy in /Users/deanmartin/miniforge3/envs/tensorflow-apple-metal/lib/python3.9/site-packages (from ta-lib) (1.22.1)\n",
      "Requirement already satisfied: scipy in /Users/deanmartin/miniforge3/envs/tensorflow-apple-metal/lib/python3.9/site-packages (from xgboost) (1.7.0)\n"
     ]
    }
   ],
   "source": [
    "!pip install ta-lib xgboost"
   ]
  },
  {
   "cell_type": "markdown",
   "metadata": {},
   "source": [
    "## Import Dependencies"
   ]
  },
  {
   "cell_type": "code",
   "execution_count": 2,
   "metadata": {},
   "outputs": [],
   "source": [
    "import pandas as pd\n",
    "from os import listdir\n",
    "from os.path import isfile, join\n",
    "import pandas as pd\n",
    "import numpy as np\n",
    "import talib\n",
    "from talib import RSI, BBANDS\n",
    "import xgboost as xgb"
   ]
  },
  {
   "cell_type": "markdown",
   "metadata": {},
   "source": [
    "## Prepare Data\n",
    "Load the data produced from [FrostAura Plutus](https://github.com/faGH/fa.services.plutus)."
   ]
  },
  {
   "cell_type": "markdown",
   "metadata": {},
   "source": [
    "### Data Parsing Utils"
   ]
  },
  {
   "cell_type": "code",
   "execution_count": 3,
   "metadata": {},
   "outputs": [],
   "source": [
    "def get_pair_name(path: str) -> str:\n",
    "    pair_name = (path\n",
    "                    .split('/')[-1]\n",
    "                    .split('.json')[0]\n",
    "                    .split('-')[0])\n",
    "    \n",
    "    return pair_name\n",
    "\n",
    "def load_path_data(path: str, frequency: str) -> pd.DataFrame:\n",
    "    try:\n",
    "        df = pd.read_json(path)\n",
    "        df.columns = ['time', 'open', 'high', 'low', 'close', 'volume']\n",
    "        df['ds'] = pd.to_datetime(df['time'], unit='ms')\n",
    "        df.set_index('ds', inplace=True)\n",
    "        \n",
    "        return df.asfreq(freq=frequency)\n",
    "    except Exception as e:\n",
    "        print(f'Failed to load {path} with error \"{str(e)}\". Skipping.')\n",
    "        return None\n",
    "    \n",
    "def load_plutus_pair_data_from_dir(fa_plutus_data_relative_path: str, frequency: str='1H') -> dict:\n",
    "    file_names = [ f for f in listdir(fa_plutus_data_relative_path) if (isfile(join(fa_plutus_data_relative_path, f)) and '.json' in f and frequency.lower() in f.lower()) ]\n",
    "    file_paths = np.array([f'{fa_plutus_data_relative_path}/{f}' for f in file_names ])\n",
    "    market_data = { get_pair_name(path):load_path_data(path, frequency) for path in file_paths if load_path_data(path, frequency) is not None }\n",
    "    \n",
    "    return market_data"
   ]
  },
  {
   "cell_type": "markdown",
   "metadata": {},
   "source": [
    "### Load Raw Pairs Data"
   ]
  },
  {
   "cell_type": "code",
   "execution_count": 4,
   "metadata": {},
   "outputs": [
    {
     "name": "stdout",
     "output_type": "stream",
     "text": [
      "Failed to load ./../../../fa.services.plutus/user_data/data/binance/BOT_BTC-4h.json with error \"Length mismatch: Expected axis has 0 elements, new values have 6 elements\". Skipping.\n",
      "Failed to load ./../../../fa.services.plutus/user_data/data/binance/BQX_BTC-4h.json with error \"Length mismatch: Expected axis has 0 elements, new values have 6 elements\". Skipping.\n",
      "Failed to load ./../../../fa.services.plutus/user_data/data/binance/NANO_BTC-4h.json with error \"Length mismatch: Expected axis has 0 elements, new values have 6 elements\". Skipping.\n"
     ]
    }
   ],
   "source": [
    "fa_plutus_data_relative_path = './../../../fa.services.plutus/user_data/data/binance'\n",
    "market_data = load_plutus_pair_data_from_dir(fa_plutus_data_relative_path, frequency='4H')"
   ]
  },
  {
   "cell_type": "code",
   "execution_count": 5,
   "metadata": {},
   "outputs": [
    {
     "data": {
      "text/html": [
       "<div>\n",
       "<style scoped>\n",
       "    .dataframe tbody tr th:only-of-type {\n",
       "        vertical-align: middle;\n",
       "    }\n",
       "\n",
       "    .dataframe tbody tr th {\n",
       "        vertical-align: top;\n",
       "    }\n",
       "\n",
       "    .dataframe thead th {\n",
       "        text-align: right;\n",
       "    }\n",
       "</style>\n",
       "<table border=\"1\" class=\"dataframe\">\n",
       "  <thead>\n",
       "    <tr style=\"text-align: right;\">\n",
       "      <th></th>\n",
       "      <th>time</th>\n",
       "      <th>open</th>\n",
       "      <th>high</th>\n",
       "      <th>low</th>\n",
       "      <th>close</th>\n",
       "      <th>volume</th>\n",
       "    </tr>\n",
       "    <tr>\n",
       "      <th>ds</th>\n",
       "      <th></th>\n",
       "      <th></th>\n",
       "      <th></th>\n",
       "      <th></th>\n",
       "      <th></th>\n",
       "      <th></th>\n",
       "    </tr>\n",
       "  </thead>\n",
       "  <tbody>\n",
       "    <tr>\n",
       "      <th>2022-04-15</th>\n",
       "      <td>1649980800000</td>\n",
       "      <td>0.000001</td>\n",
       "      <td>0.000001</td>\n",
       "      <td>0.000001</td>\n",
       "      <td>0.000001</td>\n",
       "      <td>60778</td>\n",
       "    </tr>\n",
       "  </tbody>\n",
       "</table>\n",
       "</div>"
      ],
      "text/plain": [
       "                     time      open      high       low     close  volume\n",
       "ds                                                                       \n",
       "2022-04-15  1649980800000  0.000001  0.000001  0.000001  0.000001   60778"
      ]
     },
     "execution_count": 5,
     "metadata": {},
     "output_type": "execute_result"
    }
   ],
   "source": [
    "# Visualize the first loaded pair.\n",
    "market_data[next(iter(market_data))].head(1)"
   ]
  },
  {
   "cell_type": "markdown",
   "metadata": {},
   "source": [
    "### Generate External Regressors\n",
    "We calculate various market indicator values for all pairs."
   ]
  },
  {
   "cell_type": "markdown",
   "metadata": {},
   "source": [
    "#### External Regressors Utils"
   ]
  },
  {
   "cell_type": "code",
   "execution_count": 6,
   "metadata": {},
   "outputs": [],
   "source": [
    "def featurize_market_data(market_data: dict) -> dict:\n",
    "    # Perform the transformation for each pair.\n",
    "    for pair in market_data:\n",
    "        # Featurizing pair \"{pair}\" with seasonality.\n",
    "        pair_df = market_data[pair]\n",
    "        pair_df['hour'] = pair_df.apply(lambda row: row.name.hour, axis=1)\n",
    "        pair_df['day'] = pair_df.apply(lambda row: row.name.day, axis=1)\n",
    "        pair_df['week'] = pair_df.apply(lambda row: row.name.week, axis=1)\n",
    "        pair_df['month'] = pair_df.apply(lambda row: row.name.month, axis=1)\n",
    "        \n",
    "        # Features from the previous entry / row / candle.\n",
    "        pair_df['close_next'] = pair_df['close'].shift(1)\n",
    "        \n",
    "        # Featurizing pair \"{pair}\" with indicators.\n",
    "        pair_df['sma'] = talib.SMA(pair_df['close'])\n",
    "        time_periods = [ 14, 20 ]\n",
    "        stds = [ 2, 3, 4 ]\n",
    "        \n",
    "        for period in time_periods:\n",
    "            pair_df[f'rsi_tp{period}'] = RSI(pair_df['close'], timeperiod=period)\n",
    "            pair_df['adx'] = talib.ADX(pair_df['high'], pair_df['low'], pair_df['close'], timeperiod=period)\n",
    "            slowk, slowd = talib.STOCH(pair_df['high'], pair_df['low'], pair_df['close'], fastk_period=period)\n",
    "            pair_df[f'stoch_slow_k_tp_{period}'] = slowk\n",
    "            pair_df[f'stoch_slow_d_tp_{period}'] = slowd\n",
    "            \n",
    "            for deviation in stds:\n",
    "                upper, middle, lower = BBANDS(pair_df['close'], timeperiod=period, nbdevup=deviation, nbdevdn=deviation, matype=0)\n",
    "                pair_df[f'bb_upper_tp{period}_sd{deviation}'] = upper\n",
    "                pair_df[f'bb_middle_tp{period}_sd{deviation}'] = middle\n",
    "                pair_df[f'bb_lower_tp{period}_sd{deviation}'] = lower\n",
    "                \n",
    "        # We drop NANs as there will be some leading NANs due to how certain indicators are calculated. For this reason we ignore those records.\n",
    "        market_data[pair] = market_data[pair]\n",
    "        market_data[pair].columns = [ f'{pair}_{col}' for col in market_data[pair].columns]\n",
    "        \n",
    "    return market_data"
   ]
  },
  {
   "cell_type": "markdown",
   "metadata": {},
   "source": [
    "#### Data Manipulation Utils"
   ]
  },
  {
   "cell_type": "code",
   "execution_count": 7,
   "metadata": {},
   "outputs": [],
   "source": [
    "def split_training_test_data(data: pd.DataFrame, test_size: float=0.2) -> (pd.DataFrame, pd.DataFrame):\n",
    "    train_size = 1 - test_size\n",
    "    train_data = data.iloc[:int(len(data) * train_size)]\n",
    "    test_data = data.iloc[int(len(data) * train_size):]\n",
    "    \n",
    "    return train_data, test_data"
   ]
  },
  {
   "cell_type": "code",
   "execution_count": 8,
   "metadata": {},
   "outputs": [],
   "source": [
    "def concat_market_data(market_data: dict) -> pd.DataFrame:\n",
    "    return pd.concat([market_data[pair] for pair in market_data])"
   ]
  },
  {
   "cell_type": "markdown",
   "metadata": {},
   "source": [
    "#### Generate Dataframe With External Regressors Included"
   ]
  },
  {
   "cell_type": "code",
   "execution_count": 9,
   "metadata": {},
   "outputs": [],
   "source": [
    "featurized_market_data = featurize_market_data(market_data)"
   ]
  },
  {
   "cell_type": "code",
   "execution_count": 10,
   "metadata": {},
   "outputs": [
    {
     "data": {
      "text/html": [
       "<div>\n",
       "<style scoped>\n",
       "    .dataframe tbody tr th:only-of-type {\n",
       "        vertical-align: middle;\n",
       "    }\n",
       "\n",
       "    .dataframe tbody tr th {\n",
       "        vertical-align: top;\n",
       "    }\n",
       "\n",
       "    .dataframe thead th {\n",
       "        text-align: right;\n",
       "    }\n",
       "</style>\n",
       "<table border=\"1\" class=\"dataframe\">\n",
       "  <thead>\n",
       "    <tr style=\"text-align: right;\">\n",
       "      <th></th>\n",
       "      <th>IRIS_BTC_time</th>\n",
       "      <th>IRIS_BTC_open</th>\n",
       "      <th>IRIS_BTC_high</th>\n",
       "      <th>IRIS_BTC_low</th>\n",
       "      <th>IRIS_BTC_close</th>\n",
       "      <th>IRIS_BTC_volume</th>\n",
       "      <th>IRIS_BTC_hour</th>\n",
       "      <th>IRIS_BTC_day</th>\n",
       "      <th>IRIS_BTC_week</th>\n",
       "      <th>IRIS_BTC_month</th>\n",
       "      <th>...</th>\n",
       "      <th>IRIS_BTC_stoch_slow_d_tp_20</th>\n",
       "      <th>IRIS_BTC_bb_upper_tp20_sd2</th>\n",
       "      <th>IRIS_BTC_bb_middle_tp20_sd2</th>\n",
       "      <th>IRIS_BTC_bb_lower_tp20_sd2</th>\n",
       "      <th>IRIS_BTC_bb_upper_tp20_sd3</th>\n",
       "      <th>IRIS_BTC_bb_middle_tp20_sd3</th>\n",
       "      <th>IRIS_BTC_bb_lower_tp20_sd3</th>\n",
       "      <th>IRIS_BTC_bb_upper_tp20_sd4</th>\n",
       "      <th>IRIS_BTC_bb_middle_tp20_sd4</th>\n",
       "      <th>IRIS_BTC_bb_lower_tp20_sd4</th>\n",
       "    </tr>\n",
       "    <tr>\n",
       "      <th>ds</th>\n",
       "      <th></th>\n",
       "      <th></th>\n",
       "      <th></th>\n",
       "      <th></th>\n",
       "      <th></th>\n",
       "      <th></th>\n",
       "      <th></th>\n",
       "      <th></th>\n",
       "      <th></th>\n",
       "      <th></th>\n",
       "      <th></th>\n",
       "      <th></th>\n",
       "      <th></th>\n",
       "      <th></th>\n",
       "      <th></th>\n",
       "      <th></th>\n",
       "      <th></th>\n",
       "      <th></th>\n",
       "      <th></th>\n",
       "      <th></th>\n",
       "      <th></th>\n",
       "    </tr>\n",
       "  </thead>\n",
       "  <tbody>\n",
       "    <tr>\n",
       "      <th>2022-04-15</th>\n",
       "      <td>1649980800000</td>\n",
       "      <td>0.000001</td>\n",
       "      <td>0.000001</td>\n",
       "      <td>0.000001</td>\n",
       "      <td>0.000001</td>\n",
       "      <td>60778</td>\n",
       "      <td>0</td>\n",
       "      <td>15</td>\n",
       "      <td>15</td>\n",
       "      <td>4</td>\n",
       "      <td>...</td>\n",
       "      <td>NaN</td>\n",
       "      <td>NaN</td>\n",
       "      <td>NaN</td>\n",
       "      <td>NaN</td>\n",
       "      <td>NaN</td>\n",
       "      <td>NaN</td>\n",
       "      <td>NaN</td>\n",
       "      <td>NaN</td>\n",
       "      <td>NaN</td>\n",
       "      <td>NaN</td>\n",
       "    </tr>\n",
       "  </tbody>\n",
       "</table>\n",
       "<p>1 rows × 37 columns</p>\n",
       "</div>"
      ],
      "text/plain": [
       "            IRIS_BTC_time  IRIS_BTC_open  IRIS_BTC_high  IRIS_BTC_low  \\\n",
       "ds                                                                      \n",
       "2022-04-15  1649980800000       0.000001       0.000001      0.000001   \n",
       "\n",
       "            IRIS_BTC_close  IRIS_BTC_volume  IRIS_BTC_hour  IRIS_BTC_day  \\\n",
       "ds                                                                         \n",
       "2022-04-15        0.000001            60778              0            15   \n",
       "\n",
       "            IRIS_BTC_week  IRIS_BTC_month  ...  IRIS_BTC_stoch_slow_d_tp_20  \\\n",
       "ds                                         ...                                \n",
       "2022-04-15             15               4  ...                          NaN   \n",
       "\n",
       "            IRIS_BTC_bb_upper_tp20_sd2  IRIS_BTC_bb_middle_tp20_sd2  \\\n",
       "ds                                                                    \n",
       "2022-04-15                         NaN                          NaN   \n",
       "\n",
       "            IRIS_BTC_bb_lower_tp20_sd2  IRIS_BTC_bb_upper_tp20_sd3  \\\n",
       "ds                                                                   \n",
       "2022-04-15                         NaN                         NaN   \n",
       "\n",
       "            IRIS_BTC_bb_middle_tp20_sd3  IRIS_BTC_bb_lower_tp20_sd3  \\\n",
       "ds                                                                    \n",
       "2022-04-15                          NaN                         NaN   \n",
       "\n",
       "            IRIS_BTC_bb_upper_tp20_sd4  IRIS_BTC_bb_middle_tp20_sd4  \\\n",
       "ds                                                                    \n",
       "2022-04-15                         NaN                          NaN   \n",
       "\n",
       "            IRIS_BTC_bb_lower_tp20_sd4  \n",
       "ds                                      \n",
       "2022-04-15                         NaN  \n",
       "\n",
       "[1 rows x 37 columns]"
      ]
     },
     "execution_count": 10,
     "metadata": {},
     "output_type": "execute_result"
    }
   ],
   "source": [
    "featurized_market_data[next(iter(featurized_market_data))].head(1)"
   ]
  },
  {
   "cell_type": "code",
   "execution_count": 11,
   "metadata": {},
   "outputs": [],
   "source": [
    "all_feature_data = concat_market_data(featurized_market_data)"
   ]
  },
  {
   "cell_type": "code",
   "execution_count": 16,
   "metadata": {},
   "outputs": [
    {
     "name": "stdout",
     "output_type": "stream",
     "text": [
      "Training Set: (10366, 1776), Test Set: (2592, 1776)\n"
     ]
    }
   ],
   "source": [
    "all_feature_data_train, all_feature_data_test = split_training_test_data(all_feature_data)\n",
    "\n",
    "print(f'Training Set: {all_feature_data_train.shape}, Test Set: {all_feature_data_test.shape}')"
   ]
  },
  {
   "cell_type": "markdown",
   "metadata": {},
   "source": [
    "## Forecasting Models"
   ]
  },
  {
   "cell_type": "markdown",
   "metadata": {},
   "source": [
    "### Extreme Gradiant Boosting"
   ]
  },
  {
   "cell_type": "code",
   "execution_count": 13,
   "metadata": {},
   "outputs": [],
   "source": [
    "model = xgb.XGBRegressor()"
   ]
  },
  {
   "cell_type": "code",
   "execution_count": 37,
   "metadata": {},
   "outputs": [
    {
     "data": {
      "text/plain": [
       "<AxesSubplot:xlabel='ds'>"
      ]
     },
     "execution_count": 37,
     "metadata": {},
     "output_type": "execute_result"
    },
    {
     "data": {
      "image/png": "[encoded data removed]",
      "text/plain": [
       "<Figure size 576x288 with 1 Axes>"
      ]
     },
     "metadata": {
      "needs_background": "light"
     },
     "output_type": "display_data"
    }
   ],
   "source": [
    "pair_data_train, pair_data_test = split_training_test_data(featurized_market_data['DOGE_BTC'].dropna())\n",
    "\n",
    "pair_data_train['DOGE_BTC_close'].rename('Training Data').plot(figsize=(8,4), legend=True)\n",
    "pair_data_test['DOGE_BTC_close'].rename('Testing Data').plot(legend=True)"
   ]
  },
  {
   "cell_type": "markdown",
   "metadata": {},
   "source": [
    "### Facebook Prophet"
   ]
  },
  {
   "cell_type": "code",
   "execution_count": 29,
   "metadata": {},
   "outputs": [],
   "source": [
    "### TEST\n",
    "pair_data_train, pair_data_test = split_training_test_data(featurized_market_data['DOGE_BTC'].dropna())\n",
    "### END TEST"
   ]
  },
  {
   "cell_type": "code",
   "execution_count": 28,
   "metadata": {},
   "outputs": [
    {
     "data": {
      "text/plain": [
       "(55, 37)"
      ]
     },
     "execution_count": 28,
     "metadata": {},
     "output_type": "execute_result"
    }
   ],
   "source": [
    "pair_data_test.shape"
   ]
  },
  {
   "cell_type": "code",
   "execution_count": null,
   "metadata": {},
   "outputs": [],
   "source": []
  }
 ],
 "metadata": {
  "interpreter": {
   "hash": "f237d2a9665fb481726a5cf6ceac5955148535d2fa68bde4e6b3866477620792"
  },
  "kernelspec": {
   "display_name": "Python 3.9.7 ('tensorflow-apple-metal')",
   "language": "python",
   "name": "python3"
  },
  "language_info": {
   "codemirror_mode": {
    "name": "ipython",
    "version": 3
   },
   "file_extension": ".py",
   "mimetype": "text/x-python",
   "name": "python",
   "nbconvert_exporter": "python",
   "pygments_lexer": "ipython3",
   "version": "3.9.7"
  },
  "orig_nbformat": 4
 },
 "nbformat": 4,
 "nbformat_minor": 2
}
