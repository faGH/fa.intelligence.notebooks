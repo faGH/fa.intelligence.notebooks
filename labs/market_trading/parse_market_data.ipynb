{
 "cells": [
  {
   "cell_type": "markdown",
   "metadata": {},
   "source": [
    "# Parse Binance Market DataLoad downloaded market data from a given directory into a usable dataframe."
   ]
  },
  {
   "cell_type": "markdown",
   "metadata": {},
   "source": [
    "#### Fetch Latest Market Data"
   ]
  },
  {
   "cell_type": "code",
   "execution_count": 1,
   "metadata": {},
   "outputs": [
    {
     "name": "stderr",
     "output_type": "stream",
     "text": [
      "2021-10-22 08:05:48,807 - freqtrade.configuration.configuration - INFO - Using config: user_data/config.json ...\n",
      "2021-10-22 08:05:48,815 - freqtrade.loggers - INFO - Verbosity set to 0\n",
      "2021-10-22 08:05:48,815 - freqtrade.configuration.configuration - INFO - Using exchange binance\n",
      "2021-10-22 08:05:48,880 - freqtrade.configuration.configuration - INFO - Using user-data directory: /freqtrade/user_data ...\n",
      "2021-10-22 08:05:48,881 - freqtrade.configuration.configuration - INFO - Using data directory: /freqtrade/user_data/data/binance ...\n",
      "2021-10-22 08:05:48,881 - freqtrade.configuration.configuration - INFO - timeframes --timeframes: ['1h']\n",
      "2021-10-22 08:05:48,881 - freqtrade.configuration.configuration - INFO - Detected --days: 3000\n",
      "2021-10-22 08:05:48,882 - freqtrade.configuration.check_exchange - INFO - Checking exchange...\n",
      "2021-10-22 08:05:48,891 - freqtrade.configuration.check_exchange - INFO - Exchange \"binance\" is officially supported by the Freqtrade development team.\n",
      "2021-10-22 08:05:48,891 - freqtrade.configuration.configuration - INFO - Using pairlist from configuration.\n",
      "2021-10-22 08:05:48,891 - freqtrade.configuration.deprecated_settings - WARNING - DEPRECATED: The `ask_strategy.use_sell_signal` setting is deprecated and will be removed in the next versions of Freqtrade. Please use the `use_sell_signal` setting in your configuration instead.\n",
      "2021-10-22 08:05:48,891 - freqtrade.configuration.deprecated_settings - WARNING - DEPRECATED: The `ask_strategy.sell_profit_only` setting is deprecated and will be removed in the next versions of Freqtrade. Please use the `sell_profit_only` setting in your configuration instead.\n",
      "2021-10-22 08:05:48,892 - freqtrade.configuration.deprecated_settings - WARNING - DEPRECATED: The `ask_strategy.ignore_roi_if_buy_signal` setting is deprecated and will be removed in the next versions of Freqtrade. Please use the `ignore_roi_if_buy_signal` setting in your configuration instead.\n",
      "2021-10-22 08:05:48,892 - freqtrade.configuration.config_validation - INFO - Validating configuration ...\n",
      "2021-10-22 08:05:48,895 - freqtrade.exchange.exchange - INFO - Instance is running with dry_run enabled\n",
      "2021-10-22 08:05:48,895 - freqtrade.exchange.exchange - INFO - Using CCXT 1.57.3\n",
      "2021-10-22 08:05:48,896 - freqtrade.exchange.exchange - INFO - Applying additional ccxt config: {'enableRateLimit': True}\n",
      "2021-10-22 08:05:48,903 - freqtrade.exchange.exchange - INFO - Applying additional ccxt config: {'enableRateLimit': False}\n",
      "2021-10-22 08:05:48,911 - freqtrade.exchange.exchange - INFO - Using Exchange \"Binance\"\n",
      "2021-10-22 08:05:48,911 - freqtrade.resolvers.exchange_resolver - INFO - Using resolved exchange 'Binance'...\n",
      "2021-10-22 08:05:48,911 - freqtrade.exchange.exchange - INFO - Markets were not loaded. Loading them now..\n",
      "2021-10-22 08:05:53,597 - freqtrade.commands.data_commands - INFO - About to download pairs: ['SAND/BTC', 'MANA/BTC', 'BQX/BTC', 'ALGO/BTC', 'IRIS/BTC', 'THETA/BTC', 'XRP/BTC', 'UNFI/BTC', 'AXS/BTC', 'GLM/BTC', 'BNB/BTC', 'BAT/BTC', 'BOT/BTC', 'OMG/BTC', 'FIL/BTC', 'ICX/BTC', 'STRAX/BTC', 'SXP/BTC', 'XMR/BTC', 'BRD/BTC', 'XEM/BTC', 'IOTA/BTC', 'FET/BTC', 'LTO/BTC', 'SYS/BTC', 'GRT/BTC', 'DNT/BTC', 'SUSHI/BTC', 'BCH/BTC', 'EOS/BTC', 'ATOM/BTC', 'AAVE/BTC', 'COTI/BTC', 'LTC/BTC', 'SOL/BTC', 'XTZ/BTC', 'SRM/BTC', 'HBAR/BTC', 'ROSE/BTC', 'TFUEL/BTC', 'AKRO/BTC', 'ONT/BTC', 'ZIL/BTC', 'VET/BTC', 'TRX/BTC', 'MATIC/BTC', 'CELO/BTC', 'STPT/BTC', 'DOGE/BTC', 'SC/BTC', 'NANO/BTC'], intervals: ['1h'] to /freqtrade/user_data/data/binance\n",
      "2021-10-22 08:05:53,599 - freqtrade.data.history.history_utils - INFO - Downloading pair SAND/BTC, interval 1h.\n",
      "2021-10-22 08:05:53,599 - freqtrade.data.history.history_utils - INFO - Download history data for pair: \"SAND/BTC\" (1/51), timeframe: 1h and store in /freqtrade/user_data/data/binance.\n",
      "2021-10-22 08:05:54,472 - freqtrade.exchange.binance - INFO - Candle-data for SAND/BTC available starting with 2020-08-14T13:00:00+00:00.\n",
      "2021-10-22 08:05:57,267 - freqtrade.exchange.exchange - INFO - Downloaded data for SAND/BTC with length 10394.\n",
      "2021-10-22 08:05:57,293 - freqtrade.data.history.history_utils - INFO - Downloading pair MANA/BTC, interval 1h.\n",
      "2021-10-22 08:05:57,293 - freqtrade.data.history.history_utils - INFO - Download history data for pair: \"MANA/BTC\" (2/51), timeframe: 1h and store in /freqtrade/user_data/data/binance.\n",
      "2021-10-22 08:05:58,169 - freqtrade.exchange.binance - INFO - Candle-data for MANA/BTC available starting with 2017-11-24T02:00:00+00:00.\n",
      "2021-10-22 08:06:01,526 - freqtrade.exchange.exchange - INFO - Downloaded data for MANA/BTC with length 34160.\n",
      "2021-10-22 08:06:01,587 - freqtrade.data.history.history_utils - INFO - Downloading pair BQX/BTC, interval 1h.\n",
      "2021-10-22 08:06:01,588 - freqtrade.data.history.history_utils - INFO - Download history data for pair: \"BQX/BTC\" (3/51), timeframe: 1h and store in /freqtrade/user_data/data/binance.\n",
      "2021-10-22 08:06:02,412 - freqtrade.exchange.binance - INFO - Candle-data for BQX/BTC available starting with 2017-09-22T10:00:00+00:00.\n",
      "2021-10-22 08:06:04,011 - freqtrade.exchange.exchange - INFO - Downloaded data for BQX/BTC with length 34053.\n",
      "2021-10-22 08:06:04,070 - freqtrade.data.history.history_utils - INFO - Downloading pair ALGO/BTC, interval 1h.\n",
      "2021-10-22 08:06:04,070 - freqtrade.data.history.history_utils - INFO - Download history data for pair: \"ALGO/BTC\" (4/51), timeframe: 1h and store in /freqtrade/user_data/data/binance.\n",
      "2021-10-22 08:06:04,869 - freqtrade.exchange.binance - INFO - Candle-data for ALGO/BTC available starting with 2019-06-22T00:00:00+00:00.\n",
      "2021-10-22 08:06:06,038 - freqtrade.exchange.exchange - INFO - Downloaded data for ALGO/BTC with length 20439.\n",
      "2021-10-22 08:06:06,078 - freqtrade.data.history.history_utils - INFO - Downloading pair IRIS/BTC, interval 1h.\n",
      "2021-10-22 08:06:06,078 - freqtrade.data.history.history_utils - INFO - Download history data for pair: \"IRIS/BTC\" (5/51), timeframe: 1h and store in /freqtrade/user_data/data/binance.\n",
      "2021-10-22 08:06:06,861 - freqtrade.exchange.binance - INFO - Candle-data for IRIS/BTC available starting with 2020-07-21T13:00:00+00:00.\n",
      "2021-10-22 08:06:08,294 - freqtrade.exchange.exchange - INFO - Downloaded data for IRIS/BTC with length 10970.\n",
      "2021-10-22 08:06:08,318 - freqtrade.data.history.history_utils - INFO - Downloading pair THETA/BTC, interval 1h.\n",
      "2021-10-22 08:06:08,318 - freqtrade.data.history.history_utils - INFO - Download history data for pair: \"THETA/BTC\" (6/51), timeframe: 1h and store in /freqtrade/user_data/data/binance.\n",
      "2021-10-22 08:06:09,198 - freqtrade.exchange.binance - INFO - Candle-data for THETA/BTC available starting with 2018-05-29T07:00:00+00:00.\n",
      "2021-10-22 08:06:16,703 - freqtrade.exchange.exchange - INFO - Downloaded data for THETA/BTC with length 29724.\n",
      "2021-10-22 08:06:16,755 - freqtrade.data.history.history_utils - INFO - Downloading pair XRP/BTC, interval 1h.\n",
      "2021-10-22 08:06:16,755 - freqtrade.data.history.history_utils - INFO - Download history data for pair: \"XRP/BTC\" (7/51), timeframe: 1h and store in /freqtrade/user_data/data/binance.\n",
      "2021-10-22 08:06:17,660 - freqtrade.exchange.binance - INFO - Candle-data for XRP/BTC available starting with 2017-11-02T07:00:00+00:00.\n",
      "2021-10-22 08:06:19,060 - freqtrade.exchange.exchange - INFO - Downloaded data for XRP/BTC with length 34683.\n",
      "2021-10-22 08:06:19,119 - freqtrade.data.history.history_utils - INFO - Downloading pair UNFI/BTC, interval 1h.\n",
      "2021-10-22 08:06:19,119 - freqtrade.data.history.history_utils - INFO - Download history data for pair: \"UNFI/BTC\" (8/51), timeframe: 1h and store in /freqtrade/user_data/data/binance.\n",
      "2021-10-22 08:06:20,500 - freqtrade.exchange.binance - INFO - Candle-data for UNFI/BTC available starting with 2020-11-19T06:00:00+00:00.\n",
      "2021-10-22 08:06:21,337 - freqtrade.exchange.exchange - INFO - Downloaded data for UNFI/BTC with length 8073.\n",
      "2021-10-22 08:06:21,358 - freqtrade.data.history.history_utils - INFO - Downloading pair AXS/BTC, interval 1h.\n",
      "2021-10-22 08:06:21,359 - freqtrade.data.history.history_utils - INFO - Download history data for pair: \"AXS/BTC\" (9/51), timeframe: 1h and store in /freqtrade/user_data/data/binance.\n",
      "2021-10-22 08:06:22,318 - freqtrade.exchange.binance - INFO - Candle-data for AXS/BTC available starting with 2020-11-04T13:00:00+00:00.\n",
      "2021-10-22 08:06:23,650 - freqtrade.exchange.exchange - INFO - Downloaded data for AXS/BTC with length 8426.\n",
      "2021-10-22 08:06:23,672 - freqtrade.data.history.history_utils - INFO - Downloading pair GLM/BTC, interval 1h.\n",
      "2021-10-22 08:06:23,672 - freqtrade.data.history.history_utils - INFO - Download history data for pair: \"GLM/BTC\" (10/51), timeframe: 1h and store in /freqtrade/user_data/data/binance.\n",
      "2021-10-22 08:06:24,419 - freqtrade.exchange.binance - INFO - Candle-data for GLM/BTC available starting with 2020-12-10T04:00:00+00:00.\n",
      "2021-10-22 08:06:25,545 - freqtrade.exchange.exchange - INFO - Downloaded data for GLM/BTC with length 7572.\n",
      "2021-10-22 08:06:25,565 - freqtrade.data.history.history_utils - INFO - Downloading pair BNB/BTC, interval 1h.\n",
      "2021-10-22 08:06:25,565 - freqtrade.data.history.history_utils - INFO - Download history data for pair: \"BNB/BTC\" (11/51), timeframe: 1h and store in /freqtrade/user_data/data/binance.\n",
      "2021-10-22 08:06:26,388 - freqtrade.exchange.binance - INFO - Candle-data for BNB/BTC available starting with 2017-07-14T04:00:00+00:00.\n",
      "2021-10-22 08:06:30,065 - freqtrade.exchange.exchange - INFO - Downloaded data for BNB/BTC with length 37343.\n",
      "2021-10-22 08:06:30,127 - freqtrade.data.history.history_utils - INFO - Downloading pair BAT/BTC, interval 1h.\n",
      "2021-10-22 08:06:30,127 - freqtrade.data.history.history_utils - INFO - Download history data for pair: \"BAT/BTC\" (12/51), timeframe: 1h and store in /freqtrade/user_data/data/binance.\n",
      "2021-10-22 08:06:30,929 - freqtrade.exchange.binance - INFO - Candle-data for BAT/BTC available starting with 2017-11-13T11:00:00+00:00.\n",
      "2021-10-22 08:06:32,298 - freqtrade.exchange.exchange - INFO - Downloaded data for BAT/BTC with length 34415.\n",
      "2021-10-22 08:06:32,357 - freqtrade.data.history.history_utils - INFO - Downloading pair BOT/BTC, interval 1h.\n",
      "2021-10-22 08:06:32,357 - freqtrade.data.history.history_utils - INFO - Download history data for pair: \"BOT/BTC\" (13/51), timeframe: 1h and store in /freqtrade/user_data/data/binance.\n",
      "2021-10-22 08:06:33,091 - freqtrade.exchange.binance - INFO - Candle-data for BOT/BTC available starting with 2020-10-29T08:00:00+00:00.\n",
      "2021-10-22 08:06:35,386 - freqtrade.exchange.exchange - INFO - Downloaded data for BOT/BTC with length 2752.\n",
      "2021-10-22 08:06:35,400 - freqtrade.data.history.history_utils - INFO - Downloading pair OMG/BTC, interval 1h.\n",
      "2021-10-22 08:06:35,401 - freqtrade.data.history.history_utils - INFO - Download history data for pair: \"OMG/BTC\" (14/51), timeframe: 1h and store in /freqtrade/user_data/data/binance.\n",
      "2021-10-22 08:06:36,242 - freqtrade.exchange.binance - INFO - Candle-data for OMG/BTC available starting with 2017-09-12T04:00:00+00:00.\n",
      "2021-10-22 08:06:37,567 - freqtrade.exchange.exchange - INFO - Downloaded data for OMG/BTC with length 35910.\n",
      "2021-10-22 08:06:37,628 - freqtrade.data.history.history_utils - INFO - Downloading pair FIL/BTC, interval 1h.\n",
      "2021-10-22 08:06:37,628 - freqtrade.data.history.history_utils - INFO - Download history data for pair: \"FIL/BTC\" (15/51), timeframe: 1h and store in /freqtrade/user_data/data/binance.\n",
      "2021-10-22 08:06:38,416 - freqtrade.exchange.binance - INFO - Candle-data for FIL/BTC available starting with 2020-10-15T17:00:00+00:00.\n",
      "2021-10-22 08:06:39,208 - freqtrade.exchange.exchange - INFO - Downloaded data for FIL/BTC with length 8902.\n",
      "2021-10-22 08:06:39,231 - freqtrade.data.history.history_utils - INFO - Downloading pair ICX/BTC, interval 1h.\n",
      "2021-10-22 08:06:39,232 - freqtrade.data.history.history_utils - INFO - Download history data for pair: \"ICX/BTC\" (16/51), timeframe: 1h and store in /freqtrade/user_data/data/binance.\n",
      "2021-10-22 08:06:40,127 - freqtrade.exchange.binance - INFO - Candle-data for ICX/BTC available starting with 2017-12-18T05:00:00+00:00.\n",
      "2021-10-22 08:06:41,614 - freqtrade.exchange.exchange - INFO - Downloaded data for ICX/BTC with length 33581.\n",
      "2021-10-22 08:06:41,673 - freqtrade.data.history.history_utils - INFO - Downloading pair STRAX/BTC, interval 1h.\n",
      "2021-10-22 08:06:41,673 - freqtrade.data.history.history_utils - INFO - Download history data for pair: \"STRAX/BTC\" (17/51), timeframe: 1h and store in /freqtrade/user_data/data/binance.\n",
      "2021-10-22 08:06:42,409 - freqtrade.exchange.binance - INFO - Candle-data for STRAX/BTC available starting with 2020-11-18T03:00:00+00:00.\n",
      "2021-10-22 08:06:44,144 - freqtrade.exchange.exchange - INFO - Downloaded data for STRAX/BTC with length 8100.\n",
      "2021-10-22 08:06:44,166 - freqtrade.data.history.history_utils - INFO - Downloading pair SXP/BTC, interval 1h.\n",
      "2021-10-22 08:06:44,166 - freqtrade.data.history.history_utils - INFO - Download history data for pair: \"SXP/BTC\" (18/51), timeframe: 1h and store in /freqtrade/user_data/data/binance.\n",
      "2021-10-22 08:06:44,966 - freqtrade.exchange.binance - INFO - Candle-data for SXP/BTC available starting with 2020-07-07T14:00:00+00:00.\n",
      "2021-10-22 08:06:45,827 - freqtrade.exchange.exchange - INFO - Downloaded data for SXP/BTC with length 11305.\n",
      "2021-10-22 08:06:45,854 - freqtrade.data.history.history_utils - INFO - Downloading pair XMR/BTC, interval 1h.\n",
      "2021-10-22 08:06:45,854 - freqtrade.data.history.history_utils - INFO - Download history data for pair: \"XMR/BTC\" (19/51), timeframe: 1h and store in /freqtrade/user_data/data/binance.\n",
      "2021-10-22 08:06:46,694 - freqtrade.exchange.binance - INFO - Candle-data for XMR/BTC available starting with 2017-11-10T06:00:00+00:00.\n",
      "2021-10-22 08:06:48,052 - freqtrade.exchange.exchange - INFO - Downloaded data for XMR/BTC with length 34502.\n",
      "2021-10-22 08:06:48,113 - freqtrade.data.history.history_utils - INFO - Downloading pair BRD/BTC, interval 1h.\n",
      "2021-10-22 08:06:48,113 - freqtrade.data.history.history_utils - INFO - Download history data for pair: \"BRD/BTC\" (20/51), timeframe: 1h and store in /freqtrade/user_data/data/binance.\n",
      "2021-10-22 08:06:48,899 - freqtrade.exchange.binance - INFO - Candle-data for BRD/BTC available starting with 2017-12-24T04:00:00+00:00.\n",
      "2021-10-22 08:06:50,694 - freqtrade.exchange.exchange - INFO - Downloaded data for BRD/BTC with length 33438.\n",
      "2021-10-22 08:06:50,754 - freqtrade.data.history.history_utils - INFO - Downloading pair XEM/BTC, interval 1h.\n",
      "2021-10-22 08:06:50,754 - freqtrade.data.history.history_utils - INFO - Download history data for pair: \"XEM/BTC\" (21/51), timeframe: 1h and store in /freqtrade/user_data/data/binance.\n",
      "2021-10-22 08:06:51,626 - freqtrade.exchange.binance - INFO - Candle-data for XEM/BTC available starting with 2018-03-20T11:00:00+00:00.\n",
      "2021-10-22 08:06:53,417 - freqtrade.exchange.exchange - INFO - Downloaded data for XEM/BTC with length 31400.\n",
      "2021-10-22 08:06:53,474 - freqtrade.data.history.history_utils - INFO - Downloading pair IOTA/BTC, interval 1h.\n",
      "2021-10-22 08:06:53,474 - freqtrade.data.history.history_utils - INFO - Download history data for pair: \"IOTA/BTC\" (22/51), timeframe: 1h and store in /freqtrade/user_data/data/binance.\n",
      "2021-10-22 08:06:54,640 - freqtrade.exchange.binance - INFO - Candle-data for IOTA/BTC available starting with 2017-09-30T09:00:00+00:00.\n",
      "2021-10-22 08:06:57,598 - freqtrade.exchange.exchange - INFO - Downloaded data for IOTA/BTC with length 35473.\n",
      "2021-10-22 08:06:57,662 - freqtrade.data.history.history_utils - INFO - Downloading pair FET/BTC, interval 1h.\n",
      "2021-10-22 08:06:57,662 - freqtrade.data.history.history_utils - INFO - Download history data for pair: \"FET/BTC\" (23/51), timeframe: 1h and store in /freqtrade/user_data/data/binance.\n",
      "2021-10-22 08:06:58,480 - freqtrade.exchange.binance - INFO - Candle-data for FET/BTC available starting with 2019-02-28T10:00:00+00:00.\n",
      "2021-10-22 08:06:59,606 - freqtrade.exchange.exchange - INFO - Downloaded data for FET/BTC with length 23149.\n",
      "2021-10-22 08:06:59,650 - freqtrade.data.history.history_utils - INFO - Downloading pair LTO/BTC, interval 1h.\n",
      "2021-10-22 08:06:59,651 - freqtrade.data.history.history_utils - INFO - Download history data for pair: \"LTO/BTC\" (24/51), timeframe: 1h and store in /freqtrade/user_data/data/binance.\n",
      "2021-10-22 08:07:00,848 - freqtrade.exchange.binance - INFO - Candle-data for LTO/BTC available starting with 2020-02-07T14:00:00+00:00.\n",
      "2021-10-22 08:07:01,978 - freqtrade.exchange.exchange - INFO - Downloaded data for LTO/BTC with length 14917.\n",
      "2021-10-22 08:07:02,009 - freqtrade.data.history.history_utils - INFO - Downloading pair SYS/BTC, interval 1h.\n",
      "2021-10-22 08:07:02,009 - freqtrade.data.history.history_utils - INFO - Download history data for pair: \"SYS/BTC\" (25/51), timeframe: 1h and store in /freqtrade/user_data/data/binance.\n",
      "2021-10-22 08:07:03,251 - freqtrade.exchange.binance - INFO - Candle-data for SYS/BTC available starting with 2018-03-28T08:00:00+00:00.\n",
      "2021-10-22 08:07:04,526 - freqtrade.exchange.exchange - INFO - Downloaded data for SYS/BTC with length 31211.\n",
      "2021-10-22 08:07:04,580 - freqtrade.data.history.history_utils - INFO - Downloading pair GRT/BTC, interval 1h.\n",
      "2021-10-22 08:07:04,580 - freqtrade.data.history.history_utils - INFO - Download history data for pair: \"GRT/BTC\" (26/51), timeframe: 1h and store in /freqtrade/user_data/data/binance.\n",
      "2021-10-22 08:07:05,356 - freqtrade.exchange.binance - INFO - Candle-data for GRT/BTC available starting with 2020-12-17T20:00:00+00:00.\n",
      "2021-10-22 08:07:06,659 - freqtrade.exchange.exchange - INFO - Downloaded data for GRT/BTC with length 7388.\n",
      "2021-10-22 08:07:06,679 - freqtrade.data.history.history_utils - INFO - Downloading pair DNT/BTC, interval 1h.\n",
      "2021-10-22 08:07:06,679 - freqtrade.data.history.history_utils - INFO - Download history data for pair: \"DNT/BTC\" (27/51), timeframe: 1h and store in /freqtrade/user_data/data/binance.\n",
      "2021-10-22 08:07:07,584 - freqtrade.exchange.binance - INFO - Candle-data for DNT/BTC available starting with 2017-10-16T04:00:00+00:00.\n",
      "2021-10-22 08:07:08,858 - freqtrade.exchange.exchange - INFO - Downloaded data for DNT/BTC with length 35094.\n",
      "2021-10-22 08:07:08,918 - freqtrade.data.history.history_utils - INFO - Downloading pair SUSHI/BTC, interval 1h.\n",
      "2021-10-22 08:07:08,918 - freqtrade.data.history.history_utils - INFO - Download history data for pair: \"SUSHI/BTC\" (28/51), timeframe: 1h and store in /freqtrade/user_data/data/binance.\n",
      "2021-10-22 08:07:09,710 - freqtrade.exchange.binance - INFO - Candle-data for SUSHI/BTC available starting with 2020-09-01T11:00:00+00:00.\n",
      "2021-10-22 08:07:11,395 - freqtrade.exchange.exchange - INFO - Downloaded data for SUSHI/BTC with length 9964.\n",
      "2021-10-22 08:07:11,419 - freqtrade.data.history.history_utils - INFO - Downloading pair BCH/BTC, interval 1h.\n",
      "2021-10-22 08:07:11,419 - freqtrade.data.history.history_utils - INFO - Download history data for pair: \"BCH/BTC\" (29/51), timeframe: 1h and store in /freqtrade/user_data/data/binance.\n",
      "2021-10-22 08:07:12,616 - freqtrade.exchange.binance - INFO - Candle-data for BCH/BTC available starting with 2019-11-28T10:00:00+00:00.\n",
      "2021-10-22 08:07:14,094 - freqtrade.exchange.exchange - INFO - Downloaded data for BCH/BTC with length 16625.\n",
      "2021-10-22 08:07:14,128 - freqtrade.data.history.history_utils - INFO - Downloading pair EOS/BTC, interval 1h.\n",
      "2021-10-22 08:07:14,129 - freqtrade.data.history.history_utils - INFO - Download history data for pair: \"EOS/BTC\" (30/51), timeframe: 1h and store in /freqtrade/user_data/data/binance.\n",
      "2021-10-22 08:07:15,681 - freqtrade.exchange.binance - INFO - Candle-data for EOS/BTC available starting with 2017-10-11T07:00:00+00:00.\n",
      "2021-10-22 08:07:17,040 - freqtrade.exchange.exchange - INFO - Downloaded data for EOS/BTC with length 35211.\n",
      "2021-10-22 08:07:17,103 - freqtrade.data.history.history_utils - INFO - Downloading pair ATOM/BTC, interval 1h.\n",
      "2021-10-22 08:07:17,103 - freqtrade.data.history.history_utils - INFO - Download history data for pair: \"ATOM/BTC\" (31/51), timeframe: 1h and store in /freqtrade/user_data/data/binance.\n",
      "2021-10-22 08:07:18,352 - freqtrade.exchange.binance - INFO - Candle-data for ATOM/BTC available starting with 2019-04-29T04:00:00+00:00.\n",
      "2021-10-22 08:07:20,298 - freqtrade.exchange.exchange - INFO - Downloaded data for ATOM/BTC with length 21721.\n",
      "2021-10-22 08:07:20,344 - freqtrade.data.history.history_utils - INFO - Downloading pair AAVE/BTC, interval 1h.\n",
      "2021-10-22 08:07:20,344 - freqtrade.data.history.history_utils - INFO - Download history data for pair: \"AAVE/BTC\" (32/51), timeframe: 1h and store in /freqtrade/user_data/data/binance.\n",
      "2021-10-22 08:07:21,102 - freqtrade.exchange.binance - INFO - Candle-data for AAVE/BTC available starting with 2020-10-15T03:00:00+00:00.\n",
      "2021-10-22 08:07:22,234 - freqtrade.exchange.exchange - INFO - Downloaded data for AAVE/BTC with length 8916.\n",
      "2021-10-22 08:07:22,256 - freqtrade.data.history.history_utils - INFO - Downloading pair COTI/BTC, interval 1h.\n",
      "2021-10-22 08:07:22,256 - freqtrade.data.history.history_utils - INFO - Download history data for pair: \"COTI/BTC\" (33/51), timeframe: 1h and store in /freqtrade/user_data/data/binance.\n",
      "2021-10-22 08:07:23,342 - freqtrade.exchange.binance - INFO - Candle-data for COTI/BTC available starting with 2020-02-26T14:00:00+00:00.\n",
      "2021-10-22 08:07:24,651 - freqtrade.exchange.exchange - INFO - Downloaded data for COTI/BTC with length 14467.\n",
      "2021-10-22 08:07:24,681 - freqtrade.data.history.history_utils - INFO - Downloading pair LTC/BTC, interval 1h.\n",
      "2021-10-22 08:07:24,682 - freqtrade.data.history.history_utils - INFO - Download history data for pair: \"LTC/BTC\" (34/51), timeframe: 1h and store in /freqtrade/user_data/data/binance.\n",
      "2021-10-22 08:07:25,594 - freqtrade.exchange.binance - INFO - Candle-data for LTC/BTC available starting with 2017-07-14T04:00:00+00:00.\n",
      "2021-10-22 08:07:27,551 - freqtrade.exchange.exchange - INFO - Downloaded data for LTC/BTC with length 37353.\n",
      "2021-10-22 08:07:27,616 - freqtrade.data.history.history_utils - INFO - Downloading pair SOL/BTC, interval 1h.\n",
      "2021-10-22 08:07:27,617 - freqtrade.data.history.history_utils - INFO - Download history data for pair: \"SOL/BTC\" (35/51), timeframe: 1h and store in /freqtrade/user_data/data/binance.\n",
      "2021-10-22 08:07:28,380 - freqtrade.exchange.binance - INFO - Candle-data for SOL/BTC available starting with 2020-04-10T04:00:00+00:00.\n",
      "2021-10-22 08:07:29,820 - freqtrade.exchange.exchange - INFO - Downloaded data for SOL/BTC with length 13422.\n",
      "2021-10-22 08:07:29,850 - freqtrade.data.history.history_utils - INFO - Downloading pair XTZ/BTC, interval 1h.\n",
      "2021-10-22 08:07:29,851 - freqtrade.data.history.history_utils - INFO - Download history data for pair: \"XTZ/BTC\" (36/51), timeframe: 1h and store in /freqtrade/user_data/data/binance.\n",
      "2021-10-22 08:07:30,928 - freqtrade.exchange.binance - INFO - Candle-data for XTZ/BTC available starting with 2019-09-24T11:00:00+00:00.\n",
      "2021-10-22 08:07:32,198 - freqtrade.exchange.exchange - INFO - Downloaded data for XTZ/BTC with length 18180.\n",
      "2021-10-22 08:07:32,234 - freqtrade.data.history.history_utils - INFO - Downloading pair SRM/BTC, interval 1h.\n",
      "2021-10-22 08:07:32,234 - freqtrade.data.history.history_utils - INFO - Download history data for pair: \"SRM/BTC\" (37/51), timeframe: 1h and store in /freqtrade/user_data/data/binance.\n",
      "2021-10-22 08:07:33,005 - freqtrade.exchange.binance - INFO - Candle-data for SRM/BTC available starting with 2020-08-11T13:00:00+00:00.\n",
      "2021-10-22 08:07:34,069 - freqtrade.exchange.exchange - INFO - Downloaded data for SRM/BTC with length 10466.\n",
      "2021-10-22 08:07:34,094 - freqtrade.data.history.history_utils - INFO - Downloading pair HBAR/BTC, interval 1h.\n",
      "2021-10-22 08:07:34,094 - freqtrade.data.history.history_utils - INFO - Download history data for pair: \"HBAR/BTC\" (38/51), timeframe: 1h and store in /freqtrade/user_data/data/binance.\n",
      "2021-10-22 08:07:35,235 - freqtrade.exchange.binance - INFO - Candle-data for HBAR/BTC available starting with 2019-09-29T04:00:00+00:00.\n",
      "2021-10-22 08:07:37,664 - freqtrade.exchange.exchange - INFO - Downloaded data for HBAR/BTC with length 18067.\n",
      "2021-10-22 08:07:37,699 - freqtrade.data.history.history_utils - INFO - Downloading pair ROSE/BTC, interval 1h.\n",
      "2021-10-22 08:07:37,699 - freqtrade.data.history.history_utils - INFO - Download history data for pair: \"ROSE/BTC\" (39/51), timeframe: 1h and store in /freqtrade/user_data/data/binance.\n",
      "2021-10-22 08:07:38,466 - freqtrade.exchange.binance - INFO - Candle-data for ROSE/BTC available starting with 2020-11-19T08:00:00+00:00.\n",
      "2021-10-22 08:07:39,477 - freqtrade.exchange.exchange - INFO - Downloaded data for ROSE/BTC with length 8071.\n",
      "2021-10-22 08:07:39,498 - freqtrade.data.history.history_utils - INFO - Downloading pair TFUEL/BTC, interval 1h.\n",
      "2021-10-22 08:07:39,498 - freqtrade.data.history.history_utils - INFO - Download history data for pair: \"TFUEL/BTC\" (40/51), timeframe: 1h and store in /freqtrade/user_data/data/binance.\n",
      "2021-10-22 08:07:40,583 - freqtrade.exchange.binance - INFO - Candle-data for TFUEL/BTC available starting with 2019-05-24T10:00:00+00:00.\n",
      "2021-10-22 08:07:41,851 - freqtrade.exchange.exchange - INFO - Downloaded data for TFUEL/BTC with length 21125.\n",
      "2021-10-22 08:07:41,890 - freqtrade.data.history.history_utils - INFO - Downloading pair AKRO/BTC, interval 1h.\n",
      "2021-10-22 08:07:41,891 - freqtrade.data.history.history_utils - INFO - Download history data for pair: \"AKRO/BTC\" (41/51), timeframe: 1h and store in /freqtrade/user_data/data/binance.\n",
      "2021-10-22 08:07:42,656 - freqtrade.exchange.binance - INFO - Candle-data for AKRO/BTC available starting with 2020-11-02T07:00:00+00:00.\n",
      "2021-10-22 08:07:43,685 - freqtrade.exchange.exchange - INFO - Downloaded data for AKRO/BTC with length 8480.\n",
      "2021-10-22 08:07:43,709 - freqtrade.data.history.history_utils - INFO - Downloading pair ONT/BTC, interval 1h.\n",
      "2021-10-22 08:07:43,709 - freqtrade.data.history.history_utils - INFO - Download history data for pair: \"ONT/BTC\" (42/51), timeframe: 1h and store in /freqtrade/user_data/data/binance.\n",
      "2021-10-22 08:07:44,878 - freqtrade.exchange.binance - INFO - Candle-data for ONT/BTC available starting with 2018-03-08T06:00:00+00:00.\n",
      "2021-10-22 08:07:47,781 - freqtrade.exchange.exchange - INFO - Downloaded data for ONT/BTC with length 31703.\n",
      "2021-10-22 08:07:47,837 - freqtrade.data.history.history_utils - INFO - Downloading pair ZIL/BTC, interval 1h.\n",
      "2021-10-22 08:07:47,837 - freqtrade.data.history.history_utils - INFO - Download history data for pair: \"ZIL/BTC\" (43/51), timeframe: 1h and store in /freqtrade/user_data/data/binance.\n",
      "2021-10-22 08:07:48,614 - freqtrade.exchange.binance - INFO - Candle-data for ZIL/BTC available starting with 2018-03-05T06:00:00+00:00.\n",
      "2021-10-22 08:07:49,811 - freqtrade.exchange.exchange - INFO - Downloaded data for ZIL/BTC with length 31775.\n",
      "2021-10-22 08:07:49,868 - freqtrade.data.history.history_utils - INFO - Downloading pair VET/BTC, interval 1h.\n",
      "2021-10-22 08:07:49,868 - freqtrade.data.history.history_utils - INFO - Download history data for pair: \"VET/BTC\" (44/51), timeframe: 1h and store in /freqtrade/user_data/data/binance.\n",
      "2021-10-22 08:07:50,681 - freqtrade.exchange.binance - INFO - Candle-data for VET/BTC available starting with 2018-07-25T04:00:00+00:00.\n",
      "2021-10-22 08:07:51,949 - freqtrade.exchange.exchange - INFO - Downloaded data for VET/BTC with length 28377.\n",
      "2021-10-22 08:07:52,003 - freqtrade.data.history.history_utils - INFO - Downloading pair TRX/BTC, interval 1h.\n",
      "2021-10-22 08:07:52,003 - freqtrade.data.history.history_utils - INFO - Download history data for pair: \"TRX/BTC\" (45/51), timeframe: 1h and store in /freqtrade/user_data/data/binance.\n",
      "2021-10-22 08:07:53,431 - freqtrade.exchange.binance - INFO - Candle-data for TRX/BTC available starting with 2017-10-31T04:00:00+00:00.\n",
      "2021-10-22 08:07:55,057 - freqtrade.exchange.exchange - INFO - Downloaded data for TRX/BTC with length 34734.\n",
      "2021-10-22 08:07:55,115 - freqtrade.data.history.history_utils - INFO - Downloading pair MATIC/BTC, interval 1h.\n",
      "2021-10-22 08:07:55,115 - freqtrade.data.history.history_utils - INFO - Download history data for pair: \"MATIC/BTC\" (46/51), timeframe: 1h and store in /freqtrade/user_data/data/binance.\n",
      "2021-10-22 08:07:55,993 - freqtrade.exchange.binance - INFO - Candle-data for MATIC/BTC available starting with 2019-04-26T15:00:00+00:00.\n",
      "2021-10-22 08:07:57,241 - freqtrade.exchange.exchange - INFO - Downloaded data for MATIC/BTC with length 21782.\n",
      "2021-10-22 08:07:57,283 - freqtrade.data.history.history_utils - INFO - Downloading pair CELO/BTC, interval 1h.\n",
      "2021-10-22 08:07:57,283 - freqtrade.data.history.history_utils - INFO - Download history data for pair: \"CELO/BTC\" (47/51), timeframe: 1h and store in /freqtrade/user_data/data/binance.\n",
      "2021-10-22 08:07:58,328 - freqtrade.exchange.binance - INFO - Candle-data for CELO/BTC available starting with 2021-01-05T08:00:00+00:00.\n",
      "2021-10-22 08:07:59,501 - freqtrade.exchange.exchange - INFO - Downloaded data for CELO/BTC with length 6948.\n",
      "2021-10-22 08:07:59,521 - freqtrade.data.history.history_utils - INFO - Downloading pair STPT/BTC, interval 1h.\n",
      "2021-10-22 08:07:59,521 - freqtrade.data.history.history_utils - INFO - Download history data for pair: \"STPT/BTC\" (48/51), timeframe: 1h and store in /freqtrade/user_data/data/binance.\n",
      "2021-10-22 08:08:00,508 - freqtrade.exchange.binance - INFO - Candle-data for STPT/BTC available starting with 2020-03-25T14:00:00+00:00.\n",
      "2021-10-22 08:08:01,615 - freqtrade.exchange.exchange - INFO - Downloaded data for STPT/BTC with length 13796.\n",
      "2021-10-22 08:08:01,644 - freqtrade.data.history.history_utils - INFO - Downloading pair DOGE/BTC, interval 1h.\n",
      "2021-10-22 08:08:01,645 - freqtrade.data.history.history_utils - INFO - Download history data for pair: \"DOGE/BTC\" (49/51), timeframe: 1h and store in /freqtrade/user_data/data/binance.\n",
      "2021-10-22 08:08:02,471 - freqtrade.exchange.binance - INFO - Candle-data for DOGE/BTC available starting with 2019-07-05T12:00:00+00:00.\n",
      "2021-10-22 08:08:04,008 - freqtrade.exchange.exchange - INFO - Downloaded data for DOGE/BTC with length 20115.\n",
      "2021-10-22 08:08:04,046 - freqtrade.data.history.history_utils - INFO - Downloading pair SC/BTC, interval 1h.\n",
      "2021-10-22 08:08:04,046 - freqtrade.data.history.history_utils - INFO - Download history data for pair: \"SC/BTC\" (50/51), timeframe: 1h and store in /freqtrade/user_data/data/binance.\n",
      "2021-10-22 08:08:05,082 - freqtrade.exchange.binance - INFO - Candle-data for SC/BTC available starting with 2018-06-14T11:00:00+00:00.\n",
      "2021-10-22 08:08:06,617 - freqtrade.exchange.exchange - INFO - Downloaded data for SC/BTC with length 29346.\n",
      "2021-10-22 08:08:06,670 - freqtrade.data.history.history_utils - INFO - Downloading pair NANO/BTC, interval 1h.\n",
      "2021-10-22 08:08:06,670 - freqtrade.data.history.history_utils - INFO - Download history data for pair: \"NANO/BTC\" (51/51), timeframe: 1h and store in /freqtrade/user_data/data/binance.\n",
      "2021-10-22 08:08:07,834 - freqtrade.exchange.binance - INFO - Candle-data for NANO/BTC available starting with 2018-02-02T19:00:00+00:00.\n",
      "2021-10-22 08:08:08,995 - freqtrade.exchange.exchange - INFO - Downloaded data for NANO/BTC with length 32464.\n"
     ]
    }
   ],
   "source": [
    "!docker-compose -f ./fa.plutus/docker-compose.yml run --rm freqtrade download-data --exchange binance --days 3000 -t 1h"
   ]
  },
  {
   "cell_type": "markdown",
   "metadata": {},
   "source": [
    "#### Install & Import Dependencies"
   ]
  },
  {
   "cell_type": "code",
   "execution_count": 2,
   "metadata": {},
   "outputs": [
    {
     "name": "stdout",
     "output_type": "stream",
     "text": [
      "Collecting package metadata (current_repodata.json): ...working... done\n",
      "Solving environment: ...working... done\n",
      "\n",
      "# All requested packages already installed.\n",
      "\n"
     ]
    }
   ],
   "source": [
    "import sys\n",
    "\n",
    "!conda install --yes --prefix {sys.prefix} ta-lib"
   ]
  },
  {
   "cell_type": "code",
   "execution_count": 3,
   "metadata": {},
   "outputs": [
    {
     "name": "stdout",
     "output_type": "stream",
     "text": [
      "Requirement already satisfied: TA-Lib in c:\\programdata\\miniforge3\\lib\\site-packages (0.4.19)\n",
      "Collecting TA-Lib\n",
      "  Using cached TA-Lib-0.4.21.tar.gz (270 kB)\n",
      "  Preparing metadata (setup.py): started\n",
      "  Preparing metadata (setup.py): finished with status 'done'\n",
      "Requirement already satisfied: numpy in c:\\programdata\\miniforge3\\lib\\site-packages (from TA-Lib) (1.19.5)\n",
      "Building wheels for collected packages: TA-Lib\n",
      "  Building wheel for TA-Lib (setup.py): started\n",
      "  Building wheel for TA-Lib (setup.py): finished with status 'error'\n",
      "  Running setup.py clean for TA-Lib\n",
      "Failed to build TA-Lib\n",
      "Installing collected packages: TA-Lib\n",
      "  Attempting uninstall: TA-Lib\n",
      "    Found existing installation: ta-lib 0.4.19\n",
      "    Uninstalling ta-lib-0.4.19:\n",
      "      Successfully uninstalled ta-lib-0.4.19\n",
      "    Running setup.py install for TA-Lib: started\n",
      "    Running setup.py install for TA-Lib: finished with status 'error'\n",
      "  Rolling back uninstall of ta-lib\n",
      "  Moving to c:\\programdata\\miniforge3\\lib\\site-packages\\ta_lib-0.4.19.dist-info\\\n",
      "   from C:\\ProgramData\\miniforge3\\Lib\\site-packages\\~a_lib-0.4.19.dist-info\n",
      "  Moving to c:\\programdata\\miniforge3\\lib\\site-packages\\talib\\\n",
      "   from C:\\ProgramData\\miniforge3\\Lib\\site-packages\\~alib\n"
     ]
    },
    {
     "name": "stderr",
     "output_type": "stream",
     "text": [
      "  ERROR: Command errored out with exit status 1:\n",
      "   command: 'C:\\ProgramData\\miniforge3\\python.exe' -u -c 'import io, os, sys, setuptools, tokenize; sys.argv[0] = '\"'\"'C:\\\\Users\\\\deanm\\\\AppData\\\\Local\\\\Temp\\\\pip-install-24zcij8u\\\\ta-lib_de6857b8194a40a19012cef182e164c4\\\\setup.py'\"'\"'; __file__='\"'\"'C:\\\\Users\\\\deanm\\\\AppData\\\\Local\\\\Temp\\\\pip-install-24zcij8u\\\\ta-lib_de6857b8194a40a19012cef182e164c4\\\\setup.py'\"'\"';f = getattr(tokenize, '\"'\"'open'\"'\"', open)(__file__) if os.path.exists(__file__) else io.StringIO('\"'\"'from setuptools import setup; setup()'\"'\"');code = f.read().replace('\"'\"'\\r\\n'\"'\"', '\"'\"'\\n'\"'\"');f.close();exec(compile(code, __file__, '\"'\"'exec'\"'\"'))' bdist_wheel -d 'C:\\Users\\deanm\\AppData\\Local\\Temp\\pip-wheel-1fl97yqe'\n",
      "       cwd: C:\\Users\\deanm\\AppData\\Local\\Temp\\pip-install-24zcij8u\\ta-lib_de6857b8194a40a19012cef182e164c4\\\n",
      "  Complete output (26 lines):\n",
      "  C:\\Users\\deanm\\AppData\\Local\\Temp\\pip-install-24zcij8u\\ta-lib_de6857b8194a40a19012cef182e164c4\\setup.py:76: UserWarning: Cannot find ta-lib library, installation may fail.\n",
      "    warnings.warn('Cannot find ta-lib library, installation may fail.')\n",
      "  running bdist_wheel\n",
      "  running build\n",
      "  running build_py\n",
      "  creating build\n",
      "  creating build\\lib.win-amd64-3.9\n",
      "  creating build\\lib.win-amd64-3.9\\talib\n",
      "  copying talib\\abstract.py -> build\\lib.win-amd64-3.9\\talib\n",
      "  copying talib\\deprecated.py -> build\\lib.win-amd64-3.9\\talib\n",
      "  copying talib\\stream.py -> build\\lib.win-amd64-3.9\\talib\n",
      "  copying talib\\test_abstract.py -> build\\lib.win-amd64-3.9\\talib\n",
      "  copying talib\\test_data.py -> build\\lib.win-amd64-3.9\\talib\n",
      "  copying talib\\test_func.py -> build\\lib.win-amd64-3.9\\talib\n",
      "  copying talib\\test_pandas.py -> build\\lib.win-amd64-3.9\\talib\n",
      "  copying talib\\test_stream.py -> build\\lib.win-amd64-3.9\\talib\n",
      "  copying talib\\__init__.py -> build\\lib.win-amd64-3.9\\talib\n",
      "  running build_ext\n",
      "  building 'talib._ta_lib' extension\n",
      "  creating build\\temp.win-amd64-3.9\n",
      "  creating build\\temp.win-amd64-3.9\\Release\n",
      "  creating build\\temp.win-amd64-3.9\\Release\\talib\n",
      "  C:\\Program Files (x86)\\Microsoft Visual Studio\\2019\\Community\\VC\\Tools\\MSVC\\14.29.30133\\bin\\HostX86\\x64\\cl.exe /c /nologo /Ox /W3 /GL /DNDEBUG /MD -Ic:\\ta-lib\\c\\include -IC:\\ProgramData\\miniforge3\\lib\\site-packages\\numpy\\core\\include -IC:\\ProgramData\\miniforge3\\include -IC:\\ProgramData\\miniforge3\\include -IC:\\Program Files (x86)\\Microsoft Visual Studio\\2019\\Community\\VC\\Tools\\MSVC\\14.29.30133\\include -IC:\\Program Files (x86)\\Windows Kits\\NETFXSDK\\4.8\\include\\um -IC:\\Program Files (x86)\\Windows Kits\\10\\include\\10.0.19041.0\\ucrt -IC:\\Program Files (x86)\\Windows Kits\\10\\include\\10.0.19041.0\\shared -IC:\\Program Files (x86)\\Windows Kits\\10\\include\\10.0.19041.0\\um -IC:\\Program Files (x86)\\Windows Kits\\10\\include\\10.0.19041.0\\winrt -IC:\\Program Files (x86)\\Windows Kits\\10\\include\\10.0.19041.0\\cppwinrt /Tctalib/_ta_lib.c /Fobuild\\temp.win-amd64-3.9\\Release\\talib/_ta_lib.obj\n",
      "  _ta_lib.c\n",
      "  talib/_ta_lib.c(611): fatal error C1083: Cannot open include file: 'ta_libc.h': No such file or directory\n",
      "  error: command 'C:\\\\Program Files (x86)\\\\Microsoft Visual Studio\\\\2019\\\\Community\\\\VC\\\\Tools\\\\MSVC\\\\14.29.30133\\\\bin\\\\HostX86\\\\x64\\\\cl.exe' failed with exit code 2\n",
      "  ----------------------------------------\n",
      "  ERROR: Failed building wheel for TA-Lib\n",
      "    ERROR: Command errored out with exit status 1:\n",
      "     command: 'C:\\ProgramData\\miniforge3\\python.exe' -u -c 'import io, os, sys, setuptools, tokenize; sys.argv[0] = '\"'\"'C:\\\\Users\\\\deanm\\\\AppData\\\\Local\\\\Temp\\\\pip-install-24zcij8u\\\\ta-lib_de6857b8194a40a19012cef182e164c4\\\\setup.py'\"'\"'; __file__='\"'\"'C:\\\\Users\\\\deanm\\\\AppData\\\\Local\\\\Temp\\\\pip-install-24zcij8u\\\\ta-lib_de6857b8194a40a19012cef182e164c4\\\\setup.py'\"'\"';f = getattr(tokenize, '\"'\"'open'\"'\"', open)(__file__) if os.path.exists(__file__) else io.StringIO('\"'\"'from setuptools import setup; setup()'\"'\"');code = f.read().replace('\"'\"'\\r\\n'\"'\"', '\"'\"'\\n'\"'\"');f.close();exec(compile(code, __file__, '\"'\"'exec'\"'\"'))' install --record 'C:\\Users\\deanm\\AppData\\Local\\Temp\\pip-record-5i3trtsn\\install-record.txt' --single-version-externally-managed --compile --install-headers 'C:\\ProgramData\\miniforge3\\Include\\TA-Lib'\n",
      "         cwd: C:\\Users\\deanm\\AppData\\Local\\Temp\\pip-install-24zcij8u\\ta-lib_de6857b8194a40a19012cef182e164c4\\\n",
      "    Complete output (26 lines):\n",
      "    C:\\Users\\deanm\\AppData\\Local\\Temp\\pip-install-24zcij8u\\ta-lib_de6857b8194a40a19012cef182e164c4\\setup.py:76: UserWarning: Cannot find ta-lib library, installation may fail.\n",
      "      warnings.warn('Cannot find ta-lib library, installation may fail.')\n",
      "    running install\n",
      "    running build\n",
      "    running build_py\n",
      "    creating build\n",
      "    creating build\\lib.win-amd64-3.9\n",
      "    creating build\\lib.win-amd64-3.9\\talib\n",
      "    copying talib\\abstract.py -> build\\lib.win-amd64-3.9\\talib\n",
      "    copying talib\\deprecated.py -> build\\lib.win-amd64-3.9\\talib\n",
      "    copying talib\\stream.py -> build\\lib.win-amd64-3.9\\talib\n",
      "    copying talib\\test_abstract.py -> build\\lib.win-amd64-3.9\\talib\n",
      "    copying talib\\test_data.py -> build\\lib.win-amd64-3.9\\talib\n",
      "    copying talib\\test_func.py -> build\\lib.win-amd64-3.9\\talib\n",
      "    copying talib\\test_pandas.py -> build\\lib.win-amd64-3.9\\talib\n",
      "    copying talib\\test_stream.py -> build\\lib.win-amd64-3.9\\talib\n",
      "    copying talib\\__init__.py -> build\\lib.win-amd64-3.9\\talib\n",
      "    running build_ext\n",
      "    building 'talib._ta_lib' extension\n",
      "    creating build\\temp.win-amd64-3.9\n",
      "    creating build\\temp.win-amd64-3.9\\Release\n",
      "    creating build\\temp.win-amd64-3.9\\Release\\talib\n",
      "    C:\\Program Files (x86)\\Microsoft Visual Studio\\2019\\Community\\VC\\Tools\\MSVC\\14.29.30133\\bin\\HostX86\\x64\\cl.exe /c /nologo /Ox /W3 /GL /DNDEBUG /MD -Ic:\\ta-lib\\c\\include -IC:\\ProgramData\\miniforge3\\lib\\site-packages\\numpy\\core\\include -IC:\\ProgramData\\miniforge3\\include -IC:\\ProgramData\\miniforge3\\include -IC:\\Program Files (x86)\\Microsoft Visual Studio\\2019\\Community\\VC\\Tools\\MSVC\\14.29.30133\\include -IC:\\Program Files (x86)\\Windows Kits\\NETFXSDK\\4.8\\include\\um -IC:\\Program Files (x86)\\Windows Kits\\10\\include\\10.0.19041.0\\ucrt -IC:\\Program Files (x86)\\Windows Kits\\10\\include\\10.0.19041.0\\shared -IC:\\Program Files (x86)\\Windows Kits\\10\\include\\10.0.19041.0\\um -IC:\\Program Files (x86)\\Windows Kits\\10\\include\\10.0.19041.0\\winrt -IC:\\Program Files (x86)\\Windows Kits\\10\\include\\10.0.19041.0\\cppwinrt /Tctalib/_ta_lib.c /Fobuild\\temp.win-amd64-3.9\\Release\\talib/_ta_lib.obj\n",
      "    _ta_lib.c\n",
      "    talib/_ta_lib.c(611): fatal error C1083: Cannot open include file: 'ta_libc.h': No such file or directory\n",
      "    error: command 'C:\\\\Program Files (x86)\\\\Microsoft Visual Studio\\\\2019\\\\Community\\\\VC\\\\Tools\\\\MSVC\\\\14.29.30133\\\\bin\\\\HostX86\\\\x64\\\\cl.exe' failed with exit code 2\n",
      "    ----------------------------------------\n",
      "ERROR: Command errored out with exit status 1: 'C:\\ProgramData\\miniforge3\\python.exe' -u -c 'import io, os, sys, setuptools, tokenize; sys.argv[0] = '\"'\"'C:\\\\Users\\\\deanm\\\\AppData\\\\Local\\\\Temp\\\\pip-install-24zcij8u\\\\ta-lib_de6857b8194a40a19012cef182e164c4\\\\setup.py'\"'\"'; __file__='\"'\"'C:\\\\Users\\\\deanm\\\\AppData\\\\Local\\\\Temp\\\\pip-install-24zcij8u\\\\ta-lib_de6857b8194a40a19012cef182e164c4\\\\setup.py'\"'\"';f = getattr(tokenize, '\"'\"'open'\"'\"', open)(__file__) if os.path.exists(__file__) else io.StringIO('\"'\"'from setuptools import setup; setup()'\"'\"');code = f.read().replace('\"'\"'\\r\\n'\"'\"', '\"'\"'\\n'\"'\"');f.close();exec(compile(code, __file__, '\"'\"'exec'\"'\"'))' install --record 'C:\\Users\\deanm\\AppData\\Local\\Temp\\pip-record-5i3trtsn\\install-record.txt' --single-version-externally-managed --compile --install-headers 'C:\\ProgramData\\miniforge3\\Include\\TA-Lib' Check the logs for full command output.\n"
     ]
    }
   ],
   "source": [
    "import sys\n",
    "\n",
    "!{sys.executable} -m pip install -U TA-Lib"
   ]
  },
  {
   "cell_type": "code",
   "execution_count": 4,
   "metadata": {},
   "outputs": [],
   "source": [
    "\n",
    "from os import listdir\n",
    "from os.path import isfile, join\n",
    "import pandas as pd\n",
    "import numpy as np\n",
    "import talib\n",
    "from talib import RSI, BBANDS\n",
    "import pickle"
   ]
  },
  {
   "cell_type": "markdown",
   "metadata": {},
   "source": [
    "#### Functions to Assist with Data Parsing"
   ]
  },
  {
   "cell_type": "code",
   "execution_count": 5,
   "metadata": {},
   "outputs": [],
   "source": [
    "def get_pair_name(path):\n",
    "    pair_name = (path\n",
    "                    .split('/')[-1]\n",
    "                    .split('.json')[0]\n",
    "                    .split('-')[0])\n",
    "    \n",
    "    return pair_name\n",
    "\n",
    "def load_path_data(path):\n",
    "    df = pd.read_json(path)\n",
    "    df.columns = ['time', 'open', 'high', 'low', 'close', 'volume']\n",
    "    df['time'] = pd.to_datetime(df['time'], unit='ms')\n",
    "    \n",
    "    return df"
   ]
  },
  {
   "cell_type": "markdown",
   "metadata": {},
   "source": [
    "#### Load & Parse Files"
   ]
  },
  {
   "cell_type": "code",
   "execution_count": 6,
   "metadata": {},
   "outputs": [],
   "source": [
    "data_relative_path = './fa.plutus/user_data/data/binance'\n",
    "market_file_names = [ f for f in listdir(data_relative_path) if (isfile(join(data_relative_path, f)) and '.json' in f) ]\n",
    "market_file_paths = np.array([f'{data_relative_path}/{f}' for f in market_file_names ])\n",
    "market_data = { get_pair_name(path):load_path_data(path) for path in market_file_paths }"
   ]
  },
  {
   "cell_type": "markdown",
   "metadata": {},
   "source": [
    "#### Featurize Data\n",
    "For the features of the data we will add\n",
    "- The top 5 indicator values.\n",
    "- The hour of day.\n",
    "- The day of week.\n",
    "- The week of the year.\n",
    "- The month of year."
   ]
  },
  {
   "cell_type": "code",
   "execution_count": 7,
   "metadata": {},
   "outputs": [],
   "source": [
    "def featurize_market_data(market_data):\n",
    "    # Perform the transformation for each pair.\n",
    "    for pair in market_data:\n",
    "        # Featurizing pair \"{pair}\" with seasonality.\n",
    "        pair_df = market_data[pair]\n",
    "        pair_df['hour'] = pair_df.apply(lambda x: x['time'].hour, axis=1)\n",
    "        pair_df['day'] = pair_df.apply(lambda x: x['time'].day, axis=1)\n",
    "        pair_df['week'] = pair_df.apply(lambda x: x['time'].week, axis=1)\n",
    "        pair_df['month'] = pair_df.apply(lambda x: x['time'].month, axis=1)\n",
    "        \n",
    "        # Featurizing pair \"{pair}\" with indicators.\n",
    "        pair_df['sma'] = talib.SMA(pair_df['close'])\n",
    "        time_periods = [ 14, 20]\n",
    "        stds = [ 2, 3, 4 ]\n",
    "        \n",
    "        for period in time_periods:\n",
    "            pair_df[f'rsi_tp{period}'] = RSI(pair_df['close'], timeperiod=period)\n",
    "            pair_df['adx'] = talib.ADX(pair_df['high'], pair_df['low'], pair_df['close'], timeperiod=period)\n",
    "            slowk, slowd = talib.STOCH(pair_df['high'], pair_df['low'], pair_df['close'], fastk_period=period)\n",
    "            pair_df[f'stoch_slow_k_tp_{period}'] = slowk\n",
    "            pair_df[f'stoch_slow_d_tp_{period}'] = slowd\n",
    "            \n",
    "            for deviation in stds:\n",
    "                upper, middle, lower = BBANDS(pair_df['close'], timeperiod=period, nbdevup=deviation, nbdevdn=deviation, matype=0)\n",
    "                pair_df[f'bb_upper_tp{period}_sd{deviation}'] = upper\n",
    "                pair_df[f'bb_middle_tp{period}_sd{deviation}'] = middle\n",
    "                pair_df[f'bb_lower_tp{period}_sd{deviation}'] = lower\n",
    "        \n",
    "    return market_data"
   ]
  },
  {
   "cell_type": "markdown",
   "metadata": {},
   "source": [
    "#### Persist & Load Featurized Market Data"
   ]
  },
  {
   "cell_type": "code",
   "execution_count": 8,
   "metadata": {},
   "outputs": [],
   "source": [
    "featurized_market_data = featurize_market_data(market_data)"
   ]
  },
  {
   "cell_type": "code",
   "execution_count": 9,
   "metadata": {},
   "outputs": [],
   "source": [
    "model_file_path = './data/featurized_market_data.p'\n",
    "\n",
    "with open(model_file_path, 'wb') as fp:\n",
    "    pickle.dump(featurized_market_data, fp, protocol=pickle.HIGHEST_PROTOCOL)"
   ]
  },
  {
   "cell_type": "code",
   "execution_count": 10,
   "metadata": {},
   "outputs": [],
   "source": [
    "model_file_path = './data/featurized_market_data.p'\n",
    "\n",
    "with open(model_file_path, 'rb') as fp:\n",
    "    featurized_market_data = pickle.load(fp)"
   ]
  },
  {
   "cell_type": "markdown",
   "metadata": {},
   "source": [
    "#### Sample Data"
   ]
  },
  {
   "cell_type": "code",
   "execution_count": 11,
   "metadata": {},
   "outputs": [],
   "source": [
    "import matplotlib.pyplot as plt\n",
    "%matplotlib inline"
   ]
  },
  {
   "cell_type": "code",
   "execution_count": 12,
   "metadata": {},
   "outputs": [
    {
     "data": {
      "text/plain": [
       "[<matplotlib.lines.Line2D at 0x23b345550a0>]"
      ]
     },
     "execution_count": 12,
     "metadata": {},
     "output_type": "execute_result"
    },
    {
     "data": {
      "image/png": "[encoded data removed]",
      "text/plain": [
       "<Figure size 864x864 with 1 Axes>"
      ]
     },
     "metadata": {
      "needs_background": "light"
     },
     "output_type": "display_data"
    }
   ],
   "source": [
    "bch_data = featurized_market_data['BCH_BTC']\n",
    "\n",
    "# We create our figure and specify the size:\n",
    "fig = plt.figure(figsize=(12,12))\n",
    "ax1 = plt.subplot(3, 1, 1)\n",
    "\n",
    "# We can now plot the data on each of the subplots:\n",
    "ax1.plot(featurized_market_data['BCH_BTC']['close'], label = 'Random Data')"
   ]
  },
  {
   "cell_type": "code",
   "execution_count": null,
   "metadata": {},
   "outputs": [],
   "source": []
  }
 ],
 "metadata": {
  "interpreter": {
   "hash": "31d6e53dd90e1e07de471af499e22de60e02a8b280c0c36d978ec0e08d2bccf2"
  },
  "kernelspec": {
   "display_name": "Python 3.9 (Tensorflow)",
   "language": "python",
   "name": "tensorflow-gpu"
  }
 },
 "nbformat": 4,
 "nbformat_minor": 2
}
