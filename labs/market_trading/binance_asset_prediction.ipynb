{
 "cells": [
  {
   "cell_type": "markdown",
   "metadata": {},
   "source": [
    "# Market Asset Feature Engineering"
   ]
  },
  {
   "cell_type": "markdown",
   "metadata": {},
   "source": [
    "## Installs"
   ]
  },
  {
   "cell_type": "markdown",
   "metadata": {},
   "source": [
    "## Imports"
   ]
  },
  {
   "cell_type": "code",
   "execution_count": 68,
   "metadata": {},
   "outputs": [],
   "source": [
    "%run ./../../utilities/model_frameworks/bifrost_neural_engine.ipynb"
   ]
  },
  {
   "cell_type": "code",
   "execution_count": 69,
   "metadata": {},
   "outputs": [],
   "source": [
    "import glob\n",
    "import pandas as pd\n",
    "from datetime import datetime\n",
    "from functools import reduce\n",
    "import numpy as np"
   ]
  },
  {
   "cell_type": "markdown",
   "metadata": {},
   "source": [
    "## Utils"
   ]
  },
  {
   "cell_type": "code",
   "execution_count": 70,
   "metadata": {},
   "outputs": [],
   "source": [
    "def rsi(prices, n=14):\n",
    "    deltas = np.diff(prices)\n",
    "    seed = deltas[:n+1]\n",
    "    up = seed[seed>=0].sum()/n\n",
    "    down = -seed[seed<0].sum()/n\n",
    "    rs = up/down\n",
    "    rsi = np.zeros_like(prices)\n",
    "    rsi[:n] = 100. - 100./(1.+rs)\n",
    "\n",
    "    for i in range(n, len(prices)):\n",
    "        delta = deltas[i-1] # cause the diff is 1 shorter\n",
    "\n",
    "        if delta>0:\n",
    "            upval = delta\n",
    "            downval = 0.\n",
    "        else:\n",
    "            upval = 0.\n",
    "            downval = -delta\n",
    "\n",
    "        up = (up*(n-1) + upval)/n\n",
    "        down = (down*(n-1) + downval)/n\n",
    "\n",
    "        rs = up/down\n",
    "        rsi[i] = 100. - 100./(1.+rs)\n",
    "\n",
    "    return rsi"
   ]
  },
  {
   "cell_type": "markdown",
   "metadata": {},
   "source": [
    "## Load Market Data From Files"
   ]
  },
  {
   "cell_type": "code",
   "execution_count": 71,
   "metadata": {},
   "outputs": [
    {
     "name": "stderr",
     "output_type": "stream",
     "text": [
      "/var/folders/kg/yc3v1y_96vj9m5s_743c5vn00000gn/T/ipykernel_18055/2160831594.py:6: RuntimeWarning: divide by zero encountered in double_scalars\n",
      "  rs = up/down\n",
      "/var/folders/kg/yc3v1y_96vj9m5s_743c5vn00000gn/T/ipykernel_18055/2160831594.py:23: RuntimeWarning: divide by zero encountered in double_scalars\n",
      "  rs = up/down\n",
      "/var/folders/kg/yc3v1y_96vj9m5s_743c5vn00000gn/T/ipykernel_18055/2160831594.py:6: RuntimeWarning: divide by zero encountered in double_scalars\n",
      "  rs = up/down\n",
      "/var/folders/kg/yc3v1y_96vj9m5s_743c5vn00000gn/T/ipykernel_18055/2160831594.py:23: RuntimeWarning: divide by zero encountered in double_scalars\n",
      "  rs = up/down\n",
      "/var/folders/kg/yc3v1y_96vj9m5s_743c5vn00000gn/T/ipykernel_18055/2160831594.py:6: RuntimeWarning: divide by zero encountered in double_scalars\n",
      "  rs = up/down\n",
      "/var/folders/kg/yc3v1y_96vj9m5s_743c5vn00000gn/T/ipykernel_18055/2160831594.py:23: RuntimeWarning: divide by zero encountered in double_scalars\n",
      "  rs = up/down\n"
     ]
    }
   ],
   "source": [
    "interval: str = '1h'\n",
    "data_path: str = '/Users/deanmartin/Source/fa.services.plutus/user_data/data/binance'\n",
    "data_files: list = glob.glob(f'{data_path}/*-{interval}.json')\n",
    "dataframes: list = list()\n",
    "pair_names: list = list()\n",
    "\n",
    "for file_path in data_files:\n",
    "    try:\n",
    "        pair_name: str = file_path.replace('\\\\','/').split('/')[-1].split(f'-{interval}')[0]\n",
    "        dataframe: pd.DataFrame = pd.read_json(file_path)\n",
    "        dataframe.columns = [ 'time', 'open', 'high', 'low', 'close', 'volume' ]\n",
    "        dataframe['time'] = pd.to_datetime(dataframe['time'], unit='ms')\n",
    "        dataframe.set_index('time', inplace=True)\n",
    "        dataframe['close_next'] = dataframe['close'].shift(-1)\n",
    "        \n",
    "        # Indicators\n",
    "        # Moving Average\n",
    "        dataframe['MA_7MA'] = dataframe['close'].rolling(window=7).mean()\n",
    "        dataframe['MA_7MA_std'] = dataframe['close'].rolling(window=7).std()\n",
    "        dataframe['MA_15MA'] = dataframe['close'].rolling(window=15).mean()\n",
    "        dataframe['MA_30MA'] = dataframe['close'].rolling(window=30).mean()\n",
    "        dataframe['MA_60MA'] = dataframe['close'].rolling(window=60).mean()\n",
    "        \n",
    "        # MACD\n",
    "        ewma = pd.Series.ewm\n",
    "        close_26EMA = ewma(dataframe['close'], span=26).mean()\n",
    "        close_12EMA = ewma(dataframe['close'], span=12).mean()\n",
    "        dataframe['MACD'] = close_12EMA - close_26EMA\n",
    "        \n",
    "        # Bollinger bands.\n",
    "        no_of_std = 2\n",
    "        dataframe['MA_7MA_BB_high'] = dataframe['MA_7MA'] + no_of_std * dataframe['MA_7MA_std']\n",
    "        dataframe['MA_7MA_BB_low'] = dataframe['MA_7MA'] - no_of_std * dataframe['MA_7MA_std']\n",
    "        \n",
    "        # RSI\n",
    "        rsi_6 = rsi(dataframe['close'].values, 6)\n",
    "        rsi_14 = rsi(dataframe['close'].values, 14)\n",
    "        rsi_20 = rsi(dataframe['close'].values, 20)\n",
    "        \n",
    "        dataframe.columns = [f'{pair_name.lower()}__{c.lower()}' for c in dataframe.columns]\n",
    "\n",
    "        pair_names.append(pair_name.lower())\n",
    "        dataframes.append(dataframe)\n",
    "    except Exception:\n",
    "        continue"
   ]
  },
  {
   "cell_type": "markdown",
   "metadata": {},
   "source": [
    "## Filter Our Market Data That Is Not Current"
   ]
  },
  {
   "cell_type": "code",
   "execution_count": 72,
   "metadata": {},
   "outputs": [],
   "source": [
    "# Filter our market data that is not current.\n",
    "dataframes = [df for df in dataframes if df.index[-1].date() == datetime.today().date()]"
   ]
  },
  {
   "cell_type": "code",
   "execution_count": 73,
   "metadata": {},
   "outputs": [
    {
     "name": "stdout",
     "output_type": "stream",
     "text": [
      "Largest Dataset: 23982, Smallest Dataset: 13531 (Target)\n"
     ]
    }
   ],
   "source": [
    "# Brief analysis.\n",
    "largest_row_count = max([d.shape[0] for d in dataframes])\n",
    "smallest_row_count = min([d.shape[0] for d in dataframes])\n",
    "\n",
    "print(f'Largest Dataset: {largest_row_count}, Smallest Dataset: {smallest_row_count} (Target)')"
   ]
  },
  {
   "cell_type": "code",
   "execution_count": 74,
   "metadata": {},
   "outputs": [],
   "source": [
    "# Concat all dataframes together, joined on index.\n",
    "consolidated_dataset = reduce(lambda x, y: pd.concat([x, y], axis=1), dataframes)\n",
    "# Drop all records where there are missing data from pairs.\n",
    "consolidated_dataset = consolidated_dataset.dropna()"
   ]
  },
  {
   "cell_type": "markdown",
   "metadata": {},
   "source": [
    "## Train a Model"
   ]
  },
  {
   "cell_type": "code",
   "execution_count": null,
   "metadata": {},
   "outputs": [
    {
     "name": "stderr",
     "output_type": "stream",
     "text": [
      "100%|██████████| 2500/2500 [14:27<00:00,  2.88it/s]\n"
     ]
    },
    {
     "data": {
      "image/png": "[encoded data removed]",
      "text/plain": [
       "<Figure size 432x288 with 1 Axes>"
      ]
     },
     "metadata": {
      "needs_background": "light"
     },
     "output_type": "display_data"
    }
   ],
   "source": [
    "data: pd.DataFrame = consolidated_dataset.copy().reset_index()\n",
    "input_feature_count: int = data.shape[1]\n",
    "netwok_config: list = [\n",
    "    int(input_feature_count * 1.25),\n",
    "    int(input_feature_count * 1.10),\n",
    "    int(input_feature_count * 0.70),\n",
    "    int(input_feature_count)\n",
    "]\n",
    "label_column_names: list = [c for c in data.columns if '__close_next' in c]\n",
    "model = BifrostNeuralEngine(data=data,\n",
    "                            labels_column_names=label_column_names,\n",
    "                            date_column_name='time',\n",
    "                            layers_config=netwok_config) \\\n",
    "    .fit(epochs=15000)"
   ]
  },
  {
   "cell_type": "markdown",
   "metadata": {},
   "source": [
    "## Save the Model"
   ]
  },
  {
   "cell_type": "code",
   "execution_count": null,
   "metadata": {},
   "outputs": [],
   "source": [
    "# TODO:"
   ]
  },
  {
   "cell_type": "markdown",
   "metadata": {},
   "source": [
    "## Make Predictions"
   ]
  },
  {
   "cell_type": "code",
   "execution_count": null,
   "metadata": {},
   "outputs": [],
   "source": [
    "# TODO:"
   ]
  }
 ],
 "metadata": {
  "kernelspec": {
   "display_name": "Python 3.9.13 ('pytorch')",
   "language": "python",
   "name": "python3"
  },
  "language_info": {
   "codemirror_mode": {
    "name": "ipython",
    "version": 3
   },
   "file_extension": ".py",
   "mimetype": "text/x-python",
   "name": "python",
   "nbconvert_exporter": "python",
   "pygments_lexer": "ipython3",
   "version": "3.9.13"
  },
  "orig_nbformat": 4,
  "vscode": {
   "interpreter": {
    "hash": "0203f9377e450cf3e5fd498dcfe93bad69687b6515d650e7d79a42aa53323e2d"
   }
  }
 },
 "nbformat": 4,
 "nbformat_minor": 2
}
