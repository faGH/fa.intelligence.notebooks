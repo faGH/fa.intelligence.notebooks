{
 "cells": [
  {
   "cell_type": "markdown",
   "metadata": {},
   "source": [
    "# Import Dependencies"
   ]
  },
  {
   "cell_type": "code",
   "execution_count": 59,
   "metadata": {},
   "outputs": [],
   "source": [
    "%run ./../../utilities/model_frameworks/bifrost_neural_engine.ipynb"
   ]
  },
  {
   "cell_type": "code",
   "execution_count": 60,
   "metadata": {},
   "outputs": [],
   "source": [
    "import pandas as pd\n",
    "import numpy as np"
   ]
  },
  {
   "cell_type": "markdown",
   "metadata": {},
   "source": [
    "# Binary Trend Classification\n",
    "Classify the future trend of a given assert."
   ]
  },
  {
   "cell_type": "markdown",
   "metadata": {},
   "source": [
    "## Data"
   ]
  },
  {
   "cell_type": "markdown",
   "metadata": {},
   "source": [
    "### Utils"
   ]
  },
  {
   "cell_type": "code",
   "execution_count": 61,
   "metadata": {},
   "outputs": [],
   "source": [
    "def rsi(prices, n=14):\n",
    "    deltas = np.diff(prices)\n",
    "    seed = deltas[:n+1]\n",
    "    up = seed[seed>=0].sum()/n\n",
    "    down = -seed[seed<0].sum()/n\n",
    "    rs = up/down\n",
    "    rsi = np.zeros_like(prices)\n",
    "    rsi[:n] = 100. - 100./(1.+rs)\n",
    "\n",
    "    for i in range(n, len(prices)):\n",
    "        delta = deltas[i-1] # cause the diff is 1 shorter\n",
    "\n",
    "        if delta>0:\n",
    "            upval = delta\n",
    "            downval = 0.\n",
    "        else:\n",
    "            upval = 0.\n",
    "            downval = -delta\n",
    "\n",
    "        up = (up*(n-1) + upval)/n\n",
    "        down = (down*(n-1) + downval)/n\n",
    "\n",
    "        rs = up/down\n",
    "        rsi[i] = 100. - 100./(1.+rs)\n",
    "\n",
    "    return rsi"
   ]
  },
  {
   "cell_type": "code",
   "execution_count": 62,
   "metadata": {},
   "outputs": [],
   "source": [
    "def add_indicators(data):\n",
    "    # Indicators\n",
    "    # Moving Average\n",
    "    data['MA_7MA'] = data['close'].rolling(window=7).mean()\n",
    "    data['MA_7MA_std'] = data['close'].rolling(window=7).std()\n",
    "    data['MA_15MA'] = data['close'].rolling(window=15).mean()\n",
    "    data['MA_30MA'] = data['close'].rolling(window=30).mean()\n",
    "    data['MA_60MA'] = data['close'].rolling(window=60).mean()\n",
    "\n",
    "    # MACD\n",
    "    ewma = pd.Series.ewm\n",
    "    close_26EMA = ewma(data['close'], span=26).mean()\n",
    "    close_12EMA = ewma(data['close'], span=12).mean()\n",
    "    data['MACD'] = close_12EMA - close_26EMA\n",
    "\n",
    "    # Bollinger bands.\n",
    "    no_of_std = 2\n",
    "    data['MA_7MA_BB_high'] = data['MA_7MA'] + no_of_std * data['MA_7MA_std']\n",
    "    data['MA_7MA_BB_low'] = data['MA_7MA'] - no_of_std * data['MA_7MA_std']\n",
    "\n",
    "    # RSI\n",
    "    data['rsi_6'] = rsi(data['close'].values, 6)\n",
    "    data['rsi_14'] = rsi(data['close'].values, 14)\n",
    "    data['rsi_20'] = rsi(data['close'].values, 20)\n",
    "    \n",
    "    return data"
   ]
  },
  {
   "cell_type": "code",
   "execution_count": 63,
   "metadata": {},
   "outputs": [],
   "source": [
    "def get_change(current, previous):\n",
    "    result = 0\n",
    "    \n",
    "    if current == previous:\n",
    "        return result\n",
    "\n",
    "    try:\n",
    "        result = (abs(current - previous) / previous) * 100.0\n",
    "    except ZeroDivisionError:\n",
    "        result = 0\n",
    "\n",
    "    return result if current > previous else -result"
   ]
  },
  {
   "cell_type": "markdown",
   "metadata": {},
   "source": [
    "### Load Data"
   ]
  },
  {
   "cell_type": "code",
   "execution_count": 64,
   "metadata": {},
   "outputs": [],
   "source": [
    "data = pd.read_json('./../../data/DOGE_BTC-1h.json')\n",
    "data.columns = [ 'time', 'open', 'high', 'low', 'close', 'volume' ]\n",
    "data['time'] = pd.to_datetime(data['time'], unit='ms')"
   ]
  },
  {
   "cell_type": "markdown",
   "metadata": {},
   "source": [
    "### Add External Regressors"
   ]
  },
  {
   "cell_type": "code",
   "execution_count": 65,
   "metadata": {},
   "outputs": [],
   "source": [
    "data = add_indicators(data)\n",
    "data = data.dropna()"
   ]
  },
  {
   "cell_type": "markdown",
   "metadata": {},
   "source": [
    "### Labeling"
   ]
  },
  {
   "cell_type": "code",
   "execution_count": 66,
   "metadata": {},
   "outputs": [],
   "source": [
    "data['close_pred'] = data['close'].shift(-6)\n",
    "data['delta_6'] = data.apply(lambda row: get_change(row['close'], row['close_pred']), axis=1)\n",
    "data['future_up_trend'] = np.where(data['delta_6'] > 0, 1, 0)\n",
    "data = data.drop('close_pred', axis=1)\n",
    "data = data.drop('delta_6', axis=1)"
   ]
  },
  {
   "cell_type": "code",
   "execution_count": 67,
   "metadata": {},
   "outputs": [
    {
     "data": {
      "text/html": [
       "<div>\n",
       "<style scoped>\n",
       "    .dataframe tbody tr th:only-of-type {\n",
       "        vertical-align: middle;\n",
       "    }\n",
       "\n",
       "    .dataframe tbody tr th {\n",
       "        vertical-align: top;\n",
       "    }\n",
       "\n",
       "    .dataframe thead th {\n",
       "        text-align: right;\n",
       "    }\n",
       "</style>\n",
       "<table border=\"1\" class=\"dataframe\">\n",
       "  <thead>\n",
       "    <tr style=\"text-align: right;\">\n",
       "      <th></th>\n",
       "      <th>time</th>\n",
       "      <th>open</th>\n",
       "      <th>high</th>\n",
       "      <th>low</th>\n",
       "      <th>close</th>\n",
       "      <th>volume</th>\n",
       "      <th>MA_7MA</th>\n",
       "      <th>MA_7MA_std</th>\n",
       "      <th>MA_15MA</th>\n",
       "      <th>MA_30MA</th>\n",
       "      <th>MA_60MA</th>\n",
       "      <th>MACD</th>\n",
       "      <th>MA_7MA_BB_high</th>\n",
       "      <th>MA_7MA_BB_low</th>\n",
       "      <th>rsi_6</th>\n",
       "      <th>rsi_14</th>\n",
       "      <th>rsi_20</th>\n",
       "      <th>future_up_trend</th>\n",
       "    </tr>\n",
       "  </thead>\n",
       "  <tbody>\n",
       "    <tr>\n",
       "      <th>59</th>\n",
       "      <td>2022-04-06 11:00:00</td>\n",
       "      <td>0.000003</td>\n",
       "      <td>0.000003</td>\n",
       "      <td>0.000003</td>\n",
       "      <td>0.000003</td>\n",
       "      <td>13399441</td>\n",
       "      <td>0.000004</td>\n",
       "      <td>6.872998e-08</td>\n",
       "      <td>0.000004</td>\n",
       "      <td>0.000004</td>\n",
       "      <td>0.000003</td>\n",
       "      <td>1.424438e-08</td>\n",
       "      <td>0.000004</td>\n",
       "      <td>0.000003</td>\n",
       "      <td>26.090236</td>\n",
       "      <td>43.127170</td>\n",
       "      <td>48.148352</td>\n",
       "      <td>1</td>\n",
       "    </tr>\n",
       "    <tr>\n",
       "      <th>60</th>\n",
       "      <td>2022-04-06 12:00:00</td>\n",
       "      <td>0.000003</td>\n",
       "      <td>0.000003</td>\n",
       "      <td>0.000003</td>\n",
       "      <td>0.000003</td>\n",
       "      <td>8492852</td>\n",
       "      <td>0.000003</td>\n",
       "      <td>7.470577e-08</td>\n",
       "      <td>0.000004</td>\n",
       "      <td>0.000004</td>\n",
       "      <td>0.000003</td>\n",
       "      <td>4.293385e-09</td>\n",
       "      <td>0.000004</td>\n",
       "      <td>0.000003</td>\n",
       "      <td>24.890280</td>\n",
       "      <td>42.427941</td>\n",
       "      <td>47.601166</td>\n",
       "      <td>1</td>\n",
       "    </tr>\n",
       "    <tr>\n",
       "      <th>61</th>\n",
       "      <td>2022-04-06 13:00:00</td>\n",
       "      <td>0.000003</td>\n",
       "      <td>0.000003</td>\n",
       "      <td>0.000003</td>\n",
       "      <td>0.000003</td>\n",
       "      <td>27427574</td>\n",
       "      <td>0.000003</td>\n",
       "      <td>7.696629e-08</td>\n",
       "      <td>0.000004</td>\n",
       "      <td>0.000004</td>\n",
       "      <td>0.000003</td>\n",
       "      <td>-8.299765e-09</td>\n",
       "      <td>0.000004</td>\n",
       "      <td>0.000003</td>\n",
       "      <td>18.698379</td>\n",
       "      <td>38.404594</td>\n",
       "      <td>44.413335</td>\n",
       "      <td>0</td>\n",
       "    </tr>\n",
       "    <tr>\n",
       "      <th>62</th>\n",
       "      <td>2022-04-06 14:00:00</td>\n",
       "      <td>0.000003</td>\n",
       "      <td>0.000003</td>\n",
       "      <td>0.000003</td>\n",
       "      <td>0.000003</td>\n",
       "      <td>15959655</td>\n",
       "      <td>0.000003</td>\n",
       "      <td>7.057586e-08</td>\n",
       "      <td>0.000004</td>\n",
       "      <td>0.000004</td>\n",
       "      <td>0.000003</td>\n",
       "      <td>-1.648667e-08</td>\n",
       "      <td>0.000004</td>\n",
       "      <td>0.000003</td>\n",
       "      <td>26.056304</td>\n",
       "      <td>40.432322</td>\n",
       "      <td>45.689528</td>\n",
       "      <td>1</td>\n",
       "    </tr>\n",
       "    <tr>\n",
       "      <th>63</th>\n",
       "      <td>2022-04-06 15:00:00</td>\n",
       "      <td>0.000003</td>\n",
       "      <td>0.000003</td>\n",
       "      <td>0.000003</td>\n",
       "      <td>0.000003</td>\n",
       "      <td>11639818</td>\n",
       "      <td>0.000003</td>\n",
       "      <td>4.270608e-08</td>\n",
       "      <td>0.000003</td>\n",
       "      <td>0.000004</td>\n",
       "      <td>0.000003</td>\n",
       "      <td>-2.112755e-08</td>\n",
       "      <td>0.000003</td>\n",
       "      <td>0.000003</td>\n",
       "      <td>33.300045</td>\n",
       "      <td>42.471835</td>\n",
       "      <td>46.971076</td>\n",
       "      <td>1</td>\n",
       "    </tr>\n",
       "  </tbody>\n",
       "</table>\n",
       "</div>"
      ],
      "text/plain": [
       "                  time      open      high       low     close    volume  \\\n",
       "59 2022-04-06 11:00:00  0.000003  0.000003  0.000003  0.000003  13399441   \n",
       "60 2022-04-06 12:00:00  0.000003  0.000003  0.000003  0.000003   8492852   \n",
       "61 2022-04-06 13:00:00  0.000003  0.000003  0.000003  0.000003  27427574   \n",
       "62 2022-04-06 14:00:00  0.000003  0.000003  0.000003  0.000003  15959655   \n",
       "63 2022-04-06 15:00:00  0.000003  0.000003  0.000003  0.000003  11639818   \n",
       "\n",
       "      MA_7MA    MA_7MA_std   MA_15MA   MA_30MA   MA_60MA          MACD  \\\n",
       "59  0.000004  6.872998e-08  0.000004  0.000004  0.000003  1.424438e-08   \n",
       "60  0.000003  7.470577e-08  0.000004  0.000004  0.000003  4.293385e-09   \n",
       "61  0.000003  7.696629e-08  0.000004  0.000004  0.000003 -8.299765e-09   \n",
       "62  0.000003  7.057586e-08  0.000004  0.000004  0.000003 -1.648667e-08   \n",
       "63  0.000003  4.270608e-08  0.000003  0.000004  0.000003 -2.112755e-08   \n",
       "\n",
       "    MA_7MA_BB_high  MA_7MA_BB_low      rsi_6     rsi_14     rsi_20  \\\n",
       "59        0.000004       0.000003  26.090236  43.127170  48.148352   \n",
       "60        0.000004       0.000003  24.890280  42.427941  47.601166   \n",
       "61        0.000004       0.000003  18.698379  38.404594  44.413335   \n",
       "62        0.000004       0.000003  26.056304  40.432322  45.689528   \n",
       "63        0.000003       0.000003  33.300045  42.471835  46.971076   \n",
       "\n",
       "    future_up_trend  \n",
       "59                1  \n",
       "60                1  \n",
       "61                0  \n",
       "62                1  \n",
       "63                1  "
      ]
     },
     "execution_count": 67,
     "metadata": {},
     "output_type": "execute_result"
    }
   ],
   "source": [
    "data.head()"
   ]
  },
  {
   "cell_type": "markdown",
   "metadata": {},
   "source": [
    "## Model"
   ]
  },
  {
   "cell_type": "markdown",
   "metadata": {},
   "source": [
    "### Train the Model"
   ]
  },
  {
   "cell_type": "code",
   "execution_count": 68,
   "metadata": {},
   "outputs": [
    {
     "name": "stderr",
     "output_type": "stream",
     "text": [
      "Epoch: 999951, Loss: 0.11470916122198105 (Prev: 0.1196395754814148): 100%|██████████| 1000000/1000000 [2:34:04<00:00, 108.17it/s]  \n"
     ]
    },
    {
     "data": {
      "image/png": "[encoded data removed]",
      "text/plain": [
       "<Figure size 432x288 with 1 Axes>"
      ]
     },
     "metadata": {
      "needs_background": "light"
     },
     "output_type": "display_data"
    }
   ],
   "source": [
    "model = BifrostNeuralEngine(data=data,\n",
    "                            autobootstrap_filename='../../data/doge_btc_delta_6_trend_binance_model.pt',\n",
    "                            labels_column_names=['future_up_trend'],\n",
    "                            date_column_name='time',\n",
    "                            layers_config=[100, 250, 75,75,150]) \\\n",
    "    .fit(epochs=100*1000*10)"
   ]
  },
  {
   "cell_type": "markdown",
   "metadata": {},
   "source": [
    "### Make Predictions"
   ]
  },
  {
   "cell_type": "code",
   "execution_count": 69,
   "metadata": {},
   "outputs": [],
   "source": [
    "prediction_frame = data.copy()\n",
    "predictions = model.predict(prediction_frame)\n",
    "prediction_frame.index = prediction_frame.time\n",
    "predicted_df = pd.DataFrame(predictions)\n",
    "predicted_df.columns = ['future_up_trend']\n",
    "predicted_df.index = prediction_frame.index\n",
    "prediction_frame['future_up_trend_pred'] = np.where(predicted_df['future_up_trend'] > 0, 1, 0)\n",
    "\n",
    "prediction_frame['close_pred'] = prediction_frame['close'].shift(-6)\n",
    "prediction_frame['delta_6'] = prediction_frame.apply(lambda row: get_change(row['close'], row['close_pred']), axis=1)\n",
    "prediction_frame['future_up_trend'] = np.where(prediction_frame['delta_6'] > 0, 1, 0)\n",
    "prediction_frame = prediction_frame.drop('close_pred', axis=1)\n",
    "prediction_frame = prediction_frame.drop('delta_6', axis=1)\n",
    "\n",
    "#  Accuracy\n",
    "accuracy_filter = pd.DataFrame(prediction_frame['future_up_trend'] == prediction_frame['future_up_trend_pred'])"
   ]
  },
  {
   "cell_type": "code",
   "execution_count": 70,
   "metadata": {},
   "outputs": [
    {
     "name": "stdout",
     "output_type": "stream",
     "text": [
      "99% (Prev: 69%) Accuracy (Total: 1388, Correct: 699, Incorrect: 689)\n"
     ]
    }
   ],
   "source": [
    "correct_count = accuracy_filter[accuracy_filter[0] == True].shape[0]\n",
    "incorrect_count = accuracy_filter[accuracy_filter[0] == False].shape[0]\n",
    "accuracy = min(correct_count, incorrect_count) / max(correct_count, incorrect_count) * 100\n",
    "\n",
    "print(f'{round(accuracy)}% (Prev: 69%) Accuracy (Total: {accuracy_filter.shape[0]}, Correct: {correct_count}, Incorrect: {incorrect_count})')"
   ]
  },
  {
   "cell_type": "code",
   "execution_count": null,
   "metadata": {},
   "outputs": [],
   "source": []
  }
 ],
 "metadata": {
  "kernelspec": {
   "display_name": "Python 3.9.13 ('pytorch')",
   "language": "python",
   "name": "python3"
  },
  "language_info": {
   "codemirror_mode": {
    "name": "ipython",
    "version": 3
   },
   "file_extension": ".py",
   "mimetype": "text/x-python",
   "name": "python",
   "nbconvert_exporter": "python",
   "pygments_lexer": "ipython3",
   "version": "3.9.13"
  },
  "orig_nbformat": 4,
  "vscode": {
   "interpreter": {
    "hash": "0203f9377e450cf3e5fd498dcfe93bad69687b6515d650e7d79a42aa53323e2d"
   }
  }
 },
 "nbformat": 4,
 "nbformat_minor": 2
}
