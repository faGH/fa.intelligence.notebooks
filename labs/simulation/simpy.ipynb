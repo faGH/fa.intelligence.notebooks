{
 "cells": [
  {
   "cell_type": "markdown",
   "metadata": {},
   "source": [
    "# SimPy"
   ]
  },
  {
   "cell_type": "markdown",
   "metadata": {},
   "source": [
    "## Install Dependencies"
   ]
  },
  {
   "cell_type": "code",
   "execution_count": 5,
   "metadata": {},
   "outputs": [
    {
     "name": "stdout",
     "output_type": "stream",
     "text": [
      "Requirement already satisfied: simpy in c:\\users\\divanma\\.conda\\envs\\windows-ml-station\\lib\\site-packages (4.0.1)\n"
     ]
    },
    {
     "name": "stderr",
     "output_type": "stream",
     "text": [
      "WARNING: Ignoring invalid distribution -ymupdf (c:\\users\\divanma\\.conda\\envs\\windows-ml-station\\lib\\site-packages)\n",
      "WARNING: Ignoring invalid distribution -illow (c:\\users\\divanma\\.conda\\envs\\windows-ml-station\\lib\\site-packages)\n",
      "WARNING: Ignoring invalid distribution -atplotlib (c:\\users\\divanma\\.conda\\envs\\windows-ml-station\\lib\\site-packages)\n",
      "WARNING: Ignoring invalid distribution -ymupdf (c:\\users\\divanma\\.conda\\envs\\windows-ml-station\\lib\\site-packages)\n",
      "WARNING: Ignoring invalid distribution -illow (c:\\users\\divanma\\.conda\\envs\\windows-ml-station\\lib\\site-packages)\n",
      "WARNING: Ignoring invalid distribution -atplotlib (c:\\users\\divanma\\.conda\\envs\\windows-ml-station\\lib\\site-packages)\n",
      "WARNING: Ignoring invalid distribution -ymupdf (c:\\users\\divanma\\.conda\\envs\\windows-ml-station\\lib\\site-packages)\n",
      "WARNING: Ignoring invalid distribution -illow (c:\\users\\divanma\\.conda\\envs\\windows-ml-station\\lib\\site-packages)\n",
      "WARNING: Ignoring invalid distribution -atplotlib (c:\\users\\divanma\\.conda\\envs\\windows-ml-station\\lib\\site-packages)\n",
      "WARNING: Ignoring invalid distribution -ymupdf (c:\\users\\divanma\\.conda\\envs\\windows-ml-station\\lib\\site-packages)\n",
      "WARNING: Ignoring invalid distribution -illow (c:\\users\\divanma\\.conda\\envs\\windows-ml-station\\lib\\site-packages)\n",
      "WARNING: Ignoring invalid distribution -atplotlib (c:\\users\\divanma\\.conda\\envs\\windows-ml-station\\lib\\site-packages)\n",
      "WARNING: Ignoring invalid distribution -ymupdf (c:\\users\\divanma\\.conda\\envs\\windows-ml-station\\lib\\site-packages)\n",
      "WARNING: Ignoring invalid distribution -illow (c:\\users\\divanma\\.conda\\envs\\windows-ml-station\\lib\\site-packages)\n",
      "WARNING: Ignoring invalid distribution -atplotlib (c:\\users\\divanma\\.conda\\envs\\windows-ml-station\\lib\\site-packages)\n",
      "WARNING: Ignoring invalid distribution -ymupdf (c:\\users\\divanma\\.conda\\envs\\windows-ml-station\\lib\\site-packages)\n",
      "WARNING: Ignoring invalid distribution -illow (c:\\users\\divanma\\.conda\\envs\\windows-ml-station\\lib\\site-packages)\n",
      "WARNING: Ignoring invalid distribution -atplotlib (c:\\users\\divanma\\.conda\\envs\\windows-ml-station\\lib\\site-packages)\n",
      "WARNING: There was an error checking the latest version of pip.\n"
     ]
    }
   ],
   "source": [
    "!pip install -U simpy"
   ]
  },
  {
   "cell_type": "markdown",
   "metadata": {},
   "source": [
    "## Import Dependenies"
   ]
  },
  {
   "cell_type": "code",
   "execution_count": 6,
   "metadata": {},
   "outputs": [],
   "source": [
    "import simpy\n",
    "from simpy import Environment\n",
    "from typing import Generator, Optional, Union\n",
    "from simpy.events import Event\n",
    "import random\n",
    "import statistics\n",
    "import numpy as np"
   ]
  },
  {
   "cell_type": "markdown",
   "metadata": {},
   "source": [
    "## Call Center Simulation"
   ]
  },
  {
   "cell_type": "code",
   "execution_count": 7,
   "metadata": {},
   "outputs": [],
   "source": [
    "class Simulation(Environment):\n",
    "    def __init__(self,\n",
    "                 name: str,\n",
    "                 until: Optional[Union[Union[int, float], Event]] = None) -> None:\n",
    "        super().__init__()\n",
    "        print(f'Starting simulation \"{name}\" at {self.now:.2f}.')\n",
    "        self.process(self.process_generator())\n",
    "        self.run(until=until)\n",
    "        print(f'Ending simulation \"{name}\" at {self.now:.2f}.')\n",
    "\n",
    "    def process_generator(self) -> Generator:\n",
    "        raise NotImplementedError(f'The method \"process_generator\" should be overridden in the derived class.')"
   ]
  },
  {
   "cell_type": "code",
   "execution_count": 8,
   "metadata": {},
   "outputs": [],
   "source": [
    "class CallCenter(Simulation):\n",
    "    customers_handled: int = 0\n",
    "\n",
    "    def __init__(self,\n",
    "                 max_runtime_mins: int,\n",
    "                 n_call_center_agents: int,\n",
    "                 avg_support_time_in_mins: int,\n",
    "                 customer_interval_in_min: int) -> None:\n",
    "        # Assign resources.\n",
    "        self.avg_support_time_in_mins = avg_support_time_in_mins\n",
    "        self.customer_interval_in_min = customer_interval_in_min\n",
    "        self.call_center_agent_resources = simpy.Resource(env=self, capacity=n_call_center_agents)\n",
    "\n",
    "        # Initiate the simulation.\n",
    "        super().__init__(name='Call Center', until=max_runtime_mins)\n",
    "\n",
    "    def __support_customer__(self, customer_name: str) -> Generator:\n",
    "        random_time = max(1, np.random.normal(self.avg_support_time_in_mins, 4))\n",
    "\n",
    "        yield self.timeout(delay=random_time)\n",
    "        print(f'Support finished for {customer_name} at {self.now:.2f}.')\n",
    "\n",
    "    def __take_call__(self, customer_name: str) -> Generator:\n",
    "        print(f'Customer \"{customer_name}\" enters waiting queue at {self.now:.2f}.')\n",
    "    \n",
    "        with self.call_center_agent_resources.request() as request:\n",
    "            # Wait for a call center agent to become available.\n",
    "            yield request\n",
    "            print(f'Customer \"{customer_name}\" enters call at {self.now:.2f}.')\n",
    "\n",
    "            # Handle the support item associated with the call.\n",
    "            yield self.process(self.__support_customer__(customer_name=customer_name))\n",
    "            print(f'Customer \"{customer_name}\" left call at {self.now:.2f}.')\n",
    "\n",
    "            self.customers_handled += 1\n",
    "    \n",
    "    def process_generator(self) -> Generator:\n",
    "        for i in range(1, 6):\n",
    "            self.process(self.__take_call__(customer_name=i))\n",
    "\n",
    "        while True:\n",
    "            yield self.timeout(delay=random.randint(self.customer_interval_in_min-1, self.customer_interval_in_min+1))\n",
    "            i += 1\n",
    "            self.process(self.__take_call__(customer_name=i))"
   ]
  },
  {
   "cell_type": "code",
   "execution_count": 9,
   "metadata": {},
   "outputs": [
    {
     "name": "stdout",
     "output_type": "stream",
     "text": [
      "Starting simulation \"Call Center\" at 0.00.\n",
      "Customer \"1\" enters waiting queue at 0.00.\n",
      "Customer \"2\" enters waiting queue at 0.00.\n",
      "Customer \"3\" enters waiting queue at 0.00.\n",
      "Customer \"4\" enters waiting queue at 0.00.\n",
      "Customer \"5\" enters waiting queue at 0.00.\n",
      "Customer \"1\" enters call at 0.00.\n",
      "Customer \"2\" enters call at 0.00.\n",
      "Support finished for 2 at 1.00.\n",
      "Customer \"2\" left call at 1.00.\n",
      "Customer \"3\" enters call at 1.00.\n",
      "Support finished for 1 at 1.07.\n",
      "Customer \"1\" left call at 1.07.\n",
      "Customer \"4\" enters call at 1.07.\n",
      "Support finished for 4 at 2.07.\n",
      "Customer \"4\" left call at 2.07.\n",
      "Customer \"5\" enters call at 2.07.\n",
      "Support finished for 5 at 3.07.\n",
      "Customer \"5\" left call at 3.07.\n",
      "Customer \"6\" enters waiting queue at 5.00.\n",
      "Customer \"6\" enters call at 5.00.\n",
      "Support finished for 3 at 5.45.\n",
      "Customer \"3\" left call at 5.45.\n",
      "Customer \"7\" enters waiting queue at 11.00.\n",
      "Customer \"7\" enters call at 11.00.\n",
      "Support finished for 6 at 13.03.\n",
      "Customer \"6\" left call at 13.03.\n",
      "Customer \"8\" enters waiting queue at 16.00.\n",
      "Customer \"8\" enters call at 16.00.\n",
      "Support finished for 8 at 17.00.\n",
      "Customer \"8\" left call at 17.00.\n",
      "Support finished for 7 at 18.12.\n",
      "Customer \"7\" left call at 18.12.\n",
      "Customer \"9\" enters waiting queue at 21.00.\n",
      "Customer \"9\" enters call at 21.00.\n",
      "Customer \"10\" enters waiting queue at 25.00.\n",
      "Customer \"10\" enters call at 25.00.\n",
      "Support finished for 9 at 27.05.\n",
      "Customer \"9\" left call at 27.05.\n",
      "Support finished for 10 at 28.03.\n",
      "Customer \"10\" left call at 28.03.\n",
      "Customer \"11\" enters waiting queue at 30.00.\n",
      "Customer \"11\" enters call at 30.00.\n",
      "Support finished for 11 at 32.68.\n",
      "Customer \"11\" left call at 32.68.\n",
      "Customer \"12\" enters waiting queue at 35.00.\n",
      "Customer \"12\" enters call at 35.00.\n",
      "Support finished for 12 at 39.15.\n",
      "Customer \"12\" left call at 39.15.\n",
      "Customer \"13\" enters waiting queue at 40.00.\n",
      "Customer \"13\" enters call at 40.00.\n",
      "Customer \"14\" enters waiting queue at 46.00.\n",
      "Customer \"14\" enters call at 46.00.\n",
      "Support finished for 13 at 50.64.\n",
      "Customer \"13\" left call at 50.64.\n",
      "Customer \"15\" enters waiting queue at 52.00.\n",
      "Customer \"15\" enters call at 52.00.\n",
      "Customer \"16\" enters waiting queue at 56.00.\n",
      "Support finished for 14 at 58.74.\n",
      "Customer \"14\" left call at 58.74.\n",
      "Customer \"16\" enters call at 58.74.\n",
      "Customer \"17\" enters waiting queue at 60.00.\n",
      "Support finished for 15 at 63.69.\n",
      "Customer \"15\" left call at 63.69.\n",
      "Customer \"17\" enters call at 63.69.\n",
      "Customer \"18\" enters waiting queue at 64.00.\n",
      "Support finished for 17 at 64.69.\n",
      "Customer \"17\" left call at 64.69.\n",
      "Customer \"18\" enters call at 64.69.\n",
      "Customer \"19\" enters waiting queue at 69.00.\n",
      "Support finished for 18 at 70.19.\n",
      "Customer \"18\" left call at 70.19.\n",
      "Customer \"19\" enters call at 70.19.\n",
      "Support finished for 16 at 70.32.\n",
      "Customer \"16\" left call at 70.32.\n",
      "Support finished for 19 at 73.58.\n",
      "Customer \"19\" left call at 73.58.\n",
      "Customer \"20\" enters waiting queue at 75.00.\n",
      "Customer \"20\" enters call at 75.00.\n",
      "Support finished for 20 at 77.89.\n",
      "Customer \"20\" left call at 77.89.\n",
      "Customer \"21\" enters waiting queue at 79.00.\n",
      "Customer \"21\" enters call at 79.00.\n",
      "Support finished for 21 at 80.00.\n",
      "Customer \"21\" left call at 80.00.\n",
      "Customer \"22\" enters waiting queue at 85.00.\n",
      "Customer \"22\" enters call at 85.00.\n",
      "Support finished for 22 at 88.74.\n",
      "Customer \"22\" left call at 88.74.\n",
      "Customer \"23\" enters waiting queue at 91.00.\n",
      "Customer \"23\" enters call at 91.00.\n",
      "Customer \"24\" enters waiting queue at 96.00.\n",
      "Customer \"24\" enters call at 96.00.\n",
      "Support finished for 24 at 97.00.\n",
      "Customer \"24\" left call at 97.00.\n",
      "Support finished for 23 at 99.30.\n",
      "Customer \"23\" left call at 99.30.\n",
      "Customer \"25\" enters waiting queue at 100.00.\n",
      "Customer \"25\" enters call at 100.00.\n",
      "Customer \"26\" enters waiting queue at 105.00.\n",
      "Customer \"26\" enters call at 105.00.\n",
      "Support finished for 25 at 105.19.\n",
      "Customer \"25\" left call at 105.19.\n",
      "Support finished for 26 at 106.73.\n",
      "Customer \"26\" left call at 106.73.\n",
      "Customer \"27\" enters waiting queue at 110.00.\n",
      "Customer \"27\" enters call at 110.00.\n",
      "Support finished for 27 at 114.07.\n",
      "Customer \"27\" left call at 114.07.\n",
      "Customer \"28\" enters waiting queue at 115.00.\n",
      "Customer \"28\" enters call at 115.00.\n",
      "Support finished for 28 at 116.96.\n",
      "Customer \"28\" left call at 116.96.\n",
      "Ending simulation \"Call Center\" at 120.00.\n",
      "The call center handled 28 customer calls.\n"
     ]
    }
   ],
   "source": [
    "sim = CallCenter(max_runtime_mins=120,\n",
    "                 n_call_center_agents=2,\n",
    "                 avg_support_time_in_mins=5,\n",
    "                 customer_interval_in_min=5)\n",
    "\n",
    "print(f'The call center handled {sim.customers_handled} customer calls.')"
   ]
  }
 ],
 "metadata": {
  "kernelspec": {
   "display_name": "Python 3.9.7 ('windows-ml-station')",
   "language": "python",
   "name": "python3"
  },
  "language_info": {
   "codemirror_mode": {
    "name": "ipython",
    "version": 3
   },
   "file_extension": ".py",
   "mimetype": "text/x-python",
   "name": "python",
   "nbconvert_exporter": "python",
   "pygments_lexer": "ipython3",
   "version": "3.9.7"
  },
  "orig_nbformat": 4,
  "vscode": {
   "interpreter": {
    "hash": "f2d2799229849fd2c86aa3751486a343a6caa647b525ae379976f27c22f61e0e"
   }
  }
 },
 "nbformat": 4,
 "nbformat_minor": 2
}
