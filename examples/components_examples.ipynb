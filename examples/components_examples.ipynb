{
 "cells": [
  {
   "cell_type": "markdown",
   "metadata": {},
   "source": [
    "# Example Importing & Usage of FrostAura Components"
   ]
  },
  {
   "cell_type": "code",
   "execution_count": 1,
   "metadata": {},
   "outputs": [
    {
     "name": "stdout",
     "output_type": "stream",
     "text": [
      "Collecting frostaura\n",
      "  Downloading frostaura-1.0.3-py3-none-any.whl (7.5 kB)\n",
      "Installing collected packages: frostaura\n",
      "Successfully installed frostaura-1.0.3\n"
     ]
    }
   ],
   "source": [
    "!pip install -U --no-cache-dir frostaura"
   ]
  },
  {
   "cell_type": "code",
   "execution_count": 2,
   "metadata": {},
   "outputs": [],
   "source": [
    "from frostaura import models, data_access, engines, managers"
   ]
  },
  {
   "cell_type": "code",
   "execution_count": null,
   "metadata": {},
   "outputs": [],
   "source": []
  }
 ],
 "metadata": {
  "kernelspec": {
   "display_name": "Python 3.9.6 ('base')",
   "language": "python",
   "name": "python3"
  },
  "language_info": {
   "codemirror_mode": {
    "name": "ipython",
    "version": 3
   },
   "file_extension": ".py",
   "mimetype": "text/x-python",
   "name": "python",
   "nbconvert_exporter": "python",
   "pygments_lexer": "ipython3",
   "version": "3.9.6"
  },
  "orig_nbformat": 4,
  "vscode": {
   "interpreter": {
    "hash": "5127a938f461bf317bd7623bbe805ae2164d41f741befc8d5975541320c15407"
   }
  }
 },
 "nbformat": 4,
 "nbformat_minor": 2
}
