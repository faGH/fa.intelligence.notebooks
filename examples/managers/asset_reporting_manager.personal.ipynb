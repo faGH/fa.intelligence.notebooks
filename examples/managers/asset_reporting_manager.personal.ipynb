{
 "cells": [
  {
   "cell_type": "markdown",
   "metadata": {},
   "source": [
    "# Install Dependencies"
   ]
  },
  {
   "cell_type": "markdown",
   "metadata": {},
   "source": [
    "## External Dependencies"
   ]
  },
  {
   "cell_type": "code",
   "execution_count": 5,
   "metadata": {},
   "outputs": [],
   "source": [
    "#!pip install pip"
   ]
  },
  {
   "cell_type": "markdown",
   "metadata": {},
   "source": [
    "## FrostAura Dependencies"
   ]
  },
  {
   "cell_type": "code",
   "execution_count": 6,
   "metadata": {},
   "outputs": [
    {
     "name": "stdout",
     "output_type": "stream",
     "text": [
      "\u001b[33mWARNING: Skipping frostaura as it is not installed.\u001b[0m\u001b[33m\n",
      "\u001b[0mNote: you may need to restart the kernel to use updated packages.\n"
     ]
    }
   ],
   "source": [
    "import os\n",
    "import sys\n",
    "\n",
    "USE_LOCAL_CODE: bool = True # NOTE: When changing this configuration, be sure to restart the interpreter in order to have sys path updates reflect.\n",
    "directories_to_move_up: int = 2\n",
    "current_executing_path: str = os.getcwd()\n",
    "current_executing_path = current_executing_path.replace('\\\\', '/')\n",
    "root_path: str = '/'.join(current_executing_path.split('/')[:-directories_to_move_up])\n",
    "\n",
    "# Clean up.\n",
    "%pip uninstall frostaura -y\n",
    "sys.path = [p for p in sys.path if p != root_path]\n",
    "\n",
    "if USE_LOCAL_CODE:\n",
    "    sys.path.append(root_path)\n",
    "else:\n",
    "    %pip install -U --no-cache-dir frostaura"
   ]
  },
  {
   "cell_type": "markdown",
   "metadata": {},
   "source": [
    "## Logging"
   ]
  },
  {
   "cell_type": "code",
   "execution_count": 7,
   "metadata": {},
   "outputs": [],
   "source": [
    "import logging\n",
    "\n",
    "logging.basicConfig(level=logging.DEBUG)"
   ]
  },
  {
   "cell_type": "markdown",
   "metadata": {},
   "source": [
    "# Import Dependencies"
   ]
  },
  {
   "cell_type": "code",
   "execution_count": 9,
   "metadata": {},
   "outputs": [],
   "source": [
    "from frostaura.managers import IAssetReportingManager\n",
    "from frostaura.managers import PersonalAssetReportingManager\n",
    "from frostaura.data_access import IResourcesDataAccess\n",
    "from frostaura.data_access import EmbeddedResourcesDataAccess\n",
    "from frostaura.data_access import IPersonalAssetDataAccess\n",
    "from frostaura.data_access import EasyEquitiesPersonalAssetDataAccess\n",
    "from frostaura.data_access import IPublicAssetDataAccess\n",
    "from frostaura.data_access import YahooFinanceDataAccess\n",
    "from frostaura.engines import IAssetCalculationsEngine\n",
    "from frostaura.engines import SimpleAssetCalculationsEngine"
   ]
  },
  {
   "cell_type": "markdown",
   "metadata": {},
   "source": [
    "# Usage"
   ]
  },
  {
   "cell_type": "code",
   "execution_count": 10,
   "metadata": {},
   "outputs": [],
   "source": [
    "config: dict = {}\n",
    "resource_data_access: IResourcesDataAccess = EmbeddedResourcesDataAccess()\n",
    "personal_asset_data_access: IPersonalAssetDataAccess = EasyEquitiesPersonalAssetDataAccess(resource_data_access=resource_data_access,\n",
    "                                                                                           username=None,\n",
    "                                                                                           password=None)\n",
    "public_asset_data_access: IPublicAssetDataAccess = YahooFinanceDataAccess()\n",
    "asset_calculation_engine: IAssetCalculationsEngine = SimpleAssetCalculationsEngine(public_asset_data_access=public_asset_data_access)\n",
    "instance: IAssetReportingManager = PersonalAssetReportingManager(personal_asset_data_access=personal_asset_data_access,\n",
    "                                                                 asset_calculation_engine=asset_calculation_engine)"
   ]
  },
  {
   "cell_type": "code",
   "execution_count": 11,
   "metadata": {},
   "outputs": [
    {
     "name": "stderr",
     "output_type": "stream",
     "text": [
      "DEBUG:root:Calculating profit for asset \"TSLA\".\n",
      "INFO:root:Fetching historical price movements for symbol \"TSLA\".\n",
      "DEBUG:urllib3.connectionpool:Starting new HTTPS connection (1): query2.finance.yahoo.com:443\n",
      "DEBUG:urllib3.connectionpool:https://query2.finance.yahoo.com:443 \"GET /v8/finance/chart/TSLA?period1=-631159200&period2=1660495533&interval=1d&includePrePost=False&events=div%2Csplits HTTP/1.1\" 200 None\n",
      "DEBUG:root:[TSLA] Processing transaction value $0.0688 on 2022-07-28 00:00:00.\n",
      "DEBUG:root:Calculating profit for asset \"AAPL\".\n",
      "INFO:root:Fetching historical price movements for symbol \"AAPL\".\n",
      "DEBUG:urllib3.connectionpool:Starting new HTTPS connection (1): query2.finance.yahoo.com:443\n",
      "DEBUG:urllib3.connectionpool:https://query2.finance.yahoo.com:443 \"GET /v8/finance/chart/AAPL?period1=-631159200&period2=1660495534&interval=1d&includePrePost=False&events=div%2Csplits HTTP/1.1\" 200 None\n",
      "DEBUG:root:[AAPL] Processing transaction value $0.4317 on 2022-07-01 00:00:00.\n",
      "DEBUG:root:Calculating profit for asset \"DDD\".\n",
      "INFO:root:Fetching historical price movements for symbol \"DDD\".\n",
      "DEBUG:urllib3.connectionpool:Starting new HTTPS connection (1): query2.finance.yahoo.com:443\n",
      "DEBUG:urllib3.connectionpool:https://query2.finance.yahoo.com:443 \"GET /v8/finance/chart/DDD?period1=-631159200&period2=1660495538&interval=1d&includePrePost=False&events=div%2Csplits HTTP/1.1\" 200 None\n",
      "DEBUG:root:[DDD] Processing transaction value $8.8925 on 2022-08-05 00:00:00.\n",
      "DEBUG:root:Calculating profit for asset \"SBSW\".\n",
      "INFO:root:Fetching historical price movements for symbol \"SBSW\".\n",
      "DEBUG:urllib3.connectionpool:Starting new HTTPS connection (1): query2.finance.yahoo.com:443\n",
      "DEBUG:urllib3.connectionpool:https://query2.finance.yahoo.com:443 \"GET /v8/finance/chart/SBSW?period1=-631159200&period2=1660495539&interval=1d&includePrePost=False&events=div%2Csplits HTTP/1.1\" 200 None\n",
      "DEBUG:root:[SBSW] Processing transaction value $1.1265 on 2022-08-05 00:00:00.\n",
      "DEBUG:root:Calculating overall holdings profits.\n",
      "DEBUG:root:Calculating profit for asset \"TSLA\".\n",
      "INFO:root:Fetching historical price movements for symbol \"TSLA\".\n",
      "DEBUG:urllib3.connectionpool:Starting new HTTPS connection (1): query2.finance.yahoo.com:443\n",
      "DEBUG:urllib3.connectionpool:https://query2.finance.yahoo.com:443 \"GET /v8/finance/chart/TSLA?period1=-631159200&period2=1660495540&interval=1d&includePrePost=False&events=div%2Csplits HTTP/1.1\" 200 None\n",
      "DEBUG:root:[TSLA] Processing transaction value $0.0688 on 2022-07-28 00:00:00.\n",
      "DEBUG:root:Calculating profit for asset \"AAPL\".\n",
      "INFO:root:Fetching historical price movements for symbol \"AAPL\".\n",
      "DEBUG:urllib3.connectionpool:Starting new HTTPS connection (1): query2.finance.yahoo.com:443\n",
      "DEBUG:urllib3.connectionpool:https://query2.finance.yahoo.com:443 \"GET /v8/finance/chart/AAPL?period1=-631159200&period2=1660495541&interval=1d&includePrePost=False&events=div%2Csplits HTTP/1.1\" 200 None\n",
      "DEBUG:root:[AAPL] Processing transaction value $0.4317 on 2022-07-01 00:00:00.\n",
      "DEBUG:root:Calculating profit for asset \"DDD\".\n",
      "INFO:root:Fetching historical price movements for symbol \"DDD\".\n",
      "DEBUG:urllib3.connectionpool:Starting new HTTPS connection (1): query2.finance.yahoo.com:443\n",
      "DEBUG:urllib3.connectionpool:https://query2.finance.yahoo.com:443 \"GET /v8/finance/chart/DDD?period1=-631159200&period2=1660495543&interval=1d&includePrePost=False&events=div%2Csplits HTTP/1.1\" 200 None\n",
      "DEBUG:root:[DDD] Processing transaction value $8.8925 on 2022-08-05 00:00:00.\n",
      "DEBUG:root:Calculating profit for asset \"SBSW\".\n",
      "INFO:root:Fetching historical price movements for symbol \"SBSW\".\n",
      "DEBUG:urllib3.connectionpool:Starting new HTTPS connection (1): query2.finance.yahoo.com:443\n",
      "DEBUG:urllib3.connectionpool:https://query2.finance.yahoo.com:443 \"GET /v8/finance/chart/SBSW?period1=-631159200&period2=1660495545&interval=1d&includePrePost=False&events=div%2Csplits HTTP/1.1\" 200 None\n",
      "DEBUG:root:[SBSW] Processing transaction value $1.1265 on 2022-08-05 00:00:00.\n"
     ]
    }
   ],
   "source": [
    "instance.send_reports()"
   ]
  },
  {
   "cell_type": "code",
   "execution_count": null,
   "metadata": {},
   "outputs": [],
   "source": []
  }
 ],
 "metadata": {
  "kernelspec": {
   "display_name": "Python 3.9.6 ('base')",
   "language": "python",
   "name": "python3"
  },
  "language_info": {
   "codemirror_mode": {
    "name": "ipython",
    "version": 3
   },
   "file_extension": ".py",
   "mimetype": "text/x-python",
   "name": "python",
   "nbconvert_exporter": "python",
   "pygments_lexer": "ipython3",
   "version": "3.9.6"
  },
  "orig_nbformat": 4,
  "vscode": {
   "interpreter": {
    "hash": "5127a938f461bf317bd7623bbe805ae2164d41f741befc8d5975541320c15407"
   }
  }
 },
 "nbformat": 4,
 "nbformat_minor": 2
}
