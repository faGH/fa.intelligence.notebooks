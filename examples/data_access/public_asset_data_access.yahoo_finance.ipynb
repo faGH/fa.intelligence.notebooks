{
 "cells": [
  {
   "cell_type": "markdown",
   "metadata": {},
   "source": [
    "# Install Dependencies"
   ]
  },
  {
   "cell_type": "markdown",
   "metadata": {},
   "source": [
    "## External Dependencies"
   ]
  },
  {
   "cell_type": "code",
   "execution_count": 1,
   "metadata": {},
   "outputs": [
    {
     "name": "stdout",
     "output_type": "stream",
     "text": [
      "Requirement already satisfied: yfinance in /Users/deanmartin/miniforge3/lib/python3.9/site-packages (0.1.74)\n",
      "Requirement already satisfied: pandas in /Users/deanmartin/miniforge3/lib/python3.9/site-packages (1.3.3)\n",
      "Collecting expiringdict\n",
      "  Using cached expiringdict-1.2.2-py3-none-any.whl (8.5 kB)\n",
      "Requirement already satisfied: lxml>=4.5.1 in /Users/deanmartin/miniforge3/lib/python3.9/site-packages (from yfinance) (4.9.1)\n",
      "Requirement already satisfied: numpy>=1.15 in /Users/deanmartin/miniforge3/lib/python3.9/site-packages (from yfinance) (1.22.1)\n",
      "Requirement already satisfied: multitasking>=0.0.7 in /Users/deanmartin/miniforge3/lib/python3.9/site-packages (from yfinance) (0.0.11)\n",
      "Requirement already satisfied: requests>=2.26 in /Users/deanmartin/miniforge3/lib/python3.9/site-packages (from yfinance) (2.26.0)\n",
      "Requirement already satisfied: pytz>=2017.3 in /Users/deanmartin/miniforge3/lib/python3.9/site-packages (from pandas) (2022.1)\n",
      "Requirement already satisfied: python-dateutil>=2.7.3 in /Users/deanmartin/miniforge3/lib/python3.9/site-packages (from pandas) (2.8.2)\n",
      "Requirement already satisfied: six>=1.5 in /Users/deanmartin/miniforge3/lib/python3.9/site-packages (from python-dateutil>=2.7.3->pandas) (1.16.0)\n",
      "Requirement already satisfied: certifi>=2017.4.17 in /Users/deanmartin/miniforge3/lib/python3.9/site-packages (from requests>=2.26->yfinance) (2021.5.30)\n",
      "Requirement already satisfied: idna<4,>=2.5 in /Users/deanmartin/miniforge3/lib/python3.9/site-packages (from requests>=2.26->yfinance) (3.1)\n",
      "Requirement already satisfied: charset-normalizer~=2.0.0 in /Users/deanmartin/miniforge3/lib/python3.9/site-packages (from requests>=2.26->yfinance) (2.0.0)\n",
      "Requirement already satisfied: urllib3<1.27,>=1.21.1 in /Users/deanmartin/miniforge3/lib/python3.9/site-packages (from requests>=2.26->yfinance) (1.26.6)\n",
      "Installing collected packages: expiringdict\n",
      "Successfully installed expiringdict-1.2.2\n"
     ]
    }
   ],
   "source": [
    "!pip install yfinance pandas expiringdict"
   ]
  },
  {
   "cell_type": "markdown",
   "metadata": {},
   "source": [
    "## FrostAura Dependencies"
   ]
  },
  {
   "cell_type": "code",
   "execution_count": 2,
   "metadata": {},
   "outputs": [
    {
     "name": "stdout",
     "output_type": "stream",
     "text": [
      "\u001b[33mWARNING: Skipping frostaura as it is not installed.\u001b[0m\u001b[33m\n",
      "\u001b[0mNote: you may need to restart the kernel to use updated packages.\n"
     ]
    }
   ],
   "source": [
    "import os\n",
    "import sys\n",
    "\n",
    "USE_LOCAL_CODE: bool = True # NOTE: When changing this configuration, be sure to restart the interpreter in order to have sys path updates reflect.\n",
    "directories_to_move_up: int = 2\n",
    "current_executing_path: str = os.getcwd()\n",
    "current_executing_path = current_executing_path.replace('\\\\', '/')\n",
    "root_path: str = '/'.join(current_executing_path.split('/')[:-directories_to_move_up])\n",
    "\n",
    "# Clean up.\n",
    "%pip uninstall frostaura -y\n",
    "sys.path = [p for p in sys.path if p != root_path]\n",
    "\n",
    "if USE_LOCAL_CODE:\n",
    "    sys.path.append(root_path)\n",
    "else:\n",
    "    %pip install -U --no-cache-dir frostaura"
   ]
  },
  {
   "cell_type": "markdown",
   "metadata": {},
   "source": [
    "## Logging"
   ]
  },
  {
   "cell_type": "code",
   "execution_count": 3,
   "metadata": {},
   "outputs": [],
   "source": [
    "import logging\n",
    "\n",
    "logging.basicConfig(level=logging.DEBUG)"
   ]
  },
  {
   "cell_type": "markdown",
   "metadata": {},
   "source": [
    "# Import Dependencies"
   ]
  },
  {
   "cell_type": "code",
   "execution_count": 4,
   "metadata": {},
   "outputs": [],
   "source": [
    "from frostaura.data_access import IPublicAssetDataAccess\n",
    "from frostaura.data_access import YahooFinanceDataAccess\n",
    "import pandas as pd"
   ]
  },
  {
   "cell_type": "markdown",
   "metadata": {},
   "source": [
    "# Usage"
   ]
  },
  {
   "cell_type": "code",
   "execution_count": 5,
   "metadata": {},
   "outputs": [
    {
     "name": "stderr",
     "output_type": "stream",
     "text": [
      "INFO:root:Fetching historical price movements for symbol \"AAPL\".\n",
      "WARNING:root:No item with the key \"AAPL\" existed in the cache.\n",
      "DEBUG:urllib3.connectionpool:Starting new HTTPS connection (1): query2.finance.yahoo.com:443\n",
      "DEBUG:urllib3.connectionpool:https://query2.finance.yahoo.com:443 \"GET /v8/finance/chart/AAPL?period1=-631159200&period2=1660504856&interval=1d&includePrePost=False&events=div%2Csplits HTTP/1.1\" 200 None\n"
     ]
    },
    {
     "data": {
      "text/html": [
       "<div>\n",
       "<style scoped>\n",
       "    .dataframe tbody tr th:only-of-type {\n",
       "        vertical-align: middle;\n",
       "    }\n",
       "\n",
       "    .dataframe tbody tr th {\n",
       "        vertical-align: top;\n",
       "    }\n",
       "\n",
       "    .dataframe thead th {\n",
       "        text-align: right;\n",
       "    }\n",
       "</style>\n",
       "<table border=\"1\" class=\"dataframe\">\n",
       "  <thead>\n",
       "    <tr style=\"text-align: right;\">\n",
       "      <th></th>\n",
       "      <th>Open</th>\n",
       "      <th>High</th>\n",
       "      <th>Low</th>\n",
       "      <th>Close</th>\n",
       "      <th>Volume</th>\n",
       "      <th>Dividends</th>\n",
       "      <th>Stock Splits</th>\n",
       "    </tr>\n",
       "    <tr>\n",
       "      <th>Date</th>\n",
       "      <th></th>\n",
       "      <th></th>\n",
       "      <th></th>\n",
       "      <th></th>\n",
       "      <th></th>\n",
       "      <th></th>\n",
       "      <th></th>\n",
       "    </tr>\n",
       "  </thead>\n",
       "  <tbody>\n",
       "    <tr>\n",
       "      <th>1980-12-12</th>\n",
       "      <td>0.100039</td>\n",
       "      <td>0.100474</td>\n",
       "      <td>0.100039</td>\n",
       "      <td>0.100039</td>\n",
       "      <td>469033600</td>\n",
       "      <td>0.0</td>\n",
       "      <td>0.0</td>\n",
       "    </tr>\n",
       "    <tr>\n",
       "      <th>1980-12-15</th>\n",
       "      <td>0.095255</td>\n",
       "      <td>0.095255</td>\n",
       "      <td>0.094820</td>\n",
       "      <td>0.094820</td>\n",
       "      <td>175884800</td>\n",
       "      <td>0.0</td>\n",
       "      <td>0.0</td>\n",
       "    </tr>\n",
       "    <tr>\n",
       "      <th>1980-12-16</th>\n",
       "      <td>0.088296</td>\n",
       "      <td>0.088296</td>\n",
       "      <td>0.087861</td>\n",
       "      <td>0.087861</td>\n",
       "      <td>105728000</td>\n",
       "      <td>0.0</td>\n",
       "      <td>0.0</td>\n",
       "    </tr>\n",
       "    <tr>\n",
       "      <th>1980-12-17</th>\n",
       "      <td>0.090035</td>\n",
       "      <td>0.090470</td>\n",
       "      <td>0.090035</td>\n",
       "      <td>0.090035</td>\n",
       "      <td>86441600</td>\n",
       "      <td>0.0</td>\n",
       "      <td>0.0</td>\n",
       "    </tr>\n",
       "    <tr>\n",
       "      <th>1980-12-18</th>\n",
       "      <td>0.092646</td>\n",
       "      <td>0.093081</td>\n",
       "      <td>0.092646</td>\n",
       "      <td>0.092646</td>\n",
       "      <td>73449600</td>\n",
       "      <td>0.0</td>\n",
       "      <td>0.0</td>\n",
       "    </tr>\n",
       "  </tbody>\n",
       "</table>\n",
       "</div>"
      ],
      "text/plain": [
       "                Open      High       Low     Close     Volume  Dividends  \\\n",
       "Date                                                                       \n",
       "1980-12-12  0.100039  0.100474  0.100039  0.100039  469033600        0.0   \n",
       "1980-12-15  0.095255  0.095255  0.094820  0.094820  175884800        0.0   \n",
       "1980-12-16  0.088296  0.088296  0.087861  0.087861  105728000        0.0   \n",
       "1980-12-17  0.090035  0.090470  0.090035  0.090035   86441600        0.0   \n",
       "1980-12-18  0.092646  0.093081  0.092646  0.092646   73449600        0.0   \n",
       "\n",
       "            Stock Splits  \n",
       "Date                      \n",
       "1980-12-12           0.0  \n",
       "1980-12-15           0.0  \n",
       "1980-12-16           0.0  \n",
       "1980-12-17           0.0  \n",
       "1980-12-18           0.0  "
      ]
     },
     "execution_count": 5,
     "metadata": {},
     "output_type": "execute_result"
    }
   ],
   "source": [
    "instance: IPublicAssetDataAccess = YahooFinanceDataAccess()\n",
    "symbol: str = 'AAPL'\n",
    "request_url: str = f'https://finviz.com/quote.ashx?t={symbol}'\n",
    "data: pd.DataFrame = instance.get_symbol_history(symbol=symbol)\n",
    "\n",
    "data.head()"
   ]
  }
 ],
 "metadata": {
  "kernelspec": {
   "display_name": "Python 3.9.6 ('base')",
   "language": "python",
   "name": "python3"
  },
  "language_info": {
   "codemirror_mode": {
    "name": "ipython",
    "version": 3
   },
   "file_extension": ".py",
   "mimetype": "text/x-python",
   "name": "python",
   "nbconvert_exporter": "python",
   "pygments_lexer": "ipython3",
   "version": "3.9.6"
  },
  "orig_nbformat": 4,
  "vscode": {
   "interpreter": {
    "hash": "5127a938f461bf317bd7623bbe805ae2164d41f741befc8d5975541320c15407"
   }
  }
 },
 "nbformat": 4,
 "nbformat_minor": 2
}
