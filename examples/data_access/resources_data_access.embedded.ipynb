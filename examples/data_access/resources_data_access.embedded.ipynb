{
 "cells": [
  {
   "cell_type": "markdown",
   "metadata": {},
   "source": [
    "# Install Dependencies"
   ]
  },
  {
   "cell_type": "code",
   "execution_count": 25,
   "metadata": {},
   "outputs": [
    {
     "name": "stdout",
     "output_type": "stream",
     "text": [
      "Requirement already satisfied: requests in /Users/deanmartin/miniforge3/lib/python3.9/site-packages (2.26.0)\n",
      "Requirement already satisfied: beautifulsoup4 in /Users/deanmartin/miniforge3/lib/python3.9/site-packages (4.11.1)\n",
      "Requirement already satisfied: urllib3<1.27,>=1.21.1 in /Users/deanmartin/miniforge3/lib/python3.9/site-packages (from requests) (1.26.6)\n",
      "Requirement already satisfied: certifi>=2017.4.17 in /Users/deanmartin/miniforge3/lib/python3.9/site-packages (from requests) (2021.5.30)\n",
      "Requirement already satisfied: idna<4,>=2.5 in /Users/deanmartin/miniforge3/lib/python3.9/site-packages (from requests) (3.1)\n",
      "Requirement already satisfied: charset-normalizer~=2.0.0 in /Users/deanmartin/miniforge3/lib/python3.9/site-packages (from requests) (2.0.0)\n",
      "Requirement already satisfied: soupsieve>1.2 in /Users/deanmartin/miniforge3/lib/python3.9/site-packages (from beautifulsoup4) (2.3.2.post1)\n"
     ]
    }
   ],
   "source": [
    "!pip install requests beautifulsoup4"
   ]
  },
  {
   "cell_type": "code",
   "execution_count": 26,
   "metadata": {},
   "outputs": [
    {
     "name": "stdout",
     "output_type": "stream",
     "text": [
      "\u001b[33mWARNING: Skipping frostaura as it is not installed.\u001b[0m\u001b[33m\n",
      "\u001b[0mNote: you may need to restart the kernel to use updated packages.\n"
     ]
    }
   ],
   "source": [
    "import os\n",
    "import sys\n",
    "\n",
    "USE_LOCAL_CODE: bool = True\n",
    "directories_to_move_up: int = 2\n",
    "root_path: str = '/'.join(os.getcwd().split('/')[:-directories_to_move_up])\n",
    "\n",
    "if USE_LOCAL_CODE:\n",
    "    %pip uninstall frostaura -y\n",
    "\n",
    "    if not root_path in sys.path:\n",
    "        sys.path.append(root_path)\n",
    "else:\n",
    "    %pip install -U --no-cache-dir frostaura\n",
    "\n",
    "    sys.path = [p for p in sys.path if p != root_path]"
   ]
  },
  {
   "cell_type": "code",
   "execution_count": 27,
   "metadata": {},
   "outputs": [],
   "source": [
    "import logging\n",
    "\n",
    "logging.basicConfig(level=logging.DEBUG)"
   ]
  },
  {
   "cell_type": "markdown",
   "metadata": {},
   "source": [
    "# Import Dependencies"
   ]
  },
  {
   "cell_type": "code",
   "execution_count": 28,
   "metadata": {},
   "outputs": [],
   "source": [
    "from frostaura.data_access import IResourcesDataAccess\n",
    "from frostaura.data_access import EmbeddedResourcesDataAccess"
   ]
  },
  {
   "cell_type": "markdown",
   "metadata": {},
   "source": [
    "# Usage"
   ]
  },
  {
   "cell_type": "code",
   "execution_count": 33,
   "metadata": {},
   "outputs": [
    {
     "ename": "FileNotFoundError",
     "evalue": "[Errno 2] No such file or directory: '/Users/deanmartin/Source/fa.intelligence.notebooks/frostaura/easy_equities_us_stocks.json'",
     "output_type": "error",
     "traceback": [
      "\u001b[0;31m---------------------------------------------------------------------------\u001b[0m",
      "\u001b[0;31mFileNotFoundError\u001b[0m                         Traceback (most recent call last)",
      "\u001b[0;32m/var/folders/kg/yc3v1y_96vj9m5s_743c5vn00000gn/T/ipykernel_78433/2184443782.py\u001b[0m in \u001b[0;36m<module>\u001b[0;34m\u001b[0m\n\u001b[1;32m      5\u001b[0m \u001b[0minstance\u001b[0m\u001b[0;34m:\u001b[0m \u001b[0mIResourcesDataAccess\u001b[0m \u001b[0;34m=\u001b[0m \u001b[0mEmbeddedResourcesDataAccess\u001b[0m\u001b[0;34m(\u001b[0m\u001b[0mconfig\u001b[0m\u001b[0;34m=\u001b[0m\u001b[0mconfig\u001b[0m\u001b[0;34m)\u001b[0m\u001b[0;34m\u001b[0m\u001b[0;34m\u001b[0m\u001b[0m\n\u001b[1;32m      6\u001b[0m \u001b[0;34m\u001b[0m\u001b[0m\n\u001b[0;32m----> 7\u001b[0;31m print(instance\n\u001b[0m\u001b[1;32m      8\u001b[0m         \u001b[0;34m.\u001b[0m\u001b[0mget_resource\u001b[0m\u001b[0;34m(\u001b[0m\u001b[0mpath\u001b[0m\u001b[0;34m=\u001b[0m\u001b[0mresource_asset_name\u001b[0m\u001b[0;34m)\u001b[0m\u001b[0;34m\u001b[0m\u001b[0;34m\u001b[0m\u001b[0m\n\u001b[1;32m      9\u001b[0m         .readlines())\n",
      "\u001b[0;32m~/Source/fa.intelligence.notebooks/frostaura/data_access/resources_data_access__embedded.py\u001b[0m in \u001b[0;36mget_resource\u001b[0;34m(self, path)\u001b[0m\n\u001b[1;32m     21\u001b[0m \u001b[0;34m\u001b[0m\u001b[0m\n\u001b[1;32m     22\u001b[0m         \u001b[0;32mreturn\u001b[0m \u001b[0mresources\u001b[0m\u001b[0;34m.\u001b[0m\u001b[0mopen_binary\u001b[0m\u001b[0;34m(\u001b[0m\u001b[0mself\u001b[0m\u001b[0;34m.\u001b[0m\u001b[0mconfig\u001b[0m\u001b[0;34m[\u001b[0m\u001b[0;34m'package_name'\u001b[0m\u001b[0;34m]\u001b[0m\u001b[0;34m,\u001b[0m \u001b[0mpath\u001b[0m\u001b[0;34m)\u001b[0m\u001b[0;34m\u001b[0m\u001b[0;34m\u001b[0m\u001b[0m\n",
      "\u001b[0;32m~/miniforge3/lib/python3.9/importlib/resources.py\u001b[0m in \u001b[0;36mopen_binary\u001b[0;34m(package, resource)\u001b[0m\n\u001b[1;32m     89\u001b[0m     \u001b[0mreader\u001b[0m \u001b[0;34m=\u001b[0m \u001b[0m_get_resource_reader\u001b[0m\u001b[0;34m(\u001b[0m\u001b[0mpackage\u001b[0m\u001b[0;34m)\u001b[0m\u001b[0;34m\u001b[0m\u001b[0;34m\u001b[0m\u001b[0m\n\u001b[1;32m     90\u001b[0m     \u001b[0;32mif\u001b[0m \u001b[0mreader\u001b[0m \u001b[0;32mis\u001b[0m \u001b[0;32mnot\u001b[0m \u001b[0;32mNone\u001b[0m\u001b[0;34m:\u001b[0m\u001b[0;34m\u001b[0m\u001b[0;34m\u001b[0m\u001b[0m\n\u001b[0;32m---> 91\u001b[0;31m         \u001b[0;32mreturn\u001b[0m \u001b[0mreader\u001b[0m\u001b[0;34m.\u001b[0m\u001b[0mopen_resource\u001b[0m\u001b[0;34m(\u001b[0m\u001b[0mresource\u001b[0m\u001b[0;34m)\u001b[0m\u001b[0;34m\u001b[0m\u001b[0;34m\u001b[0m\u001b[0m\n\u001b[0m\u001b[1;32m     92\u001b[0m     absolute_package_path = os.path.abspath(\n\u001b[1;32m     93\u001b[0m         package.__spec__.origin or 'non-existent file')\n",
      "\u001b[0;32m~/miniforge3/lib/python3.9/importlib/_bootstrap_external.py\u001b[0m in \u001b[0;36mopen_resource\u001b[0;34m(self, resource)\u001b[0m\n",
      "\u001b[0;31mFileNotFoundError\u001b[0m: [Errno 2] No such file or directory: '/Users/deanmartin/Source/fa.intelligence.notebooks/frostaura/easy_equities_us_stocks.json'"
     ]
    }
   ],
   "source": [
    "config: dict = {\n",
    "        'package_name': 'frostaura'\n",
    "}\n",
    "resource_asset_name: str = 'easy_equities_us_stocks.json'\n",
    "instance: IResourcesDataAccess = EmbeddedResourcesDataAccess(config=config)\n",
    "\n",
    "print(instance\n",
    "        .get_resource(path=resource_asset_name)\n",
    "        .readlines())"
   ]
  },
  {
   "cell_type": "code",
   "execution_count": null,
   "metadata": {},
   "outputs": [],
   "source": []
  }
 ],
 "metadata": {
  "kernelspec": {
   "display_name": "Python 3.9.6 ('base')",
   "language": "python",
   "name": "python3"
  },
  "language_info": {
   "codemirror_mode": {
    "name": "ipython",
    "version": 3
   },
   "file_extension": ".py",
   "mimetype": "text/x-python",
   "name": "python",
   "nbconvert_exporter": "python",
   "pygments_lexer": "ipython3",
   "version": "3.9.6"
  },
  "orig_nbformat": 4,
  "vscode": {
   "interpreter": {
    "hash": "5127a938f461bf317bd7623bbe805ae2164d41f741befc8d5975541320c15407"
   }
  }
 },
 "nbformat": 4,
 "nbformat_minor": 2
}
