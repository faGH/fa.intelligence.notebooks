{
 "cells": [
  {
   "cell_type": "markdown",
   "metadata": {},
   "source": [
    "# Install Dependencies"
   ]
  },
  {
   "cell_type": "markdown",
   "metadata": {},
   "source": [
    "## External Dependencies"
   ]
  },
  {
   "cell_type": "code",
   "execution_count": 2,
   "metadata": {},
   "outputs": [
    {
     "name": "stdout",
     "output_type": "stream",
     "text": [
      "Requirement already satisfied: easy-equities-client in c:\\users\\divanma\\.conda\\envs\\windows-ml-station\\lib\\site-packages (0.5.0)\n",
      "Requirement already satisfied: bs4<0.0.2,>=0.0.1 in c:\\users\\divanma\\.conda\\envs\\windows-ml-station\\lib\\site-packages (from easy-equities-client) (0.0.1)\n",
      "Requirement already satisfied: requests<3.0.0,>=2.25.0 in c:\\users\\divanma\\.conda\\envs\\windows-ml-station\\lib\\site-packages (from easy-equities-client) (2.27.1)\n",
      "Requirement already satisfied: beautifulsoup4 in c:\\users\\divanma\\.conda\\envs\\windows-ml-station\\lib\\site-packages (from bs4<0.0.2,>=0.0.1->easy-equities-client) (4.8.2)\n",
      "Requirement already satisfied: charset-normalizer~=2.0.0 in c:\\users\\divanma\\.conda\\envs\\windows-ml-station\\lib\\site-packages (from requests<3.0.0,>=2.25.0->easy-equities-client) (2.0.0)\n",
      "Requirement already satisfied: certifi>=2017.4.17 in c:\\users\\divanma\\.conda\\envs\\windows-ml-station\\lib\\site-packages (from requests<3.0.0,>=2.25.0->easy-equities-client) (2022.5.18.1)\n",
      "Requirement already satisfied: idna<4,>=2.5 in c:\\users\\divanma\\.conda\\envs\\windows-ml-station\\lib\\site-packages (from requests<3.0.0,>=2.25.0->easy-equities-client) (3.1)\n",
      "Requirement already satisfied: urllib3<1.27,>=1.21.1 in c:\\users\\divanma\\.conda\\envs\\windows-ml-station\\lib\\site-packages (from requests<3.0.0,>=2.25.0->easy-equities-client) (1.26.7)\n",
      "Requirement already satisfied: soupsieve>=1.2 in c:\\users\\divanma\\.conda\\envs\\windows-ml-station\\lib\\site-packages (from beautifulsoup4->bs4<0.0.2,>=0.0.1->easy-equities-client) (2.3.1)\n"
     ]
    },
    {
     "name": "stderr",
     "output_type": "stream",
     "text": [
      "WARNING: Ignoring invalid distribution -ymupdf (c:\\users\\divanma\\.conda\\envs\\windows-ml-station\\lib\\site-packages)\n",
      "WARNING: Ignoring invalid distribution -illow (c:\\users\\divanma\\.conda\\envs\\windows-ml-station\\lib\\site-packages)\n",
      "WARNING: Ignoring invalid distribution -atplotlib (c:\\users\\divanma\\.conda\\envs\\windows-ml-station\\lib\\site-packages)\n",
      "WARNING: Ignoring invalid distribution -ymupdf (c:\\users\\divanma\\.conda\\envs\\windows-ml-station\\lib\\site-packages)\n",
      "WARNING: Ignoring invalid distribution -illow (c:\\users\\divanma\\.conda\\envs\\windows-ml-station\\lib\\site-packages)\n",
      "WARNING: Ignoring invalid distribution -atplotlib (c:\\users\\divanma\\.conda\\envs\\windows-ml-station\\lib\\site-packages)\n",
      "WARNING: Ignoring invalid distribution -ymupdf (c:\\users\\divanma\\.conda\\envs\\windows-ml-station\\lib\\site-packages)\n",
      "WARNING: Ignoring invalid distribution -illow (c:\\users\\divanma\\.conda\\envs\\windows-ml-station\\lib\\site-packages)\n",
      "WARNING: Ignoring invalid distribution -atplotlib (c:\\users\\divanma\\.conda\\envs\\windows-ml-station\\lib\\site-packages)\n",
      "WARNING: Ignoring invalid distribution -ymupdf (c:\\users\\divanma\\.conda\\envs\\windows-ml-station\\lib\\site-packages)\n",
      "WARNING: Ignoring invalid distribution -illow (c:\\users\\divanma\\.conda\\envs\\windows-ml-station\\lib\\site-packages)\n",
      "WARNING: Ignoring invalid distribution -atplotlib (c:\\users\\divanma\\.conda\\envs\\windows-ml-station\\lib\\site-packages)\n",
      "WARNING: Ignoring invalid distribution -ymupdf (c:\\users\\divanma\\.conda\\envs\\windows-ml-station\\lib\\site-packages)\n",
      "WARNING: Ignoring invalid distribution -illow (c:\\users\\divanma\\.conda\\envs\\windows-ml-station\\lib\\site-packages)\n",
      "WARNING: Ignoring invalid distribution -atplotlib (c:\\users\\divanma\\.conda\\envs\\windows-ml-station\\lib\\site-packages)\n",
      "WARNING: Ignoring invalid distribution -ymupdf (c:\\users\\divanma\\.conda\\envs\\windows-ml-station\\lib\\site-packages)\n",
      "WARNING: Ignoring invalid distribution -illow (c:\\users\\divanma\\.conda\\envs\\windows-ml-station\\lib\\site-packages)\n",
      "WARNING: Ignoring invalid distribution -atplotlib (c:\\users\\divanma\\.conda\\envs\\windows-ml-station\\lib\\site-packages)\n",
      "WARNING: There was an error checking the latest version of pip.\n"
     ]
    }
   ],
   "source": [
    "!pip install easy-equities-client"
   ]
  },
  {
   "cell_type": "markdown",
   "metadata": {},
   "source": [
    "## FrostAura Dependencies"
   ]
  },
  {
   "cell_type": "code",
   "execution_count": 3,
   "metadata": {},
   "outputs": [
    {
     "name": "stdout",
     "output_type": "stream",
     "text": [
      "Note: you may need to restart the kernel to use updated packages.\n"
     ]
    },
    {
     "name": "stderr",
     "output_type": "stream",
     "text": [
      "WARNING: Ignoring invalid distribution -ymupdf (c:\\users\\divanma\\.conda\\envs\\windows-ml-station\\lib\\site-packages)\n",
      "WARNING: Ignoring invalid distribution -illow (c:\\users\\divanma\\.conda\\envs\\windows-ml-station\\lib\\site-packages)\n",
      "WARNING: Ignoring invalid distribution -atplotlib (c:\\users\\divanma\\.conda\\envs\\windows-ml-station\\lib\\site-packages)\n",
      "WARNING: Ignoring invalid distribution -ymupdf (c:\\users\\divanma\\.conda\\envs\\windows-ml-station\\lib\\site-packages)\n",
      "WARNING: Ignoring invalid distribution -illow (c:\\users\\divanma\\.conda\\envs\\windows-ml-station\\lib\\site-packages)\n",
      "WARNING: Ignoring invalid distribution -atplotlib (c:\\users\\divanma\\.conda\\envs\\windows-ml-station\\lib\\site-packages)\n",
      "WARNING: Skipping frostaura as it is not installed.\n"
     ]
    }
   ],
   "source": [
    "import os\n",
    "import sys\n",
    "\n",
    "USE_LOCAL_CODE: bool = True # NOTE: When changing this configuration, be sure to restart the interpreter in order to have sys path updates reflect.\n",
    "directories_to_move_up: int = 2\n",
    "current_executing_path: str = os.getcwd()\n",
    "current_executing_path = current_executing_path.replace('\\\\', '/')\n",
    "root_path: str = '/'.join(current_executing_path.split('/')[:-directories_to_move_up])\n",
    "\n",
    "# Clean up.\n",
    "%pip uninstall frostaura -y\n",
    "sys.path = [p for p in sys.path if p != root_path]\n",
    "\n",
    "if USE_LOCAL_CODE:\n",
    "    sys.path.append(root_path)\n",
    "else:\n",
    "    %pip install -U --no-cache-dir frostaura"
   ]
  },
  {
   "cell_type": "markdown",
   "metadata": {},
   "source": [
    "## Logging"
   ]
  },
  {
   "cell_type": "code",
   "execution_count": 4,
   "metadata": {},
   "outputs": [],
   "source": [
    "import logging\n",
    "\n",
    "logging.basicConfig(level=logging.DEBUG)"
   ]
  },
  {
   "cell_type": "markdown",
   "metadata": {},
   "source": [
    "# Import Dependencies"
   ]
  },
  {
   "cell_type": "code",
   "execution_count": 5,
   "metadata": {},
   "outputs": [],
   "source": [
    "from frostaura.data_access import IResourcesDataAccess\n",
    "from frostaura.data_access import EmbeddedResourcesDataAccess\n",
    "from frostaura.data_access import IPersonalAssetDataAccess\n",
    "from frostaura.data_access import EasyEquitiesPersonalAssetDataAccess\n",
    "from easy_equities_client.accounts.types import Account"
   ]
  },
  {
   "cell_type": "markdown",
   "metadata": {},
   "source": [
    "# Usage"
   ]
  },
  {
   "cell_type": "code",
   "execution_count": 6,
   "metadata": {},
   "outputs": [],
   "source": [
    "resource_data_access: IResourcesDataAccess = EmbeddedResourcesDataAccess()\n",
    "instance: IPersonalAssetDataAccess = EasyEquitiesPersonalAssetDataAccess(resource_data_access=resource_data_access,\n",
    "                                                                         username='DeanMar09',\n",
    "                                                                         password='...')"
   ]
  },
  {
   "cell_type": "markdown",
   "metadata": {},
   "source": [
    "## Get Supported Symbols"
   ]
  },
  {
   "cell_type": "code",
   "execution_count": 7,
   "metadata": {},
   "outputs": [
    {
     "name": "stderr",
     "output_type": "stream",
     "text": [
      "INFO:root:Fetching EasyEquities supported symbols from a static source.\n",
      "INFO:root:Fetching embedded resource \"c:/dev/P/fa.intelligence.notebooks/frostaura/resources/easy_equities_us_stocks.json\".\n"
     ]
    },
    {
     "name": "stdout",
     "output_type": "stream",
     "text": [
      "[['10X Genomics Inc', 'TXG'], ['21Vianet Group Inc', 'VNET'], ['2U Inc', 'TWOU'], ['3D Systems Inc', 'DDD'], ['3M Co', 'MMM']]\n"
     ]
    }
   ],
   "source": [
    "supported_symbols: list = instance.get_supported_assets()\n",
    "\n",
    "print(supported_symbols[:5])"
   ]
  },
  {
   "cell_type": "markdown",
   "metadata": {},
   "source": [
    "## Get Accounts & Holdings"
   ]
  },
  {
   "cell_type": "code",
   "execution_count": 8,
   "metadata": {},
   "outputs": [
    {
     "name": "stderr",
     "output_type": "stream",
     "text": [
      "INFO:root:Signing into EasyEquities as \"DeanMar09\".\n",
      "DEBUG:urllib3.connectionpool:Starting new HTTPS connection (1): platform.easyequities.io:443\n",
      "DEBUG:urllib3.connectionpool:https://platform.easyequities.io:443 \"POST /Account/SignIn HTTP/1.1\" 302 144\n",
      "DEBUG:urllib3.connectionpool:https://platform.easyequities.io:443 \"GET /AccountOverview HTTP/1.1\" 200 15112\n",
      "INFO:root:Signing into EasyEquities as \"DeanMar09\".\n",
      "DEBUG:urllib3.connectionpool:https://platform.easyequities.io:443 \"POST /Account/SignIn HTTP/1.1\" 302 144\n",
      "DEBUG:urllib3.connectionpool:https://platform.easyequities.io:443 \"GET /AccountOverview HTTP/1.1\" 200 15112\n",
      "DEBUG:root:Filtering accounts list by name \"EasyEquities USD\".\n",
      "INFO:root:Signing into EasyEquities as \"DeanMar09\".\n",
      "DEBUG:urllib3.connectionpool:https://platform.easyequities.io:443 \"POST /Account/SignIn HTTP/1.1\" 302 144\n",
      "DEBUG:urllib3.connectionpool:https://platform.easyequities.io:443 \"GET /AccountOverview HTTP/1.1\" 200 15128\n",
      "DEBUG:root:Filtering accounts list by name \"EasyEquities USD\".\n",
      "INFO:root:Getting account holdings for account \"EasyEquities USD\" (8591559).\n",
      "DEBUG:urllib3.connectionpool:https://platform.easyequities.io:443 \"POST /Menu/UpdateCurrency HTTP/1.1\" 200 0\n",
      "DEBUG:urllib3.connectionpool:https://platform.easyequities.io:443 \"GET /AccountOverview/GetHoldingsView?stockViewCategoryId=12 HTTP/1.1\" 200 2515\n",
      "DEBUG:urllib3.connectionpool:https://platform.easyequities.io:443 \"GET /AccountOverview/GetInstrumentDetailAction/?IsinCode=US88160R1014 HTTP/1.1\" 200 1894\n",
      "DEBUG:urllib3.connectionpool:https://platform.easyequities.io:443 \"GET /AccountOverview/GetInstrumentDetailAction/?IsinCode=US0378331005 HTTP/1.1\" 200 1923\n",
      "DEBUG:urllib3.connectionpool:https://platform.easyequities.io:443 \"GET /AccountOverview/GetInstrumentDetailAction/?IsinCode=US82575P1075 HTTP/1.1\" 200 1899\n",
      "DEBUG:urllib3.connectionpool:https://platform.easyequities.io:443 \"GET /AccountOverview/GetInstrumentDetailAction/?IsinCode=US88554D2053 HTTP/1.1\" 200 1908\n",
      "INFO:root:Signing into EasyEquities as \"DeanMar09\".\n",
      "DEBUG:urllib3.connectionpool:https://platform.easyequities.io:443 \"POST /Account/SignIn HTTP/1.1\" 302 144\n",
      "DEBUG:urllib3.connectionpool:https://platform.easyequities.io:443 \"GET /AccountOverview HTTP/1.1\" 200 15112\n",
      "DEBUG:root:Filtering accounts list by name \"EasyEquities USD\".\n",
      "INFO:root:Getting account valuation for account \"EasyEquities USD\" (8591559).\n",
      "DEBUG:urllib3.connectionpool:https://platform.easyequities.io:443 \"GET /AccountOverview/GetTrustAccountValuations HTTP/1.1\" 200 1997\n"
     ]
    }
   ],
   "source": [
    "accounts: list = instance.__get_accounts__()\n",
    "usd_account: Account = instance.__get_account_by_name__(account_name='EasyEquities USD')\n",
    "usd_account_holdings: list = instance.__get_account_holdings__(account_name='EasyEquities USD')\n",
    "usd_account_valuation: dict = instance.__get_account_valuation__(account_name='EasyEquities USD')"
   ]
  },
  {
   "cell_type": "code",
   "execution_count": 9,
   "metadata": {},
   "outputs": [
    {
     "data": {
      "text/plain": [
       "{'NetInterestOnCashItems': [{'Label': 'Total Interest on Free Cash',\n",
       "   'Value': 'R 0.00'},\n",
       "  {'Label': 'Interest Income', 'Value': 'R 0.00'},\n",
       "  {'Label': 'Cash Management Fee', 'Value': 'R 0.00'},\n",
       "  {'Label': 'VAT On Cash Management Fee', 'Value': 'R 0.00'}],\n",
       " 'AccrualSummaryItems': [{'Label': 'Net Accrual', 'Value': 'R 0.00'}],\n",
       " 'TopSummary': {'AccountValue': 0.0,\n",
       "  'AccountCurrency': 'ZAR',\n",
       "  'AccountNumber': 'EE106679-163510',\n",
       "  'AccountName': 'EasyEquities ZAR',\n",
       "  'PeriodMovements': [{'ValueMoveLabel': 'Profit & Loss Value',\n",
       "    'ValueMove': 'R 0.00',\n",
       "    'PercentageMoveLabel': 'Profit & Loss',\n",
       "    'PercentageMove': '0%',\n",
       "    'PeriodMoveHeader': 'Movement on Current Holdings:'}]},\n",
       " 'InvestmentTypesAndManagers': {'InvestmentTypes': [{'Key': 'Funds to Invest',\n",
       "    'Value': 'R 0.00',\n",
       "    'Percentage': 0.0}],\n",
       "  'Managers': [{'Key': 'Self Managed', 'Value': 'R 0.00', 'Percentage': 0.0}]},\n",
       " 'InvestmentSummaryItems': [{'Label': 'Total Profit / Loss on Current Holdings',\n",
       "   'Value': 'R 0.00 / 0%',\n",
       "   'IsPositive': True},\n",
       "  {'Label': 'Last Valuation', 'Value': 'R 0.00', 'IsPositive': True},\n",
       "  {'Label': 'Purchase Value', 'Value': 'R 0.00', 'IsPositive': True}],\n",
       " 'CostsSummaryItems': [{'Label': 'Total Brokerage and Statutory Costs',\n",
       "   'Value': 'R 0.00'},\n",
       "  {'Label': 'Statutory Costs', 'Value': 'R 0.00'},\n",
       "  {'Label': 'Brokerage Costs', 'Value': 'R 0.00'},\n",
       "  {'Label': 'Total Bundle Costs', 'Value': 'R 0.00'},\n",
       "  {'Label': 'Statutory Costs', 'Value': 'R 0.00'},\n",
       "  {'Label': 'Brokerage Costs', 'Value': 'R 0.00'},\n",
       "  {'Label': 'Management Fee', 'Value': 'R 0.00'},\n",
       "  {'Label': 'VAT', 'Value': 'R 0.00'},\n",
       "  {'Label': 'VAT', 'Value': 'R 0.00'}],\n",
       " 'FundSummaryItems': [{'Label': 'Your Funds to Invest', 'Value': 'R 0.00'},\n",
       "  {'Label': 'Withdrawable Funds', 'Value': 'R 0.00'},\n",
       "  {'Label': 'Unsettled Cash', 'Value': 'R 0.00'},\n",
       "  {'Label': 'Locked Funds', 'Value': 'R 2 047.60'}],\n",
       " 'AccrualIncomeSummaryItems': None,\n",
       " 'AccrualExpenseSummaryItems': None}"
      ]
     },
     "execution_count": 9,
     "metadata": {},
     "output_type": "execute_result"
    }
   ],
   "source": [
    "usd_account_valuation"
   ]
  },
  {
   "cell_type": "markdown",
   "metadata": {},
   "source": [
    "## Get Personal Transactions"
   ]
  },
  {
   "cell_type": "code",
   "execution_count": 10,
   "metadata": {},
   "outputs": [
    {
     "name": "stdout",
     "output_type": "stream",
     "text": [
      "{'TSLA': {'name': 'Tesla Inc.', 'symbol': 'TSLA', 'transactions': [{'value': 0.0688, 'date': datetime.datetime(2022, 7, 28, 0, 0)}]}, 'AAPL': {'name': 'Apple Inc.', 'symbol': 'AAPL', 'transactions': [{'value': 0.4317, 'date': datetime.datetime(2022, 7, 1, 0, 0)}]}, 'DDD': {'name': '3D Systems Corporation', 'symbol': 'DDD', 'transactions': [{'value': 8.8925, 'date': datetime.datetime(2022, 8, 5, 0, 0)}]}, 'SBSW': {'name': 'Sibanye Stillwater Ltd', 'symbol': 'SBSW', 'transactions': [{'value': 1.1265, 'date': datetime.datetime(2022, 8, 5, 0, 0)}]}}\n"
     ]
    }
   ],
   "source": [
    "supported_symbols: list = instance.get_personal_transactions()\n",
    "\n",
    "print(supported_symbols)"
   ]
  },
  {
   "cell_type": "code",
   "execution_count": null,
   "metadata": {},
   "outputs": [],
   "source": []
  }
 ],
 "metadata": {
  "kernelspec": {
   "display_name": "Python 3.9.7 ('windows-ml-station')",
   "language": "python",
   "name": "python3"
  },
  "language_info": {
   "codemirror_mode": {
    "name": "ipython",
    "version": 3
   },
   "file_extension": ".py",
   "mimetype": "text/x-python",
   "name": "python",
   "nbconvert_exporter": "python",
   "pygments_lexer": "ipython3",
   "version": "3.9.7"
  },
  "orig_nbformat": 4,
  "vscode": {
   "interpreter": {
    "hash": "f2d2799229849fd2c86aa3751486a343a6caa647b525ae379976f27c22f61e0e"
   }
  }
 },
 "nbformat": 4,
 "nbformat_minor": 2
}
