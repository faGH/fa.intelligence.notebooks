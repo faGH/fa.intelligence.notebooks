{
 "cells": [
  {
   "cell_type": "markdown",
   "metadata": {},
   "source": [
    "# Install Dependencies"
   ]
  },
  {
   "cell_type": "markdown",
   "metadata": {},
   "source": [
    "## External Dependencies"
   ]
  },
  {
   "cell_type": "code",
   "execution_count": 8,
   "metadata": {},
   "outputs": [
    {
     "name": "stdout",
     "output_type": "stream",
     "text": [
      "Requirement already satisfied: easy-equities-client in c:\\users\\divanma\\.conda\\envs\\windows-ml-station\\lib\\site-packages (0.5.0)\n",
      "Requirement already satisfied: bs4<0.0.2,>=0.0.1 in c:\\users\\divanma\\.conda\\envs\\windows-ml-station\\lib\\site-packages (from easy-equities-client) (0.0.1)\n",
      "Requirement already satisfied: requests<3.0.0,>=2.25.0 in c:\\users\\divanma\\.conda\\envs\\windows-ml-station\\lib\\site-packages (from easy-equities-client) (2.27.1)\n",
      "Requirement already satisfied: beautifulsoup4 in c:\\users\\divanma\\.conda\\envs\\windows-ml-station\\lib\\site-packages (from bs4<0.0.2,>=0.0.1->easy-equities-client) (4.8.2)\n",
      "Requirement already satisfied: urllib3<1.27,>=1.21.1 in c:\\users\\divanma\\.conda\\envs\\windows-ml-station\\lib\\site-packages (from requests<3.0.0,>=2.25.0->easy-equities-client) (1.26.7)\n",
      "Requirement already satisfied: certifi>=2017.4.17 in c:\\users\\divanma\\.conda\\envs\\windows-ml-station\\lib\\site-packages (from requests<3.0.0,>=2.25.0->easy-equities-client) (2022.5.18.1)\n",
      "Requirement already satisfied: idna<4,>=2.5 in c:\\users\\divanma\\.conda\\envs\\windows-ml-station\\lib\\site-packages (from requests<3.0.0,>=2.25.0->easy-equities-client) (3.1)\n",
      "Requirement already satisfied: charset-normalizer~=2.0.0 in c:\\users\\divanma\\.conda\\envs\\windows-ml-station\\lib\\site-packages (from requests<3.0.0,>=2.25.0->easy-equities-client) (2.0.0)\n",
      "Requirement already satisfied: soupsieve>=1.2 in c:\\users\\divanma\\.conda\\envs\\windows-ml-station\\lib\\site-packages (from beautifulsoup4->bs4<0.0.2,>=0.0.1->easy-equities-client) (2.3.1)\n"
     ]
    },
    {
     "name": "stderr",
     "output_type": "stream",
     "text": [
      "WARNING: Ignoring invalid distribution -ymupdf (c:\\users\\divanma\\.conda\\envs\\windows-ml-station\\lib\\site-packages)\n",
      "WARNING: Ignoring invalid distribution -illow (c:\\users\\divanma\\.conda\\envs\\windows-ml-station\\lib\\site-packages)\n",
      "WARNING: Ignoring invalid distribution -atplotlib (c:\\users\\divanma\\.conda\\envs\\windows-ml-station\\lib\\site-packages)\n",
      "WARNING: Ignoring invalid distribution -ymupdf (c:\\users\\divanma\\.conda\\envs\\windows-ml-station\\lib\\site-packages)\n",
      "WARNING: Ignoring invalid distribution -illow (c:\\users\\divanma\\.conda\\envs\\windows-ml-station\\lib\\site-packages)\n",
      "WARNING: Ignoring invalid distribution -atplotlib (c:\\users\\divanma\\.conda\\envs\\windows-ml-station\\lib\\site-packages)\n",
      "WARNING: Ignoring invalid distribution -ymupdf (c:\\users\\divanma\\.conda\\envs\\windows-ml-station\\lib\\site-packages)\n",
      "WARNING: Ignoring invalid distribution -illow (c:\\users\\divanma\\.conda\\envs\\windows-ml-station\\lib\\site-packages)\n",
      "WARNING: Ignoring invalid distribution -atplotlib (c:\\users\\divanma\\.conda\\envs\\windows-ml-station\\lib\\site-packages)\n",
      "WARNING: Ignoring invalid distribution -ymupdf (c:\\users\\divanma\\.conda\\envs\\windows-ml-station\\lib\\site-packages)\n",
      "WARNING: Ignoring invalid distribution -illow (c:\\users\\divanma\\.conda\\envs\\windows-ml-station\\lib\\site-packages)\n",
      "WARNING: Ignoring invalid distribution -atplotlib (c:\\users\\divanma\\.conda\\envs\\windows-ml-station\\lib\\site-packages)\n",
      "WARNING: Ignoring invalid distribution -ymupdf (c:\\users\\divanma\\.conda\\envs\\windows-ml-station\\lib\\site-packages)\n",
      "WARNING: Ignoring invalid distribution -illow (c:\\users\\divanma\\.conda\\envs\\windows-ml-station\\lib\\site-packages)\n",
      "WARNING: Ignoring invalid distribution -atplotlib (c:\\users\\divanma\\.conda\\envs\\windows-ml-station\\lib\\site-packages)\n",
      "WARNING: Ignoring invalid distribution -ymupdf (c:\\users\\divanma\\.conda\\envs\\windows-ml-station\\lib\\site-packages)\n",
      "WARNING: Ignoring invalid distribution -illow (c:\\users\\divanma\\.conda\\envs\\windows-ml-station\\lib\\site-packages)\n",
      "WARNING: Ignoring invalid distribution -atplotlib (c:\\users\\divanma\\.conda\\envs\\windows-ml-station\\lib\\site-packages)\n",
      "WARNING: There was an error checking the latest version of pip.\n"
     ]
    }
   ],
   "source": [
    "!pip install easy-equities-client"
   ]
  },
  {
   "cell_type": "markdown",
   "metadata": {},
   "source": [
    "## FrostAura Dependencies"
   ]
  },
  {
   "cell_type": "code",
   "execution_count": 9,
   "metadata": {},
   "outputs": [
    {
     "name": "stdout",
     "output_type": "stream",
     "text": [
      "Note: you may need to restart the kernel to use updated packages.\n"
     ]
    },
    {
     "name": "stderr",
     "output_type": "stream",
     "text": [
      "WARNING: Ignoring invalid distribution -ymupdf (c:\\users\\divanma\\.conda\\envs\\windows-ml-station\\lib\\site-packages)\n",
      "WARNING: Ignoring invalid distribution -illow (c:\\users\\divanma\\.conda\\envs\\windows-ml-station\\lib\\site-packages)\n",
      "WARNING: Ignoring invalid distribution -atplotlib (c:\\users\\divanma\\.conda\\envs\\windows-ml-station\\lib\\site-packages)\n",
      "WARNING: Ignoring invalid distribution -ymupdf (c:\\users\\divanma\\.conda\\envs\\windows-ml-station\\lib\\site-packages)\n",
      "WARNING: Ignoring invalid distribution -illow (c:\\users\\divanma\\.conda\\envs\\windows-ml-station\\lib\\site-packages)\n",
      "WARNING: Ignoring invalid distribution -atplotlib (c:\\users\\divanma\\.conda\\envs\\windows-ml-station\\lib\\site-packages)\n",
      "WARNING: Skipping frostaura as it is not installed.\n"
     ]
    }
   ],
   "source": [
    "import os\n",
    "import sys\n",
    "\n",
    "USE_LOCAL_CODE: bool = True # NOTE: When changing this configuration, be sure to restart the interpreter in order to have sys path updates reflect.\n",
    "directories_to_move_up: int = 2\n",
    "current_executing_path: str = os.getcwd()\n",
    "current_executing_path = current_executing_path.replace('\\\\', '/')\n",
    "root_path: str = '/'.join(current_executing_path.split('/')[:-directories_to_move_up])\n",
    "\n",
    "# Clean up.\n",
    "%pip uninstall frostaura -y\n",
    "sys.path = [p for p in sys.path if p != root_path]\n",
    "\n",
    "if USE_LOCAL_CODE:\n",
    "    sys.path.append(root_path)\n",
    "else:\n",
    "    %pip install -U --no-cache-dir frostaura"
   ]
  },
  {
   "cell_type": "markdown",
   "metadata": {},
   "source": [
    "# Import Dependencies"
   ]
  },
  {
   "cell_type": "code",
   "execution_count": 10,
   "metadata": {},
   "outputs": [],
   "source": [
    "from frostaura.data_access import IResourcesDataAccess\n",
    "from frostaura.data_access import EmbeddedResourcesDataAccess\n",
    "from frostaura.data_access import IPersonalAssetDataAccess\n",
    "from frostaura.data_access import EasyEquitiesPersonalAssetDataAccess\n",
    "from easy_equities_client.accounts.types import Account\n",
    "import pandas as pd"
   ]
  },
  {
   "cell_type": "markdown",
   "metadata": {},
   "source": [
    "# Usage"
   ]
  },
  {
   "cell_type": "code",
   "execution_count": 11,
   "metadata": {},
   "outputs": [],
   "source": [
    "resource_data_access: IResourcesDataAccess = EmbeddedResourcesDataAccess()\n",
    "instance: IPersonalAssetDataAccess = EasyEquitiesPersonalAssetDataAccess(resource_data_access=resource_data_access,\n",
    "                                                                         username='...',\n",
    "                                                                         password='...')"
   ]
  },
  {
   "cell_type": "markdown",
   "metadata": {},
   "source": [
    "## Get Supported Symbols"
   ]
  },
  {
   "cell_type": "code",
   "execution_count": 12,
   "metadata": {},
   "outputs": [
    {
     "data": {
      "text/html": [
       "<div>\n",
       "<style scoped>\n",
       "    .dataframe tbody tr th:only-of-type {\n",
       "        vertical-align: middle;\n",
       "    }\n",
       "\n",
       "    .dataframe tbody tr th {\n",
       "        vertical-align: top;\n",
       "    }\n",
       "\n",
       "    .dataframe thead th {\n",
       "        text-align: right;\n",
       "    }\n",
       "</style>\n",
       "<table border=\"1\" class=\"dataframe\">\n",
       "  <thead>\n",
       "    <tr style=\"text-align: right;\">\n",
       "      <th></th>\n",
       "      <th>name</th>\n",
       "      <th>symbol</th>\n",
       "    </tr>\n",
       "  </thead>\n",
       "  <tbody>\n",
       "    <tr>\n",
       "      <th>0</th>\n",
       "      <td>10X Genomics Inc</td>\n",
       "      <td>TXG</td>\n",
       "    </tr>\n",
       "    <tr>\n",
       "      <th>1</th>\n",
       "      <td>21Vianet Group Inc</td>\n",
       "      <td>VNET</td>\n",
       "    </tr>\n",
       "    <tr>\n",
       "      <th>2</th>\n",
       "      <td>2U Inc</td>\n",
       "      <td>TWOU</td>\n",
       "    </tr>\n",
       "    <tr>\n",
       "      <th>3</th>\n",
       "      <td>3D Systems Inc</td>\n",
       "      <td>DDD</td>\n",
       "    </tr>\n",
       "    <tr>\n",
       "      <th>4</th>\n",
       "      <td>3M Co</td>\n",
       "      <td>MMM</td>\n",
       "    </tr>\n",
       "    <tr>\n",
       "      <th>...</th>\n",
       "      <td>...</td>\n",
       "      <td>...</td>\n",
       "    </tr>\n",
       "    <tr>\n",
       "      <th>481</th>\n",
       "      <td>Schrodinger Inc</td>\n",
       "      <td>SDGR</td>\n",
       "    </tr>\n",
       "    <tr>\n",
       "      <th>482</th>\n",
       "      <td>SciPlay Corp</td>\n",
       "      <td>SCPL</td>\n",
       "    </tr>\n",
       "    <tr>\n",
       "      <th>483</th>\n",
       "      <td>Sea Ltd</td>\n",
       "      <td>SE</td>\n",
       "    </tr>\n",
       "    <tr>\n",
       "      <th>484</th>\n",
       "      <td>Seagate Technology</td>\n",
       "      <td>STX</td>\n",
       "    </tr>\n",
       "    <tr>\n",
       "      <th>485</th>\n",
       "      <td>Seagen Inc</td>\n",
       "      <td>SGEN</td>\n",
       "    </tr>\n",
       "  </tbody>\n",
       "</table>\n",
       "<p>486 rows × 2 columns</p>\n",
       "</div>"
      ],
      "text/plain": [
       "                   name symbol\n",
       "0      10X Genomics Inc    TXG\n",
       "1    21Vianet Group Inc   VNET\n",
       "2                2U Inc   TWOU\n",
       "3        3D Systems Inc    DDD\n",
       "4                 3M Co    MMM\n",
       "..                  ...    ...\n",
       "481     Schrodinger Inc   SDGR\n",
       "482        SciPlay Corp   SCPL\n",
       "483             Sea Ltd     SE\n",
       "484  Seagate Technology    STX\n",
       "485          Seagen Inc   SGEN\n",
       "\n",
       "[486 rows x 2 columns]"
      ]
     },
     "execution_count": 12,
     "metadata": {},
     "output_type": "execute_result"
    }
   ],
   "source": [
    "supported_symbols: pd.DataFrame = instance.get_supported_assets()\n",
    "\n",
    "supported_symbols "
   ]
  },
  {
   "cell_type": "markdown",
   "metadata": {},
   "source": [
    "## Get Personal Transactions"
   ]
  },
  {
   "cell_type": "code",
   "execution_count": 13,
   "metadata": {},
   "outputs": [
    {
     "data": {
      "text/html": [
       "<div>\n",
       "<style scoped>\n",
       "    .dataframe tbody tr th:only-of-type {\n",
       "        vertical-align: middle;\n",
       "    }\n",
       "\n",
       "    .dataframe tbody tr th {\n",
       "        vertical-align: top;\n",
       "    }\n",
       "\n",
       "    .dataframe thead th {\n",
       "        text-align: right;\n",
       "    }\n",
       "</style>\n",
       "<table border=\"1\" class=\"dataframe\">\n",
       "  <thead>\n",
       "    <tr style=\"text-align: right;\">\n",
       "      <th></th>\n",
       "      <th>name</th>\n",
       "      <th>symbol</th>\n",
       "      <th>shares</th>\n",
       "    </tr>\n",
       "    <tr>\n",
       "      <th>date</th>\n",
       "      <th></th>\n",
       "      <th></th>\n",
       "      <th></th>\n",
       "    </tr>\n",
       "  </thead>\n",
       "  <tbody>\n",
       "    <tr>\n",
       "      <th>2022-07-28</th>\n",
       "      <td>Tesla Inc.</td>\n",
       "      <td>TSLA</td>\n",
       "      <td>0.0688</td>\n",
       "    </tr>\n",
       "    <tr>\n",
       "      <th>2022-07-01</th>\n",
       "      <td>Apple Inc.</td>\n",
       "      <td>AAPL</td>\n",
       "      <td>0.4317</td>\n",
       "    </tr>\n",
       "    <tr>\n",
       "      <th>2022-08-05</th>\n",
       "      <td>3D Systems Corporation</td>\n",
       "      <td>DDD</td>\n",
       "      <td>8.8925</td>\n",
       "    </tr>\n",
       "    <tr>\n",
       "      <th>2022-08-05</th>\n",
       "      <td>Sibanye Stillwater Ltd</td>\n",
       "      <td>SBSW</td>\n",
       "      <td>1.1265</td>\n",
       "    </tr>\n",
       "    <tr>\n",
       "      <th>2022-08-18</th>\n",
       "      <td>Sibanye Stillwater Ltd</td>\n",
       "      <td>SBSW</td>\n",
       "      <td>6.5243</td>\n",
       "    </tr>\n",
       "    <tr>\n",
       "      <th>2022-08-18</th>\n",
       "      <td>3D Systems Corporation</td>\n",
       "      <td>DDD</td>\n",
       "      <td>5.2957</td>\n",
       "    </tr>\n",
       "    <tr>\n",
       "      <th>2022-08-22</th>\n",
       "      <td>SPDR S&amp;P 500 ETF</td>\n",
       "      <td>SPY</td>\n",
       "      <td>0.0829</td>\n",
       "    </tr>\n",
       "    <tr>\n",
       "      <th>2022-08-22</th>\n",
       "      <td>3D Systems Corporation</td>\n",
       "      <td>DDD</td>\n",
       "      <td>2.3170</td>\n",
       "    </tr>\n",
       "    <tr>\n",
       "      <th>2022-08-29</th>\n",
       "      <td>Sibanye Stillwater Ltd</td>\n",
       "      <td>SBSW</td>\n",
       "      <td>-7.6507</td>\n",
       "    </tr>\n",
       "    <tr>\n",
       "      <th>2022-08-29</th>\n",
       "      <td>Tesla Inc.</td>\n",
       "      <td>TSLA</td>\n",
       "      <td>0.0884</td>\n",
       "    </tr>\n",
       "    <tr>\n",
       "      <th>2022-08-29</th>\n",
       "      <td>SPDR S&amp;P 500 ETF</td>\n",
       "      <td>SPY</td>\n",
       "      <td>0.0547</td>\n",
       "    </tr>\n",
       "  </tbody>\n",
       "</table>\n",
       "</div>"
      ],
      "text/plain": [
       "                              name symbol  shares\n",
       "date                                             \n",
       "2022-07-28              Tesla Inc.   TSLA  0.0688\n",
       "2022-07-01              Apple Inc.   AAPL  0.4317\n",
       "2022-08-05  3D Systems Corporation    DDD  8.8925\n",
       "2022-08-05  Sibanye Stillwater Ltd   SBSW  1.1265\n",
       "2022-08-18  Sibanye Stillwater Ltd   SBSW  6.5243\n",
       "2022-08-18  3D Systems Corporation    DDD  5.2957\n",
       "2022-08-22        SPDR S&P 500 ETF    SPY  0.0829\n",
       "2022-08-22  3D Systems Corporation    DDD  2.3170\n",
       "2022-08-29  Sibanye Stillwater Ltd   SBSW -7.6507\n",
       "2022-08-29              Tesla Inc.   TSLA  0.0884\n",
       "2022-08-29        SPDR S&P 500 ETF    SPY  0.0547"
      ]
     },
     "execution_count": 13,
     "metadata": {},
     "output_type": "execute_result"
    }
   ],
   "source": [
    "personal_transactions: pd.DataFrame = instance.get_personal_transactions()\n",
    "\n",
    "personal_transactions"
   ]
  },
  {
   "cell_type": "markdown",
   "metadata": {},
   "source": [
    "## Get Accounts & Holdings"
   ]
  },
  {
   "cell_type": "code",
   "execution_count": 14,
   "metadata": {},
   "outputs": [
    {
     "ename": "Exception",
     "evalue": "Login failed",
     "output_type": "error",
     "traceback": [
      "\u001b[1;31m---------------------------------------------------------------------------\u001b[0m",
      "\u001b[1;31mException\u001b[0m                                 Traceback (most recent call last)",
      "\u001b[1;32m~\\AppData\\Local\\Temp/ipykernel_17860/1615531250.py\u001b[0m in \u001b[0;36m<module>\u001b[1;34m\u001b[0m\n\u001b[1;32m----> 1\u001b[1;33m \u001b[0maccounts\u001b[0m\u001b[1;33m:\u001b[0m \u001b[0mlist\u001b[0m \u001b[1;33m=\u001b[0m \u001b[0minstance\u001b[0m\u001b[1;33m.\u001b[0m\u001b[0m__get_accounts__\u001b[0m\u001b[1;33m(\u001b[0m\u001b[1;33m)\u001b[0m\u001b[1;33m\u001b[0m\u001b[1;33m\u001b[0m\u001b[0m\n\u001b[0m\u001b[0;32m      2\u001b[0m \u001b[0musd_account\u001b[0m\u001b[1;33m:\u001b[0m \u001b[0mAccount\u001b[0m \u001b[1;33m=\u001b[0m \u001b[0minstance\u001b[0m\u001b[1;33m.\u001b[0m\u001b[0m__get_account_by_name__\u001b[0m\u001b[1;33m(\u001b[0m\u001b[0maccount_name\u001b[0m\u001b[1;33m=\u001b[0m\u001b[1;34m'EasyEquities USD'\u001b[0m\u001b[1;33m)\u001b[0m\u001b[1;33m\u001b[0m\u001b[1;33m\u001b[0m\u001b[0m\n\u001b[0;32m      3\u001b[0m \u001b[0musd_account_holdings\u001b[0m\u001b[1;33m:\u001b[0m \u001b[0mlist\u001b[0m \u001b[1;33m=\u001b[0m \u001b[0minstance\u001b[0m\u001b[1;33m.\u001b[0m\u001b[0m__get_account_holdings__\u001b[0m\u001b[1;33m(\u001b[0m\u001b[0maccount_name\u001b[0m\u001b[1;33m=\u001b[0m\u001b[1;34m'EasyEquities USD'\u001b[0m\u001b[1;33m)\u001b[0m\u001b[1;33m\u001b[0m\u001b[1;33m\u001b[0m\u001b[0m\n\u001b[0;32m      4\u001b[0m \u001b[0musd_account_valuation\u001b[0m\u001b[1;33m:\u001b[0m \u001b[0mdict\u001b[0m \u001b[1;33m=\u001b[0m \u001b[0minstance\u001b[0m\u001b[1;33m.\u001b[0m\u001b[0m__get_account_valuation__\u001b[0m\u001b[1;33m(\u001b[0m\u001b[0maccount_name\u001b[0m\u001b[1;33m=\u001b[0m\u001b[1;34m'EasyEquities USD'\u001b[0m\u001b[1;33m)\u001b[0m\u001b[1;33m\u001b[0m\u001b[1;33m\u001b[0m\u001b[0m\n",
      "\u001b[1;32mc:\\dev/P/fa.intelligence.notebooks\\frostaura\\data_access\\personal_asset_data_access__easy_equities.py\u001b[0m in \u001b[0;36m__get_accounts__\u001b[1;34m(self)\u001b[0m\n\u001b[0;32m     21\u001b[0m     \u001b[1;32mdef\u001b[0m \u001b[0m__get_accounts__\u001b[0m\u001b[1;33m(\u001b[0m\u001b[0mself\u001b[0m\u001b[1;33m)\u001b[0m \u001b[1;33m->\u001b[0m \u001b[0mlist\u001b[0m\u001b[1;33m:\u001b[0m\u001b[1;33m\u001b[0m\u001b[1;33m\u001b[0m\u001b[0m\n\u001b[0;32m     22\u001b[0m         \u001b[0minfo\u001b[0m\u001b[1;33m(\u001b[0m\u001b[1;34mf'Signing into EasyEquities as \"{self.username}\".'\u001b[0m\u001b[1;33m)\u001b[0m\u001b[1;33m\u001b[0m\u001b[1;33m\u001b[0m\u001b[0m\n\u001b[1;32m---> 23\u001b[1;33m         \u001b[0mself\u001b[0m\u001b[1;33m.\u001b[0m\u001b[0mclient\u001b[0m\u001b[1;33m.\u001b[0m\u001b[0mlogin\u001b[0m\u001b[1;33m(\u001b[0m\u001b[0musername\u001b[0m\u001b[1;33m=\u001b[0m\u001b[0mself\u001b[0m\u001b[1;33m.\u001b[0m\u001b[0musername\u001b[0m\u001b[1;33m,\u001b[0m \u001b[0mpassword\u001b[0m\u001b[1;33m=\u001b[0m\u001b[0mself\u001b[0m\u001b[1;33m.\u001b[0m\u001b[0mpassword\u001b[0m\u001b[1;33m)\u001b[0m\u001b[1;33m\u001b[0m\u001b[1;33m\u001b[0m\u001b[0m\n\u001b[0m\u001b[0;32m     24\u001b[0m \u001b[1;33m\u001b[0m\u001b[0m\n\u001b[0;32m     25\u001b[0m         \u001b[1;32mreturn\u001b[0m \u001b[0mself\u001b[0m\u001b[1;33m.\u001b[0m\u001b[0mclient\u001b[0m\u001b[1;33m.\u001b[0m\u001b[0maccounts\u001b[0m\u001b[1;33m.\u001b[0m\u001b[0mlist\u001b[0m\u001b[1;33m(\u001b[0m\u001b[1;33m)\u001b[0m\u001b[1;33m\u001b[0m\u001b[1;33m\u001b[0m\u001b[0m\n",
      "\u001b[1;32mc:\\Users\\divanma\\.conda\\envs\\windows-ml-station\\lib\\site-packages\\easy_equities_client\\clients.py\u001b[0m in \u001b[0;36mlogin\u001b[1;34m(self, username, password)\u001b[0m\n\u001b[0;32m     52\u001b[0m         \u001b[0mresponse\u001b[0m\u001b[1;33m.\u001b[0m\u001b[0mraise_for_status\u001b[0m\u001b[1;33m(\u001b[0m\u001b[1;33m)\u001b[0m\u001b[1;33m\u001b[0m\u001b[1;33m\u001b[0m\u001b[0m\n\u001b[0;32m     53\u001b[0m         \u001b[1;32mif\u001b[0m \u001b[0mresponse\u001b[0m\u001b[1;33m.\u001b[0m\u001b[0mstatus_code\u001b[0m \u001b[1;33m!=\u001b[0m \u001b[1;36m302\u001b[0m\u001b[1;33m:\u001b[0m\u001b[1;33m\u001b[0m\u001b[1;33m\u001b[0m\u001b[0m\n\u001b[1;32m---> 54\u001b[1;33m             \u001b[1;32mraise\u001b[0m \u001b[0mException\u001b[0m\u001b[1;33m(\u001b[0m\u001b[1;34m\"Login failed\"\u001b[0m\u001b[1;33m)\u001b[0m\u001b[1;33m\u001b[0m\u001b[1;33m\u001b[0m\u001b[0m\n\u001b[0m\u001b[0;32m     55\u001b[0m \u001b[1;33m\u001b[0m\u001b[0m\n\u001b[0;32m     56\u001b[0m         \u001b[1;32mreturn\u001b[0m \u001b[1;32mTrue\u001b[0m\u001b[1;33m\u001b[0m\u001b[1;33m\u001b[0m\u001b[0m\n",
      "\u001b[1;31mException\u001b[0m: Login failed"
     ]
    }
   ],
   "source": [
    "accounts: list = instance.__get_accounts__()\n",
    "usd_account: Account = instance.__get_account_by_name__(account_name='EasyEquities USD')\n",
    "usd_account_holdings: list = instance.__get_account_holdings__(account_name='EasyEquities USD')\n",
    "usd_account_valuation: dict = instance.__get_account_valuation__(account_name='EasyEquities USD')"
   ]
  },
  {
   "cell_type": "code",
   "execution_count": 99,
   "metadata": {},
   "outputs": [],
   "source": [
    "from datetime import datetime\n",
    "import requests\n",
    "import json\n",
    "from joblib import Parallel, delayed\n",
    "\n",
    "def get_symbol_growth_rate(symbol: str) -> float:\n",
    "    base_url: str = f'https://finance.yahoo.com/quote/{symbol}/analysis'\n",
    "    http_response = requests.get(base_url, headers={\n",
    "        'User-Agent': 'Mozilla/5.0 (Macintosh; Intel Mac OS X 10_10_1) AppleWebKit/537.36 (KHTML, like Gecko) Chrome/39.0.2171.95 Safari/537.36'\n",
    "    })\n",
    "    json_str: str = http_response.text \\\n",
    "            .split('root.App.main =')[1] \\\n",
    "            .split('(this)')[0] \\\n",
    "            .split(';\\n}')[0] \\\n",
    "            .strip()\n",
    "    data = json.loads(json_str)\n",
    "    symbol_quote = data['context']['dispatcher']['stores']['QuoteSummaryStore']\n",
    "    growth_rate: float = [t for t in symbol_quote['earningsTrend']['trend'] if t['period'] == '+5y'][0]['growth']['raw']\n",
    "\n",
    "    return growth_rate\n",
    "\n",
    "def get_symbol_quote(symbol: str) -> dict:\n",
    "    base_url: str = f'https://finance.yahoo.com/quote/{symbol}'\n",
    "    http_response = requests.get(base_url, headers={\n",
    "        'User-Agent': 'Mozilla/5.0 (Macintosh; Intel Mac OS X 10_10_1) AppleWebKit/537.36 (KHTML, like Gecko) Chrome/39.0.2171.95 Safari/537.36'\n",
    "    })\n",
    "    json_str: str = http_response.text \\\n",
    "        .split('root.App.main =')[1] \\\n",
    "        .split('(this)')[0] \\\n",
    "        .split(';\\n}')[0] \\\n",
    "        .strip()\n",
    "    data = json.loads(json_str)\n",
    "    symbol_quote = data['context']['dispatcher']['stores']['QuoteSummaryStore']\n",
    "    response: dict = {\n",
    "        'symbol': symbol,\n",
    "        'eps': symbol_quote['defaultKeyStatistics']['trailingEps']['raw'],\n",
    "        'long_description': symbol_quote['summaryProfile']['longBusinessSummary'],\n",
    "        'company_name': symbol_quote['price']['longName'],\n",
    "        'market_cap': symbol_quote['price']['marketCap']['raw'],\n",
    "        'current_price': symbol_quote['financialData']['currentPrice']['raw'],\n",
    "        'total_cash': symbol_quote['financialData']['totalCash']['raw'],\n",
    "        'total_debt': symbol_quote['financialData']['totalDebt']['raw'],\n",
    "        'total_revenue': symbol_quote['financialData']['totalRevenue']['raw'],\n",
    "        'pe_ratio': symbol_quote['summaryDetail']['trailingPE']['raw'],\n",
    "        'ex_dividend_date': None,\n",
    "        'dividend_date': None,\n",
    "        'dividend_yield': None\n",
    "    }\n",
    "    \n",
    "    response['growth_rate'] = get_symbol_growth_rate(symbol=symbol)\n",
    "\n",
    "    if symbol_quote['calendarEvents']['exDividendDate'] is not None and 'raw' in symbol_quote['calendarEvents']['exDividendDate']:\n",
    "        response['ex_dividend_date'] = datetime.fromtimestamp(symbol_quote['calendarEvents']['exDividendDate']['raw'])\n",
    "        response['dividend_date'] = datetime.fromtimestamp(symbol_quote['calendarEvents']['dividendDate']['raw'])\n",
    "        response['dividend_yield'] = symbol_quote['summaryDetail']['dividendYield']['raw']\n",
    "\n",
    "    return response\n",
    "\n",
    "def get_symbol_quotes_async(symbols: list) -> list:\n",
    "    parrallelizer: Parallel = Parallel(n_jobs=len(symbols), prefer='threads')\n",
    "    results: list = parrallelizer([delayed(get_symbol_quote)(s) for s in symbols])\n",
    "\n",
    "    return results"
   ]
  },
  {
   "cell_type": "code",
   "execution_count": 100,
   "metadata": {},
   "outputs": [],
   "source": [
    "symbols: list = ['AAPL', 'DDD', 'TSLA']\n",
    "quotes: list = get_symbol_quotes_async(symbols=symbols)"
   ]
  },
  {
   "cell_type": "code",
   "execution_count": 101,
   "metadata": {},
   "outputs": [
    {
     "data": {
      "text/plain": [
       "[{'symbol': 'AAPL',\n",
       "  'eps': 6.05,\n",
       "  'long_description': 'Apple Inc. designs, manufactures, and markets smartphones, personal computers, tablets, wearables, and accessories worldwide. It also sells various related services. In addition, the company offers iPhone, a line of smartphones; Mac, a line of personal computers; iPad, a line of multi-purpose tablets; AirPods Max, an over-ear wireless headphone; and wearables, home, and accessories comprising AirPods, Apple TV, Apple Watch, Beats products, HomePod, and iPod touch. Further, it provides AppleCare support services; cloud services store services; and operates various platforms, including the App Store that allow customers to discover and download applications and digital content, such as books, music, video, games, and podcasts. Additionally, the company offers various services, such as Apple Arcade, a game subscription service; Apple Music, which offers users a curated listening experience with on-demand radio stations; Apple News+, a subscription news and magazine service; Apple TV+, which offers exclusive original content; Apple Card, a co-branded credit card; and Apple Pay, a cashless payment service, as well as licenses its intellectual property. The company serves consumers, and small and mid-sized businesses; and the education, enterprise, and government markets. It distributes third-party applications for its products through the App Store. The company also sells its products through its retail and online stores, and direct sales force; and third-party cellular network carriers, wholesalers, retailers, and resellers. Apple Inc. was incorporated in 1977 and is headquartered in Cupertino, California.',\n",
       "  'company_name': 'Apple Inc.',\n",
       "  'market_cap': 2483420659712,\n",
       "  'current_price': 154.53,\n",
       "  'total_cash': 48230998016,\n",
       "  'total_debt': 119691001856,\n",
       "  'total_revenue': 387541991424,\n",
       "  'pe_ratio': 25.542149,\n",
       "  'growth_rate': 0.094799995,\n",
       "  'ex_dividend_date': datetime.datetime(2022, 8, 5, 2, 0),\n",
       "  'dividend_date': datetime.datetime(2022, 8, 11, 2, 0),\n",
       "  'dividend_yield': 0.0058},\n",
       " {'symbol': 'DDD',\n",
       "  'eps': 1.74,\n",
       "  'long_description': '3D Systems Corporation, through its subsidiaries, provides 3D printing and digital manufacturing solutions in the Americas, Europe, the Middle East, Africa, and the Asia Pacific. The company offers 3D printers, such as stereolithography, selective laser sintering, direct metal printing, multi jet printing, color jet printing, and extrusion and SLA based bioprinting that transform digital data input generated by 3D design software, computer aided design (CAD) software, or other 3D design tools into printed parts. It also develops, blends, and markets various print materials, such as plastic, nylon, metal, composite, elastomeric, wax, polymeric dental, and bio-compatible materials. In addition, the company provides digital design tools, including software, scanners, and haptic devices, as well as solutions for product design, simulation, mold and die design, 3D scan-to-print, reverse engineering, production machining, metrology, and inspection and manufacturing workflows under the Geomagic brand. Further, it offers 3D Sprint and 3DXpert, a proprietary software to prepare and optimize CAD data and manage the additive manufacturing processes, which provides automated support building and placement, build platform management, print simulation, and print queue management; and Bioprint Pro, a software solution that allows researchers to design and bioprint repeatable experiments. Additionally, the company provides maintenance and training services; manufacturing services; and software and precision healthcare services. It primarily serves companies and small and midsize businesses in medical, dental, automotive, aerospace, durable good, government, defense, technology, jewelry, electronic, education, consumer good, energy, biotechnology, and other industries through direct sales force, channel partners, and appointed distributors. 3D Systems Corporation was founded in 1986 and is headquartered in Rock Hill, South Carolina.',\n",
       "  'company_name': '3D Systems Corporation',\n",
       "  'market_cap': 1223338624,\n",
       "  'current_price': 9.39,\n",
       "  'total_cash': 638220032,\n",
       "  'total_debt': 502684992,\n",
       "  'total_revenue': 580012032,\n",
       "  'pe_ratio': 5.396552,\n",
       "  'growth_rate': 0.3},\n",
       " {'symbol': 'TSLA',\n",
       "  'eps': 2.79,\n",
       "  'long_description': 'Tesla, Inc. designs, develops, manufactures, leases, and sells electric vehicles, and energy generation and storage systems in the United States, China, and internationally. The company operates in two segments, Automotive, and Energy Generation and Storage. The Automotive segment offers electric vehicles, as well as sells automotive regulatory credits. It provides sedans and sport utility vehicles through direct and used vehicle sales, a network of Tesla Superchargers, and in-app upgrades; and purchase financing and leasing services. This segment is also involved in the provision of non-warranty after-sales vehicle services, sale of used vehicles, retail merchandise, and vehicle insurance, as well as sale of products to third party customers; services for electric vehicles through its company-owned service locations, and Tesla mobile service technicians; and vehicle limited warranties and extended service plans. The Energy Generation and Storage segment engages in the design, manufacture, installation, sale, and leasing of solar energy generation and energy storage products, and related services to residential, commercial, and industrial customers and utilities through its website, stores, and galleries, as well as through a network of channel partners. This segment also offers service and repairs to its energy product customers, including under warranty; and various financing options to its solar customers. The company was formerly known as Tesla Motors, Inc. and changed its name to Tesla, Inc. in February 2017. Tesla, Inc. was incorporated in 2003 and is headquartered in Austin, Texas.',\n",
       "  'company_name': 'Tesla, Inc.',\n",
       "  'market_cap': 859886845952,\n",
       "  'current_price': 274.42,\n",
       "  'total_cash': 18915000320,\n",
       "  'total_debt': 6664999936,\n",
       "  'total_revenue': 67165999104,\n",
       "  'pe_ratio': 98.35843,\n",
       "  'growth_rate': 0.45200002}]"
      ]
     },
     "execution_count": 101,
     "metadata": {},
     "output_type": "execute_result"
    }
   ],
   "source": [
    "quotes"
   ]
  },
  {
   "cell_type": "code",
   "execution_count": null,
   "metadata": {},
   "outputs": [],
   "source": []
  }
 ],
 "metadata": {
  "kernelspec": {
   "display_name": "Python 3.9.7 ('windows-ml-station')",
   "language": "python",
   "name": "python3"
  },
  "language_info": {
   "codemirror_mode": {
    "name": "ipython",
    "version": 3
   },
   "file_extension": ".py",
   "mimetype": "text/x-python",
   "name": "python",
   "nbconvert_exporter": "python",
   "pygments_lexer": "ipython3",
   "version": "3.9.7"
  },
  "orig_nbformat": 4,
  "vscode": {
   "interpreter": {
    "hash": "f2d2799229849fd2c86aa3751486a343a6caa647b525ae379976f27c22f61e0e"
   }
  }
 },
 "nbformat": 4,
 "nbformat_minor": 2
}
