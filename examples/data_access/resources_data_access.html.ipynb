{
 "cells": [
  {
   "cell_type": "markdown",
   "metadata": {},
   "source": [
    "# Install Dependencies"
   ]
  },
  {
   "cell_type": "markdown",
   "metadata": {},
   "source": [
    "## External Dependencies"
   ]
  },
  {
   "cell_type": "code",
   "execution_count": 1,
   "metadata": {},
   "outputs": [
    {
     "name": "stdout",
     "output_type": "stream",
     "text": [
      "Requirement already satisfied: requests in /Users/deanmartin/miniforge3/envs/tensorflow-apple-metal/lib/python3.9/site-packages (2.26.0)\n",
      "Requirement already satisfied: beautifulsoup4 in /Users/deanmartin/miniforge3/envs/tensorflow-apple-metal/lib/python3.9/site-packages (4.11.1)\n",
      "Requirement already satisfied: urllib3<1.27,>=1.21.1 in /Users/deanmartin/miniforge3/envs/tensorflow-apple-metal/lib/python3.9/site-packages (from requests) (1.26.7)\n",
      "Requirement already satisfied: idna<4,>=2.5 in /Users/deanmartin/miniforge3/envs/tensorflow-apple-metal/lib/python3.9/site-packages (from requests) (3.1)\n",
      "Requirement already satisfied: charset-normalizer~=2.0.0 in /Users/deanmartin/miniforge3/envs/tensorflow-apple-metal/lib/python3.9/site-packages (from requests) (2.0.0)\n",
      "Requirement already satisfied: certifi>=2017.4.17 in /Users/deanmartin/miniforge3/envs/tensorflow-apple-metal/lib/python3.9/site-packages (from requests) (2021.10.8)\n",
      "Requirement already satisfied: soupsieve>1.2 in /Users/deanmartin/miniforge3/envs/tensorflow-apple-metal/lib/python3.9/site-packages (from beautifulsoup4) (2.3.2.post1)\n",
      "\n",
      "\u001b[1m[\u001b[0m\u001b[34;49mnotice\u001b[0m\u001b[1;39;49m]\u001b[0m\u001b[39;49m A new release of pip available: \u001b[0m\u001b[31;49m22.2.1\u001b[0m\u001b[39;49m -> \u001b[0m\u001b[32;49m22.2.2\u001b[0m\n",
      "\u001b[1m[\u001b[0m\u001b[34;49mnotice\u001b[0m\u001b[1;39;49m]\u001b[0m\u001b[39;49m To update, run: \u001b[0m\u001b[32;49mpip install --upgrade pip\u001b[0m\n"
     ]
    }
   ],
   "source": [
    "!pip install requests beautifulsoup4"
   ]
  },
  {
   "cell_type": "markdown",
   "metadata": {},
   "source": [
    "## FrostAura Dependencies"
   ]
  },
  {
   "cell_type": "code",
   "execution_count": 2,
   "metadata": {},
   "outputs": [
    {
     "name": "stdout",
     "output_type": "stream",
     "text": [
      "\u001b[33mWARNING: Skipping frostaura as it is not installed.\u001b[0m\u001b[33m\n",
      "\u001b[0mNote: you may need to restart the kernel to use updated packages.\n"
     ]
    }
   ],
   "source": [
    "import os\n",
    "import sys\n",
    "\n",
    "USE_LOCAL_CODE: bool = True # NOTE: When changing this configuration, be sure to restart the interpreter in order to have sys path updates reflect.\n",
    "directories_to_move_up: int = 2\n",
    "current_executing_path: str = os.getcwd()\n",
    "current_executing_path = current_executing_path.replace('\\\\', '/')\n",
    "root_path: str = '/'.join(current_executing_path.split('/')[:-directories_to_move_up])\n",
    "\n",
    "# Clean up.\n",
    "%pip uninstall frostaura -y\n",
    "sys.path = [p for p in sys.path if p != root_path]\n",
    "\n",
    "if USE_LOCAL_CODE:\n",
    "    sys.path.append(root_path)\n",
    "else:\n",
    "    %pip install -U --no-cache-dir frostaura"
   ]
  },
  {
   "cell_type": "markdown",
   "metadata": {},
   "source": [
    "# Import Dependencies"
   ]
  },
  {
   "cell_type": "code",
   "execution_count": 3,
   "metadata": {},
   "outputs": [],
   "source": [
    "from frostaura.data_access import IResourcesDataAccess\n",
    "from frostaura.data_access import HtmlResourcesDataAccess"
   ]
  },
  {
   "cell_type": "markdown",
   "metadata": {},
   "source": [
    "## Logging"
   ]
  },
  {
   "cell_type": "code",
   "execution_count": 4,
   "metadata": {},
   "outputs": [],
   "source": [
    "import logging\n",
    "\n",
    "logging.basicConfig(level=logging.DEBUG)"
   ]
  },
  {
   "cell_type": "markdown",
   "metadata": {},
   "source": [
    "# Usage"
   ]
  },
  {
   "cell_type": "code",
   "execution_count": 5,
   "metadata": {},
   "outputs": [
    {
     "name": "stderr",
     "output_type": "stream",
     "text": [
      "INFO:root:Fetching HTML page from URL \"https://finviz.com/quote.ashx?t=AAPL\".\n",
      "DEBUG:root:User agent override found in config. Using value \"some-custom-but-optional-user-agent\".\n",
      "DEBUG:urllib3.connectionpool:Starting new HTTPS connection (1): finviz.com:443\n",
      "DEBUG:urllib3.connectionpool:https://finviz.com:443 \"GET /quote.ashx?t=AAPL HTTP/1.1\" 200 None\n"
     ]
    },
    {
     "name": "stdout",
     "output_type": "stream",
     "text": [
      "AAPL Apple Inc. Stock Quote\n"
     ]
    }
   ],
   "source": [
    "config = {\n",
    "    'user-agent': 'some-custom-but-optional-user-agent'\n",
    "}\n",
    "instance: IResourcesDataAccess = HtmlResourcesDataAccess(config=config)\n",
    "symbol: str = 'AAPL'\n",
    "request_url: str = f'https://finviz.com/quote.ashx?t={symbol}'\n",
    "html_head_title_innertext: str = (instance\n",
    "                        .get_resource(path=request_url)\n",
    "                        .select_one('title')\n",
    "                        .text)\n",
    "\n",
    "print(html_head_title_innertext)"
   ]
  }
 ],
 "metadata": {
  "kernelspec": {
   "display_name": "Python 3.9.7 ('tensorflow-apple-metal')",
   "language": "python",
   "name": "python3"
  },
  "language_info": {
   "codemirror_mode": {
    "name": "ipython",
    "version": 3
   },
   "file_extension": ".py",
   "mimetype": "text/x-python",
   "name": "python",
   "nbconvert_exporter": "python",
   "pygments_lexer": "ipython3",
   "version": "3.9.7"
  },
  "orig_nbformat": 4,
  "vscode": {
   "interpreter": {
    "hash": "f237d2a9665fb481726a5cf6ceac5955148535d2fa68bde4e6b3866477620792"
   }
  }
 },
 "nbformat": 4,
 "nbformat_minor": 2
}
