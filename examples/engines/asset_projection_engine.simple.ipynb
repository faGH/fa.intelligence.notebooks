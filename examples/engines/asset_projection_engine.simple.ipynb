{
 "cells": [
  {
   "cell_type": "markdown",
   "metadata": {},
   "source": [
    "# Install Dependencies"
   ]
  },
  {
   "cell_type": "markdown",
   "metadata": {},
   "source": [
    "## External Dependencies"
   ]
  },
  {
   "cell_type": "code",
   "execution_count": 11,
   "metadata": {},
   "outputs": [
    {
     "name": "stdout",
     "output_type": "stream",
     "text": [
      "Requirement already satisfied: pandas in /Users/deanmartin/miniforge3/lib/python3.9/site-packages (1.3.3)\n",
      "Requirement already satisfied: numpy>=1.17.3 in /Users/deanmartin/miniforge3/lib/python3.9/site-packages (from pandas) (1.22.1)\n",
      "Requirement already satisfied: python-dateutil>=2.7.3 in /Users/deanmartin/miniforge3/lib/python3.9/site-packages (from pandas) (2.8.2)\n",
      "Requirement already satisfied: pytz>=2017.3 in /Users/deanmartin/miniforge3/lib/python3.9/site-packages (from pandas) (2022.1)\n",
      "Requirement already satisfied: six>=1.5 in /Users/deanmartin/miniforge3/lib/python3.9/site-packages (from python-dateutil>=2.7.3->pandas) (1.16.0)\n"
     ]
    }
   ],
   "source": [
    "!pip install pandas"
   ]
  },
  {
   "cell_type": "markdown",
   "metadata": {},
   "source": [
    "## FrostAura Dependencies"
   ]
  },
  {
   "cell_type": "code",
   "execution_count": 12,
   "metadata": {},
   "outputs": [
    {
     "name": "stdout",
     "output_type": "stream",
     "text": [
      "\u001b[33mWARNING: Skipping frostaura as it is not installed.\u001b[0m\u001b[33m\n",
      "\u001b[0mNote: you may need to restart the kernel to use updated packages.\n"
     ]
    }
   ],
   "source": [
    "import os\n",
    "import sys\n",
    "\n",
    "USE_LOCAL_CODE: bool = True # NOTE: When changing this configuration, be sure to restart the interpreter in order to have sys path updates reflect.\n",
    "directories_to_move_up: int = 2\n",
    "current_executing_path: str = os.getcwd()\n",
    "current_executing_path = current_executing_path.replace('\\\\', '/')\n",
    "root_path: str = '/'.join(current_executing_path.split('/')[:-directories_to_move_up])\n",
    "\n",
    "# Clean up.\n",
    "%pip uninstall frostaura -y\n",
    "sys.path = [p for p in sys.path if p != root_path]\n",
    "\n",
    "if USE_LOCAL_CODE:\n",
    "    sys.path.append(root_path)\n",
    "else:\n",
    "    %pip install -U --no-cache-dir frostaura"
   ]
  },
  {
   "cell_type": "markdown",
   "metadata": {},
   "source": [
    "## Logging"
   ]
  },
  {
   "cell_type": "code",
   "execution_count": 13,
   "metadata": {},
   "outputs": [],
   "source": [
    "import logging\n",
    "\n",
    "logging.basicConfig(level=logging.DEBUG)"
   ]
  },
  {
   "cell_type": "markdown",
   "metadata": {},
   "source": [
    "# Import Dependencies"
   ]
  },
  {
   "cell_type": "code",
   "execution_count": 14,
   "metadata": {},
   "outputs": [
    {
     "name": "stdout",
     "output_type": "stream",
     "text": [
      "\u001b[33mWARNING: Skipping frostaura as it is not installed.\u001b[0m\u001b[33m\n",
      "\u001b[0m"
     ]
    },
    {
     "name": "stderr",
     "output_type": "stream",
     "text": [
      "INFO:root:Fetching HTML page from URL \"https://finviz.com/quote.ashx?t=AAPL\".\n",
      "DEBUG:root:User agent override found in config. Using value \"PostmanRuntime/7.29.0\".\n",
      "DEBUG:urllib3.connectionpool:Starting new HTTPS connection (1): finviz.com:443\n"
     ]
    },
    {
     "name": "stdout",
     "output_type": "stream",
     "text": [
      "Note: you may need to restart the kernel to use updated packages.\n"
     ]
    },
    {
     "name": "stderr",
     "output_type": "stream",
     "text": [
      "DEBUG:urllib3.connectionpool:https://finviz.com:443 \"GET /quote.ashx?t=AAPL HTTP/1.1\" 200 None\n",
      "DEBUG:root:EPS: 6.05, EPS Next 5 Years: 0.0983%\n",
      "DEBUG:root:P/E Ratio: 27.585, Current Price: $ 172.1\n",
      "DEBUG:root:Intrinsic Value: $ 128.37634615384616 vs. Current Price: $ 172.1\n"
     ]
    }
   ],
   "source": [
    "%run ./asset_valuation_engine.finviz.ipynb"
   ]
  },
  {
   "cell_type": "code",
   "execution_count": 15,
   "metadata": {},
   "outputs": [
    {
     "name": "stdout",
     "output_type": "stream",
     "text": [
      "Requirement already satisfied: pandas in /Users/deanmartin/miniforge3/lib/python3.9/site-packages (1.3.3)\n",
      "Requirement already satisfied: python-dateutil>=2.7.3 in /Users/deanmartin/miniforge3/lib/python3.9/site-packages (from pandas) (2.8.2)\n",
      "Requirement already satisfied: numpy>=1.17.3 in /Users/deanmartin/miniforge3/lib/python3.9/site-packages (from pandas) (1.22.1)\n",
      "Requirement already satisfied: pytz>=2017.3 in /Users/deanmartin/miniforge3/lib/python3.9/site-packages (from pandas) (2022.1)\n",
      "Requirement already satisfied: six>=1.5 in /Users/deanmartin/miniforge3/lib/python3.9/site-packages (from python-dateutil>=2.7.3->pandas) (1.16.0)\n",
      "\u001b[33mWARNING: Skipping frostaura as it is not installed.\u001b[0m\u001b[33m\n",
      "\u001b[0m"
     ]
    },
    {
     "name": "stderr",
     "output_type": "stream",
     "text": [
      "DEBUG:root:Calculating profit for asset \"TSLA\".\n",
      "INFO:root:Fetching historical price movements for symbol \"TSLA\".\n",
      "DEBUG:urllib3.connectionpool:Starting new HTTPS connection (1): query2.finance.yahoo.com:443\n"
     ]
    },
    {
     "name": "stdout",
     "output_type": "stream",
     "text": [
      "Note: you may need to restart the kernel to use updated packages.\n"
     ]
    },
    {
     "name": "stderr",
     "output_type": "stream",
     "text": [
      "DEBUG:urllib3.connectionpool:https://query2.finance.yahoo.com:443 \"GET /v8/finance/chart/TSLA?period1=-631159200&period2=1660428699&interval=1d&includePrePost=False&events=div%2Csplits HTTP/1.1\" 200 None\n",
      "DEBUG:root:[TSLA] Processing transaction value $0.0688 on 2022-07-28 00:00:00.\n",
      "DEBUG:root:Calculating profit for asset \"AAPL\".\n",
      "INFO:root:Fetching historical price movements for symbol \"AAPL\".\n",
      "DEBUG:urllib3.connectionpool:Starting new HTTPS connection (1): query2.finance.yahoo.com:443\n",
      "DEBUG:urllib3.connectionpool:https://query2.finance.yahoo.com:443 \"GET /v8/finance/chart/AAPL?period1=-631159200&period2=1660428700&interval=1d&includePrePost=False&events=div%2Csplits HTTP/1.1\" 200 None\n",
      "DEBUG:root:[AAPL] Processing transaction value $0.4317 on 2022-07-01 00:00:00.\n",
      "DEBUG:root:Calculating profit for asset \"DDD\".\n",
      "INFO:root:Fetching historical price movements for symbol \"DDD\".\n",
      "DEBUG:urllib3.connectionpool:Starting new HTTPS connection (1): query2.finance.yahoo.com:443\n",
      "DEBUG:urllib3.connectionpool:https://query2.finance.yahoo.com:443 \"GET /v8/finance/chart/DDD?period1=-631159200&period2=1660428702&interval=1d&includePrePost=False&events=div%2Csplits HTTP/1.1\" 200 None\n",
      "DEBUG:root:[DDD] Processing transaction value $8.8925 on 2022-08-05 00:00:00.\n",
      "DEBUG:root:Calculating profit for asset \"SBSW\".\n",
      "INFO:root:Fetching historical price movements for symbol \"SBSW\".\n",
      "DEBUG:urllib3.connectionpool:Starting new HTTPS connection (1): query2.finance.yahoo.com:443\n",
      "DEBUG:urllib3.connectionpool:https://query2.finance.yahoo.com:443 \"GET /v8/finance/chart/SBSW?period1=-631159200&period2=1660428703&interval=1d&includePrePost=False&events=div%2Csplits HTTP/1.1\" 200 None\n",
      "DEBUG:root:[SBSW] Processing transaction value $1.1265 on 2022-08-05 00:00:00.\n",
      "DEBUG:root:Calculating overall holdings profits.\n",
      "DEBUG:root:Calculating profit for asset \"TSLA\".\n",
      "INFO:root:Fetching historical price movements for symbol \"TSLA\".\n",
      "DEBUG:urllib3.connectionpool:Starting new HTTPS connection (1): query2.finance.yahoo.com:443\n",
      "DEBUG:urllib3.connectionpool:https://query2.finance.yahoo.com:443 \"GET /v8/finance/chart/TSLA?period1=-631159200&period2=1660428704&interval=1d&includePrePost=False&events=div%2Csplits HTTP/1.1\" 200 None\n",
      "DEBUG:root:[TSLA] Processing transaction value $0.0688 on 2022-07-28 00:00:00.\n",
      "DEBUG:root:Calculating profit for asset \"AAPL\".\n",
      "INFO:root:Fetching historical price movements for symbol \"AAPL\".\n",
      "DEBUG:urllib3.connectionpool:Starting new HTTPS connection (1): query2.finance.yahoo.com:443\n",
      "DEBUG:urllib3.connectionpool:https://query2.finance.yahoo.com:443 \"GET /v8/finance/chart/AAPL?period1=-631159200&period2=1660428705&interval=1d&includePrePost=False&events=div%2Csplits HTTP/1.1\" 200 None\n",
      "DEBUG:root:[AAPL] Processing transaction value $0.4317 on 2022-07-01 00:00:00.\n",
      "DEBUG:root:Calculating profit for asset \"DDD\".\n",
      "INFO:root:Fetching historical price movements for symbol \"DDD\".\n",
      "DEBUG:urllib3.connectionpool:Starting new HTTPS connection (1): query2.finance.yahoo.com:443\n",
      "DEBUG:urllib3.connectionpool:https://query2.finance.yahoo.com:443 \"GET /v8/finance/chart/DDD?period1=-631159200&period2=1660428707&interval=1d&includePrePost=False&events=div%2Csplits HTTP/1.1\" 200 None\n",
      "DEBUG:root:[DDD] Processing transaction value $8.8925 on 2022-08-05 00:00:00.\n",
      "DEBUG:root:Calculating profit for asset \"SBSW\".\n",
      "INFO:root:Fetching historical price movements for symbol \"SBSW\".\n",
      "DEBUG:urllib3.connectionpool:Starting new HTTPS connection (1): query2.finance.yahoo.com:443\n",
      "DEBUG:urllib3.connectionpool:https://query2.finance.yahoo.com:443 \"GET /v8/finance/chart/SBSW?period1=-631159200&period2=1660428708&interval=1d&includePrePost=False&events=div%2Csplits HTTP/1.1\" 200 None\n",
      "DEBUG:root:[SBSW] Processing transaction value $1.1265 on 2022-08-05 00:00:00.\n"
     ]
    },
    {
     "name": "stdout",
     "output_type": "stream",
     "text": [
      "{'percentage': 6.4668673292609835, 'value': 16.69773357162481}\n"
     ]
    },
    {
     "data": {
      "image/png": "[encoded data removed]",
      "text/plain": [
       "<Figure size 432x288 with 1 Axes>"
      ]
     },
     "metadata": {},
     "output_type": "display_data"
    }
   ],
   "source": [
    "%run ./asset_calculations_engine.simple.ipynb"
   ]
  },
  {
   "cell_type": "code",
   "execution_count": 16,
   "metadata": {},
   "outputs": [],
   "source": [
    "from frostaura.engines import IAssetProjectionEngine\n",
    "from frostaura.engines import SimpleAssetProjectionEngine\n",
    "import pandas as pd\n",
    "from frostaura.engines import IAssetValuationEngine\n",
    "from frostaura.engines import FinvizAssetValuationEngine\n",
    "from frostaura.data_access import IResourcesDataAccess\n",
    "from frostaura.data_access import HtmlResourcesDataAccess\n",
    "from frostaura.models import ValuationResult"
   ]
  },
  {
   "cell_type": "markdown",
   "metadata": {},
   "source": [
    "# Usage"
   ]
  },
  {
   "cell_type": "code",
   "execution_count": 17,
   "metadata": {},
   "outputs": [],
   "source": [
    "instance: IAssetProjectionEngine = SimpleAssetProjectionEngine()\n",
    "html_data_access: IResourcesDataAccess = HtmlResourcesDataAccess()\n",
    "asset_valuation_engine: IAssetValuationEngine = FinvizAssetValuationEngine(html_data_access=html_data_access)"
   ]
  },
  {
   "cell_type": "code",
   "execution_count": 18,
   "metadata": {},
   "outputs": [
    {
     "data": {
      "text/html": [
       "<div>\n",
       "<style scoped>\n",
       "    .dataframe tbody tr th:only-of-type {\n",
       "        vertical-align: middle;\n",
       "    }\n",
       "\n",
       "    .dataframe tbody tr th {\n",
       "        vertical-align: top;\n",
       "    }\n",
       "\n",
       "    .dataframe thead th {\n",
       "        text-align: right;\n",
       "    }\n",
       "</style>\n",
       "<table border=\"1\" class=\"dataframe\">\n",
       "  <thead>\n",
       "    <tr style=\"text-align: right;\">\n",
       "      <th></th>\n",
       "      <th>deposits_withdrawals</th>\n",
       "      <th>interest</th>\n",
       "      <th>total_deposits_withdrawals</th>\n",
       "      <th>accrued_interest</th>\n",
       "      <th>balance</th>\n",
       "    </tr>\n",
       "    <tr>\n",
       "      <th>month</th>\n",
       "      <th></th>\n",
       "      <th></th>\n",
       "      <th></th>\n",
       "      <th></th>\n",
       "      <th></th>\n",
       "    </tr>\n",
       "  </thead>\n",
       "  <tbody>\n",
       "    <tr>\n",
       "      <th>0</th>\n",
       "      <td>0.00000</td>\n",
       "      <td>0.000000</td>\n",
       "      <td>0.000000</td>\n",
       "      <td>0.000000</td>\n",
       "      <td>74.295573</td>\n",
       "    </tr>\n",
       "    <tr>\n",
       "      <th>1</th>\n",
       "      <td>15.46073</td>\n",
       "      <td>0.641418</td>\n",
       "      <td>15.460730</td>\n",
       "      <td>0.641418</td>\n",
       "      <td>90.397721</td>\n",
       "    </tr>\n",
       "    <tr>\n",
       "      <th>2</th>\n",
       "      <td>15.46073</td>\n",
       "      <td>0.780434</td>\n",
       "      <td>30.921459</td>\n",
       "      <td>1.421852</td>\n",
       "      <td>106.638884</td>\n",
       "    </tr>\n",
       "    <tr>\n",
       "      <th>3</th>\n",
       "      <td>15.46073</td>\n",
       "      <td>0.920649</td>\n",
       "      <td>46.382189</td>\n",
       "      <td>2.342501</td>\n",
       "      <td>123.020263</td>\n",
       "    </tr>\n",
       "    <tr>\n",
       "      <th>4</th>\n",
       "      <td>15.46073</td>\n",
       "      <td>1.062075</td>\n",
       "      <td>61.842919</td>\n",
       "      <td>3.404576</td>\n",
       "      <td>139.543068</td>\n",
       "    </tr>\n",
       "    <tr>\n",
       "      <th>...</th>\n",
       "      <td>...</td>\n",
       "      <td>...</td>\n",
       "      <td>...</td>\n",
       "      <td>...</td>\n",
       "      <td>...</td>\n",
       "    </tr>\n",
       "    <tr>\n",
       "      <th>356</th>\n",
       "      <td>15.46073</td>\n",
       "      <td>325.113061</td>\n",
       "      <td>5504.019790</td>\n",
       "      <td>32420.141983</td>\n",
       "      <td>37998.457345</td>\n",
       "    </tr>\n",
       "    <tr>\n",
       "      <th>357</th>\n",
       "      <td>15.46073</td>\n",
       "      <td>328.053348</td>\n",
       "      <td>5519.480519</td>\n",
       "      <td>32748.195331</td>\n",
       "      <td>38341.971423</td>\n",
       "    </tr>\n",
       "    <tr>\n",
       "      <th>358</th>\n",
       "      <td>15.46073</td>\n",
       "      <td>331.019020</td>\n",
       "      <td>5534.941249</td>\n",
       "      <td>33079.214351</td>\n",
       "      <td>38688.451173</td>\n",
       "    </tr>\n",
       "    <tr>\n",
       "      <th>359</th>\n",
       "      <td>15.46073</td>\n",
       "      <td>334.010295</td>\n",
       "      <td>5550.401979</td>\n",
       "      <td>33413.224646</td>\n",
       "      <td>39037.922198</td>\n",
       "    </tr>\n",
       "    <tr>\n",
       "      <th>360</th>\n",
       "      <td>15.46073</td>\n",
       "      <td>337.027395</td>\n",
       "      <td>5565.862709</td>\n",
       "      <td>33750.252041</td>\n",
       "      <td>39390.410323</td>\n",
       "    </tr>\n",
       "  </tbody>\n",
       "</table>\n",
       "<p>361 rows × 5 columns</p>\n",
       "</div>"
      ],
      "text/plain": [
       "       deposits_withdrawals    interest  total_deposits_withdrawals  \\\n",
       "month                                                                 \n",
       "0                   0.00000    0.000000                    0.000000   \n",
       "1                  15.46073    0.641418                   15.460730   \n",
       "2                  15.46073    0.780434                   30.921459   \n",
       "3                  15.46073    0.920649                   46.382189   \n",
       "4                  15.46073    1.062075                   61.842919   \n",
       "...                     ...         ...                         ...   \n",
       "356                15.46073  325.113061                 5504.019790   \n",
       "357                15.46073  328.053348                 5519.480519   \n",
       "358                15.46073  331.019020                 5534.941249   \n",
       "359                15.46073  334.010295                 5550.401979   \n",
       "360                15.46073  337.027395                 5565.862709   \n",
       "\n",
       "       accrued_interest       balance  \n",
       "month                                  \n",
       "0              0.000000     74.295573  \n",
       "1              0.641418     90.397721  \n",
       "2              1.421852    106.638884  \n",
       "3              2.342501    123.020263  \n",
       "4              3.404576    139.543068  \n",
       "...                 ...           ...  \n",
       "356        32420.141983  37998.457345  \n",
       "357        32748.195331  38341.971423  \n",
       "358        33079.214351  38688.451173  \n",
       "359        33413.224646  39037.922198  \n",
       "360        33750.252041  39390.410323  \n",
       "\n",
       "[361 rows x 5 columns]"
      ]
     },
     "execution_count": 18,
     "metadata": {},
     "output_type": "execute_result"
    }
   ],
   "source": [
    "n_months: int = 12*30 # 39 year\n",
    "usd_zar_exchange_rate: float = 16.17\n",
    "annual_growth_rate: float = valuation.eps_five_years + (valuation.annual_dividend_percentage / 100)\n",
    "initial_value: float = holdings['AAPL']['total_current_usd']\n",
    "growth: pd.DataFrame = instance.project_monthly_asset_growth(n_months=n_months,\n",
    "                                                             annual_growth_rate=annual_growth_rate,\n",
    "                                                             principal_value=initial_value,\n",
    "                                                             monthly_deposit=(1000 / usd_zar_exchange_rate / 4))\n",
    "\n",
    "growth"
   ]
  },
  {
   "cell_type": "code",
   "execution_count": 19,
   "metadata": {},
   "outputs": [
    {
     "name": "stderr",
     "output_type": "stream",
     "text": [
      "INFO:root:Fetching HTML page from URL \"https://finviz.com/quote.ashx?t=TSLA\".\n",
      "DEBUG:root:User agent override found in config. Using value \"PostmanRuntime/7.29.0\".\n",
      "DEBUG:urllib3.connectionpool:Starting new HTTPS connection (1): finviz.com:443\n",
      "DEBUG:urllib3.connectionpool:https://finviz.com:443 \"GET /quote.ashx?t=TSLA HTTP/1.1\" 200 None\n",
      "DEBUG:root:EPS: 8.33, EPS Next 5 Years: 0.5189%\n",
      "DEBUG:root:P/E Ratio: 80.48, Current Price: $ 900.09\n",
      "DEBUG:root:Intrinsic Value: $ 515.6910769230769 vs. Current Price: $ 900.09\n",
      "INFO:root:Fetching HTML page from URL \"https://finviz.com/quote.ashx?t=AAPL\".\n",
      "DEBUG:root:User agent override found in config. Using value \"PostmanRuntime/7.29.0\".\n",
      "DEBUG:urllib3.connectionpool:Starting new HTTPS connection (1): finviz.com:443\n",
      "DEBUG:urllib3.connectionpool:https://finviz.com:443 \"GET /quote.ashx?t=AAPL HTTP/1.1\" 200 None\n",
      "DEBUG:root:EPS: 6.05, EPS Next 5 Years: 0.0983%\n",
      "DEBUG:root:P/E Ratio: 27.585, Current Price: $ 172.1\n",
      "DEBUG:root:Intrinsic Value: $ 128.37634615384616 vs. Current Price: $ 172.1\n",
      "INFO:root:Fetching HTML page from URL \"https://finviz.com/quote.ashx?t=DDD\".\n",
      "DEBUG:root:User agent override found in config. Using value \"PostmanRuntime/7.29.0\".\n",
      "DEBUG:urllib3.connectionpool:Starting new HTTPS connection (1): finviz.com:443\n",
      "DEBUG:urllib3.connectionpool:https://finviz.com:443 \"GET /quote.ashx?t=DDD HTTP/1.1\" 200 None\n",
      "DEBUG:root:EPS: 2.0, EPS Next 5 Years: 0.3%\n",
      "DEBUG:root:P/E Ratio: 36.26, Current Price: $ 12.4\n",
      "DEBUG:root:Intrinsic Value: $ 55.78461538461539 vs. Current Price: $ 12.4\n",
      "INFO:root:Fetching HTML page from URL \"https://finviz.com/quote.ashx?t=SBSW\".\n",
      "DEBUG:root:User agent override found in config. Using value \"PostmanRuntime/7.29.0\".\n",
      "DEBUG:urllib3.connectionpool:Starting new HTTPS connection (1): finviz.com:443\n",
      "DEBUG:urllib3.connectionpool:https://finviz.com:443 \"GET /quote.ashx?t=SBSW HTTP/1.1\" 200 None\n",
      "DEBUG:root:EPS: 2.69, EPS Next 5 Years: 0.0403%\n",
      "DEBUG:root:P/E Ratio: 8.77, Current Price: $ 10.4\n",
      "DEBUG:root:Intrinsic Value: $ 18.147153846153852 vs. Current Price: $ 10.4\n"
     ]
    },
    {
     "data": {
      "text/html": [
       "<div>\n",
       "<style scoped>\n",
       "    .dataframe tbody tr th:only-of-type {\n",
       "        vertical-align: middle;\n",
       "    }\n",
       "\n",
       "    .dataframe tbody tr th {\n",
       "        vertical-align: top;\n",
       "    }\n",
       "\n",
       "    .dataframe thead th {\n",
       "        text-align: right;\n",
       "    }\n",
       "</style>\n",
       "<table border=\"1\" class=\"dataframe\">\n",
       "  <thead>\n",
       "    <tr style=\"text-align: right;\">\n",
       "      <th></th>\n",
       "      <th>month</th>\n",
       "      <th>deposits_withdrawals</th>\n",
       "      <th>interest</th>\n",
       "      <th>total_deposits_withdrawals</th>\n",
       "      <th>accrued_interest</th>\n",
       "      <th>balance</th>\n",
       "    </tr>\n",
       "  </thead>\n",
       "  <tbody>\n",
       "    <tr>\n",
       "      <th>0</th>\n",
       "      <td>1</td>\n",
       "      <td>61.842919</td>\n",
       "      <td>0.023585</td>\n",
       "      <td>61.842919</td>\n",
       "      <td>6.236877e+00</td>\n",
       "      <td>3.262842e+02</td>\n",
       "    </tr>\n",
       "    <tr>\n",
       "      <th>1</th>\n",
       "      <td>2</td>\n",
       "      <td>61.842919</td>\n",
       "      <td>0.023436</td>\n",
       "      <td>123.685838</td>\n",
       "      <td>1.406721e+01</td>\n",
       "      <td>3.959574e+02</td>\n",
       "    </tr>\n",
       "    <tr>\n",
       "      <th>2</th>\n",
       "      <td>3</td>\n",
       "      <td>61.842919</td>\n",
       "      <td>0.023366</td>\n",
       "      <td>185.528757</td>\n",
       "      <td>2.354046e+01</td>\n",
       "      <td>4.672736e+02</td>\n",
       "    </tr>\n",
       "    <tr>\n",
       "      <th>3</th>\n",
       "      <td>4</td>\n",
       "      <td>61.842919</td>\n",
       "      <td>0.023341</td>\n",
       "      <td>247.371676</td>\n",
       "      <td>3.470787e+01</td>\n",
       "      <td>5.402839e+02</td>\n",
       "    </tr>\n",
       "    <tr>\n",
       "      <th>4</th>\n",
       "      <td>5</td>\n",
       "      <td>61.842919</td>\n",
       "      <td>0.023346</td>\n",
       "      <td>309.214595</td>\n",
       "      <td>4.762258e+01</td>\n",
       "      <td>6.150415e+02</td>\n",
       "    </tr>\n",
       "    <tr>\n",
       "      <th>...</th>\n",
       "      <td>...</td>\n",
       "      <td>...</td>\n",
       "      <td>...</td>\n",
       "      <td>...</td>\n",
       "      <td>...</td>\n",
       "      <td>...</td>\n",
       "    </tr>\n",
       "    <tr>\n",
       "      <th>355</th>\n",
       "      <td>356</td>\n",
       "      <td>61.842919</td>\n",
       "      <td>0.041390</td>\n",
       "      <td>22016.079159</td>\n",
       "      <td>1.476355e+09</td>\n",
       "      <td>1.476377e+09</td>\n",
       "    </tr>\n",
       "    <tr>\n",
       "      <th>356</th>\n",
       "      <td>357</td>\n",
       "      <td>61.842919</td>\n",
       "      <td>0.041391</td>\n",
       "      <td>22077.922078</td>\n",
       "      <td>1.540103e+09</td>\n",
       "      <td>1.540125e+09</td>\n",
       "    </tr>\n",
       "    <tr>\n",
       "      <th>357</th>\n",
       "      <td>358</td>\n",
       "      <td>61.842919</td>\n",
       "      <td>0.041393</td>\n",
       "      <td>22139.764997</td>\n",
       "      <td>1.606605e+09</td>\n",
       "      <td>1.606628e+09</td>\n",
       "    </tr>\n",
       "    <tr>\n",
       "      <th>358</th>\n",
       "      <td>359</td>\n",
       "      <td>61.842919</td>\n",
       "      <td>0.041394</td>\n",
       "      <td>22201.607916</td>\n",
       "      <td>1.675981e+09</td>\n",
       "      <td>1.676004e+09</td>\n",
       "    </tr>\n",
       "    <tr>\n",
       "      <th>359</th>\n",
       "      <td>360</td>\n",
       "      <td>61.842919</td>\n",
       "      <td>0.041395</td>\n",
       "      <td>22263.450835</td>\n",
       "      <td>1.748355e+09</td>\n",
       "      <td>1.748377e+09</td>\n",
       "    </tr>\n",
       "  </tbody>\n",
       "</table>\n",
       "<p>360 rows × 6 columns</p>\n",
       "</div>"
      ],
      "text/plain": [
       "     month  deposits_withdrawals  interest  total_deposits_withdrawals  \\\n",
       "0        1             61.842919  0.023585                   61.842919   \n",
       "1        2             61.842919  0.023436                  123.685838   \n",
       "2        3             61.842919  0.023366                  185.528757   \n",
       "3        4             61.842919  0.023341                  247.371676   \n",
       "4        5             61.842919  0.023346                  309.214595   \n",
       "..     ...                   ...       ...                         ...   \n",
       "355    356             61.842919  0.041390                22016.079159   \n",
       "356    357             61.842919  0.041391                22077.922078   \n",
       "357    358             61.842919  0.041393                22139.764997   \n",
       "358    359             61.842919  0.041394                22201.607916   \n",
       "359    360             61.842919  0.041395                22263.450835   \n",
       "\n",
       "     accrued_interest       balance  \n",
       "0        6.236877e+00  3.262842e+02  \n",
       "1        1.406721e+01  3.959574e+02  \n",
       "2        2.354046e+01  4.672736e+02  \n",
       "3        3.470787e+01  5.402839e+02  \n",
       "4        4.762258e+01  6.150415e+02  \n",
       "..                ...           ...  \n",
       "355      1.476355e+09  1.476377e+09  \n",
       "356      1.540103e+09  1.540125e+09  \n",
       "357      1.606605e+09  1.606628e+09  \n",
       "358      1.675981e+09  1.676004e+09  \n",
       "359      1.748355e+09  1.748377e+09  \n",
       "\n",
       "[360 rows x 6 columns]"
      ]
     },
     "execution_count": 19,
     "metadata": {},
     "output_type": "execute_result"
    }
   ],
   "source": [
    "annual_growth_rates: list = list()\n",
    "principal_values: list = list()\n",
    "monthly_deposits: list = list()\n",
    "\n",
    "for symbol in holdings:\n",
    "    company_name: str = holdings[symbol]['name']\n",
    "    symbol_valuation: ValuationResult = asset_valuation_engine.valuate(company_name=company_name, symbol=symbol)\n",
    "    annual_growth_rate: float = symbol_valuation.eps_five_years\n",
    "\n",
    "    if symbol_valuation.annual_dividend_percentage is not None:\n",
    "        annual_growth_rate += (symbol_valuation.annual_dividend_percentage / 100)\n",
    "\n",
    "    annual_growth_rates.append(annual_growth_rate)\n",
    "    principal_values.append(holdings[symbol]['total_current_usd'])\n",
    "    monthly_deposits.append((1000 / usd_zar_exchange_rate / len(holdings)))\n",
    "\n",
    "holdings_growth: pd.DataFrame = instance.project_monthly_holdings_growth(n_months=n_months,\n",
    "                                                                         annual_growth_rates=annual_growth_rates,\n",
    "                                                                         principal_values=principal_values,\n",
    "                                                                         monthly_deposits=monthly_deposits)\n",
    "\n",
    "holdings_growth"
   ]
  },
  {
   "cell_type": "code",
   "execution_count": 20,
   "metadata": {},
   "outputs": [
    {
     "name": "stdout",
     "output_type": "stream",
     "text": [
      "28.83 years to $1009233520.64.\n"
     ]
    }
   ],
   "source": [
    "over_1b = holdings_growth.loc[holdings_growth['balance'] > 1000000000]\n",
    "\n",
    "print(f'{round(over_1b.index[0] / 12, 2)} years to ${over_1b.iloc[0][\"balance\"]:.2f}.')"
   ]
  },
  {
   "cell_type": "code",
   "execution_count": 36,
   "metadata": {},
   "outputs": [
    {
     "data": {
      "text/html": [
       "<div>\n",
       "<style scoped>\n",
       "    .dataframe tbody tr th:only-of-type {\n",
       "        vertical-align: middle;\n",
       "    }\n",
       "\n",
       "    .dataframe tbody tr th {\n",
       "        vertical-align: top;\n",
       "    }\n",
       "\n",
       "    .dataframe thead th {\n",
       "        text-align: right;\n",
       "    }\n",
       "</style>\n",
       "<table border=\"1\" class=\"dataframe\">\n",
       "  <thead>\n",
       "    <tr style=\"text-align: right;\">\n",
       "      <th></th>\n",
       "      <th>Target Balance (USD)</th>\n",
       "      <th>ETA (Months)</th>\n",
       "      <th>ETA (Years)</th>\n",
       "    </tr>\n",
       "  </thead>\n",
       "  <tbody>\n",
       "    <tr>\n",
       "      <th>0</th>\n",
       "      <td>103148.27</td>\n",
       "      <td>123</td>\n",
       "      <td>10.250000</td>\n",
       "    </tr>\n",
       "    <tr>\n",
       "      <th>1</th>\n",
       "      <td>1014443.47</td>\n",
       "      <td>181</td>\n",
       "      <td>15.083333</td>\n",
       "    </tr>\n",
       "    <tr>\n",
       "      <th>2</th>\n",
       "      <td>10260911.67</td>\n",
       "      <td>237</td>\n",
       "      <td>19.750000</td>\n",
       "    </tr>\n",
       "    <tr>\n",
       "      <th>3</th>\n",
       "      <td>103299382.59</td>\n",
       "      <td>292</td>\n",
       "      <td>24.333333</td>\n",
       "    </tr>\n",
       "    <tr>\n",
       "      <th>4</th>\n",
       "      <td>1009233520.64</td>\n",
       "      <td>346</td>\n",
       "      <td>28.833333</td>\n",
       "    </tr>\n",
       "  </tbody>\n",
       "</table>\n",
       "</div>"
      ],
      "text/plain": [
       "  Target Balance (USD)  ETA (Months)  ETA (Years)\n",
       "0            103148.27           123    10.250000\n",
       "1           1014443.47           181    15.083333\n",
       "2          10260911.67           237    19.750000\n",
       "3         103299382.59           292    24.333333\n",
       "4        1009233520.64           346    28.833333"
      ]
     },
     "execution_count": 36,
     "metadata": {},
     "output_type": "execute_result"
    }
   ],
   "source": [
    "data = {\n",
    "    'Target Balance (USD)': list(),\n",
    "    'ETA (Months)': list(),\n",
    "    'ETA (Years)': list()\n",
    "}\n",
    "\n",
    "# $ 100 000\n",
    "hundred_thousand: int = holdings_growth.loc[holdings_growth['balance'] > 100*1000]\n",
    "\n",
    "data['Target Balance (USD)'].append(f'{hundred_thousand.iloc[0][\"balance\"]:.2f}')\n",
    "data['ETA (Months)'].append(hundred_thousand.index[0])\n",
    "data['ETA (Years)'].append(hundred_thousand.index[0] / 12)\n",
    "\n",
    "# 100 000 0\n",
    "million: int = holdings_growth.loc[holdings_growth['balance'] > 100*1000*10]\n",
    "\n",
    "data['Target Balance (USD)'].append(f'{million.iloc[0][\"balance\"]:.2f}')\n",
    "data['ETA (Months)'].append(million.index[0])\n",
    "data['ETA (Years)'].append(million.index[0] / 12)\n",
    "\n",
    "# 100 000 00\n",
    "ten_million: int = holdings_growth.loc[holdings_growth['balance'] > 100*1000*10*10]\n",
    "\n",
    "data['Target Balance (USD)'].append(f'{ten_million.iloc[0][\"balance\"]:.2f}')\n",
    "data['ETA (Months)'].append(ten_million.index[0])\n",
    "data['ETA (Years)'].append(ten_million.index[0] / 12)\n",
    "\n",
    "# 100 000 00\n",
    "hundred_million: int = holdings_growth.loc[holdings_growth['balance'] > 100*1000*10*100]\n",
    "\n",
    "data['Target Balance (USD)'].append(f'{hundred_million.iloc[0][\"balance\"]:.2f}')\n",
    "data['ETA (Months)'].append(hundred_million.index[0])\n",
    "data['ETA (Years)'].append(hundred_million.index[0] / 12)\n",
    "\n",
    "# 100 000 000\n",
    "billion: int = holdings_growth.loc[holdings_growth['balance'] > 100*1000*10*1000]\n",
    "\n",
    "data['Target Balance (USD)'].append(f'{billion.iloc[0][\"balance\"]:.2f}')\n",
    "data['ETA (Months)'].append(billion.index[0])\n",
    "data['ETA (Years)'].append(billion.index[0] / 12)\n",
    "\n",
    "pd.DataFrame(data)"
   ]
  },
  {
   "cell_type": "code",
   "execution_count": null,
   "metadata": {},
   "outputs": [],
   "source": []
  }
 ],
 "metadata": {
  "kernelspec": {
   "display_name": "Python 3.9.6 ('base')",
   "language": "python",
   "name": "python3"
  },
  "language_info": {
   "codemirror_mode": {
    "name": "ipython",
    "version": 3
   },
   "file_extension": ".py",
   "mimetype": "text/x-python",
   "name": "python",
   "nbconvert_exporter": "python",
   "pygments_lexer": "ipython3",
   "version": "3.9.6"
  },
  "orig_nbformat": 4,
  "vscode": {
   "interpreter": {
    "hash": "5127a938f461bf317bd7623bbe805ae2164d41f741befc8d5975541320c15407"
   }
  }
 },
 "nbformat": 4,
 "nbformat_minor": 2
}
