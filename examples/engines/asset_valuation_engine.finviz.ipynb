{
 "cells": [
  {
   "cell_type": "markdown",
   "metadata": {},
   "source": [
    "# Install Dependencies"
   ]
  },
  {
   "cell_type": "markdown",
   "metadata": {},
   "source": [
    "## External Dependencies"
   ]
  },
  {
   "cell_type": "code",
   "execution_count": 1,
   "metadata": {},
   "outputs": [],
   "source": [
    "#!pip install pip"
   ]
  },
  {
   "cell_type": "markdown",
   "metadata": {},
   "source": [
    "## FrostAura Dependencies"
   ]
  },
  {
   "cell_type": "code",
   "execution_count": 2,
   "metadata": {},
   "outputs": [
    {
     "name": "stdout",
     "output_type": "stream",
     "text": [
      "\u001b[33mWARNING: Skipping frostaura as it is not installed.\u001b[0m\u001b[33m\n",
      "\u001b[0mNote: you may need to restart the kernel to use updated packages.\n"
     ]
    }
   ],
   "source": [
    "import os\n",
    "import sys\n",
    "\n",
    "USE_LOCAL_CODE: bool = True # NOTE: When changing this configuration, be sure to restart the interpreter in order to have sys path updates reflect.\n",
    "directories_to_move_up: int = 2\n",
    "current_executing_path: str = os.getcwd()\n",
    "current_executing_path = current_executing_path.replace('\\\\', '/')\n",
    "root_path: str = '/'.join(current_executing_path.split('/')[:-directories_to_move_up])\n",
    "\n",
    "# Clean up.\n",
    "%pip uninstall frostaura -y\n",
    "sys.path = [p for p in sys.path if p != root_path]\n",
    "\n",
    "if USE_LOCAL_CODE:\n",
    "    sys.path.append(root_path)\n",
    "else:\n",
    "    %pip install -U --no-cache-dir frostaura"
   ]
  },
  {
   "cell_type": "markdown",
   "metadata": {},
   "source": [
    "# Import Dependencies"
   ]
  },
  {
   "cell_type": "code",
   "execution_count": 3,
   "metadata": {},
   "outputs": [],
   "source": [
    "\n",
    "from frostaura.engines import IAssetValuationEngine\n",
    "from frostaura.engines import FinvizAssetValuationEngine\n",
    "from frostaura.data_access import IResourcesDataAccess\n",
    "from frostaura.data_access import HtmlResourcesDataAccess\n",
    "from frostaura.models import ValuationResult"
   ]
  },
  {
   "cell_type": "markdown",
   "metadata": {},
   "source": [
    "## Logging"
   ]
  },
  {
   "cell_type": "code",
   "execution_count": 4,
   "metadata": {},
   "outputs": [],
   "source": [
    "import logging\n",
    "\n",
    "logging.basicConfig(level=logging.DEBUG)"
   ]
  },
  {
   "cell_type": "markdown",
   "metadata": {},
   "source": [
    "# Usage"
   ]
  },
  {
   "cell_type": "code",
   "execution_count": 5,
   "metadata": {},
   "outputs": [],
   "source": [
    "html_data_access: IResourcesDataAccess = HtmlResourcesDataAccess()\n",
    "instance: IAssetValuationEngine = FinvizAssetValuationEngine(html_data_access=html_data_access)"
   ]
  },
  {
   "cell_type": "code",
   "execution_count": 6,
   "metadata": {},
   "outputs": [
    {
     "name": "stderr",
     "output_type": "stream",
     "text": [
      "INFO:root:Fetching HTML page from URL \"https://finviz.com/quote.ashx?t=AAPL\".\n",
      "DEBUG:root:No key \"user-agent\" found in config. Defaulting to user agent value \"PostmanRuntime/7.29.0\".\n",
      "DEBUG:urllib3.connectionpool:Starting new HTTPS connection (1): finviz.com:443\n",
      "DEBUG:urllib3.connectionpool:https://finviz.com:443 \"GET /quote.ashx?t=AAPL HTTP/1.1\" 200 None\n",
      "DEBUG:root:EPS: 6.05, EPS Next 5 Years: 0.0983%\n",
      "DEBUG:root:P/E Ratio: 28.59, Current Price: $ 173.03\n",
      "DEBUG:root:Intrinsic Value: $ 133.05346153846153 vs. Current Price: $ 173.03\n",
      "DEBUG:urllib3.connectionpool:Starting new HTTPS connection (1): query1.finance.yahoo.com:443\n",
      "DEBUG:urllib3.connectionpool:https://query1.finance.yahoo.com:443 \"GET /v7/finance/download/AAPL?period1=1502928000&period2=1660740216&interval=1d&events=div&includeAdjustedClose=true HTTP/1.1\" 200 414\n"
     ]
    },
    {
     "data": {
      "text/plain": [
       "{'symbol': 'AAPL',\n",
       " 'company_name': 'Apple Inc.',\n",
       " 'current_price': 173.03,\n",
       " 'valuation_price': 133.05346153846153,\n",
       " 'absolute_current_v_valuation_delta': 0.23103819257665414,\n",
       " 'is_overvalued': True,\n",
       " 'annual_dividend_percentage': 0.53,\n",
       " 'eps_ttm': 6.05,\n",
       " 'eps_five_years': 0.0983,\n",
       " 'pe_ratio': 28.59,\n",
       " 'divident_payout_frequency_in_months': 3}"
      ]
     },
     "execution_count": 6,
     "metadata": {},
     "output_type": "execute_result"
    }
   ],
   "source": [
    "valuation: ValuationResult = instance.valuate(symbol='AAPL')\n",
    "\n",
    "vars(valuation)"
   ]
  }
 ],
 "metadata": {
  "kernelspec": {
   "display_name": "Python 3.9.7 ('tensorflow-apple-metal')",
   "language": "python",
   "name": "python3"
  },
  "language_info": {
   "codemirror_mode": {
    "name": "ipython",
    "version": 3
   },
   "file_extension": ".py",
   "mimetype": "text/x-python",
   "name": "python",
   "nbconvert_exporter": "python",
   "pygments_lexer": "ipython3",
   "version": "3.9.7"
  },
  "orig_nbformat": 4,
  "vscode": {
   "interpreter": {
    "hash": "f237d2a9665fb481726a5cf6ceac5955148535d2fa68bde4e6b3866477620792"
   }
  }
 },
 "nbformat": 4,
 "nbformat_minor": 2
}
