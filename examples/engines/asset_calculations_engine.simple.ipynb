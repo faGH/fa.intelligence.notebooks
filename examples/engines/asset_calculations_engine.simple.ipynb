{
 "cells": [
  {
   "cell_type": "markdown",
   "metadata": {},
   "source": [
    "# Install Dependencies"
   ]
  },
  {
   "cell_type": "markdown",
   "metadata": {},
   "source": [
    "## External Dependencies"
   ]
  },
  {
   "cell_type": "code",
   "execution_count": 1,
   "metadata": {},
   "outputs": [
    {
     "name": "stdout",
     "output_type": "stream",
     "text": [
      "Requirement already satisfied: pandas in /Users/deanmartin/miniforge3/lib/python3.9/site-packages (1.3.3)\n",
      "Requirement already satisfied: numpy>=1.17.3 in /Users/deanmartin/miniforge3/lib/python3.9/site-packages (from pandas) (1.22.1)\n",
      "Requirement already satisfied: python-dateutil>=2.7.3 in /Users/deanmartin/miniforge3/lib/python3.9/site-packages (from pandas) (2.8.2)\n",
      "Requirement already satisfied: pytz>=2017.3 in /Users/deanmartin/miniforge3/lib/python3.9/site-packages (from pandas) (2022.1)\n",
      "Requirement already satisfied: six>=1.5 in /Users/deanmartin/miniforge3/lib/python3.9/site-packages (from python-dateutil>=2.7.3->pandas) (1.16.0)\n"
     ]
    }
   ],
   "source": [
    "!pip install pandas"
   ]
  },
  {
   "cell_type": "markdown",
   "metadata": {},
   "source": [
    "## FrostAura Dependencies"
   ]
  },
  {
   "cell_type": "code",
   "execution_count": 2,
   "metadata": {},
   "outputs": [
    {
     "name": "stdout",
     "output_type": "stream",
     "text": [
      "\u001b[33mWARNING: Skipping frostaura as it is not installed.\u001b[0m\u001b[33m\n",
      "\u001b[0mNote: you may need to restart the kernel to use updated packages.\n"
     ]
    }
   ],
   "source": [
    "import os\n",
    "import sys\n",
    "\n",
    "USE_LOCAL_CODE: bool = True # NOTE: When changing this configuration, be sure to restart the interpreter in order to have sys path updates reflect.\n",
    "directories_to_move_up: int = 2\n",
    "current_executing_path: str = os.getcwd()\n",
    "current_executing_path = current_executing_path.replace('\\\\', '/')\n",
    "root_path: str = '/'.join(current_executing_path.split('/')[:-directories_to_move_up])\n",
    "\n",
    "# Clean up.\n",
    "%pip uninstall frostaura -y\n",
    "sys.path = [p for p in sys.path if p != root_path]\n",
    "\n",
    "if USE_LOCAL_CODE:\n",
    "    sys.path.append(root_path)\n",
    "else:\n",
    "    %pip install -U --no-cache-dir frostaura"
   ]
  },
  {
   "cell_type": "markdown",
   "metadata": {},
   "source": [
    "## Logging"
   ]
  },
  {
   "cell_type": "code",
   "execution_count": 3,
   "metadata": {},
   "outputs": [],
   "source": [
    "import logging\n",
    "\n",
    "logging.basicConfig(level=logging.DEBUG)"
   ]
  },
  {
   "cell_type": "markdown",
   "metadata": {},
   "source": [
    "# Import Dependencies"
   ]
  },
  {
   "cell_type": "code",
   "execution_count": 4,
   "metadata": {},
   "outputs": [],
   "source": [
    "from frostaura.engines import IAssetCalculationsEngine\n",
    "from frostaura.engines import SimpleAssetCalculationsEngine\n",
    "from frostaura.data_access import IResourcesDataAccess\n",
    "from frostaura.data_access import EmbeddedResourcesDataAccess\n",
    "from frostaura.data_access import IPersonalAssetDataAccess\n",
    "from frostaura.data_access import EasyEquitiesPersonalAssetDataAccess\n",
    "from frostaura.data_access import IPublicAssetDataAccess\n",
    "from frostaura.data_access import YahooFinanceDataAccess"
   ]
  },
  {
   "cell_type": "markdown",
   "metadata": {},
   "source": [
    "# Usage"
   ]
  },
  {
   "cell_type": "code",
   "execution_count": 5,
   "metadata": {},
   "outputs": [],
   "source": [
    "public_asset_data_access: IPublicAssetDataAccess = YahooFinanceDataAccess()\n",
    "instance: IAssetCalculationsEngine = SimpleAssetCalculationsEngine(public_asset_data_access=public_asset_data_access)\n",
    "resource_data_access: IResourcesDataAccess = EmbeddedResourcesDataAccess()\n",
    "personal_asset_data_access: IPersonalAssetDataAccess = EasyEquitiesPersonalAssetDataAccess(resource_data_access=resource_data_access,\n",
    "                                                                         username=None,\n",
    "                                                                         password=None)\n",
    "holdings: list = personal_asset_data_access.get_personal_transactions()"
   ]
  },
  {
   "cell_type": "code",
   "execution_count": 6,
   "metadata": {},
   "outputs": [
    {
     "name": "stderr",
     "output_type": "stream",
     "text": [
      "DEBUG:root:Calculating profit for asset \"TSLA\".\n",
      "INFO:root:Fetching historical price movements for symbol \"TSLA\".\n",
      "DEBUG:urllib3.connectionpool:Starting new HTTPS connection (1): query2.finance.yahoo.com:443\n",
      "DEBUG:urllib3.connectionpool:https://query2.finance.yahoo.com:443 \"GET /v8/finance/chart/TSLA?period1=-631159200&period2=1660256995&interval=1d&includePrePost=False&events=div%2Csplits HTTP/1.1\" 200 None\n",
      "DEBUG:root:[TSLA] Processing transaction value $0.0688 on 2022-07-28 00:00:00.\n",
      "DEBUG:root:Calculating profit for asset \"AAPL\".\n",
      "INFO:root:Fetching historical price movements for symbol \"AAPL\".\n",
      "DEBUG:urllib3.connectionpool:Starting new HTTPS connection (1): query2.finance.yahoo.com:443\n",
      "DEBUG:urllib3.connectionpool:https://query2.finance.yahoo.com:443 \"GET /v8/finance/chart/AAPL?period1=-631159200&period2=1660256996&interval=1d&includePrePost=False&events=div%2Csplits HTTP/1.1\" 200 None\n",
      "DEBUG:root:[AAPL] Processing transaction value $0.4317 on 2022-07-01 00:00:00.\n",
      "DEBUG:root:Calculating profit for asset \"DDD\".\n",
      "INFO:root:Fetching historical price movements for symbol \"DDD\".\n",
      "DEBUG:urllib3.connectionpool:Starting new HTTPS connection (1): query2.finance.yahoo.com:443\n",
      "DEBUG:urllib3.connectionpool:https://query2.finance.yahoo.com:443 \"GET /v8/finance/chart/DDD?period1=-631159200&period2=1660256998&interval=1d&includePrePost=False&events=div%2Csplits HTTP/1.1\" 200 None\n",
      "DEBUG:root:[DDD] Processing transaction value $8.8925 on 2022-08-05 00:00:00.\n",
      "DEBUG:root:Calculating profit for asset \"SBSW\".\n",
      "INFO:root:Fetching historical price movements for symbol \"SBSW\".\n",
      "DEBUG:urllib3.connectionpool:Starting new HTTPS connection (1): query2.finance.yahoo.com:443\n",
      "DEBUG:urllib3.connectionpool:https://query2.finance.yahoo.com:443 \"GET /v8/finance/chart/SBSW?period1=-631159200&period2=1660256999&interval=1d&includePrePost=False&events=div%2Csplits HTTP/1.1\" 200 None\n",
      "DEBUG:root:[SBSW] Processing transaction value $1.1265 on 2022-08-05 00:00:00.\n"
     ]
    },
    {
     "data": {
      "text/plain": [
       "{'TSLA': {'name': 'Tesla Inc.',\n",
       "  'symbol': 'TSLA',\n",
       "  'transactions': [{'value': 0.0688,\n",
       "    'date': datetime.datetime(2022, 7, 28, 0, 0),\n",
       "    'usd': 57.97776083984375}],\n",
       "  'total_purchased_usd': 57.97776083984375,\n",
       "  'total_purchased_shares': 0.0688,\n",
       "  'total_current_usd': 59.1604330078125,\n",
       "  'total_profit_ratio': 1.999093157098042,\n",
       "  'total_profit_usd': 1.1826721679687537},\n",
       " 'AAPL': {'name': 'Apple Inc.',\n",
       "  'symbol': 'AAPL',\n",
       "  'transactions': [{'value': 0.4317,\n",
       "    'date': datetime.datetime(2022, 7, 1, 0, 0),\n",
       "    'usd': 59.89288125915527}],\n",
       "  'total_purchased_usd': 59.89288125915527,\n",
       "  'total_purchased_shares': 0.4317,\n",
       "  'total_current_usd': 72.73713537139892,\n",
       "  'total_profit_ratio': 17.658454717332962,\n",
       "  'total_profit_usd': 12.844254112243654},\n",
       " 'DDD': {'name': '3D Systems Corporation',\n",
       "  'symbol': 'DDD',\n",
       "  'transactions': [{'value': 8.8925,\n",
       "    'date': datetime.datetime(2022, 8, 5, 0, 0),\n",
       "    'usd': 112.13442194700241}],\n",
       "  'total_purchased_usd': 112.13442194700241,\n",
       "  'total_purchased_shares': 8.8925,\n",
       "  'total_current_usd': 107.77709898233414,\n",
       "  'total_profit_ratio': 3.8858032074465476,\n",
       "  'total_profit_usd': -4.3573229646682705},\n",
       " 'SBSW': {'name': 'Sibanye Stillwater Ltd',\n",
       "  'symbol': 'SBSW',\n",
       "  'transactions': [{'value': 1.1265,\n",
       "    'date': datetime.datetime(2022, 8, 5, 0, 0),\n",
       "    'usd': 11.501565042972565}],\n",
       "  'total_purchased_usd': 11.501565042972565,\n",
       "  'total_purchased_shares': 1.1265,\n",
       "  'total_current_usd': 11.839515257835389,\n",
       "  'total_profit_ratio': 2.854426110386299,\n",
       "  'total_profit_usd': 0.33795021486282373}}"
      ]
     },
     "execution_count": 6,
     "metadata": {},
     "output_type": "execute_result"
    }
   ],
   "source": [
    "instance.interpolate_holdings_profits(holdings=holdings)"
   ]
  },
  {
   "cell_type": "code",
   "execution_count": 7,
   "metadata": {},
   "outputs": [
    {
     "name": "stderr",
     "output_type": "stream",
     "text": [
      "DEBUG:root:Calculating overall holdings profits.\n",
      "DEBUG:root:Calculating profit for asset \"TSLA\".\n",
      "INFO:root:Fetching historical price movements for symbol \"TSLA\".\n",
      "DEBUG:urllib3.connectionpool:Starting new HTTPS connection (1): query2.finance.yahoo.com:443\n",
      "DEBUG:urllib3.connectionpool:https://query2.finance.yahoo.com:443 \"GET /v8/finance/chart/TSLA?period1=-631159200&period2=1660257000&interval=1d&includePrePost=False&events=div%2Csplits HTTP/1.1\" 200 None\n",
      "DEBUG:root:[TSLA] Processing transaction value $0.0688 on 2022-07-28 00:00:00.\n",
      "DEBUG:root:Calculating profit for asset \"AAPL\".\n",
      "INFO:root:Fetching historical price movements for symbol \"AAPL\".\n",
      "DEBUG:urllib3.connectionpool:Starting new HTTPS connection (1): query2.finance.yahoo.com:443\n",
      "DEBUG:urllib3.connectionpool:https://query2.finance.yahoo.com:443 \"GET /v8/finance/chart/AAPL?period1=-631159200&period2=1660257001&interval=1d&includePrePost=False&events=div%2Csplits HTTP/1.1\" 200 None\n",
      "DEBUG:root:[AAPL] Processing transaction value $0.4317 on 2022-07-01 00:00:00.\n",
      "DEBUG:root:Calculating profit for asset \"DDD\".\n",
      "INFO:root:Fetching historical price movements for symbol \"DDD\".\n",
      "DEBUG:urllib3.connectionpool:Starting new HTTPS connection (1): query2.finance.yahoo.com:443\n",
      "DEBUG:urllib3.connectionpool:https://query2.finance.yahoo.com:443 \"GET /v8/finance/chart/DDD?period1=-631159200&period2=1660257002&interval=1d&includePrePost=False&events=div%2Csplits HTTP/1.1\" 200 None\n",
      "DEBUG:root:[DDD] Processing transaction value $8.8925 on 2022-08-05 00:00:00.\n",
      "DEBUG:root:Calculating profit for asset \"SBSW\".\n",
      "INFO:root:Fetching historical price movements for symbol \"SBSW\".\n",
      "DEBUG:urllib3.connectionpool:Starting new HTTPS connection (1): query2.finance.yahoo.com:443\n",
      "DEBUG:urllib3.connectionpool:https://query2.finance.yahoo.com:443 \"GET /v8/finance/chart/SBSW?period1=-631159200&period2=1660257004&interval=1d&includePrePost=False&events=div%2Csplits HTTP/1.1\" 200 None\n",
      "DEBUG:root:[SBSW] Processing transaction value $1.1265 on 2022-08-05 00:00:00.\n"
     ]
    },
    {
     "name": "stdout",
     "output_type": "stream",
     "text": [
      "{'percentage': 3.9789221530904584, 'value': 10.007553530406938}\n"
     ]
    }
   ],
   "source": [
    "print(vars(instance.calculate_holdings_profit(holdings=holdings)))"
   ]
  },
  {
   "cell_type": "code",
   "execution_count": 12,
   "metadata": {},
   "outputs": [],
   "source": [
    "logging.basicConfig(level=logging.CRITICAL)"
   ]
  },
  {
   "cell_type": "code",
   "execution_count": 13,
   "metadata": {},
   "outputs": [
    {
     "data": {
      "image/png": "[encoded data removed]",
      "text/plain": [
       "<Figure size 432x288 with 1 Axes>"
      ]
     },
     "metadata": {},
     "output_type": "display_data"
    }
   ],
   "source": [
    "import matplotlib.pyplot as plt\n",
    "import numpy as np\n",
    "\n",
    "holding_ratios = instance.calculate_holdings_ratios(holdings=holdings)\n",
    "labels: list = [k for k in holding_ratios]\n",
    "ratios: list = [holding_ratios[k] for k in holding_ratios]\n",
    "\n",
    "plt.pie(ratios, labels=labels)\n",
    "plt.show() "
   ]
  },
  {
   "cell_type": "code",
   "execution_count": null,
   "metadata": {},
   "outputs": [],
   "source": []
  }
 ],
 "metadata": {
  "kernelspec": {
   "display_name": "Python 3.9.6 ('base')",
   "language": "python",
   "name": "python3"
  },
  "language_info": {
   "codemirror_mode": {
    "name": "ipython",
    "version": 3
   },
   "file_extension": ".py",
   "mimetype": "text/x-python",
   "name": "python",
   "nbconvert_exporter": "python",
   "pygments_lexer": "ipython3",
   "version": "3.9.6"
  },
  "orig_nbformat": 4,
  "vscode": {
   "interpreter": {
    "hash": "5127a938f461bf317bd7623bbe805ae2164d41f741befc8d5975541320c15407"
   }
  }
 },
 "nbformat": 4,
 "nbformat_minor": 2
}
