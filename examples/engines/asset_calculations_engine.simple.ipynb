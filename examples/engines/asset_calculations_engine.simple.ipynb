{
 "cells": [
  {
   "cell_type": "markdown",
   "metadata": {},
   "source": [
    "# Install Dependencies"
   ]
  },
  {
   "cell_type": "markdown",
   "metadata": {},
   "source": [
    "## External Dependencies"
   ]
  },
  {
   "cell_type": "code",
   "execution_count": 1,
   "metadata": {},
   "outputs": [
    {
     "name": "stdout",
     "output_type": "stream",
     "text": [
      "Requirement already satisfied: pandas in /Users/deanmartin/miniforge3/envs/tensorflow-apple-metal/lib/python3.9/site-packages (1.3.3)\n",
      "Requirement already satisfied: numpy>=1.17.3 in /Users/deanmartin/miniforge3/envs/tensorflow-apple-metal/lib/python3.9/site-packages (from pandas) (1.22.1)\n",
      "Requirement already satisfied: python-dateutil>=2.7.3 in /Users/deanmartin/miniforge3/envs/tensorflow-apple-metal/lib/python3.9/site-packages (from pandas) (2.8.2)\n",
      "Requirement already satisfied: pytz>=2017.3 in /Users/deanmartin/miniforge3/envs/tensorflow-apple-metal/lib/python3.9/site-packages (from pandas) (2022.1)\n",
      "Requirement already satisfied: six>=1.5 in /Users/deanmartin/miniforge3/envs/tensorflow-apple-metal/lib/python3.9/site-packages (from python-dateutil>=2.7.3->pandas) (1.15.0)\n",
      "\n",
      "\u001b[1m[\u001b[0m\u001b[34;49mnotice\u001b[0m\u001b[1;39;49m]\u001b[0m\u001b[39;49m A new release of pip available: \u001b[0m\u001b[31;49m22.2.1\u001b[0m\u001b[39;49m -> \u001b[0m\u001b[32;49m22.2.2\u001b[0m\n",
      "\u001b[1m[\u001b[0m\u001b[34;49mnotice\u001b[0m\u001b[1;39;49m]\u001b[0m\u001b[39;49m To update, run: \u001b[0m\u001b[32;49mpip install --upgrade pip\u001b[0m\n"
     ]
    }
   ],
   "source": [
    "!pip install pandas"
   ]
  },
  {
   "cell_type": "markdown",
   "metadata": {},
   "source": [
    "## FrostAura Dependencies"
   ]
  },
  {
   "cell_type": "code",
   "execution_count": 2,
   "metadata": {},
   "outputs": [
    {
     "name": "stdout",
     "output_type": "stream",
     "text": [
      "\u001b[33mWARNING: Skipping frostaura as it is not installed.\u001b[0m\u001b[33m\n",
      "\u001b[0mNote: you may need to restart the kernel to use updated packages.\n"
     ]
    }
   ],
   "source": [
    "import os\n",
    "import sys\n",
    "\n",
    "USE_LOCAL_CODE: bool = True # NOTE: When changing this configuration, be sure to restart the interpreter in order to have sys path updates reflect.\n",
    "directories_to_move_up: int = 2\n",
    "current_executing_path: str = os.getcwd()\n",
    "current_executing_path = current_executing_path.replace('\\\\', '/')\n",
    "root_path: str = '/'.join(current_executing_path.split('/')[:-directories_to_move_up])\n",
    "\n",
    "# Clean up.\n",
    "%pip uninstall frostaura -y\n",
    "sys.path = [p for p in sys.path if p != root_path]\n",
    "\n",
    "if USE_LOCAL_CODE:\n",
    "    sys.path.append(root_path)\n",
    "else:\n",
    "    %pip install -U --no-cache-dir frostaura"
   ]
  },
  {
   "cell_type": "markdown",
   "metadata": {},
   "source": [
    "# Import Dependencies"
   ]
  },
  {
   "cell_type": "code",
   "execution_count": 3,
   "metadata": {},
   "outputs": [],
   "source": [
    "\n",
    "from frostaura.engines import IAssetCalculationsEngine\n",
    "from frostaura.engines import SimpleAssetCalculationsEngine\n",
    "from frostaura.data_access import IResourcesDataAccess\n",
    "from frostaura.data_access import EmbeddedResourcesDataAccess\n",
    "from frostaura.data_access import IPersonalAssetDataAccess\n",
    "from frostaura.data_access import EasyEquitiesPersonalAssetDataAccess\n",
    "from frostaura.data_access import IPublicAssetDataAccess\n",
    "from frostaura.data_access import YahooFinanceDataAccess\n",
    "import pandas as pd"
   ]
  },
  {
   "cell_type": "markdown",
   "metadata": {},
   "source": [
    "# Usage"
   ]
  },
  {
   "cell_type": "code",
   "execution_count": 4,
   "metadata": {},
   "outputs": [],
   "source": [
    "public_asset_data_access: IPublicAssetDataAccess = YahooFinanceDataAccess()\n",
    "instance: IAssetCalculationsEngine = SimpleAssetCalculationsEngine(public_asset_data_access=public_asset_data_access)\n",
    "resource_data_access: IResourcesDataAccess = EmbeddedResourcesDataAccess()\n",
    "personal_asset_data_access: IPersonalAssetDataAccess = EasyEquitiesPersonalAssetDataAccess(resource_data_access=resource_data_access,\n",
    "                                                                         username=None,\n",
    "                                                                         password=None)\n",
    "holdings: pd.DataFrame = personal_asset_data_access.get_personal_transactions()"
   ]
  },
  {
   "cell_type": "code",
   "execution_count": 5,
   "metadata": {},
   "outputs": [
    {
     "name": "stderr",
     "output_type": "stream",
     "text": [
      "WARNING:root:No item with the key \"DDD-history\" existed in the cache.\n",
      "WARNING:root:No item with the key \"SBSW-history\" existed in the cache.\n",
      "WARNING:root:No item with the key \"TSLA-history\" existed in the cache.\n",
      "WARNING:root:No item with the key \"AAPL-history\" existed in the cache.\n",
      "WARNING:root:No item with the key \"SPY-history\" existed in the cache.\n"
     ]
    },
    {
     "data": {
      "text/html": [
       "<div>\n",
       "<style scoped>\n",
       "    .dataframe tbody tr th:only-of-type {\n",
       "        vertical-align: middle;\n",
       "    }\n",
       "\n",
       "    .dataframe tbody tr th {\n",
       "        vertical-align: top;\n",
       "    }\n",
       "\n",
       "    .dataframe thead th {\n",
       "        text-align: right;\n",
       "    }\n",
       "</style>\n",
       "<table border=\"1\" class=\"dataframe\">\n",
       "  <thead>\n",
       "    <tr style=\"text-align: right;\">\n",
       "      <th></th>\n",
       "      <th>symbol</th>\n",
       "      <th>name</th>\n",
       "      <th>total_purchased_usd</th>\n",
       "      <th>total_purchased_shares</th>\n",
       "      <th>total_current_usd</th>\n",
       "      <th>total_profit_ratio</th>\n",
       "      <th>total_profit_usd</th>\n",
       "      <th>ratio</th>\n",
       "    </tr>\n",
       "  </thead>\n",
       "  <tbody>\n",
       "    <tr>\n",
       "      <th>0</th>\n",
       "      <td>DDD</td>\n",
       "      <td>3D Systems Corporation</td>\n",
       "      <td>198.531842</td>\n",
       "      <td>16.5052</td>\n",
       "      <td>170.828826</td>\n",
       "      <td>13.953941</td>\n",
       "      <td>-27.703016</td>\n",
       "      <td>0.514365</td>\n",
       "    </tr>\n",
       "    <tr>\n",
       "      <th>1</th>\n",
       "      <td>SBSW</td>\n",
       "      <td>Sibanye Stillwater Ltd</td>\n",
       "      <td>73.873876</td>\n",
       "      <td>7.6508</td>\n",
       "      <td>76.125459</td>\n",
       "      <td>2.957726</td>\n",
       "      <td>2.251583</td>\n",
       "      <td>0.191396</td>\n",
       "    </tr>\n",
       "    <tr>\n",
       "      <th>2</th>\n",
       "      <td>TSLA</td>\n",
       "      <td>Tesla Inc.</td>\n",
       "      <td>19.325920</td>\n",
       "      <td>0.0688</td>\n",
       "      <td>19.820592</td>\n",
       "      <td>2.495749</td>\n",
       "      <td>0.494672</td>\n",
       "      <td>0.050070</td>\n",
       "    </tr>\n",
       "    <tr>\n",
       "      <th>3</th>\n",
       "      <td>AAPL</td>\n",
       "      <td>Apple Inc.</td>\n",
       "      <td>59.976078</td>\n",
       "      <td>0.4317</td>\n",
       "      <td>70.634752</td>\n",
       "      <td>15.089844</td>\n",
       "      <td>10.658674</td>\n",
       "      <td>0.155389</td>\n",
       "    </tr>\n",
       "    <tr>\n",
       "      <th>4</th>\n",
       "      <td>SPY</td>\n",
       "      <td>SPDR S&amp;P 500 ETF</td>\n",
       "      <td>34.266716</td>\n",
       "      <td>0.0829</td>\n",
       "      <td>33.600199</td>\n",
       "      <td>1.945085</td>\n",
       "      <td>-0.666517</td>\n",
       "      <td>0.088780</td>\n",
       "    </tr>\n",
       "  </tbody>\n",
       "</table>\n",
       "</div>"
      ],
      "text/plain": [
       "  symbol                    name  total_purchased_usd  total_purchased_shares  \\\n",
       "0    DDD  3D Systems Corporation           198.531842                 16.5052   \n",
       "1   SBSW  Sibanye Stillwater Ltd            73.873876                  7.6508   \n",
       "2   TSLA              Tesla Inc.            19.325920                  0.0688   \n",
       "3   AAPL              Apple Inc.            59.976078                  0.4317   \n",
       "4    SPY        SPDR S&P 500 ETF            34.266716                  0.0829   \n",
       "\n",
       "   total_current_usd  total_profit_ratio  total_profit_usd     ratio  \n",
       "0         170.828826           13.953941        -27.703016  0.514365  \n",
       "1          76.125459            2.957726          2.251583  0.191396  \n",
       "2          19.820592            2.495749          0.494672  0.050070  \n",
       "3          70.634752           15.089844         10.658674  0.155389  \n",
       "4          33.600199            1.945085         -0.666517  0.088780  "
      ]
     },
     "execution_count": 5,
     "metadata": {},
     "output_type": "execute_result"
    }
   ],
   "source": [
    "holdings_profits: pd.DataFrame = instance.calculate_holdings_profits(holdings=holdings)\n",
    "\n",
    "holdings_profits"
   ]
  },
  {
   "cell_type": "code",
   "execution_count": 6,
   "metadata": {},
   "outputs": [
    {
     "name": "stdout",
     "output_type": "stream",
     "text": [
      "{'percentage': 3.87709709679408, 'value': -14.9646034479141}\n"
     ]
    }
   ],
   "source": [
    "print(vars(instance.calculate_holdings_profit(holdings=holdings)))"
   ]
  }
 ],
 "metadata": {
  "kernelspec": {
   "display_name": "Python 3.9.7 ('tensorflow-apple-metal')",
   "language": "python",
   "name": "python3"
  },
  "language_info": {
   "codemirror_mode": {
    "name": "ipython",
    "version": 3
   },
   "file_extension": ".py",
   "mimetype": "text/x-python",
   "name": "python",
   "nbconvert_exporter": "python",
   "pygments_lexer": "ipython3",
   "version": "3.9.7"
  },
  "orig_nbformat": 4,
  "vscode": {
   "interpreter": {
    "hash": "f237d2a9665fb481726a5cf6ceac5955148535d2fa68bde4e6b3866477620792"
   }
  }
 },
 "nbformat": 4,
 "nbformat_minor": 2
}
