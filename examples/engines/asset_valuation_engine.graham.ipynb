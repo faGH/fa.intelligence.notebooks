{
 "cells": [
  {
   "cell_type": "markdown",
   "metadata": {},
   "source": [
    "# Install Dependencies"
   ]
  },
  {
   "cell_type": "markdown",
   "metadata": {},
   "source": [
    "## External Dependencies"
   ]
  },
  {
   "cell_type": "code",
   "execution_count": 1,
   "metadata": {},
   "outputs": [],
   "source": [
    "#!pip install pip"
   ]
  },
  {
   "cell_type": "markdown",
   "metadata": {},
   "source": [
    "## FrostAura Dependencies"
   ]
  },
  {
   "cell_type": "code",
   "execution_count": 2,
   "metadata": {},
   "outputs": [
    {
     "name": "stdout",
     "output_type": "stream",
     "text": [
      "Note: you may need to restart the kernel to use updated packages.\n"
     ]
    },
    {
     "name": "stderr",
     "output_type": "stream",
     "text": [
      "WARNING: Ignoring invalid distribution -ymupdf (c:\\users\\divanma\\.conda\\envs\\windows-ml-station\\lib\\site-packages)\n",
      "WARNING: Ignoring invalid distribution -illow (c:\\users\\divanma\\.conda\\envs\\windows-ml-station\\lib\\site-packages)\n",
      "WARNING: Ignoring invalid distribution -atplotlib (c:\\users\\divanma\\.conda\\envs\\windows-ml-station\\lib\\site-packages)\n",
      "WARNING: Ignoring invalid distribution -ymupdf (c:\\users\\divanma\\.conda\\envs\\windows-ml-station\\lib\\site-packages)\n",
      "WARNING: Ignoring invalid distribution -illow (c:\\users\\divanma\\.conda\\envs\\windows-ml-station\\lib\\site-packages)\n",
      "WARNING: Ignoring invalid distribution -atplotlib (c:\\users\\divanma\\.conda\\envs\\windows-ml-station\\lib\\site-packages)\n",
      "WARNING: Skipping frostaura as it is not installed.\n"
     ]
    }
   ],
   "source": [
    "import os\n",
    "import sys\n",
    "\n",
    "USE_LOCAL_CODE: bool = True # NOTE: When changing this configuration, be sure to restart the interpreter in order to have sys path updates reflect.\n",
    "directories_to_move_up: int = 2\n",
    "current_executing_path: str = os.getcwd()\n",
    "current_executing_path = current_executing_path.replace('\\\\', '/')\n",
    "root_path: str = '/'.join(current_executing_path.split('/')[:-directories_to_move_up])\n",
    "\n",
    "# Clean up.\n",
    "%pip uninstall frostaura -y\n",
    "sys.path = [p for p in sys.path if p != root_path]\n",
    "\n",
    "if USE_LOCAL_CODE:\n",
    "    sys.path.append(root_path)\n",
    "else:\n",
    "    %pip install -U --no-cache-dir frostaura"
   ]
  },
  {
   "cell_type": "markdown",
   "metadata": {},
   "source": [
    "# Import Dependencies"
   ]
  },
  {
   "cell_type": "code",
   "execution_count": 3,
   "metadata": {},
   "outputs": [
    {
     "name": "stderr",
     "output_type": "stream",
     "text": [
      "c:\\Users\\divanma\\.conda\\envs\\windows-ml-station\\lib\\site-packages\\scipy\\__init__.py:146: UserWarning: A NumPy version >=1.16.5 and <1.23.0 is required for this version of SciPy (detected version 1.23.1\n",
      "  warnings.warn(f\"A NumPy version >={np_minversion} and <{np_maxversion}\"\n"
     ]
    }
   ],
   "source": [
    "\n",
    "from frostaura.engines import IAssetValuationEngine\n",
    "from frostaura.engines import GrahamValuationEngine\n",
    "from frostaura.data_access import IPublicAssetDataAccess\n",
    "from frostaura.data_access import YahooFinanceDataAccess\n",
    "from frostaura.data_access import IResourcesDataAccess\n",
    "from frostaura.data_access import HtmlResourcesDataAccess\n",
    "from frostaura.models import ValuationResult"
   ]
  },
  {
   "cell_type": "markdown",
   "metadata": {},
   "source": [
    "## Logging"
   ]
  },
  {
   "cell_type": "code",
   "execution_count": 4,
   "metadata": {},
   "outputs": [],
   "source": [
    "import logging\n",
    "\n",
    "logging.basicConfig(level=logging.DEBUG)"
   ]
  },
  {
   "cell_type": "markdown",
   "metadata": {},
   "source": [
    "# Usage"
   ]
  },
  {
   "cell_type": "code",
   "execution_count": 5,
   "metadata": {},
   "outputs": [],
   "source": [
    "html_data_access: IResourcesDataAccess = HtmlResourcesDataAccess()\n",
    "public_asset_data_access: IPublicAssetDataAccess = YahooFinanceDataAccess()\n",
    "instance: IAssetValuationEngine = GrahamValuationEngine(html_data_access=html_data_access, public_asset_data_access=public_asset_data_access)"
   ]
  },
  {
   "cell_type": "code",
   "execution_count": 6,
   "metadata": {},
   "outputs": [
    {
     "name": "stderr",
     "output_type": "stream",
     "text": [
      "INFO:root:Fetching historical price movements for symbol \"AAPL\".\n",
      "WARNING:root:No item with the key \"AAPL\" existed in the cache.\n",
      "DEBUG:urllib3.connectionpool:Starting new HTTPS connection (1): finance.yahoo.com:443\n",
      "DEBUG:urllib3.connectionpool:https://finance.yahoo.com:443 \"GET /quote/AAPL HTTP/1.1\" 200 None\n",
      "DEBUG:urllib3.connectionpool:Starting new HTTPS connection (1): finance.yahoo.com:443\n",
      "DEBUG:urllib3.connectionpool:https://finance.yahoo.com:443 \"GET /quote/AAPL HTTP/1.1\" 200 None\n",
      "DEBUG:urllib3.connectionpool:Starting new HTTPS connection (1): finance.yahoo.com:443\n",
      "DEBUG:urllib3.connectionpool:https://finance.yahoo.com:443 \"GET /quote/AAPL/holders HTTP/1.1\" 200 None\n",
      "DEBUG:urllib3.connectionpool:Starting new HTTPS connection (1): finance.yahoo.com:443\n",
      "DEBUG:urllib3.connectionpool:https://finance.yahoo.com:443 \"GET /quote/AAPL/financials HTTP/1.1\" 200 None\n",
      "DEBUG:urllib3.connectionpool:Starting new HTTPS connection (1): finance.yahoo.com:443\n",
      "DEBUG:urllib3.connectionpool:https://finance.yahoo.com:443 \"GET /quote/AAPL/analysis HTTP/1.1\" 200 None\n",
      "DEBUG:urllib3.connectionpool:Starting new HTTPS connection (1): finance.yahoo.com:443\n",
      "DEBUG:urllib3.connectionpool:https://finance.yahoo.com:443 \"GET /quote/AAPL/key-statistics?p=AAPL HTTP/1.1\" 200 None\n",
      "INFO:root:Fetching HTML page from URL \"https://finviz.com/quote.ashx?t=AAPL\".\n",
      "DEBUG:root:No key \"user-agent\" found in config. Defaulting to user agent value \"PostmanRuntime/7.29.0\".\n",
      "DEBUG:urllib3.connectionpool:Starting new HTTPS connection (1): finviz.com:443\n",
      "DEBUG:urllib3.connectionpool:https://finviz.com:443 \"GET /quote.ashx?t=AAPL HTTP/1.1\" 200 None\n",
      "DEBUG:root:EPS: 6.05, EPS Next 5 Years: 0.09480000000000001%\n",
      "DEBUG:root:pe_base_non_growth_company: 8.5\n",
      "DEBUG:root:annual_growth_projected: 9.4799995\n",
      "DEBUG:root:average_yield_of_aaa_corporate_bonds: 4.4\n",
      "DEBUG:root:current_yield_of_aaa_corporate_bonds: 4.27\n",
      "DEBUG:root:Intrinsic Value: $ 171.1909071147541 vs. Current Price: $ 170.03 based on the Benjamin Graham valuation method.\n",
      "DEBUG:urllib3.connectionpool:Starting new HTTPS connection (1): query1.finance.yahoo.com:443\n",
      "DEBUG:urllib3.connectionpool:https://query1.finance.yahoo.com:443 \"GET /v7/finance/download/AAPL?period1=1502928000&period2=1661510365&interval=1d&events=div&includeAdjustedClose=true HTTP/1.1\" 200 414\n"
     ]
    },
    {
     "data": {
      "text/plain": [
       "{'symbol': 'AAPL',\n",
       " 'company_name': 'Apple Inc.',\n",
       " 'current_price': 170.03,\n",
       " 'valuation_method': 'benjamin_graham_valuation',\n",
       " 'valuation_price': 171.1909071147541,\n",
       " 'fair_price': 119.83363498032787,\n",
       " 'absolute_current_v_valuation_delta': 0.29522063765025075,\n",
       " 'is_overvalued': True,\n",
       " 'annual_dividend_percentage': 0.54,\n",
       " 'eps_ttm': 6.05,\n",
       " 'eps_five_years': 0.09480000000000001,\n",
       " 'pe_ratio': 28.09,\n",
       " 'divident_payout_frequency_in_months': 3}"
      ]
     },
     "execution_count": 6,
     "metadata": {},
     "output_type": "execute_result"
    }
   ],
   "source": [
    "valuation: ValuationResult = instance.valuate(symbol='AAPL')\n",
    "\n",
    "vars(valuation)"
   ]
  }
 ],
 "metadata": {
  "kernelspec": {
   "display_name": "Python 3.9.7 ('windows-ml-station')",
   "language": "python",
   "name": "python3"
  },
  "language_info": {
   "codemirror_mode": {
    "name": "ipython",
    "version": 3
   },
   "file_extension": ".py",
   "mimetype": "text/x-python",
   "name": "python",
   "nbconvert_exporter": "python",
   "pygments_lexer": "ipython3",
   "version": "3.9.7"
  },
  "orig_nbformat": 4,
  "vscode": {
   "interpreter": {
    "hash": "f2d2799229849fd2c86aa3751486a343a6caa647b525ae379976f27c22f61e0e"
   }
  }
 },
 "nbformat": 4,
 "nbformat_minor": 2
}
