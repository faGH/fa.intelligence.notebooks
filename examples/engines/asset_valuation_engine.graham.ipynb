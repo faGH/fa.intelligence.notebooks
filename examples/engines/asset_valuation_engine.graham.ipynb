{
 "cells": [
  {
   "cell_type": "markdown",
   "metadata": {},
   "source": [
    "# Install Dependencies"
   ]
  },
  {
   "cell_type": "markdown",
   "metadata": {},
   "source": [
    "## External Dependencies"
   ]
  },
  {
   "cell_type": "code",
   "execution_count": 8,
   "metadata": {},
   "outputs": [],
   "source": [
    "#!pip install pip"
   ]
  },
  {
   "cell_type": "markdown",
   "metadata": {},
   "source": [
    "## FrostAura Dependencies"
   ]
  },
  {
   "cell_type": "code",
   "execution_count": 9,
   "metadata": {},
   "outputs": [
    {
     "name": "stdout",
     "output_type": "stream",
     "text": [
      "\u001b[33mWARNING: Skipping frostaura as it is not installed.\u001b[0m\u001b[33m\n",
      "\u001b[0mNote: you may need to restart the kernel to use updated packages.\n"
     ]
    }
   ],
   "source": [
    "import os\n",
    "import sys\n",
    "\n",
    "USE_LOCAL_CODE: bool = True # NOTE: When changing this configuration, be sure to restart the interpreter in order to have sys path updates reflect.\n",
    "directories_to_move_up: int = 2\n",
    "current_executing_path: str = os.getcwd()\n",
    "current_executing_path = current_executing_path.replace('\\\\', '/')\n",
    "root_path: str = '/'.join(current_executing_path.split('/')[:-directories_to_move_up])\n",
    "\n",
    "# Clean up.\n",
    "%pip uninstall frostaura -y\n",
    "sys.path = [p for p in sys.path if p != root_path]\n",
    "\n",
    "if USE_LOCAL_CODE:\n",
    "    sys.path.append(root_path)\n",
    "else:\n",
    "    %pip install -U --no-cache-dir frostaura"
   ]
  },
  {
   "cell_type": "markdown",
   "metadata": {},
   "source": [
    "# Import Dependencies"
   ]
  },
  {
   "cell_type": "code",
   "execution_count": 10,
   "metadata": {},
   "outputs": [],
   "source": [
    "\n",
    "from frostaura.engines import IAssetValuationEngine\n",
    "from frostaura.engines import GrahamValuationEngine\n",
    "from frostaura.data_access import IPublicAssetDataAccess\n",
    "from frostaura.data_access import YahooFinanceDataAccess\n",
    "from frostaura.data_access import IResourcesDataAccess\n",
    "from frostaura.data_access import HtmlResourcesDataAccess\n",
    "from frostaura.models import ValuationResult"
   ]
  },
  {
   "cell_type": "markdown",
   "metadata": {},
   "source": [
    "## Logging"
   ]
  },
  {
   "cell_type": "code",
   "execution_count": 11,
   "metadata": {},
   "outputs": [],
   "source": [
    "import logging\n",
    "\n",
    "logging.basicConfig(level=logging.DEBUG)"
   ]
  },
  {
   "cell_type": "markdown",
   "metadata": {},
   "source": [
    "# Usage"
   ]
  },
  {
   "cell_type": "code",
   "execution_count": 12,
   "metadata": {},
   "outputs": [],
   "source": [
    "html_data_access: IResourcesDataAccess = HtmlResourcesDataAccess()\n",
    "public_asset_data_access: IPublicAssetDataAccess = YahooFinanceDataAccess()\n",
    "instance: IAssetValuationEngine = GrahamValuationEngine(html_data_access=html_data_access, public_asset_data_access=public_asset_data_access)"
   ]
  },
  {
   "cell_type": "code",
   "execution_count": 13,
   "metadata": {},
   "outputs": [
    {
     "name": "stderr",
     "output_type": "stream",
     "text": [
      "INFO:root:Fetching historical price movements for symbol \"ABT\".\n",
      "WARNING:root:No item with the key \"ABT-data\" existed in the cache.\n",
      "DEBUG:urllib3.connectionpool:Starting new HTTPS connection (1): finance.yahoo.com:443\n",
      "DEBUG:urllib3.connectionpool:https://finance.yahoo.com:443 \"GET /quote/ABT HTTP/1.1\" 200 None\n",
      "DEBUG:urllib3.connectionpool:Starting new HTTPS connection (1): finance.yahoo.com:443\n",
      "DEBUG:urllib3.connectionpool:https://finance.yahoo.com:443 \"GET /quote/ABT HTTP/1.1\" 200 None\n",
      "DEBUG:urllib3.connectionpool:Starting new HTTPS connection (1): finance.yahoo.com:443\n",
      "DEBUG:urllib3.connectionpool:https://finance.yahoo.com:443 \"GET /quote/ABT/holders HTTP/1.1\" 200 None\n",
      "DEBUG:urllib3.connectionpool:Starting new HTTPS connection (1): finance.yahoo.com:443\n",
      "DEBUG:urllib3.connectionpool:https://finance.yahoo.com:443 \"GET /quote/ABT/financials HTTP/1.1\" 200 None\n",
      "DEBUG:urllib3.connectionpool:Starting new HTTPS connection (1): finance.yahoo.com:443\n",
      "DEBUG:urllib3.connectionpool:https://finance.yahoo.com:443 \"GET /quote/ABT/analysis HTTP/1.1\" 200 None\n",
      "DEBUG:urllib3.connectionpool:Starting new HTTPS connection (1): finance.yahoo.com:443\n",
      "DEBUG:urllib3.connectionpool:https://finance.yahoo.com:443 \"GET /quote/ABT/key-statistics?p=ABT HTTP/1.1\" 200 None\n",
      "INFO:root:Fetching HTML page from URL \"https://finviz.com/quote.ashx?t=ABT\".\n",
      "DEBUG:root:User agent override found in config. Using value \"PostmanRuntime/7.29.0\".\n",
      "DEBUG:urllib3.connectionpool:Starting new HTTPS connection (1): finviz.com:443\n",
      "DEBUG:urllib3.connectionpool:https://finviz.com:443 \"GET /quote.ashx?t=ABT HTTP/1.1\" 200 None\n",
      "DEBUG:root:EPS: 4.81, EPS Next 5 Years: 0.11%\n",
      "DEBUG:root:pe_base_non_growth_company: 8.5\n",
      "DEBUG:root:annual_growth_projected: 11.0\n",
      "DEBUG:root:average_yield_of_aaa_corporate_bonds: 4.4\n",
      "DEBUG:root:current_yield_of_aaa_corporate_bonds: 4.27\n",
      "DEBUG:root:Intrinsic Value: $ 151.17142857142858 vs. Current Price: $ 101.9 based on the Benjamin Graham valuation method.\n",
      "DEBUG:urllib3.connectionpool:Starting new HTTPS connection (1): query1.finance.yahoo.com:443\n",
      "DEBUG:urllib3.connectionpool:https://query1.finance.yahoo.com:443 \"GET /v7/finance/download/ABT?period1=1502928000&period2=1661686498&interval=1d&events=div&includeAdjustedClose=true HTTP/1.1\" 401 136\n"
     ]
    },
    {
     "data": {
      "text/plain": [
       "{'symbol': 'ABT',\n",
       " 'company_name': 'Abbott Laboratories',\n",
       " 'current_price': 101.9,\n",
       " 'valuation_method': 'benjamin_graham_valuation',\n",
       " 'valuation_price': 151.17142857142858,\n",
       " 'fair_price': 75.58571428571429,\n",
       " 'absolute_current_v_valuation_delta': 0.25823636618533574,\n",
       " 'is_overvalued': True,\n",
       " 'annual_dividend_percentage': 1.84,\n",
       " 'eps_ttm': 4.81,\n",
       " 'eps_five_years': 0.11,\n",
       " 'pe_ratio': 21.18,\n",
       " 'divident_payout_frequency_in_months': 0}"
      ]
     },
     "execution_count": 13,
     "metadata": {},
     "output_type": "execute_result"
    }
   ],
   "source": [
    "valuation: ValuationResult = instance.valuate(symbol='ABT')\n",
    "\n",
    "vars(valuation)"
   ]
  },
  {
   "cell_type": "code",
   "execution_count": null,
   "metadata": {},
   "outputs": [],
   "source": []
  }
 ],
 "metadata": {
  "kernelspec": {
   "display_name": "Python 3.9.7 ('tensorflow-apple-metal')",
   "language": "python",
   "name": "python3"
  },
  "language_info": {
   "codemirror_mode": {
    "name": "ipython",
    "version": 3
   },
   "file_extension": ".py",
   "mimetype": "text/x-python",
   "name": "python",
   "nbconvert_exporter": "python",
   "pygments_lexer": "ipython3",
   "version": "3.9.7"
  },
  "orig_nbformat": 4,
  "vscode": {
   "interpreter": {
    "hash": "f237d2a9665fb481726a5cf6ceac5955148535d2fa68bde4e6b3866477620792"
   }
  }
 },
 "nbformat": 4,
 "nbformat_minor": 2
}
