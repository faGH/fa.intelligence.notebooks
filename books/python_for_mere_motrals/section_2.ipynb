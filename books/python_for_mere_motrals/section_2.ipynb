{
 "cells": [
  {
   "cell_type": "markdown",
   "metadata": {},
   "source": [
    "# Python"
   ]
  },
  {
   "cell_type": "markdown",
   "metadata": {},
   "source": [
    "## Hello World!\n",
    "Python is one of the more beginner-friendly languages out there with a beautifully low barier to entry. There are a couple of factors that contribute to this. Things like:\n",
    "- Python is an interpreted language which means we don't have to worry about fancy things like understanding compilers.\n",
    "- Python programming is largly based on indentation which makes for a language that reads nicely and requires no fancy braces in odd combinations.\n",
    "\n",
    "Perhaps one of te simplest things to do with Python is to print some text to the console or terminal that our python application will run in. Let's see how that's done."
   ]
  },
  {
   "cell_type": "markdown",
   "metadata": {},
   "source": [
    "### Printing Text\n",
    "The 'print' statement is in fact a function. Something that we will elaborate on later. For now it's ok to simply understand that there is a function, 'print', provided to us by Python which we can pass a string (fancy for text) variable to. The 'print' function then does some magic under-the-hood to transfer what we passed to it, to the console or terminal."
   ]
  },
  {
   "cell_type": "code",
   "execution_count": 1,
   "metadata": {},
   "outputs": [
    {
     "name": "stdout",
     "output_type": "stream",
     "text": [
      "Hello World!\n"
     ]
    }
   ],
   "source": [
    "print('Hello World!')"
   ]
  },
  {
   "cell_type": "markdown",
   "metadata": {},
   "source": [
    "### Comments\n",
    "At times we may find the need to explain some code to whoever may touch our code later on or perhaps even as a placeholder for ourselves just so we can read our own code at a later stage without being too lost all over again. Typically we should rely on good naming convensions for this however having a couple of comments here and there is perfectly acceptable.\n",
    "\n",
    "Comments are parts of our code that don't get executed like the rest of our code and so don't interfere with the rest of the application. In Python there is only one kind of comment:\n",
    "- Single-line comments which comments our everything following the comment keyphrase ('# <COMMENTS>'), on the same line.\n",
    "\n",
    "Let's see how we can add comments to out code."
   ]
  },
  {
   "cell_type": "code",
   "execution_count": 1,
   "metadata": {},
   "outputs": [
    {
     "name": "stdout",
     "output_type": "stream",
     "text": [
      "Just an example print statement to illustrate mixing comments with real code.\n",
      "Ok we are done now.\n"
     ]
    }
   ],
   "source": [
    "# This is a single-line comment that would ignore everything entered after the #.\n",
    "print('Just an example print statement to illustrate mixing comments with real code.')\n",
    "\n",
    "# Another comment to show off.\n",
    "print('Ok we are done now.')"
   ]
  },
  {
   "cell_type": "markdown",
   "metadata": {},
   "source": [
    "### Indentation\n",
    "Python uses indentation instead of braces like other languages in order to differentiate between different \"levels\" or scopes of code. Tabs or spaces can be used for this however Python likes 4 spaces per/tab best.\n",
    "\n",
    "Let's look at how this works in practise however don't worry too much about the \"if\" magic for now as we'll cover that in the \"Conditional Statements\" section. Just take note of the indentation change as we create different levels of code. Typically these levels would be present when working with conditional statements, classes and more. Most of which we'll cover later."
   ]
  },
  {
   "cell_type": "code",
   "execution_count": 2,
   "metadata": {},
   "outputs": [
    {
     "name": "stdout",
     "output_type": "stream",
     "text": [
      "We will now have a simple conditional statement. The code that should get executed when the condition is true, should be indented accordingly.\n",
      "Our condition has been met! Notice this line is indented once from the higher level code.\n",
      "When we deal with multiple levels, the indentation should follow accordingly. Here is a more complicated example with multiple levels.\n",
      "Nothing special here. Only a single indentation.\n",
      "We are now two levels down and our indentation should follow accordingly. This process gets repeated for however many levels you need to go deep.\n"
     ]
    }
   ],
   "source": [
    "print('We will now have a simple conditional statement. The code that should get executed when the condition is true, should be indented accordingly.')\n",
    "\n",
    "if True == True:\n",
    "    print('Our condition has been met! Notice this line is indented once from the higher level code.')\n",
    "\n",
    "print('When we deal with multiple levels, the indentation should follow accordingly. Here is a more complicated example with multiple levels.')\n",
    "\n",
    "if True == True:\n",
    "    print('Nothing special here. Only a single indentation.')\n",
    "    \n",
    "    if False == False:\n",
    "        print('We are now two levels down and our indentation should follow accordingly. This process gets repeated for however many levels you need to go deep.')"
   ]
  },
  {
   "cell_type": "markdown",
   "metadata": {},
   "source": [
    "## Most Common Variable Types\n",
    "Variables are fundamental parts to any programming language. They reserve memory (RAM) that stores data. In short, they are placeholders where values can be stored and accessed. In many other programming languages, variable types have to be specified explicitly. Types can be things like integers, floats, doubles or booleans. Types can also be strings and more complicated object types (from 3rd party sources or classes that we create ourselves). Don't worry about any remotely fancy terms here as for the basics, we merely need to understand how to assign a value and how to access it later.\n",
    "\n",
    "In Python however, we don't have to worry about such things but it's still valuable to understand that types do exist under-the-hood and how to check them. Let's see how to create a variable and then use it. When working with Python, we want to typically use 'snake_case' when naming variables or functions. This differs from one programming langauge to the next but these standards exist not out of necessity but rather to keep code neat, readable and maintainable. "
   ]
  },
  {
   "cell_type": "code",
   "execution_count": 1,
   "metadata": {},
   "outputs": [
    {
     "name": "stdout",
     "output_type": "stream",
     "text": [
      "This is a test string / text value that we are storing somewhere in memory under-the-hood.\n"
     ]
    }
   ],
   "source": [
    "# Here we assign a simple variable. We do so without worrying about types as Python takes care of that for us.\n",
    "my_variable = 'This is a test string / text value that we are storing somewhere in memory under-the-hood.'\n",
    "\n",
    "# We can then access our variable's value later in the code.\n",
    "print(my_variable)"
   ]
  },
  {
   "cell_type": "code",
   "execution_count": 3,
   "metadata": {},
   "outputs": [
    {
     "data": {
      "text/plain": [
       "str"
      ]
     },
     "execution_count": 3,
     "metadata": {},
     "output_type": "execute_result"
    }
   ],
   "source": [
    "# If we wanted to for whatever reason, we could inspect the type of our variable that Python assigns to it automatically. In our case, the variable type is 'str' or short for string, which is text.\n",
    "# Technically, a string is an array of type char or more simply, a collection of single characters.\n",
    "type(my_variable)"
   ]
  },
  {
   "cell_type": "code",
   "execution_count": 5,
   "metadata": {},
   "outputs": [
    {
     "name": "stdout",
     "output_type": "stream",
     "text": [
      "Variable Type: <class 'str'>, Value: Some text value\n",
      "Variable Type: <class 'int'>, Value: 1\n",
      "Variable Type: <class 'float'>, Value: 1.123\n",
      "Variable Type: <class 'bool'>, Value: True\n"
     ]
    }
   ],
   "source": [
    "# Here are a couple of other out-of-the-box types Python may assign under-the-hood. I will use some fancy syntax / code here to print something of educational value but just ignore the code that looks weird, its's not important.\n",
    "my_string_variable = 'Some text value' # This is a test string / text value that we are storing somewhere in memory under-the-hood.\n",
    "my_integer_variable = 1 # Any numerical value without a decimal point.\n",
    "my_floating_point_variable = 1.123 # Any numerical value with a decimal point.\n",
    "my_boolean_variable = True # Or 'False'\n",
    "\n",
    "print(f'Variable Type: {type(my_string_variable)}, Value: {my_string_variable}')\n",
    "print(f'Variable Type: {type(my_integer_variable)}, Value: {my_integer_variable}')\n",
    "print(f'Variable Type: {type(my_floating_point_variable)}, Value: {my_floating_point_variable}')\n",
    "print(f'Variable Type: {type(my_boolean_variable)}, Value: {my_boolean_variable}')"
   ]
  },
  {
   "cell_type": "markdown",
   "metadata": {},
   "source": [
    "### Variable Scoping / Variable Lifecycle\n",
    "\n",
    "Variables also have lifecycles. Typically they only exist in the context of the code block in which you create them. For example if a variable is defined inside of a function, the variable would get destroyed by Python automatically once the function has run to completion. Technically, we refer to this as variable scoping. This sounds complicated but it's actually relatively intuitive. See the following example."
   ]
  },
  {
   "cell_type": "code",
   "execution_count": 6,
   "metadata": {},
   "outputs": [
    {
     "name": "stdout",
     "output_type": "stream",
     "text": [
      "A variable that should get destroyed / cleaned up by Python after the function has run.\n",
      "A variable that should last forever.\n"
     ]
    },
    {
     "ename": "NameError",
     "evalue": "name 'some_short_lived_variable' is not defined",
     "output_type": "error",
     "traceback": [
      "\u001b[1;31m---------------------------------------------------------------------------\u001b[0m",
      "\u001b[1;31mNameError\u001b[0m                                 Traceback (most recent call last)",
      "\u001b[1;32m~\\AppData\\Local\\Temp/ipykernel_620/77078930.py\u001b[0m in \u001b[0;36m<module>\u001b[1;34m\u001b[0m\n\u001b[0;32m     16\u001b[0m \u001b[1;31m# Now let's see which variables are still accessible (not destroyed).\u001b[0m\u001b[1;33m\u001b[0m\u001b[1;33m\u001b[0m\u001b[0m\n\u001b[0;32m     17\u001b[0m \u001b[0mprint\u001b[0m\u001b[1;33m(\u001b[0m\u001b[0msome_global_variable\u001b[0m\u001b[1;33m)\u001b[0m\u001b[1;33m\u001b[0m\u001b[1;33m\u001b[0m\u001b[0m\n\u001b[1;32m---> 18\u001b[1;33m \u001b[0mprint\u001b[0m\u001b[1;33m(\u001b[0m\u001b[0msome_short_lived_variable\u001b[0m\u001b[1;33m)\u001b[0m\u001b[1;33m\u001b[0m\u001b[1;33m\u001b[0m\u001b[0m\n\u001b[0m",
      "\u001b[1;31mNameError\u001b[0m: name 'some_short_lived_variable' is not defined"
     ]
    }
   ],
   "source": [
    "# We create a simple function to illustrate the point. Don't worry about the syntax / code for creating a function as we'll tackle that in the 'Hello World! With Classes' section.\n",
    "\n",
    "# We create / define a variable outside of the function (Technically outside of the 'scope' of the function). We expect this variable to live forever as it's not bound by function's scope.\n",
    "some_global_variable = 'A variable that should last forever.'\n",
    "\n",
    "def example_function():\n",
    "    # We create / define a variable inside of a function (in the scope of the function) which should mean that the variable gets destroyed once the function is done running.\n",
    "    some_short_lived_variable = 'A variable that should get destroyed / cleaned up by Python after the function has run.'\n",
    "\n",
    "    # We should be able to have access to the short-lived variable from within the function still. It's only outside of the function that it should be inaccessible.\n",
    "    print(some_short_lived_variable)\n",
    "\n",
    "# We are now outside of the function again. Let's call / run the function.\n",
    "example_function()\n",
    "\n",
    "# Now let's see which variables are still accessible (not destroyed).\n",
    "print(some_global_variable)\n",
    "print(some_short_lived_variable)"
   ]
  },
  {
   "cell_type": "markdown",
   "metadata": {},
   "source": [
    "Notice that the short-lived variable is only accessible inside of the code block / function that it was defined in whereas the variable created / defined outside of the 'scope' / code block of the function, is around indefinitely.\n",
    "\n",
    "### So Why Use Variables?\n",
    "Variables help programmers understand, remember and use information in a program. Simply put they help with keeping things neat and readable. They also allow us to pass information from one object in a program to the next. In many simpler cases you could get away without using variables however maintaining that project going forward would become a nightmare. You might find that you will repeat lots of code too which is a big no-no in the industry."
   ]
  },
  {
   "cell_type": "markdown",
   "metadata": {},
   "source": [
    "## Doing Some Math'ey Stuff"
   ]
  },
  {
   "cell_type": "markdown",
   "metadata": {},
   "source": [
    "TODO:\n",
    "- Dealing with errors. Update the actual word doc too with this. The above feeds into exceptions / errors nicely."
   ]
  },
  {
   "cell_type": "markdown",
   "metadata": {},
   "source": [
    "## Conditional Statements"
   ]
  },
  {
   "cell_type": "markdown",
   "metadata": {},
   "source": [
    "## Creating Loops"
   ]
  },
  {
   "cell_type": "markdown",
   "metadata": {},
   "source": [
    "## Working With 3rd Party Packages"
   ]
  },
  {
   "cell_type": "markdown",
   "metadata": {},
   "source": [
    "## Hello Wolrd! With Classes"
   ]
  },
  {
   "cell_type": "markdown",
   "metadata": {},
   "source": [
    "## Test Files & JSON"
   ]
  },
  {
   "cell_type": "markdown",
   "metadata": {},
   "source": [
    "## Structuring Your Project"
   ]
  }
 ],
 "metadata": {
  "kernelspec": {
   "display_name": "Python 3.9.7 ('windows-ml-station')",
   "language": "python",
   "name": "python3"
  },
  "language_info": {
   "codemirror_mode": {
    "name": "ipython",
    "version": 3
   },
   "file_extension": ".py",
   "mimetype": "text/x-python",
   "name": "python",
   "nbconvert_exporter": "python",
   "pygments_lexer": "ipython3",
   "version": "3.9.7"
  },
  "orig_nbformat": 4,
  "vscode": {
   "interpreter": {
    "hash": "f2d2799229849fd2c86aa3751486a343a6caa647b525ae379976f27c22f61e0e"
   }
  }
 },
 "nbformat": 4,
 "nbformat_minor": 2
}
