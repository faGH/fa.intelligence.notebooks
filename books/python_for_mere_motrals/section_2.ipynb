{
 "cells": [
  {
   "cell_type": "markdown",
   "metadata": {},
   "source": [
    "# Python"
   ]
  },
  {
   "cell_type": "markdown",
   "metadata": {},
   "source": [
    "## Hello World!\n",
    "Python is one of the more beginner-friendly languages out there with a beautifully low barier to entry. There are a couple of factors that contribute to this. Things like:\n",
    "- Python is an interpreted language which means we don't have to worry about fancy things like understanding compilers.\n",
    "- Python programming is largly based on indentation which makes for a language that reads nicely and requires no fancy braces in odd combinations.\n",
    "\n",
    "Perhaps one of te simplest things to do with Python is to print some text to the console or terminal that our python application will run in. Let's see how that's done."
   ]
  },
  {
   "cell_type": "markdown",
   "metadata": {},
   "source": [
    "### Printing Text\n",
    "The 'print' statement is in fact a function. Something that we will elaborate on later. For now it's ok to simply understand that there is a function, 'print', provided to us by Python which we can pass a string (fancy for text) variable to. The 'print' function then does some magic under-the-hood to transfer what we passed to it, to the console or terminal."
   ]
  },
  {
   "cell_type": "code",
   "execution_count": 1,
   "metadata": {},
   "outputs": [
    {
     "name": "stdout",
     "output_type": "stream",
     "text": [
      "Hello World!\n"
     ]
    }
   ],
   "source": [
    "print('Hello World!')"
   ]
  },
  {
   "cell_type": "markdown",
   "metadata": {},
   "source": [
    "### Comments\n",
    "At times we may find the need to explain some code to whoever may touch our code later on or perhaps even as a placeholder for ourselves just so we can read our own code at a later stage without being too lost all over again. Typically we should rely on good naming convensions for this however having a couple of comments here and there is perfectly acceptable.\n",
    "\n",
    "Comments are parts of our code that don't get executed like the rest of our code and so don't interfere with the rest of the application. In Python there is only one kind of comment:\n",
    "- Single-line comments which comments our everything following the comment keyphrase ('# <COMMENTS>'), on the same line.\n",
    "\n",
    "Let's see how we can add comments to out code."
   ]
  },
  {
   "cell_type": "code",
   "execution_count": 1,
   "metadata": {},
   "outputs": [
    {
     "name": "stdout",
     "output_type": "stream",
     "text": [
      "Just an example print statement to illustrate mixing comments with real code.\n",
      "Ok we are done now.\n"
     ]
    }
   ],
   "source": [
    "# This is a single-line comment that would ignore everything entered after the #.\n",
    "print('Just an example print statement to illustrate mixing comments with real code.')\n",
    "\n",
    "# Another comment to show off.\n",
    "print('Ok we are done now.')"
   ]
  },
  {
   "cell_type": "markdown",
   "metadata": {},
   "source": [
    "## Most Common Variable Types\n",
    "- TODO:\n",
    "  - What are variables?\n",
    "  - Are there different types and do we care?\n",
    "  - Scoping on a high-level.\n",
    "  - How do we make use of variables?"
   ]
  },
  {
   "cell_type": "markdown",
   "metadata": {},
   "source": [
    "## Doing Some Math'ey Stuff"
   ]
  },
  {
   "cell_type": "markdown",
   "metadata": {},
   "source": [
    "## Conditional Statements"
   ]
  },
  {
   "cell_type": "markdown",
   "metadata": {},
   "source": [
    "## Creating Loops"
   ]
  },
  {
   "cell_type": "markdown",
   "metadata": {},
   "source": [
    "## Working With 3rd Party Packages"
   ]
  },
  {
   "cell_type": "markdown",
   "metadata": {},
   "source": [
    "## Hello Wolrd! With Classes"
   ]
  },
  {
   "cell_type": "markdown",
   "metadata": {},
   "source": [
    "## Test Files & JSON"
   ]
  },
  {
   "cell_type": "markdown",
   "metadata": {},
   "source": [
    "## Structuring Your Project"
   ]
  }
 ],
 "metadata": {
  "kernelspec": {
   "display_name": "Python 3.9.7 ('windows-ml-station')",
   "language": "python",
   "name": "python3"
  },
  "language_info": {
   "codemirror_mode": {
    "name": "ipython",
    "version": 3
   },
   "file_extension": ".py",
   "mimetype": "text/x-python",
   "name": "python",
   "nbconvert_exporter": "python",
   "pygments_lexer": "ipython3",
   "version": "3.9.7"
  },
  "orig_nbformat": 4,
  "vscode": {
   "interpreter": {
    "hash": "f2d2799229849fd2c86aa3751486a343a6caa647b525ae379976f27c22f61e0e"
   }
  }
 },
 "nbformat": 4,
 "nbformat_minor": 2
}
