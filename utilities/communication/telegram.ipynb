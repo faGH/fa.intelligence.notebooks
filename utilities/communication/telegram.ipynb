{
 "cells": [
  {
   "cell_type": "markdown",
   "metadata": {},
   "source": [
    "# Telegram Bot Client"
   ]
  },
  {
   "cell_type": "markdown",
   "metadata": {},
   "source": [
    "## Install Dependencies"
   ]
  },
  {
   "cell_type": "code",
   "execution_count": 3,
   "metadata": {},
   "outputs": [
    {
     "name": "stdout",
     "output_type": "stream",
     "text": [
      "\u001b[33mWARNING: Ignoring invalid distribution -ip (/Users/deanmartin/miniforge3/envs/pytorch/lib/python3.9/site-packages)\u001b[0m\u001b[33m\n",
      "\u001b[0m\u001b[33mWARNING: Ignoring invalid distribution -ip (/Users/deanmartin/miniforge3/envs/pytorch/lib/python3.9/site-packages)\u001b[0m\u001b[33m\n",
      "\u001b[0mRequirement already satisfied: python-telegram-bot in /Users/deanmartin/miniforge3/envs/pytorch/lib/python3.9/site-packages (13.13)\n",
      "Requirement already satisfied: matplotlib in /Users/deanmartin/miniforge3/envs/pytorch/lib/python3.9/site-packages (3.5.2)\n",
      "Requirement already satisfied: prettytable in /Users/deanmartin/miniforge3/envs/pytorch/lib/python3.9/site-packages (3.3.0)\n",
      "Requirement already satisfied: tornado>=6.1 in /Users/deanmartin/miniforge3/envs/pytorch/lib/python3.9/site-packages (from python-telegram-bot) (6.2)\n",
      "Requirement already satisfied: pytz>=2018.6 in /Users/deanmartin/miniforge3/envs/pytorch/lib/python3.9/site-packages (from python-telegram-bot) (2022.1)\n",
      "Requirement already satisfied: cachetools==4.2.2 in /Users/deanmartin/miniforge3/envs/pytorch/lib/python3.9/site-packages (from python-telegram-bot) (4.2.2)\n",
      "Requirement already satisfied: certifi in /Users/deanmartin/miniforge3/envs/pytorch/lib/python3.9/site-packages (from python-telegram-bot) (2022.6.15)\n",
      "Requirement already satisfied: APScheduler==3.6.3 in /Users/deanmartin/miniforge3/envs/pytorch/lib/python3.9/site-packages (from python-telegram-bot) (3.6.3)\n",
      "Requirement already satisfied: setuptools>=0.7 in /Users/deanmartin/miniforge3/envs/pytorch/lib/python3.9/site-packages (from APScheduler==3.6.3->python-telegram-bot) (63.2.0)\n",
      "Requirement already satisfied: six>=1.4.0 in /Users/deanmartin/miniforge3/envs/pytorch/lib/python3.9/site-packages (from APScheduler==3.6.3->python-telegram-bot) (1.16.0)\n",
      "Requirement already satisfied: tzlocal>=1.2 in /Users/deanmartin/miniforge3/envs/pytorch/lib/python3.9/site-packages (from APScheduler==3.6.3->python-telegram-bot) (4.2)\n",
      "Requirement already satisfied: fonttools>=4.22.0 in /Users/deanmartin/miniforge3/envs/pytorch/lib/python3.9/site-packages (from matplotlib) (4.34.4)\n",
      "Requirement already satisfied: numpy>=1.17 in /Users/deanmartin/miniforge3/envs/pytorch/lib/python3.9/site-packages (from matplotlib) (1.23.1)\n",
      "Requirement already satisfied: packaging>=20.0 in /Users/deanmartin/miniforge3/envs/pytorch/lib/python3.9/site-packages (from matplotlib) (21.3)\n",
      "Requirement already satisfied: pillow>=6.2.0 in /Users/deanmartin/miniforge3/envs/pytorch/lib/python3.9/site-packages (from matplotlib) (9.2.0)\n",
      "Requirement already satisfied: cycler>=0.10 in /Users/deanmartin/miniforge3/envs/pytorch/lib/python3.9/site-packages (from matplotlib) (0.11.0)\n",
      "Requirement already satisfied: pyparsing>=2.2.1 in /Users/deanmartin/miniforge3/envs/pytorch/lib/python3.9/site-packages (from matplotlib) (3.0.9)\n",
      "Requirement already satisfied: kiwisolver>=1.0.1 in /Users/deanmartin/miniforge3/envs/pytorch/lib/python3.9/site-packages (from matplotlib) (1.4.4)\n",
      "Requirement already satisfied: python-dateutil>=2.7 in /Users/deanmartin/miniforge3/envs/pytorch/lib/python3.9/site-packages (from matplotlib) (2.8.2)\n",
      "Requirement already satisfied: wcwidth in /Users/deanmartin/miniforge3/envs/pytorch/lib/python3.9/site-packages (from prettytable) (0.2.5)\n",
      "Requirement already satisfied: pytz-deprecation-shim in /Users/deanmartin/miniforge3/envs/pytorch/lib/python3.9/site-packages (from tzlocal>=1.2->APScheduler==3.6.3->python-telegram-bot) (0.1.0.post0)\n",
      "Requirement already satisfied: tzdata in /Users/deanmartin/miniforge3/envs/pytorch/lib/python3.9/site-packages (from pytz-deprecation-shim->tzlocal>=1.2->APScheduler==3.6.3->python-telegram-bot) (2022.1)\n",
      "\u001b[33mWARNING: Ignoring invalid distribution -ip (/Users/deanmartin/miniforge3/envs/pytorch/lib/python3.9/site-packages)\u001b[0m\u001b[33m\n",
      "\u001b[0m\u001b[33mWARNING: Ignoring invalid distribution -ip (/Users/deanmartin/miniforge3/envs/pytorch/lib/python3.9/site-packages)\u001b[0m\u001b[33m\n",
      "\u001b[0m\u001b[33mWARNING: Ignoring invalid distribution -ip (/Users/deanmartin/miniforge3/envs/pytorch/lib/python3.9/site-packages)\u001b[0m\u001b[33m\n",
      "\u001b[0m\u001b[33mWARNING: Ignoring invalid distribution -ip (/Users/deanmartin/miniforge3/envs/pytorch/lib/python3.9/site-packages)\u001b[0m\u001b[33m\n",
      "\u001b[0m"
     ]
    }
   ],
   "source": [
    "!python -m pip install -U python-telegram-bot matplotlib prettytable pandas"
   ]
  },
  {
   "cell_type": "markdown",
   "metadata": {},
   "source": [
    "## Import Dependencies"
   ]
  },
  {
   "cell_type": "code",
   "execution_count": 5,
   "metadata": {},
   "outputs": [],
   "source": [
    "from telegram import Update, InlineQueryResultArticle, InputTextMessageContent, ParseMode\n",
    "from telegram.ext import Updater, CallbackContext, InlineQueryHandler, CommandHandler, MessageHandler, Filters\n",
    "import io\n",
    "import matplotlib.pyplot as plt\n",
    "import prettytable as pt\n",
    "import pandas as pd"
   ]
  },
  {
   "cell_type": "markdown",
   "metadata": {},
   "source": [
    "## Implementation"
   ]
  },
  {
   "cell_type": "code",
   "execution_count": 2,
   "metadata": {},
   "outputs": [],
   "source": [
    "class TelegramBot(object):\n",
    "    def __init__(self, bot_token: str, register_handlers = None):\n",
    "        assert bot_token is not None\n",
    "        \n",
    "        self.bot_token = bot_token\n",
    "        self.register_handlers = register_handlers\n",
    "\n",
    "    def __enter__(self):\n",
    "        self.updater = Updater(token=self.bot_token)\n",
    "        self.dispatcher = self.updater.dispatcher\n",
    "        self.bot = self.updater.bot\n",
    "\n",
    "        if self.register_handlers is not None:\n",
    "            self.register_handlers(self.dispatcher)\n",
    "\n",
    "        self.updater.start_polling()\n",
    "\n",
    "        return self\n",
    "\n",
    "    def __exit__(self, exc_type, exc_value, tb):\n",
    "        self.updater.stop()\n",
    "        self.updater = None\n",
    "        self.dispatcher = None\n",
    "        self.bot = None\n",
    "\n",
    "    def __get_figure_buffer__(self, figure: plt.Figure):\n",
    "        buffer = io.BytesIO()\n",
    "        figure.savefig(buffer, format='png')\n",
    "        buffer.seek(0)\n",
    "        \n",
    "        return buffer\n",
    "\n",
    "    def send_figure(self, chat_id: str, figure: plt.Figure):\n",
    "        self.bot.send_photo(chat_id=chat_id, photo=self.__get_figure_buffer__(figure))\n",
    "\n",
    "    def send_dataframe(self, chat_id: str, dataframe: pd.DataFrame):\n",
    "        table = pt.PrettyTable(tuple(dataframe.columns))\n",
    "        \n",
    "        for index, row in dataframe.iterrows():\n",
    "            row_data = list()\n",
    "\n",
    "            for column_name in dataframe.columns:\n",
    "                row_data.append(row[column_name])\n",
    "            \n",
    "            table.add_row(row_data)\n",
    "\n",
    "        self.bot.send_message(chat_id=chat_id, text=f'<pre>{table}</pre>', parse_mode=ParseMode.HTML)"
   ]
  },
  {
   "cell_type": "code",
   "execution_count": null,
   "metadata": {},
   "outputs": [],
   "source": []
  }
 ],
 "metadata": {
  "kernelspec": {
   "display_name": "Python 3.9.13 ('pytorch')",
   "language": "python",
   "name": "python3"
  },
  "language_info": {
   "codemirror_mode": {
    "name": "ipython",
    "version": 3
   },
   "file_extension": ".py",
   "mimetype": "text/x-python",
   "name": "python",
   "nbconvert_exporter": "python",
   "pygments_lexer": "ipython3",
   "version": "3.9.13"
  },
  "orig_nbformat": 4,
  "vscode": {
   "interpreter": {
    "hash": "0203f9377e450cf3e5fd498dcfe93bad69687b6515d650e7d79a42aa53323e2d"
   }
  }
 },
 "nbformat": 4,
 "nbformat_minor": 2
}
