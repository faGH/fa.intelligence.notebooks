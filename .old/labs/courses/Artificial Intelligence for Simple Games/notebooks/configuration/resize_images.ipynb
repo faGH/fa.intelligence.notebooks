{
 "cells": [
  {
   "cell_type": "markdown",
   "source": [
    "# Resize Images to 1024x1024"
   ],
   "metadata": {}
  },
  {
   "cell_type": "code",
   "execution_count": 8,
   "source": [
    "from PIL import Image\n",
    "from os import listdir\n",
    "from os.path import isfile, join"
   ],
   "outputs": [],
   "metadata": {}
  },
  {
   "cell_type": "code",
   "execution_count": 11,
   "source": [
    "base_image_directory = './images/abstract'\n",
    "image_files = [f for f in listdir(base_image_directory) if isfile(join(base_image_directory, f))]"
   ],
   "outputs": [],
   "metadata": {}
  },
  {
   "cell_type": "code",
   "execution_count": 15,
   "source": [
    "for image_file_name in image_files:\n",
    "    if image_file_name == '.DS_Store':\n",
    "        continue\n",
    "    \n",
    "    try:\n",
    "        full_path = f'{base_image_directory}/{image_file_name}'\n",
    "        im = Image.open(full_path)\n",
    "        im = im.resize((1024, 1024))\n",
    "        im.save(f'{base_image_directory}/1024/{image_file_name}')\n",
    "    except:\n",
    "        print(f'Failed for image \"{image_file_name}\".')"
   ],
   "outputs": [
    {
     "output_type": "stream",
     "name": "stdout",
     "text": [
      "Failed for image \"861.jpg\".\n",
      "Failed for image \"989.jpg\".\n"
     ]
    }
   ],
   "metadata": {}
  },
  {
   "cell_type": "code",
   "execution_count": null,
   "source": [],
   "outputs": [],
   "metadata": {}
  }
 ],
 "metadata": {
  "kernelspec": {
   "name": "python3",
   "display_name": "Python 3.9.7 64-bit ('tensorflow-apple-metal': conda)"
  },
  "language_info": {
   "codemirror_mode": {
    "name": "ipython",
    "version": 3
   },
   "file_extension": ".py",
   "mimetype": "text/x-python",
   "name": "python",
   "nbconvert_exporter": "python",
   "pygments_lexer": "ipython3",
   "version": "3.9.7"
  },
  "interpreter": {
   "hash": "31d6e53dd90e1e07de471af499e22de60e02a8b280c0c36d978ec0e08d2bccf2"
  }
 },
 "nbformat": 4,
 "nbformat_minor": 5
}