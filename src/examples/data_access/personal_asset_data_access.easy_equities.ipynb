{
 "cells": [
  {
   "cell_type": "markdown",
   "metadata": {},
   "source": [
    "# Install Dependencies"
   ]
  },
  {
   "cell_type": "markdown",
   "metadata": {},
   "source": [
    "## External Dependencies"
   ]
  },
  {
   "cell_type": "code",
   "execution_count": 162,
   "metadata": {},
   "outputs": [
    {
     "name": "stdout",
     "output_type": "stream",
     "text": [
      "Requirement already satisfied: easy-equities-client in /Users/deanmartin/miniforge3/envs/tensorflow-apple-metal/lib/python3.9/site-packages (0.5.0)\n",
      "Requirement already satisfied: requests<3.0.0,>=2.25.0 in /Users/deanmartin/miniforge3/envs/tensorflow-apple-metal/lib/python3.9/site-packages (from easy-equities-client) (2.26.0)\n",
      "Requirement already satisfied: bs4<0.0.2,>=0.0.1 in /Users/deanmartin/miniforge3/envs/tensorflow-apple-metal/lib/python3.9/site-packages (from easy-equities-client) (0.0.1)\n",
      "Requirement already satisfied: beautifulsoup4 in /Users/deanmartin/miniforge3/envs/tensorflow-apple-metal/lib/python3.9/site-packages (from bs4<0.0.2,>=0.0.1->easy-equities-client) (4.11.1)\n",
      "Requirement already satisfied: idna<4,>=2.5 in /Users/deanmartin/miniforge3/envs/tensorflow-apple-metal/lib/python3.9/site-packages (from requests<3.0.0,>=2.25.0->easy-equities-client) (3.1)\n",
      "Requirement already satisfied: urllib3<1.27,>=1.21.1 in /Users/deanmartin/miniforge3/envs/tensorflow-apple-metal/lib/python3.9/site-packages (from requests<3.0.0,>=2.25.0->easy-equities-client) (1.26.7)\n",
      "Requirement already satisfied: certifi>=2017.4.17 in /Users/deanmartin/miniforge3/envs/tensorflow-apple-metal/lib/python3.9/site-packages (from requests<3.0.0,>=2.25.0->easy-equities-client) (2021.10.8)\n",
      "Requirement already satisfied: charset-normalizer~=2.0.0 in /Users/deanmartin/miniforge3/envs/tensorflow-apple-metal/lib/python3.9/site-packages (from requests<3.0.0,>=2.25.0->easy-equities-client) (2.0.0)\n",
      "Requirement already satisfied: soupsieve>1.2 in /Users/deanmartin/miniforge3/envs/tensorflow-apple-metal/lib/python3.9/site-packages (from beautifulsoup4->bs4<0.0.2,>=0.0.1->easy-equities-client) (2.3.2.post1)\n",
      "\n",
      "\u001b[1m[\u001b[0m\u001b[34;49mnotice\u001b[0m\u001b[1;39;49m]\u001b[0m\u001b[39;49m A new release of pip available: \u001b[0m\u001b[31;49m22.2.1\u001b[0m\u001b[39;49m -> \u001b[0m\u001b[32;49m22.2.2\u001b[0m\n",
      "\u001b[1m[\u001b[0m\u001b[34;49mnotice\u001b[0m\u001b[1;39;49m]\u001b[0m\u001b[39;49m To update, run: \u001b[0m\u001b[32;49mpip install --upgrade pip\u001b[0m\n"
     ]
    }
   ],
   "source": [
    "!pip install easy-equities-client"
   ]
  },
  {
   "cell_type": "markdown",
   "metadata": {},
   "source": [
    "## FrostAura Dependencies"
   ]
  },
  {
   "cell_type": "code",
   "execution_count": 163,
   "metadata": {},
   "outputs": [
    {
     "name": "stdout",
     "output_type": "stream",
     "text": [
      "\u001b[33mWARNING: Skipping frostaura as it is not installed.\u001b[0m\u001b[33m\n",
      "\u001b[0mNote: you may need to restart the kernel to use updated packages.\n"
     ]
    }
   ],
   "source": [
    "import os\n",
    "import sys\n",
    "\n",
    "USE_LOCAL_CODE: bool = True # NOTE: When changing this configuration, be sure to restart the interpreter in order to have sys path updates reflect.\n",
    "directories_to_move_up: int = 2\n",
    "current_executing_path: str = os.getcwd()\n",
    "current_executing_path = current_executing_path.replace('\\\\', '/')\n",
    "root_path: str = '/'.join(current_executing_path.split('/')[:-directories_to_move_up])\n",
    "\n",
    "# Clean up.\n",
    "%pip uninstall frostaura -y\n",
    "sys.path = [p for p in sys.path if p != root_path]\n",
    "\n",
    "if USE_LOCAL_CODE:\n",
    "    sys.path.append(root_path)\n",
    "else:\n",
    "    %pip install -U --no-cache-dir frostaura"
   ]
  },
  {
   "cell_type": "markdown",
   "metadata": {},
   "source": [
    "# Import Dependencies"
   ]
  },
  {
   "cell_type": "code",
   "execution_count": 164,
   "metadata": {},
   "outputs": [],
   "source": [
    "from frostaura.data_access import IResourcesDataAccess\n",
    "from frostaura.data_access import EmbeddedResourcesDataAccess\n",
    "from frostaura.data_access import IPersonalAssetDataAccess\n",
    "from frostaura.data_access import EasyEquitiesPersonalAssetDataAccess\n",
    "from easy_equities_client.accounts.types import Account\n",
    "import pandas as pd"
   ]
  },
  {
   "cell_type": "markdown",
   "metadata": {},
   "source": [
    "# Usage"
   ]
  },
  {
   "cell_type": "code",
   "execution_count": 165,
   "metadata": {},
   "outputs": [],
   "source": [
    "resource_data_access: IResourcesDataAccess = EmbeddedResourcesDataAccess()\n",
    "instance: IPersonalAssetDataAccess = EasyEquitiesPersonalAssetDataAccess(resource_data_access=resource_data_access,\n",
    "                                                                         username='...',\n",
    "                                                                         password='...')"
   ]
  },
  {
   "cell_type": "markdown",
   "metadata": {},
   "source": [
    "## Get Supported Symbols"
   ]
  },
  {
   "cell_type": "code",
   "execution_count": 166,
   "metadata": {},
   "outputs": [
    {
     "data": {
      "text/html": [
       "<div>\n",
       "<style scoped>\n",
       "    .dataframe tbody tr th:only-of-type {\n",
       "        vertical-align: middle;\n",
       "    }\n",
       "\n",
       "    .dataframe tbody tr th {\n",
       "        vertical-align: top;\n",
       "    }\n",
       "\n",
       "    .dataframe thead th {\n",
       "        text-align: right;\n",
       "    }\n",
       "</style>\n",
       "<table border=\"1\" class=\"dataframe\">\n",
       "  <thead>\n",
       "    <tr style=\"text-align: right;\">\n",
       "      <th></th>\n",
       "      <th>name</th>\n",
       "      <th>symbol</th>\n",
       "    </tr>\n",
       "  </thead>\n",
       "  <tbody>\n",
       "    <tr>\n",
       "      <th>0</th>\n",
       "      <td>10X Genomics Inc</td>\n",
       "      <td>TXG</td>\n",
       "    </tr>\n",
       "    <tr>\n",
       "      <th>1</th>\n",
       "      <td>21Vianet Group Inc</td>\n",
       "      <td>VNET</td>\n",
       "    </tr>\n",
       "    <tr>\n",
       "      <th>2</th>\n",
       "      <td>2U Inc</td>\n",
       "      <td>TWOU</td>\n",
       "    </tr>\n",
       "    <tr>\n",
       "      <th>3</th>\n",
       "      <td>3D Systems Inc</td>\n",
       "      <td>DDD</td>\n",
       "    </tr>\n",
       "    <tr>\n",
       "      <th>4</th>\n",
       "      <td>3M Co</td>\n",
       "      <td>MMM</td>\n",
       "    </tr>\n",
       "    <tr>\n",
       "      <th>...</th>\n",
       "      <td>...</td>\n",
       "      <td>...</td>\n",
       "    </tr>\n",
       "    <tr>\n",
       "      <th>669</th>\n",
       "      <td>Zimmer Biomet Holdings Inc</td>\n",
       "      <td>ZBH</td>\n",
       "    </tr>\n",
       "    <tr>\n",
       "      <th>670</th>\n",
       "      <td>Zimvie Inc</td>\n",
       "      <td>ZIMV</td>\n",
       "    </tr>\n",
       "    <tr>\n",
       "      <th>671</th>\n",
       "      <td>Zoetis Inc</td>\n",
       "      <td>ZTS</td>\n",
       "    </tr>\n",
       "    <tr>\n",
       "      <th>672</th>\n",
       "      <td>Zoom Video Communications Inc</td>\n",
       "      <td>ZM</td>\n",
       "    </tr>\n",
       "    <tr>\n",
       "      <th>673</th>\n",
       "      <td>Zscaler Inc</td>\n",
       "      <td>ZS</td>\n",
       "    </tr>\n",
       "  </tbody>\n",
       "</table>\n",
       "<p>674 rows × 2 columns</p>\n",
       "</div>"
      ],
      "text/plain": [
       "                              name symbol\n",
       "0                 10X Genomics Inc    TXG\n",
       "1               21Vianet Group Inc   VNET\n",
       "2                           2U Inc   TWOU\n",
       "3                   3D Systems Inc    DDD\n",
       "4                            3M Co    MMM\n",
       "..                             ...    ...\n",
       "669     Zimmer Biomet Holdings Inc    ZBH\n",
       "670                     Zimvie Inc   ZIMV\n",
       "671                     Zoetis Inc    ZTS\n",
       "672  Zoom Video Communications Inc     ZM\n",
       "673                    Zscaler Inc     ZS\n",
       "\n",
       "[674 rows x 2 columns]"
      ]
     },
     "execution_count": 166,
     "metadata": {},
     "output_type": "execute_result"
    }
   ],
   "source": [
    "supported_symbols: pd.DataFrame = instance.get_supported_assets()\n",
    "\n",
    "supported_symbols "
   ]
  },
  {
   "cell_type": "markdown",
   "metadata": {},
   "source": [
    "## Get Personal Transactions"
   ]
  },
  {
   "cell_type": "code",
   "execution_count": 167,
   "metadata": {},
   "outputs": [
    {
     "data": {
      "text/html": [
       "<div>\n",
       "<style scoped>\n",
       "    .dataframe tbody tr th:only-of-type {\n",
       "        vertical-align: middle;\n",
       "    }\n",
       "\n",
       "    .dataframe tbody tr th {\n",
       "        vertical-align: top;\n",
       "    }\n",
       "\n",
       "    .dataframe thead th {\n",
       "        text-align: right;\n",
       "    }\n",
       "</style>\n",
       "<table border=\"1\" class=\"dataframe\">\n",
       "  <thead>\n",
       "    <tr style=\"text-align: right;\">\n",
       "      <th></th>\n",
       "      <th>name</th>\n",
       "      <th>symbol</th>\n",
       "      <th>shares</th>\n",
       "    </tr>\n",
       "    <tr>\n",
       "      <th>date</th>\n",
       "      <th></th>\n",
       "      <th></th>\n",
       "      <th></th>\n",
       "    </tr>\n",
       "  </thead>\n",
       "  <tbody>\n",
       "    <tr>\n",
       "      <th>2022-07-28</th>\n",
       "      <td>Tesla Inc.</td>\n",
       "      <td>TSLA</td>\n",
       "      <td>0.0688</td>\n",
       "    </tr>\n",
       "    <tr>\n",
       "      <th>2022-07-01</th>\n",
       "      <td>Apple Inc.</td>\n",
       "      <td>AAPL</td>\n",
       "      <td>0.4317</td>\n",
       "    </tr>\n",
       "    <tr>\n",
       "      <th>2022-08-05</th>\n",
       "      <td>3D Systems Corporation</td>\n",
       "      <td>DDD</td>\n",
       "      <td>8.8925</td>\n",
       "    </tr>\n",
       "    <tr>\n",
       "      <th>2022-08-05</th>\n",
       "      <td>Sibanye Stillwater Ltd</td>\n",
       "      <td>SBSW</td>\n",
       "      <td>1.1265</td>\n",
       "    </tr>\n",
       "    <tr>\n",
       "      <th>2022-08-18</th>\n",
       "      <td>Sibanye Stillwater Ltd</td>\n",
       "      <td>SBSW</td>\n",
       "      <td>6.5243</td>\n",
       "    </tr>\n",
       "    <tr>\n",
       "      <th>2022-08-18</th>\n",
       "      <td>3D Systems Corporation</td>\n",
       "      <td>DDD</td>\n",
       "      <td>5.2957</td>\n",
       "    </tr>\n",
       "    <tr>\n",
       "      <th>2022-08-22</th>\n",
       "      <td>SPDR S&amp;P 500 ETF</td>\n",
       "      <td>SPY</td>\n",
       "      <td>0.0829</td>\n",
       "    </tr>\n",
       "    <tr>\n",
       "      <th>2022-08-22</th>\n",
       "      <td>3D Systems Corporation</td>\n",
       "      <td>DDD</td>\n",
       "      <td>2.3170</td>\n",
       "    </tr>\n",
       "    <tr>\n",
       "      <th>2022-08-29</th>\n",
       "      <td>Sibanye Stillwater Ltd</td>\n",
       "      <td>SBSW</td>\n",
       "      <td>-7.6507</td>\n",
       "    </tr>\n",
       "    <tr>\n",
       "      <th>2022-08-29</th>\n",
       "      <td>Tesla Inc.</td>\n",
       "      <td>TSLA</td>\n",
       "      <td>0.0884</td>\n",
       "    </tr>\n",
       "    <tr>\n",
       "      <th>2022-08-29</th>\n",
       "      <td>SPDR S&amp;P 500 ETF</td>\n",
       "      <td>SPY</td>\n",
       "      <td>0.0547</td>\n",
       "    </tr>\n",
       "  </tbody>\n",
       "</table>\n",
       "</div>"
      ],
      "text/plain": [
       "                              name symbol  shares\n",
       "date                                             \n",
       "2022-07-28              Tesla Inc.   TSLA  0.0688\n",
       "2022-07-01              Apple Inc.   AAPL  0.4317\n",
       "2022-08-05  3D Systems Corporation    DDD  8.8925\n",
       "2022-08-05  Sibanye Stillwater Ltd   SBSW  1.1265\n",
       "2022-08-18  Sibanye Stillwater Ltd   SBSW  6.5243\n",
       "2022-08-18  3D Systems Corporation    DDD  5.2957\n",
       "2022-08-22        SPDR S&P 500 ETF    SPY  0.0829\n",
       "2022-08-22  3D Systems Corporation    DDD  2.3170\n",
       "2022-08-29  Sibanye Stillwater Ltd   SBSW -7.6507\n",
       "2022-08-29              Tesla Inc.   TSLA  0.0884\n",
       "2022-08-29        SPDR S&P 500 ETF    SPY  0.0547"
      ]
     },
     "execution_count": 167,
     "metadata": {},
     "output_type": "execute_result"
    }
   ],
   "source": [
    "personal_transactions: pd.DataFrame = instance.get_personal_transactions()\n",
    "\n",
    "personal_transactions"
   ]
  },
  {
   "cell_type": "markdown",
   "metadata": {},
   "source": [
    "## Get Accounts & Holdings"
   ]
  },
  {
   "cell_type": "code",
   "execution_count": 168,
   "metadata": {},
   "outputs": [
    {
     "ename": "Exception",
     "evalue": "Login failed",
     "output_type": "error",
     "traceback": [
      "\u001b[0;31m---------------------------------------------------------------------------\u001b[0m",
      "\u001b[0;31mException\u001b[0m                                 Traceback (most recent call last)",
      "\u001b[0;32m/var/folders/kg/yc3v1y_96vj9m5s_743c5vn00000gn/T/ipykernel_44812/1615531250.py\u001b[0m in \u001b[0;36m<module>\u001b[0;34m\u001b[0m\n\u001b[0;32m----> 1\u001b[0;31m \u001b[0maccounts\u001b[0m\u001b[0;34m:\u001b[0m \u001b[0mlist\u001b[0m \u001b[0;34m=\u001b[0m \u001b[0minstance\u001b[0m\u001b[0;34m.\u001b[0m\u001b[0m__get_accounts__\u001b[0m\u001b[0;34m(\u001b[0m\u001b[0;34m)\u001b[0m\u001b[0;34m\u001b[0m\u001b[0;34m\u001b[0m\u001b[0m\n\u001b[0m\u001b[1;32m      2\u001b[0m \u001b[0musd_account\u001b[0m\u001b[0;34m:\u001b[0m \u001b[0mAccount\u001b[0m \u001b[0;34m=\u001b[0m \u001b[0minstance\u001b[0m\u001b[0;34m.\u001b[0m\u001b[0m__get_account_by_name__\u001b[0m\u001b[0;34m(\u001b[0m\u001b[0maccount_name\u001b[0m\u001b[0;34m=\u001b[0m\u001b[0;34m'EasyEquities USD'\u001b[0m\u001b[0;34m)\u001b[0m\u001b[0;34m\u001b[0m\u001b[0;34m\u001b[0m\u001b[0m\n\u001b[1;32m      3\u001b[0m \u001b[0musd_account_holdings\u001b[0m\u001b[0;34m:\u001b[0m \u001b[0mlist\u001b[0m \u001b[0;34m=\u001b[0m \u001b[0minstance\u001b[0m\u001b[0;34m.\u001b[0m\u001b[0m__get_account_holdings__\u001b[0m\u001b[0;34m(\u001b[0m\u001b[0maccount_name\u001b[0m\u001b[0;34m=\u001b[0m\u001b[0;34m'EasyEquities USD'\u001b[0m\u001b[0;34m)\u001b[0m\u001b[0;34m\u001b[0m\u001b[0;34m\u001b[0m\u001b[0m\n\u001b[1;32m      4\u001b[0m \u001b[0musd_account_valuation\u001b[0m\u001b[0;34m:\u001b[0m \u001b[0mdict\u001b[0m \u001b[0;34m=\u001b[0m \u001b[0minstance\u001b[0m\u001b[0;34m.\u001b[0m\u001b[0m__get_account_valuation__\u001b[0m\u001b[0;34m(\u001b[0m\u001b[0maccount_name\u001b[0m\u001b[0;34m=\u001b[0m\u001b[0;34m'EasyEquities USD'\u001b[0m\u001b[0;34m)\u001b[0m\u001b[0;34m\u001b[0m\u001b[0;34m\u001b[0m\u001b[0m\n",
      "\u001b[0;32m~/Source/fa.intelligence.notebooks/frostaura/data_access/personal_asset_data_access__easy_equities.py\u001b[0m in \u001b[0;36m__get_accounts__\u001b[0;34m(self)\u001b[0m\n\u001b[1;32m     21\u001b[0m     \u001b[0;32mdef\u001b[0m \u001b[0m__get_accounts__\u001b[0m\u001b[0;34m(\u001b[0m\u001b[0mself\u001b[0m\u001b[0;34m)\u001b[0m \u001b[0;34m->\u001b[0m \u001b[0mlist\u001b[0m\u001b[0;34m:\u001b[0m\u001b[0;34m\u001b[0m\u001b[0;34m\u001b[0m\u001b[0m\n\u001b[1;32m     22\u001b[0m         \u001b[0minfo\u001b[0m\u001b[0;34m(\u001b[0m\u001b[0;34mf'Signing into EasyEquities as \"{self.username}\".'\u001b[0m\u001b[0;34m)\u001b[0m\u001b[0;34m\u001b[0m\u001b[0;34m\u001b[0m\u001b[0m\n\u001b[0;32m---> 23\u001b[0;31m         \u001b[0mself\u001b[0m\u001b[0;34m.\u001b[0m\u001b[0mclient\u001b[0m\u001b[0;34m.\u001b[0m\u001b[0mlogin\u001b[0m\u001b[0;34m(\u001b[0m\u001b[0musername\u001b[0m\u001b[0;34m=\u001b[0m\u001b[0mself\u001b[0m\u001b[0;34m.\u001b[0m\u001b[0musername\u001b[0m\u001b[0;34m,\u001b[0m \u001b[0mpassword\u001b[0m\u001b[0;34m=\u001b[0m\u001b[0mself\u001b[0m\u001b[0;34m.\u001b[0m\u001b[0mpassword\u001b[0m\u001b[0;34m)\u001b[0m\u001b[0;34m\u001b[0m\u001b[0;34m\u001b[0m\u001b[0m\n\u001b[0m\u001b[1;32m     24\u001b[0m \u001b[0;34m\u001b[0m\u001b[0m\n\u001b[1;32m     25\u001b[0m         \u001b[0;32mreturn\u001b[0m \u001b[0mself\u001b[0m\u001b[0;34m.\u001b[0m\u001b[0mclient\u001b[0m\u001b[0;34m.\u001b[0m\u001b[0maccounts\u001b[0m\u001b[0;34m.\u001b[0m\u001b[0mlist\u001b[0m\u001b[0;34m(\u001b[0m\u001b[0;34m)\u001b[0m\u001b[0;34m\u001b[0m\u001b[0;34m\u001b[0m\u001b[0m\n",
      "\u001b[0;32m~/miniforge3/envs/tensorflow-apple-metal/lib/python3.9/site-packages/easy_equities_client/clients.py\u001b[0m in \u001b[0;36mlogin\u001b[0;34m(self, username, password)\u001b[0m\n\u001b[1;32m     52\u001b[0m         \u001b[0mresponse\u001b[0m\u001b[0;34m.\u001b[0m\u001b[0mraise_for_status\u001b[0m\u001b[0;34m(\u001b[0m\u001b[0;34m)\u001b[0m\u001b[0;34m\u001b[0m\u001b[0;34m\u001b[0m\u001b[0m\n\u001b[1;32m     53\u001b[0m         \u001b[0;32mif\u001b[0m \u001b[0mresponse\u001b[0m\u001b[0;34m.\u001b[0m\u001b[0mstatus_code\u001b[0m \u001b[0;34m!=\u001b[0m \u001b[0;36m302\u001b[0m\u001b[0;34m:\u001b[0m\u001b[0;34m\u001b[0m\u001b[0;34m\u001b[0m\u001b[0m\n\u001b[0;32m---> 54\u001b[0;31m             \u001b[0;32mraise\u001b[0m \u001b[0mException\u001b[0m\u001b[0;34m(\u001b[0m\u001b[0;34m\"Login failed\"\u001b[0m\u001b[0;34m)\u001b[0m\u001b[0;34m\u001b[0m\u001b[0;34m\u001b[0m\u001b[0m\n\u001b[0m\u001b[1;32m     55\u001b[0m \u001b[0;34m\u001b[0m\u001b[0m\n\u001b[1;32m     56\u001b[0m         \u001b[0;32mreturn\u001b[0m \u001b[0;32mTrue\u001b[0m\u001b[0;34m\u001b[0m\u001b[0;34m\u001b[0m\u001b[0m\n",
      "\u001b[0;31mException\u001b[0m: Login failed"
     ]
    }
   ],
   "source": [
    "accounts: list = instance.__get_accounts__()\n",
    "usd_account: Account = instance.__get_account_by_name__(account_name='EasyEquities USD')\n",
    "usd_account_holdings: list = instance.__get_account_holdings__(account_name='EasyEquities USD')\n",
    "usd_account_valuation: dict = instance.__get_account_valuation__(account_name='EasyEquities USD')"
   ]
  }
 ],
 "metadata": {
  "kernelspec": {
   "display_name": "Python 3.9.7 ('tensorflow-apple-metal')",
   "language": "python",
   "name": "python3"
  },
  "language_info": {
   "codemirror_mode": {
    "name": "ipython",
    "version": 3
   },
   "file_extension": ".py",
   "mimetype": "text/x-python",
   "name": "python",
   "nbconvert_exporter": "python",
   "pygments_lexer": "ipython3",
   "version": "3.9.7"
  },
  "orig_nbformat": 4,
  "vscode": {
   "interpreter": {
    "hash": "f237d2a9665fb481726a5cf6ceac5955148535d2fa68bde4e6b3866477620792"
   }
  }
 },
 "nbformat": 4,
 "nbformat_minor": 2
}
