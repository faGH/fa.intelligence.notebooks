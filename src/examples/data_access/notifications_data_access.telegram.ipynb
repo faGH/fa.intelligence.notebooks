{
 "cells": [
  {
   "attachments": {},
   "cell_type": "markdown",
   "metadata": {},
   "source": [
    "# Install Dependencies"
   ]
  },
  {
   "attachments": {},
   "cell_type": "markdown",
   "metadata": {},
   "source": [
    "## External Dependencies"
   ]
  },
  {
   "cell_type": "code",
   "execution_count": 1,
   "metadata": {},
   "outputs": [
    {
     "name": "stdout",
     "output_type": "stream",
     "text": [
      "Requirement already satisfied: python-telegram-bot in /Users/deanmartin/miniforge3/envs/tensorflow-apple-metal/lib/python3.9/site-packages (13.13)\n",
      "Requirement already satisfied: matplotlib in /Users/deanmartin/miniforge3/envs/tensorflow-apple-metal/lib/python3.9/site-packages (3.4.3)\n",
      "Requirement already satisfied: prettytable in /Users/deanmartin/miniforge3/envs/tensorflow-apple-metal/lib/python3.9/site-packages (3.3.0)\n",
      "Requirement already satisfied: pandas in /Users/deanmartin/miniforge3/envs/tensorflow-apple-metal/lib/python3.9/site-packages (1.3.3)\n",
      "Requirement already satisfied: beautifulsoup4 in /Users/deanmartin/miniforge3/envs/tensorflow-apple-metal/lib/python3.9/site-packages (4.11.1)\n",
      "Requirement already satisfied: yfinance in /Users/deanmartin/miniforge3/envs/tensorflow-apple-metal/lib/python3.9/site-packages (0.1.74)\n",
      "Requirement already satisfied: expiringdict in /Users/deanmartin/miniforge3/envs/tensorflow-apple-metal/lib/python3.9/site-packages (1.2.2)\n",
      "Requirement already satisfied: easy_equities_client in /Users/deanmartin/miniforge3/envs/tensorflow-apple-metal/lib/python3.9/site-packages (0.5.0)\n",
      "Requirement already satisfied: cachetools==4.2.2 in /Users/deanmartin/miniforge3/envs/tensorflow-apple-metal/lib/python3.9/site-packages (from python-telegram-bot) (4.2.2)\n",
      "Requirement already satisfied: tornado>=6.1 in /Users/deanmartin/miniforge3/envs/tensorflow-apple-metal/lib/python3.9/site-packages (from python-telegram-bot) (6.2)\n",
      "Requirement already satisfied: certifi in /Users/deanmartin/miniforge3/envs/tensorflow-apple-metal/lib/python3.9/site-packages (from python-telegram-bot) (2021.10.8)\n",
      "Requirement already satisfied: APScheduler==3.6.3 in /Users/deanmartin/miniforge3/envs/tensorflow-apple-metal/lib/python3.9/site-packages (from python-telegram-bot) (3.6.3)\n",
      "Requirement already satisfied: pytz>=2018.6 in /Users/deanmartin/miniforge3/envs/tensorflow-apple-metal/lib/python3.9/site-packages (from python-telegram-bot) (2022.1)\n",
      "Requirement already satisfied: setuptools>=0.7 in /Users/deanmartin/miniforge3/envs/tensorflow-apple-metal/lib/python3.9/site-packages (from APScheduler==3.6.3->python-telegram-bot) (58.0.4)\n",
      "Requirement already satisfied: six>=1.4.0 in /Users/deanmartin/miniforge3/envs/tensorflow-apple-metal/lib/python3.9/site-packages (from APScheduler==3.6.3->python-telegram-bot) (1.15.0)\n",
      "Requirement already satisfied: tzlocal>=1.2 in /Users/deanmartin/miniforge3/envs/tensorflow-apple-metal/lib/python3.9/site-packages (from APScheduler==3.6.3->python-telegram-bot) (4.2)\n",
      "Requirement already satisfied: pillow>=6.2.0 in /Users/deanmartin/miniforge3/envs/tensorflow-apple-metal/lib/python3.9/site-packages (from matplotlib) (8.3.2)\n",
      "Requirement already satisfied: python-dateutil>=2.7 in /Users/deanmartin/miniforge3/envs/tensorflow-apple-metal/lib/python3.9/site-packages (from matplotlib) (2.8.2)\n",
      "Requirement already satisfied: cycler>=0.10 in /Users/deanmartin/miniforge3/envs/tensorflow-apple-metal/lib/python3.9/site-packages (from matplotlib) (0.10.0)\n",
      "Requirement already satisfied: numpy>=1.16 in /Users/deanmartin/miniforge3/envs/tensorflow-apple-metal/lib/python3.9/site-packages (from matplotlib) (1.22.1)\n",
      "Requirement already satisfied: kiwisolver>=1.0.1 in /Users/deanmartin/miniforge3/envs/tensorflow-apple-metal/lib/python3.9/site-packages (from matplotlib) (1.3.2)\n",
      "Requirement already satisfied: pyparsing>=2.2.1 in /Users/deanmartin/miniforge3/envs/tensorflow-apple-metal/lib/python3.9/site-packages (from matplotlib) (2.4.7)\n",
      "Requirement already satisfied: wcwidth in /Users/deanmartin/miniforge3/envs/tensorflow-apple-metal/lib/python3.9/site-packages (from prettytable) (0.2.5)\n",
      "Requirement already satisfied: soupsieve>1.2 in /Users/deanmartin/miniforge3/envs/tensorflow-apple-metal/lib/python3.9/site-packages (from beautifulsoup4) (2.3.2.post1)\n",
      "Requirement already satisfied: lxml>=4.5.1 in /Users/deanmartin/miniforge3/envs/tensorflow-apple-metal/lib/python3.9/site-packages (from yfinance) (4.6.3)\n",
      "Requirement already satisfied: requests>=2.26 in /Users/deanmartin/miniforge3/envs/tensorflow-apple-metal/lib/python3.9/site-packages (from yfinance) (2.26.0)\n",
      "Requirement already satisfied: multitasking>=0.0.7 in /Users/deanmartin/miniforge3/envs/tensorflow-apple-metal/lib/python3.9/site-packages (from yfinance) (0.0.11)\n",
      "Requirement already satisfied: bs4<0.0.2,>=0.0.1 in /Users/deanmartin/miniforge3/envs/tensorflow-apple-metal/lib/python3.9/site-packages (from easy_equities_client) (0.0.1)\n",
      "Requirement already satisfied: idna<4,>=2.5 in /Users/deanmartin/miniforge3/envs/tensorflow-apple-metal/lib/python3.9/site-packages (from requests>=2.26->yfinance) (3.1)\n",
      "Requirement already satisfied: urllib3<1.27,>=1.21.1 in /Users/deanmartin/miniforge3/envs/tensorflow-apple-metal/lib/python3.9/site-packages (from requests>=2.26->yfinance) (1.26.7)\n",
      "Requirement already satisfied: charset-normalizer~=2.0.0 in /Users/deanmartin/miniforge3/envs/tensorflow-apple-metal/lib/python3.9/site-packages (from requests>=2.26->yfinance) (2.0.0)\n",
      "Requirement already satisfied: pytz-deprecation-shim in /Users/deanmartin/miniforge3/envs/tensorflow-apple-metal/lib/python3.9/site-packages (from tzlocal>=1.2->APScheduler==3.6.3->python-telegram-bot) (0.1.0.post0)\n",
      "Requirement already satisfied: tzdata in /Users/deanmartin/miniforge3/envs/tensorflow-apple-metal/lib/python3.9/site-packages (from pytz-deprecation-shim->tzlocal>=1.2->APScheduler==3.6.3->python-telegram-bot) (2022.1)\n",
      "\n",
      "\u001b[1m[\u001b[0m\u001b[34;49mnotice\u001b[0m\u001b[1;39;49m]\u001b[0m\u001b[39;49m A new release of pip available: \u001b[0m\u001b[31;49m22.2.1\u001b[0m\u001b[39;49m -> \u001b[0m\u001b[32;49m23.1.2\u001b[0m\n",
      "\u001b[1m[\u001b[0m\u001b[34;49mnotice\u001b[0m\u001b[1;39;49m]\u001b[0m\u001b[39;49m To update, run: \u001b[0m\u001b[32;49mpip install --upgrade pip\u001b[0m\n"
     ]
    }
   ],
   "source": [
    "!pip install python-telegram-bot matplotlib prettytable pandas beautifulsoup4 yfinance expiringdict easy_equities_client"
   ]
  },
  {
   "attachments": {},
   "cell_type": "markdown",
   "metadata": {},
   "source": [
    "## FrostAura Dependencies"
   ]
  },
  {
   "cell_type": "code",
   "execution_count": 2,
   "metadata": {},
   "outputs": [
    {
     "name": "stdout",
     "output_type": "stream",
     "text": [
      "\u001b[33mWARNING: Skipping frostaura as it is not installed.\u001b[0m\u001b[33m\n",
      "\u001b[0mNote: you may need to restart the kernel to use updated packages.\n"
     ]
    }
   ],
   "source": [
    "import os\n",
    "import sys\n",
    "\n",
    "USE_LOCAL_CODE: bool = True # NOTE: When changing this configuration, be sure to restart the interpreter in order to have sys path updates reflect.\n",
    "directories_to_move_up: int = 2\n",
    "current_executing_path: str = os.getcwd()\n",
    "current_executing_path = current_executing_path.replace('\\\\', '/')\n",
    "root_path: str = '/'.join(current_executing_path.split('/')[:-directories_to_move_up])\n",
    "\n",
    "# Clean up.\n",
    "%pip uninstall frostaura -y\n",
    "sys.path = [p for p in sys.path if p != root_path]\n",
    "\n",
    "if USE_LOCAL_CODE:\n",
    "    sys.path.append(root_path)\n",
    "else:\n",
    "    %pip install -U --no-cache-dir frostaura"
   ]
  },
  {
   "attachments": {},
   "cell_type": "markdown",
   "metadata": {},
   "source": [
    "# Import Dependencies"
   ]
  },
  {
   "cell_type": "code",
   "execution_count": 3,
   "metadata": {},
   "outputs": [],
   "source": [
    "from frostaura.data_access import INotificationsDataAccess\n",
    "from frostaura.data_access import TelegramNotificationsDataAccess\n",
    "from telegram import Update\n",
    "import uuid\n",
    "import matplotlib.pyplot as plt\n",
    "import pandas as pd"
   ]
  },
  {
   "attachments": {},
   "cell_type": "markdown",
   "metadata": {},
   "source": [
    "# Usage"
   ]
  },
  {
   "cell_type": "code",
   "execution_count": 4,
   "metadata": {},
   "outputs": [],
   "source": []
  },
  {
   "attachments": {},
   "cell_type": "markdown",
   "metadata": {},
   "source": [
    "## Sending"
   ]
  },
  {
   "cell_type": "code",
   "execution_count": 5,
   "metadata": {},
   "outputs": [],
   "source": [
    "config: dict = {}\n",
    "bot_token = os.environ.get('telegram_bot_token')\n",
    "personal_chat_id = os.environ.get('telegram_chat_id')\n",
    "instance: INotificationsDataAccess = TelegramNotificationsDataAccess(bot_token=bot_token,\n",
    "                                                                     chat_id=personal_chat_id)"
   ]
  },
  {
   "cell_type": "code",
   "execution_count": 6,
   "metadata": {},
   "outputs": [],
   "source": [
    "instance.send_text('Hello ***World!***')"
   ]
  },
  {
   "cell_type": "code",
   "execution_count": 7,
   "metadata": {},
   "outputs": [
    {
     "data": {
      "image/png": "[encoded data removed]",
      "text/plain": [
       "<Figure size 432x288 with 1 Axes>"
      ]
     },
     "metadata": {
      "needs_background": "light"
     },
     "output_type": "display_data"
    }
   ],
   "source": [
    "fig = plt.plot([2,3,4])[0].get_figure()\n",
    "\n",
    "instance.send_figure(figure=fig)"
   ]
  },
  {
   "cell_type": "code",
   "execution_count": 8,
   "metadata": {},
   "outputs": [],
   "source": [
    "df: pd.DataFrame = pd.DataFrame({\n",
    "    'Col 1': [\n",
    "        'Col 1 > Row 1',\n",
    "        'Col 1 > Row 2'\n",
    "    ],\n",
    "    'Col 2': [\n",
    "        'Col 2 > Row 1',\n",
    "        'Col 2 > Row 2'\n",
    "    ]\n",
    "})\n",
    "\n",
    "instance.send_dataframe(dataframe=df)"
   ]
  },
  {
   "cell_type": "code",
   "execution_count": 9,
   "metadata": {},
   "outputs": [
    {
     "name": "stderr",
     "output_type": "stream",
     "text": [
      "Error while getting Updates: Conflict: terminated by other getUpdates request; make sure that only one bot instance is running\n"
     ]
    }
   ],
   "source": [
    "instance.__exit__(exc_type=None, exc_value=None, t_b=None)"
   ]
  },
  {
   "attachments": {},
   "cell_type": "markdown",
   "metadata": {},
   "source": [
    "## Receiving"
   ]
  },
  {
   "cell_type": "code",
   "execution_count": 10,
   "metadata": {},
   "outputs": [],
   "source": [
    "config: dict = {}\n",
    "bot_token = os.environ.get('telegram_bot_token')\n",
    "personal_chat_id = os.environ.get('telegram_chat_id')\n",
    "instance: INotificationsDataAccess = TelegramNotificationsDataAccess(bot_token=bot_token,\n",
    "                                                                     chat_id=personal_chat_id)"
   ]
  },
  {
   "cell_type": "code",
   "execution_count": 11,
   "metadata": {},
   "outputs": [],
   "source": [
    "def on_message(update: Update, context) -> None:\n",
    "    message = update.message\n",
    "    sender = message.from_user\n",
    "    sender_full_name: str = f'{sender.first_name} {sender.last_name}'\n",
    "    files_to_process: list = []\n",
    "\n",
    "    voice = message.voice\n",
    "    if voice is not None:\n",
    "        filename: str = str(uuid.uuid4())\n",
    "        filepath: str = f'../../data/voicenote_{filename}.mp3'\n",
    "        files_to_process.append(filepath)\n",
    "        file = context.bot.get_file(voice.file_id)\n",
    "        file.download(filepath)\n",
    "\n",
    "        context.bot.send_message(\n",
    "            chat_id=personal_chat_id,\n",
    "            reply_to_message_id=message.message_id,\n",
    "            text=f'[VOICE] => {sender_full_name}: {filepath}'\n",
    "        )\n",
    "        print(f'[VOICE] => {sender_full_name}: {filepath}')\n",
    "\n",
    "    photos = message.photo\n",
    "    if photos is not None and len(photos) > 0:\n",
    "        filename: str = str(uuid.uuid4())\n",
    "\n",
    "        for photo in photos:\n",
    "            filepath: str = f'../../data/photo_{filename}_{photo.width}x{photo.height}.png'\n",
    "            files_to_process.append(filepath)\n",
    "            file = context.bot.get_file(photo.file_id)\n",
    "            file.download(filepath)\n",
    "\n",
    "        context.bot.send_message(\n",
    "            chat_id=personal_chat_id,\n",
    "            reply_to_message_id=message.message_id,\n",
    "            text=f'[PHOTO] => {sender_full_name}: {len(photos)}'\n",
    "        )\n",
    "        print(f'[PHOTO] => {sender_full_name}: {len(photos)}')\n",
    "\n",
    "    text: str = message.text\n",
    "    if text is not None:\n",
    "        context.bot.send_message(\n",
    "            chat_id=personal_chat_id,\n",
    "            reply_to_message_id=message.message_id,\n",
    "            text=f'[Text] => {sender_full_name}: {text}'\n",
    "        )\n",
    "        print(f'[Text] => {sender_full_name}: {text}')\n",
    "\n",
    "    # TODO: After processing everything to text, construct a modalities prompt.\n",
    "\n",
    "instance.message_handler = on_message"
   ]
  },
  {
   "cell_type": "code",
   "execution_count": 13,
   "metadata": {},
   "outputs": [
    {
     "name": "stderr",
     "output_type": "stream",
     "text": [
      "Error while getting Updates: Conflict: terminated by other getUpdates request; make sure that only one bot instance is running\n"
     ]
    }
   ],
   "source": [
    "instance.__exit__(exc_type=None, exc_value=None, t_b=None)"
   ]
  },
  {
   "cell_type": "code",
   "execution_count": null,
   "metadata": {},
   "outputs": [],
   "source": []
  }
 ],
 "metadata": {
  "kernelspec": {
   "display_name": "Python 3.9.7 ('tensorflow-apple-metal')",
   "language": "python",
   "name": "python3"
  },
  "language_info": {
   "codemirror_mode": {
    "name": "ipython",
    "version": 3
   },
   "file_extension": ".py",
   "mimetype": "text/x-python",
   "name": "python",
   "nbconvert_exporter": "python",
   "pygments_lexer": "ipython3",
   "version": "3.9.7"
  },
  "orig_nbformat": 4,
  "vscode": {
   "interpreter": {
    "hash": "f237d2a9665fb481726a5cf6ceac5955148535d2fa68bde4e6b3866477620792"
   }
  }
 },
 "nbformat": 4,
 "nbformat_minor": 2
}
