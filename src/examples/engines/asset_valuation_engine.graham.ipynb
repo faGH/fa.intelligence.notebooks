{
 "cells": [
  {
   "cell_type": "markdown",
   "metadata": {},
   "source": [
    "# Install Dependencies"
   ]
  },
  {
   "cell_type": "markdown",
   "metadata": {},
   "source": [
    "## External Dependencies"
   ]
  },
  {
   "cell_type": "code",
   "execution_count": 1,
   "metadata": {},
   "outputs": [],
   "source": [
    "#!pip install pip"
   ]
  },
  {
   "cell_type": "markdown",
   "metadata": {},
   "source": [
    "## FrostAura Dependencies"
   ]
  },
  {
   "cell_type": "code",
   "execution_count": 2,
   "metadata": {},
   "outputs": [
    {
     "name": "stdout",
     "output_type": "stream",
     "text": [
      "\u001b[33mWARNING: Skipping frostaura as it is not installed.\u001b[0m\u001b[33m\n",
      "\u001b[0mNote: you may need to restart the kernel to use updated packages.\n"
     ]
    }
   ],
   "source": [
    "import os\n",
    "import sys\n",
    "\n",
    "USE_LOCAL_CODE: bool = True # NOTE: When changing this configuration, be sure to restart the interpreter in order to have sys path updates reflect.\n",
    "directories_to_move_up: int = 2\n",
    "current_executing_path: str = os.getcwd()\n",
    "current_executing_path = current_executing_path.replace('\\\\', '/')\n",
    "root_path: str = '/'.join(current_executing_path.split('/')[:-directories_to_move_up])\n",
    "\n",
    "# Clean up.\n",
    "%pip uninstall frostaura -y\n",
    "sys.path = [p for p in sys.path if p != root_path]\n",
    "\n",
    "if USE_LOCAL_CODE:\n",
    "    sys.path.append(root_path)\n",
    "else:\n",
    "    %pip install -U --no-cache-dir frostaura"
   ]
  },
  {
   "cell_type": "markdown",
   "metadata": {},
   "source": [
    "# Import Dependencies"
   ]
  },
  {
   "cell_type": "code",
   "execution_count": 3,
   "metadata": {},
   "outputs": [],
   "source": [
    "\n",
    "from frostaura.engines import IAssetValuationEngine\n",
    "from frostaura.engines import GrahamValuationEngine\n",
    "from frostaura.data_access import IPublicAssetDataAccess\n",
    "from frostaura.data_access import YahooFinanceDataAccess\n",
    "from frostaura.data_access import IResourcesDataAccess\n",
    "from frostaura.data_access import HtmlResourcesDataAccess\n",
    "from frostaura.models import ValuationResult\n",
    "import pandas as pd"
   ]
  },
  {
   "cell_type": "markdown",
   "metadata": {},
   "source": [
    "## Logging"
   ]
  },
  {
   "cell_type": "code",
   "execution_count": 4,
   "metadata": {},
   "outputs": [],
   "source": [
    "import logging\n",
    "\n",
    "logging.basicConfig(level=logging.DEBUG)"
   ]
  },
  {
   "cell_type": "markdown",
   "metadata": {},
   "source": [
    "# Usage"
   ]
  },
  {
   "cell_type": "code",
   "execution_count": 5,
   "metadata": {},
   "outputs": [
    {
     "name": "stderr",
     "output_type": "stream",
     "text": [
      "DEBUG:urllib3.connectionpool:Starting new HTTPS connection (1): query1.finance.yahoo.com:443\n",
      "DEBUG:urllib3.connectionpool:https://query1.finance.yahoo.com:443 \"GET /v10/finance/quoteSummary/AAPL?modules=assetProfile,defaultKeyStatistics,financialData,earningsTrend,price,summaryDetail HTTP/1.1\" 200 None\n"
     ]
    }
   ],
   "source": [
    "html_data_access: IResourcesDataAccess = HtmlResourcesDataAccess()\n",
    "public_asset_data_access: IPublicAssetDataAccess = YahooFinanceDataAccess()\n",
    "instance: IAssetValuationEngine = GrahamValuationEngine(html_data_access=html_data_access, public_asset_data_access=public_asset_data_access)\n",
    "test_data: pd.DataFrame = pd.DataFrame({\n",
    "    'symbol': [ 'AAPL' ]\n",
    "})\n",
    "test_data = public_asset_data_access.augment_symbols_info(symbols=test_data)"
   ]
  },
  {
   "cell_type": "code",
   "execution_count": 6,
   "metadata": {},
   "outputs": [
    {
     "data": {
      "text/plain": [
       "{'symbol': 'AAPL',\n",
       " 'company_name': 'Apple Inc.',\n",
       " 'current_price': 155.96,\n",
       " 'eps': 6.05,\n",
       " 'annual_growth_projected': 0.094799995,\n",
       " 'current_yield_of_aaa_corporate_bonds': 4.27,\n",
       " 'pe_base_non_growth_company': 8.5,\n",
       " 'average_yield_of_aaa_corporate_bonds': 4.4}"
      ]
     },
     "execution_count": 6,
     "metadata": {},
     "output_type": "execute_result"
    }
   ],
   "source": [
    "vars(test_data.quote[0])"
   ]
  },
  {
   "cell_type": "code",
   "execution_count": 7,
   "metadata": {},
   "outputs": [
    {
     "data": {
      "text/plain": [
       "{'symbol': 'AAPL',\n",
       " 'company_name': 'Apple Inc.',\n",
       " 'current_price': 155.96,\n",
       " 'valuation_method': 'benjamin_graham_valuation',\n",
       " 'valuation_price': 171.1909071147541,\n",
       " 'fair_price': 85.59545355737706,\n",
       " 'absolute_current_v_valuation_delta': 0.45117046962440976,\n",
       " 'is_overvalued': True,\n",
       " 'margin_of_safety': 0.5}"
      ]
     },
     "execution_count": 7,
     "metadata": {},
     "output_type": "execute_result"
    }
   ],
   "source": [
    "valuation: ValuationResult = instance.valuate(symbol_data=test_data.quote[0])\n",
    "\n",
    "vars(valuation)"
   ]
  }
 ],
 "metadata": {
  "kernelspec": {
   "display_name": "Python 3.9.7 ('tensorflow-apple-metal')",
   "language": "python",
   "name": "python3"
  },
  "language_info": {
   "codemirror_mode": {
    "name": "ipython",
    "version": 3
   },
   "file_extension": ".py",
   "mimetype": "text/x-python",
   "name": "python",
   "nbconvert_exporter": "python",
   "pygments_lexer": "ipython3",
   "version": "3.9.7"
  },
  "orig_nbformat": 4,
  "vscode": {
   "interpreter": {
    "hash": "f237d2a9665fb481726a5cf6ceac5955148535d2fa68bde4e6b3866477620792"
   }
  }
 },
 "nbformat": 4,
 "nbformat_minor": 2
}
