{
 "cells": [
  {
   "cell_type": "markdown",
   "metadata": {},
   "source": [
    "# Language Classification"
   ]
  },
  {
   "cell_type": "markdown",
   "metadata": {},
   "source": [
    "## Sentiment Analysis\n",
    "- Raw text is tokenized.\n",
    "- Feed token IDs into model (Into first, Embedding layer which then translates into world vectors).\n",
    "- Output activations -> Transformer heads -> Probabilities for each possible response like positive, negative and neutral, which all adds up to 1 (Softmax).\n",
    "- argmax (Looks at each value and return the index of the greatest)."
   ]
  },
  {
   "cell_type": "markdown",
   "metadata": {},
   "source": [
    "### Install Dependencies"
   ]
  },
  {
   "cell_type": "code",
   "execution_count": 1,
   "metadata": {},
   "outputs": [
    {
     "name": "stdout",
     "output_type": "stream",
     "text": [
      "Requirement already satisfied: pip in c:\\users\\divanma\\.conda\\envs\\windows-ml-station\\lib\\site-packages (22.0.4)\n"
     ]
    },
    {
     "name": "stderr",
     "output_type": "stream",
     "text": [
      "WARNING: Ignoring invalid distribution -ymupdf (c:\\users\\divanma\\.conda\\envs\\windows-ml-station\\lib\\site-packages)\n",
      "WARNING: Ignoring invalid distribution -ymupdf (c:\\users\\divanma\\.conda\\envs\\windows-ml-station\\lib\\site-packages)\n",
      "WARNING: Ignoring invalid distribution -ymupdf (c:\\users\\divanma\\.conda\\envs\\windows-ml-station\\lib\\site-packages)\n",
      "WARNING: Ignoring invalid distribution -ymupdf (c:\\users\\divanma\\.conda\\envs\\windows-ml-station\\lib\\site-packages)\n",
      "WARNING: Ignoring invalid distribution -ymupdf (c:\\users\\divanma\\.conda\\envs\\windows-ml-station\\lib\\site-packages)\n"
     ]
    }
   ],
   "source": [
    "!pip install -U pip"
   ]
  },
  {
   "cell_type": "code",
   "execution_count": 2,
   "metadata": {},
   "outputs": [
    {
     "name": "stderr",
     "output_type": "stream",
     "text": [
      "WARNING: Ignoring invalid distribution -ymupdf (c:\\users\\divanma\\.conda\\envs\\windows-ml-station\\lib\\site-packages)\n",
      "WARNING: Ignoring invalid distribution -ymupdf (c:\\users\\divanma\\.conda\\envs\\windows-ml-station\\lib\\site-packages)\n",
      "ERROR: Could not find a version that satisfies the requirement openssl (from versions: none)\n",
      "ERROR: No matching distribution found for openssl\n",
      "WARNING: Ignoring invalid distribution -ymupdf (c:\\users\\divanma\\.conda\\envs\\windows-ml-station\\lib\\site-packages)\n",
      "WARNING: Ignoring invalid distribution -ymupdf (c:\\users\\divanma\\.conda\\envs\\windows-ml-station\\lib\\site-packages)\n"
     ]
    }
   ],
   "source": [
    "!pip install -U openssl"
   ]
  },
  {
   "cell_type": "code",
   "execution_count": 3,
   "metadata": {},
   "outputs": [
    {
     "name": "stdout",
     "output_type": "stream",
     "text": [
      "Requirement already satisfied: flair in c:\\users\\divanma\\.conda\\envs\\windows-ml-station\\lib\\site-packages (0.10)\n",
      "Requirement already satisfied: more-itertools~=8.8.0 in c:\\users\\divanma\\.conda\\envs\\windows-ml-station\\lib\\site-packages (from flair) (8.8.0)\n",
      "Requirement already satisfied: huggingface-hub in c:\\users\\divanma\\.conda\\envs\\windows-ml-station\\lib\\site-packages (from flair) (0.4.0)\n",
      "Requirement already satisfied: scikit-learn>=0.21.3 in c:\\users\\divanma\\.conda\\envs\\windows-ml-station\\lib\\site-packages (from flair) (1.0)\n",
      "Requirement already satisfied: bpemb>=0.3.2 in c:\\users\\divanma\\.conda\\envs\\windows-ml-station\\lib\\site-packages (from flair) (0.3.3)\n",
      "Requirement already satisfied: ftfy in c:\\users\\divanma\\.conda\\envs\\windows-ml-station\\lib\\site-packages (from flair) (6.1.1)\n",
      "Requirement already satisfied: torch!=1.8,>=1.5.0 in c:\\users\\divanma\\.conda\\envs\\windows-ml-station\\lib\\site-packages (from flair) (1.10.0)\n",
      "Requirement already satisfied: sentencepiece==0.1.95 in c:\\users\\divanma\\.conda\\envs\\windows-ml-station\\lib\\site-packages (from flair) (0.1.95)\n",
      "Requirement already satisfied: deprecated>=1.2.4 in c:\\users\\divanma\\.conda\\envs\\windows-ml-station\\lib\\site-packages (from flair) (1.2.13)\n",
      "Requirement already satisfied: matplotlib>=2.2.3 in c:\\users\\divanma\\.conda\\envs\\windows-ml-station\\lib\\site-packages (from flair) (3.4.3)\n",
      "Requirement already satisfied: gdown==3.12.2 in c:\\users\\divanma\\.conda\\envs\\windows-ml-station\\lib\\site-packages (from flair) (3.12.2)\n",
      "Requirement already satisfied: wikipedia-api in c:\\users\\divanma\\.conda\\envs\\windows-ml-station\\lib\\site-packages (from flair) (0.5.4)\n",
      "Requirement already satisfied: konoha<5.0.0,>=4.0.0 in c:\\users\\divanma\\.conda\\envs\\windows-ml-station\\lib\\site-packages (from flair) (4.6.5)\n",
      "Requirement already satisfied: regex in c:\\users\\divanma\\.conda\\envs\\windows-ml-station\\lib\\site-packages (from flair) (2021.11.10)\n",
      "Requirement already satisfied: tabulate in c:\\users\\divanma\\.conda\\envs\\windows-ml-station\\lib\\site-packages (from flair) (0.8.9)\n",
      "Requirement already satisfied: gensim>=3.4.0 in c:\\users\\divanma\\.conda\\envs\\windows-ml-station\\lib\\site-packages (from flair) (4.1.2)\n",
      "Requirement already satisfied: tqdm>=4.26.0 in c:\\users\\divanma\\.conda\\envs\\windows-ml-station\\lib\\site-packages (from flair) (4.62.3)\n",
      "Requirement already satisfied: janome in c:\\users\\divanma\\.conda\\envs\\windows-ml-station\\lib\\site-packages (from flair) (0.4.2)\n",
      "Requirement already satisfied: langdetect in c:\\users\\divanma\\.conda\\envs\\windows-ml-station\\lib\\site-packages (from flair) (1.0.9)\n",
      "Requirement already satisfied: sqlitedict>=1.6.0 in c:\\users\\divanma\\.conda\\envs\\windows-ml-station\\lib\\site-packages (from flair) (2.0.0)\n",
      "Requirement already satisfied: lxml in c:\\users\\divanma\\.conda\\envs\\windows-ml-station\\lib\\site-packages (from flair) (4.6.3)\n",
      "Requirement already satisfied: segtok>=1.5.7 in c:\\users\\divanma\\.conda\\envs\\windows-ml-station\\lib\\site-packages (from flair) (1.5.11)\n",
      "Requirement already satisfied: python-dateutil>=2.6.1 in c:\\users\\divanma\\.conda\\envs\\windows-ml-station\\lib\\site-packages (from flair) (2.8.2)\n",
      "Requirement already satisfied: mpld3==0.3 in c:\\users\\divanma\\.conda\\envs\\windows-ml-station\\lib\\site-packages (from flair) (0.3)\n",
      "Requirement already satisfied: transformers>=4.0.0 in c:\\users\\divanma\\.conda\\envs\\windows-ml-station\\lib\\site-packages (from flair) (4.17.0)\n",
      "Requirement already satisfied: conllu>=4.0 in c:\\users\\divanma\\.conda\\envs\\windows-ml-station\\lib\\site-packages (from flair) (4.4.1)\n",
      "Requirement already satisfied: requests[socks] in c:\\users\\divanma\\.conda\\envs\\windows-ml-station\\lib\\site-packages (from gdown==3.12.2->flair) (2.27.1)\n",
      "Requirement already satisfied: six in c:\\users\\divanma\\.conda\\envs\\windows-ml-station\\lib\\site-packages (from gdown==3.12.2->flair) (1.12.0)\n",
      "Requirement already satisfied: filelock in c:\\users\\divanma\\.conda\\envs\\windows-ml-station\\lib\\site-packages (from gdown==3.12.2->flair) (3.6.0)\n",
      "Requirement already satisfied: numpy in c:\\users\\divanma\\.conda\\envs\\windows-ml-station\\lib\\site-packages (from bpemb>=0.3.2->flair) (1.19.5)\n",
      "Requirement already satisfied: wrapt<2,>=1.10 in c:\\users\\divanma\\.conda\\envs\\windows-ml-station\\lib\\site-packages (from deprecated>=1.2.4->flair) (1.12.1)\n",
      "Requirement already satisfied: smart-open>=1.8.1 in c:\\users\\divanma\\.conda\\envs\\windows-ml-station\\lib\\site-packages (from gensim>=3.4.0->flair) (5.2.1)\n",
      "Requirement already satisfied: scipy>=0.18.1 in c:\\users\\divanma\\.conda\\envs\\windows-ml-station\\lib\\site-packages (from gensim>=3.4.0->flair) (1.7.1)\n",
      "Requirement already satisfied: Cython==0.29.23 in c:\\users\\divanma\\.conda\\envs\\windows-ml-station\\lib\\site-packages (from gensim>=3.4.0->flair) (0.29.23)\n",
      "Requirement already satisfied: importlib-metadata<4.0.0,>=3.7.0 in c:\\users\\divanma\\.conda\\envs\\windows-ml-station\\lib\\site-packages (from konoha<5.0.0,>=4.0.0->flair) (3.10.1)\n",
      "Requirement already satisfied: overrides<4.0.0,>=3.0.0 in c:\\users\\divanma\\.conda\\envs\\windows-ml-station\\lib\\site-packages (from konoha<5.0.0,>=4.0.0->flair) (3.1.0)\n",
      "Requirement already satisfied: pyparsing>=2.2.1 in c:\\users\\divanma\\.conda\\envs\\windows-ml-station\\lib\\site-packages (from matplotlib>=2.2.3->flair) (2.4.7)\n",
      "Requirement already satisfied: cycler>=0.10 in c:\\users\\divanma\\.conda\\envs\\windows-ml-station\\lib\\site-packages (from matplotlib>=2.2.3->flair) (0.10.0)\n",
      "Requirement already satisfied: pillow>=6.2.0 in c:\\users\\divanma\\.conda\\envs\\windows-ml-station\\lib\\site-packages (from matplotlib>=2.2.3->flair) (8.3.2)\n",
      "Requirement already satisfied: kiwisolver>=1.0.1 in c:\\users\\divanma\\.conda\\envs\\windows-ml-station\\lib\\site-packages (from matplotlib>=2.2.3->flair) (1.3.2)\n",
      "Requirement already satisfied: joblib>=0.11 in c:\\users\\divanma\\.conda\\envs\\windows-ml-station\\lib\\site-packages (from scikit-learn>=0.21.3->flair) (1.1.0)\n",
      "Requirement already satisfied: threadpoolctl>=2.0.0 in c:\\users\\divanma\\.conda\\envs\\windows-ml-station\\lib\\site-packages (from scikit-learn>=0.21.3->flair) (3.0.0)\n",
      "Requirement already satisfied: typing-extensions in c:\\users\\divanma\\.conda\\envs\\windows-ml-station\\lib\\site-packages (from torch!=1.8,>=1.5.0->flair) (3.7.4.3)\n",
      "Requirement already satisfied: colorama in c:\\users\\divanma\\.conda\\envs\\windows-ml-station\\lib\\site-packages (from tqdm>=4.26.0->flair) (0.4.4)\n",
      "Requirement already satisfied: tokenizers!=0.11.3,>=0.11.1 in c:\\users\\divanma\\.conda\\envs\\windows-ml-station\\lib\\site-packages (from transformers>=4.0.0->flair) (0.11.6)\n",
      "Requirement already satisfied: packaging>=20.0 in c:\\users\\divanma\\.conda\\envs\\windows-ml-station\\lib\\site-packages (from transformers>=4.0.0->flair) (21.0)\n",
      "Requirement already satisfied: sacremoses in c:\\users\\divanma\\.conda\\envs\\windows-ml-station\\lib\\site-packages (from transformers>=4.0.0->flair) (0.0.47)\n",
      "Requirement already satisfied: pyyaml>=5.1 in c:\\users\\divanma\\.conda\\envs\\windows-ml-station\\lib\\site-packages (from transformers>=4.0.0->flair) (6.0)\n",
      "Requirement already satisfied: wcwidth>=0.2.5 in c:\\users\\divanma\\.conda\\envs\\windows-ml-station\\lib\\site-packages (from ftfy->flair) (0.2.5)\n",
      "Requirement already satisfied: zipp>=0.5 in c:\\users\\divanma\\.conda\\envs\\windows-ml-station\\lib\\site-packages (from importlib-metadata<4.0.0,>=3.7.0->konoha<5.0.0,>=4.0.0->flair) (3.6.0)\n",
      "Requirement already satisfied: idna<4,>=2.5 in c:\\users\\divanma\\.conda\\envs\\windows-ml-station\\lib\\site-packages (from requests[socks]->gdown==3.12.2->flair) (3.1)\n",
      "Requirement already satisfied: urllib3<1.27,>=1.21.1 in c:\\users\\divanma\\.conda\\envs\\windows-ml-station\\lib\\site-packages (from requests[socks]->gdown==3.12.2->flair) (1.26.7)\n",
      "Requirement already satisfied: charset-normalizer~=2.0.0 in c:\\users\\divanma\\.conda\\envs\\windows-ml-station\\lib\\site-packages (from requests[socks]->gdown==3.12.2->flair) (2.0.0)\n",
      "Requirement already satisfied: certifi>=2017.4.17 in c:\\users\\divanma\\.conda\\envs\\windows-ml-station\\lib\\site-packages (from requests[socks]->gdown==3.12.2->flair) (2021.10.8)\n",
      "Requirement already satisfied: PySocks!=1.5.7,>=1.5.6 in c:\\users\\divanma\\.conda\\envs\\windows-ml-station\\lib\\site-packages (from requests[socks]->gdown==3.12.2->flair) (1.7.1)\n",
      "Requirement already satisfied: click in c:\\users\\divanma\\.conda\\envs\\windows-ml-station\\lib\\site-packages (from sacremoses->transformers>=4.0.0->flair) (8.0.3)\n"
     ]
    },
    {
     "name": "stderr",
     "output_type": "stream",
     "text": [
      "WARNING: Ignoring invalid distribution -ymupdf (c:\\users\\divanma\\.conda\\envs\\windows-ml-station\\lib\\site-packages)\n",
      "WARNING: Ignoring invalid distribution -ymupdf (c:\\users\\divanma\\.conda\\envs\\windows-ml-station\\lib\\site-packages)\n",
      "WARNING: Ignoring invalid distribution -ymupdf (c:\\users\\divanma\\.conda\\envs\\windows-ml-station\\lib\\site-packages)\n",
      "WARNING: Ignoring invalid distribution -ymupdf (c:\\users\\divanma\\.conda\\envs\\windows-ml-station\\lib\\site-packages)\n",
      "WARNING: Ignoring invalid distribution -ymupdf (c:\\users\\divanma\\.conda\\envs\\windows-ml-station\\lib\\site-packages)\n"
     ]
    }
   ],
   "source": [
    "!pip install -U flair"
   ]
  },
  {
   "cell_type": "markdown",
   "metadata": {},
   "source": [
    "### Import Dependencies"
   ]
  },
  {
   "cell_type": "code",
   "execution_count": 4,
   "metadata": {},
   "outputs": [],
   "source": [
    "import flair"
   ]
  },
  {
   "cell_type": "markdown",
   "metadata": {},
   "source": [
    "### Disabling SSL Verification for Model Downloads"
   ]
  },
  {
   "cell_type": "code",
   "execution_count": 5,
   "metadata": {},
   "outputs": [],
   "source": [
    "import warnings\n",
    "import contextlib\n",
    "\n",
    "import requests\n",
    "from urllib3.exceptions import InsecureRequestWarning\n",
    "\n",
    "old_merge_environment_settings = requests.Session.merge_environment_settings\n",
    "\n",
    "@contextlib.contextmanager\n",
    "def no_ssl_verification():\n",
    "    opened_adapters = set()\n",
    "\n",
    "    def merge_environment_settings(self, url, proxies, stream, verify, cert):\n",
    "        # Verification happens only once per connection so we need to close\n",
    "        # all the opened adapters once we're done. Otherwise, the effects of\n",
    "        # verify=False persist beyond the end of this context manager.\n",
    "        opened_adapters.add(self.get_adapter(url))\n",
    "\n",
    "        settings = old_merge_environment_settings(self, url, proxies, stream, verify, cert)\n",
    "        settings['verify'] = False\n",
    "\n",
    "        return settings\n",
    "\n",
    "    requests.Session.merge_environment_settings = merge_environment_settings\n",
    "\n",
    "    try:\n",
    "        with warnings.catch_warnings():\n",
    "            warnings.simplefilter('ignore', InsecureRequestWarning)\n",
    "            yield\n",
    "    finally:\n",
    "        requests.Session.merge_environment_settings = old_merge_environment_settings\n",
    "\n",
    "        for adapter in opened_adapters:\n",
    "            try:\n",
    "                adapter.close()\n",
    "            except:\n",
    "                pass"
   ]
  },
  {
   "cell_type": "markdown",
   "metadata": {},
   "source": [
    "### Code"
   ]
  },
  {
   "cell_type": "code",
   "execution_count": 7,
   "metadata": {},
   "outputs": [
    {
     "name": "stdout",
     "output_type": "stream",
     "text": [
      "2022-03-21 12:04:18,505 loading file C:\\Users\\divanma\\.flair\\models\\sentiment-en-mix-distillbert_4.pt\n",
      "Model Ready!\n"
     ]
    }
   ],
   "source": [
    "# 1. Initialize the model.\n",
    "model = None\n",
    "with no_ssl_verification():\n",
    "    model = flair.models.TextClassifier.load('en-sentiment')"
   ]
  },
  {
   "cell_type": "code",
   "execution_count": 21,
   "metadata": {},
   "outputs": [
    {
     "name": "stdout",
     "output_type": "stream",
     "text": [
      "\"This is absolutely amazing!\" predicted as POSITIVE with a confidence of 0.9989346861839294.\n"
     ]
    }
   ],
   "source": [
    "# 2. Tokenize the input text.\n",
    "text = 'This is absolutely amazing!'\n",
    "sentence = flair.data.Sentence(text)\n",
    "\n",
    "# 3. Process the token ids with the model.\n",
    "model.predict(sentence)\n",
    "\n",
    "# 4. Format the outputs.\n",
    "label = sentence.get_labels()[0]\n",
    "predicted_type = label.value\n",
    "probability = label.score\n",
    "\n",
    "print(f'\"{text}\" predicted as {predicted_type} with a confidence of {probability}.')"
   ]
  },
  {
   "cell_type": "markdown",
   "metadata": {},
   "source": [
    "# References\n",
    "- https://github.com/flairNLP/flair\n",
    "- https://curatedpython.com/p/a-very-flairnlp-flair/index.html"
   ]
  },
  {
   "cell_type": "markdown",
   "metadata": {},
   "source": []
  }
 ],
 "metadata": {
  "interpreter": {
   "hash": "2c96ffff15f49694e20d6af92a59f54c1cf6ff4da4eb0cf9141168fba41748bf"
  },
  "kernelspec": {
   "display_name": "Python 3.9.7 ('windows-ml-station')",
   "language": "python",
   "name": "python3"
  },
  "language_info": {
   "codemirror_mode": {
    "name": "ipython",
    "version": 3
   },
   "file_extension": ".py",
   "mimetype": "text/x-python",
   "name": "python",
   "nbconvert_exporter": "python",
   "pygments_lexer": "ipython3",
   "version": "3.9.7"
  },
  "orig_nbformat": 4
 },
 "nbformat": 4,
 "nbformat_minor": 2
}
