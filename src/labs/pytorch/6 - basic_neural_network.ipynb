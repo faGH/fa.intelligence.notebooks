{
 "cells": [
  {
   "cell_type": "markdown",
   "metadata": {},
   "source": [
    "# Basic Neural Network"
   ]
  },
  {
   "cell_type": "markdown",
   "metadata": {},
   "source": [
    "## Imports"
   ]
  },
  {
   "cell_type": "code",
   "execution_count": 18,
   "metadata": {},
   "outputs": [],
   "source": [
    "import pandas as pd\n",
    "import torch\n",
    "from torch.utils.data import TensorDataset, DataLoader\n",
    "import torch.nn as nn\n",
    "import torch.nn.functional as F\n",
    "import numpy as np\n",
    "import pandas as pd\n",
    "import matplotlib.pyplot as plt\n",
    "%matplotlib inline"
   ]
  },
  {
   "cell_type": "markdown",
   "metadata": {},
   "source": [
    "## Data Preparation"
   ]
  },
  {
   "cell_type": "code",
   "execution_count": 47,
   "metadata": {},
   "outputs": [],
   "source": [
    "data = pd.read_csv('../../data/iris.csv')\n",
    "data_for_plotting = data.copy()\n",
    "\n",
    "def determine_target(species):\n",
    "    if species == 'setosa':\n",
    "        return 0\n",
    "    \n",
    "    if species == 'virginica':\n",
    "        return 1\n",
    "    \n",
    "    if species == 'versicolor':\n",
    "        return 2\n",
    "\n",
    "data_for_plotting['target'] = data_for_plotting['species'].apply(determine_target)\n",
    "data['target'] = data['species'].apply(determine_target)\n",
    "label = data['target']\n",
    "data.drop('species', axis=1, inplace=True)\n",
    "data.drop('target', axis=1, inplace=True)\n",
    "iris_data = TensorDataset(torch.FloatTensor(data.values), torch.LongTensor(label.values))\n",
    "iris_loader = DataLoader(iris_data, batch_size=50, shuffle=True)"
   ]
  },
  {
   "cell_type": "code",
   "execution_count": 20,
   "metadata": {},
   "outputs": [],
   "source": [
    "# Alternatively Sklearn.\n",
    "from sklearn.model_selection import train_test_split"
   ]
  },
  {
   "cell_type": "code",
   "execution_count": 21,
   "metadata": {},
   "outputs": [],
   "source": [
    "X_train, X_test, y_train, y_test = train_test_split(data.values, label.values, test_size=0.2, random_state=33)\n",
    "X_train = torch.FloatTensor(X_train)\n",
    "X_test = torch.FloatTensor(X_test)\n",
    "y_train = torch.LongTensor(y_train)\n",
    "y_test = torch.LongTensor(y_test)"
   ]
  },
  {
   "cell_type": "markdown",
   "metadata": {},
   "source": [
    "## Model"
   ]
  },
  {
   "cell_type": "code",
   "execution_count": 22,
   "metadata": {},
   "outputs": [],
   "source": [
    "class Model(nn.Module):\n",
    "    def __init__(self, in_features=4, h1=8, h2=9, out_features=3):\n",
    "        super().__init__()\n",
    "        \n",
    "        # Create layers.\n",
    "        self.fully_connected_1 = nn.Linear(in_features=in_features, out_features=h1)\n",
    "        self.fully_connected_2 = nn.Linear(in_features=h1, out_features=h2)\n",
    "        self.out = nn.Linear(in_features=h2, out_features=out_features)\n",
    "    \n",
    "    def forward(self, first_layer_z):\n",
    "        activated_first_layer_out = F.relu(self.fully_connected_1(first_layer_z))\n",
    "        activated_second_layer_out = F.relu(self.fully_connected_2(activated_first_layer_out))\n",
    "        activated_out = self.out(activated_second_layer_out)\n",
    "        \n",
    "        return activated_out"
   ]
  },
  {
   "cell_type": "markdown",
   "metadata": {},
   "source": [
    "## Instantiate the Model, Choose an Optimizer & Error Function"
   ]
  },
  {
   "cell_type": "code",
   "execution_count": 23,
   "metadata": {},
   "outputs": [],
   "source": [
    "# To fix random initial parameters.\n",
    "torch.manual_seed(32)\n",
    "model = Model()"
   ]
  },
  {
   "cell_type": "code",
   "execution_count": 24,
   "metadata": {},
   "outputs": [],
   "source": [
    "error_function = nn.CrossEntropyLoss() # Because we have a multiclass classification problem.\n",
    "optimizer = torch.optim.Adam(model.parameters(), lr=0.01) # If the error stops going down after say 10 epochs, we can add an additional decimal point to the learning rate to take smaller steps."
   ]
  },
  {
   "cell_type": "markdown",
   "metadata": {},
   "source": [
    "## Train the Model"
   ]
  },
  {
   "cell_type": "code",
   "execution_count": 25,
   "metadata": {},
   "outputs": [
    {
     "name": "stdout",
     "output_type": "stream",
     "text": [
      "Epoch: 0, Loss: 1.1518166065216064\n",
      "Epoch: 10, Loss: 0.9080570340156555\n",
      "Epoch: 20, Loss: 0.7041409611701965\n",
      "Epoch: 30, Loss: 0.5346686244010925\n",
      "Epoch: 40, Loss: 0.41996076703071594\n",
      "Epoch: 50, Loss: 0.32500120997428894\n",
      "Epoch: 60, Loss: 0.21382205188274384\n",
      "Epoch: 70, Loss: 0.1274299919605255\n",
      "Epoch: 80, Loss: 0.08812031149864197\n",
      "Epoch: 90, Loss: 0.07331125438213348\n"
     ]
    }
   ],
   "source": [
    "# How many runs through all the data?\n",
    "epochs = 100 # Start small and plot the loss function.\n",
    "losses = list() # Allows for keeping track of losses.\n",
    "\n",
    "for i in range(epochs):\n",
    "    # Run forward & get a prediction.\n",
    "    y_pred = model.forward(X_train)\n",
    "    \n",
    "    # Measure loss / error.\n",
    "    loss = error_function(y_pred, y_train)\n",
    "    losses.append(loss)\n",
    "    \n",
    "    if i % 10 == 0:\n",
    "        print(f'Epoch: {i}, Loss: {loss}')\n",
    "        \n",
    "    # Back propagation.\n",
    "    optimizer.zero_grad()\n",
    "    loss.backward()\n",
    "    optimizer.step()"
   ]
  },
  {
   "cell_type": "code",
   "execution_count": 29,
   "metadata": {},
   "outputs": [
    {
     "data": {
      "text/plain": [
       "Text(0.5, 0, 'Epoch')"
      ]
     },
     "execution_count": 29,
     "metadata": {},
     "output_type": "execute_result"
    },
    {
     "data": {
      "image/png": "[encoded data removed]",
      "text/plain": [
       "<Figure size 432x288 with 1 Axes>"
      ]
     },
     "metadata": {
      "needs_background": "light"
     },
     "output_type": "display_data"
    }
   ],
   "source": [
    "plt.plot(range(epochs), [float(l) for l in losses])\n",
    "plt.ylabel('Loss')\n",
    "plt.xlabel('Epoch')"
   ]
  },
  {
   "cell_type": "markdown",
   "metadata": {},
   "source": [
    "## Validate the Model"
   ]
  },
  {
   "cell_type": "code",
   "execution_count": 34,
   "metadata": {},
   "outputs": [
    {
     "name": "stdout",
     "output_type": "stream",
     "text": [
      "0.05847649648785591\n"
     ]
    }
   ],
   "source": [
    "with torch.no_grad(): # Don't worry about back propagation / deactivate auto-gradient engine.\n",
    "    y_val = model.forward(X_test)\n",
    "    loss = error_function(y_val, y_test)\n",
    "    \n",
    "print(float(loss))"
   ]
  },
  {
   "cell_type": "code",
   "execution_count": 38,
   "metadata": {},
   "outputs": [
    {
     "name": "stdout",
     "output_type": "stream",
     "text": [
      "1) tensor([-1.9408, -0.2150,  5.3099]) -> Expected Class: 2\n",
      "2) tensor([-2.0333, -0.4881,  5.8899]) -> Expected Class: 2\n",
      "3) tensor([ 3.4886, -3.5997, -2.5672]) -> Expected Class: 0\n",
      "4) tensor([-3.2179,  1.8041,  5.2268]) -> Expected Class: 2\n",
      "5) tensor([-5.2637,  6.1273,  3.5717]) -> Expected Class: 1\n",
      "6) tensor([-7.7095, 11.1907,  1.6848]) -> Expected Class: 1\n",
      "7) tensor([ 3.4328, -3.5970, -2.4502]) -> Expected Class: 0\n",
      "8) tensor([ 3.9352, -3.9322, -3.1625]) -> Expected Class: 0\n",
      "9) tensor([-5.1526,  5.7892,  3.7911]) -> Expected Class: 1\n",
      "10) tensor([-6.6291,  8.5917,  3.0093]) -> Expected Class: 1\n",
      "11) tensor([-7.0213,  9.4367,  2.6690]) -> Expected Class: 1\n",
      "12) tensor([ 3.5310, -3.5598, -2.7022]) -> Expected Class: 0\n",
      "13) tensor([-6.5006,  8.7306,  2.5416]) -> Expected Class: 1\n",
      "14) tensor([-3.0192,  1.6088,  5.0832]) -> Expected Class: 2\n",
      "15) tensor([-5.7371,  6.8346,  3.5529]) -> Expected Class: 1\n",
      "16) tensor([-1.9871, -0.4709,  5.7686]) -> Expected Class: 2\n",
      "17) tensor([-4.1892,  4.1490,  4.0209]) -> Expected Class: 1\n",
      "18) tensor([ 3.9788, -3.9890, -3.1938]) -> Expected Class: 0\n",
      "19) tensor([-2.7387,  0.9335,  5.4205]) -> Expected Class: 2\n",
      "20) tensor([-5.6407,  6.2246,  4.2242]) -> Expected Class: 1\n",
      "21) tensor([ 3.6202, -3.7188, -2.7194]) -> Expected Class: 0\n",
      "22) tensor([ 4.0319, -4.1109, -3.1740]) -> Expected Class: 0\n",
      "23) tensor([-7.0347,  9.6516,  2.4017]) -> Expected Class: 1\n",
      "24) tensor([ 3.5947, -3.6805, -2.7066]) -> Expected Class: 0\n",
      "25) tensor([-5.2942,  6.3644,  3.2954]) -> Expected Class: 1\n",
      "26) tensor([-4.5367,  4.7461,  3.9266]) -> Expected Class: 1\n",
      "27) tensor([-2.6354,  0.8278,  5.3543]) -> Expected Class: 2\n",
      "28) tensor([-1.8051, -0.5179,  5.4319]) -> Expected Class: 2\n",
      "29) tensor([-5.3604,  6.2380,  3.5965]) -> Expected Class: 1\n",
      "30) tensor([-4.7637,  5.3567,  3.5642]) -> Expected Class: 1\n",
      "30/30 Correct Predictions.\n"
     ]
    }
   ],
   "source": [
    "correct = 0\n",
    "\n",
    "with torch.no_grad(): # Don't worry about back propagation / deactivate auto-gradient engine.\n",
    "    for i, data in enumerate(X_test):\n",
    "        y_val = model.forward(data)\n",
    "    \n",
    "        print(f'{i+1}) {str(y_val)} -> Expected Class: {y_test[i]}')\n",
    "        \n",
    "        # If the INDEX of the highest value is equal to the classification index, it was a correct prediction. \n",
    "        if y_val.argmax().item() == y_test[i]:\n",
    "            correct = correct + 1\n",
    "            \n",
    "print(f'{correct}/{len(y_test)} Correct Predictions.')"
   ]
  },
  {
   "cell_type": "markdown",
   "metadata": {},
   "source": [
    "## Save / Load the Trained Model"
   ]
  },
  {
   "cell_type": "code",
   "execution_count": 39,
   "metadata": {},
   "outputs": [],
   "source": [
    "torch.save(model.state_dict(), '../../data/iris_model.pt')"
   ]
  },
  {
   "cell_type": "code",
   "execution_count": 41,
   "metadata": {},
   "outputs": [
    {
     "data": {
      "text/plain": [
       "Model(\n",
       "  (fully_connected_1): Linear(in_features=4, out_features=8, bias=True)\n",
       "  (fully_connected_2): Linear(in_features=8, out_features=9, bias=True)\n",
       "  (out): Linear(in_features=9, out_features=3, bias=True)\n",
       ")"
      ]
     },
     "execution_count": 41,
     "metadata": {},
     "output_type": "execute_result"
    }
   ],
   "source": [
    "loaded_model = Model()\n",
    "loaded_model.load_state_dict(torch.load('../../data/iris_model.pt'))\n",
    "\n",
    "loaded_model.eval()"
   ]
  },
  {
   "cell_type": "markdown",
   "metadata": {},
   "source": [
    "## Make a Prediction"
   ]
  },
  {
   "cell_type": "code",
   "execution_count": 43,
   "metadata": {},
   "outputs": [],
   "source": [
    "# Create a tensor to represent the parameters for the flower we'd like to predict.\n",
    "some_flower = torch.tensor([5.6, 3.7, 2.2, 0.5])"
   ]
  },
  {
   "cell_type": "code",
   "execution_count": 56,
   "metadata": {},
   "outputs": [
    {
     "data": {
      "image/png": "[encoded data removed]",
      "text/plain": [
       "<Figure size 720x504 with 4 Axes>"
      ]
     },
     "metadata": {
      "needs_background": "light"
     },
     "output_type": "display_data"
    }
   ],
   "source": [
    "# Plot the new flower to intuitively see what group it belongs to (Iris Setosa)\n",
    "fig, axes = plt.subplots(nrows=2, ncols=2, figsize=(10,7))\n",
    "fig.tight_layout()\n",
    "\n",
    "plots = [(0,1), (2,3), (0,2), (1,3)]\n",
    "labels = ['Iris Setosa', 'Iris Virginica', 'Iris Versicolor', 'New Flower']\n",
    "\n",
    "for i, ax in enumerate(axes.flat):\n",
    "    for j in range(3):\n",
    "        x = data_for_plotting.columns[plots[i][0]]\n",
    "        y = data_for_plotting.columns[plots[i][1]]\n",
    "        ax.scatter(data_for_plotting[data_for_plotting['target'] == j][x], data_for_plotting[data_for_plotting['target'] == j][y])\n",
    "        ax.set(xlabel=x, ylabel=y)\n",
    "    \n",
    "    ax.scatter(some_flower[plots[i][0]], some_flower[plots[i][1]], color='y')\n",
    "\n",
    "fig.legend(labels=labels, loc=3, bbox_to_anchor=(1., .85))\n",
    "plt.show()"
   ]
  },
  {
   "cell_type": "code",
   "execution_count": 58,
   "metadata": {},
   "outputs": [
    {
     "name": "stdout",
     "output_type": "stream",
     "text": [
      "Predicted Species: Iris Setosa\n"
     ]
    }
   ],
   "source": [
    "with torch.no_grad():\n",
    "    prediction = loaded_model.forward(some_flower)\n",
    "    predicted_target_index = prediction.argmax().item()\n",
    "\n",
    "    print(f'Predicted Species: {labels[predicted_target_index]}')"
   ]
  },
  {
   "cell_type": "code",
   "execution_count": null,
   "metadata": {},
   "outputs": [],
   "source": []
  }
 ],
 "metadata": {
  "kernelspec": {
   "display_name": "Python 3.9.7 ('windows-ml-station')",
   "language": "python",
   "name": "python3"
  },
  "language_info": {
   "codemirror_mode": {
    "name": "ipython",
    "version": 3
   },
   "file_extension": ".py",
   "mimetype": "text/x-python",
   "name": "python",
   "nbconvert_exporter": "python",
   "pygments_lexer": "ipython3",
   "version": "3.9.7"
  },
  "orig_nbformat": 4,
  "vscode": {
   "interpreter": {
    "hash": "f2d2799229849fd2c86aa3751486a343a6caa647b525ae379976f27c22f61e0e"
   }
  }
 },
 "nbformat": 4,
 "nbformat_minor": 2
}
