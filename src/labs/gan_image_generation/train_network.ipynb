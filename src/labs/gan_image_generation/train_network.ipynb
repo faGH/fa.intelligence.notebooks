{
 "cells": [
  {
   "cell_type": "markdown",
   "metadata": {},
   "source": [
    "# Train the GAN Model"
   ]
  },
  {
   "cell_type": "markdown",
   "metadata": {},
   "source": [
    "### Install & Import Dependencies"
   ]
  },
  {
   "cell_type": "code",
   "execution_count": 2,
   "metadata": {},
   "outputs": [],
   "source": [
    "import sys"
   ]
  },
  {
   "cell_type": "code",
   "execution_count": 3,
   "metadata": {},
   "outputs": [
    {
     "name": "stdout",
     "output_type": "stream",
     "text": [
      "Requirement already satisfied: pip in c:\\programdata\\miniforge3\\lib\\site-packages (21.3.1)\n",
      "Requirement already satisfied: setuptools in c:\\programdata\\miniforge3\\lib\\site-packages (58.0.4)\n",
      "Collecting setuptools\n",
      "  Downloading setuptools-58.3.0-py3-none-any.whl (946 kB)\n",
      "Installing collected packages: setuptools\n",
      "  Attempting uninstall: setuptools\n",
      "    Found existing installation: setuptools 58.0.4\n",
      "    Uninstalling setuptools-58.0.4:\n",
      "      Successfully uninstalled setuptools-58.0.4\n",
      "Successfully installed setuptools-58.3.0\n",
      "Requirement already satisfied: wheel in c:\\programdata\\miniforge3\\lib\\site-packages (0.37.0)\n",
      "Collecting click\n",
      "  Downloading click-8.0.3-py3-none-any.whl (97 kB)\n",
      "Requirement already satisfied: colorama in c:\\programdata\\miniforge3\\lib\\site-packages (from click) (0.4.4)\n",
      "Installing collected packages: click\n",
      "Successfully installed click-8.0.3\n",
      "Requirement already satisfied: requests in c:\\programdata\\miniforge3\\lib\\site-packages (2.26.0)\n",
      "Requirement already satisfied: urllib3<1.27,>=1.21.1 in c:\\programdata\\miniforge3\\lib\\site-packages (from requests) (1.26.7)\n",
      "Requirement already satisfied: charset-normalizer~=2.0.0 in c:\\programdata\\miniforge3\\lib\\site-packages (from requests) (2.0.0)\n",
      "Requirement already satisfied: idna<4,>=2.5 in c:\\programdata\\miniforge3\\lib\\site-packages (from requests) (3.1)\n",
      "Requirement already satisfied: certifi>=2017.4.17 in c:\\programdata\\miniforge3\\lib\\site-packages (from requests) (2021.10.8)\n",
      "Requirement already satisfied: tqdm in c:\\programdata\\miniforge3\\lib\\site-packages (4.62.3)\n",
      "Requirement already satisfied: colorama in c:\\programdata\\miniforge3\\lib\\site-packages (from tqdm) (0.4.4)\n",
      "Collecting pyspng\n",
      "  Downloading pyspng-0.1.0-cp39-cp39-win_amd64.whl (116 kB)\n",
      "Requirement already satisfied: numpy in c:\\programdata\\miniforge3\\lib\\site-packages (from pyspng) (1.19.5)\n",
      "Installing collected packages: pyspng\n",
      "Successfully installed pyspng-0.1.0\n",
      "Collecting ninja\n",
      "  Downloading ninja-1.10.2.2-py2.py3-none-win_amd64.whl (759 kB)\n",
      "Installing collected packages: ninja\n",
      "Successfully installed ninja-1.10.2.2\n",
      "Collecting imageio-ffmpeg==0.4.3\n",
      "  Downloading imageio_ffmpeg-0.4.3-py3-none-win_amd64.whl (22.6 MB)\n",
      "Installing collected packages: imageio-ffmpeg\n",
      "Successfully installed imageio-ffmpeg-0.4.3\n"
     ]
    }
   ],
   "source": [
    "!{sys.executable} -m pip install -U pip \n",
    "!{sys.executable} -m pip install -U setuptools \n",
    "!{sys.executable} -m pip install -U wheel \n",
    "!{sys.executable} -m pip install -U click \n",
    "!{sys.executable} -m pip install -U requests \n",
    "!{sys.executable} -m pip install -U tqdm \n",
    "!{sys.executable} -m pip install -U pyspng \n",
    "!{sys.executable} -m pip install -U ninja \n",
    "!{sys.executable} -m pip install -U imageio-ffmpeg==0.4.3"
   ]
  },
  {
   "cell_type": "markdown",
   "metadata": {},
   "source": [
    "### Initiate Model Training"
   ]
  },
  {
   "cell_type": "code",
   "execution_count": 4,
   "metadata": {},
   "outputs": [
    {
     "ename": "Exception",
     "evalue": "Not Implemented",
     "output_type": "error",
     "traceback": [
      "\u001b[1;31m---------------------------------------------------------------------------\u001b[0m",
      "\u001b[1;31mException\u001b[0m                                 Traceback (most recent call last)",
      "\u001b[1;32m~\\AppData\\Local\\Temp/ipykernel_136396/2098403757.py\u001b[0m in \u001b[0;36m<module>\u001b[1;34m\u001b[0m\n\u001b[1;32m----> 1\u001b[1;33m \u001b[1;32mraise\u001b[0m \u001b[0mException\u001b[0m\u001b[1;33m(\u001b[0m\u001b[1;34m'Not Implemented'\u001b[0m\u001b[1;33m)\u001b[0m\u001b[1;33m\u001b[0m\u001b[1;33m\u001b[0m\u001b[0m\n\u001b[0m",
      "\u001b[1;31mException\u001b[0m: Not Implemented"
     ]
    }
   ],
   "source": [
    "raise Exception('Not Implemented')"
   ]
  }
 ],
 "metadata": {
  "interpreter": {
   "hash": "31d6e53dd90e1e07de471af499e22de60e02a8b280c0c36d978ec0e08d2bccf2"
  },
  "kernelspec": {
   "display_name": "Python 3.9 (Tensorflow)",
   "language": "python",
   "name": "tensorflow-gpu"
  }
 },
 "nbformat": 4,
 "nbformat_minor": 5
}
