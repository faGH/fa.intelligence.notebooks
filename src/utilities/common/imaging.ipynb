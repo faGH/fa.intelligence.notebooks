{
 "cells": [
  {
   "cell_type": "markdown",
   "metadata": {},
   "source": [
    "# Imaging Utilities"
   ]
  },
  {
   "cell_type": "code",
   "execution_count": 2,
   "metadata": {},
   "outputs": [],
   "source": [
    "import numpy as np\n",
    "from PIL import Image\n",
    "from io import BytesIO"
   ]
  },
  {
   "cell_type": "markdown",
   "metadata": {},
   "source": [
    "### RGB-array to Image\n",
    "Convert a RGB array to an image that can be rendered."
   ]
  },
  {
   "cell_type": "code",
   "execution_count": 3,
   "metadata": {},
   "outputs": [],
   "source": [
    "def rgb_array_to_image(rgb_array):\n",
    "    assert isinstance(rgb_array, np.ndarray), 'Input should be a Numpy n-dimensional array.'\n",
    "    assert len(rgb_array.shape) == 3, 'Input should be a 3D array of HxWx3(rgb).'\n",
    "\n",
    "    img = Image.fromarray(rgb_array, 'RGB')\n",
    "\n",
    "    return img"
   ]
  },
  {
   "cell_type": "markdown",
   "metadata": {},
   "source": [
    "### Images to Inline Gif\n",
    "Convert multiple images to a gif and display it inline."
   ]
  },
  {
   "cell_type": "code",
   "execution_count": 5,
   "metadata": {},
   "outputs": [],
   "source": [
    "def images_to_gif_bytes(images):\n",
    "    gif_images = [ image.convert('P', palette=Image.ADAPTIVE) for image in images ]\n",
    "    gif_image_bytes = BytesIO()\n",
    "\n",
    "    gif_images[0].save(gif_image_bytes, format='GIF', save_all=True, append_images=gif_images[1:], loop=0)\n",
    "\n",
    "    return gif_image_bytes.getvalue()"
   ]
  },
  {
   "cell_type": "code",
   "execution_count": null,
   "metadata": {},
   "outputs": [],
   "source": []
  }
 ],
 "metadata": {
  "kernelspec": {
   "display_name": "Python 3.9 (Tensorflow)",
   "language": "python",
   "name": "tensorflow-gpu"
  },
  "orig_nbformat": 4
 },
 "nbformat": 4,
 "nbformat_minor": 2
}
