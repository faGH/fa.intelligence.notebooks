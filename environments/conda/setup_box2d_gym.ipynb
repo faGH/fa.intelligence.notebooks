{
 "cells": [
  {
   "cell_type": "markdown",
   "metadata": {},
   "source": [
    "# Setup Virtual Environment"
   ]
  },
  {
   "cell_type": "markdown",
   "metadata": {},
   "source": [
    "Run create env script."
   ]
  },
  {
   "cell_type": "code",
   "execution_count": 22,
   "metadata": {},
   "outputs": [],
   "source": [
    "#!conda create -n your-env-name python=3.7"
   ]
  },
  {
   "cell_type": "markdown",
   "metadata": {},
   "source": [
    "Install jupyter dependencies outside of this notebook (using terminal)"
   ]
  },
  {
   "cell_type": "code",
   "execution_count": 23,
   "metadata": {},
   "outputs": [],
   "source": [
    "#!conda install -n your-env-name ipykernel --update-deps --force-reinstall"
   ]
  },
  {
   "cell_type": "code",
   "execution_count": 24,
   "metadata": {},
   "outputs": [],
   "source": [
    "#!conda install -n your-env-name swig"
   ]
  },
  {
   "cell_type": "markdown",
   "metadata": {},
   "source": [
    "Simple test of the environment."
   ]
  },
  {
   "cell_type": "code",
   "execution_count": 25,
   "metadata": {},
   "outputs": [],
   "source": [
    "assert True == True"
   ]
  },
  {
   "cell_type": "markdown",
   "metadata": {},
   "source": [
    "# Setup Gym"
   ]
  },
  {
   "cell_type": "markdown",
   "metadata": {},
   "source": [
    "## Install dependencies (After which you must restart the kernel)."
   ]
  },
  {
   "cell_type": "code",
   "execution_count": 30,
   "metadata": {},
   "outputs": [
    {
     "name": "stdout",
     "output_type": "stream",
     "text": [
      "Collecting gym~=0.17.0\n",
      "  Downloading gym-0.17.3.tar.gz (1.6 MB)\n",
      "     ---------------------------------------- 1.6/1.6 MB 4.2 MB/s eta 0:00:00\n",
      "  Preparing metadata (setup.py): started\n",
      "  Preparing metadata (setup.py): finished with status 'done'\n",
      "Requirement already satisfied: Box2D~=2.3.10 in c:\\programdata\\miniforge3\\envs\\ashey-env\\lib\\site-packages (2.3.10)\n",
      "Requirement already satisfied: gym[Box_2D] in c:\\programdata\\miniforge3\\envs\\ashey-env\\lib\\site-packages (0.23.1)\n",
      "Requirement already satisfied: scipy in c:\\programdata\\miniforge3\\envs\\ashey-env\\lib\\site-packages (from gym~=0.17.0) (1.7.3)\n",
      "Requirement already satisfied: numpy>=1.10.4 in c:\\programdata\\miniforge3\\envs\\ashey-env\\lib\\site-packages (from gym~=0.17.0) (1.21.6)\n",
      "Collecting pyglet<=1.5.0,>=1.4.0\n",
      "  Downloading pyglet-1.5.0-py2.py3-none-any.whl (1.0 MB)\n",
      "     ---------------------------------------- 1.0/1.0 MB 9.3 MB/s eta 0:00:00\n",
      "Collecting cloudpickle<1.7.0,>=1.2.0\n",
      "  Using cached cloudpickle-1.6.0-py3-none-any.whl (23 kB)\n",
      "Collecting gym[Box_2D]\n",
      "  Downloading gym-0.23.0.tar.gz (624 kB)\n",
      "     -------------------------------------- 624.4/624.4 KB 9.9 MB/s eta 0:00:00\n",
      "  Installing build dependencies: started\n",
      "  Installing build dependencies: finished with status 'done'\n",
      "  Getting requirements to build wheel: started\n",
      "  Getting requirements to build wheel: finished with status 'done'\n",
      "  Preparing metadata (pyproject.toml): started\n",
      "  Preparing metadata (pyproject.toml): finished with status 'done'\n",
      "  Downloading gym-0.22.0.tar.gz (631 kB)\n",
      "     -------------------------------------- 631.1/631.1 KB 9.9 MB/s eta 0:00:00\n",
      "  Installing build dependencies: started\n",
      "  Installing build dependencies: finished with status 'done'\n",
      "  Getting requirements to build wheel: started\n",
      "  Getting requirements to build wheel: finished with status 'done'\n",
      "  Preparing metadata (pyproject.toml): started\n",
      "  Preparing metadata (pyproject.toml): finished with status 'done'\n",
      "  Using cached gym-0.21.0.tar.gz (1.5 MB)\n",
      "  Preparing metadata (setup.py): started\n",
      "  Preparing metadata (setup.py): finished with status 'done'\n",
      "  Downloading gym-0.20.0.tar.gz (1.6 MB)\n",
      "     ---------------------------------------- 1.6/1.6 MB 9.0 MB/s eta 0:00:00\n",
      "  Preparing metadata (setup.py): started\n",
      "  Preparing metadata (setup.py): finished with status 'done'\n",
      "  Downloading gym-0.19.0.tar.gz (1.6 MB)\n",
      "     ---------------------------------------- 1.6/1.6 MB 7.1 MB/s eta 0:00:00\n",
      "  Preparing metadata (setup.py): started\n",
      "  Preparing metadata (setup.py): finished with status 'done'\n",
      "  Downloading gym-0.18.3.tar.gz (1.6 MB)\n",
      "     ---------------------------------------- 1.6/1.6 MB 6.7 MB/s eta 0:00:00\n",
      "  Preparing metadata (setup.py): started\n",
      "  Preparing metadata (setup.py): finished with status 'done'\n",
      "  Downloading gym-0.18.0.tar.gz (1.6 MB)\n",
      "     ---------------------------------------- 1.6/1.6 MB 3.8 MB/s eta 0:00:00\n",
      "  Preparing metadata (setup.py): started\n",
      "  Preparing metadata (setup.py): finished with status 'done'\n",
      "Collecting future\n",
      "  Using cached future-0.18.2.tar.gz (829 kB)\n",
      "  Preparing metadata (setup.py): started\n",
      "  Preparing metadata (setup.py): finished with status 'done'\n",
      "Building wheels for collected packages: gym, future\n",
      "  Building wheel for gym (setup.py): started\n",
      "  Building wheel for gym (setup.py): finished with status 'done'\n",
      "  Created wheel for gym: filename=gym-0.17.3-py3-none-any.whl size=1654653 sha256=4c12e077fff8ec27eb321f183ae03482803487a33938909c8fe6ef96e61d2a59\n",
      "  Stored in directory: c:\\users\\divanma\\appdata\\local\\pip\\cache\\wheels\\d1\\81\\4b\\dd9c029691022cb957398d1f015e66b75e37637dda61abdf58\n",
      "  Building wheel for future (setup.py): started\n",
      "  Building wheel for future (setup.py): finished with status 'done'\n",
      "  Created wheel for future: filename=future-0.18.2-py3-none-any.whl size=491070 sha256=903f952741b125e5c4dc35680c15ee7d14e9f5097e933bdfed5de84caff46e1e\n",
      "  Stored in directory: c:\\users\\divanma\\appdata\\local\\pip\\cache\\wheels\\56\\b0\\fe\\4410d17b32f1f0c3cf54cdfb2bc04d7b4b8f4ae377e2229ba0\n",
      "Successfully built gym future\n",
      "Installing collected packages: future, cloudpickle, pyglet, gym\n",
      "  Attempting uninstall: cloudpickle\n",
      "    Found existing installation: cloudpickle 2.0.0\n",
      "    Uninstalling cloudpickle-2.0.0:\n",
      "      Successfully uninstalled cloudpickle-2.0.0\n",
      "  Attempting uninstall: gym\n",
      "    Found existing installation: gym 0.23.1\n",
      "    Uninstalling gym-0.23.1:\n",
      "      Successfully uninstalled gym-0.23.1\n",
      "Successfully installed cloudpickle-1.6.0 future-0.18.2 gym-0.17.3 pyglet-1.5.0\n"
     ]
    },
    {
     "name": "stderr",
     "output_type": "stream",
     "text": [
      "WARNING: gym 0.23.1 does not provide the extra 'box_2d'\n",
      "WARNING: gym 0.23.0 does not provide the extra 'box_2d'\n",
      "WARNING: gym 0.22.0 does not provide the extra 'box_2d'\n",
      "WARNING: gym 0.21.0 does not provide the extra 'box_2d'\n",
      "WARNING: gym 0.20.0 does not provide the extra 'box_2d'\n",
      "WARNING: gym 0.19.0 does not provide the extra 'box_2d'\n",
      "WARNING: gym 0.18.3 does not provide the extra 'box_2d'\n",
      "WARNING: gym 0.18.0 does not provide the extra 'box_2d'\n",
      "WARNING: gym 0.17.3 does not provide the extra 'box_2d'\n"
     ]
    }
   ],
   "source": [
    "!pip install gym~=0.17.0 Box2D~=2.3.10 gym[Box_2D]"
   ]
  },
  {
   "cell_type": "markdown",
   "metadata": {},
   "source": [
    "## Import Dependencies."
   ]
  },
  {
   "cell_type": "code",
   "execution_count": 1,
   "metadata": {},
   "outputs": [],
   "source": [
    "import gym"
   ]
  },
  {
   "cell_type": "markdown",
   "metadata": {},
   "source": [
    "## Application Loop"
   ]
  },
  {
   "cell_type": "code",
   "execution_count": 2,
   "metadata": {},
   "outputs": [],
   "source": [
    "ll_gym = gym.make('LunarLander-v2')"
   ]
  },
  {
   "cell_type": "code",
   "execution_count": null,
   "metadata": {},
   "outputs": [],
   "source": []
  }
 ],
 "metadata": {
  "interpreter": {
   "hash": "9021e16bc21378652625076973c4af096a3bf9de7bf89861309925636ef9fa3f"
  },
  "kernelspec": {
   "display_name": "Python 3.7.12 ('ashey-env')",
   "language": "python",
   "name": "python3"
  },
  "language_info": {
   "codemirror_mode": {
    "name": "ipython",
    "version": 3
   },
   "file_extension": ".py",
   "mimetype": "text/x-python",
   "name": "python",
   "nbconvert_exporter": "python",
   "pygments_lexer": "ipython3",
   "version": "3.7.12"
  },
  "orig_nbformat": 4
 },
 "nbformat": 4,
 "nbformat_minor": 2
}
