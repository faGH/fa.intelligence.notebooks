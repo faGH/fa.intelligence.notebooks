{
 "cells": [
  {
   "cell_type": "markdown",
   "metadata": {},
   "source": [
    "# Check Library Versions\n",
    "This notebook allows for checking installed library versions and GPU support."
   ]
  },
  {
   "cell_type": "code",
   "execution_count": 1,
   "metadata": {},
   "outputs": [],
   "source": [
    "import sys"
   ]
  },
  {
   "cell_type": "code",
   "execution_count": 2,
   "metadata": {},
   "outputs": [
    {
     "name": "stdout",
     "output_type": "stream",
     "text": [
      "Collecting package metadata (current_repodata.json): ...working... done\n",
      "Solving environment: ...working... done\n",
      "\n",
      "# All requested packages already installed.\n",
      "\n"
     ]
    }
   ],
   "source": [
    "!conda install --yes --prefix {sys.prefix} -c conda-forge tqdm"
   ]
  },
  {
   "cell_type": "code",
   "execution_count": 3,
   "metadata": {},
   "outputs": [
    {
     "name": "stdout",
     "output_type": "stream",
     "text": [
      "Requirement already satisfied: tensorflow in c:\\programdata\\miniforge3\\lib\\site-packages (2.6.0)\n",
      "Requirement already satisfied: astunparse~=1.6.3 in c:\\programdata\\miniforge3\\lib\\site-packages (from tensorflow) (1.6.3)\n",
      "Requirement already satisfied: h5py~=3.1.0 in c:\\programdata\\miniforge3\\lib\\site-packages (from tensorflow) (3.1.0)\n",
      "Requirement already satisfied: numpy~=1.19.2 in c:\\programdata\\miniforge3\\lib\\site-packages (from tensorflow) (1.19.5)\n",
      "Requirement already satisfied: tensorflow-estimator~=2.6 in c:\\programdata\\miniforge3\\lib\\site-packages (from tensorflow) (2.6.0)\n",
      "Requirement already satisfied: termcolor~=1.1.0 in c:\\programdata\\miniforge3\\lib\\site-packages (from tensorflow) (1.1.0)\n",
      "Requirement already satisfied: wrapt~=1.12.1 in c:\\programdata\\miniforge3\\lib\\site-packages (from tensorflow) (1.12.1)\n",
      "Requirement already satisfied: google-pasta~=0.2 in c:\\programdata\\miniforge3\\lib\\site-packages (from tensorflow) (0.2.0)\n",
      "Requirement already satisfied: clang~=5.0 in c:\\programdata\\miniforge3\\lib\\site-packages (from tensorflow) (5.0)\n",
      "Requirement already satisfied: gast==0.4.0 in c:\\programdata\\miniforge3\\lib\\site-packages (from tensorflow) (0.4.0)\n",
      "Requirement already satisfied: absl-py~=0.10 in c:\\programdata\\miniforge3\\lib\\site-packages (from tensorflow) (0.14.1)\n",
      "Requirement already satisfied: keras-preprocessing~=1.1.2 in c:\\programdata\\miniforge3\\lib\\site-packages (from tensorflow) (1.1.2)\n",
      "Requirement already satisfied: protobuf>=3.9.2 in c:\\programdata\\miniforge3\\lib\\site-packages (from tensorflow) (3.18.1)\n",
      "Requirement already satisfied: tensorboard~=2.6 in c:\\programdata\\miniforge3\\lib\\site-packages (from tensorflow) (2.6.0)\n",
      "Requirement already satisfied: opt-einsum~=3.3.0 in c:\\programdata\\miniforge3\\lib\\site-packages (from tensorflow) (3.3.0)\n",
      "Requirement already satisfied: flatbuffers~=1.12.0 in c:\\programdata\\miniforge3\\lib\\site-packages (from tensorflow) (1.12)\n",
      "Requirement already satisfied: wheel~=0.35 in c:\\programdata\\miniforge3\\lib\\site-packages (from tensorflow) (0.37.0)\n",
      "Requirement already satisfied: typing-extensions~=3.7.4 in c:\\programdata\\miniforge3\\lib\\site-packages (from tensorflow) (3.7.4.3)\n",
      "Requirement already satisfied: grpcio<2.0,>=1.37.0 in c:\\programdata\\miniforge3\\lib\\site-packages (from tensorflow) (1.41.0)\n",
      "Requirement already satisfied: keras~=2.6 in c:\\programdata\\miniforge3\\lib\\site-packages (from tensorflow) (2.6.0)\n",
      "Requirement already satisfied: six~=1.15.0 in c:\\programdata\\miniforge3\\lib\\site-packages (from tensorflow) (1.15.0)\n",
      "Requirement already satisfied: google-auth-oauthlib<0.5,>=0.4.1 in c:\\programdata\\miniforge3\\lib\\site-packages (from tensorboard~=2.6->tensorflow) (0.4.6)\n",
      "Requirement already satisfied: tensorboard-data-server<0.7.0,>=0.6.0 in c:\\programdata\\miniforge3\\lib\\site-packages (from tensorboard~=2.6->tensorflow) (0.6.1)\n",
      "Requirement already satisfied: tensorboard-plugin-wit>=1.6.0 in c:\\programdata\\miniforge3\\lib\\site-packages (from tensorboard~=2.6->tensorflow) (1.8.0)\n",
      "Requirement already satisfied: werkzeug>=0.11.15 in c:\\programdata\\miniforge3\\lib\\site-packages (from tensorboard~=2.6->tensorflow) (2.0.2)\n",
      "Requirement already satisfied: google-auth<2,>=1.6.3 in c:\\programdata\\miniforge3\\lib\\site-packages (from tensorboard~=2.6->tensorflow) (1.35.0)\n",
      "Requirement already satisfied: requests<3,>=2.21.0 in c:\\programdata\\miniforge3\\lib\\site-packages (from tensorboard~=2.6->tensorflow) (2.26.0)\n",
      "Requirement already satisfied: markdown>=2.6.8 in c:\\programdata\\miniforge3\\lib\\site-packages (from tensorboard~=2.6->tensorflow) (3.3.4)\n",
      "Requirement already satisfied: setuptools>=41.0.0 in c:\\programdata\\miniforge3\\lib\\site-packages (from tensorboard~=2.6->tensorflow) (58.0.4)\n",
      "Requirement already satisfied: cachetools<5.0,>=2.0.0 in c:\\programdata\\miniforge3\\lib\\site-packages (from google-auth<2,>=1.6.3->tensorboard~=2.6->tensorflow) (4.2.4)\n",
      "Requirement already satisfied: pyasn1-modules>=0.2.1 in c:\\programdata\\miniforge3\\lib\\site-packages (from google-auth<2,>=1.6.3->tensorboard~=2.6->tensorflow) (0.2.8)\n",
      "Requirement already satisfied: rsa<5,>=3.1.4 in c:\\programdata\\miniforge3\\lib\\site-packages (from google-auth<2,>=1.6.3->tensorboard~=2.6->tensorflow) (4.7.2)\n",
      "Requirement already satisfied: requests-oauthlib>=0.7.0 in c:\\programdata\\miniforge3\\lib\\site-packages (from google-auth-oauthlib<0.5,>=0.4.1->tensorboard~=2.6->tensorflow) (1.3.0)\n",
      "Requirement already satisfied: urllib3<1.27,>=1.21.1 in c:\\programdata\\miniforge3\\lib\\site-packages (from requests<3,>=2.21.0->tensorboard~=2.6->tensorflow) (1.26.7)\n",
      "Requirement already satisfied: certifi>=2017.4.17 in c:\\programdata\\miniforge3\\lib\\site-packages (from requests<3,>=2.21.0->tensorboard~=2.6->tensorflow) (2021.10.8)\n",
      "Requirement already satisfied: idna<4,>=2.5 in c:\\programdata\\miniforge3\\lib\\site-packages (from requests<3,>=2.21.0->tensorboard~=2.6->tensorflow) (3.1)\n",
      "Requirement already satisfied: charset-normalizer~=2.0.0 in c:\\programdata\\miniforge3\\lib\\site-packages (from requests<3,>=2.21.0->tensorboard~=2.6->tensorflow) (2.0.0)\n",
      "Requirement already satisfied: pyasn1<0.5.0,>=0.4.6 in c:\\programdata\\miniforge3\\lib\\site-packages (from pyasn1-modules>=0.2.1->google-auth<2,>=1.6.3->tensorboard~=2.6->tensorflow) (0.4.8)\n",
      "Requirement already satisfied: oauthlib>=3.0.0 in c:\\programdata\\miniforge3\\lib\\site-packages (from requests-oauthlib>=0.7.0->google-auth-oauthlib<0.5,>=0.4.1->tensorboard~=2.6->tensorflow) (3.1.1)\n",
      "Requirement already satisfied: gym in c:\\programdata\\miniforge3\\lib\\site-packages (0.21.0)\n",
      "Requirement already satisfied: cloudpickle>=1.2.0 in c:\\programdata\\miniforge3\\lib\\site-packages (from gym) (2.0.0)\n",
      "Requirement already satisfied: numpy>=1.18.0 in c:\\programdata\\miniforge3\\lib\\site-packages (from gym) (1.19.5)\n",
      "Requirement already satisfied: gym[atari] in c:\\programdata\\miniforge3\\lib\\site-packages (0.21.0)\n",
      "Requirement already satisfied: numpy>=1.18.0 in c:\\programdata\\miniforge3\\lib\\site-packages (from gym[atari]) (1.19.5)\n",
      "Requirement already satisfied: cloudpickle>=1.2.0 in c:\\programdata\\miniforge3\\lib\\site-packages (from gym[atari]) (2.0.0)\n",
      "Requirement already satisfied: ale-py~=0.7.1 in c:\\programdata\\miniforge3\\lib\\site-packages (from gym[atari]) (0.7.2)\n",
      "Requirement already satisfied: importlib-resources in c:\\programdata\\miniforge3\\lib\\site-packages (from ale-py~=0.7.1->gym[atari]) (5.2.2)\n",
      "Requirement already satisfied: zipp>=3.1.0 in c:\\programdata\\miniforge3\\lib\\site-packages (from importlib-resources->ale-py~=0.7.1->gym[atari]) (3.6.0)\n",
      "Requirement already satisfied: kaggle in c:\\programdata\\miniforge3\\lib\\site-packages (1.5.12)\n",
      "Requirement already satisfied: python-dateutil in c:\\programdata\\miniforge3\\lib\\site-packages (from kaggle) (2.8.2)\n",
      "Requirement already satisfied: python-slugify in c:\\programdata\\miniforge3\\lib\\site-packages (from kaggle) (5.0.2)\n",
      "Requirement already satisfied: certifi in c:\\programdata\\miniforge3\\lib\\site-packages (from kaggle) (2021.10.8)\n",
      "Requirement already satisfied: requests in c:\\programdata\\miniforge3\\lib\\site-packages (from kaggle) (2.26.0)\n",
      "Requirement already satisfied: urllib3 in c:\\programdata\\miniforge3\\lib\\site-packages (from kaggle) (1.26.7)\n",
      "Requirement already satisfied: tqdm in c:\\programdata\\miniforge3\\lib\\site-packages (from kaggle) (4.62.3)\n",
      "Requirement already satisfied: six>=1.10 in c:\\programdata\\miniforge3\\lib\\site-packages (from kaggle) (1.15.0)\n",
      "Requirement already satisfied: text-unidecode>=1.3 in c:\\programdata\\miniforge3\\lib\\site-packages (from python-slugify->kaggle) (1.3)\n",
      "Requirement already satisfied: charset-normalizer~=2.0.0 in c:\\programdata\\miniforge3\\lib\\site-packages (from requests->kaggle) (2.0.0)\n",
      "Requirement already satisfied: idna<4,>=2.5 in c:\\programdata\\miniforge3\\lib\\site-packages (from requests->kaggle) (3.1)\n",
      "Requirement already satisfied: colorama in c:\\programdata\\miniforge3\\lib\\site-packages (from tqdm->kaggle) (0.4.4)\n"
     ]
    }
   ],
   "source": [
    "!{sys.executable} -m pip install -U tensorflow\n",
    "!{sys.executable} -m pip install -U gym\n",
    "!{sys.executable} -m pip install -U gym[atari]\n",
    "!{sys.executable} -m pip install -U kaggle\n",
    "!{sys.executable} -m pip install -U keras-rl2\n",
    "!{sys.executable} -m pip install -U pandas\n",
    "!{sys.executable} -m pip install -U sklearn\n",
    "!{sys.executable} -m pip install -U tensorforce\n",
    "!{sys.executable} -m pip install -U imageio\n",
    "!{sys.executable} -m pip install -U pip install tqdm"
   ]
  },
  {
   "cell_type": "code",
   "execution_count": null,
   "metadata": {},
   "outputs": [
    {
     "name": "stdout",
     "output_type": "stream",
     "text": [
      "Tensor Flow Version: 2.6.0\n",
      "Tensorforce Version: 0.6.5\n",
      "Keras Version: 2.6.0\n",
      "\n",
      "Python 3.9.7 | packaged by conda-forge | (default, Sep 23 2021, 07:24:41) [MSC v.1916 64 bit (AMD64)]\n",
      "Pandas 1.3.3\n",
      "Scikit-Learn 1.0\n",
      "\n",
      "1 GPU(s) available.\n"
     ]
    }
   ],
   "source": [
    "import sys\n",
    "import tensorflow.keras\n",
    "import pandas as pd\n",
    "import sklearn as sk\n",
    "import tensorflow as tf\n",
    "import tensorforce as tsfrc\n",
    "\n",
    "print(f'Tensor Flow Version: {tf.__version__}')\n",
    "print(f'Tensorforce Version: {tsfrc.__version__}')\n",
    "print(f'Keras Version: {tensorflow.keras.__version__}')\n",
    "print()\n",
    "print(f'Python {sys.version}')\n",
    "print(f'Pandas {pd.__version__}')\n",
    "print(f'Scikit-Learn {sk.__version__}')\n",
    "print()\n",
    "\n",
    "gpus = len(tf.config.list_physical_devices('GPU'))\n",
    "\n",
    "if gpus > 0:\n",
    "    print(f'{gpus} GPU(s) available.')\n",
    "else:\n",
    "    print('Using CPU.')"
   ]
  },
  {
   "cell_type": "code",
   "execution_count": null,
   "metadata": {},
   "outputs": [
    {
     "name": "stdout",
     "output_type": "stream",
     "text": [
      "Fri Oct 15 20:21:26 2021       \n",
      "+-----------------------------------------------------------------------------+\n",
      "| NVIDIA-SMI 472.12       Driver Version: 472.12       CUDA Version: 11.4     |\n",
      "|-------------------------------+----------------------+----------------------+\n",
      "| GPU  Name            TCC/WDDM | Bus-Id        Disp.A | Volatile Uncorr. ECC |\n",
      "| Fan  Temp  Perf  Pwr:Usage/Cap|         Memory-Usage | GPU-Util  Compute M. |\n",
      "|                               |                      |               MIG M. |\n",
      "|===============================+======================+======================|\n",
      "|   0  NVIDIA GeForce ... WDDM  | 00000000:01:00.0 Off |                  N/A |\n",
      "| N/A   50C    P0    26W /  N/A |   3840MiB /  6144MiB |      2%      Default |\n",
      "|                               |                      |                  N/A |\n",
      "+-------------------------------+----------------------+----------------------+\n",
      "                                                                               \n",
      "+-----------------------------------------------------------------------------+\n",
      "| Processes:                                                                  |\n",
      "|  GPU   GI   CI        PID   Type   Process name                  GPU Memory |\n",
      "|        ID   ID                                                   Usage      |\n",
      "|=============================================================================|\n",
      "|    0   N/A  N/A      9964    C+G   ...ge\\Application\\msedge.exe    N/A      |\n",
      "|    0   N/A  N/A     29300      C   ...ata\\miniforge3\\python.exe    N/A      |\n",
      "+-----------------------------------------------------------------------------+\n"
     ]
    }
   ],
   "source": [
    "!nvidia-smi"
   ]
  },
  {
   "cell_type": "code",
   "execution_count": null,
   "metadata": {},
   "outputs": [],
   "source": []
  }
 ],
 "metadata": {
  "interpreter": {
   "hash": "57baa5815c940fdaff4d14510622de9616cae602444507ba5d0b6727c008cbd6"
  },
  "kernelspec": {
   "display_name": "Python 3.9 (Tensorflow)",
   "language": "python",
   "name": "tensorflow-gpu"
  }
 },
 "nbformat": 4,
 "nbformat_minor": 2
}
